{
  "cells": [
    {
      "cell_type": "markdown",
      "source": [
        "# Создание дашборда по пользовательским событиям для агрегатора новостей"
      ],
      "metadata": {
        "id": "mjwb5qxAQB7E"
      },
      "id": "mjwb5qxAQB7E"
    },
    {
      "cell_type": "markdown",
      "source": [
        "# Открытие данных"
      ],
      "metadata": {
        "id": "bBU7fjXoO-tm"
      },
      "id": "bBU7fjXoO-tm"
    },
    {
      "cell_type": "markdown",
      "source": [
        "## Конфигурация для подключения к базе данных `dash_visits`"
      ],
      "metadata": {
        "id": "BvY7dbBAPS-j"
      },
      "id": "BvY7dbBAPS-j"
    },
    {
      "cell_type": "markdown",
      "id": "908b3cf8",
      "metadata": {
        "id": "908b3cf8"
      },
      "source": [
        "Выполним подключение к базе данных и выведем таблицу `dash_visits`:"
      ]
    },
    {
      "cell_type": "code",
      "execution_count": null,
      "id": "57d2e638",
      "metadata": {
        "id": "57d2e638"
      },
      "outputs": [],
      "source": [
        "# импортируем библиотеки\n",
        "import pandas as pd\n",
        "from sqlalchemy import create_engine\n",
        "\n",
        "db_config = {'user': '****', # имя пользователя\n",
        "            'pwd': '****', # пароль\n",
        "            'host': '****',\n",
        "            'port': 6432, # порт подключения\n",
        "            'db': 'data-analyst-zen-project-db'} # название базы данных\n",
        "\n",
        "connection_string = 'postgresql://{}:{}@{}:{}/{}'.format(db_config['user'],\n",
        "                                                db_config['pwd'],\n",
        "                                                db_config['host'],\n",
        "                                                db_config['port'],\n",
        "                                                db_config['db'])\n",
        "\n",
        "engine = create_engine(connection_string)"
      ]
    },
    {
      "cell_type": "markdown",
      "source": [
        "## Запрос данных"
      ],
      "metadata": {
        "id": "IqkVUzQ2PnDt"
      },
      "id": "IqkVUzQ2PnDt"
    },
    {
      "cell_type": "markdown",
      "id": "d73d2458",
      "metadata": {
        "id": "d73d2458"
      },
      "source": [
        "Составим запрос, в котором мы запросим все данные."
      ]
    },
    {
      "cell_type": "code",
      "execution_count": null,
      "id": "e0baa798",
      "metadata": {
        "id": "e0baa798"
      },
      "outputs": [],
      "source": [
        "query = ''' SELECT *\n",
        "            FROM dash_visits\n",
        "        '''"
      ]
    },
    {
      "cell_type": "code",
      "execution_count": null,
      "id": "e8b368d1",
      "metadata": {
        "id": "e8b368d1",
        "outputId": "e50ec330-b5a3-4a44-9aec-5684cebeb6a9"
      },
      "outputs": [
        {
          "data": {
            "text/html": [
              "<div>\n",
              "<style scoped>\n",
              "    .dataframe tbody tr th:only-of-type {\n",
              "        vertical-align: middle;\n",
              "    }\n",
              "\n",
              "    .dataframe tbody tr th {\n",
              "        vertical-align: top;\n",
              "    }\n",
              "\n",
              "    .dataframe thead th {\n",
              "        text-align: right;\n",
              "    }\n",
              "</style>\n",
              "<table border=\"1\" class=\"dataframe\">\n",
              "  <thead>\n",
              "    <tr style=\"text-align: right;\">\n",
              "      <th></th>\n",
              "      <th>record_id</th>\n",
              "      <th>item_topic</th>\n",
              "      <th>source_topic</th>\n",
              "      <th>age_segment</th>\n",
              "      <th>dt</th>\n",
              "      <th>visits</th>\n",
              "    </tr>\n",
              "  </thead>\n",
              "  <tbody>\n",
              "    <tr>\n",
              "      <th>0</th>\n",
              "      <td>1040597</td>\n",
              "      <td>Деньги</td>\n",
              "      <td>Авто</td>\n",
              "      <td>18-25</td>\n",
              "      <td>2019-09-24 18:32:00</td>\n",
              "      <td>3</td>\n",
              "    </tr>\n",
              "    <tr>\n",
              "      <th>1</th>\n",
              "      <td>1040598</td>\n",
              "      <td>Деньги</td>\n",
              "      <td>Авто</td>\n",
              "      <td>18-25</td>\n",
              "      <td>2019-09-24 18:35:00</td>\n",
              "      <td>1</td>\n",
              "    </tr>\n",
              "    <tr>\n",
              "      <th>2</th>\n",
              "      <td>1040599</td>\n",
              "      <td>Деньги</td>\n",
              "      <td>Авто</td>\n",
              "      <td>18-25</td>\n",
              "      <td>2019-09-24 18:54:00</td>\n",
              "      <td>4</td>\n",
              "    </tr>\n",
              "    <tr>\n",
              "      <th>3</th>\n",
              "      <td>1040600</td>\n",
              "      <td>Деньги</td>\n",
              "      <td>Авто</td>\n",
              "      <td>18-25</td>\n",
              "      <td>2019-09-24 18:55:00</td>\n",
              "      <td>17</td>\n",
              "    </tr>\n",
              "    <tr>\n",
              "      <th>4</th>\n",
              "      <td>1040601</td>\n",
              "      <td>Деньги</td>\n",
              "      <td>Авто</td>\n",
              "      <td>18-25</td>\n",
              "      <td>2019-09-24 18:56:00</td>\n",
              "      <td>27</td>\n",
              "    </tr>\n",
              "    <tr>\n",
              "      <th>...</th>\n",
              "      <td>...</td>\n",
              "      <td>...</td>\n",
              "      <td>...</td>\n",
              "      <td>...</td>\n",
              "      <td>...</td>\n",
              "      <td>...</td>\n",
              "    </tr>\n",
              "    <tr>\n",
              "      <th>30740</th>\n",
              "      <td>1071337</td>\n",
              "      <td>Юмор</td>\n",
              "      <td>Финансы</td>\n",
              "      <td>36-40</td>\n",
              "      <td>2019-09-24 18:57:00</td>\n",
              "      <td>2</td>\n",
              "    </tr>\n",
              "    <tr>\n",
              "      <th>30741</th>\n",
              "      <td>1071338</td>\n",
              "      <td>Юмор</td>\n",
              "      <td>Финансы</td>\n",
              "      <td>36-40</td>\n",
              "      <td>2019-09-24 19:00:00</td>\n",
              "      <td>1</td>\n",
              "    </tr>\n",
              "    <tr>\n",
              "      <th>30742</th>\n",
              "      <td>1071339</td>\n",
              "      <td>Юмор</td>\n",
              "      <td>Финансы</td>\n",
              "      <td>41-45</td>\n",
              "      <td>2019-09-24 18:54:00</td>\n",
              "      <td>1</td>\n",
              "    </tr>\n",
              "    <tr>\n",
              "      <th>30743</th>\n",
              "      <td>1071340</td>\n",
              "      <td>Юмор</td>\n",
              "      <td>Финансы</td>\n",
              "      <td>41-45</td>\n",
              "      <td>2019-09-24 18:56:00</td>\n",
              "      <td>1</td>\n",
              "    </tr>\n",
              "    <tr>\n",
              "      <th>30744</th>\n",
              "      <td>1071341</td>\n",
              "      <td>Юмор</td>\n",
              "      <td>Финансы</td>\n",
              "      <td>41-45</td>\n",
              "      <td>2019-09-24 19:00:00</td>\n",
              "      <td>1</td>\n",
              "    </tr>\n",
              "  </tbody>\n",
              "</table>\n",
              "<p>30745 rows × 6 columns</p>\n",
              "</div>"
            ],
            "text/plain": [
              "       record_id item_topic source_topic age_segment                  dt  \\\n",
              "0        1040597     Деньги         Авто       18-25 2019-09-24 18:32:00   \n",
              "1        1040598     Деньги         Авто       18-25 2019-09-24 18:35:00   \n",
              "2        1040599     Деньги         Авто       18-25 2019-09-24 18:54:00   \n",
              "3        1040600     Деньги         Авто       18-25 2019-09-24 18:55:00   \n",
              "4        1040601     Деньги         Авто       18-25 2019-09-24 18:56:00   \n",
              "...          ...        ...          ...         ...                 ...   \n",
              "30740    1071337       Юмор      Финансы       36-40 2019-09-24 18:57:00   \n",
              "30741    1071338       Юмор      Финансы       36-40 2019-09-24 19:00:00   \n",
              "30742    1071339       Юмор      Финансы       41-45 2019-09-24 18:54:00   \n",
              "30743    1071340       Юмор      Финансы       41-45 2019-09-24 18:56:00   \n",
              "30744    1071341       Юмор      Финансы       41-45 2019-09-24 19:00:00   \n",
              "\n",
              "       visits  \n",
              "0           3  \n",
              "1           1  \n",
              "2           4  \n",
              "3          17  \n",
              "4          27  \n",
              "...       ...  \n",
              "30740       2  \n",
              "30741       1  \n",
              "30742       1  \n",
              "30743       1  \n",
              "30744       1  \n",
              "\n",
              "[30745 rows x 6 columns]"
            ]
          },
          "execution_count": 3,
          "metadata": {},
          "output_type": "execute_result"
        }
      ],
      "source": [
        "data = pd.io.sql.read_sql(query, con = engine)\n",
        "data"
      ]
    },
    {
      "cell_type": "markdown",
      "source": [
        "## Импорт данных"
      ],
      "metadata": {
        "id": "cwJcMts_PuVL"
      },
      "id": "cwJcMts_PuVL"
    },
    {
      "cell_type": "markdown",
      "id": "4e786fc9",
      "metadata": {
        "id": "4e786fc9"
      },
      "source": [
        "Запишем таблицу в `csv` файл, который мы потом сохраним для работы в `Tableau`."
      ]
    },
    {
      "cell_type": "code",
      "execution_count": null,
      "id": "af2ea69a",
      "metadata": {
        "id": "af2ea69a"
      },
      "outputs": [],
      "source": [
        "data.to_csv('dash_visits.csv', index=False, encoding='utf-8')"
      ]
    },
    {
      "cell_type": "code",
      "execution_count": null,
      "id": "6052732f",
      "metadata": {
        "id": "6052732f",
        "outputId": "edb739b6-802f-41c3-b368-aba334949e98"
      },
      "outputs": [
        {
          "data": {
            "text/html": [
              "<div>\n",
              "<style scoped>\n",
              "    .dataframe tbody tr th:only-of-type {\n",
              "        vertical-align: middle;\n",
              "    }\n",
              "\n",
              "    .dataframe tbody tr th {\n",
              "        vertical-align: top;\n",
              "    }\n",
              "\n",
              "    .dataframe thead th {\n",
              "        text-align: right;\n",
              "    }\n",
              "</style>\n",
              "<table border=\"1\" class=\"dataframe\">\n",
              "  <thead>\n",
              "    <tr style=\"text-align: right;\">\n",
              "      <th></th>\n",
              "      <th>record_id</th>\n",
              "      <th>item_topic</th>\n",
              "      <th>source_topic</th>\n",
              "      <th>age_segment</th>\n",
              "      <th>dt</th>\n",
              "      <th>visits</th>\n",
              "    </tr>\n",
              "  </thead>\n",
              "  <tbody>\n",
              "    <tr>\n",
              "      <th>0</th>\n",
              "      <td>1040597</td>\n",
              "      <td>Деньги</td>\n",
              "      <td>Авто</td>\n",
              "      <td>18-25</td>\n",
              "      <td>2019-09-24 18:32:00</td>\n",
              "      <td>3</td>\n",
              "    </tr>\n",
              "    <tr>\n",
              "      <th>1</th>\n",
              "      <td>1040598</td>\n",
              "      <td>Деньги</td>\n",
              "      <td>Авто</td>\n",
              "      <td>18-25</td>\n",
              "      <td>2019-09-24 18:35:00</td>\n",
              "      <td>1</td>\n",
              "    </tr>\n",
              "    <tr>\n",
              "      <th>2</th>\n",
              "      <td>1040599</td>\n",
              "      <td>Деньги</td>\n",
              "      <td>Авто</td>\n",
              "      <td>18-25</td>\n",
              "      <td>2019-09-24 18:54:00</td>\n",
              "      <td>4</td>\n",
              "    </tr>\n",
              "    <tr>\n",
              "      <th>3</th>\n",
              "      <td>1040600</td>\n",
              "      <td>Деньги</td>\n",
              "      <td>Авто</td>\n",
              "      <td>18-25</td>\n",
              "      <td>2019-09-24 18:55:00</td>\n",
              "      <td>17</td>\n",
              "    </tr>\n",
              "    <tr>\n",
              "      <th>4</th>\n",
              "      <td>1040601</td>\n",
              "      <td>Деньги</td>\n",
              "      <td>Авто</td>\n",
              "      <td>18-25</td>\n",
              "      <td>2019-09-24 18:56:00</td>\n",
              "      <td>27</td>\n",
              "    </tr>\n",
              "    <tr>\n",
              "      <th>...</th>\n",
              "      <td>...</td>\n",
              "      <td>...</td>\n",
              "      <td>...</td>\n",
              "      <td>...</td>\n",
              "      <td>...</td>\n",
              "      <td>...</td>\n",
              "    </tr>\n",
              "    <tr>\n",
              "      <th>30740</th>\n",
              "      <td>1071337</td>\n",
              "      <td>Юмор</td>\n",
              "      <td>Финансы</td>\n",
              "      <td>36-40</td>\n",
              "      <td>2019-09-24 18:57:00</td>\n",
              "      <td>2</td>\n",
              "    </tr>\n",
              "    <tr>\n",
              "      <th>30741</th>\n",
              "      <td>1071338</td>\n",
              "      <td>Юмор</td>\n",
              "      <td>Финансы</td>\n",
              "      <td>36-40</td>\n",
              "      <td>2019-09-24 19:00:00</td>\n",
              "      <td>1</td>\n",
              "    </tr>\n",
              "    <tr>\n",
              "      <th>30742</th>\n",
              "      <td>1071339</td>\n",
              "      <td>Юмор</td>\n",
              "      <td>Финансы</td>\n",
              "      <td>41-45</td>\n",
              "      <td>2019-09-24 18:54:00</td>\n",
              "      <td>1</td>\n",
              "    </tr>\n",
              "    <tr>\n",
              "      <th>30743</th>\n",
              "      <td>1071340</td>\n",
              "      <td>Юмор</td>\n",
              "      <td>Финансы</td>\n",
              "      <td>41-45</td>\n",
              "      <td>2019-09-24 18:56:00</td>\n",
              "      <td>1</td>\n",
              "    </tr>\n",
              "    <tr>\n",
              "      <th>30744</th>\n",
              "      <td>1071341</td>\n",
              "      <td>Юмор</td>\n",
              "      <td>Финансы</td>\n",
              "      <td>41-45</td>\n",
              "      <td>2019-09-24 19:00:00</td>\n",
              "      <td>1</td>\n",
              "    </tr>\n",
              "  </tbody>\n",
              "</table>\n",
              "<p>30745 rows × 6 columns</p>\n",
              "</div>"
            ],
            "text/plain": [
              "       record_id item_topic source_topic age_segment                   dt  \\\n",
              "0        1040597     Деньги         Авто       18-25  2019-09-24 18:32:00   \n",
              "1        1040598     Деньги         Авто       18-25  2019-09-24 18:35:00   \n",
              "2        1040599     Деньги         Авто       18-25  2019-09-24 18:54:00   \n",
              "3        1040600     Деньги         Авто       18-25  2019-09-24 18:55:00   \n",
              "4        1040601     Деньги         Авто       18-25  2019-09-24 18:56:00   \n",
              "...          ...        ...          ...         ...                  ...   \n",
              "30740    1071337       Юмор      Финансы       36-40  2019-09-24 18:57:00   \n",
              "30741    1071338       Юмор      Финансы       36-40  2019-09-24 19:00:00   \n",
              "30742    1071339       Юмор      Финансы       41-45  2019-09-24 18:54:00   \n",
              "30743    1071340       Юмор      Финансы       41-45  2019-09-24 18:56:00   \n",
              "30744    1071341       Юмор      Финансы       41-45  2019-09-24 19:00:00   \n",
              "\n",
              "       visits  \n",
              "0           3  \n",
              "1           1  \n",
              "2           4  \n",
              "3          17  \n",
              "4          27  \n",
              "...       ...  \n",
              "30740       2  \n",
              "30741       1  \n",
              "30742       1  \n",
              "30743       1  \n",
              "30744       1  \n",
              "\n",
              "[30745 rows x 6 columns]"
            ]
          },
          "execution_count": 5,
          "metadata": {},
          "output_type": "execute_result"
        }
      ],
      "source": [
        "pd.read_csv('dash_visits.csv')"
      ]
    },
    {
      "cell_type": "markdown",
      "source": [
        "# Анализ взаимодействия пользователей с карточками Яндекс.Дзен\n",
        "\n"
      ],
      "metadata": {
        "id": "2GiL019dO3_w"
      },
      "id": "2GiL019dO3_w"
    },
    {
      "cell_type": "markdown",
      "source": [
        "<a href=\"https://disk.yandex.ru/i/rO1uIU411vmrog\">Презентация</a>\n",
        "\n",
        "<a href=\"https://public.tableau.com/app/profile/vladimir5162/viz/dzen_yandex_dashboard/DzenDashboard\">Дашборд</a>"
      ],
      "metadata": {
        "id": "_SwZq1ZbQ_zI"
      },
      "id": "_SwZq1ZbQ_zI"
    },
    {
      "cell_type": "markdown",
      "source": [
        "# Результаты исследования"
      ],
      "metadata": {
        "id": "nhhXH4yCRlbg"
      },
      "id": "nhhXH4yCRlbg"
    },
    {
      "cell_type": "markdown",
      "source": [
        "1. Количество посещений достигает 60 000 посещений в исследуемом периоде. Лидируют темы: наука, отношения, интересные факты, общество, подборки.\n",
        "2. Наибольшая доля событий приходится на тему «Семейные отношения» – 10,74%.\n",
        "3. Самая популярная связка тем – путешествия и рассказы, чуть наименее популярные связки включают: Россия и общество, кино и наука."
      ],
      "metadata": {
        "id": "VQy7uXfiRoy0"
      },
      "id": "VQy7uXfiRoy0"
    }
  ],
  "metadata": {
    "ExecuteTimeLog": [
      {
        "duration": 5771,
        "start_time": "2023-03-19T00:43:07.777Z"
      },
      {
        "duration": 3,
        "start_time": "2023-03-19T00:45:27.936Z"
      },
      {
        "duration": 383,
        "start_time": "2023-03-19T00:45:40.713Z"
      },
      {
        "duration": 5789,
        "start_time": "2023-03-19T00:46:10.224Z"
      },
      {
        "duration": 2,
        "start_time": "2023-03-19T00:46:16.015Z"
      },
      {
        "duration": 398,
        "start_time": "2023-03-19T00:46:16.019Z"
      },
      {
        "duration": 2,
        "start_time": "2023-03-19T00:46:32.913Z"
      },
      {
        "duration": 303,
        "start_time": "2023-03-19T00:46:34.766Z"
      },
      {
        "duration": 303,
        "start_time": "2023-03-19T00:46:49.196Z"
      },
      {
        "duration": 5487,
        "start_time": "2023-03-19T00:48:32.915Z"
      },
      {
        "duration": 3,
        "start_time": "2023-03-19T00:48:38.404Z"
      },
      {
        "duration": 599,
        "start_time": "2023-03-19T00:48:38.408Z"
      },
      {
        "duration": 299,
        "start_time": "2023-03-19T00:48:39.009Z"
      },
      {
        "duration": 98,
        "start_time": "2023-03-19T00:48:39.310Z"
      }
    ],
    "kernelspec": {
      "display_name": "Python 3 (ipykernel)",
      "language": "python",
      "name": "python3"
    },
    "language_info": {
      "codemirror_mode": {
        "name": "ipython",
        "version": 3
      },
      "file_extension": ".py",
      "mimetype": "text/x-python",
      "name": "python",
      "nbconvert_exporter": "python",
      "pygments_lexer": "ipython3",
      "version": "3.9.5"
    },
    "toc": {
      "base_numbering": 1,
      "nav_menu": {},
      "number_sections": true,
      "sideBar": true,
      "skip_h1_title": true,
      "title_cell": "Table of Contents",
      "title_sidebar": "Contents",
      "toc_cell": false,
      "toc_position": {},
      "toc_section_display": true,
      "toc_window_display": false
    },
    "colab": {
      "provenance": []
    }
  },
  "nbformat": 4,
  "nbformat_minor": 5
}
