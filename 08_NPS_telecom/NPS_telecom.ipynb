{
  "cells": [
    {
      "cell_type": "markdown",
      "id": "e6a3cbd1",
      "metadata": {
        "id": "e6a3cbd1"
      },
      "source": [
        "# Исследование уровня потребительнской лояльности клиентов телекомунникационной компании"
      ]
    },
    {
      "cell_type": "markdown",
      "id": "67da65b6",
      "metadata": {
        "id": "67da65b6"
      },
      "source": [
        "# Описание и задачи исследования"
      ]
    },
    {
      "cell_type": "markdown",
      "id": "7efffe00",
      "metadata": {
        "id": "7efffe00"
      },
      "source": [
        "# Цель исследования"
      ]
    },
    {
      "cell_type": "markdown",
      "id": "644cc4df",
      "metadata": {
        "id": "644cc4df"
      },
      "source": [
        "Определить текущий уровень потребительской лояльности, или NPS (от англ. Net Promoter Score), среди клиентов из России."
      ]
    },
    {
      "cell_type": "markdown",
      "id": "e46cf5b5",
      "metadata": {
        "id": "e46cf5b5"
      },
      "source": [
        "# Источник данных"
      ]
    },
    {
      "cell_type": "markdown",
      "id": "44a3d0cd",
      "metadata": {
        "id": "44a3d0cd"
      },
      "source": [
        "Мы будем работать с данными на основе опроса проведенного телекоммуникационной компанией, которая оказывает услуги на территории всего СНГ."
      ]
    },
    {
      "cell_type": "markdown",
      "id": "15e0a417",
      "metadata": {
        "id": "15e0a417"
      },
      "source": [
        "# Задачи исследования"
      ]
    },
    {
      "cell_type": "markdown",
      "id": "52451b02",
      "metadata": {
        "id": "52451b02"
      },
      "source": [
        "1. Подключиться к базе, написать SQL-запрос и выгрузить данные.\n",
        "2. Подготовить дашборд в Tableau с итогами исследования.\n",
        "3. С помощью дашборда ответить на вопросы:\n",
        "    1. Как распределены участники опроса по возрасту, полу и возрасту? Каких пользователей больше: новых или старых? Пользователи из каких городов активнее участвовали в опросе?\n",
        "    2. Какие группы пользователей наиболее лояльны к сервису? Какие менее?\n",
        "    3. Какой общий NPS среди всех опрошенных?\n",
        "    4. Как можно описать клиентов, которые относятся к группе cторонников (англ. promoters)?"
      ]
    },
    {
      "cell_type": "markdown",
      "id": "8524ed67",
      "metadata": {
        "id": "8524ed67"
      },
      "source": [
        "Импортируем все необходимые нам библиотеки:"
      ]
    },
    {
      "cell_type": "code",
      "execution_count": null,
      "id": "fc7efa54",
      "metadata": {
        "id": "fc7efa54"
      },
      "outputs": [],
      "source": [
        "import os\n",
        "import pandas as pd\n",
        "import numpy as np\n",
        "\n",
        "from sqlalchemy import create_engine"
      ]
    },
    {
      "cell_type": "markdown",
      "id": "6276e42c",
      "metadata": {
        "id": "6276e42c"
      },
      "source": [
        "Выполним подключение к базе данных:"
      ]
    },
    {
      "cell_type": "code",
      "execution_count": null,
      "id": "0017f8e7",
      "metadata": {
        "id": "0017f8e7"
      },
      "outputs": [],
      "source": [
        "path_to_db_local = 'telecomm_csi.db'\n",
        "path_to_db_platform = '****'\n",
        "path_to_db = None\n",
        "\n",
        "if os.path.exists(path_to_db_local):\n",
        "    path_to_db = path_to_db_local\n",
        "elif os.path.exists(path_to_db_platform):\n",
        "    path_to_db = path_to_db_platform\n",
        "else:\n",
        "    raise Exception('Файл с базой данных SQLite не найден!')\n",
        "\n",
        "if path_to_db:\n",
        "    engine = create_engine(f'sqlite:///{path_to_db}', echo=False)"
      ]
    },
    {
      "cell_type": "markdown",
      "id": "c4df7024",
      "metadata": {
        "id": "c4df7024"
      },
      "source": [
        "Напишем SQL-запрос в соответсвии с необоходимыми требованиями, который извлечет следующие данные:\n",
        "\n",
        "`user_id` — идентификатор клиента;\n",
        "\n",
        "`lt_day` — количество дней «жизни» клиента;\n",
        "\n",
        "`is_new` — поле хранит информацию о том, является ли клиент новым;\n",
        "\n",
        "`age` — возраст;\n",
        "\n",
        "`gender_segment` — пол (для удобства работы с полем преобразуем значения в текстовый вид);\n",
        "\n",
        "`os_name` — тип операционной системы;\n",
        "\n",
        "`cpe_type_name` — тип устройства;\n",
        "\n",
        "`country` — страна проживания;\n",
        "\n",
        "`city` — город проживания;\n",
        "\n",
        "`age_segment` — возрастной сегмент;\n",
        "\n",
        "`traffic_segment` — сегмент по объёму потребляемого трафика;\n",
        "\n",
        "`lifetime_segment` — сегмент по количеству дней «жизни»;\n",
        "\n",
        "`nps_score` — оценка клиента в NPS-опросе;\n",
        "\n",
        "`nps_group` — поле хранит информацию о том, к какой группе относится оценка клиента в опросе."
      ]
    },
    {
      "cell_type": "code",
      "execution_count": null,
      "id": "84ebad43",
      "metadata": {
        "id": "84ebad43"
      },
      "outputs": [],
      "source": [
        "query = \"\"\"\n",
        "SELECT user_id,\n",
        "       lt_day,\n",
        "       case\n",
        "           when lt_day <= 365 then 'да'\n",
        "           when lt_day > 365 then 'нет'\n",
        "       end as is_new,\n",
        "       age,\n",
        "       case\n",
        "           when gender_segment = 1 then 'женщина'\n",
        "           when gender_segment = 0 then 'мужчина'\n",
        "           else 'неизвестный'\n",
        "       end as gender_segment,\n",
        "       os_name,\n",
        "       cpe_type_name,\n",
        "       country,\n",
        "       city,\n",
        "       a.title as age_segment,\n",
        "       ts.title as traffic_segment,\n",
        "       ls.title as lifetime_segment,\n",
        "       nps_score,\n",
        "       case\n",
        "           when nps_score >= 9 then 'cторонник'\n",
        "           when nps_score = 8 OR nps_score = 7 then 'нейтрал'\n",
        "           when nps_score <= 6 then 'критик'\n",
        "       end as nps_group\n",
        "FROM user\n",
        "INNER JOIN location AS l ON user.location_id = l.location_id\n",
        "INNER JOIN age_segment AS a ON user.age_gr_id = a.age_gr_id\n",
        "INNER JOIN traffic_segment AS ts ON user.tr_gr_id = ts.tr_gr_id\n",
        "INNER JOIN lifetime_segment AS ls ON user.lt_gr_id = ls.lt_gr_id\n",
        "\"\"\""
      ]
    },
    {
      "cell_type": "markdown",
      "id": "bceeeb46",
      "metadata": {
        "id": "bceeeb46"
      },
      "source": [
        "Создадим датафрейм и посмотрим на первые 3 строки:"
      ]
    },
    {
      "cell_type": "code",
      "execution_count": null,
      "id": "3965faf2",
      "metadata": {
        "id": "3965faf2",
        "outputId": "b080c9d5-275f-46b7-aa86-8fb9d4b741a5"
      },
      "outputs": [
        {
          "data": {
            "text/html": [
              "<div>\n",
              "<style scoped>\n",
              "    .dataframe tbody tr th:only-of-type {\n",
              "        vertical-align: middle;\n",
              "    }\n",
              "\n",
              "    .dataframe tbody tr th {\n",
              "        vertical-align: top;\n",
              "    }\n",
              "\n",
              "    .dataframe thead th {\n",
              "        text-align: right;\n",
              "    }\n",
              "</style>\n",
              "<table border=\"1\" class=\"dataframe\">\n",
              "  <thead>\n",
              "    <tr style=\"text-align: right;\">\n",
              "      <th></th>\n",
              "      <th>user_id</th>\n",
              "      <th>lt_day</th>\n",
              "      <th>is_new</th>\n",
              "      <th>age</th>\n",
              "      <th>gender_segment</th>\n",
              "      <th>os_name</th>\n",
              "      <th>cpe_type_name</th>\n",
              "      <th>country</th>\n",
              "      <th>city</th>\n",
              "      <th>age_segment</th>\n",
              "      <th>traffic_segment</th>\n",
              "      <th>lifetime_segment</th>\n",
              "      <th>nps_score</th>\n",
              "      <th>nps_group</th>\n",
              "    </tr>\n",
              "  </thead>\n",
              "  <tbody>\n",
              "    <tr>\n",
              "      <th>0</th>\n",
              "      <td>A001A2</td>\n",
              "      <td>2320</td>\n",
              "      <td>нет</td>\n",
              "      <td>45.0</td>\n",
              "      <td>женщина</td>\n",
              "      <td>ANDROID</td>\n",
              "      <td>SMARTPHONE</td>\n",
              "      <td>Россия</td>\n",
              "      <td>Уфа</td>\n",
              "      <td>05 45-54</td>\n",
              "      <td>04 1-5</td>\n",
              "      <td>08 36+</td>\n",
              "      <td>10</td>\n",
              "      <td>cторонник</td>\n",
              "    </tr>\n",
              "    <tr>\n",
              "      <th>1</th>\n",
              "      <td>A001WF</td>\n",
              "      <td>2344</td>\n",
              "      <td>нет</td>\n",
              "      <td>53.0</td>\n",
              "      <td>мужчина</td>\n",
              "      <td>ANDROID</td>\n",
              "      <td>SMARTPHONE</td>\n",
              "      <td>Россия</td>\n",
              "      <td>Киров</td>\n",
              "      <td>05 45-54</td>\n",
              "      <td>04 1-5</td>\n",
              "      <td>08 36+</td>\n",
              "      <td>10</td>\n",
              "      <td>cторонник</td>\n",
              "    </tr>\n",
              "    <tr>\n",
              "      <th>2</th>\n",
              "      <td>A003Q7</td>\n",
              "      <td>467</td>\n",
              "      <td>нет</td>\n",
              "      <td>57.0</td>\n",
              "      <td>мужчина</td>\n",
              "      <td>ANDROID</td>\n",
              "      <td>SMARTPHONE</td>\n",
              "      <td>Россия</td>\n",
              "      <td>Москва</td>\n",
              "      <td>06 55-64</td>\n",
              "      <td>08 20-25</td>\n",
              "      <td>06 13-24</td>\n",
              "      <td>10</td>\n",
              "      <td>cторонник</td>\n",
              "    </tr>\n",
              "  </tbody>\n",
              "</table>\n",
              "</div>"
            ],
            "text/plain": [
              "  user_id  lt_day is_new   age gender_segment  os_name cpe_type_name country  \\\n",
              "0  A001A2    2320    нет  45.0        женщина  ANDROID    SMARTPHONE  Россия   \n",
              "1  A001WF    2344    нет  53.0        мужчина  ANDROID    SMARTPHONE  Россия   \n",
              "2  A003Q7     467    нет  57.0        мужчина  ANDROID    SMARTPHONE  Россия   \n",
              "\n",
              "     city age_segment traffic_segment lifetime_segment  nps_score  nps_group  \n",
              "0     Уфа    05 45-54          04 1-5           08 36+         10  cторонник  \n",
              "1   Киров    05 45-54          04 1-5           08 36+         10  cторонник  \n",
              "2  Москва    06 55-64        08 20-25         06 13-24         10  cторонник  "
            ]
          },
          "execution_count": 4,
          "metadata": {},
          "output_type": "execute_result"
        }
      ],
      "source": [
        "df = pd.read_sql(query, engine)\n",
        "df.head(3)"
      ]
    },
    {
      "cell_type": "markdown",
      "id": "7ec83fc0",
      "metadata": {
        "id": "7ec83fc0"
      },
      "source": [
        "Импортируем таблицу в `csv` файл и сохраним его для создания дашборда."
      ]
    },
    {
      "cell_type": "code",
      "execution_count": null,
      "id": "8d68d5bc",
      "metadata": {
        "id": "8d68d5bc"
      },
      "outputs": [],
      "source": [
        "df.to_csv('telecomm_csi_tableau.csv', index=False)"
      ]
    },
    {
      "cell_type": "markdown",
      "id": "747912da",
      "metadata": {
        "id": "747912da"
      },
      "source": [
        "# Итоги исследования"
      ]
    },
    {
      "cell_type": "markdown",
      "id": "e2c6abd8",
      "metadata": {
        "id": "e2c6abd8"
      },
      "source": [
        "1. Больше всего клиентов находится в 3 (154 800) и 4 (165 933) сегментах. В каждом из этих сегментов примерно одинаковое соотношение женщин и мужчин, но общее число женщин больше – 272 442 чел. (54,22 %). Старых пользователей больше. По результатам опроса в топ-5 городов входят: Москва, Санкт-Петербург, Новосибирск, Екатеринбург и Казань.\n",
        "2. Самые лояльные клиенты проживают в Иваново, девушки в возрасте от 35 до 44 лет наиболее лояльны, относящиеся к старым клиентам. Менее лояльные клиенты живут в Воронеже, группы – это люди в возрасте от 25 до 34 лет, при этом в Москве и Санкт-Петербурге преобладают мужчины.\n",
        "3. Общий NPS среди всех опрошенных составил 21,9 %.\n",
        "4. К сторонникам относятся люди в возрасте от 35 до 44 лет, проживающие в Москве, чаще всего это мужчины."
      ]
    },
    {
      "cell_type": "markdown",
      "id": "3f7744fc",
      "metadata": {
        "id": "3f7744fc"
      },
      "source": [
        "[Дашборд](https://public.tableau.com/views/telecomm_csi_dash/cis_nps?:language=en-US&:display_count=n&:origin=viz_share_link)\n",
        "\n",
        "[Презентация](https://disk.yandex.ru/i/VxyVB5Qhh2VyLQ)"
      ]
    }
  ],
  "metadata": {
    "ExecuteTimeLog": [
      {
        "duration": 565,
        "start_time": "2023-03-23T03:03:24.528Z"
      },
      {
        "duration": 77,
        "start_time": "2023-03-23T03:03:25.095Z"
      },
      {
        "duration": 3,
        "start_time": "2023-03-23T03:03:25.174Z"
      },
      {
        "duration": 417,
        "start_time": "2023-03-23T03:03:25.178Z"
      },
      {
        "duration": 0,
        "start_time": "2023-03-23T03:03:25.597Z"
      },
      {
        "duration": 3,
        "start_time": "2023-03-23T03:05:50.473Z"
      },
      {
        "duration": 552,
        "start_time": "2023-03-23T03:06:02.620Z"
      },
      {
        "duration": 59,
        "start_time": "2023-03-23T03:06:03.174Z"
      },
      {
        "duration": 3,
        "start_time": "2023-03-23T03:06:03.235Z"
      },
      {
        "duration": 3886,
        "start_time": "2023-03-23T03:06:03.240Z"
      },
      {
        "duration": 2765,
        "start_time": "2023-03-23T03:06:07.128Z"
      },
      {
        "duration": 2,
        "start_time": "2023-03-23T03:07:57.810Z"
      },
      {
        "duration": 2343,
        "start_time": "2023-03-23T03:07:58.984Z"
      },
      {
        "duration": 3,
        "start_time": "2023-03-23T03:08:50.209Z"
      },
      {
        "duration": 617,
        "start_time": "2023-03-23T03:08:50.847Z"
      },
      {
        "duration": 3,
        "start_time": "2023-03-23T03:09:40.130Z"
      },
      {
        "duration": 551,
        "start_time": "2023-03-23T03:09:42.771Z"
      },
      {
        "duration": 4,
        "start_time": "2023-03-23T03:32:39.154Z"
      },
      {
        "duration": 584,
        "start_time": "2023-03-23T03:32:52.469Z"
      },
      {
        "duration": 63,
        "start_time": "2023-03-23T03:32:53.062Z"
      },
      {
        "duration": 3,
        "start_time": "2023-03-23T03:32:53.127Z"
      },
      {
        "duration": 6737,
        "start_time": "2023-03-23T03:32:53.131Z"
      },
      {
        "duration": 9,
        "start_time": "2023-03-23T17:25:20.248Z"
      },
      {
        "duration": 45,
        "start_time": "2023-03-23T17:25:21.641Z"
      },
      {
        "duration": 582,
        "start_time": "2023-03-23T17:25:32.564Z"
      },
      {
        "duration": 86,
        "start_time": "2023-03-23T17:25:33.151Z"
      },
      {
        "duration": 4,
        "start_time": "2023-03-23T17:25:33.240Z"
      },
      {
        "duration": 5651,
        "start_time": "2023-03-23T17:25:39.299Z"
      },
      {
        "duration": 4,
        "start_time": "2023-03-23T17:39:16.705Z"
      },
      {
        "duration": 5706,
        "start_time": "2023-03-23T17:39:17.948Z"
      },
      {
        "duration": 494,
        "start_time": "2023-03-23T17:55:47.677Z"
      },
      {
        "duration": 55,
        "start_time": "2023-03-23T17:55:48.173Z"
      },
      {
        "duration": 4,
        "start_time": "2023-03-23T17:55:48.229Z"
      },
      {
        "duration": 5821,
        "start_time": "2023-03-23T17:55:48.234Z"
      },
      {
        "duration": 4614,
        "start_time": "2023-03-23T17:55:54.057Z"
      },
      {
        "duration": 447,
        "start_time": "2023-03-28T04:44:52.534Z"
      },
      {
        "duration": 9,
        "start_time": "2023-03-28T04:44:52.984Z"
      },
      {
        "duration": 9,
        "start_time": "2023-03-28T04:44:52.994Z"
      },
      {
        "duration": 5503,
        "start_time": "2023-03-28T04:44:53.004Z"
      },
      {
        "duration": 4193,
        "start_time": "2023-03-28T04:44:58.509Z"
      },
      {
        "duration": 459,
        "start_time": "2023-03-29T04:22:16.904Z"
      },
      {
        "duration": 12,
        "start_time": "2023-03-29T04:22:17.364Z"
      },
      {
        "duration": 2,
        "start_time": "2023-03-29T04:22:17.378Z"
      },
      {
        "duration": 4386,
        "start_time": "2023-03-29T04:22:17.382Z"
      },
      {
        "duration": 3626,
        "start_time": "2023-03-29T04:22:21.770Z"
      }
    ],
    "kernelspec": {
      "display_name": "Python 3 (ipykernel)",
      "language": "python",
      "name": "python3"
    },
    "language_info": {
      "codemirror_mode": {
        "name": "ipython",
        "version": 3
      },
      "file_extension": ".py",
      "mimetype": "text/x-python",
      "name": "python",
      "nbconvert_exporter": "python",
      "pygments_lexer": "ipython3",
      "version": "3.9.5"
    },
    "toc": {
      "base_numbering": 1,
      "nav_menu": {},
      "number_sections": true,
      "sideBar": true,
      "skip_h1_title": true,
      "title_cell": "Table of Contents",
      "title_sidebar": "Contents",
      "toc_cell": false,
      "toc_position": {},
      "toc_section_display": true,
      "toc_window_display": false
    },
    "colab": {
      "provenance": []
    }
  },
  "nbformat": 4,
  "nbformat_minor": 5
}
