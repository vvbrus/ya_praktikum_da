{
  "cells": [
    {
      "cell_type": "markdown",
      "metadata": {
        "id": "sIfNaMOxgFyK"
      },
      "source": [
        "## Исследование данных о российском кинопрокате\n",
        "\n"
      ]
    },
    {
      "cell_type": "markdown",
      "metadata": {
        "id": "smpsRs6IbL0l"
      },
      "source": [
        "# Цель исследования"
      ]
    },
    {
      "cell_type": "markdown",
      "metadata": {
        "id": "YFNofMJibL0l"
      },
      "source": [
        "Нужно изучить рынок российского кинопроката и выявить текущие тренды. Уделите внимание фильмам, которые получили государственную поддержку. Попробуйте ответить на вопрос, насколько такие фильмы интересны зрителю."
      ]
    },
    {
      "cell_type": "markdown",
      "metadata": {
        "id": "TLBCvjkabL0l"
      },
      "source": [
        "# Источник данных"
      ]
    },
    {
      "cell_type": "markdown",
      "metadata": {
        "id": "p8oDLXzzbL0l"
      },
      "source": [
        "Мы будем работать с данными, опубликованными на портале открытых данных Министерства культуры. Набор данных содержит информацию о прокатных удостоверениях, сборах и государственной поддержке фильмов, а также информацию с сайта КиноПоиск."
      ]
    },
    {
      "cell_type": "markdown",
      "metadata": {
        "id": "lQLWliwfbL0m"
      },
      "source": [
        "# Задачи исследования"
      ]
    },
    {
      "cell_type": "markdown",
      "metadata": {
        "id": "q9N0junYbL0m"
      },
      "source": [
        "1. Посмотреть сколько фильмов выходило в прокат каждый год. Обратить внимание, что данные о прокате в кинотеатрах известны не для всех фильмов. Посчитать какую долю составляют фильмы с указанной информацией о прокате в кинотеатрах.\n",
        "\n",
        "2. Изучить как менялась динамика проката по годам. В каком году сумма сборов была минимальной? А максимальной?\n",
        "\n",
        "3. С помощью сводной таблицы посчитаем среднюю и медианную сумму сборов для каждого года.\n",
        "\n",
        "3. Определить влияет ли возрастное ограничение аудитории («6+», «12+», «16+», «18+» и т. д.) на сборы фильма в прокате в период с 2015 по 2019 год? Фильмы с каким возрастным ограничением собрали больше всего денег в прокате? Меняется ли картина в зависимости от года?\n",
        "\n",
        "3. Исследовать фильмы, которые получили государственную поддержку."
      ]
    },
    {
      "cell_type": "markdown",
      "metadata": {
        "id": "3bSlkCsbgFyL"
      },
      "source": [
        "# Обзор данных"
      ]
    },
    {
      "cell_type": "code",
      "execution_count": null,
      "metadata": {
        "id": "kVGSplJOgFyO"
      },
      "outputs": [],
      "source": [
        "import pandas as pd\n",
        "import numpy as np\n",
        "import matplotlib.pyplot as plt\n",
        "\n",
        "pd.options.mode.chained_assignment = None #предотвращение появление сообщения SettingWithCopyWarning\n",
        "pd.pandas.set_option('display.max_columns', None) #отобразим все колонки таблицы\n",
        "pd.options.display.float_format = '{:,.2f}'.format #округлим числовые значения до сотых, дабы избержать экспоненциального формата данных\n",
        "plt.rcParams[\"figure.figsize\"] = (12, 6)\n",
        "plt.rcParams[\"axes.formatter.limits\"] = (-99, 99) #disable scientific notation on axes"
      ]
    },
    {
      "cell_type": "code",
      "execution_count": null,
      "metadata": {
        "id": "DG0mE98AbL0o"
      },
      "outputs": [],
      "source": [
        "path = '/datasets/'\n",
        "web_path = '****'\n",
        "data_1 = 'mkrf_movies.csv'\n",
        "data_2 = 'mkrf_shows.csv'\n",
        "\n",
        "try:\n",
        "    raw_data_movies = pd.read_csv(path + data_1)\n",
        "    raw_data_shows = pd.read_csv(path + data_2)\n",
        "except:\n",
        "    raw_data_movies = pd.read_csv(web_path + data_1)\n",
        "    raw_data_shows = pd.read_csv(web_path + data_2)"
      ]
    },
    {
      "cell_type": "code",
      "execution_count": null,
      "metadata": {
        "scrolled": true,
        "id": "vj8bckfrbL0o",
        "outputId": "2c580171-ccf2-4350-c1d7-45eaaf1308d4",
        "colab": {
          "base_uri": "https://localhost:8080/",
          "height": 345
        }
      },
      "outputs": [
        {
          "output_type": "execute_result",
          "data": {
            "text/plain": [
              "                  title   puNumber           show_start_date            type  \\\n",
              "0      Открытый простор  221048915  2015-11-27T12:00:00.000Z  Художественный   \n",
              "1  Особо важное задание  111013716  2016-09-13T12:00:00.000Z  Художественный   \n",
              "2          Особо опасен  221038416  2016-10-10T12:00:00.000Z  Художественный   \n",
              "3          Особо опасен  221026916  2016-06-10T12:00:00.000Z  Художественный   \n",
              "4          Особо опасен  221030815  2015-07-29T12:00:00.000Z  Художественный   \n",
              "\n",
              "                                         film_studio production_country  \\\n",
              "0  Тачстоун Пикчерз, Кобальт Пикчерз, Бикон Пикче...                США   \n",
              "1                              Киностудия \"Мосфильм\"               СССР   \n",
              "2  Юниверсал Пикчерз, Кикстарт Продакшнз, Марк Пл...                США   \n",
              "3  Юниверсал Пикчерз, Кикстарт Продакшнз, Марк Пл...                США   \n",
              "4  Юниверсал Пикчерз, Кикстарт Продакшнз, Марк Пл...                США   \n",
              "\n",
              "            director                                           producer  \\\n",
              "0      Кевин Костнер          Дэвид Валдес, Кевин Костнер, Джейк Эбертс   \n",
              "1          Е.Матвеев                                                NaN   \n",
              "2  Тимур Бекмамбетов  Джим Лемли, Джейсон Нетер, Марк Е.Платт, Яйн Смит   \n",
              "3  Тимур Бекмамбетов  Джим Лемли, Джейсон Нетер, Марк Е.Платт, Яйн Смит   \n",
              "4  Тимур Бекмамбетов  Джим Лемли, Джейсон Нетер, Марк Е.Платт, Яйн Смит   \n",
              "\n",
              "                 age_restriction  refundable_support  nonrefundable_support  \\\n",
              "0    «18+» - запрещено для детей                 NaN                    NaN   \n",
              "1  «6+» - для детей старше 6 лет                 NaN                    NaN   \n",
              "2    «18+» - запрещено для детей                 NaN                    NaN   \n",
              "3    «18+» - запрещено для детей                 NaN                    NaN   \n",
              "4    «18+» - запрещено для детей                 NaN                    NaN   \n",
              "\n",
              "   budget financing_source ratings                     genres  \n",
              "0     NaN              NaN     7.2     боевик,драма,мелодрама  \n",
              "1     NaN              NaN     6.6              драма,военный  \n",
              "2     NaN              NaN     6.8  фантастика,боевик,триллер  \n",
              "3     NaN              NaN     6.8  фантастика,боевик,триллер  \n",
              "4     NaN              NaN     6.8  фантастика,боевик,триллер  "
            ],
            "text/html": [
              "\n",
              "  <div id=\"df-932633c8-c01c-4e1a-b514-6670eef3bab0\" class=\"colab-df-container\">\n",
              "    <div>\n",
              "<style scoped>\n",
              "    .dataframe tbody tr th:only-of-type {\n",
              "        vertical-align: middle;\n",
              "    }\n",
              "\n",
              "    .dataframe tbody tr th {\n",
              "        vertical-align: top;\n",
              "    }\n",
              "\n",
              "    .dataframe thead th {\n",
              "        text-align: right;\n",
              "    }\n",
              "</style>\n",
              "<table border=\"1\" class=\"dataframe\">\n",
              "  <thead>\n",
              "    <tr style=\"text-align: right;\">\n",
              "      <th></th>\n",
              "      <th>title</th>\n",
              "      <th>puNumber</th>\n",
              "      <th>show_start_date</th>\n",
              "      <th>type</th>\n",
              "      <th>film_studio</th>\n",
              "      <th>production_country</th>\n",
              "      <th>director</th>\n",
              "      <th>producer</th>\n",
              "      <th>age_restriction</th>\n",
              "      <th>refundable_support</th>\n",
              "      <th>nonrefundable_support</th>\n",
              "      <th>budget</th>\n",
              "      <th>financing_source</th>\n",
              "      <th>ratings</th>\n",
              "      <th>genres</th>\n",
              "    </tr>\n",
              "  </thead>\n",
              "  <tbody>\n",
              "    <tr>\n",
              "      <th>0</th>\n",
              "      <td>Открытый простор</td>\n",
              "      <td>221048915</td>\n",
              "      <td>2015-11-27T12:00:00.000Z</td>\n",
              "      <td>Художественный</td>\n",
              "      <td>Тачстоун Пикчерз, Кобальт Пикчерз, Бикон Пикче...</td>\n",
              "      <td>США</td>\n",
              "      <td>Кевин Костнер</td>\n",
              "      <td>Дэвид Валдес, Кевин Костнер, Джейк Эбертс</td>\n",
              "      <td>«18+» - запрещено для детей</td>\n",
              "      <td>NaN</td>\n",
              "      <td>NaN</td>\n",
              "      <td>NaN</td>\n",
              "      <td>NaN</td>\n",
              "      <td>7.2</td>\n",
              "      <td>боевик,драма,мелодрама</td>\n",
              "    </tr>\n",
              "    <tr>\n",
              "      <th>1</th>\n",
              "      <td>Особо важное задание</td>\n",
              "      <td>111013716</td>\n",
              "      <td>2016-09-13T12:00:00.000Z</td>\n",
              "      <td>Художественный</td>\n",
              "      <td>Киностудия \"Мосфильм\"</td>\n",
              "      <td>СССР</td>\n",
              "      <td>Е.Матвеев</td>\n",
              "      <td>NaN</td>\n",
              "      <td>«6+» - для детей старше 6 лет</td>\n",
              "      <td>NaN</td>\n",
              "      <td>NaN</td>\n",
              "      <td>NaN</td>\n",
              "      <td>NaN</td>\n",
              "      <td>6.6</td>\n",
              "      <td>драма,военный</td>\n",
              "    </tr>\n",
              "    <tr>\n",
              "      <th>2</th>\n",
              "      <td>Особо опасен</td>\n",
              "      <td>221038416</td>\n",
              "      <td>2016-10-10T12:00:00.000Z</td>\n",
              "      <td>Художественный</td>\n",
              "      <td>Юниверсал Пикчерз, Кикстарт Продакшнз, Марк Пл...</td>\n",
              "      <td>США</td>\n",
              "      <td>Тимур Бекмамбетов</td>\n",
              "      <td>Джим Лемли, Джейсон Нетер, Марк Е.Платт, Яйн Смит</td>\n",
              "      <td>«18+» - запрещено для детей</td>\n",
              "      <td>NaN</td>\n",
              "      <td>NaN</td>\n",
              "      <td>NaN</td>\n",
              "      <td>NaN</td>\n",
              "      <td>6.8</td>\n",
              "      <td>фантастика,боевик,триллер</td>\n",
              "    </tr>\n",
              "    <tr>\n",
              "      <th>3</th>\n",
              "      <td>Особо опасен</td>\n",
              "      <td>221026916</td>\n",
              "      <td>2016-06-10T12:00:00.000Z</td>\n",
              "      <td>Художественный</td>\n",
              "      <td>Юниверсал Пикчерз, Кикстарт Продакшнз, Марк Пл...</td>\n",
              "      <td>США</td>\n",
              "      <td>Тимур Бекмамбетов</td>\n",
              "      <td>Джим Лемли, Джейсон Нетер, Марк Е.Платт, Яйн Смит</td>\n",
              "      <td>«18+» - запрещено для детей</td>\n",
              "      <td>NaN</td>\n",
              "      <td>NaN</td>\n",
              "      <td>NaN</td>\n",
              "      <td>NaN</td>\n",
              "      <td>6.8</td>\n",
              "      <td>фантастика,боевик,триллер</td>\n",
              "    </tr>\n",
              "    <tr>\n",
              "      <th>4</th>\n",
              "      <td>Особо опасен</td>\n",
              "      <td>221030815</td>\n",
              "      <td>2015-07-29T12:00:00.000Z</td>\n",
              "      <td>Художественный</td>\n",
              "      <td>Юниверсал Пикчерз, Кикстарт Продакшнз, Марк Пл...</td>\n",
              "      <td>США</td>\n",
              "      <td>Тимур Бекмамбетов</td>\n",
              "      <td>Джим Лемли, Джейсон Нетер, Марк Е.Платт, Яйн Смит</td>\n",
              "      <td>«18+» - запрещено для детей</td>\n",
              "      <td>NaN</td>\n",
              "      <td>NaN</td>\n",
              "      <td>NaN</td>\n",
              "      <td>NaN</td>\n",
              "      <td>6.8</td>\n",
              "      <td>фантастика,боевик,триллер</td>\n",
              "    </tr>\n",
              "  </tbody>\n",
              "</table>\n",
              "</div>\n",
              "    <div class=\"colab-df-buttons\">\n",
              "\n",
              "  <div class=\"colab-df-container\">\n",
              "    <button class=\"colab-df-convert\" onclick=\"convertToInteractive('df-932633c8-c01c-4e1a-b514-6670eef3bab0')\"\n",
              "            title=\"Convert this dataframe to an interactive table.\"\n",
              "            style=\"display:none;\">\n",
              "\n",
              "  <svg xmlns=\"http://www.w3.org/2000/svg\" height=\"24px\" viewBox=\"0 -960 960 960\">\n",
              "    <path d=\"M120-120v-720h720v720H120Zm60-500h600v-160H180v160Zm220 220h160v-160H400v160Zm0 220h160v-160H400v160ZM180-400h160v-160H180v160Zm440 0h160v-160H620v160ZM180-180h160v-160H180v160Zm440 0h160v-160H620v160Z\"/>\n",
              "  </svg>\n",
              "    </button>\n",
              "\n",
              "  <style>\n",
              "    .colab-df-container {\n",
              "      display:flex;\n",
              "      gap: 12px;\n",
              "    }\n",
              "\n",
              "    .colab-df-convert {\n",
              "      background-color: #E8F0FE;\n",
              "      border: none;\n",
              "      border-radius: 50%;\n",
              "      cursor: pointer;\n",
              "      display: none;\n",
              "      fill: #1967D2;\n",
              "      height: 32px;\n",
              "      padding: 0 0 0 0;\n",
              "      width: 32px;\n",
              "    }\n",
              "\n",
              "    .colab-df-convert:hover {\n",
              "      background-color: #E2EBFA;\n",
              "      box-shadow: 0px 1px 2px rgba(60, 64, 67, 0.3), 0px 1px 3px 1px rgba(60, 64, 67, 0.15);\n",
              "      fill: #174EA6;\n",
              "    }\n",
              "\n",
              "    .colab-df-buttons div {\n",
              "      margin-bottom: 4px;\n",
              "    }\n",
              "\n",
              "    [theme=dark] .colab-df-convert {\n",
              "      background-color: #3B4455;\n",
              "      fill: #D2E3FC;\n",
              "    }\n",
              "\n",
              "    [theme=dark] .colab-df-convert:hover {\n",
              "      background-color: #434B5C;\n",
              "      box-shadow: 0px 1px 3px 1px rgba(0, 0, 0, 0.15);\n",
              "      filter: drop-shadow(0px 1px 2px rgba(0, 0, 0, 0.3));\n",
              "      fill: #FFFFFF;\n",
              "    }\n",
              "  </style>\n",
              "\n",
              "    <script>\n",
              "      const buttonEl =\n",
              "        document.querySelector('#df-932633c8-c01c-4e1a-b514-6670eef3bab0 button.colab-df-convert');\n",
              "      buttonEl.style.display =\n",
              "        google.colab.kernel.accessAllowed ? 'block' : 'none';\n",
              "\n",
              "      async function convertToInteractive(key) {\n",
              "        const element = document.querySelector('#df-932633c8-c01c-4e1a-b514-6670eef3bab0');\n",
              "        const dataTable =\n",
              "          await google.colab.kernel.invokeFunction('convertToInteractive',\n",
              "                                                    [key], {});\n",
              "        if (!dataTable) return;\n",
              "\n",
              "        const docLinkHtml = 'Like what you see? Visit the ' +\n",
              "          '<a target=\"_blank\" href=https://colab.research.google.com/notebooks/data_table.ipynb>data table notebook</a>'\n",
              "          + ' to learn more about interactive tables.';\n",
              "        element.innerHTML = '';\n",
              "        dataTable['output_type'] = 'display_data';\n",
              "        await google.colab.output.renderOutput(dataTable, element);\n",
              "        const docLink = document.createElement('div');\n",
              "        docLink.innerHTML = docLinkHtml;\n",
              "        element.appendChild(docLink);\n",
              "      }\n",
              "    </script>\n",
              "  </div>\n",
              "\n",
              "\n",
              "<div id=\"df-a6f256b1-723c-4423-ab5c-b2e8785d143e\">\n",
              "  <button class=\"colab-df-quickchart\" onclick=\"quickchart('df-a6f256b1-723c-4423-ab5c-b2e8785d143e')\"\n",
              "            title=\"Suggest charts\"\n",
              "            style=\"display:none;\">\n",
              "\n",
              "<svg xmlns=\"http://www.w3.org/2000/svg\" height=\"24px\"viewBox=\"0 0 24 24\"\n",
              "     width=\"24px\">\n",
              "    <g>\n",
              "        <path d=\"M19 3H5c-1.1 0-2 .9-2 2v14c0 1.1.9 2 2 2h14c1.1 0 2-.9 2-2V5c0-1.1-.9-2-2-2zM9 17H7v-7h2v7zm4 0h-2V7h2v10zm4 0h-2v-4h2v4z\"/>\n",
              "    </g>\n",
              "</svg>\n",
              "  </button>\n",
              "\n",
              "<style>\n",
              "  .colab-df-quickchart {\n",
              "      --bg-color: #E8F0FE;\n",
              "      --fill-color: #1967D2;\n",
              "      --hover-bg-color: #E2EBFA;\n",
              "      --hover-fill-color: #174EA6;\n",
              "      --disabled-fill-color: #AAA;\n",
              "      --disabled-bg-color: #DDD;\n",
              "  }\n",
              "\n",
              "  [theme=dark] .colab-df-quickchart {\n",
              "      --bg-color: #3B4455;\n",
              "      --fill-color: #D2E3FC;\n",
              "      --hover-bg-color: #434B5C;\n",
              "      --hover-fill-color: #FFFFFF;\n",
              "      --disabled-bg-color: #3B4455;\n",
              "      --disabled-fill-color: #666;\n",
              "  }\n",
              "\n",
              "  .colab-df-quickchart {\n",
              "    background-color: var(--bg-color);\n",
              "    border: none;\n",
              "    border-radius: 50%;\n",
              "    cursor: pointer;\n",
              "    display: none;\n",
              "    fill: var(--fill-color);\n",
              "    height: 32px;\n",
              "    padding: 0;\n",
              "    width: 32px;\n",
              "  }\n",
              "\n",
              "  .colab-df-quickchart:hover {\n",
              "    background-color: var(--hover-bg-color);\n",
              "    box-shadow: 0 1px 2px rgba(60, 64, 67, 0.3), 0 1px 3px 1px rgba(60, 64, 67, 0.15);\n",
              "    fill: var(--button-hover-fill-color);\n",
              "  }\n",
              "\n",
              "  .colab-df-quickchart-complete:disabled,\n",
              "  .colab-df-quickchart-complete:disabled:hover {\n",
              "    background-color: var(--disabled-bg-color);\n",
              "    fill: var(--disabled-fill-color);\n",
              "    box-shadow: none;\n",
              "  }\n",
              "\n",
              "  .colab-df-spinner {\n",
              "    border: 2px solid var(--fill-color);\n",
              "    border-color: transparent;\n",
              "    border-bottom-color: var(--fill-color);\n",
              "    animation:\n",
              "      spin 1s steps(1) infinite;\n",
              "  }\n",
              "\n",
              "  @keyframes spin {\n",
              "    0% {\n",
              "      border-color: transparent;\n",
              "      border-bottom-color: var(--fill-color);\n",
              "      border-left-color: var(--fill-color);\n",
              "    }\n",
              "    20% {\n",
              "      border-color: transparent;\n",
              "      border-left-color: var(--fill-color);\n",
              "      border-top-color: var(--fill-color);\n",
              "    }\n",
              "    30% {\n",
              "      border-color: transparent;\n",
              "      border-left-color: var(--fill-color);\n",
              "      border-top-color: var(--fill-color);\n",
              "      border-right-color: var(--fill-color);\n",
              "    }\n",
              "    40% {\n",
              "      border-color: transparent;\n",
              "      border-right-color: var(--fill-color);\n",
              "      border-top-color: var(--fill-color);\n",
              "    }\n",
              "    60% {\n",
              "      border-color: transparent;\n",
              "      border-right-color: var(--fill-color);\n",
              "    }\n",
              "    80% {\n",
              "      border-color: transparent;\n",
              "      border-right-color: var(--fill-color);\n",
              "      border-bottom-color: var(--fill-color);\n",
              "    }\n",
              "    90% {\n",
              "      border-color: transparent;\n",
              "      border-bottom-color: var(--fill-color);\n",
              "    }\n",
              "  }\n",
              "</style>\n",
              "\n",
              "  <script>\n",
              "    async function quickchart(key) {\n",
              "      const quickchartButtonEl =\n",
              "        document.querySelector('#' + key + ' button');\n",
              "      quickchartButtonEl.disabled = true;  // To prevent multiple clicks.\n",
              "      quickchartButtonEl.classList.add('colab-df-spinner');\n",
              "      try {\n",
              "        const charts = await google.colab.kernel.invokeFunction(\n",
              "            'suggestCharts', [key], {});\n",
              "      } catch (error) {\n",
              "        console.error('Error during call to suggestCharts:', error);\n",
              "      }\n",
              "      quickchartButtonEl.classList.remove('colab-df-spinner');\n",
              "      quickchartButtonEl.classList.add('colab-df-quickchart-complete');\n",
              "    }\n",
              "    (() => {\n",
              "      let quickchartButtonEl =\n",
              "        document.querySelector('#df-a6f256b1-723c-4423-ab5c-b2e8785d143e button');\n",
              "      quickchartButtonEl.style.display =\n",
              "        google.colab.kernel.accessAllowed ? 'block' : 'none';\n",
              "    })();\n",
              "  </script>\n",
              "</div>\n",
              "    </div>\n",
              "  </div>\n"
            ],
            "application/vnd.google.colaboratory.intrinsic+json": {
              "type": "dataframe",
              "variable_name": "raw_data_movies",
              "summary": "{\n  \"name\": \"raw_data_movies\",\n  \"rows\": 7486,\n  \"fields\": [\n    {\n      \"column\": \"title\",\n      \"properties\": {\n        \"dtype\": \"string\",\n        \"num_unique_values\": 6772,\n        \"samples\": [\n          \"\\u041c\\u0430\\u043b\\u0435\\u043d\\u044c\\u043a\\u0438\\u0435 \\u043b\\u044e\\u0434\\u0438\",\n          \"\\u0412\\u0434\\u0440\\u0435\\u0431\\u0435\\u0437\\u0433\\u0438_\",\n          \"\\u041c\\u043e\\u043d\\u043e\\u043b\\u043e\\u0433 \\u0432 4-\\u0445 \\u0447\\u0430\\u0441\\u0442\\u044f\\u0445. \\u0410\\u043b\\u0435\\u043a\\u0441\\u0430\\u043d\\u0434\\u0440 \\u041a\\u0430\\u043b\\u044f\\u0433\\u0438\\u043d\"\n        ],\n        \"semantic_type\": \"\",\n        \"description\": \"\"\n      }\n    },\n    {\n      \"column\": \"puNumber\",\n      \"properties\": {\n        \"dtype\": \"string\",\n        \"num_unique_values\": 7484,\n        \"samples\": [\n          \"111019015\",\n          \"124003519\",\n          \"111001416\"\n        ],\n        \"semantic_type\": \"\",\n        \"description\": \"\"\n      }\n    },\n    {\n      \"column\": \"show_start_date\",\n      \"properties\": {\n        \"dtype\": \"object\",\n        \"num_unique_values\": 1965,\n        \"samples\": [\n          \"2019-10-26T12:00:00.000Z\",\n          \"2011-11-18T12:00:00.000Z\",\n          \"2017-03-21T12:00:00.000Z\"\n        ],\n        \"semantic_type\": \"\",\n        \"description\": \"\"\n      }\n    },\n    {\n      \"column\": \"type\",\n      \"properties\": {\n        \"dtype\": \"category\",\n        \"num_unique_values\": 8,\n        \"samples\": [\n          \"\\u0410\\u043d\\u0438\\u043c\\u0430\\u0446\\u0438\\u043e\\u043d\\u043d\\u044b\\u0439\",\n          \" \\u0425\\u0443\\u0434\\u043e\\u0436\\u0435\\u0441\\u0442\\u0432\\u0435\\u043d\\u043d\\u044b\\u0439\",\n          \"\\u0425\\u0443\\u0434\\u043e\\u0436\\u0435\\u0441\\u0442\\u0432\\u0435\\u043d\\u043d\\u044b\\u0439\"\n        ],\n        \"semantic_type\": \"\",\n        \"description\": \"\"\n      }\n    },\n    {\n      \"column\": \"film_studio\",\n      \"properties\": {\n        \"dtype\": \"string\",\n        \"num_unique_values\": 5490,\n        \"samples\": [\n          \"\\u041e\\u041e\\u041e \\\"\\u041a\\u0438\\u043d\\u043e\\u0441\\u0442\\u0443\\u0434\\u0438\\u044f \\u0410\\u0437\\u0438\\u044f-\\u0444\\u0438\\u043b\\u044c\\u043c\\\"\",\n          \"\\u0411\\u0443\\u0435\\u043d\\u0430 \\u0412\\u0438\\u0441\\u0442\\u0430 \\u0418\\u043d\\u0442\\u0435\\u0440\\u043d\\u044d\\u0448\\u043d\\u043b \\u0424\\u0438\\u043b\\u043c \\u041f\\u0440\\u043e\\u0434\\u0430\\u043a\\u0448\\u043d, \\u0424\\u0438\\u043b\\u044c\\u043c\\u0448\\u0442\\u0438\\u0444\\u0442\\u0443\\u043d\\u0433 \\u0421\\u0435\\u0432\\u0435\\u0440\\u043d\\u044b\\u0439 \\u0420\\u0435\\u0439\\u043d-\\u0412\\u0435\\u0441\\u0442\\u0444\\u0430\\u043b\\u0438\\u044f, \\u041c\\u0438\\u0441\\u0442\\u0435\\u0440 \\u0411\\u0440\\u0430\\u0443\\u043d \\u0418\\u043d\\u0442\\u0435\\u0440\\u0442\\u0435\\u0439\\u043d\\u043c\\u0435\\u043d\\u0442, \\u0411\\u044d\\u0440\\u0444\\u0443\\u0442 \\u0424\\u0438\\u043b\\u043c\\u0441\",\n          \"\\u041f\\u043e\\u0442\\u0431\\u043e\\u0439\\u043b\\u0435\\u0440 \\u041f\\u0440\\u043e\\u0434\\u0430\\u043a\\u0448\\u043d\\u0437, \\u042d\\u043f\\u0441\\u0438\\u043b\\u043e\\u043d \\u041c\\u043e\\u0443\\u0448\\u043d \\u041f\\u0438\\u043a\\u0447\\u0435\\u0440\\u0437, \\u0421\\u043a\\u0430\\u0439\\u043e\\u043d \\u0424\\u0438\\u043b\\u043c\\u0437 \\u041b\\u0438\\u043c\\u0438\\u0442\\u0435\\u0434, \\u042e\\u041a \\u0424\\u0438\\u043b\\u043c \\u041a\\u0430\\u0443\\u043d\\u0441\\u0438\\u043b\"\n        ],\n        \"semantic_type\": \"\",\n        \"description\": \"\"\n      }\n    },\n    {\n      \"column\": \"production_country\",\n      \"properties\": {\n        \"dtype\": \"category\",\n        \"num_unique_values\": 950,\n        \"samples\": [\n          \"\\u0424\\u0440\\u0430\\u043d\\u0446\\u0438\\u044f-\\u0418\\u043d\\u0434\\u0438\\u044f\",\n          \"\\u0418\\u0442\\u0430\\u043b\\u0438\\u044f - \\u0411\\u0435\\u043b\\u044c\\u0433\\u0438\\u044f - \\u0424\\u0440\\u0430\\u043d\\u0446\\u0438\\u044f\",\n          \"\\u0421\\u0428\\u0410 - \\u041e\\u0431\\u044a\\u0435\\u0434\\u0438\\u043d\\u0435\\u043d\\u043d\\u044b\\u0435 \\u0410\\u0440\\u0430\\u0431\\u0441\\u043a\\u0438\\u0435 \\u042d\\u043c\\u0438\\u0440\\u0430\\u0442\\u044b\"\n        ],\n        \"semantic_type\": \"\",\n        \"description\": \"\"\n      }\n    },\n    {\n      \"column\": \"director\",\n      \"properties\": {\n        \"dtype\": \"string\",\n        \"num_unique_values\": 4811,\n        \"samples\": [\n          \"\\u0414\\u0430\\u043d\\u0438\\u044d\\u043b \\u0410\\u0443\\u0433\\u0443\\u0441\\u0442\\u0443\",\n          \"\\u0410.\\u041c\\u0430\\u0447\\u0435\\u0440\\u0435\\u0442\",\n          \"\\u0422\\u043e\\u043d\\u0438 \\u0413\\u0438\\u043b\\u0440\\u043e\\u0439\"\n        ],\n        \"semantic_type\": \"\",\n        \"description\": \"\"\n      }\n    },\n    {\n      \"column\": \"producer\",\n      \"properties\": {\n        \"dtype\": \"string\",\n        \"num_unique_values\": 5349,\n        \"samples\": [\n          \"\\u042d\\u043b\\u0438\\u0437\\u0430\\u0431\\u0435\\u0442 \\u0411\\u044d\\u0439\\u043a\\u0435\\u0440, \\u041a\\u0430\\u0439\\u043b \\u041a\\u0435\\u0440\\u043d\\u0430\\u043d\",\n          \"\\u041a\\u0440\\u0438\\u0441\\u0442\\u0438\\u043d \\u0411\\u0435\\u0440\\u0440, \\u0411\\u0440\\u0430\\u0439\\u044d\\u043c \\u0422\\u0435\\u0439\\u043b\\u043e\\u0440\",\n          \"\\u0421\\u0430\\u043d\\u0434\\u0440\\u043e \\u0410\\u0433\\u0438\\u043b\\u044f\\u0440, \\u041b\\u0443\\u0438\\u0441 \\u0423\\u0440\\u0431\\u0430\\u043d\\u043e, \\u041c\\u0430\\u0440\\u0435\\u043d \\u042d\\u0434\"\n        ],\n        \"semantic_type\": \"\",\n        \"description\": \"\"\n      }\n    },\n    {\n      \"column\": \"age_restriction\",\n      \"properties\": {\n        \"dtype\": \"category\",\n        \"num_unique_values\": 5,\n        \"samples\": [\n          \"\\u00ab6+\\u00bb - \\u0434\\u043b\\u044f \\u0434\\u0435\\u0442\\u0435\\u0439 \\u0441\\u0442\\u0430\\u0440\\u0448\\u0435 6 \\u043b\\u0435\\u0442\",\n          \"\\u00ab0+\\u00bb - \\u0434\\u043b\\u044f \\u043b\\u044e\\u0431\\u043e\\u0439 \\u0437\\u0440\\u0438\\u0442\\u0435\\u043b\\u044c\\u0441\\u043a\\u043e\\u0439 \\u0430\\u0443\\u0434\\u0438\\u0442\\u043e\\u0440\\u0438\\u0438\",\n          \"\\u00ab12+\\u00bb - \\u0434\\u043b\\u044f \\u0434\\u0435\\u0442\\u0435\\u0439 \\u0441\\u0442\\u0430\\u0440\\u0448\\u0435 12 \\u043b\\u0435\\u0442\"\n        ],\n        \"semantic_type\": \"\",\n        \"description\": \"\"\n      }\n    },\n    {\n      \"column\": \"refundable_support\",\n      \"properties\": {\n        \"dtype\": \"number\",\n        \"std\": 24916555.26364432,\n        \"min\": 0.0,\n        \"max\": 180000000.0,\n        \"num_unique_values\": 34,\n        \"samples\": [\n          3500000.0,\n          110000000.0,\n          7346881.0\n        ],\n        \"semantic_type\": \"\",\n        \"description\": \"\"\n      }\n    },\n    {\n      \"column\": \"nonrefundable_support\",\n      \"properties\": {\n        \"dtype\": \"number\",\n        \"std\": 59980117.923300624,\n        \"min\": 0.0,\n        \"max\": 400000000.0,\n        \"num_unique_values\": 75,\n        \"samples\": [\n          25000000.0,\n          225000000.0,\n          40000000.0\n        ],\n        \"semantic_type\": \"\",\n        \"description\": \"\"\n      }\n    },\n    {\n      \"column\": \"budget\",\n      \"properties\": {\n        \"dtype\": \"number\",\n        \"std\": 188588333.1151583,\n        \"min\": 0.0,\n        \"max\": 2305074303.0,\n        \"num_unique_values\": 290,\n        \"samples\": [\n          211810247.0,\n          47200000.0,\n          112000000.0\n        ],\n        \"semantic_type\": \"\",\n        \"description\": \"\"\n      }\n    },\n    {\n      \"column\": \"financing_source\",\n      \"properties\": {\n        \"dtype\": \"category\",\n        \"num_unique_values\": 3,\n        \"samples\": [\n          \"\\u041c\\u0438\\u043d\\u0438\\u0441\\u0442\\u0435\\u0440\\u0441\\u0442\\u0432\\u043e \\u043a\\u0443\\u043b\\u044c\\u0442\\u0443\\u0440\\u044b\",\n          \"\\u0424\\u043e\\u043d\\u0434 \\u043a\\u0438\\u043d\\u043e\",\n          \"\\u041c\\u0438\\u043d\\u0438\\u0441\\u0442\\u0435\\u0440\\u0441\\u0442\\u0432\\u043e \\u043a\\u0443\\u043b\\u044c\\u0442\\u0443\\u0440\\u044b, \\u0424\\u043e\\u043d\\u0434 \\u043a\\u0438\\u043d\\u043e\"\n        ],\n        \"semantic_type\": \"\",\n        \"description\": \"\"\n      }\n    },\n    {\n      \"column\": \"ratings\",\n      \"properties\": {\n        \"dtype\": \"category\",\n        \"num_unique_values\": 94,\n        \"samples\": [\n          \"4.5\",\n          \"6.7\",\n          \"3.9\"\n        ],\n        \"semantic_type\": \"\",\n        \"description\": \"\"\n      }\n    },\n    {\n      \"column\": \"genres\",\n      \"properties\": {\n        \"dtype\": \"category\",\n        \"num_unique_values\": 742,\n        \"samples\": [\n          \"\\u0443\\u0436\\u0430\\u0441\\u044b,\\u0444\\u044d\\u043d\\u0442\\u0435\\u0437\\u0438,\\u0442\\u0440\\u0438\\u043b\\u043b\\u0435\\u0440\",\n          \"\\u0444\\u044d\\u043d\\u0442\\u0435\\u0437\\u0438,\\u0431\\u043e\\u0435\\u0432\\u0438\\u043a,\\u0442\\u0440\\u0438\\u043b\\u043b\\u0435\\u0440\",\n          \"\\u043a\\u043e\\u043c\\u0435\\u0434\\u0438\\u044f,\\u043f\\u0440\\u0438\\u043a\\u043b\\u044e\\u0447\\u0435\\u043d\\u0438\\u044f,\\u0444\\u044d\\u043d\\u0442\\u0435\\u0437\\u0438\"\n        ],\n        \"semantic_type\": \"\",\n        \"description\": \"\"\n      }\n    }\n  ]\n}"
            }
          },
          "metadata": {},
          "execution_count": 3
        }
      ],
      "source": [
        "raw_data_movies.head()"
      ]
    },
    {
      "cell_type": "code",
      "execution_count": null,
      "metadata": {
        "id": "j_lLSb0bbL0p",
        "outputId": "afe60154-1e11-4471-8133-6cb6deaa23d1",
        "colab": {
          "base_uri": "https://localhost:8080/",
          "height": 206
        }
      },
      "outputs": [
        {
          "output_type": "execute_result",
          "data": {
            "text/plain": [
              "    puNumber     box_office\n",
              "0  111000113       2,450.00\n",
              "1  111000115      61,040.00\n",
              "2  111000116 153,030,013.40\n",
              "3  111000117  12,260,956.00\n",
              "4  111000118 163,684,057.79"
            ],
            "text/html": [
              "\n",
              "  <div id=\"df-df4a1721-7487-404f-8912-bcb292b5f410\" class=\"colab-df-container\">\n",
              "    <div>\n",
              "<style scoped>\n",
              "    .dataframe tbody tr th:only-of-type {\n",
              "        vertical-align: middle;\n",
              "    }\n",
              "\n",
              "    .dataframe tbody tr th {\n",
              "        vertical-align: top;\n",
              "    }\n",
              "\n",
              "    .dataframe thead th {\n",
              "        text-align: right;\n",
              "    }\n",
              "</style>\n",
              "<table border=\"1\" class=\"dataframe\">\n",
              "  <thead>\n",
              "    <tr style=\"text-align: right;\">\n",
              "      <th></th>\n",
              "      <th>puNumber</th>\n",
              "      <th>box_office</th>\n",
              "    </tr>\n",
              "  </thead>\n",
              "  <tbody>\n",
              "    <tr>\n",
              "      <th>0</th>\n",
              "      <td>111000113</td>\n",
              "      <td>2,450.00</td>\n",
              "    </tr>\n",
              "    <tr>\n",
              "      <th>1</th>\n",
              "      <td>111000115</td>\n",
              "      <td>61,040.00</td>\n",
              "    </tr>\n",
              "    <tr>\n",
              "      <th>2</th>\n",
              "      <td>111000116</td>\n",
              "      <td>153,030,013.40</td>\n",
              "    </tr>\n",
              "    <tr>\n",
              "      <th>3</th>\n",
              "      <td>111000117</td>\n",
              "      <td>12,260,956.00</td>\n",
              "    </tr>\n",
              "    <tr>\n",
              "      <th>4</th>\n",
              "      <td>111000118</td>\n",
              "      <td>163,684,057.79</td>\n",
              "    </tr>\n",
              "  </tbody>\n",
              "</table>\n",
              "</div>\n",
              "    <div class=\"colab-df-buttons\">\n",
              "\n",
              "  <div class=\"colab-df-container\">\n",
              "    <button class=\"colab-df-convert\" onclick=\"convertToInteractive('df-df4a1721-7487-404f-8912-bcb292b5f410')\"\n",
              "            title=\"Convert this dataframe to an interactive table.\"\n",
              "            style=\"display:none;\">\n",
              "\n",
              "  <svg xmlns=\"http://www.w3.org/2000/svg\" height=\"24px\" viewBox=\"0 -960 960 960\">\n",
              "    <path d=\"M120-120v-720h720v720H120Zm60-500h600v-160H180v160Zm220 220h160v-160H400v160Zm0 220h160v-160H400v160ZM180-400h160v-160H180v160Zm440 0h160v-160H620v160ZM180-180h160v-160H180v160Zm440 0h160v-160H620v160Z\"/>\n",
              "  </svg>\n",
              "    </button>\n",
              "\n",
              "  <style>\n",
              "    .colab-df-container {\n",
              "      display:flex;\n",
              "      gap: 12px;\n",
              "    }\n",
              "\n",
              "    .colab-df-convert {\n",
              "      background-color: #E8F0FE;\n",
              "      border: none;\n",
              "      border-radius: 50%;\n",
              "      cursor: pointer;\n",
              "      display: none;\n",
              "      fill: #1967D2;\n",
              "      height: 32px;\n",
              "      padding: 0 0 0 0;\n",
              "      width: 32px;\n",
              "    }\n",
              "\n",
              "    .colab-df-convert:hover {\n",
              "      background-color: #E2EBFA;\n",
              "      box-shadow: 0px 1px 2px rgba(60, 64, 67, 0.3), 0px 1px 3px 1px rgba(60, 64, 67, 0.15);\n",
              "      fill: #174EA6;\n",
              "    }\n",
              "\n",
              "    .colab-df-buttons div {\n",
              "      margin-bottom: 4px;\n",
              "    }\n",
              "\n",
              "    [theme=dark] .colab-df-convert {\n",
              "      background-color: #3B4455;\n",
              "      fill: #D2E3FC;\n",
              "    }\n",
              "\n",
              "    [theme=dark] .colab-df-convert:hover {\n",
              "      background-color: #434B5C;\n",
              "      box-shadow: 0px 1px 3px 1px rgba(0, 0, 0, 0.15);\n",
              "      filter: drop-shadow(0px 1px 2px rgba(0, 0, 0, 0.3));\n",
              "      fill: #FFFFFF;\n",
              "    }\n",
              "  </style>\n",
              "\n",
              "    <script>\n",
              "      const buttonEl =\n",
              "        document.querySelector('#df-df4a1721-7487-404f-8912-bcb292b5f410 button.colab-df-convert');\n",
              "      buttonEl.style.display =\n",
              "        google.colab.kernel.accessAllowed ? 'block' : 'none';\n",
              "\n",
              "      async function convertToInteractive(key) {\n",
              "        const element = document.querySelector('#df-df4a1721-7487-404f-8912-bcb292b5f410');\n",
              "        const dataTable =\n",
              "          await google.colab.kernel.invokeFunction('convertToInteractive',\n",
              "                                                    [key], {});\n",
              "        if (!dataTable) return;\n",
              "\n",
              "        const docLinkHtml = 'Like what you see? Visit the ' +\n",
              "          '<a target=\"_blank\" href=https://colab.research.google.com/notebooks/data_table.ipynb>data table notebook</a>'\n",
              "          + ' to learn more about interactive tables.';\n",
              "        element.innerHTML = '';\n",
              "        dataTable['output_type'] = 'display_data';\n",
              "        await google.colab.output.renderOutput(dataTable, element);\n",
              "        const docLink = document.createElement('div');\n",
              "        docLink.innerHTML = docLinkHtml;\n",
              "        element.appendChild(docLink);\n",
              "      }\n",
              "    </script>\n",
              "  </div>\n",
              "\n",
              "\n",
              "<div id=\"df-110cb9eb-7aa7-48e0-81be-6dcca316497c\">\n",
              "  <button class=\"colab-df-quickchart\" onclick=\"quickchart('df-110cb9eb-7aa7-48e0-81be-6dcca316497c')\"\n",
              "            title=\"Suggest charts\"\n",
              "            style=\"display:none;\">\n",
              "\n",
              "<svg xmlns=\"http://www.w3.org/2000/svg\" height=\"24px\"viewBox=\"0 0 24 24\"\n",
              "     width=\"24px\">\n",
              "    <g>\n",
              "        <path d=\"M19 3H5c-1.1 0-2 .9-2 2v14c0 1.1.9 2 2 2h14c1.1 0 2-.9 2-2V5c0-1.1-.9-2-2-2zM9 17H7v-7h2v7zm4 0h-2V7h2v10zm4 0h-2v-4h2v4z\"/>\n",
              "    </g>\n",
              "</svg>\n",
              "  </button>\n",
              "\n",
              "<style>\n",
              "  .colab-df-quickchart {\n",
              "      --bg-color: #E8F0FE;\n",
              "      --fill-color: #1967D2;\n",
              "      --hover-bg-color: #E2EBFA;\n",
              "      --hover-fill-color: #174EA6;\n",
              "      --disabled-fill-color: #AAA;\n",
              "      --disabled-bg-color: #DDD;\n",
              "  }\n",
              "\n",
              "  [theme=dark] .colab-df-quickchart {\n",
              "      --bg-color: #3B4455;\n",
              "      --fill-color: #D2E3FC;\n",
              "      --hover-bg-color: #434B5C;\n",
              "      --hover-fill-color: #FFFFFF;\n",
              "      --disabled-bg-color: #3B4455;\n",
              "      --disabled-fill-color: #666;\n",
              "  }\n",
              "\n",
              "  .colab-df-quickchart {\n",
              "    background-color: var(--bg-color);\n",
              "    border: none;\n",
              "    border-radius: 50%;\n",
              "    cursor: pointer;\n",
              "    display: none;\n",
              "    fill: var(--fill-color);\n",
              "    height: 32px;\n",
              "    padding: 0;\n",
              "    width: 32px;\n",
              "  }\n",
              "\n",
              "  .colab-df-quickchart:hover {\n",
              "    background-color: var(--hover-bg-color);\n",
              "    box-shadow: 0 1px 2px rgba(60, 64, 67, 0.3), 0 1px 3px 1px rgba(60, 64, 67, 0.15);\n",
              "    fill: var(--button-hover-fill-color);\n",
              "  }\n",
              "\n",
              "  .colab-df-quickchart-complete:disabled,\n",
              "  .colab-df-quickchart-complete:disabled:hover {\n",
              "    background-color: var(--disabled-bg-color);\n",
              "    fill: var(--disabled-fill-color);\n",
              "    box-shadow: none;\n",
              "  }\n",
              "\n",
              "  .colab-df-spinner {\n",
              "    border: 2px solid var(--fill-color);\n",
              "    border-color: transparent;\n",
              "    border-bottom-color: var(--fill-color);\n",
              "    animation:\n",
              "      spin 1s steps(1) infinite;\n",
              "  }\n",
              "\n",
              "  @keyframes spin {\n",
              "    0% {\n",
              "      border-color: transparent;\n",
              "      border-bottom-color: var(--fill-color);\n",
              "      border-left-color: var(--fill-color);\n",
              "    }\n",
              "    20% {\n",
              "      border-color: transparent;\n",
              "      border-left-color: var(--fill-color);\n",
              "      border-top-color: var(--fill-color);\n",
              "    }\n",
              "    30% {\n",
              "      border-color: transparent;\n",
              "      border-left-color: var(--fill-color);\n",
              "      border-top-color: var(--fill-color);\n",
              "      border-right-color: var(--fill-color);\n",
              "    }\n",
              "    40% {\n",
              "      border-color: transparent;\n",
              "      border-right-color: var(--fill-color);\n",
              "      border-top-color: var(--fill-color);\n",
              "    }\n",
              "    60% {\n",
              "      border-color: transparent;\n",
              "      border-right-color: var(--fill-color);\n",
              "    }\n",
              "    80% {\n",
              "      border-color: transparent;\n",
              "      border-right-color: var(--fill-color);\n",
              "      border-bottom-color: var(--fill-color);\n",
              "    }\n",
              "    90% {\n",
              "      border-color: transparent;\n",
              "      border-bottom-color: var(--fill-color);\n",
              "    }\n",
              "  }\n",
              "</style>\n",
              "\n",
              "  <script>\n",
              "    async function quickchart(key) {\n",
              "      const quickchartButtonEl =\n",
              "        document.querySelector('#' + key + ' button');\n",
              "      quickchartButtonEl.disabled = true;  // To prevent multiple clicks.\n",
              "      quickchartButtonEl.classList.add('colab-df-spinner');\n",
              "      try {\n",
              "        const charts = await google.colab.kernel.invokeFunction(\n",
              "            'suggestCharts', [key], {});\n",
              "      } catch (error) {\n",
              "        console.error('Error during call to suggestCharts:', error);\n",
              "      }\n",
              "      quickchartButtonEl.classList.remove('colab-df-spinner');\n",
              "      quickchartButtonEl.classList.add('colab-df-quickchart-complete');\n",
              "    }\n",
              "    (() => {\n",
              "      let quickchartButtonEl =\n",
              "        document.querySelector('#df-110cb9eb-7aa7-48e0-81be-6dcca316497c button');\n",
              "      quickchartButtonEl.style.display =\n",
              "        google.colab.kernel.accessAllowed ? 'block' : 'none';\n",
              "    })();\n",
              "  </script>\n",
              "</div>\n",
              "    </div>\n",
              "  </div>\n"
            ],
            "application/vnd.google.colaboratory.intrinsic+json": {
              "type": "dataframe",
              "variable_name": "raw_data_shows",
              "summary": "{\n  \"name\": \"raw_data_shows\",\n  \"rows\": 3158,\n  \"fields\": [\n    {\n      \"column\": \"puNumber\",\n      \"properties\": {\n        \"dtype\": \"number\",\n        \"std\": 12383941,\n        \"min\": 111000113,\n        \"max\": 224026410,\n        \"num_unique_values\": 3158,\n        \"samples\": [\n          126004118,\n          124001213,\n          126001011\n        ],\n        \"semantic_type\": \"\",\n        \"description\": \"\"\n      }\n    },\n    {\n      \"column\": \"box_office\",\n      \"properties\": {\n        \"dtype\": \"number\",\n        \"std\": 240353122.82324007,\n        \"min\": 0.0,\n        \"max\": 3073568690.79,\n        \"num_unique_values\": 2938,\n        \"samples\": [\n          654165.0,\n          37515653.58,\n          1133848.0\n        ],\n        \"semantic_type\": \"\",\n        \"description\": \"\"\n      }\n    }\n  ]\n}"
            }
          },
          "metadata": {},
          "execution_count": 4
        }
      ],
      "source": [
        "raw_data_shows.head()"
      ]
    },
    {
      "cell_type": "code",
      "execution_count": null,
      "metadata": {
        "id": "tks_5aCTbL0p",
        "outputId": "5c0eb5bc-5c68-41b5-8c05-5ccbb3190ad4",
        "colab": {
          "base_uri": "https://localhost:8080/"
        }
      },
      "outputs": [
        {
          "output_type": "stream",
          "name": "stdout",
          "text": [
            "<class 'pandas.core.frame.DataFrame'>\n",
            "RangeIndex: 7486 entries, 0 to 7485\n",
            "Data columns (total 15 columns):\n",
            " #   Column                 Non-Null Count  Dtype  \n",
            "---  ------                 --------------  -----  \n",
            " 0   title                  7486 non-null   object \n",
            " 1   puNumber               7486 non-null   object \n",
            " 2   show_start_date        7486 non-null   object \n",
            " 3   type                   7486 non-null   object \n",
            " 4   film_studio            7468 non-null   object \n",
            " 5   production_country     7484 non-null   object \n",
            " 6   director               7477 non-null   object \n",
            " 7   producer               6918 non-null   object \n",
            " 8   age_restriction        7486 non-null   object \n",
            " 9   refundable_support     332 non-null    float64\n",
            " 10  nonrefundable_support  332 non-null    float64\n",
            " 11  budget                 332 non-null    float64\n",
            " 12  financing_source       332 non-null    object \n",
            " 13  ratings                6519 non-null   object \n",
            " 14  genres                 6510 non-null   object \n",
            "dtypes: float64(3), object(12)\n",
            "memory usage: 877.4+ KB\n"
          ]
        }
      ],
      "source": [
        "raw_data_movies.info()"
      ]
    },
    {
      "cell_type": "code",
      "execution_count": null,
      "metadata": {
        "id": "YxM9FfeqbL0q",
        "outputId": "6dd0d8ab-c5dc-4098-fd48-fb667defacd0",
        "colab": {
          "base_uri": "https://localhost:8080/"
        }
      },
      "outputs": [
        {
          "output_type": "stream",
          "name": "stdout",
          "text": [
            "<class 'pandas.core.frame.DataFrame'>\n",
            "RangeIndex: 3158 entries, 0 to 3157\n",
            "Data columns (total 2 columns):\n",
            " #   Column      Non-Null Count  Dtype  \n",
            "---  ------      --------------  -----  \n",
            " 0   puNumber    3158 non-null   int64  \n",
            " 1   box_office  3158 non-null   float64\n",
            "dtypes: float64(1), int64(1)\n",
            "memory usage: 49.5 KB\n"
          ]
        }
      ],
      "source": [
        "raw_data_shows.info()"
      ]
    },
    {
      "cell_type": "markdown",
      "source": [
        "Объединим данные таким образом, чтобы все объекты из датасета `mkrf_movies` обязательно вошли в получившийся датафрейм, но перед этим приведем данным в порядок."
      ],
      "metadata": {
        "id": "BCMbrT0WymEd"
      }
    },
    {
      "cell_type": "code",
      "execution_count": null,
      "metadata": {
        "scrolled": true,
        "id": "B_a4xcABbL0q",
        "outputId": "f3d8ba99-b0b5-4d64-ae78-fdf79a7ae551",
        "colab": {
          "base_uri": "https://localhost:8080/",
          "height": 112
        }
      },
      "outputs": [
        {
          "output_type": "execute_result",
          "data": {
            "text/plain": [
              "                                  title    puNumber           show_start_date  \\\n",
              "804               Паранормальный Якутск   111004112  2012-08-24T12:00:00.000Z   \n",
              "1797  Курбан-роман. (История с жертвой)         нет  2014-05-15T12:00:00.000Z   \n",
              "\n",
              "                type       film_studio production_country    director  \\\n",
              "804   Художественный  ИП Тимофеев К.П.             Россия  К.Тимофеев   \n",
              "1797  Художественный  ФОНД \"ИННОВАЦИЯ\"             Россия     С.Юзеев   \n",
              "\n",
              "        producer                  age_restriction  refundable_support  \\\n",
              "804          NaN  «16+» - для детей старше 16 лет                 NaN   \n",
              "1797  М.Галицкая  «12+» - для детей старше 12 лет                 NaN   \n",
              "\n",
              "      nonrefundable_support  budget financing_source ratings genres  \n",
              "804                     NaN     NaN              NaN     NaN    NaN  \n",
              "1797                    NaN     NaN              NaN     NaN    NaN  "
            ],
            "text/html": [
              "\n",
              "  <div id=\"df-1d93f1c6-5545-4616-b89b-03b34f424ce9\" class=\"colab-df-container\">\n",
              "    <div>\n",
              "<style scoped>\n",
              "    .dataframe tbody tr th:only-of-type {\n",
              "        vertical-align: middle;\n",
              "    }\n",
              "\n",
              "    .dataframe tbody tr th {\n",
              "        vertical-align: top;\n",
              "    }\n",
              "\n",
              "    .dataframe thead th {\n",
              "        text-align: right;\n",
              "    }\n",
              "</style>\n",
              "<table border=\"1\" class=\"dataframe\">\n",
              "  <thead>\n",
              "    <tr style=\"text-align: right;\">\n",
              "      <th></th>\n",
              "      <th>title</th>\n",
              "      <th>puNumber</th>\n",
              "      <th>show_start_date</th>\n",
              "      <th>type</th>\n",
              "      <th>film_studio</th>\n",
              "      <th>production_country</th>\n",
              "      <th>director</th>\n",
              "      <th>producer</th>\n",
              "      <th>age_restriction</th>\n",
              "      <th>refundable_support</th>\n",
              "      <th>nonrefundable_support</th>\n",
              "      <th>budget</th>\n",
              "      <th>financing_source</th>\n",
              "      <th>ratings</th>\n",
              "      <th>genres</th>\n",
              "    </tr>\n",
              "  </thead>\n",
              "  <tbody>\n",
              "    <tr>\n",
              "      <th>804</th>\n",
              "      <td>Паранормальный Якутск</td>\n",
              "      <td>111004112</td>\n",
              "      <td>2012-08-24T12:00:00.000Z</td>\n",
              "      <td>Художественный</td>\n",
              "      <td>ИП Тимофеев К.П.</td>\n",
              "      <td>Россия</td>\n",
              "      <td>К.Тимофеев</td>\n",
              "      <td>NaN</td>\n",
              "      <td>«16+» - для детей старше 16 лет</td>\n",
              "      <td>NaN</td>\n",
              "      <td>NaN</td>\n",
              "      <td>NaN</td>\n",
              "      <td>NaN</td>\n",
              "      <td>NaN</td>\n",
              "      <td>NaN</td>\n",
              "    </tr>\n",
              "    <tr>\n",
              "      <th>1797</th>\n",
              "      <td>Курбан-роман. (История с жертвой)</td>\n",
              "      <td>нет</td>\n",
              "      <td>2014-05-15T12:00:00.000Z</td>\n",
              "      <td>Художественный</td>\n",
              "      <td>ФОНД \"ИННОВАЦИЯ\"</td>\n",
              "      <td>Россия</td>\n",
              "      <td>С.Юзеев</td>\n",
              "      <td>М.Галицкая</td>\n",
              "      <td>«12+» - для детей старше 12 лет</td>\n",
              "      <td>NaN</td>\n",
              "      <td>NaN</td>\n",
              "      <td>NaN</td>\n",
              "      <td>NaN</td>\n",
              "      <td>NaN</td>\n",
              "      <td>NaN</td>\n",
              "    </tr>\n",
              "  </tbody>\n",
              "</table>\n",
              "</div>\n",
              "    <div class=\"colab-df-buttons\">\n",
              "\n",
              "  <div class=\"colab-df-container\">\n",
              "    <button class=\"colab-df-convert\" onclick=\"convertToInteractive('df-1d93f1c6-5545-4616-b89b-03b34f424ce9')\"\n",
              "            title=\"Convert this dataframe to an interactive table.\"\n",
              "            style=\"display:none;\">\n",
              "\n",
              "  <svg xmlns=\"http://www.w3.org/2000/svg\" height=\"24px\" viewBox=\"0 -960 960 960\">\n",
              "    <path d=\"M120-120v-720h720v720H120Zm60-500h600v-160H180v160Zm220 220h160v-160H400v160Zm0 220h160v-160H400v160ZM180-400h160v-160H180v160Zm440 0h160v-160H620v160ZM180-180h160v-160H180v160Zm440 0h160v-160H620v160Z\"/>\n",
              "  </svg>\n",
              "    </button>\n",
              "\n",
              "  <style>\n",
              "    .colab-df-container {\n",
              "      display:flex;\n",
              "      gap: 12px;\n",
              "    }\n",
              "\n",
              "    .colab-df-convert {\n",
              "      background-color: #E8F0FE;\n",
              "      border: none;\n",
              "      border-radius: 50%;\n",
              "      cursor: pointer;\n",
              "      display: none;\n",
              "      fill: #1967D2;\n",
              "      height: 32px;\n",
              "      padding: 0 0 0 0;\n",
              "      width: 32px;\n",
              "    }\n",
              "\n",
              "    .colab-df-convert:hover {\n",
              "      background-color: #E2EBFA;\n",
              "      box-shadow: 0px 1px 2px rgba(60, 64, 67, 0.3), 0px 1px 3px 1px rgba(60, 64, 67, 0.15);\n",
              "      fill: #174EA6;\n",
              "    }\n",
              "\n",
              "    .colab-df-buttons div {\n",
              "      margin-bottom: 4px;\n",
              "    }\n",
              "\n",
              "    [theme=dark] .colab-df-convert {\n",
              "      background-color: #3B4455;\n",
              "      fill: #D2E3FC;\n",
              "    }\n",
              "\n",
              "    [theme=dark] .colab-df-convert:hover {\n",
              "      background-color: #434B5C;\n",
              "      box-shadow: 0px 1px 3px 1px rgba(0, 0, 0, 0.15);\n",
              "      filter: drop-shadow(0px 1px 2px rgba(0, 0, 0, 0.3));\n",
              "      fill: #FFFFFF;\n",
              "    }\n",
              "  </style>\n",
              "\n",
              "    <script>\n",
              "      const buttonEl =\n",
              "        document.querySelector('#df-1d93f1c6-5545-4616-b89b-03b34f424ce9 button.colab-df-convert');\n",
              "      buttonEl.style.display =\n",
              "        google.colab.kernel.accessAllowed ? 'block' : 'none';\n",
              "\n",
              "      async function convertToInteractive(key) {\n",
              "        const element = document.querySelector('#df-1d93f1c6-5545-4616-b89b-03b34f424ce9');\n",
              "        const dataTable =\n",
              "          await google.colab.kernel.invokeFunction('convertToInteractive',\n",
              "                                                    [key], {});\n",
              "        if (!dataTable) return;\n",
              "\n",
              "        const docLinkHtml = 'Like what you see? Visit the ' +\n",
              "          '<a target=\"_blank\" href=https://colab.research.google.com/notebooks/data_table.ipynb>data table notebook</a>'\n",
              "          + ' to learn more about interactive tables.';\n",
              "        element.innerHTML = '';\n",
              "        dataTable['output_type'] = 'display_data';\n",
              "        await google.colab.output.renderOutput(dataTable, element);\n",
              "        const docLink = document.createElement('div');\n",
              "        docLink.innerHTML = docLinkHtml;\n",
              "        element.appendChild(docLink);\n",
              "      }\n",
              "    </script>\n",
              "  </div>\n",
              "\n",
              "\n",
              "<div id=\"df-427ba9b2-de50-439f-9fe8-978341bcb986\">\n",
              "  <button class=\"colab-df-quickchart\" onclick=\"quickchart('df-427ba9b2-de50-439f-9fe8-978341bcb986')\"\n",
              "            title=\"Suggest charts\"\n",
              "            style=\"display:none;\">\n",
              "\n",
              "<svg xmlns=\"http://www.w3.org/2000/svg\" height=\"24px\"viewBox=\"0 0 24 24\"\n",
              "     width=\"24px\">\n",
              "    <g>\n",
              "        <path d=\"M19 3H5c-1.1 0-2 .9-2 2v14c0 1.1.9 2 2 2h14c1.1 0 2-.9 2-2V5c0-1.1-.9-2-2-2zM9 17H7v-7h2v7zm4 0h-2V7h2v10zm4 0h-2v-4h2v4z\"/>\n",
              "    </g>\n",
              "</svg>\n",
              "  </button>\n",
              "\n",
              "<style>\n",
              "  .colab-df-quickchart {\n",
              "      --bg-color: #E8F0FE;\n",
              "      --fill-color: #1967D2;\n",
              "      --hover-bg-color: #E2EBFA;\n",
              "      --hover-fill-color: #174EA6;\n",
              "      --disabled-fill-color: #AAA;\n",
              "      --disabled-bg-color: #DDD;\n",
              "  }\n",
              "\n",
              "  [theme=dark] .colab-df-quickchart {\n",
              "      --bg-color: #3B4455;\n",
              "      --fill-color: #D2E3FC;\n",
              "      --hover-bg-color: #434B5C;\n",
              "      --hover-fill-color: #FFFFFF;\n",
              "      --disabled-bg-color: #3B4455;\n",
              "      --disabled-fill-color: #666;\n",
              "  }\n",
              "\n",
              "  .colab-df-quickchart {\n",
              "    background-color: var(--bg-color);\n",
              "    border: none;\n",
              "    border-radius: 50%;\n",
              "    cursor: pointer;\n",
              "    display: none;\n",
              "    fill: var(--fill-color);\n",
              "    height: 32px;\n",
              "    padding: 0;\n",
              "    width: 32px;\n",
              "  }\n",
              "\n",
              "  .colab-df-quickchart:hover {\n",
              "    background-color: var(--hover-bg-color);\n",
              "    box-shadow: 0 1px 2px rgba(60, 64, 67, 0.3), 0 1px 3px 1px rgba(60, 64, 67, 0.15);\n",
              "    fill: var(--button-hover-fill-color);\n",
              "  }\n",
              "\n",
              "  .colab-df-quickchart-complete:disabled,\n",
              "  .colab-df-quickchart-complete:disabled:hover {\n",
              "    background-color: var(--disabled-bg-color);\n",
              "    fill: var(--disabled-fill-color);\n",
              "    box-shadow: none;\n",
              "  }\n",
              "\n",
              "  .colab-df-spinner {\n",
              "    border: 2px solid var(--fill-color);\n",
              "    border-color: transparent;\n",
              "    border-bottom-color: var(--fill-color);\n",
              "    animation:\n",
              "      spin 1s steps(1) infinite;\n",
              "  }\n",
              "\n",
              "  @keyframes spin {\n",
              "    0% {\n",
              "      border-color: transparent;\n",
              "      border-bottom-color: var(--fill-color);\n",
              "      border-left-color: var(--fill-color);\n",
              "    }\n",
              "    20% {\n",
              "      border-color: transparent;\n",
              "      border-left-color: var(--fill-color);\n",
              "      border-top-color: var(--fill-color);\n",
              "    }\n",
              "    30% {\n",
              "      border-color: transparent;\n",
              "      border-left-color: var(--fill-color);\n",
              "      border-top-color: var(--fill-color);\n",
              "      border-right-color: var(--fill-color);\n",
              "    }\n",
              "    40% {\n",
              "      border-color: transparent;\n",
              "      border-right-color: var(--fill-color);\n",
              "      border-top-color: var(--fill-color);\n",
              "    }\n",
              "    60% {\n",
              "      border-color: transparent;\n",
              "      border-right-color: var(--fill-color);\n",
              "    }\n",
              "    80% {\n",
              "      border-color: transparent;\n",
              "      border-right-color: var(--fill-color);\n",
              "      border-bottom-color: var(--fill-color);\n",
              "    }\n",
              "    90% {\n",
              "      border-color: transparent;\n",
              "      border-bottom-color: var(--fill-color);\n",
              "    }\n",
              "  }\n",
              "</style>\n",
              "\n",
              "  <script>\n",
              "    async function quickchart(key) {\n",
              "      const quickchartButtonEl =\n",
              "        document.querySelector('#' + key + ' button');\n",
              "      quickchartButtonEl.disabled = true;  // To prevent multiple clicks.\n",
              "      quickchartButtonEl.classList.add('colab-df-spinner');\n",
              "      try {\n",
              "        const charts = await google.colab.kernel.invokeFunction(\n",
              "            'suggestCharts', [key], {});\n",
              "      } catch (error) {\n",
              "        console.error('Error during call to suggestCharts:', error);\n",
              "      }\n",
              "      quickchartButtonEl.classList.remove('colab-df-spinner');\n",
              "      quickchartButtonEl.classList.add('colab-df-quickchart-complete');\n",
              "    }\n",
              "    (() => {\n",
              "      let quickchartButtonEl =\n",
              "        document.querySelector('#df-427ba9b2-de50-439f-9fe8-978341bcb986 button');\n",
              "      quickchartButtonEl.style.display =\n",
              "        google.colab.kernel.accessAllowed ? 'block' : 'none';\n",
              "    })();\n",
              "  </script>\n",
              "</div>\n",
              "    </div>\n",
              "  </div>\n"
            ],
            "application/vnd.google.colaboratory.intrinsic+json": {
              "type": "dataframe",
              "repr_error": "0"
            }
          },
          "metadata": {},
          "execution_count": 7
        }
      ],
      "source": [
        "raw_data_movies[~raw_data_movies['puNumber'].str.isdigit()]"
      ]
    },
    {
      "cell_type": "markdown",
      "metadata": {
        "id": "wWaYz474bL0q"
      },
      "source": [
        "Данные строки `puNumber` имеют разные типы данных, их можно привести к типу `int`, но правильнее всего привести их к типу `float`, чтобы заменить отличные от чисел значения на `NaN`, т.к. по строке `804` отсутсвуют данные в категории `box_office`."
      ]
    },
    {
      "cell_type": "code",
      "execution_count": null,
      "metadata": {
        "id": "Jj6O-YMabL0q"
      },
      "outputs": [],
      "source": [
        "def convert_to_int(val):\n",
        "    if val.isdigit():\n",
        "        return int(val)\n",
        "    return float('nan')"
      ]
    },
    {
      "cell_type": "code",
      "execution_count": null,
      "metadata": {
        "id": "tyLALeakbL0q"
      },
      "outputs": [],
      "source": [
        "raw_data_movies['puNumber'] = raw_data_movies['puNumber'].apply(convert_to_int)"
      ]
    },
    {
      "cell_type": "code",
      "execution_count": null,
      "metadata": {
        "id": "ZDOdHAg6bL0r",
        "outputId": "74c92b33-9087-46da-f403-ddf46c3dd3dd",
        "colab": {
          "base_uri": "https://localhost:8080/"
        }
      },
      "outputs": [
        {
          "output_type": "stream",
          "name": "stdout",
          "text": [
            "<class 'pandas.core.frame.DataFrame'>\n",
            "RangeIndex: 7486 entries, 0 to 7485\n",
            "Data columns (total 15 columns):\n",
            " #   Column                 Non-Null Count  Dtype  \n",
            "---  ------                 --------------  -----  \n",
            " 0   title                  7486 non-null   object \n",
            " 1   puNumber               7484 non-null   float64\n",
            " 2   show_start_date        7486 non-null   object \n",
            " 3   type                   7486 non-null   object \n",
            " 4   film_studio            7468 non-null   object \n",
            " 5   production_country     7484 non-null   object \n",
            " 6   director               7477 non-null   object \n",
            " 7   producer               6918 non-null   object \n",
            " 8   age_restriction        7486 non-null   object \n",
            " 9   refundable_support     332 non-null    float64\n",
            " 10  nonrefundable_support  332 non-null    float64\n",
            " 11  budget                 332 non-null    float64\n",
            " 12  financing_source       332 non-null    object \n",
            " 13  ratings                6519 non-null   object \n",
            " 14  genres                 6510 non-null   object \n",
            "dtypes: float64(4), object(11)\n",
            "memory usage: 877.4+ KB\n"
          ]
        }
      ],
      "source": [
        "raw_data_movies.info()"
      ]
    },
    {
      "cell_type": "markdown",
      "metadata": {
        "id": "Iln3Jz2gbL0r"
      },
      "source": [
        "Далее нам необходимо объединить обе таблицы в один датафрейм. Объединять будем по колонке `puNumber` с помощью метода `merge`, т.к. он является наиболее оптимальным по сравнению с `join`."
      ]
    },
    {
      "cell_type": "code",
      "execution_count": null,
      "metadata": {
        "scrolled": false,
        "id": "OwgY0wJPbL0r"
      },
      "outputs": [],
      "source": [
        "raw_data_movies = raw_data_movies.merge(raw_data_shows, on='puNumber', how='left')"
      ]
    },
    {
      "cell_type": "code",
      "execution_count": null,
      "metadata": {
        "scrolled": true,
        "id": "NjE-9xDZbL0r",
        "outputId": "09bf5a98-c548-4dce-90ae-24f5fe2ad3a8",
        "colab": {
          "base_uri": "https://localhost:8080/"
        }
      },
      "outputs": [
        {
          "output_type": "stream",
          "name": "stdout",
          "text": [
            "<class 'pandas.core.frame.DataFrame'>\n",
            "RangeIndex: 7486 entries, 0 to 7485\n",
            "Data columns (total 16 columns):\n",
            " #   Column                 Non-Null Count  Dtype  \n",
            "---  ------                 --------------  -----  \n",
            " 0   title                  7486 non-null   object \n",
            " 1   puNumber               7484 non-null   float64\n",
            " 2   show_start_date        7486 non-null   object \n",
            " 3   type                   7486 non-null   object \n",
            " 4   film_studio            7468 non-null   object \n",
            " 5   production_country     7484 non-null   object \n",
            " 6   director               7477 non-null   object \n",
            " 7   producer               6918 non-null   object \n",
            " 8   age_restriction        7486 non-null   object \n",
            " 9   refundable_support     332 non-null    float64\n",
            " 10  nonrefundable_support  332 non-null    float64\n",
            " 11  budget                 332 non-null    float64\n",
            " 12  financing_source       332 non-null    object \n",
            " 13  ratings                6519 non-null   object \n",
            " 14  genres                 6510 non-null   object \n",
            " 15  box_office             3158 non-null   float64\n",
            "dtypes: float64(5), object(11)\n",
            "memory usage: 935.9+ KB\n"
          ]
        }
      ],
      "source": [
        "raw_data_movies.info()"
      ]
    },
    {
      "cell_type": "markdown",
      "metadata": {
        "id": "Izezr2c1bL0s"
      },
      "source": [
        "Количество строк стало `7486`, что совпадает с количеством до объединения. Следовательно, объединение прошло без потери данных."
      ]
    },
    {
      "cell_type": "markdown",
      "metadata": {
        "id": "FnL7KBYQbL0s"
      },
      "source": [
        "## Вывод"
      ]
    },
    {
      "cell_type": "markdown",
      "metadata": {
        "id": "BC56OV9ebL0s"
      },
      "source": [
        "Были выявлены проблемы с типом данных в стобце `puNumber`. Данную проблему мы решили, создав функцию, которая поспособствовала объединению таблиц в один датафрейм с помощью метода `merge`."
      ]
    },
    {
      "cell_type": "markdown",
      "metadata": {
        "id": "KLDGpPG0gFyM"
      },
      "source": [
        "# Предобработка данных"
      ]
    },
    {
      "cell_type": "code",
      "source": [
        "data_movies = raw_data_movies.copy()\n",
        "data_shows = raw_data_shows.copy()"
      ],
      "metadata": {
        "id": "ZEb9ssgrnyjM"
      },
      "execution_count": null,
      "outputs": []
    },
    {
      "cell_type": "markdown",
      "metadata": {
        "id": "ssWwKXsxgFyO"
      },
      "source": [
        "## Преобразование типов данных"
      ]
    },
    {
      "cell_type": "markdown",
      "source": [
        "Проверим типы данных в датафрейме и преобразуем их там, где это необходимо."
      ],
      "metadata": {
        "id": "aXXK5nVW8Ya5"
      }
    },
    {
      "cell_type": "code",
      "execution_count": null,
      "metadata": {
        "id": "G4OJATxWbL0t",
        "outputId": "958694f7-4109-41e6-836c-29f4c0719cef",
        "colab": {
          "base_uri": "https://localhost:8080/"
        }
      },
      "outputs": [
        {
          "output_type": "stream",
          "name": "stdout",
          "text": [
            "<class 'pandas.core.frame.DataFrame'>\n",
            "RangeIndex: 7486 entries, 0 to 7485\n",
            "Data columns (total 16 columns):\n",
            " #   Column                 Non-Null Count  Dtype  \n",
            "---  ------                 --------------  -----  \n",
            " 0   title                  7486 non-null   object \n",
            " 1   puNumber               7484 non-null   float64\n",
            " 2   show_start_date        7486 non-null   object \n",
            " 3   type                   7486 non-null   object \n",
            " 4   film_studio            7468 non-null   object \n",
            " 5   production_country     7484 non-null   object \n",
            " 6   director               7477 non-null   object \n",
            " 7   producer               6918 non-null   object \n",
            " 8   age_restriction        7486 non-null   object \n",
            " 9   refundable_support     332 non-null    float64\n",
            " 10  nonrefundable_support  332 non-null    float64\n",
            " 11  budget                 332 non-null    float64\n",
            " 12  financing_source       332 non-null    object \n",
            " 13  ratings                6519 non-null   object \n",
            " 14  genres                 6510 non-null   object \n",
            " 15  box_office             3158 non-null   float64\n",
            "dtypes: float64(5), object(11)\n",
            "memory usage: 935.9+ KB\n"
          ]
        }
      ],
      "source": [
        "data_movies.info()"
      ]
    },
    {
      "cell_type": "markdown",
      "metadata": {
        "id": "BlPF3juXbL0t"
      },
      "source": [
        "`show_start_date` — дата премьеры фильма, нужно привести к типу `dateline`  \n",
        "`ratings ` — рейтинг фильма на КиноПоиске, нужно привести к типу `flost`"
      ]
    },
    {
      "cell_type": "code",
      "execution_count": null,
      "metadata": {
        "id": "hcFaKBOebL0u"
      },
      "outputs": [],
      "source": [
        "data_movies['show_start_date'] = pd.to_datetime(data_movies['show_start_date'], format='%Y-%m-%dT%H:%M:%S.%fZ')"
      ]
    },
    {
      "cell_type": "markdown",
      "metadata": {
        "id": "hLWujhN5bL0u"
      },
      "source": [
        "Столбец `ratings`, нельзя перевести методом `to_numeric`, т.к. имеются строки, имеющие рейтинг в виде %."
      ]
    },
    {
      "cell_type": "code",
      "execution_count": null,
      "metadata": {
        "id": "JxzCx3X7bL0u",
        "outputId": "bd252e7b-1f72-4fb6-ecca-c854b3985ce9",
        "colab": {
          "base_uri": "https://localhost:8080/",
          "height": 1000
        }
      },
      "outputs": [
        {
          "output_type": "execute_result",
          "data": {
            "text/plain": [
              "                                                  title       puNumber  \\\n",
              "259                                             Прошлое 221,030,715.00   \n",
              "811                                           От винта! 114,000,212.00   \n",
              "1053                                   Песочный человек 121,029,212.00   \n",
              "1341                               Сказка о добре и Вре 111,008,913.00   \n",
              "1805                                           Спираль. 111,001,014.00   \n",
              "1874                         Короткие истории о любви 2 121,002,615.00   \n",
              "1899  Золушка /По сказке Шарля Перро/. Холодное торж... 121,003,615.00   \n",
              "2126                                   Поездка к матери 111,002,015.00   \n",
              "2146                                            Главный 111,003,415.00   \n",
              "2438                                    Самый рыжий Лис 111,012,715.00   \n",
              "2680                                   Год Белого Слона 111,003,915.00   \n",
              "3139                                      Я умею вязать 111,019,615.00   \n",
              "3431                                             Наурыз 131,000,217.00   \n",
              "3439                                 Семь диких историй 126,005,916.00   \n",
              "3446                       Короткие истории о любви - 4 126,006,316.00   \n",
              "3514                                          Чужой дом 111,015,516.00   \n",
              "3585  Машины Страшилки. Серия \"Жутчайшая повесть о п... 114,003,916.00   \n",
              "3786                                           Охотники 111,017,816.00   \n",
              "3948                                             Круиз. 211,038,210.00   \n",
              "5332                                            Добыча. 121,009,411.00   \n",
              "5455                                       Вечный холод 111,006,417.00   \n",
              "5821                                             Свинья 121,007,018.00   \n",
              "5910                                               Мира 112,000,118.00   \n",
              "6426      Памятные даты России. Партизаны и подпольщики 112,013,018.00   \n",
              "6616                             ОТ ВОЙНЫ ДО НАШИХ ДНЕЙ 111,026,518.00   \n",
              "6737                                     Колесо времени 111,003,219.00   \n",
              "6882                          Животные рядом со Святыми 112,003,719.00   \n",
              "7159                    Анна Каренина. Интимный дневник 111,013,919.00   \n",
              "7277                                             Добыча 121,028,319.00   \n",
              "\n",
              "         show_start_date             type  \\\n",
              "259  2015-07-29 12:00:00   Художественный   \n",
              "811  2012-08-06 12:00:00     Анимационный   \n",
              "1053 2012-11-29 12:00:00   Художественный   \n",
              "1341 2013-11-15 12:00:00   Художественный   \n",
              "1805 2014-01-30 12:00:00   Художественный   \n",
              "1874 2015-02-13 12:00:00   Художественный   \n",
              "1899 2015-02-27 12:00:00   Художественный   \n",
              "2126 2015-03-02 12:00:00   Художественный   \n",
              "2146 2015-03-27 12:00:00   Художественный   \n",
              "2438 2015-07-30 12:00:00   Художественный   \n",
              "2680 2015-04-08 12:00:00   Художественный   \n",
              "3139 2015-11-27 12:00:00   Художественный   \n",
              "3431 2017-03-09 12:00:00   Художественный   \n",
              "3439 2016-11-28 12:00:00           Прочие   \n",
              "3446 2016-12-30 12:00:00           Прочие   \n",
              "3514 2016-09-14 12:00:00   Художественный   \n",
              "3585 2016-12-09 12:00:00     Анимационный   \n",
              "3786 2016-02-06 12:00:00   Художественный   \n",
              "3948 2010-09-03 12:00:00   Художественный   \n",
              "5332 2011-06-15 12:00:00   Художественный   \n",
              "5455 2017-08-28 12:00:00   Художественный   \n",
              "5821 2018-04-11 12:00:00   Художественный   \n",
              "5910 2018-06-04 12:00:00   Документальный   \n",
              "6426 2018-11-28 12:00:00   Документальный   \n",
              "6616 2019-01-21 12:00:00   Художественный   \n",
              "6737 2019-03-01 12:00:00   Художественный   \n",
              "6882 2019-05-03 12:00:00   Документальный   \n",
              "7159 2019-10-23 12:00:00   Художественный   \n",
              "7277 2019-10-03 12:00:00   Художественный   \n",
              "\n",
              "                                            film_studio  \\\n",
              "259   20 Сенчюри Фокс де Архентина, Чемо, ЭйчБи Филм...   \n",
              "811                   ЗАО \"Продюсерский центр \"Парадиз\"   \n",
              "1053                            Спотлайт Медиа Продакшн   \n",
              "1341                     НП \"Студия игрового кино \"Лик\"   \n",
              "1805                               ООО \"Компания Питон\"   \n",
              "1874  Кавиар, Курт 13, СтритЛайт Филмз, Нэйер Дойче ...   \n",
              "1899                    Женр Филмз, Уолт Дисней Пикчерз   \n",
              "2126                         ЗАО \"Киностудия \"М\"-Фильм\"   \n",
              "2146                           ООО \"Киностудия \"МАСТЕР\"   \n",
              "2438                 ООО \"Продюсерский центр \"Ленфильм\"   \n",
              "2680                    ООО \"Творческое объединение ЮГ\"   \n",
              "3139                                ООО \"Белое Зеркало\"   \n",
              "3431                                             Эс Джи   \n",
              "3439  Макс Бэйкер, Джон Е.Брайан, Пьер-Луи Гарнон,  ...   \n",
              "3446  Нетворг Айлэнд Телевижн, Магнетфильм, Шорткатс...   \n",
              "3514                                ООО \"Лига Продакшн\"   \n",
              "3585           ООО Студия \"АНИМАККОРД\", АНИМАККОРД ЛТД.   \n",
              "3786                Селиверстов Александр Александрович   \n",
              "3948                ООО \"ЮНАЙТЕД МУЛЬТИМЕДИА ПРОДЖЕКТС\"   \n",
              "5332                                   Афтер Дарк Филмз   \n",
              "5455  ЗАО \"Производственный комплекс \"ГЛАВКИНО\", ООО...   \n",
              "5821    Дарк Прекёрсор Продакшен, Филмиран, Хедейт Филм   \n",
              "5910                         ООО \"Компания \"Новые люди\"   \n",
              "6426                          ООО Кинокомпания \"Вектор\"   \n",
              "6616                  ИП Вайсман Анатолий Александрович   \n",
              "6737                                    ООО \"БестМедиа\"   \n",
              "6882                       ООО \"Кинопрограмма \"XXI век\"   \n",
              "7159                                          ООО \"РТВ\"   \n",
              "7277  Блумхаус Продакшнз, Хайд Парк Интертейнмент, Т...   \n",
              "\n",
              "                                     production_country  \\\n",
              "259                                Аргентина - Бразилия   \n",
              "811                                              Россия   \n",
              "1053                                          Швейцария   \n",
              "1341                                             Россия   \n",
              "1805                                             Россия   \n",
              "1874  Нидерланды - США - Германия - Канада - Франция...   \n",
              "1899                                                США   \n",
              "2126                                             Россия   \n",
              "2146                                             Россия   \n",
              "2438                                             Россия   \n",
              "2680                                             Россия   \n",
              "3139                                             Россия   \n",
              "3431                               Республика Казахстан   \n",
              "3439                       США - Пуэрто-Рико - Франция    \n",
              "3446  Великобритания - Аргентина - США - Франция - Р...   \n",
              "3514                  Россия, Грузия, Хорватия, Испания   \n",
              "3585                            Россия, Республика Кипр   \n",
              "3786                                             Россия   \n",
              "3948                                             Россия   \n",
              "5332                                                США   \n",
              "5455                                             Россия   \n",
              "5821                                               Иран   \n",
              "5910                                             Россия   \n",
              "6426                                             Россия   \n",
              "6616                                             Россия   \n",
              "6737                                             Россия   \n",
              "6882                                             Россия   \n",
              "7159                                             Россия   \n",
              "7277                                                США   \n",
              "\n",
              "                                               director  \\\n",
              "259                                       Эктор Бабенко   \n",
              "811                                            О.Лопато   \n",
              "1053                                        Питер Луизи   \n",
              "1341                                          Е.Шиляева   \n",
              "1805                                           А.Волгин   \n",
              "1874  Мэтью Аувро, Лео Брайдл, Бен Бренд, Ден Кларк,...   \n",
              "1899                                       Кеннет Брана   \n",
              "2126                                 М.Косырев-Нестеров   \n",
              "2146                                             Ю.Кара   \n",
              "2438                                        А.Стреляная   \n",
              "2680                                           Ю.Грымов   \n",
              "3139                  Н.Степанова при участии С.Иванова   \n",
              "3431                                     Аскар Бисембин   \n",
              "3439  М.Бэйкер, Д.Е.Брайант, Д.Рондот, Я.Серсар, Д.С...   \n",
              "3446  Д.Адар, П.Антохин, М.Биасин, А.Бурунова, К.Кол...   \n",
              "3514                                       Р.Глурджидзе   \n",
              "3585                                         Д.Червяцов   \n",
              "3786                                      А.Селиверстов   \n",
              "3948                                        И.Ромащенко   \n",
              "5332                                    Патрик Сиверсен   \n",
              "5455                                          А.Мигачев   \n",
              "5821                                        Мани Хагиги   \n",
              "5910                                           Д.Шабаев   \n",
              "6426                             Н.Иванова, А.Кузнецова   \n",
              "6616  А.Сазонов, Е.Климович, А.Коломеец, С.Черникова...   \n",
              "6737                                         Б.Куломзин   \n",
              "6882                                         Т.Мирошник   \n",
              "7159                                           Ю.Грымов   \n",
              "7277                                       Франк Халфун   \n",
              "\n",
              "                                               producer  \\\n",
              "259            Эктор Бабенко, Оскар Крамер, Хуго Сидмэн   \n",
              "811                 Г.Нерсисян, А.Манасарян, А.Нерсесян   \n",
              "1053                           Дэвид Луизи, Питер Луизи   \n",
              "1341                                        К.Терещенко   \n",
              "1805                                         Е.Ковалева   \n",
              "1874  Мэри Пэт Бентел, Бен Бренд, Сиара Гиллан, Джор...   \n",
              "1899       Дэвид Бэррон, Саймон Кинберг, Эллисон Ширмур   \n",
              "2126                                 М.Косырев-Нестеров   \n",
              "2146                                             Ю.Кара   \n",
              "2438                           А.Котелевский, Э.Пичугин   \n",
              "2680                                          П.Поляков   \n",
              "3139                          С.Кикнавелидзе, Д.Улюкаев   \n",
              "3431                 Олег Головашкин, Алмас Султангазин   \n",
              "3439  М.Бэйкер, Д.Е.Брайан, П.-Л.Гарнон, М.Х.Дельгад...   \n",
              "3446  Д.Адар, Д.Амсон, П.Антохин, А.Армстронг, С.Бил...   \n",
              "3514        З.Магалашвили, К.Гечмен-Вальдек, Н.Горшкова   \n",
              "3585                              Д.Ловейко, О.Кузовков   \n",
              "3786                 Е.Тарковская, Т.Лагода, Д.Степанян   \n",
              "3948                                     Р.Атамалибеков   \n",
              "5332                        Закари Ти Брайан, Кристофер   \n",
              "5455                                          И.Бачурин   \n",
              "5821                                        Мани Хагиги   \n",
              "5910                                        Н.Мокрицкая   \n",
              "6426                                        В.Коханович   \n",
              "6616  Д.Руюежин, Л.Пятницкая, Д.Колеров, Э.Ким, А.Хомич   \n",
              "6737                                         Б.Куломзин   \n",
              "6882                               В.Есинов, Е.Калинина   \n",
              "7159                                           Ю.Грымов   \n",
              "7277         Ашок Амритрадж, Джейсон Блум, Трэвис Клафф   \n",
              "\n",
              "                             age_restriction  refundable_support  \\\n",
              "259          «16+» - для детей старше 16 лет                 NaN   \n",
              "811          «12+» - для детей старше 12 лет                 NaN   \n",
              "1053         «16+» - для детей старше 16 лет                 NaN   \n",
              "1341           «6+» - для детей старше 6 лет                 NaN   \n",
              "1805         «12+» - для детей старше 12 лет                 NaN   \n",
              "1874             «18+» - запрещено для детей                 NaN   \n",
              "1899           «6+» - для детей старше 6 лет                 NaN   \n",
              "2126         «16+» - для детей старше 16 лет                 NaN   \n",
              "2146           «6+» - для детей старше 6 лет                0.00   \n",
              "2438           «6+» - для детей старше 6 лет                 NaN   \n",
              "2680           «6+» - для детей старше 6 лет                 NaN   \n",
              "3139         «16+» - для детей старше 16 лет                0.00   \n",
              "3431         «12+» - для детей старше 12 лет                 NaN   \n",
              "3439             «18+» - запрещено для детей                 NaN   \n",
              "3446             «18+» - запрещено для детей                 NaN   \n",
              "3514         «12+» - для детей старше 12 лет                 NaN   \n",
              "3585  «0+» - для любой зрительской аудитории                 NaN   \n",
              "3786         «16+» - для детей старше 16 лет                 NaN   \n",
              "3948         «16+» - для детей старше 16 лет                 NaN   \n",
              "5332             «18+» - запрещено для детей                 NaN   \n",
              "5455             «18+» - запрещено для детей                 NaN   \n",
              "5821             «18+» - запрещено для детей                 NaN   \n",
              "5910             «18+» - запрещено для детей                 NaN   \n",
              "6426         «12+» - для детей старше 12 лет                 NaN   \n",
              "6616         «12+» - для детей старше 12 лет                 NaN   \n",
              "6737           «6+» - для детей старше 6 лет                 NaN   \n",
              "6882  «0+» - для любой зрительской аудитории                 NaN   \n",
              "7159         «16+» - для детей старше 16 лет                 NaN   \n",
              "7277         «16+» - для детей старше 16 лет                 NaN   \n",
              "\n",
              "      nonrefundable_support        budget       financing_source ratings  \\\n",
              "259                     NaN           NaN                    NaN     99%   \n",
              "811                     NaN           NaN                    NaN     28%   \n",
              "1053                    NaN           NaN                    NaN     97%   \n",
              "1341                    NaN           NaN                    NaN     99%   \n",
              "1805                    NaN           NaN                    NaN     99%   \n",
              "1874                    NaN           NaN                    NaN     83%   \n",
              "1899                    NaN           NaN                    NaN     64%   \n",
              "2126                    NaN           NaN                    NaN     91%   \n",
              "2146          10,000,000.00 40,000,000.00  Министерство культуры     94%   \n",
              "2438                    NaN           NaN                    NaN     62%   \n",
              "2680                    NaN           NaN                    NaN     79%   \n",
              "3139           4,700,000.00 14,462,464.00  Министерство культуры     90%   \n",
              "3431                    NaN           NaN                    NaN     19%   \n",
              "3439                    NaN           NaN                    NaN     88%   \n",
              "3446                    NaN           NaN                    NaN     83%   \n",
              "3514                    NaN           NaN                    NaN     91%   \n",
              "3585                    NaN           NaN                    NaN     97%   \n",
              "3786                    NaN           NaN                    NaN     89%   \n",
              "3948                    NaN           NaN                    NaN     97%   \n",
              "5332                    NaN           NaN                    NaN     88%   \n",
              "5455                    NaN           NaN                    NaN     83%   \n",
              "5821                    NaN           NaN                    NaN     94%   \n",
              "5910                    NaN           NaN                    NaN     94%   \n",
              "6426                    NaN           NaN                    NaN     91%   \n",
              "6616                    NaN           NaN                    NaN     98%   \n",
              "6737                    NaN           NaN                    NaN     98%   \n",
              "6882                    NaN           NaN                    NaN     99%   \n",
              "7159                    NaN           NaN                    NaN     79%   \n",
              "7277                    NaN           NaN                    NaN     88%   \n",
              "\n",
              "                           genres     box_office  \n",
              "259           ужасы,триллер,драма            NaN  \n",
              "811   детский,приключения,комедия       1,740.00  \n",
              "1053     ужасы,фантастика,фэнтези            NaN  \n",
              "1341       триллер,драма,детектив            NaN  \n",
              "1805       аниме,мультфильм,ужасы       4,295.00  \n",
              "1874                          NaN   1,429,859.00  \n",
              "1899     мюзикл,фэнтези,мелодрама 528,732,557.70  \n",
              "2126               драма,семейный           0.00  \n",
              "2146    фантастика,боевик,комедия     334,750.00  \n",
              "2438             фэнтези,семейный            NaN  \n",
              "2680                     семейный            NaN  \n",
              "3139                        драма     801,370.00  \n",
              "3431                      комедия      37,960.00  \n",
              "3439                          NaN   1,025,937.00  \n",
              "3446                          NaN   2,266,408.00  \n",
              "3514                        драма            NaN  \n",
              "3585     мультфильм,ужасы,фэнтези            NaN  \n",
              "3786    фантастика,комедия,боевик      82,840.00  \n",
              "3948  приключения,комедия,фэнтези            NaN  \n",
              "5332    фантастика,боевик,триллер            NaN  \n",
              "5455       фэнтези,боевик,триллер            NaN  \n",
              "5821                триллер,драма   1,587,221.51  \n",
              "5910                        драма            NaN  \n",
              "6426              драма,биография            NaN  \n",
              "6616            фантастика,боевик            NaN  \n",
              "6737          фэнтези,приключения      34,992.00  \n",
              "6882               криминал,драма            NaN  \n",
              "7159                        драма     182,882.50  \n",
              "7277    фантастика,боевик,триллер   4,416,590.45  "
            ],
            "text/html": [
              "\n",
              "  <div id=\"df-aaa393bd-60e4-47b0-b7d1-33f4b9f24694\" class=\"colab-df-container\">\n",
              "    <div>\n",
              "<style scoped>\n",
              "    .dataframe tbody tr th:only-of-type {\n",
              "        vertical-align: middle;\n",
              "    }\n",
              "\n",
              "    .dataframe tbody tr th {\n",
              "        vertical-align: top;\n",
              "    }\n",
              "\n",
              "    .dataframe thead th {\n",
              "        text-align: right;\n",
              "    }\n",
              "</style>\n",
              "<table border=\"1\" class=\"dataframe\">\n",
              "  <thead>\n",
              "    <tr style=\"text-align: right;\">\n",
              "      <th></th>\n",
              "      <th>title</th>\n",
              "      <th>puNumber</th>\n",
              "      <th>show_start_date</th>\n",
              "      <th>type</th>\n",
              "      <th>film_studio</th>\n",
              "      <th>production_country</th>\n",
              "      <th>director</th>\n",
              "      <th>producer</th>\n",
              "      <th>age_restriction</th>\n",
              "      <th>refundable_support</th>\n",
              "      <th>nonrefundable_support</th>\n",
              "      <th>budget</th>\n",
              "      <th>financing_source</th>\n",
              "      <th>ratings</th>\n",
              "      <th>genres</th>\n",
              "      <th>box_office</th>\n",
              "    </tr>\n",
              "  </thead>\n",
              "  <tbody>\n",
              "    <tr>\n",
              "      <th>259</th>\n",
              "      <td>Прошлое</td>\n",
              "      <td>221,030,715.00</td>\n",
              "      <td>2015-07-29 12:00:00</td>\n",
              "      <td>Художественный</td>\n",
              "      <td>20 Сенчюри Фокс де Архентина, Чемо, ЭйчБи Филм...</td>\n",
              "      <td>Аргентина - Бразилия</td>\n",
              "      <td>Эктор Бабенко</td>\n",
              "      <td>Эктор Бабенко, Оскар Крамер, Хуго Сидмэн</td>\n",
              "      <td>«16+» - для детей старше 16 лет</td>\n",
              "      <td>NaN</td>\n",
              "      <td>NaN</td>\n",
              "      <td>NaN</td>\n",
              "      <td>NaN</td>\n",
              "      <td>99%</td>\n",
              "      <td>ужасы,триллер,драма</td>\n",
              "      <td>NaN</td>\n",
              "    </tr>\n",
              "    <tr>\n",
              "      <th>811</th>\n",
              "      <td>От винта!</td>\n",
              "      <td>114,000,212.00</td>\n",
              "      <td>2012-08-06 12:00:00</td>\n",
              "      <td>Анимационный</td>\n",
              "      <td>ЗАО \"Продюсерский центр \"Парадиз\"</td>\n",
              "      <td>Россия</td>\n",
              "      <td>О.Лопато</td>\n",
              "      <td>Г.Нерсисян, А.Манасарян, А.Нерсесян</td>\n",
              "      <td>«12+» - для детей старше 12 лет</td>\n",
              "      <td>NaN</td>\n",
              "      <td>NaN</td>\n",
              "      <td>NaN</td>\n",
              "      <td>NaN</td>\n",
              "      <td>28%</td>\n",
              "      <td>детский,приключения,комедия</td>\n",
              "      <td>1,740.00</td>\n",
              "    </tr>\n",
              "    <tr>\n",
              "      <th>1053</th>\n",
              "      <td>Песочный человек</td>\n",
              "      <td>121,029,212.00</td>\n",
              "      <td>2012-11-29 12:00:00</td>\n",
              "      <td>Художественный</td>\n",
              "      <td>Спотлайт Медиа Продакшн</td>\n",
              "      <td>Швейцария</td>\n",
              "      <td>Питер Луизи</td>\n",
              "      <td>Дэвид Луизи, Питер Луизи</td>\n",
              "      <td>«16+» - для детей старше 16 лет</td>\n",
              "      <td>NaN</td>\n",
              "      <td>NaN</td>\n",
              "      <td>NaN</td>\n",
              "      <td>NaN</td>\n",
              "      <td>97%</td>\n",
              "      <td>ужасы,фантастика,фэнтези</td>\n",
              "      <td>NaN</td>\n",
              "    </tr>\n",
              "    <tr>\n",
              "      <th>1341</th>\n",
              "      <td>Сказка о добре и Вре</td>\n",
              "      <td>111,008,913.00</td>\n",
              "      <td>2013-11-15 12:00:00</td>\n",
              "      <td>Художественный</td>\n",
              "      <td>НП \"Студия игрового кино \"Лик\"</td>\n",
              "      <td>Россия</td>\n",
              "      <td>Е.Шиляева</td>\n",
              "      <td>К.Терещенко</td>\n",
              "      <td>«6+» - для детей старше 6 лет</td>\n",
              "      <td>NaN</td>\n",
              "      <td>NaN</td>\n",
              "      <td>NaN</td>\n",
              "      <td>NaN</td>\n",
              "      <td>99%</td>\n",
              "      <td>триллер,драма,детектив</td>\n",
              "      <td>NaN</td>\n",
              "    </tr>\n",
              "    <tr>\n",
              "      <th>1805</th>\n",
              "      <td>Спираль.</td>\n",
              "      <td>111,001,014.00</td>\n",
              "      <td>2014-01-30 12:00:00</td>\n",
              "      <td>Художественный</td>\n",
              "      <td>ООО \"Компания Питон\"</td>\n",
              "      <td>Россия</td>\n",
              "      <td>А.Волгин</td>\n",
              "      <td>Е.Ковалева</td>\n",
              "      <td>«12+» - для детей старше 12 лет</td>\n",
              "      <td>NaN</td>\n",
              "      <td>NaN</td>\n",
              "      <td>NaN</td>\n",
              "      <td>NaN</td>\n",
              "      <td>99%</td>\n",
              "      <td>аниме,мультфильм,ужасы</td>\n",
              "      <td>4,295.00</td>\n",
              "    </tr>\n",
              "    <tr>\n",
              "      <th>1874</th>\n",
              "      <td>Короткие истории о любви 2</td>\n",
              "      <td>121,002,615.00</td>\n",
              "      <td>2015-02-13 12:00:00</td>\n",
              "      <td>Художественный</td>\n",
              "      <td>Кавиар, Курт 13, СтритЛайт Филмз, Нэйер Дойче ...</td>\n",
              "      <td>Нидерланды - США - Германия - Канада - Франция...</td>\n",
              "      <td>Мэтью Аувро, Лео Брайдл, Бен Бренд, Ден Кларк,...</td>\n",
              "      <td>Мэри Пэт Бентел, Бен Бренд, Сиара Гиллан, Джор...</td>\n",
              "      <td>«18+» - запрещено для детей</td>\n",
              "      <td>NaN</td>\n",
              "      <td>NaN</td>\n",
              "      <td>NaN</td>\n",
              "      <td>NaN</td>\n",
              "      <td>83%</td>\n",
              "      <td>NaN</td>\n",
              "      <td>1,429,859.00</td>\n",
              "    </tr>\n",
              "    <tr>\n",
              "      <th>1899</th>\n",
              "      <td>Золушка /По сказке Шарля Перро/. Холодное торж...</td>\n",
              "      <td>121,003,615.00</td>\n",
              "      <td>2015-02-27 12:00:00</td>\n",
              "      <td>Художественный</td>\n",
              "      <td>Женр Филмз, Уолт Дисней Пикчерз</td>\n",
              "      <td>США</td>\n",
              "      <td>Кеннет Брана</td>\n",
              "      <td>Дэвид Бэррон, Саймон Кинберг, Эллисон Ширмур</td>\n",
              "      <td>«6+» - для детей старше 6 лет</td>\n",
              "      <td>NaN</td>\n",
              "      <td>NaN</td>\n",
              "      <td>NaN</td>\n",
              "      <td>NaN</td>\n",
              "      <td>64%</td>\n",
              "      <td>мюзикл,фэнтези,мелодрама</td>\n",
              "      <td>528,732,557.70</td>\n",
              "    </tr>\n",
              "    <tr>\n",
              "      <th>2126</th>\n",
              "      <td>Поездка к матери</td>\n",
              "      <td>111,002,015.00</td>\n",
              "      <td>2015-03-02 12:00:00</td>\n",
              "      <td>Художественный</td>\n",
              "      <td>ЗАО \"Киностудия \"М\"-Фильм\"</td>\n",
              "      <td>Россия</td>\n",
              "      <td>М.Косырев-Нестеров</td>\n",
              "      <td>М.Косырев-Нестеров</td>\n",
              "      <td>«16+» - для детей старше 16 лет</td>\n",
              "      <td>NaN</td>\n",
              "      <td>NaN</td>\n",
              "      <td>NaN</td>\n",
              "      <td>NaN</td>\n",
              "      <td>91%</td>\n",
              "      <td>драма,семейный</td>\n",
              "      <td>0.00</td>\n",
              "    </tr>\n",
              "    <tr>\n",
              "      <th>2146</th>\n",
              "      <td>Главный</td>\n",
              "      <td>111,003,415.00</td>\n",
              "      <td>2015-03-27 12:00:00</td>\n",
              "      <td>Художественный</td>\n",
              "      <td>ООО \"Киностудия \"МАСТЕР\"</td>\n",
              "      <td>Россия</td>\n",
              "      <td>Ю.Кара</td>\n",
              "      <td>Ю.Кара</td>\n",
              "      <td>«6+» - для детей старше 6 лет</td>\n",
              "      <td>0.00</td>\n",
              "      <td>10,000,000.00</td>\n",
              "      <td>40,000,000.00</td>\n",
              "      <td>Министерство культуры</td>\n",
              "      <td>94%</td>\n",
              "      <td>фантастика,боевик,комедия</td>\n",
              "      <td>334,750.00</td>\n",
              "    </tr>\n",
              "    <tr>\n",
              "      <th>2438</th>\n",
              "      <td>Самый рыжий Лис</td>\n",
              "      <td>111,012,715.00</td>\n",
              "      <td>2015-07-30 12:00:00</td>\n",
              "      <td>Художественный</td>\n",
              "      <td>ООО \"Продюсерский центр \"Ленфильм\"</td>\n",
              "      <td>Россия</td>\n",
              "      <td>А.Стреляная</td>\n",
              "      <td>А.Котелевский, Э.Пичугин</td>\n",
              "      <td>«6+» - для детей старше 6 лет</td>\n",
              "      <td>NaN</td>\n",
              "      <td>NaN</td>\n",
              "      <td>NaN</td>\n",
              "      <td>NaN</td>\n",
              "      <td>62%</td>\n",
              "      <td>фэнтези,семейный</td>\n",
              "      <td>NaN</td>\n",
              "    </tr>\n",
              "    <tr>\n",
              "      <th>2680</th>\n",
              "      <td>Год Белого Слона</td>\n",
              "      <td>111,003,915.00</td>\n",
              "      <td>2015-04-08 12:00:00</td>\n",
              "      <td>Художественный</td>\n",
              "      <td>ООО \"Творческое объединение ЮГ\"</td>\n",
              "      <td>Россия</td>\n",
              "      <td>Ю.Грымов</td>\n",
              "      <td>П.Поляков</td>\n",
              "      <td>«6+» - для детей старше 6 лет</td>\n",
              "      <td>NaN</td>\n",
              "      <td>NaN</td>\n",
              "      <td>NaN</td>\n",
              "      <td>NaN</td>\n",
              "      <td>79%</td>\n",
              "      <td>семейный</td>\n",
              "      <td>NaN</td>\n",
              "    </tr>\n",
              "    <tr>\n",
              "      <th>3139</th>\n",
              "      <td>Я умею вязать</td>\n",
              "      <td>111,019,615.00</td>\n",
              "      <td>2015-11-27 12:00:00</td>\n",
              "      <td>Художественный</td>\n",
              "      <td>ООО \"Белое Зеркало\"</td>\n",
              "      <td>Россия</td>\n",
              "      <td>Н.Степанова при участии С.Иванова</td>\n",
              "      <td>С.Кикнавелидзе, Д.Улюкаев</td>\n",
              "      <td>«16+» - для детей старше 16 лет</td>\n",
              "      <td>0.00</td>\n",
              "      <td>4,700,000.00</td>\n",
              "      <td>14,462,464.00</td>\n",
              "      <td>Министерство культуры</td>\n",
              "      <td>90%</td>\n",
              "      <td>драма</td>\n",
              "      <td>801,370.00</td>\n",
              "    </tr>\n",
              "    <tr>\n",
              "      <th>3431</th>\n",
              "      <td>Наурыз</td>\n",
              "      <td>131,000,217.00</td>\n",
              "      <td>2017-03-09 12:00:00</td>\n",
              "      <td>Художественный</td>\n",
              "      <td>Эс Джи</td>\n",
              "      <td>Республика Казахстан</td>\n",
              "      <td>Аскар Бисембин</td>\n",
              "      <td>Олег Головашкин, Алмас Султангазин</td>\n",
              "      <td>«12+» - для детей старше 12 лет</td>\n",
              "      <td>NaN</td>\n",
              "      <td>NaN</td>\n",
              "      <td>NaN</td>\n",
              "      <td>NaN</td>\n",
              "      <td>19%</td>\n",
              "      <td>комедия</td>\n",
              "      <td>37,960.00</td>\n",
              "    </tr>\n",
              "    <tr>\n",
              "      <th>3439</th>\n",
              "      <td>Семь диких историй</td>\n",
              "      <td>126,005,916.00</td>\n",
              "      <td>2016-11-28 12:00:00</td>\n",
              "      <td>Прочие</td>\n",
              "      <td>Макс Бэйкер, Джон Е.Брайан, Пьер-Луи Гарнон,  ...</td>\n",
              "      <td>США - Пуэрто-Рико - Франция</td>\n",
              "      <td>М.Бэйкер, Д.Е.Брайант, Д.Рондот, Я.Серсар, Д.С...</td>\n",
              "      <td>М.Бэйкер, Д.Е.Брайан, П.-Л.Гарнон, М.Х.Дельгад...</td>\n",
              "      <td>«18+» - запрещено для детей</td>\n",
              "      <td>NaN</td>\n",
              "      <td>NaN</td>\n",
              "      <td>NaN</td>\n",
              "      <td>NaN</td>\n",
              "      <td>88%</td>\n",
              "      <td>NaN</td>\n",
              "      <td>1,025,937.00</td>\n",
              "    </tr>\n",
              "    <tr>\n",
              "      <th>3446</th>\n",
              "      <td>Короткие истории о любви - 4</td>\n",
              "      <td>126,006,316.00</td>\n",
              "      <td>2016-12-30 12:00:00</td>\n",
              "      <td>Прочие</td>\n",
              "      <td>Нетворг Айлэнд Телевижн, Магнетфильм, Шорткатс...</td>\n",
              "      <td>Великобритания - Аргентина - США - Франция - Р...</td>\n",
              "      <td>Д.Адар, П.Антохин, М.Биасин, А.Бурунова, К.Кол...</td>\n",
              "      <td>Д.Адар, Д.Амсон, П.Антохин, А.Армстронг, С.Бил...</td>\n",
              "      <td>«18+» - запрещено для детей</td>\n",
              "      <td>NaN</td>\n",
              "      <td>NaN</td>\n",
              "      <td>NaN</td>\n",
              "      <td>NaN</td>\n",
              "      <td>83%</td>\n",
              "      <td>NaN</td>\n",
              "      <td>2,266,408.00</td>\n",
              "    </tr>\n",
              "    <tr>\n",
              "      <th>3514</th>\n",
              "      <td>Чужой дом</td>\n",
              "      <td>111,015,516.00</td>\n",
              "      <td>2016-09-14 12:00:00</td>\n",
              "      <td>Художественный</td>\n",
              "      <td>ООО \"Лига Продакшн\"</td>\n",
              "      <td>Россия, Грузия, Хорватия, Испания</td>\n",
              "      <td>Р.Глурджидзе</td>\n",
              "      <td>З.Магалашвили, К.Гечмен-Вальдек, Н.Горшкова</td>\n",
              "      <td>«12+» - для детей старше 12 лет</td>\n",
              "      <td>NaN</td>\n",
              "      <td>NaN</td>\n",
              "      <td>NaN</td>\n",
              "      <td>NaN</td>\n",
              "      <td>91%</td>\n",
              "      <td>драма</td>\n",
              "      <td>NaN</td>\n",
              "    </tr>\n",
              "    <tr>\n",
              "      <th>3585</th>\n",
              "      <td>Машины Страшилки. Серия \"Жутчайшая повесть о п...</td>\n",
              "      <td>114,003,916.00</td>\n",
              "      <td>2016-12-09 12:00:00</td>\n",
              "      <td>Анимационный</td>\n",
              "      <td>ООО Студия \"АНИМАККОРД\", АНИМАККОРД ЛТД.</td>\n",
              "      <td>Россия, Республика Кипр</td>\n",
              "      <td>Д.Червяцов</td>\n",
              "      <td>Д.Ловейко, О.Кузовков</td>\n",
              "      <td>«0+» - для любой зрительской аудитории</td>\n",
              "      <td>NaN</td>\n",
              "      <td>NaN</td>\n",
              "      <td>NaN</td>\n",
              "      <td>NaN</td>\n",
              "      <td>97%</td>\n",
              "      <td>мультфильм,ужасы,фэнтези</td>\n",
              "      <td>NaN</td>\n",
              "    </tr>\n",
              "    <tr>\n",
              "      <th>3786</th>\n",
              "      <td>Охотники</td>\n",
              "      <td>111,017,816.00</td>\n",
              "      <td>2016-02-06 12:00:00</td>\n",
              "      <td>Художественный</td>\n",
              "      <td>Селиверстов Александр Александрович</td>\n",
              "      <td>Россия</td>\n",
              "      <td>А.Селиверстов</td>\n",
              "      <td>Е.Тарковская, Т.Лагода, Д.Степанян</td>\n",
              "      <td>«16+» - для детей старше 16 лет</td>\n",
              "      <td>NaN</td>\n",
              "      <td>NaN</td>\n",
              "      <td>NaN</td>\n",
              "      <td>NaN</td>\n",
              "      <td>89%</td>\n",
              "      <td>фантастика,комедия,боевик</td>\n",
              "      <td>82,840.00</td>\n",
              "    </tr>\n",
              "    <tr>\n",
              "      <th>3948</th>\n",
              "      <td>Круиз.</td>\n",
              "      <td>211,038,210.00</td>\n",
              "      <td>2010-09-03 12:00:00</td>\n",
              "      <td>Художественный</td>\n",
              "      <td>ООО \"ЮНАЙТЕД МУЛЬТИМЕДИА ПРОДЖЕКТС\"</td>\n",
              "      <td>Россия</td>\n",
              "      <td>И.Ромащенко</td>\n",
              "      <td>Р.Атамалибеков</td>\n",
              "      <td>«16+» - для детей старше 16 лет</td>\n",
              "      <td>NaN</td>\n",
              "      <td>NaN</td>\n",
              "      <td>NaN</td>\n",
              "      <td>NaN</td>\n",
              "      <td>97%</td>\n",
              "      <td>приключения,комедия,фэнтези</td>\n",
              "      <td>NaN</td>\n",
              "    </tr>\n",
              "    <tr>\n",
              "      <th>5332</th>\n",
              "      <td>Добыча.</td>\n",
              "      <td>121,009,411.00</td>\n",
              "      <td>2011-06-15 12:00:00</td>\n",
              "      <td>Художественный</td>\n",
              "      <td>Афтер Дарк Филмз</td>\n",
              "      <td>США</td>\n",
              "      <td>Патрик Сиверсен</td>\n",
              "      <td>Закари Ти Брайан, Кристофер</td>\n",
              "      <td>«18+» - запрещено для детей</td>\n",
              "      <td>NaN</td>\n",
              "      <td>NaN</td>\n",
              "      <td>NaN</td>\n",
              "      <td>NaN</td>\n",
              "      <td>88%</td>\n",
              "      <td>фантастика,боевик,триллер</td>\n",
              "      <td>NaN</td>\n",
              "    </tr>\n",
              "    <tr>\n",
              "      <th>5455</th>\n",
              "      <td>Вечный холод</td>\n",
              "      <td>111,006,417.00</td>\n",
              "      <td>2017-08-28 12:00:00</td>\n",
              "      <td>Художественный</td>\n",
              "      <td>ЗАО \"Производственный комплекс \"ГЛАВКИНО\", ООО...</td>\n",
              "      <td>Россия</td>\n",
              "      <td>А.Мигачев</td>\n",
              "      <td>И.Бачурин</td>\n",
              "      <td>«18+» - запрещено для детей</td>\n",
              "      <td>NaN</td>\n",
              "      <td>NaN</td>\n",
              "      <td>NaN</td>\n",
              "      <td>NaN</td>\n",
              "      <td>83%</td>\n",
              "      <td>фэнтези,боевик,триллер</td>\n",
              "      <td>NaN</td>\n",
              "    </tr>\n",
              "    <tr>\n",
              "      <th>5821</th>\n",
              "      <td>Свинья</td>\n",
              "      <td>121,007,018.00</td>\n",
              "      <td>2018-04-11 12:00:00</td>\n",
              "      <td>Художественный</td>\n",
              "      <td>Дарк Прекёрсор Продакшен, Филмиран, Хедейт Филм</td>\n",
              "      <td>Иран</td>\n",
              "      <td>Мани Хагиги</td>\n",
              "      <td>Мани Хагиги</td>\n",
              "      <td>«18+» - запрещено для детей</td>\n",
              "      <td>NaN</td>\n",
              "      <td>NaN</td>\n",
              "      <td>NaN</td>\n",
              "      <td>NaN</td>\n",
              "      <td>94%</td>\n",
              "      <td>триллер,драма</td>\n",
              "      <td>1,587,221.51</td>\n",
              "    </tr>\n",
              "    <tr>\n",
              "      <th>5910</th>\n",
              "      <td>Мира</td>\n",
              "      <td>112,000,118.00</td>\n",
              "      <td>2018-06-04 12:00:00</td>\n",
              "      <td>Документальный</td>\n",
              "      <td>ООО \"Компания \"Новые люди\"</td>\n",
              "      <td>Россия</td>\n",
              "      <td>Д.Шабаев</td>\n",
              "      <td>Н.Мокрицкая</td>\n",
              "      <td>«18+» - запрещено для детей</td>\n",
              "      <td>NaN</td>\n",
              "      <td>NaN</td>\n",
              "      <td>NaN</td>\n",
              "      <td>NaN</td>\n",
              "      <td>94%</td>\n",
              "      <td>драма</td>\n",
              "      <td>NaN</td>\n",
              "    </tr>\n",
              "    <tr>\n",
              "      <th>6426</th>\n",
              "      <td>Памятные даты России. Партизаны и подпольщики</td>\n",
              "      <td>112,013,018.00</td>\n",
              "      <td>2018-11-28 12:00:00</td>\n",
              "      <td>Документальный</td>\n",
              "      <td>ООО Кинокомпания \"Вектор\"</td>\n",
              "      <td>Россия</td>\n",
              "      <td>Н.Иванова, А.Кузнецова</td>\n",
              "      <td>В.Коханович</td>\n",
              "      <td>«12+» - для детей старше 12 лет</td>\n",
              "      <td>NaN</td>\n",
              "      <td>NaN</td>\n",
              "      <td>NaN</td>\n",
              "      <td>NaN</td>\n",
              "      <td>91%</td>\n",
              "      <td>драма,биография</td>\n",
              "      <td>NaN</td>\n",
              "    </tr>\n",
              "    <tr>\n",
              "      <th>6616</th>\n",
              "      <td>ОТ ВОЙНЫ ДО НАШИХ ДНЕЙ</td>\n",
              "      <td>111,026,518.00</td>\n",
              "      <td>2019-01-21 12:00:00</td>\n",
              "      <td>Художественный</td>\n",
              "      <td>ИП Вайсман Анатолий Александрович</td>\n",
              "      <td>Россия</td>\n",
              "      <td>А.Сазонов, Е.Климович, А.Коломеец, С.Черникова...</td>\n",
              "      <td>Д.Руюежин, Л.Пятницкая, Д.Колеров, Э.Ким, А.Хомич</td>\n",
              "      <td>«12+» - для детей старше 12 лет</td>\n",
              "      <td>NaN</td>\n",
              "      <td>NaN</td>\n",
              "      <td>NaN</td>\n",
              "      <td>NaN</td>\n",
              "      <td>98%</td>\n",
              "      <td>фантастика,боевик</td>\n",
              "      <td>NaN</td>\n",
              "    </tr>\n",
              "    <tr>\n",
              "      <th>6737</th>\n",
              "      <td>Колесо времени</td>\n",
              "      <td>111,003,219.00</td>\n",
              "      <td>2019-03-01 12:00:00</td>\n",
              "      <td>Художественный</td>\n",
              "      <td>ООО \"БестМедиа\"</td>\n",
              "      <td>Россия</td>\n",
              "      <td>Б.Куломзин</td>\n",
              "      <td>Б.Куломзин</td>\n",
              "      <td>«6+» - для детей старше 6 лет</td>\n",
              "      <td>NaN</td>\n",
              "      <td>NaN</td>\n",
              "      <td>NaN</td>\n",
              "      <td>NaN</td>\n",
              "      <td>98%</td>\n",
              "      <td>фэнтези,приключения</td>\n",
              "      <td>34,992.00</td>\n",
              "    </tr>\n",
              "    <tr>\n",
              "      <th>6882</th>\n",
              "      <td>Животные рядом со Святыми</td>\n",
              "      <td>112,003,719.00</td>\n",
              "      <td>2019-05-03 12:00:00</td>\n",
              "      <td>Документальный</td>\n",
              "      <td>ООО \"Кинопрограмма \"XXI век\"</td>\n",
              "      <td>Россия</td>\n",
              "      <td>Т.Мирошник</td>\n",
              "      <td>В.Есинов, Е.Калинина</td>\n",
              "      <td>«0+» - для любой зрительской аудитории</td>\n",
              "      <td>NaN</td>\n",
              "      <td>NaN</td>\n",
              "      <td>NaN</td>\n",
              "      <td>NaN</td>\n",
              "      <td>99%</td>\n",
              "      <td>криминал,драма</td>\n",
              "      <td>NaN</td>\n",
              "    </tr>\n",
              "    <tr>\n",
              "      <th>7159</th>\n",
              "      <td>Анна Каренина. Интимный дневник</td>\n",
              "      <td>111,013,919.00</td>\n",
              "      <td>2019-10-23 12:00:00</td>\n",
              "      <td>Художественный</td>\n",
              "      <td>ООО \"РТВ\"</td>\n",
              "      <td>Россия</td>\n",
              "      <td>Ю.Грымов</td>\n",
              "      <td>Ю.Грымов</td>\n",
              "      <td>«16+» - для детей старше 16 лет</td>\n",
              "      <td>NaN</td>\n",
              "      <td>NaN</td>\n",
              "      <td>NaN</td>\n",
              "      <td>NaN</td>\n",
              "      <td>79%</td>\n",
              "      <td>драма</td>\n",
              "      <td>182,882.50</td>\n",
              "    </tr>\n",
              "    <tr>\n",
              "      <th>7277</th>\n",
              "      <td>Добыча</td>\n",
              "      <td>121,028,319.00</td>\n",
              "      <td>2019-10-03 12:00:00</td>\n",
              "      <td>Художественный</td>\n",
              "      <td>Блумхаус Продакшнз, Хайд Парк Интертейнмент, Т...</td>\n",
              "      <td>США</td>\n",
              "      <td>Франк Халфун</td>\n",
              "      <td>Ашок Амритрадж, Джейсон Блум, Трэвис Клафф</td>\n",
              "      <td>«16+» - для детей старше 16 лет</td>\n",
              "      <td>NaN</td>\n",
              "      <td>NaN</td>\n",
              "      <td>NaN</td>\n",
              "      <td>NaN</td>\n",
              "      <td>88%</td>\n",
              "      <td>фантастика,боевик,триллер</td>\n",
              "      <td>4,416,590.45</td>\n",
              "    </tr>\n",
              "  </tbody>\n",
              "</table>\n",
              "</div>\n",
              "    <div class=\"colab-df-buttons\">\n",
              "\n",
              "  <div class=\"colab-df-container\">\n",
              "    <button class=\"colab-df-convert\" onclick=\"convertToInteractive('df-aaa393bd-60e4-47b0-b7d1-33f4b9f24694')\"\n",
              "            title=\"Convert this dataframe to an interactive table.\"\n",
              "            style=\"display:none;\">\n",
              "\n",
              "  <svg xmlns=\"http://www.w3.org/2000/svg\" height=\"24px\" viewBox=\"0 -960 960 960\">\n",
              "    <path d=\"M120-120v-720h720v720H120Zm60-500h600v-160H180v160Zm220 220h160v-160H400v160Zm0 220h160v-160H400v160ZM180-400h160v-160H180v160Zm440 0h160v-160H620v160ZM180-180h160v-160H180v160Zm440 0h160v-160H620v160Z\"/>\n",
              "  </svg>\n",
              "    </button>\n",
              "\n",
              "  <style>\n",
              "    .colab-df-container {\n",
              "      display:flex;\n",
              "      gap: 12px;\n",
              "    }\n",
              "\n",
              "    .colab-df-convert {\n",
              "      background-color: #E8F0FE;\n",
              "      border: none;\n",
              "      border-radius: 50%;\n",
              "      cursor: pointer;\n",
              "      display: none;\n",
              "      fill: #1967D2;\n",
              "      height: 32px;\n",
              "      padding: 0 0 0 0;\n",
              "      width: 32px;\n",
              "    }\n",
              "\n",
              "    .colab-df-convert:hover {\n",
              "      background-color: #E2EBFA;\n",
              "      box-shadow: 0px 1px 2px rgba(60, 64, 67, 0.3), 0px 1px 3px 1px rgba(60, 64, 67, 0.15);\n",
              "      fill: #174EA6;\n",
              "    }\n",
              "\n",
              "    .colab-df-buttons div {\n",
              "      margin-bottom: 4px;\n",
              "    }\n",
              "\n",
              "    [theme=dark] .colab-df-convert {\n",
              "      background-color: #3B4455;\n",
              "      fill: #D2E3FC;\n",
              "    }\n",
              "\n",
              "    [theme=dark] .colab-df-convert:hover {\n",
              "      background-color: #434B5C;\n",
              "      box-shadow: 0px 1px 3px 1px rgba(0, 0, 0, 0.15);\n",
              "      filter: drop-shadow(0px 1px 2px rgba(0, 0, 0, 0.3));\n",
              "      fill: #FFFFFF;\n",
              "    }\n",
              "  </style>\n",
              "\n",
              "    <script>\n",
              "      const buttonEl =\n",
              "        document.querySelector('#df-aaa393bd-60e4-47b0-b7d1-33f4b9f24694 button.colab-df-convert');\n",
              "      buttonEl.style.display =\n",
              "        google.colab.kernel.accessAllowed ? 'block' : 'none';\n",
              "\n",
              "      async function convertToInteractive(key) {\n",
              "        const element = document.querySelector('#df-aaa393bd-60e4-47b0-b7d1-33f4b9f24694');\n",
              "        const dataTable =\n",
              "          await google.colab.kernel.invokeFunction('convertToInteractive',\n",
              "                                                    [key], {});\n",
              "        if (!dataTable) return;\n",
              "\n",
              "        const docLinkHtml = 'Like what you see? Visit the ' +\n",
              "          '<a target=\"_blank\" href=https://colab.research.google.com/notebooks/data_table.ipynb>data table notebook</a>'\n",
              "          + ' to learn more about interactive tables.';\n",
              "        element.innerHTML = '';\n",
              "        dataTable['output_type'] = 'display_data';\n",
              "        await google.colab.output.renderOutput(dataTable, element);\n",
              "        const docLink = document.createElement('div');\n",
              "        docLink.innerHTML = docLinkHtml;\n",
              "        element.appendChild(docLink);\n",
              "      }\n",
              "    </script>\n",
              "  </div>\n",
              "\n",
              "\n",
              "<div id=\"df-f36df595-30b3-44b5-b2bb-9f2081d9c18d\">\n",
              "  <button class=\"colab-df-quickchart\" onclick=\"quickchart('df-f36df595-30b3-44b5-b2bb-9f2081d9c18d')\"\n",
              "            title=\"Suggest charts\"\n",
              "            style=\"display:none;\">\n",
              "\n",
              "<svg xmlns=\"http://www.w3.org/2000/svg\" height=\"24px\"viewBox=\"0 0 24 24\"\n",
              "     width=\"24px\">\n",
              "    <g>\n",
              "        <path d=\"M19 3H5c-1.1 0-2 .9-2 2v14c0 1.1.9 2 2 2h14c1.1 0 2-.9 2-2V5c0-1.1-.9-2-2-2zM9 17H7v-7h2v7zm4 0h-2V7h2v10zm4 0h-2v-4h2v4z\"/>\n",
              "    </g>\n",
              "</svg>\n",
              "  </button>\n",
              "\n",
              "<style>\n",
              "  .colab-df-quickchart {\n",
              "      --bg-color: #E8F0FE;\n",
              "      --fill-color: #1967D2;\n",
              "      --hover-bg-color: #E2EBFA;\n",
              "      --hover-fill-color: #174EA6;\n",
              "      --disabled-fill-color: #AAA;\n",
              "      --disabled-bg-color: #DDD;\n",
              "  }\n",
              "\n",
              "  [theme=dark] .colab-df-quickchart {\n",
              "      --bg-color: #3B4455;\n",
              "      --fill-color: #D2E3FC;\n",
              "      --hover-bg-color: #434B5C;\n",
              "      --hover-fill-color: #FFFFFF;\n",
              "      --disabled-bg-color: #3B4455;\n",
              "      --disabled-fill-color: #666;\n",
              "  }\n",
              "\n",
              "  .colab-df-quickchart {\n",
              "    background-color: var(--bg-color);\n",
              "    border: none;\n",
              "    border-radius: 50%;\n",
              "    cursor: pointer;\n",
              "    display: none;\n",
              "    fill: var(--fill-color);\n",
              "    height: 32px;\n",
              "    padding: 0;\n",
              "    width: 32px;\n",
              "  }\n",
              "\n",
              "  .colab-df-quickchart:hover {\n",
              "    background-color: var(--hover-bg-color);\n",
              "    box-shadow: 0 1px 2px rgba(60, 64, 67, 0.3), 0 1px 3px 1px rgba(60, 64, 67, 0.15);\n",
              "    fill: var(--button-hover-fill-color);\n",
              "  }\n",
              "\n",
              "  .colab-df-quickchart-complete:disabled,\n",
              "  .colab-df-quickchart-complete:disabled:hover {\n",
              "    background-color: var(--disabled-bg-color);\n",
              "    fill: var(--disabled-fill-color);\n",
              "    box-shadow: none;\n",
              "  }\n",
              "\n",
              "  .colab-df-spinner {\n",
              "    border: 2px solid var(--fill-color);\n",
              "    border-color: transparent;\n",
              "    border-bottom-color: var(--fill-color);\n",
              "    animation:\n",
              "      spin 1s steps(1) infinite;\n",
              "  }\n",
              "\n",
              "  @keyframes spin {\n",
              "    0% {\n",
              "      border-color: transparent;\n",
              "      border-bottom-color: var(--fill-color);\n",
              "      border-left-color: var(--fill-color);\n",
              "    }\n",
              "    20% {\n",
              "      border-color: transparent;\n",
              "      border-left-color: var(--fill-color);\n",
              "      border-top-color: var(--fill-color);\n",
              "    }\n",
              "    30% {\n",
              "      border-color: transparent;\n",
              "      border-left-color: var(--fill-color);\n",
              "      border-top-color: var(--fill-color);\n",
              "      border-right-color: var(--fill-color);\n",
              "    }\n",
              "    40% {\n",
              "      border-color: transparent;\n",
              "      border-right-color: var(--fill-color);\n",
              "      border-top-color: var(--fill-color);\n",
              "    }\n",
              "    60% {\n",
              "      border-color: transparent;\n",
              "      border-right-color: var(--fill-color);\n",
              "    }\n",
              "    80% {\n",
              "      border-color: transparent;\n",
              "      border-right-color: var(--fill-color);\n",
              "      border-bottom-color: var(--fill-color);\n",
              "    }\n",
              "    90% {\n",
              "      border-color: transparent;\n",
              "      border-bottom-color: var(--fill-color);\n",
              "    }\n",
              "  }\n",
              "</style>\n",
              "\n",
              "  <script>\n",
              "    async function quickchart(key) {\n",
              "      const quickchartButtonEl =\n",
              "        document.querySelector('#' + key + ' button');\n",
              "      quickchartButtonEl.disabled = true;  // To prevent multiple clicks.\n",
              "      quickchartButtonEl.classList.add('colab-df-spinner');\n",
              "      try {\n",
              "        const charts = await google.colab.kernel.invokeFunction(\n",
              "            'suggestCharts', [key], {});\n",
              "      } catch (error) {\n",
              "        console.error('Error during call to suggestCharts:', error);\n",
              "      }\n",
              "      quickchartButtonEl.classList.remove('colab-df-spinner');\n",
              "      quickchartButtonEl.classList.add('colab-df-quickchart-complete');\n",
              "    }\n",
              "    (() => {\n",
              "      let quickchartButtonEl =\n",
              "        document.querySelector('#df-f36df595-30b3-44b5-b2bb-9f2081d9c18d button');\n",
              "      quickchartButtonEl.style.display =\n",
              "        google.colab.kernel.accessAllowed ? 'block' : 'none';\n",
              "    })();\n",
              "  </script>\n",
              "</div>\n",
              "    </div>\n",
              "  </div>\n"
            ],
            "application/vnd.google.colaboratory.intrinsic+json": {
              "type": "dataframe",
              "summary": "{\n  \"name\": \"data_movies[data_movies['ratings']\",\n  \"rows\": 29,\n  \"fields\": [\n    {\n      \"column\": \"title\",\n      \"properties\": {\n        \"dtype\": \"string\",\n        \"num_unique_values\": 29,\n        \"samples\": [\n          \"\\u0410\\u043d\\u043d\\u0430 \\u041a\\u0430\\u0440\\u0435\\u043d\\u0438\\u043d\\u0430. \\u0418\\u043d\\u0442\\u0438\\u043c\\u043d\\u044b\\u0439 \\u0434\\u043d\\u0435\\u0432\\u043d\\u0438\\u043a\",\n          \"\\u041c\\u0430\\u0448\\u0438\\u043d\\u044b \\u0421\\u0442\\u0440\\u0430\\u0448\\u0438\\u043b\\u043a\\u0438. \\u0421\\u0435\\u0440\\u0438\\u044f \\\"\\u0416\\u0443\\u0442\\u0447\\u0430\\u0439\\u0448\\u0430\\u044f \\u043f\\u043e\\u0432\\u0435\\u0441\\u0442\\u044c \\u043e \\u043f\\u043e\\u043b\\u0435\\u0437\\u043d\\u044b\\u0445 \\u0438\\u0437\\u043e\\u0431\\u0440\\u0435\\u0442\\u0435\\u043d\\u0438\\u044f\\u0445\\\"\",\n          \"\\u041d\\u0430\\u0443\\u0440\\u044b\\u0437\"\n        ],\n        \"semantic_type\": \"\",\n        \"description\": \"\"\n      }\n    },\n    {\n      \"column\": \"puNumber\",\n      \"properties\": {\n        \"dtype\": \"number\",\n        \"std\": 26624228.3112688,\n        \"min\": 111001014.0,\n        \"max\": 221030715.0,\n        \"num_unique_values\": 29,\n        \"samples\": [\n          111013919.0,\n          114003916.0,\n          131000217.0\n        ],\n        \"semantic_type\": \"\",\n        \"description\": \"\"\n      }\n    },\n    {\n      \"column\": \"show_start_date\",\n      \"properties\": {\n        \"dtype\": \"date\",\n        \"min\": \"2010-09-03 12:00:00\",\n        \"max\": \"2019-10-23 12:00:00\",\n        \"num_unique_values\": 29,\n        \"samples\": [\n          \"2019-10-23 12:00:00\",\n          \"2016-12-09 12:00:00\",\n          \"2017-03-09 12:00:00\"\n        ],\n        \"semantic_type\": \"\",\n        \"description\": \"\"\n      }\n    },\n    {\n      \"column\": \"type\",\n      \"properties\": {\n        \"dtype\": \"category\",\n        \"num_unique_values\": 5,\n        \"samples\": [\n          \"\\u0410\\u043d\\u0438\\u043c\\u0430\\u0446\\u0438\\u043e\\u043d\\u043d\\u044b\\u0439\",\n          \"\\u0414\\u043e\\u043a\\u0443\\u043c\\u0435\\u043d\\u0442\\u0430\\u043b\\u044c\\u043d\\u044b\\u0439\",\n          \"\\u041f\\u0440\\u043e\\u0447\\u0438\\u0435\"\n        ],\n        \"semantic_type\": \"\",\n        \"description\": \"\"\n      }\n    },\n    {\n      \"column\": \"film_studio\",\n      \"properties\": {\n        \"dtype\": \"string\",\n        \"num_unique_values\": 29,\n        \"samples\": [\n          \"\\u041e\\u041e\\u041e \\\"\\u0420\\u0422\\u0412\\\"\",\n          \"\\u041e\\u041e\\u041e \\u0421\\u0442\\u0443\\u0434\\u0438\\u044f \\\"\\u0410\\u041d\\u0418\\u041c\\u0410\\u041a\\u041a\\u041e\\u0420\\u0414\\\", \\u0410\\u041d\\u0418\\u041c\\u0410\\u041a\\u041a\\u041e\\u0420\\u0414 \\u041b\\u0422\\u0414.\",\n          \"\\u042d\\u0441 \\u0414\\u0436\\u0438\"\n        ],\n        \"semantic_type\": \"\",\n        \"description\": \"\"\n      }\n    },\n    {\n      \"column\": \"production_country\",\n      \"properties\": {\n        \"dtype\": \"category\",\n        \"num_unique_values\": 11,\n        \"samples\": [\n          \"\\u0420\\u0435\\u0441\\u043f\\u0443\\u0431\\u043b\\u0438\\u043a\\u0430 \\u041a\\u0430\\u0437\\u0430\\u0445\\u0441\\u0442\\u0430\\u043d\",\n          \"\\u0410\\u0440\\u0433\\u0435\\u043d\\u0442\\u0438\\u043d\\u0430 - \\u0411\\u0440\\u0430\\u0437\\u0438\\u043b\\u0438\\u044f\",\n          \"\\u0420\\u043e\\u0441\\u0441\\u0438\\u044f, \\u0420\\u0435\\u0441\\u043f\\u0443\\u0431\\u043b\\u0438\\u043a\\u0430 \\u041a\\u0438\\u043f\\u0440\"\n        ],\n        \"semantic_type\": \"\",\n        \"description\": \"\"\n      }\n    },\n    {\n      \"column\": \"director\",\n      \"properties\": {\n        \"dtype\": \"string\",\n        \"num_unique_values\": 28,\n        \"samples\": [\n          \"\\u0410.\\u0421\\u0442\\u0440\\u0435\\u043b\\u044f\\u043d\\u0430\\u044f\",\n          \"\\u0411.\\u041a\\u0443\\u043b\\u043e\\u043c\\u0437\\u0438\\u043d\",\n          \"\\u042e.\\u041a\\u0430\\u0440\\u0430\"\n        ],\n        \"semantic_type\": \"\",\n        \"description\": \"\"\n      }\n    },\n    {\n      \"column\": \"producer\",\n      \"properties\": {\n        \"dtype\": \"string\",\n        \"num_unique_values\": 29,\n        \"samples\": [\n          \"\\u042e.\\u0413\\u0440\\u044b\\u043c\\u043e\\u0432\",\n          \"\\u0414.\\u041b\\u043e\\u0432\\u0435\\u0439\\u043a\\u043e, \\u041e.\\u041a\\u0443\\u0437\\u043e\\u0432\\u043a\\u043e\\u0432\",\n          \"\\u041e\\u043b\\u0435\\u0433 \\u0413\\u043e\\u043b\\u043e\\u0432\\u0430\\u0448\\u043a\\u0438\\u043d, \\u0410\\u043b\\u043c\\u0430\\u0441 \\u0421\\u0443\\u043b\\u0442\\u0430\\u043d\\u0433\\u0430\\u0437\\u0438\\u043d\"\n        ],\n        \"semantic_type\": \"\",\n        \"description\": \"\"\n      }\n    },\n    {\n      \"column\": \"age_restriction\",\n      \"properties\": {\n        \"dtype\": \"category\",\n        \"num_unique_values\": 5,\n        \"samples\": [\n          \"\\u00ab12+\\u00bb - \\u0434\\u043b\\u044f \\u0434\\u0435\\u0442\\u0435\\u0439 \\u0441\\u0442\\u0430\\u0440\\u0448\\u0435 12 \\u043b\\u0435\\u0442\",\n          \"\\u00ab0+\\u00bb - \\u0434\\u043b\\u044f \\u043b\\u044e\\u0431\\u043e\\u0439 \\u0437\\u0440\\u0438\\u0442\\u0435\\u043b\\u044c\\u0441\\u043a\\u043e\\u0439 \\u0430\\u0443\\u0434\\u0438\\u0442\\u043e\\u0440\\u0438\\u0438\",\n          \"\\u00ab6+\\u00bb - \\u0434\\u043b\\u044f \\u0434\\u0435\\u0442\\u0435\\u0439 \\u0441\\u0442\\u0430\\u0440\\u0448\\u0435 6 \\u043b\\u0435\\u0442\"\n        ],\n        \"semantic_type\": \"\",\n        \"description\": \"\"\n      }\n    },\n    {\n      \"column\": \"refundable_support\",\n      \"properties\": {\n        \"dtype\": \"number\",\n        \"std\": 0.0,\n        \"min\": 0.0,\n        \"max\": 0.0,\n        \"num_unique_values\": 1,\n        \"samples\": [\n          0.0\n        ],\n        \"semantic_type\": \"\",\n        \"description\": \"\"\n      }\n    },\n    {\n      \"column\": \"nonrefundable_support\",\n      \"properties\": {\n        \"dtype\": \"number\",\n        \"std\": 3747665.940288702,\n        \"min\": 4700000.0,\n        \"max\": 10000000.0,\n        \"num_unique_values\": 2,\n        \"samples\": [\n          4700000.0\n        ],\n        \"semantic_type\": \"\",\n        \"description\": \"\"\n      }\n    },\n    {\n      \"column\": \"budget\",\n      \"properties\": {\n        \"dtype\": \"number\",\n        \"std\": 18057764.88039558,\n        \"min\": 14462464.0,\n        \"max\": 40000000.0,\n        \"num_unique_values\": 2,\n        \"samples\": [\n          14462464.0\n        ],\n        \"semantic_type\": \"\",\n        \"description\": \"\"\n      }\n    },\n    {\n      \"column\": \"financing_source\",\n      \"properties\": {\n        \"dtype\": \"category\",\n        \"num_unique_values\": 1,\n        \"samples\": [\n          \"\\u041c\\u0438\\u043d\\u0438\\u0441\\u0442\\u0435\\u0440\\u0441\\u0442\\u0432\\u043e \\u043a\\u0443\\u043b\\u044c\\u0442\\u0443\\u0440\\u044b\"\n        ],\n        \"semantic_type\": \"\",\n        \"description\": \"\"\n      }\n    },\n    {\n      \"column\": \"ratings\",\n      \"properties\": {\n        \"dtype\": \"category\",\n        \"num_unique_values\": 14,\n        \"samples\": [\n          \"90%\"\n        ],\n        \"semantic_type\": \"\",\n        \"description\": \"\"\n      }\n    },\n    {\n      \"column\": \"genres\",\n      \"properties\": {\n        \"dtype\": \"string\",\n        \"num_unique_values\": 22,\n        \"samples\": [\n          \"\\u0443\\u0436\\u0430\\u0441\\u044b,\\u0442\\u0440\\u0438\\u043b\\u043b\\u0435\\u0440,\\u0434\\u0440\\u0430\\u043c\\u0430\"\n        ],\n        \"semantic_type\": \"\",\n        \"description\": \"\"\n      }\n    },\n    {\n      \"column\": \"box_office\",\n      \"properties\": {\n        \"dtype\": \"number\",\n        \"std\": 136298380.17887774,\n        \"min\": 0.0,\n        \"max\": 528732557.7,\n        \"num_unique_values\": 15,\n        \"samples\": [\n          2266408.0\n        ],\n        \"semantic_type\": \"\",\n        \"description\": \"\"\n      }\n    }\n  ]\n}"
            }
          },
          "metadata": {},
          "execution_count": 16
        }
      ],
      "source": [
        "data_movies[data_movies['ratings'].str.contains('%').fillna(False)]"
      ]
    },
    {
      "cell_type": "code",
      "execution_count": null,
      "metadata": {
        "id": "JzuGwT8gbL05",
        "outputId": "47b38fe4-33be-46d1-99f3-2b1c2a4ff047",
        "colab": {
          "base_uri": "https://localhost:8080/"
        }
      },
      "outputs": [
        {
          "output_type": "stream",
          "name": "stdout",
          "text": [
            "Количество строк, имеющих рейтинг в %: 29\n"
          ]
        }
      ],
      "source": [
        "print('Количество строк, имеющих рейтинг в %:', len(data_movies[data_movies['ratings'].str.contains('%').fillna(False)]))"
      ]
    },
    {
      "cell_type": "markdown",
      "metadata": {
        "id": "3xt98WeHbL05"
      },
      "source": [
        "Можно было бы привести их дробному виду, добавив точку, но это неуместно делать, т.к. у нас формируется рейтинг по десятибальной шкале, а рейтинг в виде % скорее всего был рассчитан в виде: \"Нравится\" и \"Не нравится\", поэтому просто удалим их."
      ]
    },
    {
      "cell_type": "code",
      "execution_count": null,
      "metadata": {
        "id": "V8NAw4CCbL06"
      },
      "outputs": [],
      "source": [
        "data_movies = data_movies[~data_movies['ratings'].str.contains('%').fillna(False)]\n",
        "data_movies['ratings'] = pd.to_numeric(data_movies['ratings'])"
      ]
    },
    {
      "cell_type": "markdown",
      "metadata": {
        "id": "i0MOLbF-gFyP"
      },
      "source": [
        "## Обработка пропущенных значений"
      ]
    },
    {
      "cell_type": "markdown",
      "metadata": {
        "id": "8XtL--PUbL07"
      },
      "source": [
        "В данных присутсвует достаточно много пропусков среди категориальных переменных. Создадим таблицу с указанием доли пропусков по каждой колонке, чтобы сэкономить наше время и потом удалить пропуски или оставить их без изменений, где доля составляет не более 1%."
      ]
    },
    {
      "cell_type": "code",
      "execution_count": null,
      "metadata": {
        "id": "jwbF_aO4bL07",
        "outputId": "1f49dad5-963c-4c7b-c3b8-5fbcc440a62f",
        "colab": {
          "base_uri": "https://localhost:8080/",
          "height": 551
        }
      },
      "outputs": [
        {
          "output_type": "execute_result",
          "data": {
            "text/plain": [
              "<pandas.io.formats.style.Styler at 0x78d2f9938f10>"
            ],
            "text/html": [
              "<style type=\"text/css\">\n",
              "#T_fb948_row0_col0, #T_fb948_row0_col1, #T_fb948_row1_col0, #T_fb948_row1_col1, #T_fb948_row2_col0, #T_fb948_row2_col1, #T_fb948_row3_col0, #T_fb948_row3_col1, #T_fb948_row4_col0, #T_fb948_row4_col1, #T_fb948_row5_col0, #T_fb948_row5_col1, #T_fb948_row6_col0, #T_fb948_row6_col1, #T_fb948_row8_col0, #T_fb948_row8_col1 {\n",
              "  background-color: #3b4cc0;\n",
              "  color: #f1f1f1;\n",
              "}\n",
              "#T_fb948_row7_col0, #T_fb948_row7_col1 {\n",
              "  background-color: #536edd;\n",
              "  color: #f1f1f1;\n",
              "}\n",
              "#T_fb948_row9_col0, #T_fb948_row9_col1, #T_fb948_row10_col0, #T_fb948_row10_col1, #T_fb948_row11_col0, #T_fb948_row11_col1, #T_fb948_row12_col0, #T_fb948_row12_col1 {\n",
              "  background-color: #b40426;\n",
              "  color: #f1f1f1;\n",
              "}\n",
              "#T_fb948_row13_col0, #T_fb948_row13_col1, #T_fb948_row14_col0, #T_fb948_row14_col1 {\n",
              "  background-color: #6485ec;\n",
              "  color: #f1f1f1;\n",
              "}\n",
              "#T_fb948_row15_col0, #T_fb948_row15_col1 {\n",
              "  background-color: #f2cab5;\n",
              "  color: #000000;\n",
              "}\n",
              "</style>\n",
              "<table id=\"T_fb948\" class=\"dataframe\">\n",
              "  <thead>\n",
              "    <tr>\n",
              "      <th class=\"blank level0\" >&nbsp;</th>\n",
              "      <th id=\"T_fb948_level0_col0\" class=\"col_heading level0 col0\" >sum</th>\n",
              "      <th id=\"T_fb948_level0_col1\" class=\"col_heading level0 col1\" >conversation</th>\n",
              "    </tr>\n",
              "  </thead>\n",
              "  <tbody>\n",
              "    <tr>\n",
              "      <th id=\"T_fb948_level0_row0\" class=\"row_heading level0 row0\" >title</th>\n",
              "      <td id=\"T_fb948_row0_col0\" class=\"data row0 col0\" >0</td>\n",
              "      <td id=\"T_fb948_row0_col1\" class=\"data row0 col1\" >0.00%</td>\n",
              "    </tr>\n",
              "    <tr>\n",
              "      <th id=\"T_fb948_level0_row1\" class=\"row_heading level0 row1\" >puNumber</th>\n",
              "      <td id=\"T_fb948_row1_col0\" class=\"data row1 col0\" >2</td>\n",
              "      <td id=\"T_fb948_row1_col1\" class=\"data row1 col1\" >0.03%</td>\n",
              "    </tr>\n",
              "    <tr>\n",
              "      <th id=\"T_fb948_level0_row2\" class=\"row_heading level0 row2\" >show_start_date</th>\n",
              "      <td id=\"T_fb948_row2_col0\" class=\"data row2 col0\" >0</td>\n",
              "      <td id=\"T_fb948_row2_col1\" class=\"data row2 col1\" >0.00%</td>\n",
              "    </tr>\n",
              "    <tr>\n",
              "      <th id=\"T_fb948_level0_row3\" class=\"row_heading level0 row3\" >type</th>\n",
              "      <td id=\"T_fb948_row3_col0\" class=\"data row3 col0\" >0</td>\n",
              "      <td id=\"T_fb948_row3_col1\" class=\"data row3 col1\" >0.00%</td>\n",
              "    </tr>\n",
              "    <tr>\n",
              "      <th id=\"T_fb948_level0_row4\" class=\"row_heading level0 row4\" >film_studio</th>\n",
              "      <td id=\"T_fb948_row4_col0\" class=\"data row4 col0\" >18</td>\n",
              "      <td id=\"T_fb948_row4_col1\" class=\"data row4 col1\" >0.24%</td>\n",
              "    </tr>\n",
              "    <tr>\n",
              "      <th id=\"T_fb948_level0_row5\" class=\"row_heading level0 row5\" >production_country</th>\n",
              "      <td id=\"T_fb948_row5_col0\" class=\"data row5 col0\" >2</td>\n",
              "      <td id=\"T_fb948_row5_col1\" class=\"data row5 col1\" >0.03%</td>\n",
              "    </tr>\n",
              "    <tr>\n",
              "      <th id=\"T_fb948_level0_row6\" class=\"row_heading level0 row6\" >director</th>\n",
              "      <td id=\"T_fb948_row6_col0\" class=\"data row6 col0\" >9</td>\n",
              "      <td id=\"T_fb948_row6_col1\" class=\"data row6 col1\" >0.12%</td>\n",
              "    </tr>\n",
              "    <tr>\n",
              "      <th id=\"T_fb948_level0_row7\" class=\"row_heading level0 row7\" >producer</th>\n",
              "      <td id=\"T_fb948_row7_col0\" class=\"data row7 col0\" >568</td>\n",
              "      <td id=\"T_fb948_row7_col1\" class=\"data row7 col1\" >7.62%</td>\n",
              "    </tr>\n",
              "    <tr>\n",
              "      <th id=\"T_fb948_level0_row8\" class=\"row_heading level0 row8\" >age_restriction</th>\n",
              "      <td id=\"T_fb948_row8_col0\" class=\"data row8 col0\" >0</td>\n",
              "      <td id=\"T_fb948_row8_col1\" class=\"data row8 col1\" >0.00%</td>\n",
              "    </tr>\n",
              "    <tr>\n",
              "      <th id=\"T_fb948_level0_row9\" class=\"row_heading level0 row9\" >refundable_support</th>\n",
              "      <td id=\"T_fb948_row9_col0\" class=\"data row9 col0\" >7127</td>\n",
              "      <td id=\"T_fb948_row9_col1\" class=\"data row9 col1\" >95.57%</td>\n",
              "    </tr>\n",
              "    <tr>\n",
              "      <th id=\"T_fb948_level0_row10\" class=\"row_heading level0 row10\" >nonrefundable_support</th>\n",
              "      <td id=\"T_fb948_row10_col0\" class=\"data row10 col0\" >7127</td>\n",
              "      <td id=\"T_fb948_row10_col1\" class=\"data row10 col1\" >95.57%</td>\n",
              "    </tr>\n",
              "    <tr>\n",
              "      <th id=\"T_fb948_level0_row11\" class=\"row_heading level0 row11\" >budget</th>\n",
              "      <td id=\"T_fb948_row11_col0\" class=\"data row11 col0\" >7127</td>\n",
              "      <td id=\"T_fb948_row11_col1\" class=\"data row11 col1\" >95.57%</td>\n",
              "    </tr>\n",
              "    <tr>\n",
              "      <th id=\"T_fb948_level0_row12\" class=\"row_heading level0 row12\" >financing_source</th>\n",
              "      <td id=\"T_fb948_row12_col0\" class=\"data row12 col0\" >7127</td>\n",
              "      <td id=\"T_fb948_row12_col1\" class=\"data row12 col1\" >95.57%</td>\n",
              "    </tr>\n",
              "    <tr>\n",
              "      <th id=\"T_fb948_level0_row13\" class=\"row_heading level0 row13\" >ratings</th>\n",
              "      <td id=\"T_fb948_row13_col0\" class=\"data row13 col0\" >967</td>\n",
              "      <td id=\"T_fb948_row13_col1\" class=\"data row13 col1\" >12.97%</td>\n",
              "    </tr>\n",
              "    <tr>\n",
              "      <th id=\"T_fb948_level0_row14\" class=\"row_heading level0 row14\" >genres</th>\n",
              "      <td id=\"T_fb948_row14_col0\" class=\"data row14 col0\" >973</td>\n",
              "      <td id=\"T_fb948_row14_col1\" class=\"data row14 col1\" >13.05%</td>\n",
              "    </tr>\n",
              "    <tr>\n",
              "      <th id=\"T_fb948_level0_row15\" class=\"row_heading level0 row15\" >box_office</th>\n",
              "      <td id=\"T_fb948_row15_col0\" class=\"data row15 col0\" >4314</td>\n",
              "      <td id=\"T_fb948_row15_col1\" class=\"data row15 col1\" >57.85%</td>\n",
              "    </tr>\n",
              "  </tbody>\n",
              "</table>\n"
            ]
          },
          "metadata": {},
          "execution_count": 19
        }
      ],
      "source": [
        "pd.concat([data_movies.isna().sum(), data_movies.isna().mean()],\n",
        "          axis=1, keys=['sum', 'conversation']).style.format({'conversation': '{:.2%}'}).background_gradient('coolwarm')"
      ]
    },
    {
      "cell_type": "markdown",
      "metadata": {
        "id": "DEsCrw8mbL08"
      },
      "source": [
        "Больше всего пропусков присутсвует в столбцах, связанных с финансированием проектов, они практически полностью не заполнены.\n",
        "Однако, релевантные данные для заполнения пропусков отсутствуют, поэтому оставим их как есть.  \n",
        "\n",
        "Проверим, для какого количества фильмов с господдержкой остуствуют данные по сборам:"
      ]
    },
    {
      "cell_type": "code",
      "execution_count": null,
      "metadata": {
        "id": "PqcEf2N8bL08",
        "outputId": "492e27c8-54c9-4922-869d-0f6c77961454",
        "colab": {
          "base_uri": "https://localhost:8080/"
        }
      },
      "outputs": [
        {
          "output_type": "execute_result",
          "data": {
            "text/plain": [
              "14"
            ]
          },
          "metadata": {},
          "execution_count": 20
        }
      ],
      "source": [
        "data_movies[data_movies['budget'].notna()]['box_office'].isna().sum()"
      ]
    },
    {
      "cell_type": "markdown",
      "metadata": {
        "id": "PPCR9XFHbL08"
      },
      "source": [
        "Отлично, пропуски данных для фильмов, имеющих поддержку от государства практически отсутсвуют."
      ]
    },
    {
      "cell_type": "markdown",
      "metadata": {
        "id": "4c6k1t9ygFyQ"
      },
      "source": [
        "## Обработка дубликатов"
      ]
    },
    {
      "cell_type": "code",
      "execution_count": null,
      "metadata": {
        "id": "aKck8RIdgFyQ",
        "outputId": "b283b1f3-2696-436d-f235-ae521d46626e",
        "colab": {
          "base_uri": "https://localhost:8080/"
        }
      },
      "outputs": [
        {
          "output_type": "stream",
          "name": "stdout",
          "text": [
            "Количество явных дубликатов: 0. Доля: 0.000%.\n"
          ]
        }
      ],
      "source": [
        "print(f\"Количество явных дубликатов: {data_movies.duplicated().sum()}. \\\n",
        "Доля: {data_movies.duplicated().sum()/data_movies.shape[0]:.3%}.\")"
      ]
    },
    {
      "cell_type": "markdown",
      "metadata": {
        "id": "NXnHrwobbL09"
      },
      "source": [
        "Явные дубликаты в датафрейме отсутсвуют."
      ]
    },
    {
      "cell_type": "code",
      "execution_count": null,
      "metadata": {
        "id": "AePe0QdsbL09",
        "outputId": "1a39849e-d4c2-4869-c5a7-775ee8ca123e",
        "colab": {
          "base_uri": "https://localhost:8080/"
        }
      },
      "outputs": [
        {
          "output_type": "stream",
          "name": "stdout",
          "text": [
            "<class 'pandas.core.frame.DataFrame'>\n",
            "Index: 7457 entries, 0 to 7485\n",
            "Data columns (total 16 columns):\n",
            " #   Column                 Non-Null Count  Dtype         \n",
            "---  ------                 --------------  -----         \n",
            " 0   title                  7457 non-null   object        \n",
            " 1   puNumber               7455 non-null   float64       \n",
            " 2   show_start_date        7457 non-null   datetime64[ns]\n",
            " 3   type                   7457 non-null   object        \n",
            " 4   film_studio            7439 non-null   object        \n",
            " 5   production_country     7455 non-null   object        \n",
            " 6   director               7448 non-null   object        \n",
            " 7   producer               6889 non-null   object        \n",
            " 8   age_restriction        7457 non-null   object        \n",
            " 9   refundable_support     330 non-null    float64       \n",
            " 10  nonrefundable_support  330 non-null    float64       \n",
            " 11  budget                 330 non-null    float64       \n",
            " 12  financing_source       330 non-null    object        \n",
            " 13  ratings                6490 non-null   float64       \n",
            " 14  genres                 6484 non-null   object        \n",
            " 15  box_office             3143 non-null   float64       \n",
            "dtypes: datetime64[ns](1), float64(6), object(9)\n",
            "memory usage: 990.4+ KB\n"
          ]
        }
      ],
      "source": [
        "data_movies.info()"
      ]
    },
    {
      "cell_type": "code",
      "execution_count": null,
      "metadata": {
        "id": "jcEfvCNibL09",
        "outputId": "c08ac42a-2a0d-4c64-b33e-9f6b458f702d",
        "colab": {
          "base_uri": "https://localhost:8080/"
        }
      },
      "outputs": [
        {
          "output_type": "execute_result",
          "data": {
            "text/plain": [
              "title                    6743\n",
              "puNumber                 7453\n",
              "show_start_date          1961\n",
              "type                        8\n",
              "film_studio              5469\n",
              "production_country        946\n",
              "director                 4793\n",
              "producer                 5328\n",
              "age_restriction             5\n",
              "refundable_support         34\n",
              "nonrefundable_support      74\n",
              "budget                    289\n",
              "financing_source            3\n",
              "ratings                    80\n",
              "genres                    739\n",
              "box_office               2924\n",
              "dtype: int64"
            ]
          },
          "metadata": {},
          "execution_count": 23
        }
      ],
      "source": [
        "data_movies.nunique()"
      ]
    },
    {
      "cell_type": "markdown",
      "metadata": {
        "id": "SATRDAlhbL0-"
      },
      "source": [
        "Если обратить внимание на `title`, то можно предположить, что скорее всего какие-то ленты повторно выходили в прокат, получая новое прокатное удостоверение, т.к. число  кинолент уменьшилось на `714` - с `7457` до `6743`."
      ]
    },
    {
      "cell_type": "code",
      "execution_count": null,
      "metadata": {
        "id": "CSHIt5PmbL0-",
        "outputId": "887ff514-0935-4264-87a1-221e72dccd61",
        "colab": {
          "base_uri": "https://localhost:8080/"
        }
      },
      "outputs": [
        {
          "output_type": "execute_result",
          "data": {
            "text/plain": [
              "puNumber\n",
              "221,054,410.00    2\n",
              "221,154,310.00    2\n",
              "221,048,915.00    1\n",
              "121,004,611.00    1\n",
              "121,014,411.00    1\n",
              "                 ..\n",
              "121,008,715.00    1\n",
              "121,008,915.00    1\n",
              "121,009,015.00    1\n",
              "111,004,115.00    1\n",
              "124,010,719.00    1\n",
              "Name: count, Length: 7453, dtype: int64"
            ]
          },
          "metadata": {},
          "execution_count": 24
        }
      ],
      "source": [
        "data_movies.puNumber.value_counts()"
      ]
    },
    {
      "cell_type": "code",
      "execution_count": null,
      "metadata": {
        "id": "rJ10KmYebL0-",
        "outputId": "2f4f3041-198b-43d6-b188-cefca11fa6c0",
        "colab": {
          "base_uri": "https://localhost:8080/",
          "height": 331
        }
      },
      "outputs": [
        {
          "output_type": "execute_result",
          "data": {
            "text/plain": [
              "                                                  title       puNumber  \\\n",
              "4638                   Как жениться и остаться холостым 221,154,310.00   \n",
              "4639  Иоанна - женщина на папском престоле /По роман... 221,154,310.00   \n",
              "5067                                    Анализируй это! 221,054,410.00   \n",
              "5068                                     Анализируй то! 221,054,410.00   \n",
              "\n",
              "         show_start_date            type  \\\n",
              "4638 2010-12-17 12:00:00  Художественный   \n",
              "4639 2010-12-17 12:00:00  Художественный   \n",
              "5067 2010-05-25 12:00:00  Художественный   \n",
              "5068 2010-05-25 12:00:00  Художественный   \n",
              "\n",
              "                                            film_studio  \\\n",
              "4638  Ше Вам, Скрипт Ассосье, Тэ Фэ 1 Фильм Продюксь...   \n",
              "4639   Константин Фильм, А Эр Ди Дегето Фильм, Дюне ...   \n",
              "5067          Уорнер Бразерс, Вилладж Роудшоу Филмз ЛТД   \n",
              "5068  Уорнер Бразерс, Виллидж Роадшоу Пикчерз, Эн-Пи...   \n",
              "\n",
              "                                production_country        director  \\\n",
              "4638                                       Франция    Эрик Лартиго   \n",
              "4639  Германия - Великобритания - Италия - Испания  Зенке Вортманн   \n",
              "5067                                 США-Австралия   ХЭрольд Рэмис   \n",
              "5068                                           США  Гарольд Реймис   \n",
              "\n",
              "                                        producer  \\\n",
              "4638                     Амандин Било, Алан Шаба   \n",
              "4639  Оливер Бербен, Дорис Д.Хайнце, Фарук Элтан   \n",
              "5067             Джейн Розенталь, Пола Уейнстейн   \n",
              "5068             Джейн Розенталь, Паул Уэйнстейн   \n",
              "\n",
              "                      age_restriction  refundable_support  \\\n",
              "4638  «16+» - для детей старше 16 лет                 NaN   \n",
              "4639  «16+» - для детей старше 16 лет                 NaN   \n",
              "5067  «16+» - для детей старше 16 лет                 NaN   \n",
              "5068  «12+» - для детей старше 12 лет                 NaN   \n",
              "\n",
              "      nonrefundable_support  budget financing_source  ratings  \\\n",
              "4638                    NaN     NaN              NaN     7.00   \n",
              "4639                    NaN     NaN              NaN     7.60   \n",
              "5067                    NaN     NaN              NaN     7.40   \n",
              "5068                    NaN     NaN              NaN     6.80   \n",
              "\n",
              "                       genres  box_office  \n",
              "4638        мелодрама,комедия         NaN  \n",
              "4639  драма,мелодрама,история         NaN  \n",
              "5067         комедия,криминал         NaN  \n",
              "5068         комедия,криминал         NaN  "
            ],
            "text/html": [
              "\n",
              "  <div id=\"df-20c8a24d-7bac-43b6-a945-7dd713d62811\" class=\"colab-df-container\">\n",
              "    <div>\n",
              "<style scoped>\n",
              "    .dataframe tbody tr th:only-of-type {\n",
              "        vertical-align: middle;\n",
              "    }\n",
              "\n",
              "    .dataframe tbody tr th {\n",
              "        vertical-align: top;\n",
              "    }\n",
              "\n",
              "    .dataframe thead th {\n",
              "        text-align: right;\n",
              "    }\n",
              "</style>\n",
              "<table border=\"1\" class=\"dataframe\">\n",
              "  <thead>\n",
              "    <tr style=\"text-align: right;\">\n",
              "      <th></th>\n",
              "      <th>title</th>\n",
              "      <th>puNumber</th>\n",
              "      <th>show_start_date</th>\n",
              "      <th>type</th>\n",
              "      <th>film_studio</th>\n",
              "      <th>production_country</th>\n",
              "      <th>director</th>\n",
              "      <th>producer</th>\n",
              "      <th>age_restriction</th>\n",
              "      <th>refundable_support</th>\n",
              "      <th>nonrefundable_support</th>\n",
              "      <th>budget</th>\n",
              "      <th>financing_source</th>\n",
              "      <th>ratings</th>\n",
              "      <th>genres</th>\n",
              "      <th>box_office</th>\n",
              "    </tr>\n",
              "  </thead>\n",
              "  <tbody>\n",
              "    <tr>\n",
              "      <th>4638</th>\n",
              "      <td>Как жениться и остаться холостым</td>\n",
              "      <td>221,154,310.00</td>\n",
              "      <td>2010-12-17 12:00:00</td>\n",
              "      <td>Художественный</td>\n",
              "      <td>Ше Вам, Скрипт Ассосье, Тэ Фэ 1 Фильм Продюксь...</td>\n",
              "      <td>Франция</td>\n",
              "      <td>Эрик Лартиго</td>\n",
              "      <td>Амандин Било, Алан Шаба</td>\n",
              "      <td>«16+» - для детей старше 16 лет</td>\n",
              "      <td>NaN</td>\n",
              "      <td>NaN</td>\n",
              "      <td>NaN</td>\n",
              "      <td>NaN</td>\n",
              "      <td>7.00</td>\n",
              "      <td>мелодрама,комедия</td>\n",
              "      <td>NaN</td>\n",
              "    </tr>\n",
              "    <tr>\n",
              "      <th>4639</th>\n",
              "      <td>Иоанна - женщина на папском престоле /По роман...</td>\n",
              "      <td>221,154,310.00</td>\n",
              "      <td>2010-12-17 12:00:00</td>\n",
              "      <td>Художественный</td>\n",
              "      <td>Константин Фильм, А Эр Ди Дегето Фильм, Дюне ...</td>\n",
              "      <td>Германия - Великобритания - Италия - Испания</td>\n",
              "      <td>Зенке Вортманн</td>\n",
              "      <td>Оливер Бербен, Дорис Д.Хайнце, Фарук Элтан</td>\n",
              "      <td>«16+» - для детей старше 16 лет</td>\n",
              "      <td>NaN</td>\n",
              "      <td>NaN</td>\n",
              "      <td>NaN</td>\n",
              "      <td>NaN</td>\n",
              "      <td>7.60</td>\n",
              "      <td>драма,мелодрама,история</td>\n",
              "      <td>NaN</td>\n",
              "    </tr>\n",
              "    <tr>\n",
              "      <th>5067</th>\n",
              "      <td>Анализируй это!</td>\n",
              "      <td>221,054,410.00</td>\n",
              "      <td>2010-05-25 12:00:00</td>\n",
              "      <td>Художественный</td>\n",
              "      <td>Уорнер Бразерс, Вилладж Роудшоу Филмз ЛТД</td>\n",
              "      <td>США-Австралия</td>\n",
              "      <td>ХЭрольд Рэмис</td>\n",
              "      <td>Джейн Розенталь, Пола Уейнстейн</td>\n",
              "      <td>«16+» - для детей старше 16 лет</td>\n",
              "      <td>NaN</td>\n",
              "      <td>NaN</td>\n",
              "      <td>NaN</td>\n",
              "      <td>NaN</td>\n",
              "      <td>7.40</td>\n",
              "      <td>комедия,криминал</td>\n",
              "      <td>NaN</td>\n",
              "    </tr>\n",
              "    <tr>\n",
              "      <th>5068</th>\n",
              "      <td>Анализируй то!</td>\n",
              "      <td>221,054,410.00</td>\n",
              "      <td>2010-05-25 12:00:00</td>\n",
              "      <td>Художественный</td>\n",
              "      <td>Уорнер Бразерс, Виллидж Роадшоу Пикчерз, Эн-Пи...</td>\n",
              "      <td>США</td>\n",
              "      <td>Гарольд Реймис</td>\n",
              "      <td>Джейн Розенталь, Паул Уэйнстейн</td>\n",
              "      <td>«12+» - для детей старше 12 лет</td>\n",
              "      <td>NaN</td>\n",
              "      <td>NaN</td>\n",
              "      <td>NaN</td>\n",
              "      <td>NaN</td>\n",
              "      <td>6.80</td>\n",
              "      <td>комедия,криминал</td>\n",
              "      <td>NaN</td>\n",
              "    </tr>\n",
              "  </tbody>\n",
              "</table>\n",
              "</div>\n",
              "    <div class=\"colab-df-buttons\">\n",
              "\n",
              "  <div class=\"colab-df-container\">\n",
              "    <button class=\"colab-df-convert\" onclick=\"convertToInteractive('df-20c8a24d-7bac-43b6-a945-7dd713d62811')\"\n",
              "            title=\"Convert this dataframe to an interactive table.\"\n",
              "            style=\"display:none;\">\n",
              "\n",
              "  <svg xmlns=\"http://www.w3.org/2000/svg\" height=\"24px\" viewBox=\"0 -960 960 960\">\n",
              "    <path d=\"M120-120v-720h720v720H120Zm60-500h600v-160H180v160Zm220 220h160v-160H400v160Zm0 220h160v-160H400v160ZM180-400h160v-160H180v160Zm440 0h160v-160H620v160ZM180-180h160v-160H180v160Zm440 0h160v-160H620v160Z\"/>\n",
              "  </svg>\n",
              "    </button>\n",
              "\n",
              "  <style>\n",
              "    .colab-df-container {\n",
              "      display:flex;\n",
              "      gap: 12px;\n",
              "    }\n",
              "\n",
              "    .colab-df-convert {\n",
              "      background-color: #E8F0FE;\n",
              "      border: none;\n",
              "      border-radius: 50%;\n",
              "      cursor: pointer;\n",
              "      display: none;\n",
              "      fill: #1967D2;\n",
              "      height: 32px;\n",
              "      padding: 0 0 0 0;\n",
              "      width: 32px;\n",
              "    }\n",
              "\n",
              "    .colab-df-convert:hover {\n",
              "      background-color: #E2EBFA;\n",
              "      box-shadow: 0px 1px 2px rgba(60, 64, 67, 0.3), 0px 1px 3px 1px rgba(60, 64, 67, 0.15);\n",
              "      fill: #174EA6;\n",
              "    }\n",
              "\n",
              "    .colab-df-buttons div {\n",
              "      margin-bottom: 4px;\n",
              "    }\n",
              "\n",
              "    [theme=dark] .colab-df-convert {\n",
              "      background-color: #3B4455;\n",
              "      fill: #D2E3FC;\n",
              "    }\n",
              "\n",
              "    [theme=dark] .colab-df-convert:hover {\n",
              "      background-color: #434B5C;\n",
              "      box-shadow: 0px 1px 3px 1px rgba(0, 0, 0, 0.15);\n",
              "      filter: drop-shadow(0px 1px 2px rgba(0, 0, 0, 0.3));\n",
              "      fill: #FFFFFF;\n",
              "    }\n",
              "  </style>\n",
              "\n",
              "    <script>\n",
              "      const buttonEl =\n",
              "        document.querySelector('#df-20c8a24d-7bac-43b6-a945-7dd713d62811 button.colab-df-convert');\n",
              "      buttonEl.style.display =\n",
              "        google.colab.kernel.accessAllowed ? 'block' : 'none';\n",
              "\n",
              "      async function convertToInteractive(key) {\n",
              "        const element = document.querySelector('#df-20c8a24d-7bac-43b6-a945-7dd713d62811');\n",
              "        const dataTable =\n",
              "          await google.colab.kernel.invokeFunction('convertToInteractive',\n",
              "                                                    [key], {});\n",
              "        if (!dataTable) return;\n",
              "\n",
              "        const docLinkHtml = 'Like what you see? Visit the ' +\n",
              "          '<a target=\"_blank\" href=https://colab.research.google.com/notebooks/data_table.ipynb>data table notebook</a>'\n",
              "          + ' to learn more about interactive tables.';\n",
              "        element.innerHTML = '';\n",
              "        dataTable['output_type'] = 'display_data';\n",
              "        await google.colab.output.renderOutput(dataTable, element);\n",
              "        const docLink = document.createElement('div');\n",
              "        docLink.innerHTML = docLinkHtml;\n",
              "        element.appendChild(docLink);\n",
              "      }\n",
              "    </script>\n",
              "  </div>\n",
              "\n",
              "\n",
              "<div id=\"df-53faebf1-c7e9-4aaf-8c9e-14f0f27fe3c2\">\n",
              "  <button class=\"colab-df-quickchart\" onclick=\"quickchart('df-53faebf1-c7e9-4aaf-8c9e-14f0f27fe3c2')\"\n",
              "            title=\"Suggest charts\"\n",
              "            style=\"display:none;\">\n",
              "\n",
              "<svg xmlns=\"http://www.w3.org/2000/svg\" height=\"24px\"viewBox=\"0 0 24 24\"\n",
              "     width=\"24px\">\n",
              "    <g>\n",
              "        <path d=\"M19 3H5c-1.1 0-2 .9-2 2v14c0 1.1.9 2 2 2h14c1.1 0 2-.9 2-2V5c0-1.1-.9-2-2-2zM9 17H7v-7h2v7zm4 0h-2V7h2v10zm4 0h-2v-4h2v4z\"/>\n",
              "    </g>\n",
              "</svg>\n",
              "  </button>\n",
              "\n",
              "<style>\n",
              "  .colab-df-quickchart {\n",
              "      --bg-color: #E8F0FE;\n",
              "      --fill-color: #1967D2;\n",
              "      --hover-bg-color: #E2EBFA;\n",
              "      --hover-fill-color: #174EA6;\n",
              "      --disabled-fill-color: #AAA;\n",
              "      --disabled-bg-color: #DDD;\n",
              "  }\n",
              "\n",
              "  [theme=dark] .colab-df-quickchart {\n",
              "      --bg-color: #3B4455;\n",
              "      --fill-color: #D2E3FC;\n",
              "      --hover-bg-color: #434B5C;\n",
              "      --hover-fill-color: #FFFFFF;\n",
              "      --disabled-bg-color: #3B4455;\n",
              "      --disabled-fill-color: #666;\n",
              "  }\n",
              "\n",
              "  .colab-df-quickchart {\n",
              "    background-color: var(--bg-color);\n",
              "    border: none;\n",
              "    border-radius: 50%;\n",
              "    cursor: pointer;\n",
              "    display: none;\n",
              "    fill: var(--fill-color);\n",
              "    height: 32px;\n",
              "    padding: 0;\n",
              "    width: 32px;\n",
              "  }\n",
              "\n",
              "  .colab-df-quickchart:hover {\n",
              "    background-color: var(--hover-bg-color);\n",
              "    box-shadow: 0 1px 2px rgba(60, 64, 67, 0.3), 0 1px 3px 1px rgba(60, 64, 67, 0.15);\n",
              "    fill: var(--button-hover-fill-color);\n",
              "  }\n",
              "\n",
              "  .colab-df-quickchart-complete:disabled,\n",
              "  .colab-df-quickchart-complete:disabled:hover {\n",
              "    background-color: var(--disabled-bg-color);\n",
              "    fill: var(--disabled-fill-color);\n",
              "    box-shadow: none;\n",
              "  }\n",
              "\n",
              "  .colab-df-spinner {\n",
              "    border: 2px solid var(--fill-color);\n",
              "    border-color: transparent;\n",
              "    border-bottom-color: var(--fill-color);\n",
              "    animation:\n",
              "      spin 1s steps(1) infinite;\n",
              "  }\n",
              "\n",
              "  @keyframes spin {\n",
              "    0% {\n",
              "      border-color: transparent;\n",
              "      border-bottom-color: var(--fill-color);\n",
              "      border-left-color: var(--fill-color);\n",
              "    }\n",
              "    20% {\n",
              "      border-color: transparent;\n",
              "      border-left-color: var(--fill-color);\n",
              "      border-top-color: var(--fill-color);\n",
              "    }\n",
              "    30% {\n",
              "      border-color: transparent;\n",
              "      border-left-color: var(--fill-color);\n",
              "      border-top-color: var(--fill-color);\n",
              "      border-right-color: var(--fill-color);\n",
              "    }\n",
              "    40% {\n",
              "      border-color: transparent;\n",
              "      border-right-color: var(--fill-color);\n",
              "      border-top-color: var(--fill-color);\n",
              "    }\n",
              "    60% {\n",
              "      border-color: transparent;\n",
              "      border-right-color: var(--fill-color);\n",
              "    }\n",
              "    80% {\n",
              "      border-color: transparent;\n",
              "      border-right-color: var(--fill-color);\n",
              "      border-bottom-color: var(--fill-color);\n",
              "    }\n",
              "    90% {\n",
              "      border-color: transparent;\n",
              "      border-bottom-color: var(--fill-color);\n",
              "    }\n",
              "  }\n",
              "</style>\n",
              "\n",
              "  <script>\n",
              "    async function quickchart(key) {\n",
              "      const quickchartButtonEl =\n",
              "        document.querySelector('#' + key + ' button');\n",
              "      quickchartButtonEl.disabled = true;  // To prevent multiple clicks.\n",
              "      quickchartButtonEl.classList.add('colab-df-spinner');\n",
              "      try {\n",
              "        const charts = await google.colab.kernel.invokeFunction(\n",
              "            'suggestCharts', [key], {});\n",
              "      } catch (error) {\n",
              "        console.error('Error during call to suggestCharts:', error);\n",
              "      }\n",
              "      quickchartButtonEl.classList.remove('colab-df-spinner');\n",
              "      quickchartButtonEl.classList.add('colab-df-quickchart-complete');\n",
              "    }\n",
              "    (() => {\n",
              "      let quickchartButtonEl =\n",
              "        document.querySelector('#df-53faebf1-c7e9-4aaf-8c9e-14f0f27fe3c2 button');\n",
              "      quickchartButtonEl.style.display =\n",
              "        google.colab.kernel.accessAllowed ? 'block' : 'none';\n",
              "    })();\n",
              "  </script>\n",
              "</div>\n",
              "    </div>\n",
              "  </div>\n"
            ],
            "application/vnd.google.colaboratory.intrinsic+json": {
              "type": "dataframe",
              "repr_error": "0"
            }
          },
          "metadata": {},
          "execution_count": 25
        }
      ],
      "source": [
        "data_movies.query('puNumber == [221154310, 221054410]')"
      ]
    },
    {
      "cell_type": "code",
      "execution_count": null,
      "metadata": {
        "scrolled": true,
        "id": "jLOsevMpbL0-",
        "outputId": "f977bfdc-4f4e-4a79-e4eb-a38ff79a9c6d",
        "colab": {
          "base_uri": "https://localhost:8080/"
        }
      },
      "outputs": [
        {
          "output_type": "execute_result",
          "data": {
            "text/plain": [
              "title\n",
              "День святого Валентина_                             5\n",
              "Робин Гуд (Robin Hood)                              4\n",
              "Лузеры                                              4\n",
              "Начало_                                             4\n",
              "Рапунцель: Запутанная история                       4\n",
              "Красавчик-2                                         4\n",
              "Прощание                                            4\n",
              "Не брать живым /По книге Раджива Чандрасекарана/    4\n",
              "Дитя тьмы                                           4\n",
              "Кошки против собак: Месть Китти Галор               4\n",
              "Name: count, dtype: int64"
            ]
          },
          "metadata": {},
          "execution_count": 26
        }
      ],
      "source": [
        "data_movies.title.value_counts().head(10)"
      ]
    },
    {
      "cell_type": "code",
      "execution_count": null,
      "metadata": {
        "id": "ArUKGm5abL0_",
        "outputId": "1a22e43b-7ea6-4a12-fe05-dcb05e8fd5c7",
        "colab": {
          "base_uri": "https://localhost:8080/"
        }
      },
      "outputs": [
        {
          "output_type": "execute_result",
          "data": {
            "text/plain": [
              "714"
            ]
          },
          "metadata": {},
          "execution_count": 27
        }
      ],
      "source": [
        "data_movies[data_movies['title'].duplicated()].shape[0]"
      ]
    },
    {
      "cell_type": "markdown",
      "metadata": {
        "id": "bwQmaAJVbL0_"
      },
      "source": [
        "Наши предположения подтвердились, действительно, `714` кинолент выходило в повторный прокат. Можно было бы объединить сборы `box_office`, но т.к. данные по конкретным фильмам нам не понадобятся, то можно этого не делать."
      ]
    },
    {
      "cell_type": "markdown",
      "metadata": {
        "id": "52fOPrEBgFyQ"
      },
      "source": [
        "## Проверка категориальных значений"
      ]
    },
    {
      "cell_type": "code",
      "execution_count": null,
      "metadata": {
        "id": "CzfoPxu8bL0_",
        "outputId": "eaa9634e-6da5-413b-e79a-1440af32fb4a",
        "colab": {
          "base_uri": "https://localhost:8080/"
        }
      },
      "outputs": [
        {
          "output_type": "execute_result",
          "data": {
            "text/plain": [
              "production_country\n",
              "Франция - Бельгия - Канада                                                1\n",
              "Греция - Россия                                                           1\n",
              "Великобритания - Исландия - Испания - Швейцария - США                     1\n",
              "Австралия - Великобритания - Бельгия - Индия                              1\n",
              "Швеция - Германия - Франция - Норвегия                                    1\n",
              "Нидерланды - Бельгия - Германия - Ирландия                                1\n",
              "Нидерланды - Великобритания - Бельгия                                     1\n",
              "США - Колумбия - Испания                                                  1\n",
              "Франция-Испания-Бельгия-Панама                                            1\n",
              "США-Великобритания-Чехия-Румыния                                          1\n",
              "Аргентина - Уругвай - Россия - Германия - Франция - Нидерланды            1\n",
              "Швеция - Франция - Норвегия - Дания                                       1\n",
              "Италия-Франция-Великобритания                                             1\n",
              "Великобритания, Франция                                                   1\n",
              "Венесуэла                                                                 1\n",
              "Великобритания - США - Австралия - Ирландия - Германия - Куба - Канада    1\n",
              "Аргентина - Мексика - Бразилия - Франция - США                            1\n",
              "Швеция - США                                                              1\n",
              "Франция - Германия - Турция - Катар                                       1\n",
              "Дания - Канада - Швеция - Франция - Германия - Великобритания - США       1\n",
              "Name: count, dtype: int64"
            ]
          },
          "metadata": {},
          "execution_count": 28
        }
      ],
      "source": [
        "data_movies.production_country.value_counts().tail(20)"
      ]
    },
    {
      "cell_type": "code",
      "execution_count": null,
      "metadata": {
        "id": "9JMuZYhPbL0_",
        "outputId": "6b2afa76-1590-4559-ef73-86036c552130",
        "colab": {
          "base_uri": "https://localhost:8080/"
        }
      },
      "outputs": [
        {
          "output_type": "execute_result",
          "data": {
            "text/plain": [
              "director\n",
              "О.Семёнова              47\n",
              "Стивен Содерберг        17\n",
              "Ридли Скотт             16\n",
              "Д.Червяцов              16\n",
              "Тиль Швайгер            14\n",
              "                        ..\n",
              "Флориан Галленбергер     1\n",
              "Афонсо Пойарт            1\n",
              "Том Коркоран             1\n",
              "Е.Сергеев                1\n",
              "И.Трусов                 1\n",
              "Name: count, Length: 4793, dtype: int64"
            ]
          },
          "metadata": {},
          "execution_count": 29
        }
      ],
      "source": [
        "data_movies.director.value_counts()"
      ]
    },
    {
      "cell_type": "code",
      "execution_count": null,
      "metadata": {
        "id": "HMDTxLzzbL1A",
        "outputId": "ceec5608-8d4d-40e8-eb5e-5f9b56725dbd",
        "colab": {
          "base_uri": "https://localhost:8080/"
        }
      },
      "outputs": [
        {
          "output_type": "execute_result",
          "data": {
            "text/plain": [
              "producer\n",
              "П.Смирнов                                        67\n",
              "Олег Кузовков, Дмитрий Ловейко, Марина Ратина    28\n",
              "С.Сельянов                                       18\n",
              "Д.Ловейко, О.Кузовков                            16\n",
              "А.Тельнов                                        11\n",
              "                                                 ..\n",
              "Филипп Логи, Ксавье Риго, Марк-Антуан Роберт      1\n",
              "Б.Гуц, А.Гусенцова                                1\n",
              "Лоран Петен, Мишель Петен                         1\n",
              " ООО \"КиноФирма\"                                  1\n",
              "Дженнифер Додж                                    1\n",
              "Name: count, Length: 5328, dtype: int64"
            ]
          },
          "metadata": {},
          "execution_count": 30
        }
      ],
      "source": [
        "data_movies.producer.value_counts()"
      ]
    },
    {
      "cell_type": "code",
      "execution_count": null,
      "metadata": {
        "id": "yYBF0YrvbL1A",
        "outputId": "0446268e-e9e7-4580-ef83-5cc5dfa3e4c9",
        "colab": {
          "base_uri": "https://localhost:8080/"
        }
      },
      "outputs": [
        {
          "output_type": "execute_result",
          "data": {
            "text/plain": [
              "genres\n",
              "комедия,семейный,музыка              1\n",
              "мюзикл,комедия,мелодрама             1\n",
              "фантастика,мультфильм,драма          1\n",
              "драма,фантастика,ужасы               1\n",
              "документальный,боевик,приключения    1\n",
              "мелодрама,комедия,триллер            1\n",
              "мультфильм,детский,комедия           1\n",
              "приключения,триллер,биография        1\n",
              "приключения,детский,комедия          1\n",
              "комедия,криминал,биография           1\n",
              "боевик,драма,вестерн                 1\n",
              "детектив,триллер,ужасы               1\n",
              "вестерн,драма,триллер                1\n",
              "мюзикл,фэнтези,семейный              1\n",
              "документальный,новости,драма         1\n",
              "семейный,детектив,детский            1\n",
              "комедия,история,драма                1\n",
              "для взрослых,драма,комедия           1\n",
              "мюзикл,мелодрама,фэнтези             1\n",
              "мелодрама,история,драма              1\n",
              "Name: count, dtype: int64"
            ]
          },
          "metadata": {},
          "execution_count": 31
        }
      ],
      "source": [
        "data_movies.genres.value_counts().tail(20)"
      ]
    },
    {
      "cell_type": "markdown",
      "metadata": {
        "id": "ftOQxhrAbL1A"
      },
      "source": [
        "В столбцах страна-производитель `production_country` и жанр фильма `genres` имеется примерно схожая проблема, в категорию объединены несколько стран или жанров.  \n",
        "\n",
        "Столбцы режиссёр `director` и продюсер `producer` также имеют одинаковую проблему, в категориях наблюдается разное написание людей:инициалы указаны полностью, либо сокращены.  \n",
        "\n",
        "В связи с тем, что мы не будем анализировать данные колонки в нашем исследовании, то можно оставить их без изменений. Данная проблема могла возникнуть из-за человечского фактора при сборе данных. В качестве решения стоило бы провести инструктаж по заполнению данных в эти категории, либо написать алгоритм в виде нескольких функций, который бы расклеивал эти строки и извлекал из них нужные значения."
      ]
    },
    {
      "cell_type": "code",
      "execution_count": null,
      "metadata": {
        "id": "9tTUaX5ZbL1A",
        "outputId": "e52da326-0e4e-4e98-bd7e-a0176393edad",
        "colab": {
          "base_uri": "https://localhost:8080/"
        }
      },
      "outputs": [
        {
          "output_type": "execute_result",
          "data": {
            "text/plain": [
              "type\n",
              "Художественный                4504\n",
              " Художественный               1383\n",
              "Анимационный                   826\n",
              "Прочие                         404\n",
              "Документальный                 285\n",
              "Научно-популярный               53\n",
              " Анимационный                    1\n",
              "Музыкально-развлекательный       1\n",
              "Name: count, dtype: int64"
            ]
          },
          "metadata": {},
          "execution_count": 32
        }
      ],
      "source": [
        "data_movies.type.value_counts()"
      ]
    },
    {
      "cell_type": "markdown",
      "metadata": {
        "id": "J4LZwXdPbL1B"
      },
      "source": [
        "В колонке с жанром `type` присутсвуют строки, где при вводе данных была допущена ошибка в виде пробела в начале, скорее всего это произошло из-за человческого фактора.  \n",
        "Данную проблему можно исправить с помощью метода `.str.strip`, которые удаляет лишние пробелы в начале и конце строки."
      ]
    },
    {
      "cell_type": "code",
      "execution_count": null,
      "metadata": {
        "id": "HZZhRxYrbL1B",
        "outputId": "7979fd90-f649-41e8-d014-faf908fb59e6",
        "colab": {
          "base_uri": "https://localhost:8080/"
        }
      },
      "outputs": [
        {
          "output_type": "execute_result",
          "data": {
            "text/plain": [
              "type\n",
              "Художественный                5887\n",
              "Анимационный                   827\n",
              "Прочие                         404\n",
              "Документальный                 285\n",
              "Научно-популярный               53\n",
              "Музыкально-развлекательный       1\n",
              "Name: count, dtype: int64"
            ]
          },
          "metadata": {},
          "execution_count": 33
        }
      ],
      "source": [
        "data_movies['type'] = data_movies['type'].str.strip()\n",
        "data_movies.type.value_counts()"
      ]
    },
    {
      "cell_type": "markdown",
      "metadata": {
        "id": "XFSN5lrEgFyR"
      },
      "source": [
        "## Проверка количественные значения"
      ]
    },
    {
      "cell_type": "markdown",
      "metadata": {
        "id": "YbzClBxagFyS"
      },
      "source": [
        "Изучим столбцы с количественными переменными с помощью функции `describe`."
      ]
    },
    {
      "cell_type": "code",
      "execution_count": null,
      "metadata": {
        "id": "-Lx_qLnhbL1C",
        "outputId": "7be47824-7dab-4249-f298-406733258c1d",
        "colab": {
          "base_uri": "https://localhost:8080/",
          "height": 269
        }
      },
      "outputs": [
        {
          "output_type": "execute_result",
          "data": {
            "text/plain": [
              "                         count                           mean  \\\n",
              "puNumber              7,455.00                 135,249,783.53   \n",
              "show_start_date           7457  2015-02-19 08:33:22.521121280   \n",
              "refundable_support      330.00                  11,936,363.64   \n",
              "nonrefundable_support   330.00                  49,233,297.92   \n",
              "budget                  330.00                 127,835,768.11   \n",
              "ratings               6,490.00                           6.48   \n",
              "box_office            3,143.00                  76,671,582.27   \n",
              "\n",
              "                                       min                  25%  \\\n",
              "puNumber                      1,811,096.00       113,000,164.50   \n",
              "show_start_date        2010-01-11 12:00:00  2012-07-02 12:00:00   \n",
              "refundable_support                    0.00                 0.00   \n",
              "nonrefundable_support                 0.00        25,000,000.00   \n",
              "budget                                0.00        42,404,381.75   \n",
              "ratings                               1.00                 5.90   \n",
              "box_office                            0.00            87,802.50   \n",
              "\n",
              "                                       50%                  75%  \\\n",
              "puNumber                    121,015,518.00       124,003,316.50   \n",
              "show_start_date        2015-03-03 12:00:00  2017-11-30 12:00:00   \n",
              "refundable_support                    0.00        15,000,000.00   \n",
              "nonrefundable_support        30,000,000.00        41,125,000.00   \n",
              "budget                       69,118,977.00       145,905,958.50   \n",
              "ratings                               6.60                 7.20   \n",
              "box_office                    2,351,960.00        24,138,966.22   \n",
              "\n",
              "                                       max            std  \n",
              "puNumber                    231,001,111.00  38,385,947.57  \n",
              "show_start_date        2019-12-30 12:00:00            NaN  \n",
              "refundable_support          180,000,000.00  24,974,945.34  \n",
              "nonrefundable_support       400,000,000.00  60,073,639.80  \n",
              "budget                    2,305,074,303.00 188,996,337.04  \n",
              "ratings                               9.20           1.10  \n",
              "box_office                3,073,568,690.79 240,738,045.10  "
            ],
            "text/html": [
              "\n",
              "  <div id=\"df-489b27ad-8906-4e3a-a7a2-6a928a8db6d3\" class=\"colab-df-container\">\n",
              "    <div>\n",
              "<style scoped>\n",
              "    .dataframe tbody tr th:only-of-type {\n",
              "        vertical-align: middle;\n",
              "    }\n",
              "\n",
              "    .dataframe tbody tr th {\n",
              "        vertical-align: top;\n",
              "    }\n",
              "\n",
              "    .dataframe thead th {\n",
              "        text-align: right;\n",
              "    }\n",
              "</style>\n",
              "<table border=\"1\" class=\"dataframe\">\n",
              "  <thead>\n",
              "    <tr style=\"text-align: right;\">\n",
              "      <th></th>\n",
              "      <th>count</th>\n",
              "      <th>mean</th>\n",
              "      <th>min</th>\n",
              "      <th>25%</th>\n",
              "      <th>50%</th>\n",
              "      <th>75%</th>\n",
              "      <th>max</th>\n",
              "      <th>std</th>\n",
              "    </tr>\n",
              "  </thead>\n",
              "  <tbody>\n",
              "    <tr>\n",
              "      <th>puNumber</th>\n",
              "      <td>7,455.00</td>\n",
              "      <td>135,249,783.53</td>\n",
              "      <td>1,811,096.00</td>\n",
              "      <td>113,000,164.50</td>\n",
              "      <td>121,015,518.00</td>\n",
              "      <td>124,003,316.50</td>\n",
              "      <td>231,001,111.00</td>\n",
              "      <td>38,385,947.57</td>\n",
              "    </tr>\n",
              "    <tr>\n",
              "      <th>show_start_date</th>\n",
              "      <td>7457</td>\n",
              "      <td>2015-02-19 08:33:22.521121280</td>\n",
              "      <td>2010-01-11 12:00:00</td>\n",
              "      <td>2012-07-02 12:00:00</td>\n",
              "      <td>2015-03-03 12:00:00</td>\n",
              "      <td>2017-11-30 12:00:00</td>\n",
              "      <td>2019-12-30 12:00:00</td>\n",
              "      <td>NaN</td>\n",
              "    </tr>\n",
              "    <tr>\n",
              "      <th>refundable_support</th>\n",
              "      <td>330.00</td>\n",
              "      <td>11,936,363.64</td>\n",
              "      <td>0.00</td>\n",
              "      <td>0.00</td>\n",
              "      <td>0.00</td>\n",
              "      <td>15,000,000.00</td>\n",
              "      <td>180,000,000.00</td>\n",
              "      <td>24,974,945.34</td>\n",
              "    </tr>\n",
              "    <tr>\n",
              "      <th>nonrefundable_support</th>\n",
              "      <td>330.00</td>\n",
              "      <td>49,233,297.92</td>\n",
              "      <td>0.00</td>\n",
              "      <td>25,000,000.00</td>\n",
              "      <td>30,000,000.00</td>\n",
              "      <td>41,125,000.00</td>\n",
              "      <td>400,000,000.00</td>\n",
              "      <td>60,073,639.80</td>\n",
              "    </tr>\n",
              "    <tr>\n",
              "      <th>budget</th>\n",
              "      <td>330.00</td>\n",
              "      <td>127,835,768.11</td>\n",
              "      <td>0.00</td>\n",
              "      <td>42,404,381.75</td>\n",
              "      <td>69,118,977.00</td>\n",
              "      <td>145,905,958.50</td>\n",
              "      <td>2,305,074,303.00</td>\n",
              "      <td>188,996,337.04</td>\n",
              "    </tr>\n",
              "    <tr>\n",
              "      <th>ratings</th>\n",
              "      <td>6,490.00</td>\n",
              "      <td>6.48</td>\n",
              "      <td>1.00</td>\n",
              "      <td>5.90</td>\n",
              "      <td>6.60</td>\n",
              "      <td>7.20</td>\n",
              "      <td>9.20</td>\n",
              "      <td>1.10</td>\n",
              "    </tr>\n",
              "    <tr>\n",
              "      <th>box_office</th>\n",
              "      <td>3,143.00</td>\n",
              "      <td>76,671,582.27</td>\n",
              "      <td>0.00</td>\n",
              "      <td>87,802.50</td>\n",
              "      <td>2,351,960.00</td>\n",
              "      <td>24,138,966.22</td>\n",
              "      <td>3,073,568,690.79</td>\n",
              "      <td>240,738,045.10</td>\n",
              "    </tr>\n",
              "  </tbody>\n",
              "</table>\n",
              "</div>\n",
              "    <div class=\"colab-df-buttons\">\n",
              "\n",
              "  <div class=\"colab-df-container\">\n",
              "    <button class=\"colab-df-convert\" onclick=\"convertToInteractive('df-489b27ad-8906-4e3a-a7a2-6a928a8db6d3')\"\n",
              "            title=\"Convert this dataframe to an interactive table.\"\n",
              "            style=\"display:none;\">\n",
              "\n",
              "  <svg xmlns=\"http://www.w3.org/2000/svg\" height=\"24px\" viewBox=\"0 -960 960 960\">\n",
              "    <path d=\"M120-120v-720h720v720H120Zm60-500h600v-160H180v160Zm220 220h160v-160H400v160Zm0 220h160v-160H400v160ZM180-400h160v-160H180v160Zm440 0h160v-160H620v160ZM180-180h160v-160H180v160Zm440 0h160v-160H620v160Z\"/>\n",
              "  </svg>\n",
              "    </button>\n",
              "\n",
              "  <style>\n",
              "    .colab-df-container {\n",
              "      display:flex;\n",
              "      gap: 12px;\n",
              "    }\n",
              "\n",
              "    .colab-df-convert {\n",
              "      background-color: #E8F0FE;\n",
              "      border: none;\n",
              "      border-radius: 50%;\n",
              "      cursor: pointer;\n",
              "      display: none;\n",
              "      fill: #1967D2;\n",
              "      height: 32px;\n",
              "      padding: 0 0 0 0;\n",
              "      width: 32px;\n",
              "    }\n",
              "\n",
              "    .colab-df-convert:hover {\n",
              "      background-color: #E2EBFA;\n",
              "      box-shadow: 0px 1px 2px rgba(60, 64, 67, 0.3), 0px 1px 3px 1px rgba(60, 64, 67, 0.15);\n",
              "      fill: #174EA6;\n",
              "    }\n",
              "\n",
              "    .colab-df-buttons div {\n",
              "      margin-bottom: 4px;\n",
              "    }\n",
              "\n",
              "    [theme=dark] .colab-df-convert {\n",
              "      background-color: #3B4455;\n",
              "      fill: #D2E3FC;\n",
              "    }\n",
              "\n",
              "    [theme=dark] .colab-df-convert:hover {\n",
              "      background-color: #434B5C;\n",
              "      box-shadow: 0px 1px 3px 1px rgba(0, 0, 0, 0.15);\n",
              "      filter: drop-shadow(0px 1px 2px rgba(0, 0, 0, 0.3));\n",
              "      fill: #FFFFFF;\n",
              "    }\n",
              "  </style>\n",
              "\n",
              "    <script>\n",
              "      const buttonEl =\n",
              "        document.querySelector('#df-489b27ad-8906-4e3a-a7a2-6a928a8db6d3 button.colab-df-convert');\n",
              "      buttonEl.style.display =\n",
              "        google.colab.kernel.accessAllowed ? 'block' : 'none';\n",
              "\n",
              "      async function convertToInteractive(key) {\n",
              "        const element = document.querySelector('#df-489b27ad-8906-4e3a-a7a2-6a928a8db6d3');\n",
              "        const dataTable =\n",
              "          await google.colab.kernel.invokeFunction('convertToInteractive',\n",
              "                                                    [key], {});\n",
              "        if (!dataTable) return;\n",
              "\n",
              "        const docLinkHtml = 'Like what you see? Visit the ' +\n",
              "          '<a target=\"_blank\" href=https://colab.research.google.com/notebooks/data_table.ipynb>data table notebook</a>'\n",
              "          + ' to learn more about interactive tables.';\n",
              "        element.innerHTML = '';\n",
              "        dataTable['output_type'] = 'display_data';\n",
              "        await google.colab.output.renderOutput(dataTable, element);\n",
              "        const docLink = document.createElement('div');\n",
              "        docLink.innerHTML = docLinkHtml;\n",
              "        element.appendChild(docLink);\n",
              "      }\n",
              "    </script>\n",
              "  </div>\n",
              "\n",
              "\n",
              "<div id=\"df-4162d271-36ff-4016-a067-95f92598bc3d\">\n",
              "  <button class=\"colab-df-quickchart\" onclick=\"quickchart('df-4162d271-36ff-4016-a067-95f92598bc3d')\"\n",
              "            title=\"Suggest charts\"\n",
              "            style=\"display:none;\">\n",
              "\n",
              "<svg xmlns=\"http://www.w3.org/2000/svg\" height=\"24px\"viewBox=\"0 0 24 24\"\n",
              "     width=\"24px\">\n",
              "    <g>\n",
              "        <path d=\"M19 3H5c-1.1 0-2 .9-2 2v14c0 1.1.9 2 2 2h14c1.1 0 2-.9 2-2V5c0-1.1-.9-2-2-2zM9 17H7v-7h2v7zm4 0h-2V7h2v10zm4 0h-2v-4h2v4z\"/>\n",
              "    </g>\n",
              "</svg>\n",
              "  </button>\n",
              "\n",
              "<style>\n",
              "  .colab-df-quickchart {\n",
              "      --bg-color: #E8F0FE;\n",
              "      --fill-color: #1967D2;\n",
              "      --hover-bg-color: #E2EBFA;\n",
              "      --hover-fill-color: #174EA6;\n",
              "      --disabled-fill-color: #AAA;\n",
              "      --disabled-bg-color: #DDD;\n",
              "  }\n",
              "\n",
              "  [theme=dark] .colab-df-quickchart {\n",
              "      --bg-color: #3B4455;\n",
              "      --fill-color: #D2E3FC;\n",
              "      --hover-bg-color: #434B5C;\n",
              "      --hover-fill-color: #FFFFFF;\n",
              "      --disabled-bg-color: #3B4455;\n",
              "      --disabled-fill-color: #666;\n",
              "  }\n",
              "\n",
              "  .colab-df-quickchart {\n",
              "    background-color: var(--bg-color);\n",
              "    border: none;\n",
              "    border-radius: 50%;\n",
              "    cursor: pointer;\n",
              "    display: none;\n",
              "    fill: var(--fill-color);\n",
              "    height: 32px;\n",
              "    padding: 0;\n",
              "    width: 32px;\n",
              "  }\n",
              "\n",
              "  .colab-df-quickchart:hover {\n",
              "    background-color: var(--hover-bg-color);\n",
              "    box-shadow: 0 1px 2px rgba(60, 64, 67, 0.3), 0 1px 3px 1px rgba(60, 64, 67, 0.15);\n",
              "    fill: var(--button-hover-fill-color);\n",
              "  }\n",
              "\n",
              "  .colab-df-quickchart-complete:disabled,\n",
              "  .colab-df-quickchart-complete:disabled:hover {\n",
              "    background-color: var(--disabled-bg-color);\n",
              "    fill: var(--disabled-fill-color);\n",
              "    box-shadow: none;\n",
              "  }\n",
              "\n",
              "  .colab-df-spinner {\n",
              "    border: 2px solid var(--fill-color);\n",
              "    border-color: transparent;\n",
              "    border-bottom-color: var(--fill-color);\n",
              "    animation:\n",
              "      spin 1s steps(1) infinite;\n",
              "  }\n",
              "\n",
              "  @keyframes spin {\n",
              "    0% {\n",
              "      border-color: transparent;\n",
              "      border-bottom-color: var(--fill-color);\n",
              "      border-left-color: var(--fill-color);\n",
              "    }\n",
              "    20% {\n",
              "      border-color: transparent;\n",
              "      border-left-color: var(--fill-color);\n",
              "      border-top-color: var(--fill-color);\n",
              "    }\n",
              "    30% {\n",
              "      border-color: transparent;\n",
              "      border-left-color: var(--fill-color);\n",
              "      border-top-color: var(--fill-color);\n",
              "      border-right-color: var(--fill-color);\n",
              "    }\n",
              "    40% {\n",
              "      border-color: transparent;\n",
              "      border-right-color: var(--fill-color);\n",
              "      border-top-color: var(--fill-color);\n",
              "    }\n",
              "    60% {\n",
              "      border-color: transparent;\n",
              "      border-right-color: var(--fill-color);\n",
              "    }\n",
              "    80% {\n",
              "      border-color: transparent;\n",
              "      border-right-color: var(--fill-color);\n",
              "      border-bottom-color: var(--fill-color);\n",
              "    }\n",
              "    90% {\n",
              "      border-color: transparent;\n",
              "      border-bottom-color: var(--fill-color);\n",
              "    }\n",
              "  }\n",
              "</style>\n",
              "\n",
              "  <script>\n",
              "    async function quickchart(key) {\n",
              "      const quickchartButtonEl =\n",
              "        document.querySelector('#' + key + ' button');\n",
              "      quickchartButtonEl.disabled = true;  // To prevent multiple clicks.\n",
              "      quickchartButtonEl.classList.add('colab-df-spinner');\n",
              "      try {\n",
              "        const charts = await google.colab.kernel.invokeFunction(\n",
              "            'suggestCharts', [key], {});\n",
              "      } catch (error) {\n",
              "        console.error('Error during call to suggestCharts:', error);\n",
              "      }\n",
              "      quickchartButtonEl.classList.remove('colab-df-spinner');\n",
              "      quickchartButtonEl.classList.add('colab-df-quickchart-complete');\n",
              "    }\n",
              "    (() => {\n",
              "      let quickchartButtonEl =\n",
              "        document.querySelector('#df-4162d271-36ff-4016-a067-95f92598bc3d button');\n",
              "      quickchartButtonEl.style.display =\n",
              "        google.colab.kernel.accessAllowed ? 'block' : 'none';\n",
              "    })();\n",
              "  </script>\n",
              "</div>\n",
              "    </div>\n",
              "  </div>\n"
            ],
            "application/vnd.google.colaboratory.intrinsic+json": {
              "type": "dataframe",
              "summary": "{\n  \"name\": \"data_movies\",\n  \"rows\": 7,\n  \"fields\": [\n    {\n      \"column\": \"count\",\n      \"properties\": {\n        \"dtype\": \"date\",\n        \"min\": 330.0,\n        \"max\": \"7457\",\n        \"num_unique_values\": 5,\n        \"samples\": [\n          \"7457\",\n          3143.0,\n          330.0\n        ],\n        \"semantic_type\": \"\",\n        \"description\": \"\"\n      }\n    },\n    {\n      \"column\": \"mean\",\n      \"properties\": {\n        \"dtype\": \"date\",\n        \"min\": \"1970-01-01 00:00:00.000000006\",\n        \"max\": \"2015-02-19 08:33:22.521121280\",\n        \"num_unique_values\": 7,\n        \"samples\": [\n          135249783.53065056,\n          \"2015-02-19 08:33:22.521121280\",\n          6.479244992295841\n        ],\n        \"semantic_type\": \"\",\n        \"description\": \"\"\n      }\n    },\n    {\n      \"column\": \"min\",\n      \"properties\": {\n        \"dtype\": \"date\",\n        \"min\": \"1970-01-01 00:00:00\",\n        \"max\": \"2010-01-11 12:00:00\",\n        \"num_unique_values\": 4,\n        \"samples\": [\n          \"2010-01-11 12:00:00\",\n          1.0,\n          1811096.0\n        ],\n        \"semantic_type\": \"\",\n        \"description\": \"\"\n      }\n    },\n    {\n      \"column\": \"25%\",\n      \"properties\": {\n        \"dtype\": \"date\",\n        \"min\": \"1970-01-01 00:00:00\",\n        \"max\": \"2012-07-02 12:00:00\",\n        \"num_unique_values\": 7,\n        \"samples\": [\n          113000164.5,\n          \"2012-07-02 12:00:00\",\n          5.9\n        ],\n        \"semantic_type\": \"\",\n        \"description\": \"\"\n      }\n    },\n    {\n      \"column\": \"50%\",\n      \"properties\": {\n        \"dtype\": \"date\",\n        \"min\": \"1970-01-01 00:00:00\",\n        \"max\": \"2015-03-03 12:00:00\",\n        \"num_unique_values\": 7,\n        \"samples\": [\n          121015518.0,\n          \"2015-03-03 12:00:00\",\n          6.6\n        ],\n        \"semantic_type\": \"\",\n        \"description\": \"\"\n      }\n    },\n    {\n      \"column\": \"75%\",\n      \"properties\": {\n        \"dtype\": \"date\",\n        \"min\": \"1970-01-01 00:00:00.000000007\",\n        \"max\": \"2017-11-30 12:00:00\",\n        \"num_unique_values\": 7,\n        \"samples\": [\n          124003316.5,\n          \"2017-11-30 12:00:00\",\n          7.2\n        ],\n        \"semantic_type\": \"\",\n        \"description\": \"\"\n      }\n    },\n    {\n      \"column\": \"max\",\n      \"properties\": {\n        \"dtype\": \"date\",\n        \"min\": \"1970-01-01 00:00:00.000000009\",\n        \"max\": \"2019-12-30 12:00:00\",\n        \"num_unique_values\": 7,\n        \"samples\": [\n          231001111.0,\n          \"2019-12-30 12:00:00\",\n          9.2\n        ],\n        \"semantic_type\": \"\",\n        \"description\": \"\"\n      }\n    },\n    {\n      \"column\": \"std\",\n      \"properties\": {\n        \"dtype\": \"date\",\n        \"min\": 1.1016647974803568,\n        \"max\": 240738045.09586316,\n        \"num_unique_values\": 6,\n        \"samples\": [\n          38385947.57130338,\n          24974945.342438918,\n          240738045.09586316\n        ],\n        \"semantic_type\": \"\",\n        \"description\": \"\"\n      }\n    }\n  ]\n}"
            }
          },
          "metadata": {},
          "execution_count": 34
        }
      ],
      "source": [
        "data_movies.describe().transpose()"
      ]
    },
    {
      "cell_type": "markdown",
      "metadata": {
        "id": "CzkS0dUYbL1C"
      },
      "source": [
        "Если государственная поддержка может отсутсвовать и равняться `0`, то общий бюджет фильма `budget` точно не может быть нулевым.  \n",
        "Ознакомимся с проблемными данными более детально."
      ]
    },
    {
      "cell_type": "code",
      "execution_count": null,
      "metadata": {
        "scrolled": true,
        "id": "eGbGVLebbL1C",
        "outputId": "3029b208-f0db-4303-fad5-8f5c4f8355f6",
        "colab": {
          "base_uri": "https://localhost:8080/"
        }
      },
      "outputs": [
        {
          "output_type": "stream",
          "name": "stdout",
          "text": [
            "Количество фильмов с нулевым бюджетом: 17\n"
          ]
        }
      ],
      "source": [
        "print('Количество фильмов с нулевым бюджетом:', len(data_movies.query('budget == 0')))"
      ]
    },
    {
      "cell_type": "code",
      "execution_count": null,
      "metadata": {
        "id": "WSNMyet4bL1C",
        "outputId": "b25b02c5-5716-42a9-895c-473b14287ced",
        "colab": {
          "base_uri": "https://localhost:8080/"
        }
      },
      "outputs": [
        {
          "output_type": "stream",
          "name": "stdout",
          "text": [
            "<class 'pandas.core.frame.DataFrame'>\n",
            "Index: 7457 entries, 0 to 7485\n",
            "Data columns (total 16 columns):\n",
            " #   Column                 Non-Null Count  Dtype         \n",
            "---  ------                 --------------  -----         \n",
            " 0   title                  7457 non-null   object        \n",
            " 1   puNumber               7455 non-null   float64       \n",
            " 2   show_start_date        7457 non-null   datetime64[ns]\n",
            " 3   type                   7457 non-null   object        \n",
            " 4   film_studio            7439 non-null   object        \n",
            " 5   production_country     7455 non-null   object        \n",
            " 6   director               7448 non-null   object        \n",
            " 7   producer               6889 non-null   object        \n",
            " 8   age_restriction        7457 non-null   object        \n",
            " 9   refundable_support     330 non-null    float64       \n",
            " 10  nonrefundable_support  330 non-null    float64       \n",
            " 11  budget                 330 non-null    float64       \n",
            " 12  financing_source       330 non-null    object        \n",
            " 13  ratings                6490 non-null   float64       \n",
            " 14  genres                 6484 non-null   object        \n",
            " 15  box_office             3143 non-null   float64       \n",
            "dtypes: datetime64[ns](1), float64(6), object(9)\n",
            "memory usage: 990.4+ KB\n"
          ]
        }
      ],
      "source": [
        "data_movies.info()"
      ]
    },
    {
      "cell_type": "code",
      "execution_count": null,
      "metadata": {
        "id": "lCHchZScbL1D",
        "outputId": "e1f28f45-9f84-4550-8f33-e1bd8d88eb92",
        "colab": {
          "base_uri": "https://localhost:8080/",
          "height": 1000
        }
      },
      "outputs": [
        {
          "output_type": "execute_result",
          "data": {
            "text/plain": [
              "                       title       puNumber     show_start_date  \\\n",
              "2053                     14+ 111,023,614.00 2014-12-19 12:00:00   \n",
              "2058               Дуxless 2 111,000,415.00 2015-01-26 12:00:00   \n",
              "2472             Воин (2015) 111,017,315.00 2015-09-28 12:00:00   \n",
              "2532                 Бармен. 111,009,615.00 2015-05-26 12:00:00   \n",
              "2615     Савва. Сердце воина 114,001,715.00 2015-07-21 12:00:00   \n",
              "2684          Тряпичный союз 111,010,215.00 2015-06-08 12:00:00   \n",
              "2788      Срочно выйду замуж 111,017,115.00 2015-09-30 12:00:00   \n",
              "2874       Помню - не помню! 111,004,916.00 2016-03-01 12:00:00   \n",
              "3047  Любовь с ограничениями 111,008,216.00 2016-04-29 12:00:00   \n",
              "3565       Притяжение (2016) 111,018,116.00 2016-12-16 12:00:00   \n",
              "3675                Чудо-юдо 114,001,817.00 2017-06-27 12:00:00   \n",
              "3739                    Мифы 111,004,317.00 2017-06-07 12:00:00   \n",
              "5673                   Селфи 111,012,117.00 2018-02-01 12:00:00   \n",
              "5806              Два хвоста 114,001,018.00 2018-05-31 12:00:00   \n",
              "6008      Принцесса и дракон 114,003,018.00 2018-08-23 12:00:00   \n",
              "6323                Баба Яга 114,006,518.00 2018-11-08 12:00:00   \n",
              "6823     Большое путешествие 114,002,419.00 2019-04-20 12:00:00   \n",
              "\n",
              "                type                                        film_studio  \\\n",
              "2053  Художественный                         ООО Киностудия  \"Сентябрь\"   \n",
              "2058  Художественный  ООО \"Киностудия \"Слово\", ООО \"Арт Пикчерс Студия\"   \n",
              "2472  Художественный   ООО \"Форпост Продакшн\", ООО \"Арт Пикчерс Студия\"   \n",
              "2532  Художественный          АО \"ВайТ Медиа\", ООО \"Арт Пикчерс Студия\"   \n",
              "2615    Анимационный   ООО \"Глюкоза Продакшн\", ООО \"Арт Пикчерс Студия\"   \n",
              "2684  Художественный                      ООО \"Кинокомпания \"КОКТЕБЕЛЬ\"   \n",
              "2788  Художественный          АО \"ВайТ Медиа\", ООО \"Арт Пикчерс Студия\"   \n",
              "2874  Художественный                                    ООО \"КиноФирма\"   \n",
              "3047  Художественный          АО \"ВайТ Медиа\", ООО \"Арт Пикчерс Студия\"   \n",
              "3565  Художественный      ООО \"Водород 2011\",  ООО \"Арт Пикчерс Студия\"   \n",
              "3675    Анимационный                                    ООО \"КиноФирма\"   \n",
              "3739  Художественный           ООО \"ХАЙПФИЛМ\", ООО \"Арт Пикчерс Студия\"   \n",
              "5673  Художественный  ООО \"Киностудия \"Слово\", ООО \"Арт Пикчерс Студия\"   \n",
              "5806    Анимационный                          ООО \"ЛИЦЕНЗИОННЫЕ БРЕНДЫ\"   \n",
              "6008    Анимационный                          ООО \"ЛИЦЕНЗИОННЫЕ БРЕНДЫ\"   \n",
              "6323    Анимационный                           ООО \"Арт Пикчерс Студия\"   \n",
              "6823    Анимационный                          ООО \"ЛИЦЕНЗИОННЫЕ БРЕНДЫ\"   \n",
              "\n",
              "     production_country                        director  \\\n",
              "2053             Россия                        А.Зайцев   \n",
              "2058             Россия                      Р.Прыгунов   \n",
              "2472             Россия                     А.Андрианов   \n",
              "2532             Россия                    Д.Штурманова   \n",
              "2615             Россия                        М.Фадеев   \n",
              "2684             Россия                     М.Местецкий   \n",
              "2788             Россия                       С Чекалов   \n",
              "2874             Россия                     В.Ровенский   \n",
              "3047             Россия                         Д.Тюрин   \n",
              "3565             Россия                     Ф.Бондарчук   \n",
              "3675             Россия                       А.Лукичев   \n",
              "3739             Россия                    А.Молочников   \n",
              "5673             Россия                      Н.Хомерики   \n",
              "5806             Россия  В.Ровенский, Н.Лопато, В.Азеев   \n",
              "6008             Россия                      М.Нефедова   \n",
              "6323             Россия                         В.Саков   \n",
              "6823             Россия           Н.Лопато, В.Ровенский   \n",
              "\n",
              "                                               producer  \\\n",
              "2053                                О.Гранина, А.Зайцев   \n",
              "2058                 П.Ануров, Ф.Бондарчук, Д.Рудовский   \n",
              "2472                           ООО \"Арт Пикчерс Студия\"   \n",
              "2532                                        Т.Вайнштейн   \n",
              "2615                                         А.Чистяков   \n",
              "2684                              Р.Борисевич, А.Кушаев   \n",
              "2788              Ф.Бондарчук, Т.Вайнштейн, Д.Рудовский   \n",
              "2874                                    ООО \"КиноФирма\"   \n",
              "3047              Ф.Бондарчук, Т.Вайнштейн, Д.Рудовский   \n",
              "3565                           ООО \"Арт Пикчерс Студия\"   \n",
              "3675                                    ООО \"КиноФирма\"   \n",
              "3739  Ф.Бондарчук, Д.Рудовский, И.Стюарт, М.Османн, ...   \n",
              "5673                 П.Ануров, Ф.Бондарчук, Д.Рудовский   \n",
              "5806                          ООО \"ЛИЦЕНЗИОННЫЕ БРЕНДЫ\"   \n",
              "6008                          ООО \"ЛИЦЕНЗИОННЫЕ БРЕНДЫ\"   \n",
              "6323  ООО \"Арт Пикчерс Студия\", ООО \"КРИЭЙТИВ АНИМЭЙ...   \n",
              "6823                          ООО \"ЛИЦЕНЗИОННЫЕ БРЕНДЫ\"   \n",
              "\n",
              "                      age_restriction  refundable_support  \\\n",
              "2053  «16+» - для детей старше 16 лет                0.00   \n",
              "2058  «16+» - для детей старше 16 лет                0.00   \n",
              "2472  «12+» - для детей старше 12 лет       10,000,000.00   \n",
              "2532  «16+» - для детей старше 16 лет       20,000,000.00   \n",
              "2615    «6+» - для детей старше 6 лет       60,000,000.00   \n",
              "2684      «18+» - запрещено для детей                0.00   \n",
              "2788  «16+» - для детей старше 16 лет                0.00   \n",
              "2874  «12+» - для детей старше 12 лет                0.00   \n",
              "3047  «16+» - для детей старше 16 лет       19,000,000.00   \n",
              "3565  «12+» - для детей старше 12 лет                0.00   \n",
              "3675    «6+» - для детей старше 6 лет       20,000,000.00   \n",
              "3739  «16+» - для детей старше 16 лет       25,000,000.00   \n",
              "5673  «16+» - для детей старше 16 лет       20,000,000.00   \n",
              "5806    «6+» - для детей старше 6 лет       10,000,000.00   \n",
              "6008    «6+» - для детей старше 6 лет       40,000,000.00   \n",
              "6323    «6+» - для детей старше 6 лет                0.00   \n",
              "6823    «6+» - для детей старше 6 лет       60,000,000.00   \n",
              "\n",
              "      nonrefundable_support  budget                  financing_source  \\\n",
              "2053          23,000,000.00    0.00  Министерство культуры, Фонд кино   \n",
              "2058          75,000,000.00    0.00                         Фонд кино   \n",
              "2472          70,000,000.00    0.00                         Фонд кино   \n",
              "2532                   0.00    0.00                         Фонд кино   \n",
              "2615         100,000,000.00    0.00                         Фонд кино   \n",
              "2684          59,000,000.00    0.00                         Фонд кино   \n",
              "2788          35,000,000.00    0.00                         Фонд кино   \n",
              "2874           6,000,000.00    0.00             Министерство культуры   \n",
              "3047          51,000,000.00    0.00                         Фонд кино   \n",
              "3565         250,000,000.00    0.00                         Фонд кино   \n",
              "3675          20,000,000.00    0.00                         Фонд кино   \n",
              "3739          20,000,000.00    0.00                         Фонд кино   \n",
              "5673          40,000,000.00    0.00                         Фонд кино   \n",
              "5806          60,000,000.00    0.00                         Фонд кино   \n",
              "6008          40,000,000.00    0.00                         Фонд кино   \n",
              "6323         138,969,465.00    0.00                         Фонд кино   \n",
              "6823         120,000,000.00    0.00                         Фонд кино   \n",
              "\n",
              "      ratings                          genres       box_office  \n",
              "2053     6.60                       мелодрама    10,234,016.10  \n",
              "2058     6.60                           драма   446,163,511.00  \n",
              "2472     7.80           боевик,драма,криминал   196,572,438.40  \n",
              "2532     6.20                 комедия,фэнтези    67,418,974.80  \n",
              "2615     4.60  мультфильм,приключения,фэнтези   184,487,551.40  \n",
              "2684     6.30                   комедия,драма     1,957,738.51  \n",
              "2788     5.10               комедия,мелодрама    72,937,783.20  \n",
              "2874     4.30                         комедия    15,362,931.43  \n",
              "3047     6.30               комедия,мелодрама    70,299,052.00  \n",
              "3565     5.60                      фантастика 1,038,321,489.00  \n",
              "3675     5.20     мультфильм,фэнтези,семейный    55,108,014.76  \n",
              "3739     4.80                         комедия    50,451,949.00  \n",
              "5673     5.80                   триллер,драма   225,196,400.03  \n",
              "5806     5.00              мультфильм,детский   106,514,301.03  \n",
              "6008     5.20      мультфильм,фэнтези,детский    83,366,328.66  \n",
              "6323      NaN                             NaN     1,334,699.40  \n",
              "6823     6.20  мультфильм,комедия,приключения   147,606,826.51  "
            ],
            "text/html": [
              "\n",
              "  <div id=\"df-c776f7b9-b242-4998-aacb-4a8092c88bfa\" class=\"colab-df-container\">\n",
              "    <div>\n",
              "<style scoped>\n",
              "    .dataframe tbody tr th:only-of-type {\n",
              "        vertical-align: middle;\n",
              "    }\n",
              "\n",
              "    .dataframe tbody tr th {\n",
              "        vertical-align: top;\n",
              "    }\n",
              "\n",
              "    .dataframe thead th {\n",
              "        text-align: right;\n",
              "    }\n",
              "</style>\n",
              "<table border=\"1\" class=\"dataframe\">\n",
              "  <thead>\n",
              "    <tr style=\"text-align: right;\">\n",
              "      <th></th>\n",
              "      <th>title</th>\n",
              "      <th>puNumber</th>\n",
              "      <th>show_start_date</th>\n",
              "      <th>type</th>\n",
              "      <th>film_studio</th>\n",
              "      <th>production_country</th>\n",
              "      <th>director</th>\n",
              "      <th>producer</th>\n",
              "      <th>age_restriction</th>\n",
              "      <th>refundable_support</th>\n",
              "      <th>nonrefundable_support</th>\n",
              "      <th>budget</th>\n",
              "      <th>financing_source</th>\n",
              "      <th>ratings</th>\n",
              "      <th>genres</th>\n",
              "      <th>box_office</th>\n",
              "    </tr>\n",
              "  </thead>\n",
              "  <tbody>\n",
              "    <tr>\n",
              "      <th>2053</th>\n",
              "      <td>14+</td>\n",
              "      <td>111,023,614.00</td>\n",
              "      <td>2014-12-19 12:00:00</td>\n",
              "      <td>Художественный</td>\n",
              "      <td>ООО Киностудия  \"Сентябрь\"</td>\n",
              "      <td>Россия</td>\n",
              "      <td>А.Зайцев</td>\n",
              "      <td>О.Гранина, А.Зайцев</td>\n",
              "      <td>«16+» - для детей старше 16 лет</td>\n",
              "      <td>0.00</td>\n",
              "      <td>23,000,000.00</td>\n",
              "      <td>0.00</td>\n",
              "      <td>Министерство культуры, Фонд кино</td>\n",
              "      <td>6.60</td>\n",
              "      <td>мелодрама</td>\n",
              "      <td>10,234,016.10</td>\n",
              "    </tr>\n",
              "    <tr>\n",
              "      <th>2058</th>\n",
              "      <td>Дуxless 2</td>\n",
              "      <td>111,000,415.00</td>\n",
              "      <td>2015-01-26 12:00:00</td>\n",
              "      <td>Художественный</td>\n",
              "      <td>ООО \"Киностудия \"Слово\", ООО \"Арт Пикчерс Студия\"</td>\n",
              "      <td>Россия</td>\n",
              "      <td>Р.Прыгунов</td>\n",
              "      <td>П.Ануров, Ф.Бондарчук, Д.Рудовский</td>\n",
              "      <td>«16+» - для детей старше 16 лет</td>\n",
              "      <td>0.00</td>\n",
              "      <td>75,000,000.00</td>\n",
              "      <td>0.00</td>\n",
              "      <td>Фонд кино</td>\n",
              "      <td>6.60</td>\n",
              "      <td>драма</td>\n",
              "      <td>446,163,511.00</td>\n",
              "    </tr>\n",
              "    <tr>\n",
              "      <th>2472</th>\n",
              "      <td>Воин (2015)</td>\n",
              "      <td>111,017,315.00</td>\n",
              "      <td>2015-09-28 12:00:00</td>\n",
              "      <td>Художественный</td>\n",
              "      <td>ООО \"Форпост Продакшн\", ООО \"Арт Пикчерс Студия\"</td>\n",
              "      <td>Россия</td>\n",
              "      <td>А.Андрианов</td>\n",
              "      <td>ООО \"Арт Пикчерс Студия\"</td>\n",
              "      <td>«12+» - для детей старше 12 лет</td>\n",
              "      <td>10,000,000.00</td>\n",
              "      <td>70,000,000.00</td>\n",
              "      <td>0.00</td>\n",
              "      <td>Фонд кино</td>\n",
              "      <td>7.80</td>\n",
              "      <td>боевик,драма,криминал</td>\n",
              "      <td>196,572,438.40</td>\n",
              "    </tr>\n",
              "    <tr>\n",
              "      <th>2532</th>\n",
              "      <td>Бармен.</td>\n",
              "      <td>111,009,615.00</td>\n",
              "      <td>2015-05-26 12:00:00</td>\n",
              "      <td>Художественный</td>\n",
              "      <td>АО \"ВайТ Медиа\", ООО \"Арт Пикчерс Студия\"</td>\n",
              "      <td>Россия</td>\n",
              "      <td>Д.Штурманова</td>\n",
              "      <td>Т.Вайнштейн</td>\n",
              "      <td>«16+» - для детей старше 16 лет</td>\n",
              "      <td>20,000,000.00</td>\n",
              "      <td>0.00</td>\n",
              "      <td>0.00</td>\n",
              "      <td>Фонд кино</td>\n",
              "      <td>6.20</td>\n",
              "      <td>комедия,фэнтези</td>\n",
              "      <td>67,418,974.80</td>\n",
              "    </tr>\n",
              "    <tr>\n",
              "      <th>2615</th>\n",
              "      <td>Савва. Сердце воина</td>\n",
              "      <td>114,001,715.00</td>\n",
              "      <td>2015-07-21 12:00:00</td>\n",
              "      <td>Анимационный</td>\n",
              "      <td>ООО \"Глюкоза Продакшн\", ООО \"Арт Пикчерс Студия\"</td>\n",
              "      <td>Россия</td>\n",
              "      <td>М.Фадеев</td>\n",
              "      <td>А.Чистяков</td>\n",
              "      <td>«6+» - для детей старше 6 лет</td>\n",
              "      <td>60,000,000.00</td>\n",
              "      <td>100,000,000.00</td>\n",
              "      <td>0.00</td>\n",
              "      <td>Фонд кино</td>\n",
              "      <td>4.60</td>\n",
              "      <td>мультфильм,приключения,фэнтези</td>\n",
              "      <td>184,487,551.40</td>\n",
              "    </tr>\n",
              "    <tr>\n",
              "      <th>2684</th>\n",
              "      <td>Тряпичный союз</td>\n",
              "      <td>111,010,215.00</td>\n",
              "      <td>2015-06-08 12:00:00</td>\n",
              "      <td>Художественный</td>\n",
              "      <td>ООО \"Кинокомпания \"КОКТЕБЕЛЬ\"</td>\n",
              "      <td>Россия</td>\n",
              "      <td>М.Местецкий</td>\n",
              "      <td>Р.Борисевич, А.Кушаев</td>\n",
              "      <td>«18+» - запрещено для детей</td>\n",
              "      <td>0.00</td>\n",
              "      <td>59,000,000.00</td>\n",
              "      <td>0.00</td>\n",
              "      <td>Фонд кино</td>\n",
              "      <td>6.30</td>\n",
              "      <td>комедия,драма</td>\n",
              "      <td>1,957,738.51</td>\n",
              "    </tr>\n",
              "    <tr>\n",
              "      <th>2788</th>\n",
              "      <td>Срочно выйду замуж</td>\n",
              "      <td>111,017,115.00</td>\n",
              "      <td>2015-09-30 12:00:00</td>\n",
              "      <td>Художественный</td>\n",
              "      <td>АО \"ВайТ Медиа\", ООО \"Арт Пикчерс Студия\"</td>\n",
              "      <td>Россия</td>\n",
              "      <td>С Чекалов</td>\n",
              "      <td>Ф.Бондарчук, Т.Вайнштейн, Д.Рудовский</td>\n",
              "      <td>«16+» - для детей старше 16 лет</td>\n",
              "      <td>0.00</td>\n",
              "      <td>35,000,000.00</td>\n",
              "      <td>0.00</td>\n",
              "      <td>Фонд кино</td>\n",
              "      <td>5.10</td>\n",
              "      <td>комедия,мелодрама</td>\n",
              "      <td>72,937,783.20</td>\n",
              "    </tr>\n",
              "    <tr>\n",
              "      <th>2874</th>\n",
              "      <td>Помню - не помню!</td>\n",
              "      <td>111,004,916.00</td>\n",
              "      <td>2016-03-01 12:00:00</td>\n",
              "      <td>Художественный</td>\n",
              "      <td>ООО \"КиноФирма\"</td>\n",
              "      <td>Россия</td>\n",
              "      <td>В.Ровенский</td>\n",
              "      <td>ООО \"КиноФирма\"</td>\n",
              "      <td>«12+» - для детей старше 12 лет</td>\n",
              "      <td>0.00</td>\n",
              "      <td>6,000,000.00</td>\n",
              "      <td>0.00</td>\n",
              "      <td>Министерство культуры</td>\n",
              "      <td>4.30</td>\n",
              "      <td>комедия</td>\n",
              "      <td>15,362,931.43</td>\n",
              "    </tr>\n",
              "    <tr>\n",
              "      <th>3047</th>\n",
              "      <td>Любовь с ограничениями</td>\n",
              "      <td>111,008,216.00</td>\n",
              "      <td>2016-04-29 12:00:00</td>\n",
              "      <td>Художественный</td>\n",
              "      <td>АО \"ВайТ Медиа\", ООО \"Арт Пикчерс Студия\"</td>\n",
              "      <td>Россия</td>\n",
              "      <td>Д.Тюрин</td>\n",
              "      <td>Ф.Бондарчук, Т.Вайнштейн, Д.Рудовский</td>\n",
              "      <td>«16+» - для детей старше 16 лет</td>\n",
              "      <td>19,000,000.00</td>\n",
              "      <td>51,000,000.00</td>\n",
              "      <td>0.00</td>\n",
              "      <td>Фонд кино</td>\n",
              "      <td>6.30</td>\n",
              "      <td>комедия,мелодрама</td>\n",
              "      <td>70,299,052.00</td>\n",
              "    </tr>\n",
              "    <tr>\n",
              "      <th>3565</th>\n",
              "      <td>Притяжение (2016)</td>\n",
              "      <td>111,018,116.00</td>\n",
              "      <td>2016-12-16 12:00:00</td>\n",
              "      <td>Художественный</td>\n",
              "      <td>ООО \"Водород 2011\",  ООО \"Арт Пикчерс Студия\"</td>\n",
              "      <td>Россия</td>\n",
              "      <td>Ф.Бондарчук</td>\n",
              "      <td>ООО \"Арт Пикчерс Студия\"</td>\n",
              "      <td>«12+» - для детей старше 12 лет</td>\n",
              "      <td>0.00</td>\n",
              "      <td>250,000,000.00</td>\n",
              "      <td>0.00</td>\n",
              "      <td>Фонд кино</td>\n",
              "      <td>5.60</td>\n",
              "      <td>фантастика</td>\n",
              "      <td>1,038,321,489.00</td>\n",
              "    </tr>\n",
              "    <tr>\n",
              "      <th>3675</th>\n",
              "      <td>Чудо-юдо</td>\n",
              "      <td>114,001,817.00</td>\n",
              "      <td>2017-06-27 12:00:00</td>\n",
              "      <td>Анимационный</td>\n",
              "      <td>ООО \"КиноФирма\"</td>\n",
              "      <td>Россия</td>\n",
              "      <td>А.Лукичев</td>\n",
              "      <td>ООО \"КиноФирма\"</td>\n",
              "      <td>«6+» - для детей старше 6 лет</td>\n",
              "      <td>20,000,000.00</td>\n",
              "      <td>20,000,000.00</td>\n",
              "      <td>0.00</td>\n",
              "      <td>Фонд кино</td>\n",
              "      <td>5.20</td>\n",
              "      <td>мультфильм,фэнтези,семейный</td>\n",
              "      <td>55,108,014.76</td>\n",
              "    </tr>\n",
              "    <tr>\n",
              "      <th>3739</th>\n",
              "      <td>Мифы</td>\n",
              "      <td>111,004,317.00</td>\n",
              "      <td>2017-06-07 12:00:00</td>\n",
              "      <td>Художественный</td>\n",
              "      <td>ООО \"ХАЙПФИЛМ\", ООО \"Арт Пикчерс Студия\"</td>\n",
              "      <td>Россия</td>\n",
              "      <td>А.Молочников</td>\n",
              "      <td>Ф.Бондарчук, Д.Рудовский, И.Стюарт, М.Османн, ...</td>\n",
              "      <td>«16+» - для детей старше 16 лет</td>\n",
              "      <td>25,000,000.00</td>\n",
              "      <td>20,000,000.00</td>\n",
              "      <td>0.00</td>\n",
              "      <td>Фонд кино</td>\n",
              "      <td>4.80</td>\n",
              "      <td>комедия</td>\n",
              "      <td>50,451,949.00</td>\n",
              "    </tr>\n",
              "    <tr>\n",
              "      <th>5673</th>\n",
              "      <td>Селфи</td>\n",
              "      <td>111,012,117.00</td>\n",
              "      <td>2018-02-01 12:00:00</td>\n",
              "      <td>Художественный</td>\n",
              "      <td>ООО \"Киностудия \"Слово\", ООО \"Арт Пикчерс Студия\"</td>\n",
              "      <td>Россия</td>\n",
              "      <td>Н.Хомерики</td>\n",
              "      <td>П.Ануров, Ф.Бондарчук, Д.Рудовский</td>\n",
              "      <td>«16+» - для детей старше 16 лет</td>\n",
              "      <td>20,000,000.00</td>\n",
              "      <td>40,000,000.00</td>\n",
              "      <td>0.00</td>\n",
              "      <td>Фонд кино</td>\n",
              "      <td>5.80</td>\n",
              "      <td>триллер,драма</td>\n",
              "      <td>225,196,400.03</td>\n",
              "    </tr>\n",
              "    <tr>\n",
              "      <th>5806</th>\n",
              "      <td>Два хвоста</td>\n",
              "      <td>114,001,018.00</td>\n",
              "      <td>2018-05-31 12:00:00</td>\n",
              "      <td>Анимационный</td>\n",
              "      <td>ООО \"ЛИЦЕНЗИОННЫЕ БРЕНДЫ\"</td>\n",
              "      <td>Россия</td>\n",
              "      <td>В.Ровенский, Н.Лопато, В.Азеев</td>\n",
              "      <td>ООО \"ЛИЦЕНЗИОННЫЕ БРЕНДЫ\"</td>\n",
              "      <td>«6+» - для детей старше 6 лет</td>\n",
              "      <td>10,000,000.00</td>\n",
              "      <td>60,000,000.00</td>\n",
              "      <td>0.00</td>\n",
              "      <td>Фонд кино</td>\n",
              "      <td>5.00</td>\n",
              "      <td>мультфильм,детский</td>\n",
              "      <td>106,514,301.03</td>\n",
              "    </tr>\n",
              "    <tr>\n",
              "      <th>6008</th>\n",
              "      <td>Принцесса и дракон</td>\n",
              "      <td>114,003,018.00</td>\n",
              "      <td>2018-08-23 12:00:00</td>\n",
              "      <td>Анимационный</td>\n",
              "      <td>ООО \"ЛИЦЕНЗИОННЫЕ БРЕНДЫ\"</td>\n",
              "      <td>Россия</td>\n",
              "      <td>М.Нефедова</td>\n",
              "      <td>ООО \"ЛИЦЕНЗИОННЫЕ БРЕНДЫ\"</td>\n",
              "      <td>«6+» - для детей старше 6 лет</td>\n",
              "      <td>40,000,000.00</td>\n",
              "      <td>40,000,000.00</td>\n",
              "      <td>0.00</td>\n",
              "      <td>Фонд кино</td>\n",
              "      <td>5.20</td>\n",
              "      <td>мультфильм,фэнтези,детский</td>\n",
              "      <td>83,366,328.66</td>\n",
              "    </tr>\n",
              "    <tr>\n",
              "      <th>6323</th>\n",
              "      <td>Баба Яга</td>\n",
              "      <td>114,006,518.00</td>\n",
              "      <td>2018-11-08 12:00:00</td>\n",
              "      <td>Анимационный</td>\n",
              "      <td>ООО \"Арт Пикчерс Студия\"</td>\n",
              "      <td>Россия</td>\n",
              "      <td>В.Саков</td>\n",
              "      <td>ООО \"Арт Пикчерс Студия\", ООО \"КРИЭЙТИВ АНИМЭЙ...</td>\n",
              "      <td>«6+» - для детей старше 6 лет</td>\n",
              "      <td>0.00</td>\n",
              "      <td>138,969,465.00</td>\n",
              "      <td>0.00</td>\n",
              "      <td>Фонд кино</td>\n",
              "      <td>NaN</td>\n",
              "      <td>NaN</td>\n",
              "      <td>1,334,699.40</td>\n",
              "    </tr>\n",
              "    <tr>\n",
              "      <th>6823</th>\n",
              "      <td>Большое путешествие</td>\n",
              "      <td>114,002,419.00</td>\n",
              "      <td>2019-04-20 12:00:00</td>\n",
              "      <td>Анимационный</td>\n",
              "      <td>ООО \"ЛИЦЕНЗИОННЫЕ БРЕНДЫ\"</td>\n",
              "      <td>Россия</td>\n",
              "      <td>Н.Лопато, В.Ровенский</td>\n",
              "      <td>ООО \"ЛИЦЕНЗИОННЫЕ БРЕНДЫ\"</td>\n",
              "      <td>«6+» - для детей старше 6 лет</td>\n",
              "      <td>60,000,000.00</td>\n",
              "      <td>120,000,000.00</td>\n",
              "      <td>0.00</td>\n",
              "      <td>Фонд кино</td>\n",
              "      <td>6.20</td>\n",
              "      <td>мультфильм,комедия,приключения</td>\n",
              "      <td>147,606,826.51</td>\n",
              "    </tr>\n",
              "  </tbody>\n",
              "</table>\n",
              "</div>\n",
              "    <div class=\"colab-df-buttons\">\n",
              "\n",
              "  <div class=\"colab-df-container\">\n",
              "    <button class=\"colab-df-convert\" onclick=\"convertToInteractive('df-c776f7b9-b242-4998-aacb-4a8092c88bfa')\"\n",
              "            title=\"Convert this dataframe to an interactive table.\"\n",
              "            style=\"display:none;\">\n",
              "\n",
              "  <svg xmlns=\"http://www.w3.org/2000/svg\" height=\"24px\" viewBox=\"0 -960 960 960\">\n",
              "    <path d=\"M120-120v-720h720v720H120Zm60-500h600v-160H180v160Zm220 220h160v-160H400v160Zm0 220h160v-160H400v160ZM180-400h160v-160H180v160Zm440 0h160v-160H620v160ZM180-180h160v-160H180v160Zm440 0h160v-160H620v160Z\"/>\n",
              "  </svg>\n",
              "    </button>\n",
              "\n",
              "  <style>\n",
              "    .colab-df-container {\n",
              "      display:flex;\n",
              "      gap: 12px;\n",
              "    }\n",
              "\n",
              "    .colab-df-convert {\n",
              "      background-color: #E8F0FE;\n",
              "      border: none;\n",
              "      border-radius: 50%;\n",
              "      cursor: pointer;\n",
              "      display: none;\n",
              "      fill: #1967D2;\n",
              "      height: 32px;\n",
              "      padding: 0 0 0 0;\n",
              "      width: 32px;\n",
              "    }\n",
              "\n",
              "    .colab-df-convert:hover {\n",
              "      background-color: #E2EBFA;\n",
              "      box-shadow: 0px 1px 2px rgba(60, 64, 67, 0.3), 0px 1px 3px 1px rgba(60, 64, 67, 0.15);\n",
              "      fill: #174EA6;\n",
              "    }\n",
              "\n",
              "    .colab-df-buttons div {\n",
              "      margin-bottom: 4px;\n",
              "    }\n",
              "\n",
              "    [theme=dark] .colab-df-convert {\n",
              "      background-color: #3B4455;\n",
              "      fill: #D2E3FC;\n",
              "    }\n",
              "\n",
              "    [theme=dark] .colab-df-convert:hover {\n",
              "      background-color: #434B5C;\n",
              "      box-shadow: 0px 1px 3px 1px rgba(0, 0, 0, 0.15);\n",
              "      filter: drop-shadow(0px 1px 2px rgba(0, 0, 0, 0.3));\n",
              "      fill: #FFFFFF;\n",
              "    }\n",
              "  </style>\n",
              "\n",
              "    <script>\n",
              "      const buttonEl =\n",
              "        document.querySelector('#df-c776f7b9-b242-4998-aacb-4a8092c88bfa button.colab-df-convert');\n",
              "      buttonEl.style.display =\n",
              "        google.colab.kernel.accessAllowed ? 'block' : 'none';\n",
              "\n",
              "      async function convertToInteractive(key) {\n",
              "        const element = document.querySelector('#df-c776f7b9-b242-4998-aacb-4a8092c88bfa');\n",
              "        const dataTable =\n",
              "          await google.colab.kernel.invokeFunction('convertToInteractive',\n",
              "                                                    [key], {});\n",
              "        if (!dataTable) return;\n",
              "\n",
              "        const docLinkHtml = 'Like what you see? Visit the ' +\n",
              "          '<a target=\"_blank\" href=https://colab.research.google.com/notebooks/data_table.ipynb>data table notebook</a>'\n",
              "          + ' to learn more about interactive tables.';\n",
              "        element.innerHTML = '';\n",
              "        dataTable['output_type'] = 'display_data';\n",
              "        await google.colab.output.renderOutput(dataTable, element);\n",
              "        const docLink = document.createElement('div');\n",
              "        docLink.innerHTML = docLinkHtml;\n",
              "        element.appendChild(docLink);\n",
              "      }\n",
              "    </script>\n",
              "  </div>\n",
              "\n",
              "\n",
              "<div id=\"df-a0feb8f1-be98-4fcb-9d47-915fa0f41069\">\n",
              "  <button class=\"colab-df-quickchart\" onclick=\"quickchart('df-a0feb8f1-be98-4fcb-9d47-915fa0f41069')\"\n",
              "            title=\"Suggest charts\"\n",
              "            style=\"display:none;\">\n",
              "\n",
              "<svg xmlns=\"http://www.w3.org/2000/svg\" height=\"24px\"viewBox=\"0 0 24 24\"\n",
              "     width=\"24px\">\n",
              "    <g>\n",
              "        <path d=\"M19 3H5c-1.1 0-2 .9-2 2v14c0 1.1.9 2 2 2h14c1.1 0 2-.9 2-2V5c0-1.1-.9-2-2-2zM9 17H7v-7h2v7zm4 0h-2V7h2v10zm4 0h-2v-4h2v4z\"/>\n",
              "    </g>\n",
              "</svg>\n",
              "  </button>\n",
              "\n",
              "<style>\n",
              "  .colab-df-quickchart {\n",
              "      --bg-color: #E8F0FE;\n",
              "      --fill-color: #1967D2;\n",
              "      --hover-bg-color: #E2EBFA;\n",
              "      --hover-fill-color: #174EA6;\n",
              "      --disabled-fill-color: #AAA;\n",
              "      --disabled-bg-color: #DDD;\n",
              "  }\n",
              "\n",
              "  [theme=dark] .colab-df-quickchart {\n",
              "      --bg-color: #3B4455;\n",
              "      --fill-color: #D2E3FC;\n",
              "      --hover-bg-color: #434B5C;\n",
              "      --hover-fill-color: #FFFFFF;\n",
              "      --disabled-bg-color: #3B4455;\n",
              "      --disabled-fill-color: #666;\n",
              "  }\n",
              "\n",
              "  .colab-df-quickchart {\n",
              "    background-color: var(--bg-color);\n",
              "    border: none;\n",
              "    border-radius: 50%;\n",
              "    cursor: pointer;\n",
              "    display: none;\n",
              "    fill: var(--fill-color);\n",
              "    height: 32px;\n",
              "    padding: 0;\n",
              "    width: 32px;\n",
              "  }\n",
              "\n",
              "  .colab-df-quickchart:hover {\n",
              "    background-color: var(--hover-bg-color);\n",
              "    box-shadow: 0 1px 2px rgba(60, 64, 67, 0.3), 0 1px 3px 1px rgba(60, 64, 67, 0.15);\n",
              "    fill: var(--button-hover-fill-color);\n",
              "  }\n",
              "\n",
              "  .colab-df-quickchart-complete:disabled,\n",
              "  .colab-df-quickchart-complete:disabled:hover {\n",
              "    background-color: var(--disabled-bg-color);\n",
              "    fill: var(--disabled-fill-color);\n",
              "    box-shadow: none;\n",
              "  }\n",
              "\n",
              "  .colab-df-spinner {\n",
              "    border: 2px solid var(--fill-color);\n",
              "    border-color: transparent;\n",
              "    border-bottom-color: var(--fill-color);\n",
              "    animation:\n",
              "      spin 1s steps(1) infinite;\n",
              "  }\n",
              "\n",
              "  @keyframes spin {\n",
              "    0% {\n",
              "      border-color: transparent;\n",
              "      border-bottom-color: var(--fill-color);\n",
              "      border-left-color: var(--fill-color);\n",
              "    }\n",
              "    20% {\n",
              "      border-color: transparent;\n",
              "      border-left-color: var(--fill-color);\n",
              "      border-top-color: var(--fill-color);\n",
              "    }\n",
              "    30% {\n",
              "      border-color: transparent;\n",
              "      border-left-color: var(--fill-color);\n",
              "      border-top-color: var(--fill-color);\n",
              "      border-right-color: var(--fill-color);\n",
              "    }\n",
              "    40% {\n",
              "      border-color: transparent;\n",
              "      border-right-color: var(--fill-color);\n",
              "      border-top-color: var(--fill-color);\n",
              "    }\n",
              "    60% {\n",
              "      border-color: transparent;\n",
              "      border-right-color: var(--fill-color);\n",
              "    }\n",
              "    80% {\n",
              "      border-color: transparent;\n",
              "      border-right-color: var(--fill-color);\n",
              "      border-bottom-color: var(--fill-color);\n",
              "    }\n",
              "    90% {\n",
              "      border-color: transparent;\n",
              "      border-bottom-color: var(--fill-color);\n",
              "    }\n",
              "  }\n",
              "</style>\n",
              "\n",
              "  <script>\n",
              "    async function quickchart(key) {\n",
              "      const quickchartButtonEl =\n",
              "        document.querySelector('#' + key + ' button');\n",
              "      quickchartButtonEl.disabled = true;  // To prevent multiple clicks.\n",
              "      quickchartButtonEl.classList.add('colab-df-spinner');\n",
              "      try {\n",
              "        const charts = await google.colab.kernel.invokeFunction(\n",
              "            'suggestCharts', [key], {});\n",
              "      } catch (error) {\n",
              "        console.error('Error during call to suggestCharts:', error);\n",
              "      }\n",
              "      quickchartButtonEl.classList.remove('colab-df-spinner');\n",
              "      quickchartButtonEl.classList.add('colab-df-quickchart-complete');\n",
              "    }\n",
              "    (() => {\n",
              "      let quickchartButtonEl =\n",
              "        document.querySelector('#df-a0feb8f1-be98-4fcb-9d47-915fa0f41069 button');\n",
              "      quickchartButtonEl.style.display =\n",
              "        google.colab.kernel.accessAllowed ? 'block' : 'none';\n",
              "    })();\n",
              "  </script>\n",
              "</div>\n",
              "    </div>\n",
              "  </div>\n"
            ],
            "application/vnd.google.colaboratory.intrinsic+json": {
              "type": "dataframe",
              "summary": "{\n  \"name\": \"data_movies\",\n  \"rows\": 17,\n  \"fields\": [\n    {\n      \"column\": \"title\",\n      \"properties\": {\n        \"dtype\": \"string\",\n        \"num_unique_values\": 17,\n        \"samples\": [\n          \"14+\",\n          \"\\u0414\\u0443xless 2\",\n          \"\\u0422\\u0440\\u044f\\u043f\\u0438\\u0447\\u043d\\u044b\\u0439 \\u0441\\u043e\\u044e\\u0437\"\n        ],\n        \"semantic_type\": \"\",\n        \"description\": \"\"\n      }\n    },\n    {\n      \"column\": \"puNumber\",\n      \"properties\": {\n        \"dtype\": \"number\",\n        \"std\": 1473501.269637522,\n        \"min\": 111000415.0,\n        \"max\": 114006518.0,\n        \"num_unique_values\": 17,\n        \"samples\": [\n          111023614.0,\n          111000415.0,\n          111010215.0\n        ],\n        \"semantic_type\": \"\",\n        \"description\": \"\"\n      }\n    },\n    {\n      \"column\": \"show_start_date\",\n      \"properties\": {\n        \"dtype\": \"date\",\n        \"min\": \"2014-12-19 12:00:00\",\n        \"max\": \"2019-04-20 12:00:00\",\n        \"num_unique_values\": 17,\n        \"samples\": [\n          \"2014-12-19 12:00:00\",\n          \"2015-01-26 12:00:00\",\n          \"2015-06-08 12:00:00\"\n        ],\n        \"semantic_type\": \"\",\n        \"description\": \"\"\n      }\n    },\n    {\n      \"column\": \"type\",\n      \"properties\": {\n        \"dtype\": \"category\",\n        \"num_unique_values\": 2,\n        \"samples\": [\n          \"\\u0410\\u043d\\u0438\\u043c\\u0430\\u0446\\u0438\\u043e\\u043d\\u043d\\u044b\\u0439\",\n          \"\\u0425\\u0443\\u0434\\u043e\\u0436\\u0435\\u0441\\u0442\\u0432\\u0435\\u043d\\u043d\\u044b\\u0439\"\n        ],\n        \"semantic_type\": \"\",\n        \"description\": \"\"\n      }\n    },\n    {\n      \"column\": \"film_studio\",\n      \"properties\": {\n        \"dtype\": \"string\",\n        \"num_unique_values\": 12,\n        \"samples\": [\n          \"\\u041e\\u041e\\u041e \\\"\\u041b\\u0418\\u0426\\u0415\\u041d\\u0417\\u0418\\u041e\\u041d\\u041d\\u042b\\u0415 \\u0411\\u0420\\u0415\\u041d\\u0414\\u042b\\\"\",\n          \"\\u041e\\u041e\\u041e \\\"\\u0425\\u0410\\u0419\\u041f\\u0424\\u0418\\u041b\\u041c\\\", \\u041e\\u041e\\u041e \\\"\\u0410\\u0440\\u0442 \\u041f\\u0438\\u043a\\u0447\\u0435\\u0440\\u0441 \\u0421\\u0442\\u0443\\u0434\\u0438\\u044f\\\"\"\n        ],\n        \"semantic_type\": \"\",\n        \"description\": \"\"\n      }\n    },\n    {\n      \"column\": \"production_country\",\n      \"properties\": {\n        \"dtype\": \"category\",\n        \"num_unique_values\": 1,\n        \"samples\": [\n          \"\\u0420\\u043e\\u0441\\u0441\\u0438\\u044f\"\n        ],\n        \"semantic_type\": \"\",\n        \"description\": \"\"\n      }\n    },\n    {\n      \"column\": \"director\",\n      \"properties\": {\n        \"dtype\": \"string\",\n        \"num_unique_values\": 17,\n        \"samples\": [\n          \"\\u0410.\\u0417\\u0430\\u0439\\u0446\\u0435\\u0432\"\n        ],\n        \"semantic_type\": \"\",\n        \"description\": \"\"\n      }\n    },\n    {\n      \"column\": \"producer\",\n      \"properties\": {\n        \"dtype\": \"string\",\n        \"num_unique_values\": 13,\n        \"samples\": [\n          \"\\u041e\\u041e\\u041e \\\"\\u041b\\u0418\\u0426\\u0415\\u041d\\u0417\\u0418\\u041e\\u041d\\u041d\\u042b\\u0415 \\u0411\\u0420\\u0415\\u041d\\u0414\\u042b\\\"\"\n        ],\n        \"semantic_type\": \"\",\n        \"description\": \"\"\n      }\n    },\n    {\n      \"column\": \"age_restriction\",\n      \"properties\": {\n        \"dtype\": \"category\",\n        \"num_unique_values\": 4,\n        \"samples\": [\n          \"\\u00ab12+\\u00bb - \\u0434\\u043b\\u044f \\u0434\\u0435\\u0442\\u0435\\u0439 \\u0441\\u0442\\u0430\\u0440\\u0448\\u0435 12 \\u043b\\u0435\\u0442\"\n        ],\n        \"semantic_type\": \"\",\n        \"description\": \"\"\n      }\n    },\n    {\n      \"column\": \"refundable_support\",\n      \"properties\": {\n        \"dtype\": \"number\",\n        \"std\": 20064784.77919198,\n        \"min\": 0.0,\n        \"max\": 60000000.0,\n        \"num_unique_values\": 7,\n        \"samples\": [\n          0.0\n        ],\n        \"semantic_type\": \"\",\n        \"description\": \"\"\n      }\n    },\n    {\n      \"column\": \"nonrefundable_support\",\n      \"properties\": {\n        \"dtype\": \"number\",\n        \"std\": 61236204.09061237,\n        \"min\": 0.0,\n        \"max\": 250000000.0,\n        \"num_unique_values\": 15,\n        \"samples\": [\n          250000000.0\n        ],\n        \"semantic_type\": \"\",\n        \"description\": \"\"\n      }\n    },\n    {\n      \"column\": \"budget\",\n      \"properties\": {\n        \"dtype\": \"number\",\n        \"std\": 0.0,\n        \"min\": 0.0,\n        \"max\": 0.0,\n        \"num_unique_values\": 1,\n        \"samples\": [\n          0.0\n        ],\n        \"semantic_type\": \"\",\n        \"description\": \"\"\n      }\n    },\n    {\n      \"column\": \"financing_source\",\n      \"properties\": {\n        \"dtype\": \"category\",\n        \"num_unique_values\": 3,\n        \"samples\": [\n          \"\\u041c\\u0438\\u043d\\u0438\\u0441\\u0442\\u0435\\u0440\\u0441\\u0442\\u0432\\u043e \\u043a\\u0443\\u043b\\u044c\\u0442\\u0443\\u0440\\u044b, \\u0424\\u043e\\u043d\\u0434 \\u043a\\u0438\\u043d\\u043e\"\n        ],\n        \"semantic_type\": \"\",\n        \"description\": \"\"\n      }\n    },\n    {\n      \"column\": \"ratings\",\n      \"properties\": {\n        \"dtype\": \"number\",\n        \"std\": 0.9161513703167907,\n        \"min\": 4.3,\n        \"max\": 7.8,\n        \"num_unique_values\": 12,\n        \"samples\": [\n          5.8\n        ],\n        \"semantic_type\": \"\",\n        \"description\": \"\"\n      }\n    },\n    {\n      \"column\": \"genres\",\n      \"properties\": {\n        \"dtype\": \"string\",\n        \"num_unique_values\": 14,\n        \"samples\": [\n          \"\\u043c\\u0443\\u043b\\u044c\\u0442\\u0444\\u0438\\u043b\\u044c\\u043c,\\u0444\\u044d\\u043d\\u0442\\u0435\\u0437\\u0438,\\u0441\\u0435\\u043c\\u0435\\u0439\\u043d\\u044b\\u0439\"\n        ],\n        \"semantic_type\": \"\",\n        \"description\": \"\"\n      }\n    },\n    {\n      \"column\": \"box_office\",\n      \"properties\": {\n        \"dtype\": \"number\",\n        \"std\": 251115991.42943725,\n        \"min\": 1334699.4,\n        \"max\": 1038321489.0,\n        \"num_unique_values\": 17,\n        \"samples\": [\n          10234016.1\n        ],\n        \"semantic_type\": \"\",\n        \"description\": \"\"\n      }\n    }\n  ]\n}"
            }
          },
          "metadata": {},
          "execution_count": 37
        }
      ],
      "source": [
        "data_movies.query('budget == 0')"
      ]
    },
    {
      "cell_type": "markdown",
      "metadata": {
        "id": "SQ2_I3scbL1D"
      },
      "source": [
        "Можно было бы заполнить бюджет `budget` проусуммировав `refundable_support` и `nonrefundable_support`, но по правилам осуществления займов общий процент поддержки не может составлять 100% от бюджета фильма, поэтому подобную аномалию исправить таким способом нельзя."
      ]
    },
    {
      "cell_type": "markdown",
      "metadata": {
        "id": "8bRx4q6wbL1D"
      },
      "source": [
        "В связи с тем, что подобная аномалия наблюдается лишь в `17` фильмах, то мы можем попробовать найти информацию о бюджете из открытых источников, например, с Кинопоиска."
      ]
    },
    {
      "cell_type": "code",
      "execution_count": null,
      "metadata": {
        "id": "pxP7blPzbL1D"
      },
      "outputs": [],
      "source": [
        "data_movies.at[2058, 'budget'] = 140000000\n",
        "data_movies.at[2472, 'budget'] = 115000000\n",
        "data_movies.at[2532, 'budget'] = 60000000\n",
        "data_movies.at[2615, 'budget'] = 1000000000\n",
        "data_movies.at[2788, 'budget'] = 102200000\n",
        "data_movies.at[2874, 'budget'] = 94900000\n",
        "data_movies.at[3047, 'budget'] = 110000000\n",
        "data_movies.at[3565, 'budget'] = 380000000\n",
        "data_movies.at[3675, 'budget'] = 138240000\n",
        "data_movies.at[3739, 'budget'] = 70000000\n",
        "data_movies.at[5673, 'budget'] = 115000000\n",
        "data_movies.at[5806, 'budget'] = 110000000\n",
        "data_movies.at[6008, 'budget'] = 116000000\n",
        "data_movies.at[6323, 'budget'] = 220000000\n",
        "data_movies.at[6823, 'budget'] = 290000000"
      ]
    },
    {
      "cell_type": "code",
      "execution_count": null,
      "metadata": {
        "id": "JCSG3YwsbL1D",
        "outputId": "fda377df-b2a9-492f-80fd-5b9cac0c3fc4",
        "colab": {
          "base_uri": "https://localhost:8080/",
          "height": 147
        }
      },
      "outputs": [
        {
          "output_type": "execute_result",
          "data": {
            "text/plain": [
              "               title       puNumber     show_start_date            type  \\\n",
              "2053             14+ 111,023,614.00 2014-12-19 12:00:00  Художественный   \n",
              "2684  Тряпичный союз 111,010,215.00 2015-06-08 12:00:00  Художественный   \n",
              "\n",
              "                        film_studio production_country     director  \\\n",
              "2053     ООО Киностудия  \"Сентябрь\"             Россия     А.Зайцев   \n",
              "2684  ООО \"Кинокомпания \"КОКТЕБЕЛЬ\"             Россия  М.Местецкий   \n",
              "\n",
              "                   producer                  age_restriction  \\\n",
              "2053    О.Гранина, А.Зайцев  «16+» - для детей старше 16 лет   \n",
              "2684  Р.Борисевич, А.Кушаев      «18+» - запрещено для детей   \n",
              "\n",
              "      refundable_support  nonrefundable_support  budget  \\\n",
              "2053                0.00          23,000,000.00    0.00   \n",
              "2684                0.00          59,000,000.00    0.00   \n",
              "\n",
              "                      financing_source  ratings         genres    box_office  \n",
              "2053  Министерство культуры, Фонд кино     6.60      мелодрама 10,234,016.10  \n",
              "2684                         Фонд кино     6.30  комедия,драма  1,957,738.51  "
            ],
            "text/html": [
              "\n",
              "  <div id=\"df-10809267-556b-481c-b3b1-3cb89b16e9bc\" class=\"colab-df-container\">\n",
              "    <div>\n",
              "<style scoped>\n",
              "    .dataframe tbody tr th:only-of-type {\n",
              "        vertical-align: middle;\n",
              "    }\n",
              "\n",
              "    .dataframe tbody tr th {\n",
              "        vertical-align: top;\n",
              "    }\n",
              "\n",
              "    .dataframe thead th {\n",
              "        text-align: right;\n",
              "    }\n",
              "</style>\n",
              "<table border=\"1\" class=\"dataframe\">\n",
              "  <thead>\n",
              "    <tr style=\"text-align: right;\">\n",
              "      <th></th>\n",
              "      <th>title</th>\n",
              "      <th>puNumber</th>\n",
              "      <th>show_start_date</th>\n",
              "      <th>type</th>\n",
              "      <th>film_studio</th>\n",
              "      <th>production_country</th>\n",
              "      <th>director</th>\n",
              "      <th>producer</th>\n",
              "      <th>age_restriction</th>\n",
              "      <th>refundable_support</th>\n",
              "      <th>nonrefundable_support</th>\n",
              "      <th>budget</th>\n",
              "      <th>financing_source</th>\n",
              "      <th>ratings</th>\n",
              "      <th>genres</th>\n",
              "      <th>box_office</th>\n",
              "    </tr>\n",
              "  </thead>\n",
              "  <tbody>\n",
              "    <tr>\n",
              "      <th>2053</th>\n",
              "      <td>14+</td>\n",
              "      <td>111,023,614.00</td>\n",
              "      <td>2014-12-19 12:00:00</td>\n",
              "      <td>Художественный</td>\n",
              "      <td>ООО Киностудия  \"Сентябрь\"</td>\n",
              "      <td>Россия</td>\n",
              "      <td>А.Зайцев</td>\n",
              "      <td>О.Гранина, А.Зайцев</td>\n",
              "      <td>«16+» - для детей старше 16 лет</td>\n",
              "      <td>0.00</td>\n",
              "      <td>23,000,000.00</td>\n",
              "      <td>0.00</td>\n",
              "      <td>Министерство культуры, Фонд кино</td>\n",
              "      <td>6.60</td>\n",
              "      <td>мелодрама</td>\n",
              "      <td>10,234,016.10</td>\n",
              "    </tr>\n",
              "    <tr>\n",
              "      <th>2684</th>\n",
              "      <td>Тряпичный союз</td>\n",
              "      <td>111,010,215.00</td>\n",
              "      <td>2015-06-08 12:00:00</td>\n",
              "      <td>Художественный</td>\n",
              "      <td>ООО \"Кинокомпания \"КОКТЕБЕЛЬ\"</td>\n",
              "      <td>Россия</td>\n",
              "      <td>М.Местецкий</td>\n",
              "      <td>Р.Борисевич, А.Кушаев</td>\n",
              "      <td>«18+» - запрещено для детей</td>\n",
              "      <td>0.00</td>\n",
              "      <td>59,000,000.00</td>\n",
              "      <td>0.00</td>\n",
              "      <td>Фонд кино</td>\n",
              "      <td>6.30</td>\n",
              "      <td>комедия,драма</td>\n",
              "      <td>1,957,738.51</td>\n",
              "    </tr>\n",
              "  </tbody>\n",
              "</table>\n",
              "</div>\n",
              "    <div class=\"colab-df-buttons\">\n",
              "\n",
              "  <div class=\"colab-df-container\">\n",
              "    <button class=\"colab-df-convert\" onclick=\"convertToInteractive('df-10809267-556b-481c-b3b1-3cb89b16e9bc')\"\n",
              "            title=\"Convert this dataframe to an interactive table.\"\n",
              "            style=\"display:none;\">\n",
              "\n",
              "  <svg xmlns=\"http://www.w3.org/2000/svg\" height=\"24px\" viewBox=\"0 -960 960 960\">\n",
              "    <path d=\"M120-120v-720h720v720H120Zm60-500h600v-160H180v160Zm220 220h160v-160H400v160Zm0 220h160v-160H400v160ZM180-400h160v-160H180v160Zm440 0h160v-160H620v160ZM180-180h160v-160H180v160Zm440 0h160v-160H620v160Z\"/>\n",
              "  </svg>\n",
              "    </button>\n",
              "\n",
              "  <style>\n",
              "    .colab-df-container {\n",
              "      display:flex;\n",
              "      gap: 12px;\n",
              "    }\n",
              "\n",
              "    .colab-df-convert {\n",
              "      background-color: #E8F0FE;\n",
              "      border: none;\n",
              "      border-radius: 50%;\n",
              "      cursor: pointer;\n",
              "      display: none;\n",
              "      fill: #1967D2;\n",
              "      height: 32px;\n",
              "      padding: 0 0 0 0;\n",
              "      width: 32px;\n",
              "    }\n",
              "\n",
              "    .colab-df-convert:hover {\n",
              "      background-color: #E2EBFA;\n",
              "      box-shadow: 0px 1px 2px rgba(60, 64, 67, 0.3), 0px 1px 3px 1px rgba(60, 64, 67, 0.15);\n",
              "      fill: #174EA6;\n",
              "    }\n",
              "\n",
              "    .colab-df-buttons div {\n",
              "      margin-bottom: 4px;\n",
              "    }\n",
              "\n",
              "    [theme=dark] .colab-df-convert {\n",
              "      background-color: #3B4455;\n",
              "      fill: #D2E3FC;\n",
              "    }\n",
              "\n",
              "    [theme=dark] .colab-df-convert:hover {\n",
              "      background-color: #434B5C;\n",
              "      box-shadow: 0px 1px 3px 1px rgba(0, 0, 0, 0.15);\n",
              "      filter: drop-shadow(0px 1px 2px rgba(0, 0, 0, 0.3));\n",
              "      fill: #FFFFFF;\n",
              "    }\n",
              "  </style>\n",
              "\n",
              "    <script>\n",
              "      const buttonEl =\n",
              "        document.querySelector('#df-10809267-556b-481c-b3b1-3cb89b16e9bc button.colab-df-convert');\n",
              "      buttonEl.style.display =\n",
              "        google.colab.kernel.accessAllowed ? 'block' : 'none';\n",
              "\n",
              "      async function convertToInteractive(key) {\n",
              "        const element = document.querySelector('#df-10809267-556b-481c-b3b1-3cb89b16e9bc');\n",
              "        const dataTable =\n",
              "          await google.colab.kernel.invokeFunction('convertToInteractive',\n",
              "                                                    [key], {});\n",
              "        if (!dataTable) return;\n",
              "\n",
              "        const docLinkHtml = 'Like what you see? Visit the ' +\n",
              "          '<a target=\"_blank\" href=https://colab.research.google.com/notebooks/data_table.ipynb>data table notebook</a>'\n",
              "          + ' to learn more about interactive tables.';\n",
              "        element.innerHTML = '';\n",
              "        dataTable['output_type'] = 'display_data';\n",
              "        await google.colab.output.renderOutput(dataTable, element);\n",
              "        const docLink = document.createElement('div');\n",
              "        docLink.innerHTML = docLinkHtml;\n",
              "        element.appendChild(docLink);\n",
              "      }\n",
              "    </script>\n",
              "  </div>\n",
              "\n",
              "\n",
              "<div id=\"df-3a6c49f9-bbba-4d55-8170-803bcfa73ec9\">\n",
              "  <button class=\"colab-df-quickchart\" onclick=\"quickchart('df-3a6c49f9-bbba-4d55-8170-803bcfa73ec9')\"\n",
              "            title=\"Suggest charts\"\n",
              "            style=\"display:none;\">\n",
              "\n",
              "<svg xmlns=\"http://www.w3.org/2000/svg\" height=\"24px\"viewBox=\"0 0 24 24\"\n",
              "     width=\"24px\">\n",
              "    <g>\n",
              "        <path d=\"M19 3H5c-1.1 0-2 .9-2 2v14c0 1.1.9 2 2 2h14c1.1 0 2-.9 2-2V5c0-1.1-.9-2-2-2zM9 17H7v-7h2v7zm4 0h-2V7h2v10zm4 0h-2v-4h2v4z\"/>\n",
              "    </g>\n",
              "</svg>\n",
              "  </button>\n",
              "\n",
              "<style>\n",
              "  .colab-df-quickchart {\n",
              "      --bg-color: #E8F0FE;\n",
              "      --fill-color: #1967D2;\n",
              "      --hover-bg-color: #E2EBFA;\n",
              "      --hover-fill-color: #174EA6;\n",
              "      --disabled-fill-color: #AAA;\n",
              "      --disabled-bg-color: #DDD;\n",
              "  }\n",
              "\n",
              "  [theme=dark] .colab-df-quickchart {\n",
              "      --bg-color: #3B4455;\n",
              "      --fill-color: #D2E3FC;\n",
              "      --hover-bg-color: #434B5C;\n",
              "      --hover-fill-color: #FFFFFF;\n",
              "      --disabled-bg-color: #3B4455;\n",
              "      --disabled-fill-color: #666;\n",
              "  }\n",
              "\n",
              "  .colab-df-quickchart {\n",
              "    background-color: var(--bg-color);\n",
              "    border: none;\n",
              "    border-radius: 50%;\n",
              "    cursor: pointer;\n",
              "    display: none;\n",
              "    fill: var(--fill-color);\n",
              "    height: 32px;\n",
              "    padding: 0;\n",
              "    width: 32px;\n",
              "  }\n",
              "\n",
              "  .colab-df-quickchart:hover {\n",
              "    background-color: var(--hover-bg-color);\n",
              "    box-shadow: 0 1px 2px rgba(60, 64, 67, 0.3), 0 1px 3px 1px rgba(60, 64, 67, 0.15);\n",
              "    fill: var(--button-hover-fill-color);\n",
              "  }\n",
              "\n",
              "  .colab-df-quickchart-complete:disabled,\n",
              "  .colab-df-quickchart-complete:disabled:hover {\n",
              "    background-color: var(--disabled-bg-color);\n",
              "    fill: var(--disabled-fill-color);\n",
              "    box-shadow: none;\n",
              "  }\n",
              "\n",
              "  .colab-df-spinner {\n",
              "    border: 2px solid var(--fill-color);\n",
              "    border-color: transparent;\n",
              "    border-bottom-color: var(--fill-color);\n",
              "    animation:\n",
              "      spin 1s steps(1) infinite;\n",
              "  }\n",
              "\n",
              "  @keyframes spin {\n",
              "    0% {\n",
              "      border-color: transparent;\n",
              "      border-bottom-color: var(--fill-color);\n",
              "      border-left-color: var(--fill-color);\n",
              "    }\n",
              "    20% {\n",
              "      border-color: transparent;\n",
              "      border-left-color: var(--fill-color);\n",
              "      border-top-color: var(--fill-color);\n",
              "    }\n",
              "    30% {\n",
              "      border-color: transparent;\n",
              "      border-left-color: var(--fill-color);\n",
              "      border-top-color: var(--fill-color);\n",
              "      border-right-color: var(--fill-color);\n",
              "    }\n",
              "    40% {\n",
              "      border-color: transparent;\n",
              "      border-right-color: var(--fill-color);\n",
              "      border-top-color: var(--fill-color);\n",
              "    }\n",
              "    60% {\n",
              "      border-color: transparent;\n",
              "      border-right-color: var(--fill-color);\n",
              "    }\n",
              "    80% {\n",
              "      border-color: transparent;\n",
              "      border-right-color: var(--fill-color);\n",
              "      border-bottom-color: var(--fill-color);\n",
              "    }\n",
              "    90% {\n",
              "      border-color: transparent;\n",
              "      border-bottom-color: var(--fill-color);\n",
              "    }\n",
              "  }\n",
              "</style>\n",
              "\n",
              "  <script>\n",
              "    async function quickchart(key) {\n",
              "      const quickchartButtonEl =\n",
              "        document.querySelector('#' + key + ' button');\n",
              "      quickchartButtonEl.disabled = true;  // To prevent multiple clicks.\n",
              "      quickchartButtonEl.classList.add('colab-df-spinner');\n",
              "      try {\n",
              "        const charts = await google.colab.kernel.invokeFunction(\n",
              "            'suggestCharts', [key], {});\n",
              "      } catch (error) {\n",
              "        console.error('Error during call to suggestCharts:', error);\n",
              "      }\n",
              "      quickchartButtonEl.classList.remove('colab-df-spinner');\n",
              "      quickchartButtonEl.classList.add('colab-df-quickchart-complete');\n",
              "    }\n",
              "    (() => {\n",
              "      let quickchartButtonEl =\n",
              "        document.querySelector('#df-3a6c49f9-bbba-4d55-8170-803bcfa73ec9 button');\n",
              "      quickchartButtonEl.style.display =\n",
              "        google.colab.kernel.accessAllowed ? 'block' : 'none';\n",
              "    })();\n",
              "  </script>\n",
              "</div>\n",
              "    </div>\n",
              "  </div>\n"
            ],
            "application/vnd.google.colaboratory.intrinsic+json": {
              "type": "dataframe",
              "summary": "{\n  \"name\": \"data_movies\",\n  \"rows\": 2,\n  \"fields\": [\n    {\n      \"column\": \"title\",\n      \"properties\": {\n        \"dtype\": \"string\",\n        \"num_unique_values\": 2,\n        \"samples\": [\n          \"\\u0422\\u0440\\u044f\\u043f\\u0438\\u0447\\u043d\\u044b\\u0439 \\u0441\\u043e\\u044e\\u0437\",\n          \"14+\"\n        ],\n        \"semantic_type\": \"\",\n        \"description\": \"\"\n      }\n    },\n    {\n      \"column\": \"puNumber\",\n      \"properties\": {\n        \"dtype\": \"number\",\n        \"std\": 9474.52376111855,\n        \"min\": 111010215.0,\n        \"max\": 111023614.0,\n        \"num_unique_values\": 2,\n        \"samples\": [\n          111010215.0,\n          111023614.0\n        ],\n        \"semantic_type\": \"\",\n        \"description\": \"\"\n      }\n    },\n    {\n      \"column\": \"show_start_date\",\n      \"properties\": {\n        \"dtype\": \"date\",\n        \"min\": \"2014-12-19 12:00:00\",\n        \"max\": \"2015-06-08 12:00:00\",\n        \"num_unique_values\": 2,\n        \"samples\": [\n          \"2015-06-08 12:00:00\",\n          \"2014-12-19 12:00:00\"\n        ],\n        \"semantic_type\": \"\",\n        \"description\": \"\"\n      }\n    },\n    {\n      \"column\": \"type\",\n      \"properties\": {\n        \"dtype\": \"string\",\n        \"num_unique_values\": 1,\n        \"samples\": [\n          \"\\u0425\\u0443\\u0434\\u043e\\u0436\\u0435\\u0441\\u0442\\u0432\\u0435\\u043d\\u043d\\u044b\\u0439\"\n        ],\n        \"semantic_type\": \"\",\n        \"description\": \"\"\n      }\n    },\n    {\n      \"column\": \"film_studio\",\n      \"properties\": {\n        \"dtype\": \"string\",\n        \"num_unique_values\": 2,\n        \"samples\": [\n          \"\\u041e\\u041e\\u041e \\\"\\u041a\\u0438\\u043d\\u043e\\u043a\\u043e\\u043c\\u043f\\u0430\\u043d\\u0438\\u044f \\\"\\u041a\\u041e\\u041a\\u0422\\u0415\\u0411\\u0415\\u041b\\u042c\\\"\"\n        ],\n        \"semantic_type\": \"\",\n        \"description\": \"\"\n      }\n    },\n    {\n      \"column\": \"production_country\",\n      \"properties\": {\n        \"dtype\": \"string\",\n        \"num_unique_values\": 1,\n        \"samples\": [\n          \"\\u0420\\u043e\\u0441\\u0441\\u0438\\u044f\"\n        ],\n        \"semantic_type\": \"\",\n        \"description\": \"\"\n      }\n    },\n    {\n      \"column\": \"director\",\n      \"properties\": {\n        \"dtype\": \"string\",\n        \"num_unique_values\": 2,\n        \"samples\": [\n          \"\\u041c.\\u041c\\u0435\\u0441\\u0442\\u0435\\u0446\\u043a\\u0438\\u0439\"\n        ],\n        \"semantic_type\": \"\",\n        \"description\": \"\"\n      }\n    },\n    {\n      \"column\": \"producer\",\n      \"properties\": {\n        \"dtype\": \"string\",\n        \"num_unique_values\": 2,\n        \"samples\": [\n          \"\\u0420.\\u0411\\u043e\\u0440\\u0438\\u0441\\u0435\\u0432\\u0438\\u0447, \\u0410.\\u041a\\u0443\\u0448\\u0430\\u0435\\u0432\"\n        ],\n        \"semantic_type\": \"\",\n        \"description\": \"\"\n      }\n    },\n    {\n      \"column\": \"age_restriction\",\n      \"properties\": {\n        \"dtype\": \"string\",\n        \"num_unique_values\": 2,\n        \"samples\": [\n          \"\\u00ab18+\\u00bb - \\u0437\\u0430\\u043f\\u0440\\u0435\\u0449\\u0435\\u043d\\u043e \\u0434\\u043b\\u044f \\u0434\\u0435\\u0442\\u0435\\u0439\"\n        ],\n        \"semantic_type\": \"\",\n        \"description\": \"\"\n      }\n    },\n    {\n      \"column\": \"refundable_support\",\n      \"properties\": {\n        \"dtype\": \"number\",\n        \"std\": 0.0,\n        \"min\": 0.0,\n        \"max\": 0.0,\n        \"num_unique_values\": 1,\n        \"samples\": [\n          0.0\n        ],\n        \"semantic_type\": \"\",\n        \"description\": \"\"\n      }\n    },\n    {\n      \"column\": \"nonrefundable_support\",\n      \"properties\": {\n        \"dtype\": \"number\",\n        \"std\": 25455844.12271571,\n        \"min\": 23000000.0,\n        \"max\": 59000000.0,\n        \"num_unique_values\": 2,\n        \"samples\": [\n          59000000.0\n        ],\n        \"semantic_type\": \"\",\n        \"description\": \"\"\n      }\n    },\n    {\n      \"column\": \"budget\",\n      \"properties\": {\n        \"dtype\": \"number\",\n        \"std\": 0.0,\n        \"min\": 0.0,\n        \"max\": 0.0,\n        \"num_unique_values\": 1,\n        \"samples\": [\n          0.0\n        ],\n        \"semantic_type\": \"\",\n        \"description\": \"\"\n      }\n    },\n    {\n      \"column\": \"financing_source\",\n      \"properties\": {\n        \"dtype\": \"string\",\n        \"num_unique_values\": 2,\n        \"samples\": [\n          \"\\u0424\\u043e\\u043d\\u0434 \\u043a\\u0438\\u043d\\u043e\"\n        ],\n        \"semantic_type\": \"\",\n        \"description\": \"\"\n      }\n    },\n    {\n      \"column\": \"ratings\",\n      \"properties\": {\n        \"dtype\": \"number\",\n        \"std\": 0.21213203435596412,\n        \"min\": 6.3,\n        \"max\": 6.6,\n        \"num_unique_values\": 2,\n        \"samples\": [\n          6.3\n        ],\n        \"semantic_type\": \"\",\n        \"description\": \"\"\n      }\n    },\n    {\n      \"column\": \"genres\",\n      \"properties\": {\n        \"dtype\": \"string\",\n        \"num_unique_values\": 2,\n        \"samples\": [\n          \"\\u043a\\u043e\\u043c\\u0435\\u0434\\u0438\\u044f,\\u0434\\u0440\\u0430\\u043c\\u0430\"\n        ],\n        \"semantic_type\": \"\",\n        \"description\": \"\"\n      }\n    },\n    {\n      \"column\": \"box_office\",\n      \"properties\": {\n        \"dtype\": \"number\",\n        \"std\": 5852212.006871257,\n        \"min\": 1957738.51,\n        \"max\": 10234016.1,\n        \"num_unique_values\": 2,\n        \"samples\": [\n          1957738.51\n        ],\n        \"semantic_type\": \"\",\n        \"description\": \"\"\n      }\n    }\n  ]\n}"
            }
          },
          "metadata": {},
          "execution_count": 39
        }
      ],
      "source": [
        "data_movies.query('budget == 0')"
      ]
    },
    {
      "cell_type": "markdown",
      "metadata": {
        "id": "sVde0fQYbL1E"
      },
      "source": [
        "Увы, но не все фильмы раскрывают информацию о бюджете, либо он указан в американских долларах `USD`, поэтому приравняем бюджет `budget` таких фильмов к `NaN` чтобы не учитывать такие данные в исследовании."
      ]
    },
    {
      "cell_type": "code",
      "execution_count": null,
      "metadata": {
        "id": "i583YxoNbL1E"
      },
      "outputs": [],
      "source": [
        "data_movies['budget'] = data_movies['budget'].where(data_movies['budget'] != 0, float('nan'))"
      ]
    },
    {
      "cell_type": "markdown",
      "metadata": {
        "id": "Eu6oWp2CgFyS"
      },
      "source": [
        "## Добавление новых столбцов\n",
        "\n",
        "\n",
        "\n"
      ]
    },
    {
      "cell_type": "markdown",
      "metadata": {
        "id": "7GgW-UpAgFyS"
      },
      "source": [
        "Создадим столбец с информацией о годе проката. Выделим год из даты премьеры фильма."
      ]
    },
    {
      "cell_type": "code",
      "execution_count": null,
      "metadata": {
        "id": "I-yd1DkWgFyT",
        "scrolled": true
      },
      "outputs": [],
      "source": [
        "data_movies['year'] = data_movies['show_start_date'].dt.year"
      ]
    },
    {
      "cell_type": "markdown",
      "metadata": {
        "id": "nFTDLDYOgFyT"
      },
      "source": [
        "Создадим два столбца: с именем и фамилией главного режиссёра и основным жанром фильма. В столбцы войдут первые значения из списка режиссёров и жанров соответственно."
      ]
    },
    {
      "cell_type": "markdown",
      "metadata": {
        "id": "iTMd306ebL1F"
      },
      "source": [
        "Для начала создадим функцию, которую можно было бы применить к двум столбцам сразу."
      ]
    },
    {
      "cell_type": "code",
      "execution_count": null,
      "metadata": {
        "id": "LSbRZKbMgFyU"
      },
      "outputs": [],
      "source": [
        "def add_main(data_movies, columns):\n",
        "    for column in columns:\n",
        "        data_movies[f'main_{column}'] = data_movies[column].dropna().apply(lambda x: x.split(', ')[0])\n",
        "    return data_movies"
      ]
    },
    {
      "cell_type": "markdown",
      "metadata": {
        "id": "3MOkADgSbL1F"
      },
      "source": [
        "Теперь применим ее:"
      ]
    },
    {
      "cell_type": "code",
      "execution_count": null,
      "metadata": {
        "id": "pZlcr3rbbL1F"
      },
      "outputs": [],
      "source": [
        "data_movies = add_main(data_movies, ['director', 'genres'])"
      ]
    },
    {
      "cell_type": "markdown",
      "metadata": {
        "id": "1FsCXHwdgFyU"
      },
      "source": [
        "- Посчитайте, какую долю от общего бюджета фильма составляет государственная поддержка."
      ]
    },
    {
      "cell_type": "code",
      "execution_count": null,
      "metadata": {
        "id": "LV6qFuZLgFyV"
      },
      "outputs": [],
      "source": [
        "data_movies['government_support'] = round((data_movies['refundable_support'] + data_movies['nonrefundable_support']) / data_movies['budget'] * 100, 2)"
      ]
    },
    {
      "cell_type": "markdown",
      "metadata": {
        "id": "fqnY9A3GbL1G"
      },
      "source": [
        "## Вывод"
      ]
    },
    {
      "cell_type": "markdown",
      "metadata": {
        "id": "7R0eemONbL1G"
      },
      "source": [
        "Столбцы с названием студии `film_studio`, режиссёром `director` и продюсером `producer` можно дополнить вручную выполнив поиск, но т.к. эти данные не фигурируют в рамках нашего исследования, то можно оставить все без изменений.\n",
        "\n",
        "Столбцы `refundable_support`, `nonrefundable_support`, `budget` и `financing_source` присутствуют только для тех фильмов на которые было выделено финансирование по линии Министерства культуры или Фонда кино, заполнять их ненужно.\n",
        "\n",
        "Столбцы `ratings` и `genres` около `8%`, а `box_office` - почти `58%` пропусков, но эта информация уникальна и не может быть восстановлена с помощью какого-либо метода через остальные данные, т.к. фактическая информация исказится. Сканирование дополнительных таблиц на сайте mkrf.ru не принесло результата. Если данных нет в нашей исходной таблице, то это лишь может означать, что их нет и на сайте Министерства культуры.\n",
        "\n",
        "Мы убрали ведущие и хвостовые пробелы из названий типов фильмов, убрав такие образом дублирующие категории.\n",
        "\n",
        "Заполнили данные по общему бюджету для кинолент с государственной подедржкой, там где это возможно, от остальных строк с нулевым бюджетом избавились, заменив их на `NaN` (таких строк оказалось лишь `2`).\n",
        "\n",
        "Добавили новые столбцы: год проката `year`, фамилию главного режиссера `main_director`, основной жанр киноленты `main_genre`.\n",
        "\n",
        "Рассчитали долю от общего бюджета фильма составляет государственная поддержка"
      ]
    },
    {
      "cell_type": "markdown",
      "metadata": {
        "id": "l_Kg6Ku4gFya"
      },
      "source": [
        "# Фильмы получившие государственную поддержку"
      ]
    },
    {
      "cell_type": "markdown",
      "metadata": {
        "id": "W9QKpjUdgFyb"
      },
      "source": [
        "Создадим столбец `total_support`, который отражает сумму: объёма возвратных средств государственной поддержки `refundable_support` и объёма невозвратных средств государственной поддержки `nonrefundable_support`."
      ]
    },
    {
      "cell_type": "code",
      "execution_count": null,
      "metadata": {
        "id": "i0C5KBm3bL1O"
      },
      "outputs": [],
      "source": [
        "data_movies['total_support'] = data_movies['refundable_support'] + data_movies['nonrefundable_support']"
      ]
    },
    {
      "cell_type": "markdown",
      "metadata": {
        "id": "f75LI5v3bL1P"
      },
      "source": [
        "Также создадим отдельный датафрейм `supported_movies` для фильмов, имеющих государственную поддержку, чтобы легче было оперировать с данными:"
      ]
    },
    {
      "cell_type": "code",
      "execution_count": null,
      "metadata": {
        "id": "bwn4ZOScbL1P"
      },
      "outputs": [],
      "source": [
        "supported_movies = data_movies.query('2015 <= year <= 2019 & total_support > 0')"
      ]
    },
    {
      "cell_type": "code",
      "execution_count": null,
      "metadata": {
        "id": "MjFufSFgbL1P",
        "outputId": "41cb8c6e-f266-4fd6-a11a-84ca1bd4386d",
        "colab": {
          "base_uri": "https://localhost:8080/",
          "height": 269
        }
      },
      "outputs": [
        {
          "output_type": "execute_result",
          "data": {
            "text/plain": [
              "             count              sum\n",
              "     total_support    total_support\n",
              "year                               \n",
              "2015            84 3,641,541,459.00\n",
              "2016            61 4,303,155,482.00\n",
              "2017            41 3,183,971,662.00\n",
              "2018            56 3,446,969,465.00\n",
              "2019            70 4,904,000,000.00"
            ],
            "text/html": [
              "\n",
              "  <div id=\"df-e27c94cb-d176-43a0-95de-55b390579b86\" class=\"colab-df-container\">\n",
              "    <div>\n",
              "<style scoped>\n",
              "    .dataframe tbody tr th:only-of-type {\n",
              "        vertical-align: middle;\n",
              "    }\n",
              "\n",
              "    .dataframe tbody tr th {\n",
              "        vertical-align: top;\n",
              "    }\n",
              "\n",
              "    .dataframe thead tr th {\n",
              "        text-align: left;\n",
              "    }\n",
              "\n",
              "    .dataframe thead tr:last-of-type th {\n",
              "        text-align: right;\n",
              "    }\n",
              "</style>\n",
              "<table border=\"1\" class=\"dataframe\">\n",
              "  <thead>\n",
              "    <tr>\n",
              "      <th></th>\n",
              "      <th>count</th>\n",
              "      <th>sum</th>\n",
              "    </tr>\n",
              "    <tr>\n",
              "      <th></th>\n",
              "      <th>total_support</th>\n",
              "      <th>total_support</th>\n",
              "    </tr>\n",
              "    <tr>\n",
              "      <th>year</th>\n",
              "      <th></th>\n",
              "      <th></th>\n",
              "    </tr>\n",
              "  </thead>\n",
              "  <tbody>\n",
              "    <tr>\n",
              "      <th>2015</th>\n",
              "      <td>84</td>\n",
              "      <td>3,641,541,459.00</td>\n",
              "    </tr>\n",
              "    <tr>\n",
              "      <th>2016</th>\n",
              "      <td>61</td>\n",
              "      <td>4,303,155,482.00</td>\n",
              "    </tr>\n",
              "    <tr>\n",
              "      <th>2017</th>\n",
              "      <td>41</td>\n",
              "      <td>3,183,971,662.00</td>\n",
              "    </tr>\n",
              "    <tr>\n",
              "      <th>2018</th>\n",
              "      <td>56</td>\n",
              "      <td>3,446,969,465.00</td>\n",
              "    </tr>\n",
              "    <tr>\n",
              "      <th>2019</th>\n",
              "      <td>70</td>\n",
              "      <td>4,904,000,000.00</td>\n",
              "    </tr>\n",
              "  </tbody>\n",
              "</table>\n",
              "</div>\n",
              "    <div class=\"colab-df-buttons\">\n",
              "\n",
              "  <div class=\"colab-df-container\">\n",
              "    <button class=\"colab-df-convert\" onclick=\"convertToInteractive('df-e27c94cb-d176-43a0-95de-55b390579b86')\"\n",
              "            title=\"Convert this dataframe to an interactive table.\"\n",
              "            style=\"display:none;\">\n",
              "\n",
              "  <svg xmlns=\"http://www.w3.org/2000/svg\" height=\"24px\" viewBox=\"0 -960 960 960\">\n",
              "    <path d=\"M120-120v-720h720v720H120Zm60-500h600v-160H180v160Zm220 220h160v-160H400v160Zm0 220h160v-160H400v160ZM180-400h160v-160H180v160Zm440 0h160v-160H620v160ZM180-180h160v-160H180v160Zm440 0h160v-160H620v160Z\"/>\n",
              "  </svg>\n",
              "    </button>\n",
              "\n",
              "  <style>\n",
              "    .colab-df-container {\n",
              "      display:flex;\n",
              "      gap: 12px;\n",
              "    }\n",
              "\n",
              "    .colab-df-convert {\n",
              "      background-color: #E8F0FE;\n",
              "      border: none;\n",
              "      border-radius: 50%;\n",
              "      cursor: pointer;\n",
              "      display: none;\n",
              "      fill: #1967D2;\n",
              "      height: 32px;\n",
              "      padding: 0 0 0 0;\n",
              "      width: 32px;\n",
              "    }\n",
              "\n",
              "    .colab-df-convert:hover {\n",
              "      background-color: #E2EBFA;\n",
              "      box-shadow: 0px 1px 2px rgba(60, 64, 67, 0.3), 0px 1px 3px 1px rgba(60, 64, 67, 0.15);\n",
              "      fill: #174EA6;\n",
              "    }\n",
              "\n",
              "    .colab-df-buttons div {\n",
              "      margin-bottom: 4px;\n",
              "    }\n",
              "\n",
              "    [theme=dark] .colab-df-convert {\n",
              "      background-color: #3B4455;\n",
              "      fill: #D2E3FC;\n",
              "    }\n",
              "\n",
              "    [theme=dark] .colab-df-convert:hover {\n",
              "      background-color: #434B5C;\n",
              "      box-shadow: 0px 1px 3px 1px rgba(0, 0, 0, 0.15);\n",
              "      filter: drop-shadow(0px 1px 2px rgba(0, 0, 0, 0.3));\n",
              "      fill: #FFFFFF;\n",
              "    }\n",
              "  </style>\n",
              "\n",
              "    <script>\n",
              "      const buttonEl =\n",
              "        document.querySelector('#df-e27c94cb-d176-43a0-95de-55b390579b86 button.colab-df-convert');\n",
              "      buttonEl.style.display =\n",
              "        google.colab.kernel.accessAllowed ? 'block' : 'none';\n",
              "\n",
              "      async function convertToInteractive(key) {\n",
              "        const element = document.querySelector('#df-e27c94cb-d176-43a0-95de-55b390579b86');\n",
              "        const dataTable =\n",
              "          await google.colab.kernel.invokeFunction('convertToInteractive',\n",
              "                                                    [key], {});\n",
              "        if (!dataTable) return;\n",
              "\n",
              "        const docLinkHtml = 'Like what you see? Visit the ' +\n",
              "          '<a target=\"_blank\" href=https://colab.research.google.com/notebooks/data_table.ipynb>data table notebook</a>'\n",
              "          + ' to learn more about interactive tables.';\n",
              "        element.innerHTML = '';\n",
              "        dataTable['output_type'] = 'display_data';\n",
              "        await google.colab.output.renderOutput(dataTable, element);\n",
              "        const docLink = document.createElement('div');\n",
              "        docLink.innerHTML = docLinkHtml;\n",
              "        element.appendChild(docLink);\n",
              "      }\n",
              "    </script>\n",
              "  </div>\n",
              "\n",
              "\n",
              "<div id=\"df-1f8e97a7-817f-4640-86ca-e8d1cc9261fb\">\n",
              "  <button class=\"colab-df-quickchart\" onclick=\"quickchart('df-1f8e97a7-817f-4640-86ca-e8d1cc9261fb')\"\n",
              "            title=\"Suggest charts\"\n",
              "            style=\"display:none;\">\n",
              "\n",
              "<svg xmlns=\"http://www.w3.org/2000/svg\" height=\"24px\"viewBox=\"0 0 24 24\"\n",
              "     width=\"24px\">\n",
              "    <g>\n",
              "        <path d=\"M19 3H5c-1.1 0-2 .9-2 2v14c0 1.1.9 2 2 2h14c1.1 0 2-.9 2-2V5c0-1.1-.9-2-2-2zM9 17H7v-7h2v7zm4 0h-2V7h2v10zm4 0h-2v-4h2v4z\"/>\n",
              "    </g>\n",
              "</svg>\n",
              "  </button>\n",
              "\n",
              "<style>\n",
              "  .colab-df-quickchart {\n",
              "      --bg-color: #E8F0FE;\n",
              "      --fill-color: #1967D2;\n",
              "      --hover-bg-color: #E2EBFA;\n",
              "      --hover-fill-color: #174EA6;\n",
              "      --disabled-fill-color: #AAA;\n",
              "      --disabled-bg-color: #DDD;\n",
              "  }\n",
              "\n",
              "  [theme=dark] .colab-df-quickchart {\n",
              "      --bg-color: #3B4455;\n",
              "      --fill-color: #D2E3FC;\n",
              "      --hover-bg-color: #434B5C;\n",
              "      --hover-fill-color: #FFFFFF;\n",
              "      --disabled-bg-color: #3B4455;\n",
              "      --disabled-fill-color: #666;\n",
              "  }\n",
              "\n",
              "  .colab-df-quickchart {\n",
              "    background-color: var(--bg-color);\n",
              "    border: none;\n",
              "    border-radius: 50%;\n",
              "    cursor: pointer;\n",
              "    display: none;\n",
              "    fill: var(--fill-color);\n",
              "    height: 32px;\n",
              "    padding: 0;\n",
              "    width: 32px;\n",
              "  }\n",
              "\n",
              "  .colab-df-quickchart:hover {\n",
              "    background-color: var(--hover-bg-color);\n",
              "    box-shadow: 0 1px 2px rgba(60, 64, 67, 0.3), 0 1px 3px 1px rgba(60, 64, 67, 0.15);\n",
              "    fill: var(--button-hover-fill-color);\n",
              "  }\n",
              "\n",
              "  .colab-df-quickchart-complete:disabled,\n",
              "  .colab-df-quickchart-complete:disabled:hover {\n",
              "    background-color: var(--disabled-bg-color);\n",
              "    fill: var(--disabled-fill-color);\n",
              "    box-shadow: none;\n",
              "  }\n",
              "\n",
              "  .colab-df-spinner {\n",
              "    border: 2px solid var(--fill-color);\n",
              "    border-color: transparent;\n",
              "    border-bottom-color: var(--fill-color);\n",
              "    animation:\n",
              "      spin 1s steps(1) infinite;\n",
              "  }\n",
              "\n",
              "  @keyframes spin {\n",
              "    0% {\n",
              "      border-color: transparent;\n",
              "      border-bottom-color: var(--fill-color);\n",
              "      border-left-color: var(--fill-color);\n",
              "    }\n",
              "    20% {\n",
              "      border-color: transparent;\n",
              "      border-left-color: var(--fill-color);\n",
              "      border-top-color: var(--fill-color);\n",
              "    }\n",
              "    30% {\n",
              "      border-color: transparent;\n",
              "      border-left-color: var(--fill-color);\n",
              "      border-top-color: var(--fill-color);\n",
              "      border-right-color: var(--fill-color);\n",
              "    }\n",
              "    40% {\n",
              "      border-color: transparent;\n",
              "      border-right-color: var(--fill-color);\n",
              "      border-top-color: var(--fill-color);\n",
              "    }\n",
              "    60% {\n",
              "      border-color: transparent;\n",
              "      border-right-color: var(--fill-color);\n",
              "    }\n",
              "    80% {\n",
              "      border-color: transparent;\n",
              "      border-right-color: var(--fill-color);\n",
              "      border-bottom-color: var(--fill-color);\n",
              "    }\n",
              "    90% {\n",
              "      border-color: transparent;\n",
              "      border-bottom-color: var(--fill-color);\n",
              "    }\n",
              "  }\n",
              "</style>\n",
              "\n",
              "  <script>\n",
              "    async function quickchart(key) {\n",
              "      const quickchartButtonEl =\n",
              "        document.querySelector('#' + key + ' button');\n",
              "      quickchartButtonEl.disabled = true;  // To prevent multiple clicks.\n",
              "      quickchartButtonEl.classList.add('colab-df-spinner');\n",
              "      try {\n",
              "        const charts = await google.colab.kernel.invokeFunction(\n",
              "            'suggestCharts', [key], {});\n",
              "      } catch (error) {\n",
              "        console.error('Error during call to suggestCharts:', error);\n",
              "      }\n",
              "      quickchartButtonEl.classList.remove('colab-df-spinner');\n",
              "      quickchartButtonEl.classList.add('colab-df-quickchart-complete');\n",
              "    }\n",
              "    (() => {\n",
              "      let quickchartButtonEl =\n",
              "        document.querySelector('#df-1f8e97a7-817f-4640-86ca-e8d1cc9261fb button');\n",
              "      quickchartButtonEl.style.display =\n",
              "        google.colab.kernel.accessAllowed ? 'block' : 'none';\n",
              "    })();\n",
              "  </script>\n",
              "</div>\n",
              "    </div>\n",
              "  </div>\n"
            ],
            "application/vnd.google.colaboratory.intrinsic+json": {
              "type": "dataframe",
              "variable_name": "supported_movies_pivot",
              "summary": "{\n  \"name\": \"supported_movies_pivot\",\n  \"rows\": 5,\n  \"fields\": [\n    {\n      \"column\": [\n        \"year\",\n        \"\"\n      ],\n      \"properties\": {\n        \"dtype\": \"int32\",\n        \"num_unique_values\": 5,\n        \"samples\": [\n          2016,\n          2019,\n          2017\n        ],\n        \"semantic_type\": \"\",\n        \"description\": \"\"\n      }\n    },\n    {\n      \"column\": [\n        \"count\",\n        \"total_support\"\n      ],\n      \"properties\": {\n        \"dtype\": \"number\",\n        \"std\": 16,\n        \"min\": 41,\n        \"max\": 84,\n        \"num_unique_values\": 5,\n        \"samples\": [\n          61,\n          70,\n          41\n        ],\n        \"semantic_type\": \"\",\n        \"description\": \"\"\n      }\n    },\n    {\n      \"column\": [\n        \"sum\",\n        \"total_support\"\n      ],\n      \"properties\": {\n        \"dtype\": \"number\",\n        \"std\": 699142597.2019182,\n        \"min\": 3183971662.0,\n        \"max\": 4904000000.0,\n        \"num_unique_values\": 5,\n        \"samples\": [\n          4303155482.0,\n          4904000000.0,\n          3183971662.0\n        ],\n        \"semantic_type\": \"\",\n        \"description\": \"\"\n      }\n    }\n  ]\n}"
            }
          },
          "metadata": {},
          "execution_count": 47
        }
      ],
      "source": [
        "supported_movies_pivot = supported_movies.pivot_table(\n",
        "    index='year', values=['total_support'],\n",
        "    aggfunc=['count', 'sum'])\n",
        "supported_movies_pivot"
      ]
    },
    {
      "cell_type": "code",
      "execution_count": null,
      "metadata": {
        "id": "W8mN0IWmbL1P",
        "outputId": "12931801-2b69-4f40-e3a0-0cc9a1b53bab",
        "colab": {
          "base_uri": "https://localhost:8080/",
          "height": 564
        }
      },
      "outputs": [
        {
          "output_type": "display_data",
          "data": {
            "text/plain": [
              "<Figure size 1200x600 with 1 Axes>"
            ],
            "image/png": "[encoded data removed]"
          },
          "metadata": {}
        }
      ],
      "source": [
        "supported_movies_pivot.plot(title='Количество фильмов с поддержкой по годам', y='count', xlabel='Год', ylabel='Количество, шт.', kind='bar', legend=False, grid=True)\n",
        "plt.xticks(rotation=360);"
      ]
    },
    {
      "cell_type": "markdown",
      "metadata": {
        "id": "8OJBx2NlbL1P"
      },
      "source": [
        "Наибольшее количенство фильмов получило финансирование в `2015` году, их насчитывается `84`, в 2016-2017-х годах их количество уменьшилось. Скорее всего это может быть связано с новыми критериями отбора для финансирования, т.к. в последние годы стало выделяться больше денег."
      ]
    },
    {
      "cell_type": "code",
      "execution_count": null,
      "metadata": {
        "id": "bUj-Z1jtbL1P",
        "outputId": "4283d4ec-9f9d-4b8d-95fa-a551ddc69171",
        "colab": {
          "base_uri": "https://localhost:8080/",
          "height": 564
        }
      },
      "outputs": [
        {
          "output_type": "display_data",
          "data": {
            "text/plain": [
              "<Figure size 1200x600 with 1 Axes>"
            ],
            "image/png": "[encoded data removed]"
          },
          "metadata": {}
        }
      ],
      "source": [
        "supported_movies_pivot.plot(title='Сумма поддержки по годам', y='sum', xlabel='Год', ylabel='Количество, шт.', kind='bar', legend=False, grid=True)\n",
        "plt.xticks(rotation=360);"
      ]
    },
    {
      "cell_type": "markdown",
      "metadata": {
        "id": "twdO2JNzbL1Q"
      },
      "source": [
        "В целом наблюдается тренд на рост финансирования. На `2019` год приходится пик финансирования `4.9` млрд. рублей."
      ]
    },
    {
      "cell_type": "code",
      "execution_count": null,
      "metadata": {
        "id": "2HlKjwGubL1Q",
        "outputId": "17710fc1-f1eb-4430-bc81-0af743b1571c",
        "colab": {
          "base_uri": "https://localhost:8080/",
          "height": 269
        }
      },
      "outputs": [
        {
          "output_type": "execute_result",
          "data": {
            "text/plain": [
              "                                       government_support                     \\\n",
              "                                                    count   max  mean median   \n",
              "age_restriction                                                                \n",
              "«0+» - для любой зрительской аудитории                  6 68.99 44.59  53.06   \n",
              "«12+» - для детей старше 12 лет                       100 70.00 51.54  60.55   \n",
              "«16+» - для детей старше 16 лет                       117 78.47 54.04  62.50   \n",
              "«18+» - запрещено для детей                            25 69.91 51.88  55.46   \n",
              "«6+» - для детей старше 6 лет                          63 70.00 48.70  53.74   \n",
              "\n",
              "                                             nonrefundable_support  \\\n",
              "                                         min                   sum   \n",
              "age_restriction                                                      \n",
              "«0+» - для любой зрительской аудитории  9.09        183,520,000.00   \n",
              "«12+» - для детей старше 12 лет         4.40      5,968,543,921.00   \n",
              "«16+» - для детей старше 16 лет         7.69      4,549,200,200.00   \n",
              "«18+» - запрещено для детей            23.33        863,000,000.00   \n",
              "«6+» - для детей старше 6 лет          10.02      4,047,373,947.00   \n",
              "\n",
              "                                          total_support  \n",
              "                                                    sum  \n",
              "age_restriction                                          \n",
              "«0+» - для любой зрительской аудитории   183,520,000.00  \n",
              "«12+» - для детей старше 12 лет        7,536,043,921.00  \n",
              "«16+» - для детей старше 16 лет        5,384,353,319.00  \n",
              "«18+» - запрещено для детей              895,346,881.00  \n",
              "«6+» - для детей старше 6 лет          5,480,373,947.00  "
            ],
            "text/html": [
              "\n",
              "  <div id=\"df-bac2780f-66c3-4bd1-ac56-cf918897db7a\" class=\"colab-df-container\">\n",
              "    <div>\n",
              "<style scoped>\n",
              "    .dataframe tbody tr th:only-of-type {\n",
              "        vertical-align: middle;\n",
              "    }\n",
              "\n",
              "    .dataframe tbody tr th {\n",
              "        vertical-align: top;\n",
              "    }\n",
              "\n",
              "    .dataframe thead tr th {\n",
              "        text-align: left;\n",
              "    }\n",
              "\n",
              "    .dataframe thead tr:last-of-type th {\n",
              "        text-align: right;\n",
              "    }\n",
              "</style>\n",
              "<table border=\"1\" class=\"dataframe\">\n",
              "  <thead>\n",
              "    <tr>\n",
              "      <th></th>\n",
              "      <th colspan=\"5\" halign=\"left\">government_support</th>\n",
              "      <th>nonrefundable_support</th>\n",
              "      <th>total_support</th>\n",
              "    </tr>\n",
              "    <tr>\n",
              "      <th></th>\n",
              "      <th>count</th>\n",
              "      <th>max</th>\n",
              "      <th>mean</th>\n",
              "      <th>median</th>\n",
              "      <th>min</th>\n",
              "      <th>sum</th>\n",
              "      <th>sum</th>\n",
              "    </tr>\n",
              "    <tr>\n",
              "      <th>age_restriction</th>\n",
              "      <th></th>\n",
              "      <th></th>\n",
              "      <th></th>\n",
              "      <th></th>\n",
              "      <th></th>\n",
              "      <th></th>\n",
              "      <th></th>\n",
              "    </tr>\n",
              "  </thead>\n",
              "  <tbody>\n",
              "    <tr>\n",
              "      <th>«0+» - для любой зрительской аудитории</th>\n",
              "      <td>6</td>\n",
              "      <td>68.99</td>\n",
              "      <td>44.59</td>\n",
              "      <td>53.06</td>\n",
              "      <td>9.09</td>\n",
              "      <td>183,520,000.00</td>\n",
              "      <td>183,520,000.00</td>\n",
              "    </tr>\n",
              "    <tr>\n",
              "      <th>«12+» - для детей старше 12 лет</th>\n",
              "      <td>100</td>\n",
              "      <td>70.00</td>\n",
              "      <td>51.54</td>\n",
              "      <td>60.55</td>\n",
              "      <td>4.40</td>\n",
              "      <td>5,968,543,921.00</td>\n",
              "      <td>7,536,043,921.00</td>\n",
              "    </tr>\n",
              "    <tr>\n",
              "      <th>«16+» - для детей старше 16 лет</th>\n",
              "      <td>117</td>\n",
              "      <td>78.47</td>\n",
              "      <td>54.04</td>\n",
              "      <td>62.50</td>\n",
              "      <td>7.69</td>\n",
              "      <td>4,549,200,200.00</td>\n",
              "      <td>5,384,353,319.00</td>\n",
              "    </tr>\n",
              "    <tr>\n",
              "      <th>«18+» - запрещено для детей</th>\n",
              "      <td>25</td>\n",
              "      <td>69.91</td>\n",
              "      <td>51.88</td>\n",
              "      <td>55.46</td>\n",
              "      <td>23.33</td>\n",
              "      <td>863,000,000.00</td>\n",
              "      <td>895,346,881.00</td>\n",
              "    </tr>\n",
              "    <tr>\n",
              "      <th>«6+» - для детей старше 6 лет</th>\n",
              "      <td>63</td>\n",
              "      <td>70.00</td>\n",
              "      <td>48.70</td>\n",
              "      <td>53.74</td>\n",
              "      <td>10.02</td>\n",
              "      <td>4,047,373,947.00</td>\n",
              "      <td>5,480,373,947.00</td>\n",
              "    </tr>\n",
              "  </tbody>\n",
              "</table>\n",
              "</div>\n",
              "    <div class=\"colab-df-buttons\">\n",
              "\n",
              "  <div class=\"colab-df-container\">\n",
              "    <button class=\"colab-df-convert\" onclick=\"convertToInteractive('df-bac2780f-66c3-4bd1-ac56-cf918897db7a')\"\n",
              "            title=\"Convert this dataframe to an interactive table.\"\n",
              "            style=\"display:none;\">\n",
              "\n",
              "  <svg xmlns=\"http://www.w3.org/2000/svg\" height=\"24px\" viewBox=\"0 -960 960 960\">\n",
              "    <path d=\"M120-120v-720h720v720H120Zm60-500h600v-160H180v160Zm220 220h160v-160H400v160Zm0 220h160v-160H400v160ZM180-400h160v-160H180v160Zm440 0h160v-160H620v160ZM180-180h160v-160H180v160Zm440 0h160v-160H620v160Z\"/>\n",
              "  </svg>\n",
              "    </button>\n",
              "\n",
              "  <style>\n",
              "    .colab-df-container {\n",
              "      display:flex;\n",
              "      gap: 12px;\n",
              "    }\n",
              "\n",
              "    .colab-df-convert {\n",
              "      background-color: #E8F0FE;\n",
              "      border: none;\n",
              "      border-radius: 50%;\n",
              "      cursor: pointer;\n",
              "      display: none;\n",
              "      fill: #1967D2;\n",
              "      height: 32px;\n",
              "      padding: 0 0 0 0;\n",
              "      width: 32px;\n",
              "    }\n",
              "\n",
              "    .colab-df-convert:hover {\n",
              "      background-color: #E2EBFA;\n",
              "      box-shadow: 0px 1px 2px rgba(60, 64, 67, 0.3), 0px 1px 3px 1px rgba(60, 64, 67, 0.15);\n",
              "      fill: #174EA6;\n",
              "    }\n",
              "\n",
              "    .colab-df-buttons div {\n",
              "      margin-bottom: 4px;\n",
              "    }\n",
              "\n",
              "    [theme=dark] .colab-df-convert {\n",
              "      background-color: #3B4455;\n",
              "      fill: #D2E3FC;\n",
              "    }\n",
              "\n",
              "    [theme=dark] .colab-df-convert:hover {\n",
              "      background-color: #434B5C;\n",
              "      box-shadow: 0px 1px 3px 1px rgba(0, 0, 0, 0.15);\n",
              "      filter: drop-shadow(0px 1px 2px rgba(0, 0, 0, 0.3));\n",
              "      fill: #FFFFFF;\n",
              "    }\n",
              "  </style>\n",
              "\n",
              "    <script>\n",
              "      const buttonEl =\n",
              "        document.querySelector('#df-bac2780f-66c3-4bd1-ac56-cf918897db7a button.colab-df-convert');\n",
              "      buttonEl.style.display =\n",
              "        google.colab.kernel.accessAllowed ? 'block' : 'none';\n",
              "\n",
              "      async function convertToInteractive(key) {\n",
              "        const element = document.querySelector('#df-bac2780f-66c3-4bd1-ac56-cf918897db7a');\n",
              "        const dataTable =\n",
              "          await google.colab.kernel.invokeFunction('convertToInteractive',\n",
              "                                                    [key], {});\n",
              "        if (!dataTable) return;\n",
              "\n",
              "        const docLinkHtml = 'Like what you see? Visit the ' +\n",
              "          '<a target=\"_blank\" href=https://colab.research.google.com/notebooks/data_table.ipynb>data table notebook</a>'\n",
              "          + ' to learn more about interactive tables.';\n",
              "        element.innerHTML = '';\n",
              "        dataTable['output_type'] = 'display_data';\n",
              "        await google.colab.output.renderOutput(dataTable, element);\n",
              "        const docLink = document.createElement('div');\n",
              "        docLink.innerHTML = docLinkHtml;\n",
              "        element.appendChild(docLink);\n",
              "      }\n",
              "    </script>\n",
              "  </div>\n",
              "\n",
              "\n",
              "<div id=\"df-bb6fc285-9119-4aef-8886-e9ee5990ecd7\">\n",
              "  <button class=\"colab-df-quickchart\" onclick=\"quickchart('df-bb6fc285-9119-4aef-8886-e9ee5990ecd7')\"\n",
              "            title=\"Suggest charts\"\n",
              "            style=\"display:none;\">\n",
              "\n",
              "<svg xmlns=\"http://www.w3.org/2000/svg\" height=\"24px\"viewBox=\"0 0 24 24\"\n",
              "     width=\"24px\">\n",
              "    <g>\n",
              "        <path d=\"M19 3H5c-1.1 0-2 .9-2 2v14c0 1.1.9 2 2 2h14c1.1 0 2-.9 2-2V5c0-1.1-.9-2-2-2zM9 17H7v-7h2v7zm4 0h-2V7h2v10zm4 0h-2v-4h2v4z\"/>\n",
              "    </g>\n",
              "</svg>\n",
              "  </button>\n",
              "\n",
              "<style>\n",
              "  .colab-df-quickchart {\n",
              "      --bg-color: #E8F0FE;\n",
              "      --fill-color: #1967D2;\n",
              "      --hover-bg-color: #E2EBFA;\n",
              "      --hover-fill-color: #174EA6;\n",
              "      --disabled-fill-color: #AAA;\n",
              "      --disabled-bg-color: #DDD;\n",
              "  }\n",
              "\n",
              "  [theme=dark] .colab-df-quickchart {\n",
              "      --bg-color: #3B4455;\n",
              "      --fill-color: #D2E3FC;\n",
              "      --hover-bg-color: #434B5C;\n",
              "      --hover-fill-color: #FFFFFF;\n",
              "      --disabled-bg-color: #3B4455;\n",
              "      --disabled-fill-color: #666;\n",
              "  }\n",
              "\n",
              "  .colab-df-quickchart {\n",
              "    background-color: var(--bg-color);\n",
              "    border: none;\n",
              "    border-radius: 50%;\n",
              "    cursor: pointer;\n",
              "    display: none;\n",
              "    fill: var(--fill-color);\n",
              "    height: 32px;\n",
              "    padding: 0;\n",
              "    width: 32px;\n",
              "  }\n",
              "\n",
              "  .colab-df-quickchart:hover {\n",
              "    background-color: var(--hover-bg-color);\n",
              "    box-shadow: 0 1px 2px rgba(60, 64, 67, 0.3), 0 1px 3px 1px rgba(60, 64, 67, 0.15);\n",
              "    fill: var(--button-hover-fill-color);\n",
              "  }\n",
              "\n",
              "  .colab-df-quickchart-complete:disabled,\n",
              "  .colab-df-quickchart-complete:disabled:hover {\n",
              "    background-color: var(--disabled-bg-color);\n",
              "    fill: var(--disabled-fill-color);\n",
              "    box-shadow: none;\n",
              "  }\n",
              "\n",
              "  .colab-df-spinner {\n",
              "    border: 2px solid var(--fill-color);\n",
              "    border-color: transparent;\n",
              "    border-bottom-color: var(--fill-color);\n",
              "    animation:\n",
              "      spin 1s steps(1) infinite;\n",
              "  }\n",
              "\n",
              "  @keyframes spin {\n",
              "    0% {\n",
              "      border-color: transparent;\n",
              "      border-bottom-color: var(--fill-color);\n",
              "      border-left-color: var(--fill-color);\n",
              "    }\n",
              "    20% {\n",
              "      border-color: transparent;\n",
              "      border-left-color: var(--fill-color);\n",
              "      border-top-color: var(--fill-color);\n",
              "    }\n",
              "    30% {\n",
              "      border-color: transparent;\n",
              "      border-left-color: var(--fill-color);\n",
              "      border-top-color: var(--fill-color);\n",
              "      border-right-color: var(--fill-color);\n",
              "    }\n",
              "    40% {\n",
              "      border-color: transparent;\n",
              "      border-right-color: var(--fill-color);\n",
              "      border-top-color: var(--fill-color);\n",
              "    }\n",
              "    60% {\n",
              "      border-color: transparent;\n",
              "      border-right-color: var(--fill-color);\n",
              "    }\n",
              "    80% {\n",
              "      border-color: transparent;\n",
              "      border-right-color: var(--fill-color);\n",
              "      border-bottom-color: var(--fill-color);\n",
              "    }\n",
              "    90% {\n",
              "      border-color: transparent;\n",
              "      border-bottom-color: var(--fill-color);\n",
              "    }\n",
              "  }\n",
              "</style>\n",
              "\n",
              "  <script>\n",
              "    async function quickchart(key) {\n",
              "      const quickchartButtonEl =\n",
              "        document.querySelector('#' + key + ' button');\n",
              "      quickchartButtonEl.disabled = true;  // To prevent multiple clicks.\n",
              "      quickchartButtonEl.classList.add('colab-df-spinner');\n",
              "      try {\n",
              "        const charts = await google.colab.kernel.invokeFunction(\n",
              "            'suggestCharts', [key], {});\n",
              "      } catch (error) {\n",
              "        console.error('Error during call to suggestCharts:', error);\n",
              "      }\n",
              "      quickchartButtonEl.classList.remove('colab-df-spinner');\n",
              "      quickchartButtonEl.classList.add('colab-df-quickchart-complete');\n",
              "    }\n",
              "    (() => {\n",
              "      let quickchartButtonEl =\n",
              "        document.querySelector('#df-bb6fc285-9119-4aef-8886-e9ee5990ecd7 button');\n",
              "      quickchartButtonEl.style.display =\n",
              "        google.colab.kernel.accessAllowed ? 'block' : 'none';\n",
              "    })();\n",
              "  </script>\n",
              "</div>\n",
              "    </div>\n",
              "  </div>\n"
            ],
            "application/vnd.google.colaboratory.intrinsic+json": {
              "type": "dataframe",
              "summary": "{\n  \"name\": \"    aggfunc={'government_support':['count', 'mean', 'median', 'min', 'max'], 'nonrefundable_support':'sum', 'total_support':'sum'})\",\n  \"rows\": 5,\n  \"fields\": [\n    {\n      \"column\": [\n        \"age_restriction\",\n        \"\"\n      ],\n      \"properties\": {\n        \"dtype\": \"string\",\n        \"num_unique_values\": 5,\n        \"samples\": [\n          \"\\u00ab12+\\u00bb - \\u0434\\u043b\\u044f \\u0434\\u0435\\u0442\\u0435\\u0439 \\u0441\\u0442\\u0430\\u0440\\u0448\\u0435 12 \\u043b\\u0435\\u0442\",\n          \"\\u00ab6+\\u00bb - \\u0434\\u043b\\u044f \\u0434\\u0435\\u0442\\u0435\\u0439 \\u0441\\u0442\\u0430\\u0440\\u0448\\u0435 6 \\u043b\\u0435\\u0442\",\n          \"\\u00ab16+\\u00bb - \\u0434\\u043b\\u044f \\u0434\\u0435\\u0442\\u0435\\u0439 \\u0441\\u0442\\u0430\\u0440\\u0448\\u0435 16 \\u043b\\u0435\\u0442\"\n        ],\n        \"semantic_type\": \"\",\n        \"description\": \"\"\n      }\n    },\n    {\n      \"column\": [\n        \"government_support\",\n        \"count\"\n      ],\n      \"properties\": {\n        \"dtype\": \"number\",\n        \"std\": 47,\n        \"min\": 6,\n        \"max\": 117,\n        \"num_unique_values\": 5,\n        \"samples\": [\n          100,\n          63,\n          117\n        ],\n        \"semantic_type\": \"\",\n        \"description\": \"\"\n      }\n    },\n    {\n      \"column\": [\n        \"government_support\",\n        \"max\"\n      ],\n      \"properties\": {\n        \"dtype\": \"number\",\n        \"std\": 3.93400940517432,\n        \"min\": 68.99,\n        \"max\": 78.47,\n        \"num_unique_values\": 4,\n        \"samples\": [\n          70.0,\n          69.91,\n          68.99\n        ],\n        \"semantic_type\": \"\",\n        \"description\": \"\"\n      }\n    },\n    {\n      \"column\": [\n        \"government_support\",\n        \"mean\"\n      ],\n      \"properties\": {\n        \"dtype\": \"number\",\n        \"std\": 3.6424692700003307,\n        \"min\": 44.589999999999996,\n        \"max\": 54.04128205128205,\n        \"num_unique_values\": 5,\n        \"samples\": [\n          51.5362,\n          48.70126984126984,\n          54.04128205128205\n        ],\n        \"semantic_type\": \"\",\n        \"description\": \"\"\n      }\n    },\n    {\n      \"column\": [\n        \"government_support\",\n        \"median\"\n      ],\n      \"properties\": {\n        \"dtype\": \"number\",\n        \"std\": 4.22347516862595,\n        \"min\": 53.065,\n        \"max\": 62.5,\n        \"num_unique_values\": 5,\n        \"samples\": [\n          60.555,\n          53.74,\n          62.5\n        ],\n        \"semantic_type\": \"\",\n        \"description\": \"\"\n      }\n    },\n    {\n      \"column\": [\n        \"government_support\",\n        \"min\"\n      ],\n      \"properties\": {\n        \"dtype\": \"number\",\n        \"std\": 7.264800754322171,\n        \"min\": 4.4,\n        \"max\": 23.33,\n        \"num_unique_values\": 5,\n        \"samples\": [\n          4.4,\n          10.02,\n          7.69\n        ],\n        \"semantic_type\": \"\",\n        \"description\": \"\"\n      }\n    },\n    {\n      \"column\": [\n        \"nonrefundable_support\",\n        \"sum\"\n      ],\n      \"properties\": {\n        \"dtype\": \"number\",\n        \"std\": 2486653113.1520486,\n        \"min\": 183520000.0,\n        \"max\": 5968543921.0,\n        \"num_unique_values\": 5,\n        \"samples\": [\n          5968543921.0,\n          4047373947.0,\n          4549200200.0\n        ],\n        \"semantic_type\": \"\",\n        \"description\": \"\"\n      }\n    },\n    {\n      \"column\": [\n        \"total_support\",\n        \"sum\"\n      ],\n      \"properties\": {\n        \"dtype\": \"number\",\n        \"std\": 3192247758.9343376,\n        \"min\": 183520000.0,\n        \"max\": 7536043921.0,\n        \"num_unique_values\": 5,\n        \"samples\": [\n          7536043921.0,\n          5480373947.0,\n          5384353319.0\n        ],\n        \"semantic_type\": \"\",\n        \"description\": \"\"\n      }\n    }\n  ]\n}"
            }
          },
          "metadata": {},
          "execution_count": 50
        }
      ],
      "source": [
        "supported_movies.pivot_table(\n",
        "    index=['age_restriction'], values=['total_support', 'government_support', 'nonrefundable_support'],\n",
        "    aggfunc={'government_support':['count', 'mean', 'median', 'min', 'max'], 'nonrefundable_support':'sum', 'total_support':'sum'})"
      ]
    },
    {
      "cell_type": "markdown",
      "metadata": {
        "id": "pM2CY619bL1Q"
      },
      "source": [
        "Медианные и средние значения в долевом соотшении примерно на одном и том же уровне, тоже самое и с минимальными/максимальными значениями. Разве что больше всего средств было выделено за данный период на категорию `12+` - `7,5` млрд. рублей."
      ]
    },
    {
      "cell_type": "markdown",
      "metadata": {
        "id": "Q9P_1mU-bL1Q"
      },
      "source": [
        "Посмотрим как обстоят дела с окупаемостью российского кинематоргафа, поддерживаемого государством."
      ]
    },
    {
      "cell_type": "code",
      "execution_count": null,
      "metadata": {
        "id": "qM6jj5ANbL1Q",
        "outputId": "7625ef62-2b05-4a9a-b2ef-bc965e4ac0b9",
        "colab": {
          "base_uri": "https://localhost:8080/",
          "height": 206
        }
      },
      "outputs": [
        {
          "output_type": "execute_result",
          "data": {
            "text/plain": [
              "   year  profit\n",
              "0  2015   -0.33\n",
              "1  2016   -0.22\n",
              "2  2017    0.54\n",
              "3  2018    0.38\n",
              "4  2019   -0.26"
            ],
            "text/html": [
              "\n",
              "  <div id=\"df-af74e3fc-d983-4caf-89d3-9d0228d89020\" class=\"colab-df-container\">\n",
              "    <div>\n",
              "<style scoped>\n",
              "    .dataframe tbody tr th:only-of-type {\n",
              "        vertical-align: middle;\n",
              "    }\n",
              "\n",
              "    .dataframe tbody tr th {\n",
              "        vertical-align: top;\n",
              "    }\n",
              "\n",
              "    .dataframe thead th {\n",
              "        text-align: right;\n",
              "    }\n",
              "</style>\n",
              "<table border=\"1\" class=\"dataframe\">\n",
              "  <thead>\n",
              "    <tr style=\"text-align: right;\">\n",
              "      <th></th>\n",
              "      <th>year</th>\n",
              "      <th>profit</th>\n",
              "    </tr>\n",
              "  </thead>\n",
              "  <tbody>\n",
              "    <tr>\n",
              "      <th>0</th>\n",
              "      <td>2015</td>\n",
              "      <td>-0.33</td>\n",
              "    </tr>\n",
              "    <tr>\n",
              "      <th>1</th>\n",
              "      <td>2016</td>\n",
              "      <td>-0.22</td>\n",
              "    </tr>\n",
              "    <tr>\n",
              "      <th>2</th>\n",
              "      <td>2017</td>\n",
              "      <td>0.54</td>\n",
              "    </tr>\n",
              "    <tr>\n",
              "      <th>3</th>\n",
              "      <td>2018</td>\n",
              "      <td>0.38</td>\n",
              "    </tr>\n",
              "    <tr>\n",
              "      <th>4</th>\n",
              "      <td>2019</td>\n",
              "      <td>-0.26</td>\n",
              "    </tr>\n",
              "  </tbody>\n",
              "</table>\n",
              "</div>\n",
              "    <div class=\"colab-df-buttons\">\n",
              "\n",
              "  <div class=\"colab-df-container\">\n",
              "    <button class=\"colab-df-convert\" onclick=\"convertToInteractive('df-af74e3fc-d983-4caf-89d3-9d0228d89020')\"\n",
              "            title=\"Convert this dataframe to an interactive table.\"\n",
              "            style=\"display:none;\">\n",
              "\n",
              "  <svg xmlns=\"http://www.w3.org/2000/svg\" height=\"24px\" viewBox=\"0 -960 960 960\">\n",
              "    <path d=\"M120-120v-720h720v720H120Zm60-500h600v-160H180v160Zm220 220h160v-160H400v160Zm0 220h160v-160H400v160ZM180-400h160v-160H180v160Zm440 0h160v-160H620v160ZM180-180h160v-160H180v160Zm440 0h160v-160H620v160Z\"/>\n",
              "  </svg>\n",
              "    </button>\n",
              "\n",
              "  <style>\n",
              "    .colab-df-container {\n",
              "      display:flex;\n",
              "      gap: 12px;\n",
              "    }\n",
              "\n",
              "    .colab-df-convert {\n",
              "      background-color: #E8F0FE;\n",
              "      border: none;\n",
              "      border-radius: 50%;\n",
              "      cursor: pointer;\n",
              "      display: none;\n",
              "      fill: #1967D2;\n",
              "      height: 32px;\n",
              "      padding: 0 0 0 0;\n",
              "      width: 32px;\n",
              "    }\n",
              "\n",
              "    .colab-df-convert:hover {\n",
              "      background-color: #E2EBFA;\n",
              "      box-shadow: 0px 1px 2px rgba(60, 64, 67, 0.3), 0px 1px 3px 1px rgba(60, 64, 67, 0.15);\n",
              "      fill: #174EA6;\n",
              "    }\n",
              "\n",
              "    .colab-df-buttons div {\n",
              "      margin-bottom: 4px;\n",
              "    }\n",
              "\n",
              "    [theme=dark] .colab-df-convert {\n",
              "      background-color: #3B4455;\n",
              "      fill: #D2E3FC;\n",
              "    }\n",
              "\n",
              "    [theme=dark] .colab-df-convert:hover {\n",
              "      background-color: #434B5C;\n",
              "      box-shadow: 0px 1px 3px 1px rgba(0, 0, 0, 0.15);\n",
              "      filter: drop-shadow(0px 1px 2px rgba(0, 0, 0, 0.3));\n",
              "      fill: #FFFFFF;\n",
              "    }\n",
              "  </style>\n",
              "\n",
              "    <script>\n",
              "      const buttonEl =\n",
              "        document.querySelector('#df-af74e3fc-d983-4caf-89d3-9d0228d89020 button.colab-df-convert');\n",
              "      buttonEl.style.display =\n",
              "        google.colab.kernel.accessAllowed ? 'block' : 'none';\n",
              "\n",
              "      async function convertToInteractive(key) {\n",
              "        const element = document.querySelector('#df-af74e3fc-d983-4caf-89d3-9d0228d89020');\n",
              "        const dataTable =\n",
              "          await google.colab.kernel.invokeFunction('convertToInteractive',\n",
              "                                                    [key], {});\n",
              "        if (!dataTable) return;\n",
              "\n",
              "        const docLinkHtml = 'Like what you see? Visit the ' +\n",
              "          '<a target=\"_blank\" href=https://colab.research.google.com/notebooks/data_table.ipynb>data table notebook</a>'\n",
              "          + ' to learn more about interactive tables.';\n",
              "        element.innerHTML = '';\n",
              "        dataTable['output_type'] = 'display_data';\n",
              "        await google.colab.output.renderOutput(dataTable, element);\n",
              "        const docLink = document.createElement('div');\n",
              "        docLink.innerHTML = docLinkHtml;\n",
              "        element.appendChild(docLink);\n",
              "      }\n",
              "    </script>\n",
              "  </div>\n",
              "\n",
              "\n",
              "<div id=\"df-36f9ab15-f528-40ed-9f52-772d7726fbe5\">\n",
              "  <button class=\"colab-df-quickchart\" onclick=\"quickchart('df-36f9ab15-f528-40ed-9f52-772d7726fbe5')\"\n",
              "            title=\"Suggest charts\"\n",
              "            style=\"display:none;\">\n",
              "\n",
              "<svg xmlns=\"http://www.w3.org/2000/svg\" height=\"24px\"viewBox=\"0 0 24 24\"\n",
              "     width=\"24px\">\n",
              "    <g>\n",
              "        <path d=\"M19 3H5c-1.1 0-2 .9-2 2v14c0 1.1.9 2 2 2h14c1.1 0 2-.9 2-2V5c0-1.1-.9-2-2-2zM9 17H7v-7h2v7zm4 0h-2V7h2v10zm4 0h-2v-4h2v4z\"/>\n",
              "    </g>\n",
              "</svg>\n",
              "  </button>\n",
              "\n",
              "<style>\n",
              "  .colab-df-quickchart {\n",
              "      --bg-color: #E8F0FE;\n",
              "      --fill-color: #1967D2;\n",
              "      --hover-bg-color: #E2EBFA;\n",
              "      --hover-fill-color: #174EA6;\n",
              "      --disabled-fill-color: #AAA;\n",
              "      --disabled-bg-color: #DDD;\n",
              "  }\n",
              "\n",
              "  [theme=dark] .colab-df-quickchart {\n",
              "      --bg-color: #3B4455;\n",
              "      --fill-color: #D2E3FC;\n",
              "      --hover-bg-color: #434B5C;\n",
              "      --hover-fill-color: #FFFFFF;\n",
              "      --disabled-bg-color: #3B4455;\n",
              "      --disabled-fill-color: #666;\n",
              "  }\n",
              "\n",
              "  .colab-df-quickchart {\n",
              "    background-color: var(--bg-color);\n",
              "    border: none;\n",
              "    border-radius: 50%;\n",
              "    cursor: pointer;\n",
              "    display: none;\n",
              "    fill: var(--fill-color);\n",
              "    height: 32px;\n",
              "    padding: 0;\n",
              "    width: 32px;\n",
              "  }\n",
              "\n",
              "  .colab-df-quickchart:hover {\n",
              "    background-color: var(--hover-bg-color);\n",
              "    box-shadow: 0 1px 2px rgba(60, 64, 67, 0.3), 0 1px 3px 1px rgba(60, 64, 67, 0.15);\n",
              "    fill: var(--button-hover-fill-color);\n",
              "  }\n",
              "\n",
              "  .colab-df-quickchart-complete:disabled,\n",
              "  .colab-df-quickchart-complete:disabled:hover {\n",
              "    background-color: var(--disabled-bg-color);\n",
              "    fill: var(--disabled-fill-color);\n",
              "    box-shadow: none;\n",
              "  }\n",
              "\n",
              "  .colab-df-spinner {\n",
              "    border: 2px solid var(--fill-color);\n",
              "    border-color: transparent;\n",
              "    border-bottom-color: var(--fill-color);\n",
              "    animation:\n",
              "      spin 1s steps(1) infinite;\n",
              "  }\n",
              "\n",
              "  @keyframes spin {\n",
              "    0% {\n",
              "      border-color: transparent;\n",
              "      border-bottom-color: var(--fill-color);\n",
              "      border-left-color: var(--fill-color);\n",
              "    }\n",
              "    20% {\n",
              "      border-color: transparent;\n",
              "      border-left-color: var(--fill-color);\n",
              "      border-top-color: var(--fill-color);\n",
              "    }\n",
              "    30% {\n",
              "      border-color: transparent;\n",
              "      border-left-color: var(--fill-color);\n",
              "      border-top-color: var(--fill-color);\n",
              "      border-right-color: var(--fill-color);\n",
              "    }\n",
              "    40% {\n",
              "      border-color: transparent;\n",
              "      border-right-color: var(--fill-color);\n",
              "      border-top-color: var(--fill-color);\n",
              "    }\n",
              "    60% {\n",
              "      border-color: transparent;\n",
              "      border-right-color: var(--fill-color);\n",
              "    }\n",
              "    80% {\n",
              "      border-color: transparent;\n",
              "      border-right-color: var(--fill-color);\n",
              "      border-bottom-color: var(--fill-color);\n",
              "    }\n",
              "    90% {\n",
              "      border-color: transparent;\n",
              "      border-bottom-color: var(--fill-color);\n",
              "    }\n",
              "  }\n",
              "</style>\n",
              "\n",
              "  <script>\n",
              "    async function quickchart(key) {\n",
              "      const quickchartButtonEl =\n",
              "        document.querySelector('#' + key + ' button');\n",
              "      quickchartButtonEl.disabled = true;  // To prevent multiple clicks.\n",
              "      quickchartButtonEl.classList.add('colab-df-spinner');\n",
              "      try {\n",
              "        const charts = await google.colab.kernel.invokeFunction(\n",
              "            'suggestCharts', [key], {});\n",
              "      } catch (error) {\n",
              "        console.error('Error during call to suggestCharts:', error);\n",
              "      }\n",
              "      quickchartButtonEl.classList.remove('colab-df-spinner');\n",
              "      quickchartButtonEl.classList.add('colab-df-quickchart-complete');\n",
              "    }\n",
              "    (() => {\n",
              "      let quickchartButtonEl =\n",
              "        document.querySelector('#df-36f9ab15-f528-40ed-9f52-772d7726fbe5 button');\n",
              "      quickchartButtonEl.style.display =\n",
              "        google.colab.kernel.accessAllowed ? 'block' : 'none';\n",
              "    })();\n",
              "  </script>\n",
              "</div>\n",
              "    </div>\n",
              "  </div>\n"
            ],
            "application/vnd.google.colaboratory.intrinsic+json": {
              "type": "dataframe",
              "summary": "{\n  \"name\": \"pd\",\n  \"rows\": 5,\n  \"fields\": [\n    {\n      \"column\": \"year\",\n      \"properties\": {\n        \"dtype\": \"int32\",\n        \"num_unique_values\": 5,\n        \"samples\": [\n          2016,\n          2019,\n          2017\n        ],\n        \"semantic_type\": \"\",\n        \"description\": \"\"\n      }\n    },\n    {\n      \"column\": \"profit\",\n      \"properties\": {\n        \"dtype\": \"number\",\n        \"std\": 0.40353725531001794,\n        \"min\": -0.33002104638680724,\n        \"max\": 0.5357403742543927,\n        \"num_unique_values\": 5,\n        \"samples\": [\n          -0.21980741350358063,\n          -0.25874194080304197,\n          0.5357403742543927\n        ],\n        \"semantic_type\": \"\",\n        \"description\": \"\"\n      }\n    }\n  ]\n}"
            }
          },
          "metadata": {},
          "execution_count": 51
        }
      ],
      "source": [
        "profit_s = supported_movies[(supported_movies['budget'].notna()) & (supported_movies['budget'] > 0) & (supported_movies['box_office'].notna())]\n",
        "\n",
        "def profit(row):\n",
        "    return ((row['box_office'].sum() - row['budget'].sum()) / row['budget'].sum())\n",
        "\n",
        "pd.DataFrame(profit_s.groupby('year').apply(profit).reset_index().rename(columns={0:'profit'}))"
      ]
    },
    {
      "cell_type": "markdown",
      "metadata": {
        "id": "L0yUy08QbL1Q"
      },
      "source": [
        "Самым удачным годом является `2017`, а также `2018`, в другие года денежные вливания не окупили себя."
      ]
    },
    {
      "cell_type": "code",
      "execution_count": null,
      "metadata": {
        "scrolled": true,
        "id": "LjlB5W8CbL1R",
        "outputId": "5aa785ac-5eb3-41ad-cff8-3f19cf29f532",
        "colab": {
          "base_uri": "https://localhost:8080/",
          "height": 206
        }
      },
      "outputs": [
        {
          "output_type": "execute_result",
          "data": {
            "text/plain": [
              "               government_support                           \\\n",
              "                            count   max  mean median   min   \n",
              "type                                                         \n",
              "Анимационный                   30 68.97 41.69  35.95 10.02   \n",
              "Документальный                  1  9.09  9.09   9.09  9.09   \n",
              "Художественный                280 78.47 53.03  61.56  4.40   \n",
              "\n",
              "               nonrefundable_support     total_support  \n",
              "                                 sum               sum  \n",
              "type                                                    \n",
              "Анимационный        1,600,489,465.00  2,500,489,465.00  \n",
              "Документальный          3,000,000.00      3,000,000.00  \n",
              "Художественный     14,008,148,603.00 16,976,148,603.00  "
            ],
            "text/html": [
              "\n",
              "  <div id=\"df-52a6f7c2-0aa1-4e7c-82d2-cf3f7ccf260f\" class=\"colab-df-container\">\n",
              "    <div>\n",
              "<style scoped>\n",
              "    .dataframe tbody tr th:only-of-type {\n",
              "        vertical-align: middle;\n",
              "    }\n",
              "\n",
              "    .dataframe tbody tr th {\n",
              "        vertical-align: top;\n",
              "    }\n",
              "\n",
              "    .dataframe thead tr th {\n",
              "        text-align: left;\n",
              "    }\n",
              "\n",
              "    .dataframe thead tr:last-of-type th {\n",
              "        text-align: right;\n",
              "    }\n",
              "</style>\n",
              "<table border=\"1\" class=\"dataframe\">\n",
              "  <thead>\n",
              "    <tr>\n",
              "      <th></th>\n",
              "      <th colspan=\"5\" halign=\"left\">government_support</th>\n",
              "      <th>nonrefundable_support</th>\n",
              "      <th>total_support</th>\n",
              "    </tr>\n",
              "    <tr>\n",
              "      <th></th>\n",
              "      <th>count</th>\n",
              "      <th>max</th>\n",
              "      <th>mean</th>\n",
              "      <th>median</th>\n",
              "      <th>min</th>\n",
              "      <th>sum</th>\n",
              "      <th>sum</th>\n",
              "    </tr>\n",
              "    <tr>\n",
              "      <th>type</th>\n",
              "      <th></th>\n",
              "      <th></th>\n",
              "      <th></th>\n",
              "      <th></th>\n",
              "      <th></th>\n",
              "      <th></th>\n",
              "      <th></th>\n",
              "    </tr>\n",
              "  </thead>\n",
              "  <tbody>\n",
              "    <tr>\n",
              "      <th>Анимационный</th>\n",
              "      <td>30</td>\n",
              "      <td>68.97</td>\n",
              "      <td>41.69</td>\n",
              "      <td>35.95</td>\n",
              "      <td>10.02</td>\n",
              "      <td>1,600,489,465.00</td>\n",
              "      <td>2,500,489,465.00</td>\n",
              "    </tr>\n",
              "    <tr>\n",
              "      <th>Документальный</th>\n",
              "      <td>1</td>\n",
              "      <td>9.09</td>\n",
              "      <td>9.09</td>\n",
              "      <td>9.09</td>\n",
              "      <td>9.09</td>\n",
              "      <td>3,000,000.00</td>\n",
              "      <td>3,000,000.00</td>\n",
              "    </tr>\n",
              "    <tr>\n",
              "      <th>Художественный</th>\n",
              "      <td>280</td>\n",
              "      <td>78.47</td>\n",
              "      <td>53.03</td>\n",
              "      <td>61.56</td>\n",
              "      <td>4.40</td>\n",
              "      <td>14,008,148,603.00</td>\n",
              "      <td>16,976,148,603.00</td>\n",
              "    </tr>\n",
              "  </tbody>\n",
              "</table>\n",
              "</div>\n",
              "    <div class=\"colab-df-buttons\">\n",
              "\n",
              "  <div class=\"colab-df-container\">\n",
              "    <button class=\"colab-df-convert\" onclick=\"convertToInteractive('df-52a6f7c2-0aa1-4e7c-82d2-cf3f7ccf260f')\"\n",
              "            title=\"Convert this dataframe to an interactive table.\"\n",
              "            style=\"display:none;\">\n",
              "\n",
              "  <svg xmlns=\"http://www.w3.org/2000/svg\" height=\"24px\" viewBox=\"0 -960 960 960\">\n",
              "    <path d=\"M120-120v-720h720v720H120Zm60-500h600v-160H180v160Zm220 220h160v-160H400v160Zm0 220h160v-160H400v160ZM180-400h160v-160H180v160Zm440 0h160v-160H620v160ZM180-180h160v-160H180v160Zm440 0h160v-160H620v160Z\"/>\n",
              "  </svg>\n",
              "    </button>\n",
              "\n",
              "  <style>\n",
              "    .colab-df-container {\n",
              "      display:flex;\n",
              "      gap: 12px;\n",
              "    }\n",
              "\n",
              "    .colab-df-convert {\n",
              "      background-color: #E8F0FE;\n",
              "      border: none;\n",
              "      border-radius: 50%;\n",
              "      cursor: pointer;\n",
              "      display: none;\n",
              "      fill: #1967D2;\n",
              "      height: 32px;\n",
              "      padding: 0 0 0 0;\n",
              "      width: 32px;\n",
              "    }\n",
              "\n",
              "    .colab-df-convert:hover {\n",
              "      background-color: #E2EBFA;\n",
              "      box-shadow: 0px 1px 2px rgba(60, 64, 67, 0.3), 0px 1px 3px 1px rgba(60, 64, 67, 0.15);\n",
              "      fill: #174EA6;\n",
              "    }\n",
              "\n",
              "    .colab-df-buttons div {\n",
              "      margin-bottom: 4px;\n",
              "    }\n",
              "\n",
              "    [theme=dark] .colab-df-convert {\n",
              "      background-color: #3B4455;\n",
              "      fill: #D2E3FC;\n",
              "    }\n",
              "\n",
              "    [theme=dark] .colab-df-convert:hover {\n",
              "      background-color: #434B5C;\n",
              "      box-shadow: 0px 1px 3px 1px rgba(0, 0, 0, 0.15);\n",
              "      filter: drop-shadow(0px 1px 2px rgba(0, 0, 0, 0.3));\n",
              "      fill: #FFFFFF;\n",
              "    }\n",
              "  </style>\n",
              "\n",
              "    <script>\n",
              "      const buttonEl =\n",
              "        document.querySelector('#df-52a6f7c2-0aa1-4e7c-82d2-cf3f7ccf260f button.colab-df-convert');\n",
              "      buttonEl.style.display =\n",
              "        google.colab.kernel.accessAllowed ? 'block' : 'none';\n",
              "\n",
              "      async function convertToInteractive(key) {\n",
              "        const element = document.querySelector('#df-52a6f7c2-0aa1-4e7c-82d2-cf3f7ccf260f');\n",
              "        const dataTable =\n",
              "          await google.colab.kernel.invokeFunction('convertToInteractive',\n",
              "                                                    [key], {});\n",
              "        if (!dataTable) return;\n",
              "\n",
              "        const docLinkHtml = 'Like what you see? Visit the ' +\n",
              "          '<a target=\"_blank\" href=https://colab.research.google.com/notebooks/data_table.ipynb>data table notebook</a>'\n",
              "          + ' to learn more about interactive tables.';\n",
              "        element.innerHTML = '';\n",
              "        dataTable['output_type'] = 'display_data';\n",
              "        await google.colab.output.renderOutput(dataTable, element);\n",
              "        const docLink = document.createElement('div');\n",
              "        docLink.innerHTML = docLinkHtml;\n",
              "        element.appendChild(docLink);\n",
              "      }\n",
              "    </script>\n",
              "  </div>\n",
              "\n",
              "\n",
              "<div id=\"df-f9b6bdae-e08f-4ae9-b171-c53f0a719bf7\">\n",
              "  <button class=\"colab-df-quickchart\" onclick=\"quickchart('df-f9b6bdae-e08f-4ae9-b171-c53f0a719bf7')\"\n",
              "            title=\"Suggest charts\"\n",
              "            style=\"display:none;\">\n",
              "\n",
              "<svg xmlns=\"http://www.w3.org/2000/svg\" height=\"24px\"viewBox=\"0 0 24 24\"\n",
              "     width=\"24px\">\n",
              "    <g>\n",
              "        <path d=\"M19 3H5c-1.1 0-2 .9-2 2v14c0 1.1.9 2 2 2h14c1.1 0 2-.9 2-2V5c0-1.1-.9-2-2-2zM9 17H7v-7h2v7zm4 0h-2V7h2v10zm4 0h-2v-4h2v4z\"/>\n",
              "    </g>\n",
              "</svg>\n",
              "  </button>\n",
              "\n",
              "<style>\n",
              "  .colab-df-quickchart {\n",
              "      --bg-color: #E8F0FE;\n",
              "      --fill-color: #1967D2;\n",
              "      --hover-bg-color: #E2EBFA;\n",
              "      --hover-fill-color: #174EA6;\n",
              "      --disabled-fill-color: #AAA;\n",
              "      --disabled-bg-color: #DDD;\n",
              "  }\n",
              "\n",
              "  [theme=dark] .colab-df-quickchart {\n",
              "      --bg-color: #3B4455;\n",
              "      --fill-color: #D2E3FC;\n",
              "      --hover-bg-color: #434B5C;\n",
              "      --hover-fill-color: #FFFFFF;\n",
              "      --disabled-bg-color: #3B4455;\n",
              "      --disabled-fill-color: #666;\n",
              "  }\n",
              "\n",
              "  .colab-df-quickchart {\n",
              "    background-color: var(--bg-color);\n",
              "    border: none;\n",
              "    border-radius: 50%;\n",
              "    cursor: pointer;\n",
              "    display: none;\n",
              "    fill: var(--fill-color);\n",
              "    height: 32px;\n",
              "    padding: 0;\n",
              "    width: 32px;\n",
              "  }\n",
              "\n",
              "  .colab-df-quickchart:hover {\n",
              "    background-color: var(--hover-bg-color);\n",
              "    box-shadow: 0 1px 2px rgba(60, 64, 67, 0.3), 0 1px 3px 1px rgba(60, 64, 67, 0.15);\n",
              "    fill: var(--button-hover-fill-color);\n",
              "  }\n",
              "\n",
              "  .colab-df-quickchart-complete:disabled,\n",
              "  .colab-df-quickchart-complete:disabled:hover {\n",
              "    background-color: var(--disabled-bg-color);\n",
              "    fill: var(--disabled-fill-color);\n",
              "    box-shadow: none;\n",
              "  }\n",
              "\n",
              "  .colab-df-spinner {\n",
              "    border: 2px solid var(--fill-color);\n",
              "    border-color: transparent;\n",
              "    border-bottom-color: var(--fill-color);\n",
              "    animation:\n",
              "      spin 1s steps(1) infinite;\n",
              "  }\n",
              "\n",
              "  @keyframes spin {\n",
              "    0% {\n",
              "      border-color: transparent;\n",
              "      border-bottom-color: var(--fill-color);\n",
              "      border-left-color: var(--fill-color);\n",
              "    }\n",
              "    20% {\n",
              "      border-color: transparent;\n",
              "      border-left-color: var(--fill-color);\n",
              "      border-top-color: var(--fill-color);\n",
              "    }\n",
              "    30% {\n",
              "      border-color: transparent;\n",
              "      border-left-color: var(--fill-color);\n",
              "      border-top-color: var(--fill-color);\n",
              "      border-right-color: var(--fill-color);\n",
              "    }\n",
              "    40% {\n",
              "      border-color: transparent;\n",
              "      border-right-color: var(--fill-color);\n",
              "      border-top-color: var(--fill-color);\n",
              "    }\n",
              "    60% {\n",
              "      border-color: transparent;\n",
              "      border-right-color: var(--fill-color);\n",
              "    }\n",
              "    80% {\n",
              "      border-color: transparent;\n",
              "      border-right-color: var(--fill-color);\n",
              "      border-bottom-color: var(--fill-color);\n",
              "    }\n",
              "    90% {\n",
              "      border-color: transparent;\n",
              "      border-bottom-color: var(--fill-color);\n",
              "    }\n",
              "  }\n",
              "</style>\n",
              "\n",
              "  <script>\n",
              "    async function quickchart(key) {\n",
              "      const quickchartButtonEl =\n",
              "        document.querySelector('#' + key + ' button');\n",
              "      quickchartButtonEl.disabled = true;  // To prevent multiple clicks.\n",
              "      quickchartButtonEl.classList.add('colab-df-spinner');\n",
              "      try {\n",
              "        const charts = await google.colab.kernel.invokeFunction(\n",
              "            'suggestCharts', [key], {});\n",
              "      } catch (error) {\n",
              "        console.error('Error during call to suggestCharts:', error);\n",
              "      }\n",
              "      quickchartButtonEl.classList.remove('colab-df-spinner');\n",
              "      quickchartButtonEl.classList.add('colab-df-quickchart-complete');\n",
              "    }\n",
              "    (() => {\n",
              "      let quickchartButtonEl =\n",
              "        document.querySelector('#df-f9b6bdae-e08f-4ae9-b171-c53f0a719bf7 button');\n",
              "      quickchartButtonEl.style.display =\n",
              "        google.colab.kernel.accessAllowed ? 'block' : 'none';\n",
              "    })();\n",
              "  </script>\n",
              "</div>\n",
              "    </div>\n",
              "  </div>\n"
            ],
            "application/vnd.google.colaboratory.intrinsic+json": {
              "type": "dataframe",
              "summary": "{\n  \"name\": \"    aggfunc={'government_support':['count', 'mean', 'median', 'min', 'max'], 'nonrefundable_support':'sum', 'total_support':'sum'})\",\n  \"rows\": 3,\n  \"fields\": [\n    {\n      \"column\": [\n        \"type\",\n        \"\"\n      ],\n      \"properties\": {\n        \"dtype\": \"string\",\n        \"num_unique_values\": 3,\n        \"samples\": [\n          \"\\u0410\\u043d\\u0438\\u043c\\u0430\\u0446\\u0438\\u043e\\u043d\\u043d\\u044b\\u0439\",\n          \"\\u0414\\u043e\\u043a\\u0443\\u043c\\u0435\\u043d\\u0442\\u0430\\u043b\\u044c\\u043d\\u044b\\u0439\",\n          \"\\u0425\\u0443\\u0434\\u043e\\u0436\\u0435\\u0441\\u0442\\u0432\\u0435\\u043d\\u043d\\u044b\\u0439\"\n        ],\n        \"semantic_type\": \"\",\n        \"description\": \"\"\n      }\n    },\n    {\n      \"column\": [\n        \"government_support\",\n        \"count\"\n      ],\n      \"properties\": {\n        \"dtype\": \"number\",\n        \"std\": 153,\n        \"min\": 1,\n        \"max\": 280,\n        \"num_unique_values\": 3,\n        \"samples\": [\n          30,\n          1,\n          280\n        ],\n        \"semantic_type\": \"\",\n        \"description\": \"\"\n      }\n    },\n    {\n      \"column\": [\n        \"government_support\",\n        \"max\"\n      ],\n      \"properties\": {\n        \"dtype\": \"number\",\n        \"std\": 37.615264631972664,\n        \"min\": 9.09,\n        \"max\": 78.47,\n        \"num_unique_values\": 3,\n        \"samples\": [\n          68.97,\n          9.09,\n          78.47\n        ],\n        \"semantic_type\": \"\",\n        \"description\": \"\"\n      }\n    },\n    {\n      \"column\": [\n        \"government_support\",\n        \"mean\"\n      ],\n      \"properties\": {\n        \"dtype\": \"number\",\n        \"std\": 22.81260827688507,\n        \"min\": 9.09,\n        \"max\": 53.03346428571429,\n        \"num_unique_values\": 3,\n        \"samples\": [\n          41.690666666666665,\n          9.09,\n          53.03346428571429\n        ],\n        \"semantic_type\": \"\",\n        \"description\": \"\"\n      }\n    },\n    {\n      \"column\": [\n        \"government_support\",\n        \"median\"\n      ],\n      \"properties\": {\n        \"dtype\": \"number\",\n        \"std\": 26.237521319667376,\n        \"min\": 9.09,\n        \"max\": 61.56,\n        \"num_unique_values\": 3,\n        \"samples\": [\n          35.955,\n          9.09,\n          61.56\n        ],\n        \"semantic_type\": \"\",\n        \"description\": \"\"\n      }\n    },\n    {\n      \"column\": [\n        \"government_support\",\n        \"min\"\n      ],\n      \"properties\": {\n        \"dtype\": \"number\",\n        \"std\": 3.0123468149157944,\n        \"min\": 4.4,\n        \"max\": 10.02,\n        \"num_unique_values\": 3,\n        \"samples\": [\n          10.02,\n          9.09,\n          4.4\n        ],\n        \"semantic_type\": \"\",\n        \"description\": \"\"\n      }\n    },\n    {\n      \"column\": [\n        \"nonrefundable_support\",\n        \"sum\"\n      ],\n      \"properties\": {\n        \"dtype\": \"number\",\n        \"std\": 7666443822.134808,\n        \"min\": 3000000.0,\n        \"max\": 14008148603.0,\n        \"num_unique_values\": 3,\n        \"samples\": [\n          1600489465.0,\n          3000000.0,\n          14008148603.0\n        ],\n        \"semantic_type\": \"\",\n        \"description\": \"\"\n      }\n    },\n    {\n      \"column\": [\n        \"total_support\",\n        \"sum\"\n      ],\n      \"properties\": {\n        \"dtype\": \"number\",\n        \"std\": 9163968705.45062,\n        \"min\": 3000000.0,\n        \"max\": 16976148603.0,\n        \"num_unique_values\": 3,\n        \"samples\": [\n          2500489465.0,\n          3000000.0,\n          16976148603.0\n        ],\n        \"semantic_type\": \"\",\n        \"description\": \"\"\n      }\n    }\n  ]\n}"
            }
          },
          "metadata": {},
          "execution_count": 52
        }
      ],
      "source": [
        "supported_movies.pivot_table(\n",
        "    index=['type'], values=['total_support', 'government_support', 'nonrefundable_support'],\n",
        "    aggfunc={'government_support':['count', 'mean', 'median', 'min', 'max'], 'nonrefundable_support':'sum', 'total_support':'sum'})"
      ]
    },
    {
      "cell_type": "markdown",
      "metadata": {
        "id": "JltAzRPebL1R"
      },
      "source": [
        "Финансирование в основном приходится на художественные фильмы."
      ]
    },
    {
      "cell_type": "markdown",
      "metadata": {
        "id": "V2gYwMcPgFyd"
      },
      "source": [
        "# Результаты исследования"
      ]
    },
    {
      "cell_type": "markdown",
      "metadata": {
        "id": "FodFunyLbL1R"
      },
      "source": [
        "В данном исследовании мы изучили рынок российского кинопроката и выявили текущие тренды. Рассмотрели фильмы, которые получили государственную поддержку.\n",
        "\n",
        "Перед тем как приступить к исследованию мы провели:\n",
        "1. Предварительную обработку полученного архива данных - обработали пропущенные значения там, где это необходимо, заменили типы данных на необходимые для удобной работы.\n",
        "2. Были определены и устранены аномальные значения в данных, а также изменили типы данных.\n",
        "3. Объединенили необходимую для исследования информацию. Добавили производные данные.\n",
        "4. Провели исследовательский анализ данных и исследовали сколько фильмов выходило каждый год. Посмотрели на динамику проката. Определили влияние возрастных ограничений киноленты на сборы фильма в прокате.\n",
        "\n",
        "В ходе исследования были выявлены следующие факторы:\n",
        "1. Больше всего фильмов вышло в прокат в 2019 году, а меньше в 2010.\n",
        "2. Больше всего сборов было в 2018, а меньше в 2010.\n",
        "3. Возрастное ограничение аудитории влияет на сборы фильмов.\n",
        "4. Больше всего сборов в прокате получают фильмы с возрастным ограничением «16+».\n",
        "5. В 2017 году доля прокатных фильмов была самой большой.\n",
        "6. В целом наблюдается тренд на рост финансирования со стороны государства.\n",
        "7. Самым удачным годом для лент, получивших финансирование, является 2017.\n",
        "8. В основном государственная поддержки приходится на художественные фильмы.\n",
        "\n",
        "Окончательно выяснить насколько такие фильмы интересны зрителю можно было бы с данными по количеству проданных билетов, однако, даже без этих данных видно что в целом российское кино не является сильно убыточным. Скорее всего программа государственной поддержки рассчитана не на закрытие дефицита бюджета, а является опорой для развития российского кинематографа. Также хотелось бы отметить, что российский кинематограф пытается соответствовать трендам, исходя из схожей тенденции относительно возрастной категории 12+."
      ]
    }
  ],
  "metadata": {
    "ExecuteTimeLog": [
      {
        "duration": 537,
        "start_time": "2021-07-07T10:12:08.634Z"
      },
      {
        "duration": 206,
        "start_time": "2021-07-07T10:12:30.191Z"
      },
      {
        "duration": 227,
        "start_time": "2021-07-07T10:12:33.078Z"
      },
      {
        "duration": 153,
        "start_time": "2021-07-07T10:13:42.146Z"
      },
      {
        "duration": 233,
        "start_time": "2021-07-07T10:30:09.252Z"
      },
      {
        "duration": 19,
        "start_time": "2021-07-07T10:30:15.577Z"
      },
      {
        "duration": 18,
        "start_time": "2021-07-07T10:30:57.348Z"
      },
      {
        "duration": 19,
        "start_time": "2021-07-07T10:31:17.452Z"
      },
      {
        "duration": 21,
        "start_time": "2021-07-07T10:31:32.227Z"
      },
      {
        "duration": 27,
        "start_time": "2021-07-07T10:32:06.588Z"
      },
      {
        "duration": 23,
        "start_time": "2021-07-07T10:32:43.645Z"
      },
      {
        "duration": 24,
        "start_time": "2021-07-07T10:33:06.948Z"
      },
      {
        "duration": 7,
        "start_time": "2021-07-07T10:33:28.558Z"
      },
      {
        "duration": 23,
        "start_time": "2021-07-07T10:33:43.761Z"
      },
      {
        "duration": 28,
        "start_time": "2021-07-07T10:34:13.466Z"
      },
      {
        "duration": 23,
        "start_time": "2021-07-07T10:35:56.187Z"
      },
      {
        "duration": 6,
        "start_time": "2021-07-07T10:36:48.182Z"
      },
      {
        "duration": 14,
        "start_time": "2021-07-07T10:37:49.641Z"
      },
      {
        "duration": 6,
        "start_time": "2021-07-07T10:38:06.694Z"
      },
      {
        "duration": 6,
        "start_time": "2021-07-07T10:38:13.493Z"
      },
      {
        "duration": 19,
        "start_time": "2021-07-07T10:38:44.056Z"
      },
      {
        "duration": 186,
        "start_time": "2021-07-07T10:48:35.618Z"
      },
      {
        "duration": 24,
        "start_time": "2021-07-07T10:48:51.498Z"
      },
      {
        "duration": 20,
        "start_time": "2021-07-07T10:48:59.415Z"
      },
      {
        "duration": 20,
        "start_time": "2021-07-07T10:53:02.195Z"
      },
      {
        "duration": 188,
        "start_time": "2021-07-07T10:54:40.486Z"
      },
      {
        "duration": 115,
        "start_time": "2021-07-07T10:54:52.552Z"
      },
      {
        "duration": 214,
        "start_time": "2021-07-07T10:54:56.354Z"
      },
      {
        "duration": 47,
        "start_time": "2021-07-07T10:54:58.282Z"
      },
      {
        "duration": 217,
        "start_time": "2021-07-07T10:59:16.075Z"
      },
      {
        "duration": 51,
        "start_time": "2021-07-07T10:59:16.243Z"
      },
      {
        "duration": 578,
        "start_time": "2021-07-07T10:59:18.774Z"
      },
      {
        "duration": 161,
        "start_time": "2021-07-07T10:59:21.238Z"
      },
      {
        "duration": 59,
        "start_time": "2021-07-07T10:59:21.453Z"
      },
      {
        "duration": 3,
        "start_time": "2021-07-07T11:02:10.786Z"
      },
      {
        "duration": 13,
        "start_time": "2021-07-07T11:07:07.722Z"
      },
      {
        "duration": 26,
        "start_time": "2021-07-07T11:07:17.958Z"
      },
      {
        "duration": 22,
        "start_time": "2021-07-07T11:08:17.939Z"
      },
      {
        "duration": 212,
        "start_time": "2021-07-07T11:08:19.665Z"
      },
      {
        "duration": 21,
        "start_time": "2021-07-07T11:08:29.945Z"
      },
      {
        "duration": 31,
        "start_time": "2021-07-07T11:08:38.899Z"
      },
      {
        "duration": 23,
        "start_time": "2021-07-07T11:08:54.527Z"
      },
      {
        "duration": 8,
        "start_time": "2021-07-07T11:18:55.974Z"
      },
      {
        "duration": 7,
        "start_time": "2021-07-07T11:19:03.639Z"
      },
      {
        "duration": 7,
        "start_time": "2021-07-07T11:19:06.444Z"
      },
      {
        "duration": 578,
        "start_time": "2021-07-07T12:09:59.576Z"
      },
      {
        "duration": 195,
        "start_time": "2021-07-07T12:10:00.156Z"
      },
      {
        "duration": 115,
        "start_time": "2021-07-07T12:10:00.353Z"
      },
      {
        "duration": 3,
        "start_time": "2021-07-07T12:10:00.470Z"
      },
      {
        "duration": 32,
        "start_time": "2021-07-07T12:10:00.474Z"
      },
      {
        "duration": 23,
        "start_time": "2021-07-07T12:10:00.508Z"
      },
      {
        "duration": 19,
        "start_time": "2021-07-07T12:10:00.533Z"
      },
      {
        "duration": 44,
        "start_time": "2021-07-07T12:10:00.553Z"
      },
      {
        "duration": 7,
        "start_time": "2021-07-07T12:10:00.600Z"
      },
      {
        "duration": 7,
        "start_time": "2021-07-07T12:19:45.761Z"
      },
      {
        "duration": 21,
        "start_time": "2021-07-07T12:21:35.482Z"
      },
      {
        "duration": 21,
        "start_time": "2021-07-07T12:29:23.569Z"
      },
      {
        "duration": 525,
        "start_time": "2021-07-07T12:29:44.542Z"
      },
      {
        "duration": 214,
        "start_time": "2021-07-07T12:29:45.069Z"
      },
      {
        "duration": 92,
        "start_time": "2021-07-07T12:29:45.285Z"
      },
      {
        "duration": 3,
        "start_time": "2021-07-07T12:29:45.379Z"
      },
      {
        "duration": 28,
        "start_time": "2021-07-07T12:29:45.384Z"
      },
      {
        "duration": 23,
        "start_time": "2021-07-07T12:29:45.413Z"
      },
      {
        "duration": 21,
        "start_time": "2021-07-07T12:29:45.437Z"
      },
      {
        "duration": 41,
        "start_time": "2021-07-07T12:29:45.460Z"
      },
      {
        "duration": 7,
        "start_time": "2021-07-07T12:29:45.502Z"
      },
      {
        "duration": 20,
        "start_time": "2021-07-07T12:29:45.511Z"
      },
      {
        "duration": 12,
        "start_time": "2021-07-07T12:34:02.800Z"
      },
      {
        "duration": 7,
        "start_time": "2021-07-07T12:35:10.479Z"
      },
      {
        "duration": 8,
        "start_time": "2021-07-07T12:35:22.440Z"
      },
      {
        "duration": 6,
        "start_time": "2021-07-07T12:35:35.649Z"
      },
      {
        "duration": 6,
        "start_time": "2021-07-07T12:35:43.107Z"
      },
      {
        "duration": 22,
        "start_time": "2021-07-07T12:38:03.029Z"
      },
      {
        "duration": 10,
        "start_time": "2021-07-07T12:38:06.592Z"
      },
      {
        "duration": 563,
        "start_time": "2021-07-07T12:38:46.493Z"
      },
      {
        "duration": 265,
        "start_time": "2021-07-07T12:38:47.058Z"
      },
      {
        "duration": 94,
        "start_time": "2021-07-07T12:38:47.325Z"
      },
      {
        "duration": 3,
        "start_time": "2021-07-07T12:38:47.422Z"
      },
      {
        "duration": 30,
        "start_time": "2021-07-07T12:38:47.427Z"
      },
      {
        "duration": 16,
        "start_time": "2021-07-07T12:38:53.305Z"
      },
      {
        "duration": 10,
        "start_time": "2021-07-07T12:38:53.499Z"
      },
      {
        "duration": 8,
        "start_time": "2021-07-07T12:39:48.161Z"
      },
      {
        "duration": 27,
        "start_time": "2021-07-07T12:41:17.629Z"
      },
      {
        "duration": 17,
        "start_time": "2021-07-07T12:41:17.867Z"
      },
      {
        "duration": 21,
        "start_time": "2021-07-07T12:41:19.310Z"
      },
      {
        "duration": 7,
        "start_time": "2021-07-07T12:41:19.544Z"
      },
      {
        "duration": 20,
        "start_time": "2021-07-07T12:41:20.504Z"
      },
      {
        "duration": 554,
        "start_time": "2021-07-07T12:56:23.696Z"
      },
      {
        "duration": 200,
        "start_time": "2021-07-07T12:56:25.234Z"
      },
      {
        "duration": 119,
        "start_time": "2021-07-07T12:56:25.480Z"
      },
      {
        "duration": 4,
        "start_time": "2021-07-07T12:56:25.762Z"
      },
      {
        "duration": 26,
        "start_time": "2021-07-07T12:56:27.172Z"
      },
      {
        "duration": 12,
        "start_time": "2021-07-07T12:56:29.051Z"
      },
      {
        "duration": 10,
        "start_time": "2021-07-07T12:56:29.291Z"
      },
      {
        "duration": 8,
        "start_time": "2021-07-07T12:56:29.623Z"
      },
      {
        "duration": 28,
        "start_time": "2021-07-07T12:56:32.137Z"
      },
      {
        "duration": 19,
        "start_time": "2021-07-07T12:56:39.785Z"
      },
      {
        "duration": 20,
        "start_time": "2021-07-07T12:56:44.297Z"
      },
      {
        "duration": 7,
        "start_time": "2021-07-07T12:56:45.392Z"
      },
      {
        "duration": 23,
        "start_time": "2021-07-07T12:56:46.615Z"
      },
      {
        "duration": 4,
        "start_time": "2021-07-07T12:57:06.625Z"
      },
      {
        "duration": 32,
        "start_time": "2021-07-07T12:57:36.690Z"
      },
      {
        "duration": 18,
        "start_time": "2021-07-07T12:58:00.149Z"
      },
      {
        "duration": 15,
        "start_time": "2021-07-07T12:59:16.793Z"
      },
      {
        "duration": 7,
        "start_time": "2021-07-07T13:19:22.624Z"
      },
      {
        "duration": 6,
        "start_time": "2021-07-07T14:17:33.527Z"
      },
      {
        "duration": 9,
        "start_time": "2021-07-07T14:17:48.409Z"
      },
      {
        "duration": 8,
        "start_time": "2021-07-07T14:20:13.060Z"
      },
      {
        "duration": 8,
        "start_time": "2021-07-07T14:20:37.957Z"
      },
      {
        "duration": 8,
        "start_time": "2021-07-07T14:20:47.470Z"
      },
      {
        "duration": 9,
        "start_time": "2021-07-07T14:20:54.503Z"
      },
      {
        "duration": 10,
        "start_time": "2021-07-07T14:28:57.763Z"
      },
      {
        "duration": 3,
        "start_time": "2021-07-07T14:30:23.377Z"
      },
      {
        "duration": 3,
        "start_time": "2021-07-07T14:30:36.489Z"
      },
      {
        "duration": 103,
        "start_time": "2021-07-07T14:30:52.351Z"
      },
      {
        "duration": 8,
        "start_time": "2021-07-07T14:30:54.763Z"
      },
      {
        "duration": 8,
        "start_time": "2021-07-07T14:31:29.301Z"
      },
      {
        "duration": 13,
        "start_time": "2021-07-07T14:31:44.516Z"
      },
      {
        "duration": 7,
        "start_time": "2021-07-07T14:33:10.972Z"
      },
      {
        "duration": 11,
        "start_time": "2021-07-07T14:33:27.780Z"
      },
      {
        "duration": 8,
        "start_time": "2021-07-07T14:34:44.588Z"
      },
      {
        "duration": 57,
        "start_time": "2021-07-07T14:35:59.042Z"
      },
      {
        "duration": 3,
        "start_time": "2021-07-07T14:36:28.168Z"
      },
      {
        "duration": 5,
        "start_time": "2021-07-07T14:36:46.254Z"
      },
      {
        "duration": 4,
        "start_time": "2021-07-07T14:36:52.714Z"
      },
      {
        "duration": 3,
        "start_time": "2021-07-07T14:36:56.612Z"
      },
      {
        "duration": 4,
        "start_time": "2021-07-07T14:36:57.049Z"
      },
      {
        "duration": 3,
        "start_time": "2021-07-07T14:39:21.214Z"
      },
      {
        "duration": 7,
        "start_time": "2021-07-07T14:39:52.406Z"
      },
      {
        "duration": 11,
        "start_time": "2021-07-07T14:39:58.576Z"
      },
      {
        "duration": 9,
        "start_time": "2021-07-07T14:40:26.301Z"
      },
      {
        "duration": 10,
        "start_time": "2021-07-07T14:40:31.704Z"
      },
      {
        "duration": 11,
        "start_time": "2021-07-07T14:40:36.249Z"
      },
      {
        "duration": 10,
        "start_time": "2021-07-07T14:40:39.783Z"
      },
      {
        "duration": 9,
        "start_time": "2021-07-07T14:40:48.558Z"
      },
      {
        "duration": 10,
        "start_time": "2021-07-07T14:40:57.143Z"
      },
      {
        "duration": 9,
        "start_time": "2021-07-07T14:41:06.074Z"
      },
      {
        "duration": 4324,
        "start_time": "2021-07-07T14:41:22.004Z"
      },
      {
        "duration": 11,
        "start_time": "2021-07-07T14:41:33.392Z"
      },
      {
        "duration": 9,
        "start_time": "2021-07-07T14:41:39.288Z"
      },
      {
        "duration": 569,
        "start_time": "2021-07-07T14:42:14.387Z"
      },
      {
        "duration": 197,
        "start_time": "2021-07-07T14:42:14.959Z"
      },
      {
        "duration": 84,
        "start_time": "2021-07-07T14:42:16.052Z"
      },
      {
        "duration": 4,
        "start_time": "2021-07-07T14:42:16.900Z"
      },
      {
        "duration": 27,
        "start_time": "2021-07-07T14:42:19.898Z"
      },
      {
        "duration": 12,
        "start_time": "2021-07-07T14:42:21.577Z"
      },
      {
        "duration": 9,
        "start_time": "2021-07-07T14:42:21.813Z"
      },
      {
        "duration": 9,
        "start_time": "2021-07-07T14:42:22.569Z"
      },
      {
        "duration": 29,
        "start_time": "2021-07-07T14:42:25.837Z"
      },
      {
        "duration": 20,
        "start_time": "2021-07-07T14:42:27.003Z"
      },
      {
        "duration": 21,
        "start_time": "2021-07-07T14:42:28.767Z"
      },
      {
        "duration": 7,
        "start_time": "2021-07-07T14:42:29.838Z"
      },
      {
        "duration": 4,
        "start_time": "2021-07-07T14:43:25.493Z"
      },
      {
        "duration": 7,
        "start_time": "2021-07-07T14:43:26.573Z"
      },
      {
        "duration": 10,
        "start_time": "2021-07-07T14:43:31.639Z"
      },
      {
        "duration": 9,
        "start_time": "2021-07-07T14:43:32.046Z"
      },
      {
        "duration": 10,
        "start_time": "2021-07-07T14:43:33.301Z"
      },
      {
        "duration": 12,
        "start_time": "2021-07-07T14:43:33.658Z"
      },
      {
        "duration": 8,
        "start_time": "2021-07-07T14:43:34.552Z"
      },
      {
        "duration": 9,
        "start_time": "2021-07-07T14:43:35.058Z"
      },
      {
        "duration": 12,
        "start_time": "2021-07-07T14:43:35.914Z"
      },
      {
        "duration": 17,
        "start_time": "2021-07-07T14:45:34.368Z"
      },
      {
        "duration": 512,
        "start_time": "2021-07-07T14:51:58.236Z"
      },
      {
        "duration": 223,
        "start_time": "2021-07-07T14:51:58.750Z"
      },
      {
        "duration": 93,
        "start_time": "2021-07-07T14:51:58.977Z"
      },
      {
        "duration": 4,
        "start_time": "2021-07-07T14:51:59.071Z"
      },
      {
        "duration": 37,
        "start_time": "2021-07-07T14:51:59.077Z"
      },
      {
        "duration": 18,
        "start_time": "2021-07-07T14:51:59.116Z"
      },
      {
        "duration": 10,
        "start_time": "2021-07-07T14:51:59.137Z"
      },
      {
        "duration": 8,
        "start_time": "2021-07-07T14:51:59.149Z"
      },
      {
        "duration": 54,
        "start_time": "2021-07-07T14:51:59.158Z"
      },
      {
        "duration": 18,
        "start_time": "2021-07-07T14:51:59.213Z"
      },
      {
        "duration": 22,
        "start_time": "2021-07-07T14:51:59.232Z"
      },
      {
        "duration": 36,
        "start_time": "2021-07-07T14:51:59.255Z"
      },
      {
        "duration": 7,
        "start_time": "2021-07-07T14:51:59.293Z"
      },
      {
        "duration": 10,
        "start_time": "2021-07-07T14:51:59.302Z"
      },
      {
        "duration": 9,
        "start_time": "2021-07-07T14:51:59.313Z"
      },
      {
        "duration": 11,
        "start_time": "2021-07-07T14:51:59.324Z"
      },
      {
        "duration": 8,
        "start_time": "2021-07-07T14:51:59.337Z"
      },
      {
        "duration": 46,
        "start_time": "2021-07-07T14:51:59.347Z"
      },
      {
        "duration": 22,
        "start_time": "2021-07-07T14:51:59.395Z"
      },
      {
        "duration": 24,
        "start_time": "2021-07-07T14:57:32.911Z"
      },
      {
        "duration": 7,
        "start_time": "2021-07-07T14:58:22.070Z"
      },
      {
        "duration": 4,
        "start_time": "2021-07-07T14:59:11.239Z"
      },
      {
        "duration": 25,
        "start_time": "2021-07-07T15:07:22.208Z"
      },
      {
        "duration": 16,
        "start_time": "2021-07-07T15:08:25.560Z"
      },
      {
        "duration": 15,
        "start_time": "2021-07-07T15:08:40.647Z"
      },
      {
        "duration": 14,
        "start_time": "2021-07-07T15:08:46.669Z"
      },
      {
        "duration": 533,
        "start_time": "2021-07-07T15:18:07.440Z"
      },
      {
        "duration": 173,
        "start_time": "2021-07-07T15:18:07.974Z"
      },
      {
        "duration": 84,
        "start_time": "2021-07-07T15:18:08.149Z"
      },
      {
        "duration": 3,
        "start_time": "2021-07-07T15:18:08.235Z"
      },
      {
        "duration": 30,
        "start_time": "2021-07-07T15:18:08.240Z"
      },
      {
        "duration": 22,
        "start_time": "2021-07-07T15:18:08.272Z"
      },
      {
        "duration": 11,
        "start_time": "2021-07-07T15:18:08.295Z"
      },
      {
        "duration": 11,
        "start_time": "2021-07-07T15:18:08.309Z"
      },
      {
        "duration": 40,
        "start_time": "2021-07-07T15:18:08.322Z"
      },
      {
        "duration": 42,
        "start_time": "2021-07-07T15:18:08.364Z"
      },
      {
        "duration": 22,
        "start_time": "2021-07-07T15:18:08.408Z"
      },
      {
        "duration": 5,
        "start_time": "2021-07-07T15:18:08.432Z"
      },
      {
        "duration": 13,
        "start_time": "2021-07-07T15:18:08.439Z"
      },
      {
        "duration": 9,
        "start_time": "2021-07-07T15:18:08.454Z"
      },
      {
        "duration": 32,
        "start_time": "2021-07-07T15:18:08.465Z"
      },
      {
        "duration": 10,
        "start_time": "2021-07-07T15:18:08.501Z"
      },
      {
        "duration": 7,
        "start_time": "2021-07-07T15:18:08.513Z"
      },
      {
        "duration": 11,
        "start_time": "2021-07-07T15:18:08.521Z"
      },
      {
        "duration": 17,
        "start_time": "2021-07-07T15:18:08.534Z"
      },
      {
        "duration": 44,
        "start_time": "2021-07-07T15:18:08.553Z"
      },
      {
        "duration": 22,
        "start_time": "2021-07-07T15:18:08.599Z"
      },
      {
        "duration": 61,
        "start_time": "2021-07-07T15:18:08.622Z"
      },
      {
        "duration": 7,
        "start_time": "2021-07-07T15:18:39.457Z"
      },
      {
        "duration": 5,
        "start_time": "2021-07-07T16:05:17.020Z"
      },
      {
        "duration": 5,
        "start_time": "2021-07-07T16:51:28.794Z"
      },
      {
        "duration": 546,
        "start_time": "2021-07-07T16:52:26.306Z"
      },
      {
        "duration": 203,
        "start_time": "2021-07-07T16:52:27.523Z"
      },
      {
        "duration": 85,
        "start_time": "2021-07-07T16:52:27.736Z"
      },
      {
        "duration": 4,
        "start_time": "2021-07-07T16:52:27.899Z"
      },
      {
        "duration": 25,
        "start_time": "2021-07-07T16:52:28.674Z"
      },
      {
        "duration": 8,
        "start_time": "2021-07-07T16:52:32.956Z"
      },
      {
        "duration": 18,
        "start_time": "2021-07-07T16:52:35.616Z"
      },
      {
        "duration": 6,
        "start_time": "2021-07-07T16:52:36.913Z"
      },
      {
        "duration": 11,
        "start_time": "2021-07-07T16:52:40.258Z"
      },
      {
        "duration": 10,
        "start_time": "2021-07-07T16:52:46.251Z"
      },
      {
        "duration": 8,
        "start_time": "2021-07-07T16:52:47.182Z"
      },
      {
        "duration": 27,
        "start_time": "2021-07-07T16:53:20.391Z"
      },
      {
        "duration": 20,
        "start_time": "2021-07-07T16:53:22.022Z"
      },
      {
        "duration": 23,
        "start_time": "2021-07-07T16:53:23.690Z"
      },
      {
        "duration": 8,
        "start_time": "2021-07-07T16:53:24.261Z"
      },
      {
        "duration": 4,
        "start_time": "2021-07-07T16:53:38.733Z"
      },
      {
        "duration": 7,
        "start_time": "2021-07-07T16:53:40.445Z"
      },
      {
        "duration": 11,
        "start_time": "2021-07-07T16:53:41.348Z"
      },
      {
        "duration": 13,
        "start_time": "2021-07-07T16:53:45.250Z"
      },
      {
        "duration": 12,
        "start_time": "2021-07-07T16:53:45.467Z"
      },
      {
        "duration": 4,
        "start_time": "2021-07-07T16:55:32.704Z"
      },
      {
        "duration": 12,
        "start_time": "2021-07-07T16:55:49.012Z"
      },
      {
        "duration": 18,
        "start_time": "2021-07-07T16:55:49.547Z"
      },
      {
        "duration": 611,
        "start_time": "2021-07-07T16:58:35.156Z"
      },
      {
        "duration": 200,
        "start_time": "2021-07-07T16:58:35.770Z"
      },
      {
        "duration": 86,
        "start_time": "2021-07-07T16:58:35.972Z"
      },
      {
        "duration": 3,
        "start_time": "2021-07-07T16:58:36.060Z"
      },
      {
        "duration": 27,
        "start_time": "2021-07-07T16:58:36.065Z"
      },
      {
        "duration": 8,
        "start_time": "2021-07-07T16:58:36.094Z"
      },
      {
        "duration": 17,
        "start_time": "2021-07-07T16:58:36.103Z"
      },
      {
        "duration": 5,
        "start_time": "2021-07-07T16:58:36.123Z"
      },
      {
        "duration": 11,
        "start_time": "2021-07-07T16:58:36.130Z"
      },
      {
        "duration": 7,
        "start_time": "2021-07-07T16:58:36.143Z"
      },
      {
        "duration": 37,
        "start_time": "2021-07-07T16:58:36.152Z"
      },
      {
        "duration": 27,
        "start_time": "2021-07-07T16:58:36.191Z"
      },
      {
        "duration": 19,
        "start_time": "2021-07-07T16:58:36.219Z"
      },
      {
        "duration": 49,
        "start_time": "2021-07-07T16:58:36.240Z"
      },
      {
        "duration": 6,
        "start_time": "2021-07-07T16:58:36.291Z"
      },
      {
        "duration": 3,
        "start_time": "2021-07-07T16:58:36.299Z"
      },
      {
        "duration": 13,
        "start_time": "2021-07-07T16:58:36.304Z"
      },
      {
        "duration": 10,
        "start_time": "2021-07-07T16:58:36.319Z"
      },
      {
        "duration": 10,
        "start_time": "2021-07-07T16:58:36.331Z"
      },
      {
        "duration": 44,
        "start_time": "2021-07-07T16:58:36.343Z"
      },
      {
        "duration": 4,
        "start_time": "2021-07-07T16:58:36.388Z"
      },
      {
        "duration": 13,
        "start_time": "2021-07-07T16:58:36.394Z"
      },
      {
        "duration": 16,
        "start_time": "2021-07-07T16:58:36.410Z"
      },
      {
        "duration": 8,
        "start_time": "2021-07-07T17:02:31.629Z"
      },
      {
        "duration": 8,
        "start_time": "2021-07-07T17:02:34.308Z"
      },
      {
        "duration": 6,
        "start_time": "2021-07-07T17:05:13.483Z"
      },
      {
        "duration": 17,
        "start_time": "2021-07-07T17:05:20.606Z"
      },
      {
        "duration": 7,
        "start_time": "2021-07-07T17:05:34.638Z"
      },
      {
        "duration": 3,
        "start_time": "2021-07-07T17:06:31.883Z"
      },
      {
        "duration": 570,
        "start_time": "2021-07-07T17:06:37.165Z"
      },
      {
        "duration": 174,
        "start_time": "2021-07-07T17:06:37.737Z"
      },
      {
        "duration": 47,
        "start_time": "2021-07-07T17:06:37.913Z"
      },
      {
        "duration": 3,
        "start_time": "2021-07-07T17:06:37.962Z"
      },
      {
        "duration": 27,
        "start_time": "2021-07-07T17:06:37.967Z"
      },
      {
        "duration": 7,
        "start_time": "2021-07-07T17:06:37.996Z"
      },
      {
        "duration": 16,
        "start_time": "2021-07-07T17:06:38.005Z"
      },
      {
        "duration": 6,
        "start_time": "2021-07-07T17:06:38.024Z"
      },
      {
        "duration": 12,
        "start_time": "2021-07-07T17:06:38.031Z"
      },
      {
        "duration": 41,
        "start_time": "2021-07-07T17:06:38.045Z"
      },
      {
        "duration": 8,
        "start_time": "2021-07-07T17:06:38.088Z"
      },
      {
        "duration": 26,
        "start_time": "2021-07-07T17:06:38.098Z"
      },
      {
        "duration": 17,
        "start_time": "2021-07-07T17:06:38.126Z"
      },
      {
        "duration": 43,
        "start_time": "2021-07-07T17:06:38.144Z"
      },
      {
        "duration": 6,
        "start_time": "2021-07-07T17:06:38.188Z"
      },
      {
        "duration": 5,
        "start_time": "2021-07-07T17:06:38.195Z"
      },
      {
        "duration": 9,
        "start_time": "2021-07-07T17:06:38.201Z"
      },
      {
        "duration": 12,
        "start_time": "2021-07-07T17:06:38.212Z"
      },
      {
        "duration": 11,
        "start_time": "2021-07-07T17:06:38.226Z"
      },
      {
        "duration": 47,
        "start_time": "2021-07-07T17:06:38.239Z"
      },
      {
        "duration": 4,
        "start_time": "2021-07-07T17:06:38.288Z"
      },
      {
        "duration": 13,
        "start_time": "2021-07-07T17:06:38.293Z"
      },
      {
        "duration": 5,
        "start_time": "2021-07-07T17:06:38.309Z"
      },
      {
        "duration": 18,
        "start_time": "2021-07-07T17:06:38.325Z"
      },
      {
        "duration": 20,
        "start_time": "2021-07-07T17:07:02.805Z"
      },
      {
        "duration": 19,
        "start_time": "2021-07-07T17:07:08.527Z"
      },
      {
        "duration": 19,
        "start_time": "2021-07-07T17:07:12.758Z"
      },
      {
        "duration": 22,
        "start_time": "2021-07-07T17:07:17.497Z"
      },
      {
        "duration": 19,
        "start_time": "2021-07-07T17:07:19.645Z"
      },
      {
        "duration": 10,
        "start_time": "2021-07-07T17:07:34.239Z"
      },
      {
        "duration": 17,
        "start_time": "2021-07-07T17:07:54.144Z"
      },
      {
        "duration": 14,
        "start_time": "2021-07-07T17:08:14.357Z"
      },
      {
        "duration": 616,
        "start_time": "2021-07-07T17:08:45.254Z"
      },
      {
        "duration": 178,
        "start_time": "2021-07-07T17:08:45.872Z"
      },
      {
        "duration": 60,
        "start_time": "2021-07-07T17:08:46.054Z"
      },
      {
        "duration": 3,
        "start_time": "2021-07-07T17:08:46.116Z"
      },
      {
        "duration": 26,
        "start_time": "2021-07-07T17:08:46.121Z"
      },
      {
        "duration": 7,
        "start_time": "2021-07-07T17:08:46.149Z"
      },
      {
        "duration": 17,
        "start_time": "2021-07-07T17:08:46.158Z"
      },
      {
        "duration": 14,
        "start_time": "2021-07-07T17:08:46.176Z"
      },
      {
        "duration": 17,
        "start_time": "2021-07-07T17:08:46.193Z"
      },
      {
        "duration": 9,
        "start_time": "2021-07-07T17:08:46.211Z"
      },
      {
        "duration": 21,
        "start_time": "2021-07-07T17:08:46.221Z"
      },
      {
        "duration": 49,
        "start_time": "2021-07-07T17:08:46.244Z"
      },
      {
        "duration": 24,
        "start_time": "2021-07-07T17:08:46.295Z"
      },
      {
        "duration": 22,
        "start_time": "2021-07-07T17:08:46.321Z"
      },
      {
        "duration": 6,
        "start_time": "2021-07-07T17:08:46.345Z"
      },
      {
        "duration": 5,
        "start_time": "2021-07-07T17:08:46.353Z"
      },
      {
        "duration": 13,
        "start_time": "2021-07-07T17:08:46.386Z"
      },
      {
        "duration": 12,
        "start_time": "2021-07-07T17:08:46.402Z"
      },
      {
        "duration": 10,
        "start_time": "2021-07-07T17:08:46.415Z"
      },
      {
        "duration": 7,
        "start_time": "2021-07-07T17:08:46.427Z"
      },
      {
        "duration": 8,
        "start_time": "2021-07-07T17:08:46.435Z"
      },
      {
        "duration": 68,
        "start_time": "2021-07-07T17:08:46.446Z"
      },
      {
        "duration": 13,
        "start_time": "2021-07-07T17:08:46.516Z"
      },
      {
        "duration": 78,
        "start_time": "2021-07-07T17:08:46.530Z"
      },
      {
        "duration": 40,
        "start_time": "2021-07-07T17:09:08.185Z"
      },
      {
        "duration": 16,
        "start_time": "2021-07-07T17:09:19.324Z"
      },
      {
        "duration": 21,
        "start_time": "2021-07-07T17:09:23.290Z"
      },
      {
        "duration": 13,
        "start_time": "2021-07-07T17:09:54.812Z"
      },
      {
        "duration": 13,
        "start_time": "2021-07-07T17:10:02.039Z"
      },
      {
        "duration": 10,
        "start_time": "2021-07-07T17:10:29.632Z"
      },
      {
        "duration": 13,
        "start_time": "2021-07-07T17:10:52.372Z"
      },
      {
        "duration": 13,
        "start_time": "2021-07-07T17:11:17.270Z"
      },
      {
        "duration": 13,
        "start_time": "2021-07-07T17:14:59.284Z"
      },
      {
        "duration": 547,
        "start_time": "2021-07-07T17:18:52.403Z"
      },
      {
        "duration": 163,
        "start_time": "2021-07-07T17:18:52.952Z"
      },
      {
        "duration": 44,
        "start_time": "2021-07-07T17:18:53.117Z"
      },
      {
        "duration": 3,
        "start_time": "2021-07-07T17:18:53.162Z"
      },
      {
        "duration": 26,
        "start_time": "2021-07-07T17:18:53.167Z"
      },
      {
        "duration": 6,
        "start_time": "2021-07-07T17:18:53.195Z"
      },
      {
        "duration": 15,
        "start_time": "2021-07-07T17:18:53.203Z"
      },
      {
        "duration": 5,
        "start_time": "2021-07-07T17:18:53.220Z"
      },
      {
        "duration": 11,
        "start_time": "2021-07-07T17:18:53.228Z"
      },
      {
        "duration": 9,
        "start_time": "2021-07-07T17:18:53.241Z"
      },
      {
        "duration": 41,
        "start_time": "2021-07-07T17:18:53.252Z"
      },
      {
        "duration": 33,
        "start_time": "2021-07-07T17:18:53.295Z"
      },
      {
        "duration": 19,
        "start_time": "2021-07-07T17:18:53.330Z"
      },
      {
        "duration": 49,
        "start_time": "2021-07-07T17:18:53.350Z"
      },
      {
        "duration": 5,
        "start_time": "2021-07-07T17:18:53.401Z"
      },
      {
        "duration": 5,
        "start_time": "2021-07-07T17:18:53.408Z"
      },
      {
        "duration": 11,
        "start_time": "2021-07-07T17:18:53.414Z"
      },
      {
        "duration": 9,
        "start_time": "2021-07-07T17:18:53.427Z"
      },
      {
        "duration": 10,
        "start_time": "2021-07-07T17:18:53.437Z"
      },
      {
        "duration": 39,
        "start_time": "2021-07-07T17:18:53.448Z"
      },
      {
        "duration": 26,
        "start_time": "2021-07-07T17:18:55.799Z"
      },
      {
        "duration": 598,
        "start_time": "2021-07-07T17:20:17.862Z"
      },
      {
        "duration": 161,
        "start_time": "2021-07-07T17:20:18.462Z"
      },
      {
        "duration": 45,
        "start_time": "2021-07-07T17:20:18.626Z"
      },
      {
        "duration": 4,
        "start_time": "2021-07-07T17:20:18.673Z"
      },
      {
        "duration": 38,
        "start_time": "2021-07-07T17:20:26.877Z"
      },
      {
        "duration": 7,
        "start_time": "2021-07-07T17:20:37.405Z"
      },
      {
        "duration": 19,
        "start_time": "2021-07-07T17:20:51.534Z"
      },
      {
        "duration": 5,
        "start_time": "2021-07-07T17:20:57.228Z"
      },
      {
        "duration": 7,
        "start_time": "2021-07-07T17:21:08.235Z"
      },
      {
        "duration": 19,
        "start_time": "2021-07-07T17:21:42.158Z"
      },
      {
        "duration": 14,
        "start_time": "2021-07-07T17:21:50.225Z"
      },
      {
        "duration": 22,
        "start_time": "2021-07-07T17:22:54.104Z"
      },
      {
        "duration": 5,
        "start_time": "2021-07-07T17:22:56.371Z"
      },
      {
        "duration": 14,
        "start_time": "2021-07-07T17:22:58.316Z"
      },
      {
        "duration": 5,
        "start_time": "2021-07-07T17:22:58.493Z"
      },
      {
        "duration": 35,
        "start_time": "2021-07-07T17:22:59.666Z"
      },
      {
        "duration": 6,
        "start_time": "2021-07-07T17:23:02.410Z"
      },
      {
        "duration": 611,
        "start_time": "2021-07-07T17:24:59.664Z"
      },
      {
        "duration": 178,
        "start_time": "2021-07-07T17:25:01.945Z"
      },
      {
        "duration": 47,
        "start_time": "2021-07-07T17:25:02.125Z"
      },
      {
        "duration": 2,
        "start_time": "2021-07-07T17:25:07.903Z"
      },
      {
        "duration": 254,
        "start_time": "2021-07-07T17:25:08.232Z"
      },
      {
        "duration": 182,
        "start_time": "2021-07-07T17:25:08.671Z"
      },
      {
        "duration": 6,
        "start_time": "2021-07-07T17:25:13.104Z"
      },
      {
        "duration": 36,
        "start_time": "2021-07-07T17:25:13.662Z"
      },
      {
        "duration": 7,
        "start_time": "2021-07-07T17:25:14.528Z"
      },
      {
        "duration": 24,
        "start_time": "2021-07-07T17:25:27.982Z"
      },
      {
        "duration": 3,
        "start_time": "2021-07-07T17:25:48.982Z"
      },
      {
        "duration": 165,
        "start_time": "2021-07-07T17:25:48.987Z"
      },
      {
        "duration": 50,
        "start_time": "2021-07-07T17:25:49.154Z"
      },
      {
        "duration": 4,
        "start_time": "2021-07-07T17:25:49.206Z"
      },
      {
        "duration": 26,
        "start_time": "2021-07-07T17:25:49.212Z"
      },
      {
        "duration": 7,
        "start_time": "2021-07-07T17:25:49.240Z"
      },
      {
        "duration": 16,
        "start_time": "2021-07-07T17:25:49.249Z"
      },
      {
        "duration": 22,
        "start_time": "2021-07-07T17:25:49.266Z"
      },
      {
        "duration": 16,
        "start_time": "2021-07-07T17:25:49.291Z"
      },
      {
        "duration": 9,
        "start_time": "2021-07-07T17:25:49.309Z"
      },
      {
        "duration": 7,
        "start_time": "2021-07-07T17:25:49.319Z"
      },
      {
        "duration": 28,
        "start_time": "2021-07-07T17:25:49.328Z"
      },
      {
        "duration": 44,
        "start_time": "2021-07-07T17:25:49.357Z"
      },
      {
        "duration": 22,
        "start_time": "2021-07-07T17:25:49.403Z"
      },
      {
        "duration": 7,
        "start_time": "2021-07-07T17:25:49.427Z"
      },
      {
        "duration": 3,
        "start_time": "2021-07-07T17:25:49.436Z"
      },
      {
        "duration": 44,
        "start_time": "2021-07-07T17:25:49.441Z"
      },
      {
        "duration": 12,
        "start_time": "2021-07-07T17:25:49.488Z"
      },
      {
        "duration": 13,
        "start_time": "2021-07-07T17:25:49.502Z"
      },
      {
        "duration": 10,
        "start_time": "2021-07-07T17:25:49.516Z"
      },
      {
        "duration": 62,
        "start_time": "2021-07-07T17:25:49.527Z"
      },
      {
        "duration": 26,
        "start_time": "2021-07-07T17:26:51.809Z"
      },
      {
        "duration": 26,
        "start_time": "2021-07-07T17:26:55.759Z"
      },
      {
        "duration": 26,
        "start_time": "2021-07-07T17:27:04.501Z"
      },
      {
        "duration": 25,
        "start_time": "2021-07-07T17:28:24.859Z"
      },
      {
        "duration": 21,
        "start_time": "2021-07-07T17:28:55.250Z"
      },
      {
        "duration": 21,
        "start_time": "2021-07-07T17:28:58.885Z"
      },
      {
        "duration": 7,
        "start_time": "2021-07-07T17:45:40.972Z"
      },
      {
        "duration": 13,
        "start_time": "2021-07-07T17:45:42.529Z"
      },
      {
        "duration": 27,
        "start_time": "2021-07-07T17:45:51.026Z"
      },
      {
        "duration": 518,
        "start_time": "2021-07-07T17:46:15.532Z"
      },
      {
        "duration": 235,
        "start_time": "2021-07-07T17:46:16.053Z"
      },
      {
        "duration": 80,
        "start_time": "2021-07-07T17:46:16.292Z"
      },
      {
        "duration": 5,
        "start_time": "2021-07-07T17:46:16.373Z"
      },
      {
        "duration": 26,
        "start_time": "2021-07-07T17:46:16.380Z"
      },
      {
        "duration": 7,
        "start_time": "2021-07-07T17:46:16.408Z"
      },
      {
        "duration": 16,
        "start_time": "2021-07-07T17:46:16.418Z"
      },
      {
        "duration": 5,
        "start_time": "2021-07-07T17:46:16.436Z"
      },
      {
        "duration": 13,
        "start_time": "2021-07-07T17:46:16.442Z"
      },
      {
        "duration": 35,
        "start_time": "2021-07-07T17:46:16.456Z"
      },
      {
        "duration": 8,
        "start_time": "2021-07-07T17:46:16.493Z"
      },
      {
        "duration": 28,
        "start_time": "2021-07-07T17:46:16.502Z"
      },
      {
        "duration": 17,
        "start_time": "2021-07-07T17:46:16.532Z"
      },
      {
        "duration": 44,
        "start_time": "2021-07-07T17:46:16.551Z"
      },
      {
        "duration": 6,
        "start_time": "2021-07-07T17:46:16.597Z"
      },
      {
        "duration": 4,
        "start_time": "2021-07-07T17:46:16.605Z"
      },
      {
        "duration": 9,
        "start_time": "2021-07-07T17:46:16.610Z"
      },
      {
        "duration": 9,
        "start_time": "2021-07-07T17:46:16.621Z"
      },
      {
        "duration": 10,
        "start_time": "2021-07-07T17:46:16.632Z"
      },
      {
        "duration": 43,
        "start_time": "2021-07-07T17:46:16.644Z"
      },
      {
        "duration": 26,
        "start_time": "2021-07-07T17:46:16.689Z"
      },
      {
        "duration": 19,
        "start_time": "2021-07-07T17:46:16.718Z"
      },
      {
        "duration": 8,
        "start_time": "2021-07-07T17:46:16.738Z"
      },
      {
        "duration": 43,
        "start_time": "2021-07-07T17:46:16.747Z"
      },
      {
        "duration": 19,
        "start_time": "2021-07-07T17:46:16.791Z"
      },
      {
        "duration": 9,
        "start_time": "2021-07-07T17:46:16.812Z"
      },
      {
        "duration": 60,
        "start_time": "2021-07-07T17:46:16.822Z"
      },
      {
        "duration": -8,
        "start_time": "2021-07-07T17:46:16.892Z"
      },
      {
        "duration": 12,
        "start_time": "2021-07-07T17:48:47.707Z"
      },
      {
        "duration": 553,
        "start_time": "2021-07-07T18:10:09.350Z"
      },
      {
        "duration": 230,
        "start_time": "2021-07-07T18:10:09.905Z"
      },
      {
        "duration": 97,
        "start_time": "2021-07-07T18:10:10.137Z"
      },
      {
        "duration": 5,
        "start_time": "2021-07-07T18:10:10.236Z"
      },
      {
        "duration": 29,
        "start_time": "2021-07-07T18:10:10.242Z"
      },
      {
        "duration": 7,
        "start_time": "2021-07-07T18:10:10.272Z"
      },
      {
        "duration": 15,
        "start_time": "2021-07-07T18:10:10.281Z"
      },
      {
        "duration": 4,
        "start_time": "2021-07-07T18:10:10.299Z"
      },
      {
        "duration": 14,
        "start_time": "2021-07-07T18:10:10.305Z"
      },
      {
        "duration": 8,
        "start_time": "2021-07-07T18:10:10.321Z"
      },
      {
        "duration": 8,
        "start_time": "2021-07-07T18:10:10.331Z"
      },
      {
        "duration": 56,
        "start_time": "2021-07-07T18:10:10.341Z"
      },
      {
        "duration": 19,
        "start_time": "2021-07-07T18:10:10.399Z"
      },
      {
        "duration": 23,
        "start_time": "2021-07-07T18:10:10.419Z"
      },
      {
        "duration": 6,
        "start_time": "2021-07-07T18:10:10.444Z"
      },
      {
        "duration": 9,
        "start_time": "2021-07-07T18:10:10.451Z"
      },
      {
        "duration": 30,
        "start_time": "2021-07-07T18:10:10.462Z"
      },
      {
        "duration": 9,
        "start_time": "2021-07-07T18:10:10.494Z"
      },
      {
        "duration": 14,
        "start_time": "2021-07-07T18:10:10.505Z"
      },
      {
        "duration": 7,
        "start_time": "2021-07-07T18:10:10.521Z"
      },
      {
        "duration": 26,
        "start_time": "2021-07-07T18:10:10.530Z"
      },
      {
        "duration": 44,
        "start_time": "2021-07-07T18:10:10.558Z"
      },
      {
        "duration": 7,
        "start_time": "2021-07-07T18:10:10.605Z"
      },
      {
        "duration": 11,
        "start_time": "2021-07-07T18:10:10.614Z"
      },
      {
        "duration": 19,
        "start_time": "2021-07-07T18:10:10.626Z"
      },
      {
        "duration": 44,
        "start_time": "2021-07-07T18:10:10.646Z"
      },
      {
        "duration": 516,
        "start_time": "2021-07-07T18:14:00.826Z"
      },
      {
        "duration": 230,
        "start_time": "2021-07-07T18:14:01.344Z"
      },
      {
        "duration": 105,
        "start_time": "2021-07-07T18:14:01.576Z"
      },
      {
        "duration": 5,
        "start_time": "2021-07-07T18:14:01.683Z"
      },
      {
        "duration": 46,
        "start_time": "2021-07-07T18:14:01.690Z"
      },
      {
        "duration": 7,
        "start_time": "2021-07-07T18:14:01.738Z"
      },
      {
        "duration": 20,
        "start_time": "2021-07-07T18:14:01.747Z"
      },
      {
        "duration": 16,
        "start_time": "2021-07-07T18:14:01.769Z"
      },
      {
        "duration": 14,
        "start_time": "2021-07-07T18:14:01.787Z"
      },
      {
        "duration": 15,
        "start_time": "2021-07-07T18:14:01.803Z"
      },
      {
        "duration": 12,
        "start_time": "2021-07-07T18:14:01.820Z"
      },
      {
        "duration": 35,
        "start_time": "2021-07-07T18:14:01.833Z"
      },
      {
        "duration": 31,
        "start_time": "2021-07-07T18:14:01.869Z"
      },
      {
        "duration": 37,
        "start_time": "2021-07-07T18:14:01.902Z"
      },
      {
        "duration": 8,
        "start_time": "2021-07-07T18:14:01.942Z"
      },
      {
        "duration": 16,
        "start_time": "2021-07-07T18:14:01.952Z"
      },
      {
        "duration": 13,
        "start_time": "2021-07-07T18:14:01.970Z"
      },
      {
        "duration": 32,
        "start_time": "2021-07-07T18:14:01.985Z"
      },
      {
        "duration": 11,
        "start_time": "2021-07-07T18:14:02.019Z"
      },
      {
        "duration": 22,
        "start_time": "2021-07-07T18:14:02.031Z"
      },
      {
        "duration": 27,
        "start_time": "2021-07-07T18:14:02.055Z"
      },
      {
        "duration": 18,
        "start_time": "2021-07-07T18:14:02.084Z"
      },
      {
        "duration": 18,
        "start_time": "2021-07-07T18:14:02.106Z"
      },
      {
        "duration": 11,
        "start_time": "2021-07-07T18:14:02.126Z"
      },
      {
        "duration": 21,
        "start_time": "2021-07-07T18:14:02.138Z"
      },
      {
        "duration": 32,
        "start_time": "2021-07-07T18:14:02.161Z"
      },
      {
        "duration": 28,
        "start_time": "2021-07-07T18:14:44.295Z"
      },
      {
        "duration": 6,
        "start_time": "2021-07-07T18:15:05.834Z"
      },
      {
        "duration": 511,
        "start_time": "2021-07-07T18:15:41.541Z"
      },
      {
        "duration": 183,
        "start_time": "2021-07-07T18:15:42.054Z"
      },
      {
        "duration": 50,
        "start_time": "2021-07-07T18:15:42.239Z"
      },
      {
        "duration": 5,
        "start_time": "2021-07-07T18:15:42.291Z"
      },
      {
        "duration": 48,
        "start_time": "2021-07-07T18:15:42.297Z"
      },
      {
        "duration": 8,
        "start_time": "2021-07-07T18:15:42.346Z"
      },
      {
        "duration": 17,
        "start_time": "2021-07-07T18:15:42.356Z"
      },
      {
        "duration": 15,
        "start_time": "2021-07-07T18:15:42.375Z"
      },
      {
        "duration": 12,
        "start_time": "2021-07-07T18:15:42.392Z"
      },
      {
        "duration": 7,
        "start_time": "2021-07-07T18:15:42.406Z"
      },
      {
        "duration": 7,
        "start_time": "2021-07-07T18:15:42.415Z"
      },
      {
        "duration": 29,
        "start_time": "2021-07-07T18:15:42.423Z"
      },
      {
        "duration": 43,
        "start_time": "2021-07-07T18:15:42.453Z"
      },
      {
        "duration": 18,
        "start_time": "2021-07-07T18:15:42.497Z"
      },
      {
        "duration": 6,
        "start_time": "2021-07-07T18:15:42.516Z"
      },
      {
        "duration": 3,
        "start_time": "2021-07-07T18:15:42.523Z"
      },
      {
        "duration": 18,
        "start_time": "2021-07-07T18:15:42.528Z"
      },
      {
        "duration": 10,
        "start_time": "2021-07-07T18:15:42.547Z"
      },
      {
        "duration": 36,
        "start_time": "2021-07-07T18:15:42.559Z"
      },
      {
        "duration": 8,
        "start_time": "2021-07-07T18:15:42.597Z"
      },
      {
        "duration": 28,
        "start_time": "2021-07-07T18:15:42.606Z"
      },
      {
        "duration": 52,
        "start_time": "2021-07-07T18:15:42.635Z"
      },
      {
        "duration": 7,
        "start_time": "2021-07-07T18:15:42.690Z"
      },
      {
        "duration": 10,
        "start_time": "2021-07-07T18:15:42.699Z"
      },
      {
        "duration": 19,
        "start_time": "2021-07-07T18:15:42.711Z"
      },
      {
        "duration": 9,
        "start_time": "2021-07-07T18:15:42.732Z"
      },
      {
        "duration": 5,
        "start_time": "2021-07-07T18:15:42.743Z"
      },
      {
        "duration": 1450,
        "start_time": "2021-07-07T18:15:51.984Z"
      },
      {
        "duration": 161,
        "start_time": "2021-07-07T18:15:53.435Z"
      },
      {
        "duration": 124,
        "start_time": "2021-07-07T18:15:53.598Z"
      },
      {
        "duration": 5,
        "start_time": "2021-07-07T18:15:53.724Z"
      },
      {
        "duration": 34,
        "start_time": "2021-07-07T18:15:53.730Z"
      },
      {
        "duration": 7,
        "start_time": "2021-07-07T18:15:53.765Z"
      },
      {
        "duration": 15,
        "start_time": "2021-07-07T18:15:53.773Z"
      },
      {
        "duration": 5,
        "start_time": "2021-07-07T18:15:53.791Z"
      },
      {
        "duration": 19,
        "start_time": "2021-07-07T18:15:53.798Z"
      },
      {
        "duration": 9,
        "start_time": "2021-07-07T18:15:53.818Z"
      },
      {
        "duration": 19,
        "start_time": "2021-07-07T18:15:53.828Z"
      },
      {
        "duration": 27,
        "start_time": "2021-07-07T18:15:53.848Z"
      },
      {
        "duration": 16,
        "start_time": "2021-07-07T18:15:53.884Z"
      },
      {
        "duration": 29,
        "start_time": "2021-07-07T18:15:53.901Z"
      },
      {
        "duration": 5,
        "start_time": "2021-07-07T18:15:53.932Z"
      },
      {
        "duration": 15,
        "start_time": "2021-07-07T18:15:53.939Z"
      },
      {
        "duration": 13,
        "start_time": "2021-07-07T18:15:53.956Z"
      },
      {
        "duration": 20,
        "start_time": "2021-07-07T18:15:53.971Z"
      },
      {
        "duration": 14,
        "start_time": "2021-07-07T18:15:53.992Z"
      },
      {
        "duration": 9,
        "start_time": "2021-07-07T18:15:54.009Z"
      },
      {
        "duration": 28,
        "start_time": "2021-07-07T18:15:54.020Z"
      },
      {
        "duration": 50,
        "start_time": "2021-07-07T18:15:54.051Z"
      },
      {
        "duration": 8,
        "start_time": "2021-07-07T18:15:54.105Z"
      },
      {
        "duration": 11,
        "start_time": "2021-07-07T18:15:54.115Z"
      },
      {
        "duration": 20,
        "start_time": "2021-07-07T18:15:54.128Z"
      },
      {
        "duration": 13,
        "start_time": "2021-07-07T18:15:54.184Z"
      },
      {
        "duration": 7,
        "start_time": "2021-07-07T18:15:54.199Z"
      },
      {
        "duration": 7,
        "start_time": "2021-07-07T18:17:08.042Z"
      },
      {
        "duration": 8,
        "start_time": "2021-07-07T18:17:21.008Z"
      },
      {
        "duration": 7,
        "start_time": "2021-07-07T18:17:29.003Z"
      },
      {
        "duration": 8,
        "start_time": "2021-07-07T18:17:32.492Z"
      },
      {
        "duration": 9,
        "start_time": "2021-07-07T18:17:41.758Z"
      },
      {
        "duration": 255,
        "start_time": "2021-07-07T18:20:20.897Z"
      },
      {
        "duration": 173,
        "start_time": "2021-07-07T18:20:26.636Z"
      },
      {
        "duration": 7,
        "start_time": "2021-07-07T18:21:47.164Z"
      },
      {
        "duration": 254,
        "start_time": "2021-07-07T18:23:08.703Z"
      },
      {
        "duration": 21,
        "start_time": "2021-07-07T18:23:22.506Z"
      },
      {
        "duration": 315,
        "start_time": "2021-07-07T18:25:54.801Z"
      },
      {
        "duration": 34,
        "start_time": "2021-07-07T18:26:51.817Z"
      },
      {
        "duration": 327,
        "start_time": "2021-07-07T18:26:56.147Z"
      },
      {
        "duration": 342,
        "start_time": "2021-07-07T18:27:15.887Z"
      },
      {
        "duration": 302,
        "start_time": "2021-07-07T18:28:18.569Z"
      },
      {
        "duration": 226,
        "start_time": "2021-07-07T18:29:20.879Z"
      },
      {
        "duration": 207,
        "start_time": "2021-07-07T18:29:58.114Z"
      },
      {
        "duration": 140,
        "start_time": "2021-07-07T18:32:04.372Z"
      },
      {
        "duration": 158,
        "start_time": "2021-07-07T18:32:32.508Z"
      },
      {
        "duration": 145,
        "start_time": "2021-07-07T18:32:41.365Z"
      },
      {
        "duration": 132,
        "start_time": "2021-07-07T18:32:45.199Z"
      },
      {
        "duration": 11,
        "start_time": "2021-07-07T18:35:24.679Z"
      },
      {
        "duration": 268,
        "start_time": "2021-07-07T18:36:16.145Z"
      },
      {
        "duration": 227,
        "start_time": "2021-07-07T18:37:04.918Z"
      },
      {
        "duration": 3,
        "start_time": "2021-07-07T18:37:33.012Z"
      },
      {
        "duration": 671,
        "start_time": "2021-07-07T18:37:38.295Z"
      },
      {
        "duration": 54,
        "start_time": "2021-07-07T18:37:53.406Z"
      },
      {
        "duration": 631,
        "start_time": "2021-07-07T18:37:56.463Z"
      },
      {
        "duration": 19,
        "start_time": "2021-07-07T18:39:40.535Z"
      },
      {
        "duration": 20,
        "start_time": "2021-07-07T18:40:12.236Z"
      },
      {
        "duration": 633,
        "start_time": "2021-07-07T18:42:00.398Z"
      },
      {
        "duration": 218,
        "start_time": "2021-07-07T18:42:01.033Z"
      },
      {
        "duration": 49,
        "start_time": "2021-07-07T18:42:01.253Z"
      },
      {
        "duration": 5,
        "start_time": "2021-07-07T18:42:01.303Z"
      },
      {
        "duration": 27,
        "start_time": "2021-07-07T18:42:01.310Z"
      },
      {
        "duration": 8,
        "start_time": "2021-07-07T18:42:01.339Z"
      },
      {
        "duration": 20,
        "start_time": "2021-07-07T18:42:01.348Z"
      },
      {
        "duration": 6,
        "start_time": "2021-07-07T18:42:01.386Z"
      },
      {
        "duration": 16,
        "start_time": "2021-07-07T18:42:01.394Z"
      },
      {
        "duration": 9,
        "start_time": "2021-07-07T18:42:01.411Z"
      },
      {
        "duration": 11,
        "start_time": "2021-07-07T18:42:01.421Z"
      },
      {
        "duration": 31,
        "start_time": "2021-07-07T18:42:01.434Z"
      },
      {
        "duration": 18,
        "start_time": "2021-07-07T18:42:01.485Z"
      },
      {
        "duration": 23,
        "start_time": "2021-07-07T18:42:01.505Z"
      },
      {
        "duration": 6,
        "start_time": "2021-07-07T18:42:01.530Z"
      },
      {
        "duration": 10,
        "start_time": "2021-07-07T18:42:01.538Z"
      },
      {
        "duration": 13,
        "start_time": "2021-07-07T18:42:01.550Z"
      },
      {
        "duration": 24,
        "start_time": "2021-07-07T18:42:01.564Z"
      },
      {
        "duration": 20,
        "start_time": "2021-07-07T18:42:01.590Z"
      },
      {
        "duration": 8,
        "start_time": "2021-07-07T18:42:01.611Z"
      },
      {
        "duration": 31,
        "start_time": "2021-07-07T18:42:01.620Z"
      },
      {
        "duration": 39,
        "start_time": "2021-07-07T18:42:01.653Z"
      },
      {
        "duration": 8,
        "start_time": "2021-07-07T18:42:01.696Z"
      },
      {
        "duration": 13,
        "start_time": "2021-07-07T18:42:01.705Z"
      },
      {
        "duration": 20,
        "start_time": "2021-07-07T18:42:01.720Z"
      },
      {
        "duration": 12,
        "start_time": "2021-07-07T18:42:01.741Z"
      },
      {
        "duration": 35,
        "start_time": "2021-07-07T18:42:01.755Z"
      },
      {
        "duration": 14,
        "start_time": "2021-07-07T18:42:01.792Z"
      },
      {
        "duration": 188,
        "start_time": "2021-07-07T18:42:01.808Z"
      },
      {
        "duration": 19,
        "start_time": "2021-07-07T18:42:01.998Z"
      },
      {
        "duration": 175,
        "start_time": "2021-07-07T18:42:02.019Z"
      },
      {
        "duration": 134,
        "start_time": "2021-07-07T18:42:02.196Z"
      },
      {
        "duration": 10,
        "start_time": "2021-07-07T18:42:02.331Z"
      },
      {
        "duration": 19,
        "start_time": "2021-07-07T18:42:02.343Z"
      },
      {
        "duration": 628,
        "start_time": "2021-07-07T18:46:30.701Z"
      },
      {
        "duration": 183,
        "start_time": "2021-07-07T18:46:31.331Z"
      },
      {
        "duration": 48,
        "start_time": "2021-07-07T18:46:31.516Z"
      },
      {
        "duration": 5,
        "start_time": "2021-07-07T18:46:31.566Z"
      },
      {
        "duration": 28,
        "start_time": "2021-07-07T18:46:31.572Z"
      },
      {
        "duration": 8,
        "start_time": "2021-07-07T18:46:31.602Z"
      },
      {
        "duration": 19,
        "start_time": "2021-07-07T18:46:31.611Z"
      },
      {
        "duration": 6,
        "start_time": "2021-07-07T18:46:31.633Z"
      },
      {
        "duration": 17,
        "start_time": "2021-07-07T18:46:31.642Z"
      },
      {
        "duration": 10,
        "start_time": "2021-07-07T18:46:31.684Z"
      },
      {
        "duration": 9,
        "start_time": "2021-07-07T18:46:31.695Z"
      },
      {
        "duration": 28,
        "start_time": "2021-07-07T18:46:31.705Z"
      },
      {
        "duration": 18,
        "start_time": "2021-07-07T18:46:31.735Z"
      },
      {
        "duration": 48,
        "start_time": "2021-07-07T18:46:31.755Z"
      },
      {
        "duration": 6,
        "start_time": "2021-07-07T18:46:31.804Z"
      },
      {
        "duration": 4,
        "start_time": "2021-07-07T18:46:31.812Z"
      },
      {
        "duration": 9,
        "start_time": "2021-07-07T18:46:31.817Z"
      },
      {
        "duration": 10,
        "start_time": "2021-07-07T18:46:31.827Z"
      },
      {
        "duration": 12,
        "start_time": "2021-07-07T18:46:31.838Z"
      },
      {
        "duration": 39,
        "start_time": "2021-07-07T18:46:31.851Z"
      },
      {
        "duration": 24,
        "start_time": "2021-07-07T18:46:31.892Z"
      },
      {
        "duration": 15,
        "start_time": "2021-07-07T18:46:31.918Z"
      },
      {
        "duration": 7,
        "start_time": "2021-07-07T18:46:31.936Z"
      },
      {
        "duration": 8,
        "start_time": "2021-07-07T18:46:31.944Z"
      },
      {
        "duration": 19,
        "start_time": "2021-07-07T18:46:31.984Z"
      },
      {
        "duration": 10,
        "start_time": "2021-07-07T18:46:32.004Z"
      },
      {
        "duration": 5,
        "start_time": "2021-07-07T18:46:32.016Z"
      },
      {
        "duration": 9,
        "start_time": "2021-07-07T18:46:32.023Z"
      },
      {
        "duration": 199,
        "start_time": "2021-07-07T18:46:32.033Z"
      },
      {
        "duration": 19,
        "start_time": "2021-07-07T18:46:32.234Z"
      },
      {
        "duration": 159,
        "start_time": "2021-07-07T18:46:32.255Z"
      },
      {
        "duration": 134,
        "start_time": "2021-07-07T18:46:32.416Z"
      },
      {
        "duration": 10,
        "start_time": "2021-07-07T18:46:32.552Z"
      },
      {
        "duration": 34,
        "start_time": "2021-07-07T18:46:32.563Z"
      },
      {
        "duration": 1039,
        "start_time": "2021-07-08T08:41:09.419Z"
      },
      {
        "duration": 333,
        "start_time": "2021-07-08T08:41:10.459Z"
      },
      {
        "duration": 173,
        "start_time": "2021-07-08T08:41:10.794Z"
      },
      {
        "duration": 5,
        "start_time": "2021-07-08T08:41:10.968Z"
      },
      {
        "duration": 25,
        "start_time": "2021-07-08T08:41:10.975Z"
      },
      {
        "duration": 9,
        "start_time": "2021-07-08T08:41:11.002Z"
      },
      {
        "duration": 18,
        "start_time": "2021-07-08T08:41:11.013Z"
      },
      {
        "duration": 6,
        "start_time": "2021-07-08T08:41:11.033Z"
      },
      {
        "duration": 44,
        "start_time": "2021-07-08T08:41:11.042Z"
      },
      {
        "duration": 10,
        "start_time": "2021-07-08T08:41:11.088Z"
      },
      {
        "duration": 9,
        "start_time": "2021-07-08T08:41:11.100Z"
      },
      {
        "duration": 27,
        "start_time": "2021-07-08T08:41:11.111Z"
      },
      {
        "duration": 46,
        "start_time": "2021-07-08T08:41:11.140Z"
      },
      {
        "duration": 17,
        "start_time": "2021-07-08T08:41:11.187Z"
      },
      {
        "duration": 6,
        "start_time": "2021-07-08T08:41:11.206Z"
      },
      {
        "duration": 5,
        "start_time": "2021-07-08T08:41:11.213Z"
      },
      {
        "duration": 10,
        "start_time": "2021-07-08T08:41:11.219Z"
      },
      {
        "duration": 9,
        "start_time": "2021-07-08T08:41:11.230Z"
      },
      {
        "duration": 45,
        "start_time": "2021-07-08T08:41:11.241Z"
      },
      {
        "duration": 7,
        "start_time": "2021-07-08T08:41:11.287Z"
      },
      {
        "duration": 24,
        "start_time": "2021-07-08T08:41:11.296Z"
      },
      {
        "duration": 16,
        "start_time": "2021-07-08T08:41:11.322Z"
      },
      {
        "duration": 7,
        "start_time": "2021-07-08T08:41:11.341Z"
      },
      {
        "duration": 41,
        "start_time": "2021-07-08T08:41:11.349Z"
      },
      {
        "duration": 17,
        "start_time": "2021-07-08T08:41:11.391Z"
      },
      {
        "duration": 9,
        "start_time": "2021-07-08T08:41:11.410Z"
      },
      {
        "duration": 5,
        "start_time": "2021-07-08T08:41:11.421Z"
      },
      {
        "duration": 6,
        "start_time": "2021-07-08T08:41:11.428Z"
      },
      {
        "duration": 198,
        "start_time": "2021-07-08T08:41:11.435Z"
      },
      {
        "duration": 18,
        "start_time": "2021-07-08T08:41:11.635Z"
      },
      {
        "duration": 155,
        "start_time": "2021-07-08T08:41:11.655Z"
      },
      {
        "duration": 138,
        "start_time": "2021-07-08T08:41:11.811Z"
      },
      {
        "duration": 10,
        "start_time": "2021-07-08T08:41:11.950Z"
      },
      {
        "duration": 29,
        "start_time": "2021-07-08T08:41:11.961Z"
      },
      {
        "duration": 171,
        "start_time": "2021-07-08T08:47:44.522Z"
      },
      {
        "duration": 124,
        "start_time": "2021-07-08T08:47:46.872Z"
      },
      {
        "duration": 191,
        "start_time": "2021-07-08T08:47:58.148Z"
      },
      {
        "duration": 191,
        "start_time": "2021-07-08T08:48:07.412Z"
      },
      {
        "duration": 261,
        "start_time": "2021-07-08T08:48:10.385Z"
      },
      {
        "duration": 255,
        "start_time": "2021-07-08T08:48:14.494Z"
      },
      {
        "duration": 219,
        "start_time": "2021-07-08T08:48:22.752Z"
      },
      {
        "duration": 173,
        "start_time": "2021-07-08T08:49:06.395Z"
      },
      {
        "duration": 180,
        "start_time": "2021-07-08T08:49:21.011Z"
      },
      {
        "duration": 6,
        "start_time": "2021-07-08T08:50:31.697Z"
      },
      {
        "duration": 10,
        "start_time": "2021-07-08T08:50:47.394Z"
      },
      {
        "duration": 11,
        "start_time": "2021-07-08T08:53:49.332Z"
      },
      {
        "duration": 171,
        "start_time": "2021-07-08T08:54:28.408Z"
      },
      {
        "duration": 636,
        "start_time": "2021-07-08T09:02:48.385Z"
      },
      {
        "duration": 227,
        "start_time": "2021-07-08T09:02:49.023Z"
      },
      {
        "duration": 104,
        "start_time": "2021-07-08T09:02:49.252Z"
      },
      {
        "duration": 5,
        "start_time": "2021-07-08T09:02:49.358Z"
      },
      {
        "duration": 27,
        "start_time": "2021-07-08T09:02:49.365Z"
      },
      {
        "duration": 8,
        "start_time": "2021-07-08T09:02:49.394Z"
      },
      {
        "duration": 18,
        "start_time": "2021-07-08T09:02:49.404Z"
      },
      {
        "duration": 6,
        "start_time": "2021-07-08T09:02:49.424Z"
      },
      {
        "duration": 11,
        "start_time": "2021-07-08T09:02:49.433Z"
      },
      {
        "duration": 13,
        "start_time": "2021-07-08T09:02:49.485Z"
      },
      {
        "duration": 9,
        "start_time": "2021-07-08T09:02:49.500Z"
      },
      {
        "duration": 38,
        "start_time": "2021-07-08T09:02:49.511Z"
      },
      {
        "duration": 42,
        "start_time": "2021-07-08T09:02:49.551Z"
      },
      {
        "duration": 21,
        "start_time": "2021-07-08T09:02:49.594Z"
      },
      {
        "duration": 6,
        "start_time": "2021-07-08T09:02:49.616Z"
      },
      {
        "duration": 3,
        "start_time": "2021-07-08T09:02:49.623Z"
      },
      {
        "duration": 9,
        "start_time": "2021-07-08T09:02:49.628Z"
      },
      {
        "duration": 52,
        "start_time": "2021-07-08T09:02:49.638Z"
      },
      {
        "duration": 11,
        "start_time": "2021-07-08T09:02:49.692Z"
      },
      {
        "duration": 8,
        "start_time": "2021-07-08T09:02:49.704Z"
      },
      {
        "duration": 27,
        "start_time": "2021-07-08T09:02:49.713Z"
      },
      {
        "duration": 59,
        "start_time": "2021-07-08T09:02:49.741Z"
      },
      {
        "duration": 8,
        "start_time": "2021-07-08T09:02:49.803Z"
      },
      {
        "duration": 14,
        "start_time": "2021-07-08T09:02:49.813Z"
      },
      {
        "duration": 20,
        "start_time": "2021-07-08T09:02:49.829Z"
      },
      {
        "duration": 44,
        "start_time": "2021-07-08T09:02:49.851Z"
      },
      {
        "duration": 14,
        "start_time": "2021-07-08T09:02:49.896Z"
      },
      {
        "duration": 221,
        "start_time": "2021-07-08T09:02:49.912Z"
      },
      {
        "duration": 6,
        "start_time": "2021-07-08T09:02:50.134Z"
      },
      {
        "duration": 206,
        "start_time": "2021-07-08T09:02:50.142Z"
      },
      {
        "duration": 19,
        "start_time": "2021-07-08T09:02:50.350Z"
      },
      {
        "duration": 21,
        "start_time": "2021-07-08T09:02:50.370Z"
      },
      {
        "duration": 20,
        "start_time": "2021-07-08T09:02:50.393Z"
      },
      {
        "duration": 5,
        "start_time": "2021-07-08T09:02:50.414Z"
      },
      {
        "duration": 5,
        "start_time": "2021-07-08T09:03:34.173Z"
      },
      {
        "duration": 6,
        "start_time": "2021-07-08T09:04:49.062Z"
      },
      {
        "duration": 9,
        "start_time": "2021-07-08T09:04:50.118Z"
      },
      {
        "duration": 14,
        "start_time": "2021-07-08T09:04:58.512Z"
      },
      {
        "duration": 9,
        "start_time": "2021-07-08T09:05:10.988Z"
      },
      {
        "duration": 11,
        "start_time": "2021-07-08T09:05:11.743Z"
      },
      {
        "duration": 7,
        "start_time": "2021-07-08T09:05:25.677Z"
      },
      {
        "duration": 13,
        "start_time": "2021-07-08T09:05:47.189Z"
      },
      {
        "duration": 13,
        "start_time": "2021-07-08T09:05:54.755Z"
      },
      {
        "duration": 4,
        "start_time": "2021-07-08T09:06:29.189Z"
      },
      {
        "duration": 244,
        "start_time": "2021-07-08T09:06:29.195Z"
      },
      {
        "duration": 91,
        "start_time": "2021-07-08T09:06:29.441Z"
      },
      {
        "duration": 4,
        "start_time": "2021-07-08T09:06:29.534Z"
      },
      {
        "duration": 28,
        "start_time": "2021-07-08T09:06:29.540Z"
      },
      {
        "duration": 6,
        "start_time": "2021-07-08T09:06:29.570Z"
      },
      {
        "duration": 18,
        "start_time": "2021-07-08T09:06:29.578Z"
      },
      {
        "duration": 5,
        "start_time": "2021-07-08T09:06:29.597Z"
      },
      {
        "duration": 13,
        "start_time": "2021-07-08T09:06:29.605Z"
      },
      {
        "duration": 8,
        "start_time": "2021-07-08T09:06:29.620Z"
      },
      {
        "duration": 7,
        "start_time": "2021-07-08T09:06:29.630Z"
      },
      {
        "duration": 63,
        "start_time": "2021-07-08T09:06:29.639Z"
      },
      {
        "duration": 17,
        "start_time": "2021-07-08T09:06:29.704Z"
      },
      {
        "duration": 20,
        "start_time": "2021-07-08T09:06:29.723Z"
      },
      {
        "duration": 6,
        "start_time": "2021-07-08T09:06:29.745Z"
      },
      {
        "duration": 3,
        "start_time": "2021-07-08T09:06:29.752Z"
      },
      {
        "duration": 7,
        "start_time": "2021-07-08T09:06:29.785Z"
      },
      {
        "duration": 11,
        "start_time": "2021-07-08T09:06:29.794Z"
      },
      {
        "duration": 15,
        "start_time": "2021-07-08T09:06:29.807Z"
      },
      {
        "duration": 8,
        "start_time": "2021-07-08T09:06:29.823Z"
      },
      {
        "duration": 70,
        "start_time": "2021-07-08T09:06:29.832Z"
      },
      {
        "duration": 17,
        "start_time": "2021-07-08T09:06:29.903Z"
      },
      {
        "duration": 9,
        "start_time": "2021-07-08T09:06:29.921Z"
      },
      {
        "duration": 9,
        "start_time": "2021-07-08T09:06:29.932Z"
      },
      {
        "duration": 57,
        "start_time": "2021-07-08T09:06:29.942Z"
      },
      {
        "duration": 11,
        "start_time": "2021-07-08T09:06:30.001Z"
      },
      {
        "duration": 19,
        "start_time": "2021-07-08T09:06:30.016Z"
      },
      {
        "duration": 217,
        "start_time": "2021-07-08T09:06:30.037Z"
      },
      {
        "duration": 6,
        "start_time": "2021-07-08T09:06:30.255Z"
      },
      {
        "duration": 205,
        "start_time": "2021-07-08T09:06:30.263Z"
      },
      {
        "duration": 27,
        "start_time": "2021-07-08T09:06:30.470Z"
      },
      {
        "duration": 11,
        "start_time": "2021-07-08T09:06:30.500Z"
      },
      {
        "duration": 31,
        "start_time": "2021-07-08T09:06:30.513Z"
      },
      {
        "duration": 18,
        "start_time": "2021-07-08T09:06:30.546Z"
      },
      {
        "duration": 11,
        "start_time": "2021-07-08T09:06:30.566Z"
      },
      {
        "duration": 19,
        "start_time": "2021-07-08T09:06:30.579Z"
      },
      {
        "duration": 20,
        "start_time": "2021-07-08T09:06:49.466Z"
      },
      {
        "duration": 9,
        "start_time": "2021-07-08T09:06:51.994Z"
      },
      {
        "duration": 20,
        "start_time": "2021-07-08T09:06:52.273Z"
      },
      {
        "duration": 246,
        "start_time": "2021-07-08T09:10:21.272Z"
      },
      {
        "duration": 84,
        "start_time": "2021-07-08T09:10:21.436Z"
      },
      {
        "duration": 7,
        "start_time": "2021-07-08T09:10:37.608Z"
      },
      {
        "duration": 189,
        "start_time": "2021-07-08T09:10:38.573Z"
      },
      {
        "duration": 185,
        "start_time": "2021-07-08T09:10:53.181Z"
      },
      {
        "duration": 11,
        "start_time": "2021-07-08T09:10:59.549Z"
      },
      {
        "duration": 42,
        "start_time": "2021-07-08T09:10:59.709Z"
      },
      {
        "duration": 12,
        "start_time": "2021-07-08T09:11:02.857Z"
      },
      {
        "duration": 28,
        "start_time": "2021-07-08T09:11:10.062Z"
      },
      {
        "duration": 249,
        "start_time": "2021-07-08T09:11:37.388Z"
      },
      {
        "duration": 232,
        "start_time": "2021-07-08T09:11:49.485Z"
      },
      {
        "duration": 453,
        "start_time": "2021-07-08T09:12:01.546Z"
      },
      {
        "duration": 440,
        "start_time": "2021-07-08T09:12:12.347Z"
      },
      {
        "duration": 213,
        "start_time": "2021-07-08T09:13:32.196Z"
      },
      {
        "duration": 172,
        "start_time": "2021-07-08T09:14:07.400Z"
      },
      {
        "duration": 185,
        "start_time": "2021-07-08T09:14:14.905Z"
      },
      {
        "duration": 209,
        "start_time": "2021-07-08T09:14:40.109Z"
      },
      {
        "duration": 201,
        "start_time": "2021-07-08T09:14:54.506Z"
      },
      {
        "duration": 622,
        "start_time": "2021-07-08T09:18:14.497Z"
      },
      {
        "duration": 220,
        "start_time": "2021-07-08T09:18:15.121Z"
      },
      {
        "duration": 79,
        "start_time": "2021-07-08T09:18:15.343Z"
      },
      {
        "duration": 4,
        "start_time": "2021-07-08T09:18:15.425Z"
      },
      {
        "duration": 24,
        "start_time": "2021-07-08T09:18:15.431Z"
      },
      {
        "duration": 8,
        "start_time": "2021-07-08T09:18:15.457Z"
      },
      {
        "duration": 16,
        "start_time": "2021-07-08T09:18:15.466Z"
      },
      {
        "duration": 5,
        "start_time": "2021-07-08T09:18:15.484Z"
      },
      {
        "duration": 10,
        "start_time": "2021-07-08T09:18:15.493Z"
      },
      {
        "duration": 8,
        "start_time": "2021-07-08T09:18:15.504Z"
      },
      {
        "duration": 7,
        "start_time": "2021-07-08T09:18:15.513Z"
      },
      {
        "duration": 26,
        "start_time": "2021-07-08T09:18:15.522Z"
      },
      {
        "duration": 49,
        "start_time": "2021-07-08T09:18:15.550Z"
      },
      {
        "duration": 21,
        "start_time": "2021-07-08T09:18:15.601Z"
      },
      {
        "duration": 8,
        "start_time": "2021-07-08T09:18:15.624Z"
      },
      {
        "duration": 3,
        "start_time": "2021-07-08T09:18:15.634Z"
      },
      {
        "duration": 8,
        "start_time": "2021-07-08T09:18:15.639Z"
      },
      {
        "duration": 45,
        "start_time": "2021-07-08T09:18:15.649Z"
      },
      {
        "duration": 13,
        "start_time": "2021-07-08T09:18:15.696Z"
      },
      {
        "duration": 10,
        "start_time": "2021-07-08T09:18:15.711Z"
      },
      {
        "duration": 64,
        "start_time": "2021-07-08T09:18:15.722Z"
      },
      {
        "duration": 19,
        "start_time": "2021-07-08T09:18:15.788Z"
      },
      {
        "duration": 9,
        "start_time": "2021-07-08T09:18:15.809Z"
      },
      {
        "duration": 9,
        "start_time": "2021-07-08T09:18:15.820Z"
      },
      {
        "duration": 18,
        "start_time": "2021-07-08T09:18:15.831Z"
      },
      {
        "duration": 43,
        "start_time": "2021-07-08T09:18:15.851Z"
      },
      {
        "duration": 12,
        "start_time": "2021-07-08T09:18:15.897Z"
      },
      {
        "duration": 219,
        "start_time": "2021-07-08T09:18:15.911Z"
      },
      {
        "duration": 8,
        "start_time": "2021-07-08T09:18:16.132Z"
      },
      {
        "duration": 199,
        "start_time": "2021-07-08T09:18:16.141Z"
      },
      {
        "duration": 18,
        "start_time": "2021-07-08T09:18:16.341Z"
      },
      {
        "duration": 24,
        "start_time": "2021-07-08T09:18:16.361Z"
      },
      {
        "duration": 24,
        "start_time": "2021-07-08T09:18:16.387Z"
      },
      {
        "duration": 211,
        "start_time": "2021-07-08T09:18:16.413Z"
      },
      {
        "duration": 18,
        "start_time": "2021-07-08T09:18:16.626Z"
      },
      {
        "duration": 596,
        "start_time": "2021-07-08T10:06:33.623Z"
      },
      {
        "duration": 181,
        "start_time": "2021-07-08T10:06:34.221Z"
      },
      {
        "duration": 176,
        "start_time": "2021-07-08T10:06:34.635Z"
      },
      {
        "duration": 239,
        "start_time": "2021-07-08T10:06:55.572Z"
      },
      {
        "duration": 6,
        "start_time": "2021-07-08T10:06:57.687Z"
      },
      {
        "duration": 4,
        "start_time": "2021-07-08T10:07:03.956Z"
      },
      {
        "duration": 4,
        "start_time": "2021-07-08T10:07:10.376Z"
      },
      {
        "duration": 4,
        "start_time": "2021-07-08T10:17:19.889Z"
      },
      {
        "duration": 3,
        "start_time": "2021-07-08T10:19:19.407Z"
      },
      {
        "duration": 197,
        "start_time": "2021-07-08T10:19:19.412Z"
      },
      {
        "duration": 127,
        "start_time": "2021-07-08T10:19:19.611Z"
      },
      {
        "duration": 4,
        "start_time": "2021-07-08T10:19:19.740Z"
      },
      {
        "duration": 27,
        "start_time": "2021-07-08T10:19:19.746Z"
      },
      {
        "duration": 7,
        "start_time": "2021-07-08T10:19:19.775Z"
      },
      {
        "duration": 30,
        "start_time": "2021-07-08T10:19:19.784Z"
      },
      {
        "duration": 7,
        "start_time": "2021-07-08T10:19:19.817Z"
      },
      {
        "duration": 26,
        "start_time": "2021-07-08T10:19:19.826Z"
      },
      {
        "duration": 18,
        "start_time": "2021-07-08T10:19:19.854Z"
      },
      {
        "duration": 14,
        "start_time": "2021-07-08T10:19:19.874Z"
      },
      {
        "duration": 48,
        "start_time": "2021-07-08T10:19:19.890Z"
      },
      {
        "duration": 17,
        "start_time": "2021-07-08T10:19:19.940Z"
      },
      {
        "duration": 38,
        "start_time": "2021-07-08T10:19:19.959Z"
      },
      {
        "duration": 8,
        "start_time": "2021-07-08T10:19:19.999Z"
      },
      {
        "duration": 15,
        "start_time": "2021-07-08T10:19:20.009Z"
      },
      {
        "duration": 22,
        "start_time": "2021-07-08T10:19:20.026Z"
      },
      {
        "duration": 10,
        "start_time": "2021-07-08T10:19:20.050Z"
      },
      {
        "duration": 10,
        "start_time": "2021-07-08T10:19:20.062Z"
      },
      {
        "duration": 20,
        "start_time": "2021-07-08T10:19:20.073Z"
      },
      {
        "duration": 29,
        "start_time": "2021-07-08T10:19:20.095Z"
      },
      {
        "duration": 17,
        "start_time": "2021-07-08T10:19:20.126Z"
      },
      {
        "duration": 40,
        "start_time": "2021-07-08T10:19:20.146Z"
      },
      {
        "duration": 15,
        "start_time": "2021-07-08T10:19:20.189Z"
      },
      {
        "duration": 19,
        "start_time": "2021-07-08T10:19:20.206Z"
      },
      {
        "duration": 10,
        "start_time": "2021-07-08T10:19:20.226Z"
      },
      {
        "duration": 11,
        "start_time": "2021-07-08T10:19:20.238Z"
      },
      {
        "duration": 297,
        "start_time": "2021-07-08T10:19:20.250Z"
      },
      {
        "duration": 6,
        "start_time": "2021-07-08T10:19:20.549Z"
      },
      {
        "duration": 191,
        "start_time": "2021-07-08T10:19:20.557Z"
      },
      {
        "duration": 19,
        "start_time": "2021-07-08T10:19:20.750Z"
      },
      {
        "duration": 20,
        "start_time": "2021-07-08T10:19:20.771Z"
      },
      {
        "duration": 15,
        "start_time": "2021-07-08T10:19:20.793Z"
      },
      {
        "duration": 222,
        "start_time": "2021-07-08T10:19:20.809Z"
      },
      {
        "duration": 20,
        "start_time": "2021-07-08T10:19:21.033Z"
      },
      {
        "duration": 27,
        "start_time": "2021-07-08T10:45:04.055Z"
      },
      {
        "duration": 8,
        "start_time": "2021-07-08T10:45:08.478Z"
      },
      {
        "duration": 8,
        "start_time": "2021-07-08T10:45:31.982Z"
      },
      {
        "duration": 10,
        "start_time": "2021-07-08T10:46:01.221Z"
      },
      {
        "duration": 17,
        "start_time": "2021-07-08T10:46:40.011Z"
      },
      {
        "duration": 193,
        "start_time": "2021-07-08T10:48:19.471Z"
      },
      {
        "duration": 225,
        "start_time": "2021-07-08T10:49:26.480Z"
      },
      {
        "duration": 204,
        "start_time": "2021-07-08T10:49:59.992Z"
      },
      {
        "duration": 435,
        "start_time": "2021-07-08T10:50:06.779Z"
      },
      {
        "duration": 199,
        "start_time": "2021-07-08T10:50:14.891Z"
      },
      {
        "duration": 204,
        "start_time": "2021-07-08T10:50:18.501Z"
      },
      {
        "duration": 244,
        "start_time": "2021-07-08T10:50:23.359Z"
      },
      {
        "duration": 192,
        "start_time": "2021-07-08T10:50:29.135Z"
      },
      {
        "duration": 218,
        "start_time": "2021-07-08T10:50:33.092Z"
      },
      {
        "duration": 207,
        "start_time": "2021-07-08T10:52:45.381Z"
      },
      {
        "duration": 5,
        "start_time": "2021-07-08T10:53:34.641Z"
      },
      {
        "duration": 196,
        "start_time": "2021-07-08T10:53:41.478Z"
      },
      {
        "duration": 43,
        "start_time": "2021-07-08T10:53:50.335Z"
      },
      {
        "duration": 32,
        "start_time": "2021-07-08T10:53:55.294Z"
      },
      {
        "duration": 55,
        "start_time": "2021-07-08T10:54:09.675Z"
      },
      {
        "duration": 16,
        "start_time": "2021-07-08T10:54:12.260Z"
      },
      {
        "duration": 15,
        "start_time": "2021-07-08T10:54:49.150Z"
      },
      {
        "duration": 20,
        "start_time": "2021-07-08T10:56:07.596Z"
      },
      {
        "duration": 16,
        "start_time": "2021-07-08T10:58:26.276Z"
      },
      {
        "duration": 22,
        "start_time": "2021-07-08T10:59:00.486Z"
      },
      {
        "duration": 18,
        "start_time": "2021-07-08T11:02:09.653Z"
      },
      {
        "duration": 10,
        "start_time": "2021-07-08T11:03:44.331Z"
      },
      {
        "duration": 10,
        "start_time": "2021-07-08T11:03:54.055Z"
      },
      {
        "duration": 12,
        "start_time": "2021-07-08T11:04:41.967Z"
      },
      {
        "duration": 24,
        "start_time": "2021-07-08T11:07:30.732Z"
      },
      {
        "duration": 6,
        "start_time": "2021-07-08T11:07:37.364Z"
      },
      {
        "duration": 16,
        "start_time": "2021-07-08T11:08:01.819Z"
      },
      {
        "duration": 17,
        "start_time": "2021-07-08T11:09:47.488Z"
      },
      {
        "duration": 246,
        "start_time": "2021-07-08T11:10:00.830Z"
      },
      {
        "duration": 18,
        "start_time": "2021-07-08T11:13:55.195Z"
      },
      {
        "duration": 204,
        "start_time": "2021-07-08T11:14:04.951Z"
      },
      {
        "duration": 19,
        "start_time": "2021-07-08T11:15:10.613Z"
      },
      {
        "duration": 680,
        "start_time": "2021-07-08T11:16:25.793Z"
      },
      {
        "duration": 451,
        "start_time": "2021-07-08T11:16:40.313Z"
      },
      {
        "duration": 469,
        "start_time": "2021-07-08T11:17:21.286Z"
      },
      {
        "duration": 20,
        "start_time": "2021-07-08T11:19:12.554Z"
      },
      {
        "duration": 35,
        "start_time": "2021-07-08T11:20:05.484Z"
      },
      {
        "duration": 53,
        "start_time": "2021-07-08T11:21:40.050Z"
      },
      {
        "duration": 13,
        "start_time": "2021-07-08T11:22:26.059Z"
      },
      {
        "duration": 19,
        "start_time": "2021-07-08T11:22:47.419Z"
      },
      {
        "duration": 25,
        "start_time": "2021-07-08T11:23:19.958Z"
      },
      {
        "duration": 29,
        "start_time": "2021-07-08T11:23:25.415Z"
      },
      {
        "duration": 10,
        "start_time": "2021-07-08T11:24:45.138Z"
      },
      {
        "duration": 19,
        "start_time": "2021-07-08T11:24:54.498Z"
      },
      {
        "duration": 12,
        "start_time": "2021-07-08T11:25:32.225Z"
      },
      {
        "duration": 19,
        "start_time": "2021-07-08T11:25:37.092Z"
      },
      {
        "duration": 17,
        "start_time": "2021-07-08T11:25:58.116Z"
      },
      {
        "duration": 15,
        "start_time": "2021-07-08T11:26:02.258Z"
      },
      {
        "duration": 8,
        "start_time": "2021-07-08T11:26:59.682Z"
      },
      {
        "duration": 184,
        "start_time": "2021-07-08T11:27:21.894Z"
      },
      {
        "duration": 8,
        "start_time": "2021-07-08T11:27:23.824Z"
      },
      {
        "duration": 202,
        "start_time": "2021-07-08T11:27:23.962Z"
      },
      {
        "duration": 360,
        "start_time": "2021-07-08T11:28:33.215Z"
      },
      {
        "duration": 231,
        "start_time": "2021-07-08T11:32:05.542Z"
      },
      {
        "duration": 607,
        "start_time": "2021-07-08T11:36:27.854Z"
      },
      {
        "duration": 241,
        "start_time": "2021-07-08T11:36:28.463Z"
      },
      {
        "duration": 67,
        "start_time": "2021-07-08T11:36:28.709Z"
      },
      {
        "duration": 5,
        "start_time": "2021-07-08T11:36:28.778Z"
      },
      {
        "duration": 32,
        "start_time": "2021-07-08T11:36:28.784Z"
      },
      {
        "duration": 11,
        "start_time": "2021-07-08T11:36:28.819Z"
      },
      {
        "duration": 20,
        "start_time": "2021-07-08T11:36:28.834Z"
      },
      {
        "duration": 36,
        "start_time": "2021-07-08T11:36:28.857Z"
      },
      {
        "duration": 16,
        "start_time": "2021-07-08T11:36:28.895Z"
      },
      {
        "duration": 14,
        "start_time": "2021-07-08T11:36:28.913Z"
      },
      {
        "duration": 9,
        "start_time": "2021-07-08T11:36:28.930Z"
      },
      {
        "duration": 55,
        "start_time": "2021-07-08T11:36:28.941Z"
      },
      {
        "duration": 27,
        "start_time": "2021-07-08T11:36:28.999Z"
      },
      {
        "duration": 30,
        "start_time": "2021-07-08T11:36:29.028Z"
      },
      {
        "duration": 31,
        "start_time": "2021-07-08T11:36:29.060Z"
      },
      {
        "duration": 3,
        "start_time": "2021-07-08T11:36:29.093Z"
      },
      {
        "duration": 12,
        "start_time": "2021-07-08T11:36:29.099Z"
      },
      {
        "duration": 11,
        "start_time": "2021-07-08T11:36:29.112Z"
      },
      {
        "duration": 12,
        "start_time": "2021-07-08T11:36:29.125Z"
      },
      {
        "duration": 9,
        "start_time": "2021-07-08T11:36:29.139Z"
      },
      {
        "duration": 31,
        "start_time": "2021-07-08T11:36:29.191Z"
      },
      {
        "duration": 17,
        "start_time": "2021-07-08T11:36:29.226Z"
      },
      {
        "duration": 7,
        "start_time": "2021-07-08T11:36:29.245Z"
      },
      {
        "duration": 10,
        "start_time": "2021-07-08T11:36:29.254Z"
      },
      {
        "duration": 30,
        "start_time": "2021-07-08T11:36:29.292Z"
      },
      {
        "duration": 11,
        "start_time": "2021-07-08T11:36:29.324Z"
      },
      {
        "duration": 11,
        "start_time": "2021-07-08T11:36:29.337Z"
      },
      {
        "duration": 230,
        "start_time": "2021-07-08T11:36:29.349Z"
      },
      {
        "duration": 13,
        "start_time": "2021-07-08T11:36:29.588Z"
      },
      {
        "duration": 205,
        "start_time": "2021-07-08T11:36:29.603Z"
      },
      {
        "duration": 20,
        "start_time": "2021-07-08T11:36:29.810Z"
      },
      {
        "duration": 9,
        "start_time": "2021-07-08T11:36:29.832Z"
      },
      {
        "duration": 16,
        "start_time": "2021-07-08T11:36:29.843Z"
      },
      {
        "duration": 283,
        "start_time": "2021-07-08T11:36:29.861Z"
      },
      {
        "duration": 50,
        "start_time": "2021-07-08T11:36:30.146Z"
      },
      {
        "duration": 14,
        "start_time": "2021-07-08T11:36:30.198Z"
      },
      {
        "duration": 11,
        "start_time": "2021-07-08T11:36:30.214Z"
      },
      {
        "duration": 245,
        "start_time": "2021-07-08T11:36:30.227Z"
      },
      {
        "duration": 439,
        "start_time": "2021-07-08T11:36:30.474Z"
      },
      {
        "duration": 210,
        "start_time": "2021-07-08T11:36:30.915Z"
      },
      {
        "duration": 15,
        "start_time": "2021-07-08T11:36:31.127Z"
      },
      {
        "duration": 17,
        "start_time": "2021-07-08T11:38:20.451Z"
      },
      {
        "duration": 642,
        "start_time": "2021-07-08T11:46:17.881Z"
      },
      {
        "duration": 210,
        "start_time": "2021-07-08T11:46:18.525Z"
      },
      {
        "duration": 104,
        "start_time": "2021-07-08T11:46:18.741Z"
      },
      {
        "duration": 8,
        "start_time": "2021-07-08T11:46:18.847Z"
      },
      {
        "duration": 25,
        "start_time": "2021-07-08T11:46:18.857Z"
      },
      {
        "duration": 14,
        "start_time": "2021-07-08T11:46:18.884Z"
      },
      {
        "duration": 22,
        "start_time": "2021-07-08T11:46:18.900Z"
      },
      {
        "duration": 5,
        "start_time": "2021-07-08T11:46:18.924Z"
      },
      {
        "duration": 13,
        "start_time": "2021-07-08T11:46:18.931Z"
      },
      {
        "duration": 45,
        "start_time": "2021-07-08T11:46:18.946Z"
      },
      {
        "duration": 12,
        "start_time": "2021-07-08T11:46:18.993Z"
      },
      {
        "duration": 38,
        "start_time": "2021-07-08T11:46:19.006Z"
      },
      {
        "duration": 50,
        "start_time": "2021-07-08T11:46:19.046Z"
      },
      {
        "duration": 29,
        "start_time": "2021-07-08T11:46:19.099Z"
      },
      {
        "duration": 7,
        "start_time": "2021-07-08T11:46:19.130Z"
      },
      {
        "duration": 3,
        "start_time": "2021-07-08T11:46:19.139Z"
      },
      {
        "duration": 11,
        "start_time": "2021-07-08T11:46:19.144Z"
      },
      {
        "duration": 40,
        "start_time": "2021-07-08T11:46:19.157Z"
      },
      {
        "duration": 15,
        "start_time": "2021-07-08T11:46:19.199Z"
      },
      {
        "duration": 10,
        "start_time": "2021-07-08T11:46:19.217Z"
      },
      {
        "duration": 68,
        "start_time": "2021-07-08T11:46:19.230Z"
      },
      {
        "duration": 17,
        "start_time": "2021-07-08T11:46:19.301Z"
      },
      {
        "duration": 7,
        "start_time": "2021-07-08T11:46:19.321Z"
      },
      {
        "duration": 11,
        "start_time": "2021-07-08T11:46:19.330Z"
      },
      {
        "duration": 59,
        "start_time": "2021-07-08T11:46:19.343Z"
      },
      {
        "duration": 17,
        "start_time": "2021-07-08T11:46:19.405Z"
      },
      {
        "duration": 16,
        "start_time": "2021-07-08T11:46:19.424Z"
      },
      {
        "duration": 252,
        "start_time": "2021-07-08T11:46:19.443Z"
      },
      {
        "duration": 9,
        "start_time": "2021-07-08T11:46:19.697Z"
      },
      {
        "duration": 224,
        "start_time": "2021-07-08T11:46:19.708Z"
      },
      {
        "duration": 21,
        "start_time": "2021-07-08T11:46:19.934Z"
      },
      {
        "duration": 9,
        "start_time": "2021-07-08T11:46:19.956Z"
      },
      {
        "duration": 32,
        "start_time": "2021-07-08T11:46:19.967Z"
      },
      {
        "duration": 288,
        "start_time": "2021-07-08T11:46:20.004Z"
      },
      {
        "duration": 23,
        "start_time": "2021-07-08T11:46:20.300Z"
      },
      {
        "duration": 11,
        "start_time": "2021-07-08T11:46:20.325Z"
      },
      {
        "duration": 11,
        "start_time": "2021-07-08T11:46:20.339Z"
      },
      {
        "duration": 259,
        "start_time": "2021-07-08T11:46:20.352Z"
      },
      {
        "duration": 438,
        "start_time": "2021-07-08T11:46:20.613Z"
      },
      {
        "duration": 207,
        "start_time": "2021-07-08T11:46:21.054Z"
      },
      {
        "duration": 27,
        "start_time": "2021-07-08T11:46:21.262Z"
      },
      {
        "duration": 19,
        "start_time": "2021-07-08T11:46:21.291Z"
      },
      {
        "duration": 820,
        "start_time": "2021-07-08T11:49:01.655Z"
      },
      {
        "duration": 372,
        "start_time": "2021-07-08T11:49:02.478Z"
      },
      {
        "duration": 98,
        "start_time": "2021-07-08T11:49:02.853Z"
      },
      {
        "duration": 6,
        "start_time": "2021-07-08T11:49:02.953Z"
      },
      {
        "duration": 39,
        "start_time": "2021-07-08T11:49:02.960Z"
      },
      {
        "duration": 9,
        "start_time": "2021-07-08T11:49:03.003Z"
      },
      {
        "duration": 23,
        "start_time": "2021-07-08T11:49:03.014Z"
      },
      {
        "duration": 6,
        "start_time": "2021-07-08T11:49:03.041Z"
      },
      {
        "duration": 20,
        "start_time": "2021-07-08T11:49:03.049Z"
      },
      {
        "duration": 18,
        "start_time": "2021-07-08T11:49:03.084Z"
      },
      {
        "duration": 14,
        "start_time": "2021-07-08T11:49:03.104Z"
      },
      {
        "duration": 39,
        "start_time": "2021-07-08T11:49:03.119Z"
      },
      {
        "duration": 38,
        "start_time": "2021-07-08T11:49:03.160Z"
      },
      {
        "duration": 26,
        "start_time": "2021-07-08T11:49:03.200Z"
      },
      {
        "duration": 7,
        "start_time": "2021-07-08T11:49:03.227Z"
      },
      {
        "duration": 4,
        "start_time": "2021-07-08T11:49:03.236Z"
      },
      {
        "duration": 15,
        "start_time": "2021-07-08T11:49:03.243Z"
      },
      {
        "duration": 21,
        "start_time": "2021-07-08T11:49:03.285Z"
      },
      {
        "duration": 17,
        "start_time": "2021-07-08T11:49:03.309Z"
      },
      {
        "duration": 10,
        "start_time": "2021-07-08T11:49:03.328Z"
      },
      {
        "duration": 65,
        "start_time": "2021-07-08T11:49:03.340Z"
      },
      {
        "duration": 18,
        "start_time": "2021-07-08T11:49:03.407Z"
      },
      {
        "duration": 8,
        "start_time": "2021-07-08T11:49:03.428Z"
      },
      {
        "duration": 15,
        "start_time": "2021-07-08T11:49:03.438Z"
      },
      {
        "duration": 40,
        "start_time": "2021-07-08T11:49:03.455Z"
      },
      {
        "duration": 12,
        "start_time": "2021-07-08T11:49:03.497Z"
      },
      {
        "duration": 29,
        "start_time": "2021-07-08T11:49:03.511Z"
      },
      {
        "duration": 285,
        "start_time": "2021-07-08T11:49:03.542Z"
      },
      {
        "duration": 8,
        "start_time": "2021-07-08T11:49:03.829Z"
      },
      {
        "duration": 227,
        "start_time": "2021-07-08T11:49:03.838Z"
      },
      {
        "duration": 40,
        "start_time": "2021-07-08T11:49:04.066Z"
      },
      {
        "duration": 10,
        "start_time": "2021-07-08T11:49:04.108Z"
      },
      {
        "duration": 26,
        "start_time": "2021-07-08T11:49:04.121Z"
      },
      {
        "duration": 290,
        "start_time": "2021-07-08T11:49:04.149Z"
      },
      {
        "duration": 26,
        "start_time": "2021-07-08T11:49:04.441Z"
      },
      {
        "duration": 31,
        "start_time": "2021-07-08T11:49:04.470Z"
      },
      {
        "duration": 14,
        "start_time": "2021-07-08T11:49:04.503Z"
      },
      {
        "duration": 259,
        "start_time": "2021-07-08T11:49:04.521Z"
      },
      {
        "duration": 480,
        "start_time": "2021-07-08T11:49:04.782Z"
      },
      {
        "duration": 225,
        "start_time": "2021-07-08T11:49:05.264Z"
      },
      {
        "duration": 22,
        "start_time": "2021-07-08T11:49:05.491Z"
      },
      {
        "duration": 24,
        "start_time": "2021-07-08T11:49:05.515Z"
      },
      {
        "duration": 634,
        "start_time": "2021-07-08T11:52:24.960Z"
      },
      {
        "duration": 199,
        "start_time": "2021-07-08T11:52:25.599Z"
      },
      {
        "duration": 106,
        "start_time": "2021-07-08T11:52:25.803Z"
      },
      {
        "duration": 7,
        "start_time": "2021-07-08T11:52:25.911Z"
      },
      {
        "duration": 29,
        "start_time": "2021-07-08T11:52:25.920Z"
      },
      {
        "duration": 7,
        "start_time": "2021-07-08T11:52:25.951Z"
      },
      {
        "duration": 26,
        "start_time": "2021-07-08T11:52:25.961Z"
      },
      {
        "duration": 11,
        "start_time": "2021-07-08T11:52:25.990Z"
      },
      {
        "duration": 29,
        "start_time": "2021-07-08T11:52:26.005Z"
      },
      {
        "duration": 9,
        "start_time": "2021-07-08T11:52:26.036Z"
      },
      {
        "duration": 8,
        "start_time": "2021-07-08T11:52:26.047Z"
      },
      {
        "duration": 63,
        "start_time": "2021-07-08T11:52:26.057Z"
      },
      {
        "duration": 17,
        "start_time": "2021-07-08T11:52:26.122Z"
      },
      {
        "duration": 43,
        "start_time": "2021-07-08T11:52:26.142Z"
      },
      {
        "duration": 17,
        "start_time": "2021-07-08T11:52:26.187Z"
      },
      {
        "duration": 5,
        "start_time": "2021-07-08T11:52:26.206Z"
      },
      {
        "duration": 12,
        "start_time": "2021-07-08T11:52:26.212Z"
      },
      {
        "duration": 11,
        "start_time": "2021-07-08T11:52:26.226Z"
      },
      {
        "duration": 12,
        "start_time": "2021-07-08T11:52:26.238Z"
      },
      {
        "duration": 38,
        "start_time": "2021-07-08T11:52:26.252Z"
      },
      {
        "duration": 40,
        "start_time": "2021-07-08T11:52:26.292Z"
      },
      {
        "duration": 17,
        "start_time": "2021-07-08T11:52:26.336Z"
      },
      {
        "duration": 39,
        "start_time": "2021-07-08T11:52:26.355Z"
      },
      {
        "duration": 11,
        "start_time": "2021-07-08T11:52:26.395Z"
      },
      {
        "duration": 23,
        "start_time": "2021-07-08T11:52:26.408Z"
      },
      {
        "duration": 12,
        "start_time": "2021-07-08T11:52:26.432Z"
      },
      {
        "duration": 41,
        "start_time": "2021-07-08T11:52:26.446Z"
      },
      {
        "duration": 215,
        "start_time": "2021-07-08T11:52:26.493Z"
      },
      {
        "duration": 8,
        "start_time": "2021-07-08T11:52:26.710Z"
      },
      {
        "duration": 228,
        "start_time": "2021-07-08T11:52:26.720Z"
      },
      {
        "duration": 18,
        "start_time": "2021-07-08T11:52:26.950Z"
      },
      {
        "duration": 35,
        "start_time": "2021-07-08T11:52:26.969Z"
      },
      {
        "duration": 23,
        "start_time": "2021-07-08T11:52:27.006Z"
      },
      {
        "duration": 258,
        "start_time": "2021-07-08T11:52:27.030Z"
      },
      {
        "duration": 24,
        "start_time": "2021-07-08T11:52:27.290Z"
      },
      {
        "duration": 12,
        "start_time": "2021-07-08T11:52:27.316Z"
      },
      {
        "duration": 10,
        "start_time": "2021-07-08T11:52:27.329Z"
      },
      {
        "duration": 298,
        "start_time": "2021-07-08T11:52:27.341Z"
      },
      {
        "duration": 436,
        "start_time": "2021-07-08T11:52:27.641Z"
      },
      {
        "duration": 216,
        "start_time": "2021-07-08T11:52:28.079Z"
      },
      {
        "duration": 20,
        "start_time": "2021-07-08T11:52:28.297Z"
      },
      {
        "duration": 17,
        "start_time": "2021-07-08T11:52:28.319Z"
      },
      {
        "duration": 747,
        "start_time": "2022-12-10T22:55:28.480Z"
      },
      {
        "duration": 218,
        "start_time": "2022-12-10T22:55:29.229Z"
      },
      {
        "duration": 16,
        "start_time": "2022-12-10T22:56:09.663Z"
      },
      {
        "duration": 18,
        "start_time": "2022-12-10T22:59:13.711Z"
      },
      {
        "duration": 628,
        "start_time": "2022-12-10T23:01:50.481Z"
      },
      {
        "duration": 253,
        "start_time": "2022-12-10T23:01:51.111Z"
      },
      {
        "duration": 19,
        "start_time": "2022-12-10T23:01:51.365Z"
      },
      {
        "duration": 15,
        "start_time": "2022-12-10T23:01:51.385Z"
      },
      {
        "duration": 50,
        "start_time": "2022-12-11T22:35:41.069Z"
      },
      {
        "duration": 815,
        "start_time": "2022-12-11T22:35:46.143Z"
      },
      {
        "duration": 389,
        "start_time": "2022-12-11T22:35:46.961Z"
      },
      {
        "duration": 23,
        "start_time": "2022-12-11T22:35:47.352Z"
      },
      {
        "duration": 9,
        "start_time": "2022-12-11T22:35:47.378Z"
      },
      {
        "duration": 18,
        "start_time": "2022-12-11T22:35:47.390Z"
      },
      {
        "duration": 75,
        "start_time": "2022-12-11T22:56:55.105Z"
      },
      {
        "duration": 10,
        "start_time": "2022-12-11T23:06:23.142Z"
      },
      {
        "duration": 21,
        "start_time": "2022-12-11T23:09:10.107Z"
      },
      {
        "duration": 19,
        "start_time": "2022-12-11T23:09:16.755Z"
      },
      {
        "duration": 16,
        "start_time": "2022-12-11T23:09:25.017Z"
      },
      {
        "duration": 10,
        "start_time": "2022-12-11T23:09:26.848Z"
      },
      {
        "duration": 11,
        "start_time": "2022-12-12T00:03:58.826Z"
      },
      {
        "duration": 791,
        "start_time": "2022-12-12T18:06:50.570Z"
      },
      {
        "duration": 270,
        "start_time": "2022-12-12T18:06:51.363Z"
      },
      {
        "duration": 21,
        "start_time": "2022-12-12T18:06:51.635Z"
      },
      {
        "duration": 15,
        "start_time": "2022-12-12T18:06:51.658Z"
      },
      {
        "duration": 22,
        "start_time": "2022-12-12T18:06:51.675Z"
      },
      {
        "duration": 15,
        "start_time": "2022-12-12T18:06:51.699Z"
      },
      {
        "duration": 3,
        "start_time": "2022-12-12T18:06:51.716Z"
      },
      {
        "duration": 86,
        "start_time": "2022-12-12T18:06:51.735Z"
      },
      {
        "duration": 18,
        "start_time": "2022-12-12T18:15:50.616Z"
      },
      {
        "duration": 10,
        "start_time": "2022-12-12T18:16:40.209Z"
      },
      {
        "duration": 3,
        "start_time": "2022-12-12T18:20:36.701Z"
      },
      {
        "duration": 10,
        "start_time": "2022-12-12T18:20:37.614Z"
      },
      {
        "duration": 4,
        "start_time": "2022-12-12T18:20:39.344Z"
      },
      {
        "duration": 13,
        "start_time": "2022-12-12T18:20:40.259Z"
      },
      {
        "duration": 2,
        "start_time": "2022-12-12T23:33:01.002Z"
      },
      {
        "duration": 608,
        "start_time": "2022-12-12T23:33:05.886Z"
      },
      {
        "duration": 342,
        "start_time": "2022-12-12T23:33:06.496Z"
      },
      {
        "duration": 19,
        "start_time": "2022-12-12T23:33:06.840Z"
      },
      {
        "duration": 7,
        "start_time": "2022-12-12T23:33:06.861Z"
      },
      {
        "duration": 19,
        "start_time": "2022-12-12T23:33:06.870Z"
      },
      {
        "duration": 10,
        "start_time": "2022-12-12T23:33:06.891Z"
      },
      {
        "duration": 33,
        "start_time": "2022-12-12T23:33:06.903Z"
      },
      {
        "duration": 72,
        "start_time": "2022-12-12T23:33:06.938Z"
      },
      {
        "duration": 1,
        "start_time": "2022-12-12T23:33:07.011Z"
      },
      {
        "duration": 0,
        "start_time": "2022-12-12T23:33:07.013Z"
      },
      {
        "duration": 637,
        "start_time": "2022-12-12T23:33:38.150Z"
      },
      {
        "duration": 326,
        "start_time": "2022-12-12T23:33:38.789Z"
      },
      {
        "duration": 26,
        "start_time": "2022-12-12T23:33:39.118Z"
      },
      {
        "duration": 13,
        "start_time": "2022-12-12T23:33:39.147Z"
      },
      {
        "duration": 20,
        "start_time": "2022-12-12T23:33:39.162Z"
      },
      {
        "duration": 11,
        "start_time": "2022-12-12T23:33:39.183Z"
      },
      {
        "duration": 6,
        "start_time": "2022-12-12T23:33:39.195Z"
      },
      {
        "duration": 17,
        "start_time": "2022-12-12T23:33:39.202Z"
      },
      {
        "duration": 89,
        "start_time": "2022-12-12T23:33:39.220Z"
      },
      {
        "duration": 13,
        "start_time": "2022-12-12T23:44:03.513Z"
      },
      {
        "duration": 3,
        "start_time": "2022-12-12T23:44:27.742Z"
      },
      {
        "duration": 9,
        "start_time": "2022-12-12T23:44:29.634Z"
      },
      {
        "duration": 12,
        "start_time": "2022-12-12T23:44:30.886Z"
      },
      {
        "duration": 13,
        "start_time": "2022-12-12T23:45:59.290Z"
      },
      {
        "duration": 646,
        "start_time": "2022-12-12T23:58:39.313Z"
      },
      {
        "duration": 277,
        "start_time": "2022-12-12T23:58:39.960Z"
      },
      {
        "duration": 20,
        "start_time": "2022-12-12T23:58:40.241Z"
      },
      {
        "duration": 13,
        "start_time": "2022-12-12T23:58:40.262Z"
      },
      {
        "duration": 36,
        "start_time": "2022-12-12T23:58:40.276Z"
      },
      {
        "duration": 11,
        "start_time": "2022-12-12T23:58:40.314Z"
      },
      {
        "duration": 11,
        "start_time": "2022-12-12T23:58:40.326Z"
      },
      {
        "duration": 17,
        "start_time": "2022-12-12T23:58:40.338Z"
      },
      {
        "duration": 89,
        "start_time": "2022-12-12T23:58:40.358Z"
      },
      {
        "duration": 12,
        "start_time": "2022-12-13T00:14:55.396Z"
      },
      {
        "duration": 11,
        "start_time": "2022-12-13T00:16:05.190Z"
      },
      {
        "duration": 14,
        "start_time": "2022-12-13T00:16:23.108Z"
      },
      {
        "duration": 7,
        "start_time": "2022-12-13T00:27:57.052Z"
      },
      {
        "duration": 16,
        "start_time": "2022-12-13T00:28:14.755Z"
      },
      {
        "duration": 644,
        "start_time": "2022-12-13T00:28:26.835Z"
      },
      {
        "duration": 288,
        "start_time": "2022-12-13T00:28:27.481Z"
      },
      {
        "duration": 19,
        "start_time": "2022-12-13T00:28:27.771Z"
      },
      {
        "duration": 11,
        "start_time": "2022-12-13T00:28:27.792Z"
      },
      {
        "duration": 21,
        "start_time": "2022-12-13T00:28:27.804Z"
      },
      {
        "duration": 10,
        "start_time": "2022-12-13T00:28:27.826Z"
      },
      {
        "duration": 28,
        "start_time": "2022-12-13T00:28:27.838Z"
      },
      {
        "duration": 6,
        "start_time": "2022-12-13T00:28:27.867Z"
      },
      {
        "duration": 12,
        "start_time": "2022-12-13T00:28:27.875Z"
      },
      {
        "duration": 14,
        "start_time": "2022-12-13T00:28:27.890Z"
      },
      {
        "duration": 99,
        "start_time": "2022-12-13T00:28:27.905Z"
      },
      {
        "duration": 17,
        "start_time": "2022-12-13T00:29:19.662Z"
      },
      {
        "duration": 610,
        "start_time": "2022-12-13T00:29:33.485Z"
      },
      {
        "duration": 248,
        "start_time": "2022-12-13T00:29:34.097Z"
      },
      {
        "duration": 20,
        "start_time": "2022-12-13T00:29:34.347Z"
      },
      {
        "duration": 7,
        "start_time": "2022-12-13T00:29:34.370Z"
      },
      {
        "duration": 30,
        "start_time": "2022-12-13T00:29:34.379Z"
      },
      {
        "duration": 14,
        "start_time": "2022-12-13T00:29:34.411Z"
      },
      {
        "duration": 31,
        "start_time": "2022-12-13T00:29:34.427Z"
      },
      {
        "duration": 8,
        "start_time": "2022-12-13T00:29:34.460Z"
      },
      {
        "duration": 20,
        "start_time": "2022-12-13T00:29:34.470Z"
      },
      {
        "duration": 26,
        "start_time": "2022-12-13T00:29:34.492Z"
      },
      {
        "duration": 25,
        "start_time": "2022-12-13T00:29:34.520Z"
      },
      {
        "duration": 82,
        "start_time": "2022-12-13T00:29:34.547Z"
      },
      {
        "duration": 3,
        "start_time": "2022-12-13T00:29:48.179Z"
      },
      {
        "duration": 9,
        "start_time": "2022-12-13T00:29:50.146Z"
      },
      {
        "duration": 17,
        "start_time": "2022-12-13T00:29:51.358Z"
      },
      {
        "duration": 3,
        "start_time": "2022-12-13T00:36:54.635Z"
      },
      {
        "duration": 11,
        "start_time": "2022-12-13T00:36:56.137Z"
      },
      {
        "duration": 17,
        "start_time": "2022-12-13T00:36:56.598Z"
      },
      {
        "duration": 25,
        "start_time": "2022-12-13T00:36:57.944Z"
      },
      {
        "duration": 595,
        "start_time": "2022-12-13T01:40:22.692Z"
      },
      {
        "duration": 280,
        "start_time": "2022-12-13T01:40:23.289Z"
      },
      {
        "duration": 19,
        "start_time": "2022-12-13T01:40:23.570Z"
      },
      {
        "duration": 16,
        "start_time": "2022-12-13T01:40:23.591Z"
      },
      {
        "duration": 17,
        "start_time": "2022-12-13T01:40:23.609Z"
      },
      {
        "duration": 10,
        "start_time": "2022-12-13T01:40:23.628Z"
      },
      {
        "duration": 21,
        "start_time": "2022-12-13T01:40:23.639Z"
      },
      {
        "duration": 6,
        "start_time": "2022-12-13T01:40:23.661Z"
      },
      {
        "duration": 16,
        "start_time": "2022-12-13T01:40:23.668Z"
      },
      {
        "duration": 16,
        "start_time": "2022-12-13T01:40:23.686Z"
      },
      {
        "duration": 32,
        "start_time": "2022-12-13T01:40:23.704Z"
      },
      {
        "duration": 75,
        "start_time": "2022-12-13T01:40:23.738Z"
      },
      {
        "duration": 12,
        "start_time": "2022-12-13T01:40:40.424Z"
      },
      {
        "duration": 9,
        "start_time": "2022-12-13T01:46:36.515Z"
      },
      {
        "duration": 627,
        "start_time": "2022-12-13T01:46:44.334Z"
      },
      {
        "duration": 133,
        "start_time": "2022-12-13T01:46:44.963Z"
      },
      {
        "duration": 18,
        "start_time": "2022-12-13T01:46:45.098Z"
      },
      {
        "duration": 7,
        "start_time": "2022-12-13T01:46:45.117Z"
      },
      {
        "duration": 18,
        "start_time": "2022-12-13T01:46:45.125Z"
      },
      {
        "duration": 14,
        "start_time": "2022-12-13T01:46:45.144Z"
      },
      {
        "duration": 21,
        "start_time": "2022-12-13T01:46:45.159Z"
      },
      {
        "duration": 3,
        "start_time": "2022-12-13T01:46:45.182Z"
      },
      {
        "duration": 22,
        "start_time": "2022-12-13T01:46:45.186Z"
      },
      {
        "duration": 74,
        "start_time": "2022-12-13T01:46:45.210Z"
      },
      {
        "duration": 0,
        "start_time": "2022-12-13T01:46:45.286Z"
      },
      {
        "duration": 0,
        "start_time": "2022-12-13T01:46:45.287Z"
      },
      {
        "duration": 15,
        "start_time": "2022-12-13T01:47:07.659Z"
      },
      {
        "duration": 33,
        "start_time": "2022-12-13T01:47:12.063Z"
      },
      {
        "duration": 707,
        "start_time": "2022-12-13T01:48:03.277Z"
      },
      {
        "duration": 29,
        "start_time": "2022-12-13T01:48:19.685Z"
      },
      {
        "duration": 8,
        "start_time": "2022-12-13T01:48:24.040Z"
      },
      {
        "duration": 23,
        "start_time": "2022-12-13T01:48:30.669Z"
      },
      {
        "duration": 23,
        "start_time": "2022-12-13T01:48:35.868Z"
      },
      {
        "duration": 12,
        "start_time": "2022-12-13T01:51:56.078Z"
      },
      {
        "duration": 11,
        "start_time": "2022-12-13T01:52:21.627Z"
      },
      {
        "duration": 10,
        "start_time": "2022-12-13T01:52:27.778Z"
      },
      {
        "duration": 11,
        "start_time": "2022-12-13T01:52:41.758Z"
      },
      {
        "duration": 11,
        "start_time": "2022-12-13T01:52:45.404Z"
      },
      {
        "duration": 10,
        "start_time": "2022-12-13T01:52:55.316Z"
      },
      {
        "duration": 10,
        "start_time": "2022-12-13T01:52:58.912Z"
      },
      {
        "duration": 9,
        "start_time": "2022-12-13T01:53:14.181Z"
      },
      {
        "duration": 7,
        "start_time": "2022-12-13T01:53:31.686Z"
      },
      {
        "duration": 812,
        "start_time": "2022-12-16T01:09:43.248Z"
      },
      {
        "duration": 366,
        "start_time": "2022-12-16T01:09:44.062Z"
      },
      {
        "duration": 19,
        "start_time": "2022-12-16T01:09:44.430Z"
      },
      {
        "duration": 6,
        "start_time": "2022-12-16T01:09:44.451Z"
      },
      {
        "duration": 15,
        "start_time": "2022-12-16T01:09:44.459Z"
      },
      {
        "duration": 10,
        "start_time": "2022-12-16T01:09:44.476Z"
      },
      {
        "duration": 19,
        "start_time": "2022-12-16T01:09:44.487Z"
      },
      {
        "duration": 4,
        "start_time": "2022-12-16T01:09:44.507Z"
      },
      {
        "duration": 9,
        "start_time": "2022-12-16T01:09:44.513Z"
      },
      {
        "duration": 100,
        "start_time": "2022-12-16T01:09:44.524Z"
      },
      {
        "duration": 0,
        "start_time": "2022-12-16T01:09:44.626Z"
      },
      {
        "duration": 0,
        "start_time": "2022-12-16T01:09:44.627Z"
      },
      {
        "duration": 0,
        "start_time": "2022-12-16T01:09:44.628Z"
      },
      {
        "duration": 558,
        "start_time": "2022-12-16T01:10:42.009Z"
      },
      {
        "duration": 117,
        "start_time": "2022-12-16T01:10:42.569Z"
      },
      {
        "duration": 18,
        "start_time": "2022-12-16T01:10:42.687Z"
      },
      {
        "duration": 6,
        "start_time": "2022-12-16T01:10:42.707Z"
      },
      {
        "duration": 21,
        "start_time": "2022-12-16T01:10:42.715Z"
      },
      {
        "duration": 15,
        "start_time": "2022-12-16T01:10:42.738Z"
      },
      {
        "duration": 31,
        "start_time": "2022-12-16T01:10:42.755Z"
      },
      {
        "duration": 4,
        "start_time": "2022-12-16T01:10:42.788Z"
      },
      {
        "duration": 23,
        "start_time": "2022-12-16T01:10:42.793Z"
      },
      {
        "duration": 17,
        "start_time": "2022-12-16T01:10:42.818Z"
      },
      {
        "duration": 36,
        "start_time": "2022-12-16T01:10:42.837Z"
      },
      {
        "duration": 22,
        "start_time": "2022-12-16T01:10:42.875Z"
      },
      {
        "duration": 13,
        "start_time": "2022-12-16T01:16:33.483Z"
      },
      {
        "duration": 71,
        "start_time": "2022-12-16T01:20:16.978Z"
      },
      {
        "duration": 603,
        "start_time": "2022-12-16T01:21:11.246Z"
      },
      {
        "duration": 115,
        "start_time": "2022-12-16T01:21:11.851Z"
      },
      {
        "duration": 17,
        "start_time": "2022-12-16T01:21:11.968Z"
      },
      {
        "duration": 6,
        "start_time": "2022-12-16T01:21:11.987Z"
      },
      {
        "duration": 18,
        "start_time": "2022-12-16T01:21:11.994Z"
      },
      {
        "duration": 8,
        "start_time": "2022-12-16T01:21:12.014Z"
      },
      {
        "duration": 19,
        "start_time": "2022-12-16T01:21:12.024Z"
      },
      {
        "duration": 8,
        "start_time": "2022-12-16T01:21:12.045Z"
      },
      {
        "duration": 10,
        "start_time": "2022-12-16T01:21:12.054Z"
      },
      {
        "duration": 13,
        "start_time": "2022-12-16T01:21:12.066Z"
      },
      {
        "duration": 29,
        "start_time": "2022-12-16T01:21:12.080Z"
      },
      {
        "duration": 42,
        "start_time": "2022-12-16T01:21:12.111Z"
      },
      {
        "duration": 12,
        "start_time": "2022-12-16T01:21:12.155Z"
      },
      {
        "duration": 64,
        "start_time": "2022-12-16T01:22:36.567Z"
      },
      {
        "duration": 22,
        "start_time": "2022-12-16T01:22:46.202Z"
      },
      {
        "duration": 6,
        "start_time": "2022-12-16T01:23:03.717Z"
      },
      {
        "duration": 19,
        "start_time": "2022-12-16T01:23:09.094Z"
      },
      {
        "duration": 9,
        "start_time": "2022-12-16T01:24:27.399Z"
      },
      {
        "duration": 7,
        "start_time": "2022-12-16T01:25:52.219Z"
      },
      {
        "duration": 11,
        "start_time": "2022-12-16T01:27:19.164Z"
      },
      {
        "duration": 585,
        "start_time": "2022-12-16T01:28:35.929Z"
      },
      {
        "duration": 10,
        "start_time": "2022-12-16T01:32:05.704Z"
      },
      {
        "duration": 49,
        "start_time": "2022-12-16T01:32:24.628Z"
      },
      {
        "duration": 9,
        "start_time": "2022-12-16T01:34:32.695Z"
      },
      {
        "duration": 19,
        "start_time": "2022-12-16T01:34:37.012Z"
      },
      {
        "duration": 46,
        "start_time": "2022-12-16T14:30:29.203Z"
      },
      {
        "duration": 817,
        "start_time": "2022-12-16T14:30:37.185Z"
      },
      {
        "duration": 398,
        "start_time": "2022-12-16T14:30:38.004Z"
      },
      {
        "duration": 18,
        "start_time": "2022-12-16T14:30:38.403Z"
      },
      {
        "duration": 23,
        "start_time": "2022-12-16T14:30:38.422Z"
      },
      {
        "duration": 30,
        "start_time": "2022-12-16T14:30:38.447Z"
      },
      {
        "duration": 31,
        "start_time": "2022-12-16T14:30:38.481Z"
      },
      {
        "duration": 44,
        "start_time": "2022-12-16T14:30:38.514Z"
      },
      {
        "duration": 35,
        "start_time": "2022-12-16T14:30:38.559Z"
      },
      {
        "duration": 40,
        "start_time": "2022-12-16T14:30:38.596Z"
      },
      {
        "duration": 33,
        "start_time": "2022-12-16T14:30:38.638Z"
      },
      {
        "duration": 62,
        "start_time": "2022-12-16T14:30:38.673Z"
      },
      {
        "duration": 20,
        "start_time": "2022-12-16T14:30:38.737Z"
      },
      {
        "duration": 42,
        "start_time": "2022-12-16T14:30:38.759Z"
      },
      {
        "duration": 42,
        "start_time": "2022-12-16T14:30:38.803Z"
      },
      {
        "duration": 400,
        "start_time": "2022-12-16T14:30:38.847Z"
      },
      {
        "duration": 0,
        "start_time": "2022-12-16T14:30:39.249Z"
      },
      {
        "duration": 0,
        "start_time": "2022-12-16T14:30:39.250Z"
      },
      {
        "duration": 0,
        "start_time": "2022-12-16T14:30:39.252Z"
      },
      {
        "duration": 29,
        "start_time": "2022-12-16T14:43:48.194Z"
      },
      {
        "duration": 11,
        "start_time": "2022-12-16T14:44:56.081Z"
      },
      {
        "duration": 72,
        "start_time": "2022-12-16T15:03:49.209Z"
      },
      {
        "duration": 9,
        "start_time": "2022-12-16T15:03:52.475Z"
      },
      {
        "duration": 7,
        "start_time": "2022-12-16T15:03:59.026Z"
      },
      {
        "duration": 15,
        "start_time": "2022-12-16T16:24:15.396Z"
      },
      {
        "duration": 13,
        "start_time": "2022-12-16T16:24:30.084Z"
      },
      {
        "duration": 12,
        "start_time": "2022-12-16T16:24:56.409Z"
      },
      {
        "duration": 3,
        "start_time": "2022-12-16T16:25:00.164Z"
      },
      {
        "duration": 16,
        "start_time": "2022-12-16T16:25:03.531Z"
      },
      {
        "duration": 14,
        "start_time": "2022-12-16T17:04:09.036Z"
      },
      {
        "duration": 16,
        "start_time": "2022-12-16T17:04:34.149Z"
      },
      {
        "duration": 15,
        "start_time": "2022-12-16T17:04:38.210Z"
      },
      {
        "duration": 10,
        "start_time": "2022-12-16T17:04:41.589Z"
      },
      {
        "duration": 18,
        "start_time": "2022-12-16T17:04:50.217Z"
      },
      {
        "duration": 16,
        "start_time": "2022-12-16T17:04:54.281Z"
      },
      {
        "duration": 11,
        "start_time": "2022-12-16T17:05:51.516Z"
      },
      {
        "duration": 12,
        "start_time": "2022-12-16T17:06:27.575Z"
      },
      {
        "duration": 8,
        "start_time": "2022-12-16T17:06:52.601Z"
      },
      {
        "duration": 578,
        "start_time": "2022-12-16T17:07:05.036Z"
      },
      {
        "duration": 3,
        "start_time": "2022-12-16T17:07:23.865Z"
      },
      {
        "duration": 851,
        "start_time": "2022-12-16T17:07:26.456Z"
      },
      {
        "duration": 842,
        "start_time": "2022-12-16T17:07:36.221Z"
      },
      {
        "duration": 0,
        "start_time": "2022-12-16T17:07:37.065Z"
      },
      {
        "duration": 630,
        "start_time": "2022-12-16T17:07:44.596Z"
      },
      {
        "duration": 125,
        "start_time": "2022-12-16T17:07:45.228Z"
      },
      {
        "duration": 19,
        "start_time": "2022-12-16T17:07:45.354Z"
      },
      {
        "duration": 6,
        "start_time": "2022-12-16T17:07:45.375Z"
      },
      {
        "duration": 16,
        "start_time": "2022-12-16T17:07:45.382Z"
      },
      {
        "duration": 9,
        "start_time": "2022-12-16T17:07:45.400Z"
      },
      {
        "duration": 15,
        "start_time": "2022-12-16T17:07:45.410Z"
      },
      {
        "duration": 5,
        "start_time": "2022-12-16T17:07:45.427Z"
      },
      {
        "duration": 9,
        "start_time": "2022-12-16T17:07:45.434Z"
      },
      {
        "duration": 35,
        "start_time": "2022-12-16T17:07:45.445Z"
      },
      {
        "duration": 31,
        "start_time": "2022-12-16T17:07:45.482Z"
      },
      {
        "duration": 20,
        "start_time": "2022-12-16T17:07:45.515Z"
      },
      {
        "duration": 15,
        "start_time": "2022-12-16T17:07:45.536Z"
      },
      {
        "duration": 35,
        "start_time": "2022-12-16T17:07:45.552Z"
      },
      {
        "duration": 13,
        "start_time": "2022-12-16T17:07:45.589Z"
      },
      {
        "duration": 7,
        "start_time": "2022-12-16T17:07:45.603Z"
      },
      {
        "duration": 629,
        "start_time": "2022-12-16T17:07:45.611Z"
      },
      {
        "duration": 0,
        "start_time": "2022-12-16T17:07:46.241Z"
      },
      {
        "duration": 0,
        "start_time": "2022-12-16T17:07:46.242Z"
      },
      {
        "duration": 580,
        "start_time": "2022-12-16T19:15:10.556Z"
      },
      {
        "duration": 573,
        "start_time": "2022-12-16T19:16:57.633Z"
      },
      {
        "duration": 124,
        "start_time": "2022-12-16T19:16:58.207Z"
      },
      {
        "duration": 18,
        "start_time": "2022-12-16T19:16:58.333Z"
      },
      {
        "duration": 10,
        "start_time": "2022-12-16T19:16:58.353Z"
      },
      {
        "duration": 17,
        "start_time": "2022-12-16T19:16:58.365Z"
      },
      {
        "duration": 9,
        "start_time": "2022-12-16T19:16:58.384Z"
      },
      {
        "duration": 34,
        "start_time": "2022-12-16T19:16:58.395Z"
      },
      {
        "duration": 4,
        "start_time": "2022-12-16T19:16:58.431Z"
      },
      {
        "duration": 11,
        "start_time": "2022-12-16T19:16:58.436Z"
      },
      {
        "duration": 15,
        "start_time": "2022-12-16T19:16:58.450Z"
      },
      {
        "duration": 41,
        "start_time": "2022-12-16T19:16:58.467Z"
      },
      {
        "duration": 23,
        "start_time": "2022-12-16T19:16:58.510Z"
      },
      {
        "duration": 16,
        "start_time": "2022-12-16T19:16:58.534Z"
      },
      {
        "duration": 35,
        "start_time": "2022-12-16T19:16:58.552Z"
      },
      {
        "duration": 12,
        "start_time": "2022-12-16T19:16:58.588Z"
      },
      {
        "duration": 615,
        "start_time": "2022-12-16T19:16:58.601Z"
      },
      {
        "duration": 0,
        "start_time": "2022-12-16T19:16:59.218Z"
      },
      {
        "duration": 0,
        "start_time": "2022-12-16T19:16:59.220Z"
      },
      {
        "duration": 14,
        "start_time": "2022-12-16T19:22:43.374Z"
      },
      {
        "duration": 8,
        "start_time": "2022-12-16T19:24:44.466Z"
      },
      {
        "duration": 7,
        "start_time": "2022-12-16T19:24:46.822Z"
      },
      {
        "duration": 77,
        "start_time": "2022-12-16T19:30:38.248Z"
      },
      {
        "duration": 19,
        "start_time": "2022-12-16T19:31:08.814Z"
      },
      {
        "duration": 34,
        "start_time": "2022-12-16T19:31:18.705Z"
      },
      {
        "duration": 11,
        "start_time": "2022-12-16T19:31:54.310Z"
      },
      {
        "duration": 646,
        "start_time": "2022-12-16T19:32:05.655Z"
      },
      {
        "duration": 120,
        "start_time": "2022-12-16T19:32:06.303Z"
      },
      {
        "duration": 18,
        "start_time": "2022-12-16T19:32:06.425Z"
      },
      {
        "duration": 7,
        "start_time": "2022-12-16T19:32:06.445Z"
      },
      {
        "duration": 20,
        "start_time": "2022-12-16T19:32:06.453Z"
      },
      {
        "duration": 10,
        "start_time": "2022-12-16T19:32:06.475Z"
      },
      {
        "duration": 15,
        "start_time": "2022-12-16T19:32:06.486Z"
      },
      {
        "duration": 6,
        "start_time": "2022-12-16T19:32:06.502Z"
      },
      {
        "duration": 15,
        "start_time": "2022-12-16T19:32:06.510Z"
      },
      {
        "duration": 14,
        "start_time": "2022-12-16T19:32:06.527Z"
      },
      {
        "duration": 44,
        "start_time": "2022-12-16T19:32:06.543Z"
      },
      {
        "duration": 20,
        "start_time": "2022-12-16T19:32:06.589Z"
      },
      {
        "duration": 17,
        "start_time": "2022-12-16T19:32:06.611Z"
      },
      {
        "duration": 24,
        "start_time": "2022-12-16T19:32:06.629Z"
      },
      {
        "duration": 43,
        "start_time": "2022-12-16T19:32:06.655Z"
      },
      {
        "duration": 8,
        "start_time": "2022-12-16T19:32:06.700Z"
      },
      {
        "duration": 10,
        "start_time": "2022-12-16T19:32:06.709Z"
      },
      {
        "duration": 10,
        "start_time": "2022-12-16T19:32:06.721Z"
      },
      {
        "duration": 56,
        "start_time": "2022-12-16T19:32:06.733Z"
      },
      {
        "duration": 53,
        "start_time": "2022-12-16T19:32:06.791Z"
      },
      {
        "duration": 33,
        "start_time": "2022-12-16T19:32:06.845Z"
      },
      {
        "duration": 9,
        "start_time": "2022-12-16T23:36:04.544Z"
      },
      {
        "duration": 860,
        "start_time": "2022-12-17T14:11:19.036Z"
      },
      {
        "duration": 257,
        "start_time": "2022-12-17T14:11:19.899Z"
      },
      {
        "duration": 22,
        "start_time": "2022-12-17T14:11:20.158Z"
      },
      {
        "duration": 36,
        "start_time": "2022-12-17T14:11:20.182Z"
      },
      {
        "duration": 47,
        "start_time": "2022-12-17T14:11:20.220Z"
      },
      {
        "duration": 17,
        "start_time": "2022-12-17T14:11:20.269Z"
      },
      {
        "duration": 51,
        "start_time": "2022-12-17T14:11:20.288Z"
      },
      {
        "duration": 12,
        "start_time": "2022-12-17T14:11:20.341Z"
      },
      {
        "duration": 22,
        "start_time": "2022-12-17T14:11:20.354Z"
      },
      {
        "duration": 19,
        "start_time": "2022-12-17T14:11:20.378Z"
      },
      {
        "duration": 47,
        "start_time": "2022-12-17T14:11:20.398Z"
      },
      {
        "duration": 14,
        "start_time": "2022-12-17T14:11:20.447Z"
      },
      {
        "duration": 36,
        "start_time": "2022-12-17T14:11:20.463Z"
      },
      {
        "duration": 34,
        "start_time": "2022-12-17T14:11:20.501Z"
      },
      {
        "duration": 9,
        "start_time": "2022-12-17T14:11:20.538Z"
      },
      {
        "duration": 34,
        "start_time": "2022-12-17T14:11:20.548Z"
      },
      {
        "duration": 66,
        "start_time": "2022-12-17T14:11:20.584Z"
      },
      {
        "duration": 32,
        "start_time": "2022-12-17T14:11:20.652Z"
      },
      {
        "duration": 9,
        "start_time": "2022-12-17T14:11:20.686Z"
      },
      {
        "duration": 29,
        "start_time": "2022-12-17T19:15:31.718Z"
      },
      {
        "duration": 8,
        "start_time": "2022-12-17T19:17:57.510Z"
      },
      {
        "duration": 7,
        "start_time": "2022-12-17T19:18:04.308Z"
      },
      {
        "duration": 8,
        "start_time": "2022-12-17T19:18:39.815Z"
      },
      {
        "duration": 8,
        "start_time": "2022-12-17T19:18:44.437Z"
      },
      {
        "duration": 8,
        "start_time": "2022-12-17T19:19:05.201Z"
      },
      {
        "duration": 20,
        "start_time": "2022-12-17T19:19:36.337Z"
      },
      {
        "duration": 16,
        "start_time": "2022-12-17T19:20:17.788Z"
      },
      {
        "duration": 10,
        "start_time": "2022-12-17T19:21:13.793Z"
      },
      {
        "duration": 9,
        "start_time": "2022-12-17T19:23:32.491Z"
      },
      {
        "duration": 9,
        "start_time": "2022-12-17T19:23:40.649Z"
      },
      {
        "duration": 8,
        "start_time": "2022-12-17T19:23:42.133Z"
      },
      {
        "duration": 9,
        "start_time": "2022-12-17T19:23:52.044Z"
      },
      {
        "duration": 8,
        "start_time": "2022-12-17T19:23:57.807Z"
      },
      {
        "duration": 17,
        "start_time": "2022-12-17T19:24:00.254Z"
      },
      {
        "duration": 26,
        "start_time": "2022-12-17T19:24:08.360Z"
      },
      {
        "duration": 9,
        "start_time": "2022-12-17T19:24:12.446Z"
      },
      {
        "duration": 19,
        "start_time": "2022-12-17T19:24:37.718Z"
      },
      {
        "duration": 28,
        "start_time": "2022-12-17T19:25:01.252Z"
      },
      {
        "duration": 19,
        "start_time": "2022-12-17T19:25:40.057Z"
      },
      {
        "duration": 12,
        "start_time": "2022-12-17T19:26:16.776Z"
      },
      {
        "duration": 8,
        "start_time": "2022-12-17T19:26:47.800Z"
      },
      {
        "duration": 9,
        "start_time": "2022-12-17T19:26:51.285Z"
      },
      {
        "duration": 10,
        "start_time": "2022-12-17T19:26:56.021Z"
      },
      {
        "duration": 21,
        "start_time": "2022-12-17T19:32:11.673Z"
      },
      {
        "duration": 638,
        "start_time": "2022-12-17T19:32:18.717Z"
      },
      {
        "duration": 120,
        "start_time": "2022-12-17T19:32:19.358Z"
      },
      {
        "duration": 19,
        "start_time": "2022-12-17T19:32:19.480Z"
      },
      {
        "duration": 7,
        "start_time": "2022-12-17T19:32:19.501Z"
      },
      {
        "duration": 17,
        "start_time": "2022-12-17T19:32:19.509Z"
      },
      {
        "duration": 9,
        "start_time": "2022-12-17T19:32:19.528Z"
      },
      {
        "duration": 45,
        "start_time": "2022-12-17T19:32:19.539Z"
      },
      {
        "duration": 3,
        "start_time": "2022-12-17T19:32:19.586Z"
      },
      {
        "duration": 11,
        "start_time": "2022-12-17T19:32:19.591Z"
      },
      {
        "duration": 15,
        "start_time": "2022-12-17T19:32:19.605Z"
      },
      {
        "duration": 59,
        "start_time": "2022-12-17T19:32:19.621Z"
      },
      {
        "duration": 15,
        "start_time": "2022-12-17T19:32:19.683Z"
      },
      {
        "duration": 13,
        "start_time": "2022-12-17T19:32:19.700Z"
      },
      {
        "duration": 34,
        "start_time": "2022-12-17T19:32:19.715Z"
      },
      {
        "duration": 34,
        "start_time": "2022-12-17T19:32:19.751Z"
      },
      {
        "duration": 13,
        "start_time": "2022-12-17T19:32:19.787Z"
      },
      {
        "duration": 21,
        "start_time": "2022-12-17T19:32:19.801Z"
      },
      {
        "duration": 77,
        "start_time": "2022-12-17T19:32:19.823Z"
      },
      {
        "duration": 25,
        "start_time": "2022-12-17T19:32:19.902Z"
      },
      {
        "duration": 9,
        "start_time": "2022-12-17T19:32:19.928Z"
      },
      {
        "duration": 44,
        "start_time": "2022-12-17T19:32:19.938Z"
      },
      {
        "duration": 8,
        "start_time": "2022-12-17T19:32:19.984Z"
      },
      {
        "duration": 10,
        "start_time": "2022-12-17T19:32:44.740Z"
      },
      {
        "duration": 13,
        "start_time": "2022-12-17T19:40:01.696Z"
      },
      {
        "duration": 667,
        "start_time": "2022-12-17T19:40:08.366Z"
      },
      {
        "duration": 121,
        "start_time": "2022-12-17T19:40:09.035Z"
      },
      {
        "duration": 21,
        "start_time": "2022-12-17T19:40:09.158Z"
      },
      {
        "duration": 7,
        "start_time": "2022-12-17T19:40:09.182Z"
      },
      {
        "duration": 18,
        "start_time": "2022-12-17T19:40:09.191Z"
      },
      {
        "duration": 11,
        "start_time": "2022-12-17T19:40:09.211Z"
      },
      {
        "duration": 19,
        "start_time": "2022-12-17T19:40:09.224Z"
      },
      {
        "duration": 33,
        "start_time": "2022-12-17T19:40:09.245Z"
      },
      {
        "duration": 11,
        "start_time": "2022-12-17T19:40:09.280Z"
      },
      {
        "duration": 20,
        "start_time": "2022-12-17T19:40:09.293Z"
      },
      {
        "duration": 17,
        "start_time": "2022-12-17T19:40:09.315Z"
      },
      {
        "duration": 29,
        "start_time": "2022-12-17T19:40:09.334Z"
      },
      {
        "duration": 18,
        "start_time": "2022-12-17T19:40:09.365Z"
      },
      {
        "duration": 57,
        "start_time": "2022-12-17T19:40:09.384Z"
      },
      {
        "duration": 9,
        "start_time": "2022-12-17T19:40:09.443Z"
      },
      {
        "duration": 29,
        "start_time": "2022-12-17T19:40:09.454Z"
      },
      {
        "duration": 45,
        "start_time": "2022-12-17T19:40:09.485Z"
      },
      {
        "duration": 72,
        "start_time": "2022-12-17T19:40:09.532Z"
      },
      {
        "duration": 28,
        "start_time": "2022-12-17T19:40:09.606Z"
      },
      {
        "duration": 9,
        "start_time": "2022-12-17T19:40:09.637Z"
      },
      {
        "duration": 39,
        "start_time": "2022-12-17T19:40:09.647Z"
      },
      {
        "duration": 8,
        "start_time": "2022-12-17T19:40:09.688Z"
      },
      {
        "duration": 86,
        "start_time": "2022-12-17T19:50:27.824Z"
      },
      {
        "duration": 16,
        "start_time": "2022-12-17T19:50:32.508Z"
      },
      {
        "duration": 19,
        "start_time": "2022-12-17T19:53:16.817Z"
      },
      {
        "duration": 18,
        "start_time": "2022-12-17T19:53:31.501Z"
      },
      {
        "duration": 16,
        "start_time": "2022-12-17T19:53:43.430Z"
      },
      {
        "duration": 15,
        "start_time": "2022-12-17T19:59:09.988Z"
      },
      {
        "duration": 21,
        "start_time": "2022-12-17T20:04:58.993Z"
      },
      {
        "duration": 18,
        "start_time": "2022-12-17T20:05:17.861Z"
      },
      {
        "duration": 14,
        "start_time": "2022-12-17T20:05:30.102Z"
      },
      {
        "duration": 13,
        "start_time": "2022-12-17T20:05:33.801Z"
      },
      {
        "duration": 20,
        "start_time": "2022-12-17T20:08:07.997Z"
      },
      {
        "duration": 46,
        "start_time": "2022-12-17T20:08:25.791Z"
      },
      {
        "duration": 21,
        "start_time": "2022-12-17T20:08:29.571Z"
      },
      {
        "duration": 20,
        "start_time": "2022-12-17T20:08:55.561Z"
      },
      {
        "duration": 20,
        "start_time": "2022-12-17T20:09:05.289Z"
      },
      {
        "duration": 54,
        "start_time": "2022-12-17T20:12:13.779Z"
      },
      {
        "duration": 25,
        "start_time": "2022-12-17T20:12:16.959Z"
      },
      {
        "duration": 21,
        "start_time": "2022-12-17T20:12:27.201Z"
      },
      {
        "duration": 28,
        "start_time": "2022-12-17T20:13:03.459Z"
      },
      {
        "duration": 46,
        "start_time": "2022-12-17T20:13:13.675Z"
      },
      {
        "duration": 27,
        "start_time": "2022-12-17T20:13:20.694Z"
      },
      {
        "duration": 25,
        "start_time": "2022-12-17T20:13:27.392Z"
      },
      {
        "duration": 23,
        "start_time": "2022-12-17T20:13:30.994Z"
      },
      {
        "duration": 21,
        "start_time": "2022-12-17T20:13:34.741Z"
      },
      {
        "duration": 16,
        "start_time": "2022-12-17T20:13:42.514Z"
      },
      {
        "duration": 19,
        "start_time": "2022-12-17T20:14:14.857Z"
      },
      {
        "duration": 18,
        "start_time": "2022-12-17T20:14:25.944Z"
      },
      {
        "duration": 20,
        "start_time": "2022-12-17T20:14:31.773Z"
      },
      {
        "duration": 22,
        "start_time": "2022-12-17T20:14:45.331Z"
      },
      {
        "duration": 18,
        "start_time": "2022-12-17T20:14:52.355Z"
      },
      {
        "duration": 16,
        "start_time": "2022-12-17T20:15:08.552Z"
      },
      {
        "duration": 20,
        "start_time": "2022-12-17T20:15:27.356Z"
      },
      {
        "duration": 21,
        "start_time": "2022-12-17T20:15:37.954Z"
      },
      {
        "duration": 65,
        "start_time": "2022-12-17T20:59:09.113Z"
      },
      {
        "duration": 18,
        "start_time": "2022-12-17T20:59:13.178Z"
      },
      {
        "duration": 18,
        "start_time": "2022-12-17T20:59:24.309Z"
      },
      {
        "duration": 19,
        "start_time": "2022-12-17T20:59:28.464Z"
      },
      {
        "duration": 21,
        "start_time": "2022-12-17T21:07:39.718Z"
      },
      {
        "duration": 17,
        "start_time": "2022-12-17T21:07:43.460Z"
      },
      {
        "duration": 24,
        "start_time": "2022-12-17T21:07:48.067Z"
      },
      {
        "duration": 20,
        "start_time": "2022-12-17T21:08:01.644Z"
      },
      {
        "duration": 19,
        "start_time": "2022-12-17T21:08:06.537Z"
      },
      {
        "duration": 19,
        "start_time": "2022-12-17T21:08:21.400Z"
      },
      {
        "duration": 23,
        "start_time": "2022-12-17T21:08:35.610Z"
      },
      {
        "duration": 13,
        "start_time": "2022-12-17T21:11:51.603Z"
      },
      {
        "duration": 11,
        "start_time": "2022-12-17T21:11:58.710Z"
      },
      {
        "duration": 20,
        "start_time": "2022-12-17T21:12:06.517Z"
      },
      {
        "duration": 39,
        "start_time": "2022-12-17T21:12:21.437Z"
      },
      {
        "duration": 18,
        "start_time": "2022-12-17T21:12:35.607Z"
      },
      {
        "duration": 17,
        "start_time": "2022-12-17T21:12:41.093Z"
      },
      {
        "duration": 33,
        "start_time": "2022-12-17T21:12:58.247Z"
      },
      {
        "duration": 21,
        "start_time": "2022-12-17T21:13:04.367Z"
      },
      {
        "duration": 683,
        "start_time": "2022-12-18T00:18:43.060Z"
      },
      {
        "duration": 119,
        "start_time": "2022-12-18T00:18:43.745Z"
      },
      {
        "duration": 19,
        "start_time": "2022-12-18T00:18:43.866Z"
      },
      {
        "duration": 7,
        "start_time": "2022-12-18T00:18:43.887Z"
      },
      {
        "duration": 25,
        "start_time": "2022-12-18T00:18:43.895Z"
      },
      {
        "duration": 19,
        "start_time": "2022-12-18T00:18:43.922Z"
      },
      {
        "duration": 24,
        "start_time": "2022-12-18T00:18:43.943Z"
      },
      {
        "duration": 25,
        "start_time": "2022-12-18T00:18:43.969Z"
      },
      {
        "duration": 12,
        "start_time": "2022-12-18T00:18:43.996Z"
      },
      {
        "duration": 17,
        "start_time": "2022-12-18T00:18:44.010Z"
      },
      {
        "duration": 14,
        "start_time": "2022-12-18T00:18:44.029Z"
      },
      {
        "duration": 17,
        "start_time": "2022-12-18T00:18:44.045Z"
      },
      {
        "duration": 15,
        "start_time": "2022-12-18T00:18:44.064Z"
      },
      {
        "duration": 27,
        "start_time": "2022-12-18T00:18:44.082Z"
      },
      {
        "duration": 7,
        "start_time": "2022-12-18T00:18:44.111Z"
      },
      {
        "duration": 11,
        "start_time": "2022-12-18T00:18:44.119Z"
      },
      {
        "duration": 8,
        "start_time": "2022-12-18T00:18:44.131Z"
      },
      {
        "duration": 78,
        "start_time": "2022-12-18T00:18:44.140Z"
      },
      {
        "duration": 29,
        "start_time": "2022-12-18T00:18:44.220Z"
      },
      {
        "duration": 27,
        "start_time": "2022-12-18T00:18:44.251Z"
      },
      {
        "duration": 13,
        "start_time": "2022-12-18T00:18:44.280Z"
      },
      {
        "duration": 11,
        "start_time": "2022-12-18T00:18:44.294Z"
      },
      {
        "duration": 49,
        "start_time": "2022-12-18T13:42:46.311Z"
      },
      {
        "duration": 760,
        "start_time": "2022-12-18T13:42:53.556Z"
      },
      {
        "duration": 348,
        "start_time": "2022-12-18T13:42:54.318Z"
      },
      {
        "duration": 23,
        "start_time": "2022-12-18T13:42:54.668Z"
      },
      {
        "duration": 31,
        "start_time": "2022-12-18T13:42:54.693Z"
      },
      {
        "duration": 23,
        "start_time": "2022-12-18T13:42:54.726Z"
      },
      {
        "duration": 21,
        "start_time": "2022-12-18T13:42:54.751Z"
      },
      {
        "duration": 17,
        "start_time": "2022-12-18T13:42:54.773Z"
      },
      {
        "duration": 10,
        "start_time": "2022-12-18T13:42:54.792Z"
      },
      {
        "duration": 16,
        "start_time": "2022-12-18T13:42:54.803Z"
      },
      {
        "duration": 22,
        "start_time": "2022-12-18T13:42:54.822Z"
      },
      {
        "duration": 19,
        "start_time": "2022-12-18T13:42:54.846Z"
      },
      {
        "duration": 14,
        "start_time": "2022-12-18T13:42:54.867Z"
      },
      {
        "duration": 18,
        "start_time": "2022-12-18T13:42:54.883Z"
      },
      {
        "duration": 46,
        "start_time": "2022-12-18T13:42:54.903Z"
      },
      {
        "duration": 6,
        "start_time": "2022-12-18T13:42:54.951Z"
      },
      {
        "duration": 18,
        "start_time": "2022-12-18T13:42:54.959Z"
      },
      {
        "duration": 26,
        "start_time": "2022-12-18T13:42:54.979Z"
      },
      {
        "duration": 55,
        "start_time": "2022-12-18T13:42:55.007Z"
      },
      {
        "duration": 20,
        "start_time": "2022-12-18T13:42:55.063Z"
      },
      {
        "duration": 36,
        "start_time": "2022-12-18T13:42:55.085Z"
      },
      {
        "duration": 33,
        "start_time": "2022-12-18T13:42:55.122Z"
      },
      {
        "duration": 53,
        "start_time": "2022-12-18T13:42:55.157Z"
      },
      {
        "duration": 13,
        "start_time": "2022-12-18T13:42:55.212Z"
      },
      {
        "duration": 5,
        "start_time": "2022-12-18T14:11:28.022Z"
      },
      {
        "duration": 88,
        "start_time": "2022-12-18T14:11:31.132Z"
      },
      {
        "duration": 17,
        "start_time": "2022-12-18T14:11:55.466Z"
      },
      {
        "duration": 18,
        "start_time": "2022-12-18T14:12:12.476Z"
      },
      {
        "duration": 19,
        "start_time": "2022-12-18T14:12:20.333Z"
      },
      {
        "duration": 17,
        "start_time": "2022-12-18T14:12:32.367Z"
      },
      {
        "duration": 25,
        "start_time": "2022-12-18T14:12:38.337Z"
      },
      {
        "duration": 24,
        "start_time": "2022-12-18T14:12:46.554Z"
      },
      {
        "duration": 19,
        "start_time": "2022-12-18T14:12:55.093Z"
      },
      {
        "duration": 25,
        "start_time": "2022-12-18T14:13:00.993Z"
      },
      {
        "duration": 17,
        "start_time": "2022-12-18T14:13:45.506Z"
      },
      {
        "duration": 17,
        "start_time": "2022-12-18T14:14:27.634Z"
      },
      {
        "duration": 21,
        "start_time": "2022-12-18T14:14:37.303Z"
      },
      {
        "duration": 21,
        "start_time": "2022-12-18T14:15:09.150Z"
      },
      {
        "duration": 8,
        "start_time": "2022-12-18T14:16:15.968Z"
      },
      {
        "duration": 648,
        "start_time": "2022-12-18T14:16:25.509Z"
      },
      {
        "duration": 120,
        "start_time": "2022-12-18T14:16:26.159Z"
      },
      {
        "duration": 20,
        "start_time": "2022-12-18T14:16:26.280Z"
      },
      {
        "duration": 6,
        "start_time": "2022-12-18T14:16:26.302Z"
      },
      {
        "duration": 18,
        "start_time": "2022-12-18T14:16:26.310Z"
      },
      {
        "duration": 12,
        "start_time": "2022-12-18T14:16:26.329Z"
      },
      {
        "duration": 19,
        "start_time": "2022-12-18T14:16:26.343Z"
      },
      {
        "duration": 14,
        "start_time": "2022-12-18T14:16:26.364Z"
      },
      {
        "duration": 15,
        "start_time": "2022-12-18T14:16:26.380Z"
      },
      {
        "duration": 17,
        "start_time": "2022-12-18T14:16:26.399Z"
      },
      {
        "duration": 13,
        "start_time": "2022-12-18T14:16:26.418Z"
      },
      {
        "duration": 15,
        "start_time": "2022-12-18T14:16:26.433Z"
      },
      {
        "duration": 10,
        "start_time": "2022-12-18T14:16:26.450Z"
      },
      {
        "duration": 54,
        "start_time": "2022-12-18T14:16:26.461Z"
      },
      {
        "duration": 6,
        "start_time": "2022-12-18T14:16:26.517Z"
      },
      {
        "duration": 17,
        "start_time": "2022-12-18T14:16:26.525Z"
      },
      {
        "duration": 13,
        "start_time": "2022-12-18T14:16:26.544Z"
      },
      {
        "duration": 72,
        "start_time": "2022-12-18T14:16:26.558Z"
      },
      {
        "duration": 28,
        "start_time": "2022-12-18T14:16:26.632Z"
      },
      {
        "duration": 8,
        "start_time": "2022-12-18T14:16:26.661Z"
      },
      {
        "duration": 16,
        "start_time": "2022-12-18T14:16:26.670Z"
      },
      {
        "duration": 30,
        "start_time": "2022-12-18T14:16:26.688Z"
      },
      {
        "duration": 20,
        "start_time": "2022-12-18T17:22:03.105Z"
      },
      {
        "duration": 26,
        "start_time": "2022-12-18T17:39:42.278Z"
      },
      {
        "duration": 6,
        "start_time": "2022-12-19T01:08:47.659Z"
      },
      {
        "duration": 61,
        "start_time": "2022-12-19T14:29:31.745Z"
      },
      {
        "duration": 792,
        "start_time": "2022-12-19T14:29:37.490Z"
      },
      {
        "duration": 630,
        "start_time": "2022-12-19T14:29:38.284Z"
      },
      {
        "duration": 20,
        "start_time": "2022-12-19T14:29:38.915Z"
      },
      {
        "duration": 7,
        "start_time": "2022-12-19T14:29:38.937Z"
      },
      {
        "duration": 22,
        "start_time": "2022-12-19T14:29:38.946Z"
      },
      {
        "duration": 12,
        "start_time": "2022-12-19T14:29:38.971Z"
      },
      {
        "duration": 28,
        "start_time": "2022-12-19T14:29:38.985Z"
      },
      {
        "duration": 8,
        "start_time": "2022-12-19T14:29:39.037Z"
      },
      {
        "duration": 24,
        "start_time": "2022-12-19T14:29:39.047Z"
      },
      {
        "duration": 28,
        "start_time": "2022-12-19T14:29:39.074Z"
      },
      {
        "duration": 24,
        "start_time": "2022-12-19T14:29:39.104Z"
      },
      {
        "duration": 16,
        "start_time": "2022-12-19T14:29:39.130Z"
      },
      {
        "duration": 23,
        "start_time": "2022-12-19T14:29:39.149Z"
      },
      {
        "duration": 44,
        "start_time": "2022-12-19T14:29:39.176Z"
      },
      {
        "duration": 18,
        "start_time": "2022-12-19T14:29:39.222Z"
      },
      {
        "duration": 15,
        "start_time": "2022-12-19T14:29:39.242Z"
      },
      {
        "duration": 12,
        "start_time": "2022-12-19T14:29:39.259Z"
      },
      {
        "duration": 75,
        "start_time": "2022-12-19T14:29:39.273Z"
      },
      {
        "duration": 7,
        "start_time": "2022-12-19T14:29:39.350Z"
      },
      {
        "duration": 17,
        "start_time": "2022-12-19T14:29:39.358Z"
      },
      {
        "duration": 92,
        "start_time": "2022-12-19T14:29:39.377Z"
      },
      {
        "duration": 0,
        "start_time": "2022-12-19T14:29:39.471Z"
      },
      {
        "duration": 9,
        "start_time": "2022-12-19T16:04:22.333Z"
      },
      {
        "duration": 10,
        "start_time": "2022-12-19T16:04:26.471Z"
      },
      {
        "duration": 32,
        "start_time": "2022-12-19T16:04:48.924Z"
      },
      {
        "duration": 15,
        "start_time": "2022-12-19T16:04:55.591Z"
      },
      {
        "duration": 18,
        "start_time": "2022-12-19T16:04:57.972Z"
      },
      {
        "duration": 13,
        "start_time": "2022-12-19T16:34:33.789Z"
      },
      {
        "duration": 7,
        "start_time": "2022-12-20T01:26:10.148Z"
      },
      {
        "duration": 6,
        "start_time": "2022-12-20T01:26:14.510Z"
      },
      {
        "duration": 7,
        "start_time": "2022-12-20T01:26:46.087Z"
      },
      {
        "duration": 7,
        "start_time": "2022-12-20T01:26:56.655Z"
      },
      {
        "duration": 8,
        "start_time": "2022-12-20T01:36:35.480Z"
      },
      {
        "duration": 7,
        "start_time": "2022-12-20T01:36:41.957Z"
      },
      {
        "duration": 7,
        "start_time": "2022-12-20T01:36:46.221Z"
      },
      {
        "duration": 7,
        "start_time": "2022-12-20T01:36:51.995Z"
      },
      {
        "duration": 10,
        "start_time": "2022-12-20T01:36:54.642Z"
      },
      {
        "duration": 8,
        "start_time": "2022-12-20T01:36:57.113Z"
      },
      {
        "duration": 6,
        "start_time": "2022-12-20T01:58:21.721Z"
      },
      {
        "duration": 7,
        "start_time": "2022-12-20T01:59:06.086Z"
      },
      {
        "duration": 8,
        "start_time": "2022-12-20T01:59:16.225Z"
      },
      {
        "duration": 10,
        "start_time": "2022-12-20T01:59:36.719Z"
      },
      {
        "duration": 16,
        "start_time": "2022-12-20T02:21:11.059Z"
      },
      {
        "duration": 7,
        "start_time": "2022-12-20T02:21:28.855Z"
      },
      {
        "duration": 631,
        "start_time": "2022-12-20T02:21:40.655Z"
      },
      {
        "duration": 123,
        "start_time": "2022-12-20T02:21:41.288Z"
      },
      {
        "duration": 19,
        "start_time": "2022-12-20T02:21:41.412Z"
      },
      {
        "duration": 6,
        "start_time": "2022-12-20T02:21:41.433Z"
      },
      {
        "duration": 15,
        "start_time": "2022-12-20T02:21:41.441Z"
      },
      {
        "duration": 9,
        "start_time": "2022-12-20T02:21:41.458Z"
      },
      {
        "duration": 19,
        "start_time": "2022-12-20T02:21:41.468Z"
      },
      {
        "duration": 3,
        "start_time": "2022-12-20T02:21:41.488Z"
      },
      {
        "duration": 10,
        "start_time": "2022-12-20T02:21:41.492Z"
      },
      {
        "duration": 38,
        "start_time": "2022-12-20T02:21:41.504Z"
      },
      {
        "duration": 12,
        "start_time": "2022-12-20T02:21:41.544Z"
      },
      {
        "duration": 14,
        "start_time": "2022-12-20T02:21:41.557Z"
      },
      {
        "duration": 9,
        "start_time": "2022-12-20T02:21:41.572Z"
      },
      {
        "duration": 26,
        "start_time": "2022-12-20T02:21:41.583Z"
      },
      {
        "duration": 30,
        "start_time": "2022-12-20T02:21:41.611Z"
      },
      {
        "duration": 8,
        "start_time": "2022-12-20T02:21:41.643Z"
      },
      {
        "duration": 13,
        "start_time": "2022-12-20T02:21:41.652Z"
      },
      {
        "duration": 76,
        "start_time": "2022-12-20T02:21:41.667Z"
      },
      {
        "duration": 6,
        "start_time": "2022-12-20T02:21:41.744Z"
      },
      {
        "duration": 19,
        "start_time": "2022-12-20T02:21:41.752Z"
      },
      {
        "duration": 14,
        "start_time": "2022-12-20T02:21:41.772Z"
      },
      {
        "duration": 23,
        "start_time": "2022-12-20T02:21:41.787Z"
      },
      {
        "duration": 30,
        "start_time": "2022-12-20T02:21:41.812Z"
      },
      {
        "duration": 8,
        "start_time": "2022-12-20T02:21:41.843Z"
      },
      {
        "duration": 9,
        "start_time": "2022-12-20T02:21:41.853Z"
      },
      {
        "duration": 8,
        "start_time": "2022-12-20T02:21:41.864Z"
      },
      {
        "duration": 18,
        "start_time": "2022-12-20T02:21:41.873Z"
      },
      {
        "duration": 9,
        "start_time": "2022-12-20T02:21:41.895Z"
      },
      {
        "duration": 5,
        "start_time": "2022-12-20T02:51:33.712Z"
      },
      {
        "duration": 5,
        "start_time": "2022-12-20T02:52:17.656Z"
      },
      {
        "duration": 5,
        "start_time": "2022-12-20T02:52:20.638Z"
      },
      {
        "duration": 5,
        "start_time": "2022-12-20T03:11:21.365Z"
      },
      {
        "duration": 9,
        "start_time": "2022-12-20T03:13:45.083Z"
      },
      {
        "duration": 7,
        "start_time": "2022-12-20T03:14:00.323Z"
      },
      {
        "duration": 952,
        "start_time": "2022-12-20T03:14:08.145Z"
      },
      {
        "duration": 833,
        "start_time": "2022-12-20T03:14:17.276Z"
      },
      {
        "duration": 849,
        "start_time": "2022-12-20T03:15:08.986Z"
      },
      {
        "duration": 11,
        "start_time": "2022-12-20T03:15:53.521Z"
      },
      {
        "duration": 871,
        "start_time": "2022-12-20T03:17:38.006Z"
      },
      {
        "duration": 620,
        "start_time": "2022-12-20T03:17:50.001Z"
      },
      {
        "duration": 131,
        "start_time": "2022-12-20T03:17:50.623Z"
      },
      {
        "duration": 20,
        "start_time": "2022-12-20T03:17:50.756Z"
      },
      {
        "duration": 8,
        "start_time": "2022-12-20T03:17:50.778Z"
      },
      {
        "duration": 21,
        "start_time": "2022-12-20T03:17:50.788Z"
      },
      {
        "duration": 10,
        "start_time": "2022-12-20T03:17:50.812Z"
      },
      {
        "duration": 24,
        "start_time": "2022-12-20T03:17:50.823Z"
      },
      {
        "duration": 8,
        "start_time": "2022-12-20T03:17:50.849Z"
      },
      {
        "duration": 12,
        "start_time": "2022-12-20T03:17:50.859Z"
      },
      {
        "duration": 16,
        "start_time": "2022-12-20T03:17:50.874Z"
      },
      {
        "duration": 23,
        "start_time": "2022-12-20T03:17:50.892Z"
      },
      {
        "duration": 29,
        "start_time": "2022-12-20T03:17:50.917Z"
      },
      {
        "duration": 10,
        "start_time": "2022-12-20T03:17:50.947Z"
      },
      {
        "duration": 29,
        "start_time": "2022-12-20T03:17:50.958Z"
      },
      {
        "duration": 7,
        "start_time": "2022-12-20T03:17:50.989Z"
      },
      {
        "duration": 9,
        "start_time": "2022-12-20T03:17:50.997Z"
      },
      {
        "duration": 36,
        "start_time": "2022-12-20T03:17:51.007Z"
      },
      {
        "duration": 60,
        "start_time": "2022-12-20T03:17:51.045Z"
      },
      {
        "duration": 6,
        "start_time": "2022-12-20T03:17:51.107Z"
      },
      {
        "duration": 32,
        "start_time": "2022-12-20T03:17:51.115Z"
      },
      {
        "duration": 12,
        "start_time": "2022-12-20T03:17:51.149Z"
      },
      {
        "duration": 18,
        "start_time": "2022-12-20T03:17:51.163Z"
      },
      {
        "duration": 6,
        "start_time": "2022-12-20T03:17:51.182Z"
      },
      {
        "duration": 9,
        "start_time": "2022-12-20T03:17:51.190Z"
      },
      {
        "duration": 5,
        "start_time": "2022-12-20T03:17:51.201Z"
      },
      {
        "duration": 34,
        "start_time": "2022-12-20T03:17:51.207Z"
      },
      {
        "duration": 8,
        "start_time": "2022-12-20T03:17:51.243Z"
      },
      {
        "duration": 8,
        "start_time": "2022-12-20T03:17:51.254Z"
      },
      {
        "duration": 746,
        "start_time": "2022-12-21T00:54:40.285Z"
      },
      {
        "duration": 318,
        "start_time": "2022-12-21T00:54:41.033Z"
      },
      {
        "duration": 18,
        "start_time": "2022-12-21T00:54:41.352Z"
      },
      {
        "duration": 6,
        "start_time": "2022-12-21T00:54:41.373Z"
      },
      {
        "duration": 23,
        "start_time": "2022-12-21T00:54:41.380Z"
      },
      {
        "duration": 9,
        "start_time": "2022-12-21T00:54:41.404Z"
      },
      {
        "duration": 21,
        "start_time": "2022-12-21T00:54:41.414Z"
      },
      {
        "duration": 12,
        "start_time": "2022-12-21T00:54:41.437Z"
      },
      {
        "duration": 14,
        "start_time": "2022-12-21T00:54:41.450Z"
      },
      {
        "duration": 17,
        "start_time": "2022-12-21T00:54:41.466Z"
      },
      {
        "duration": 13,
        "start_time": "2022-12-21T00:54:41.485Z"
      },
      {
        "duration": 13,
        "start_time": "2022-12-21T00:54:41.499Z"
      },
      {
        "duration": 11,
        "start_time": "2022-12-21T00:54:41.513Z"
      },
      {
        "duration": 37,
        "start_time": "2022-12-21T00:54:41.525Z"
      },
      {
        "duration": 7,
        "start_time": "2022-12-21T00:54:41.564Z"
      },
      {
        "duration": 17,
        "start_time": "2022-12-21T00:54:41.572Z"
      },
      {
        "duration": 10,
        "start_time": "2022-12-21T00:54:41.590Z"
      },
      {
        "duration": 70,
        "start_time": "2022-12-21T00:54:41.601Z"
      },
      {
        "duration": 5,
        "start_time": "2022-12-21T00:54:41.673Z"
      },
      {
        "duration": 12,
        "start_time": "2022-12-21T00:54:41.680Z"
      },
      {
        "duration": 34,
        "start_time": "2022-12-21T00:54:41.694Z"
      },
      {
        "duration": 23,
        "start_time": "2022-12-21T00:54:41.729Z"
      },
      {
        "duration": 7,
        "start_time": "2022-12-21T00:54:41.754Z"
      },
      {
        "duration": 6,
        "start_time": "2022-12-21T00:54:41.763Z"
      },
      {
        "duration": 17,
        "start_time": "2022-12-21T00:54:41.771Z"
      },
      {
        "duration": 8,
        "start_time": "2022-12-21T00:54:41.789Z"
      },
      {
        "duration": 23,
        "start_time": "2022-12-21T00:54:41.799Z"
      },
      {
        "duration": 17,
        "start_time": "2022-12-21T00:59:43.111Z"
      },
      {
        "duration": 17,
        "start_time": "2022-12-21T01:00:40.557Z"
      },
      {
        "duration": 26,
        "start_time": "2022-12-21T01:18:31.756Z"
      },
      {
        "duration": 26,
        "start_time": "2022-12-21T01:22:21.879Z"
      },
      {
        "duration": 26,
        "start_time": "2022-12-21T01:24:16.584Z"
      },
      {
        "duration": 28,
        "start_time": "2022-12-21T01:24:23.653Z"
      },
      {
        "duration": 590,
        "start_time": "2022-12-21T01:33:56.118Z"
      },
      {
        "duration": 124,
        "start_time": "2022-12-21T01:33:56.710Z"
      },
      {
        "duration": 17,
        "start_time": "2022-12-21T01:33:56.835Z"
      },
      {
        "duration": 7,
        "start_time": "2022-12-21T01:33:56.854Z"
      },
      {
        "duration": 17,
        "start_time": "2022-12-21T01:33:56.862Z"
      },
      {
        "duration": 8,
        "start_time": "2022-12-21T01:33:56.880Z"
      },
      {
        "duration": 17,
        "start_time": "2022-12-21T01:33:56.890Z"
      },
      {
        "duration": 13,
        "start_time": "2022-12-21T01:33:56.908Z"
      },
      {
        "duration": 7,
        "start_time": "2022-12-21T01:33:56.922Z"
      },
      {
        "duration": 15,
        "start_time": "2022-12-21T01:33:56.931Z"
      },
      {
        "duration": 10,
        "start_time": "2022-12-21T01:33:56.948Z"
      },
      {
        "duration": 13,
        "start_time": "2022-12-21T01:33:56.959Z"
      },
      {
        "duration": 10,
        "start_time": "2022-12-21T01:33:56.973Z"
      },
      {
        "duration": 53,
        "start_time": "2022-12-21T01:33:56.984Z"
      },
      {
        "duration": 6,
        "start_time": "2022-12-21T01:33:57.038Z"
      },
      {
        "duration": 11,
        "start_time": "2022-12-21T01:33:57.046Z"
      },
      {
        "duration": 8,
        "start_time": "2022-12-21T01:33:57.058Z"
      },
      {
        "duration": 69,
        "start_time": "2022-12-21T01:33:57.068Z"
      },
      {
        "duration": 6,
        "start_time": "2022-12-21T01:33:57.138Z"
      },
      {
        "duration": 15,
        "start_time": "2022-12-21T01:33:57.145Z"
      },
      {
        "duration": 10,
        "start_time": "2022-12-21T01:33:57.161Z"
      },
      {
        "duration": 19,
        "start_time": "2022-12-21T01:33:57.173Z"
      },
      {
        "duration": 28,
        "start_time": "2022-12-21T01:33:57.194Z"
      },
      {
        "duration": 6,
        "start_time": "2022-12-21T01:33:57.223Z"
      },
      {
        "duration": 8,
        "start_time": "2022-12-21T01:33:57.231Z"
      },
      {
        "duration": 12,
        "start_time": "2022-12-21T01:33:57.240Z"
      },
      {
        "duration": 12,
        "start_time": "2022-12-21T01:33:57.253Z"
      },
      {
        "duration": 30,
        "start_time": "2022-12-21T01:33:57.268Z"
      },
      {
        "duration": 36,
        "start_time": "2022-12-21T01:33:57.299Z"
      },
      {
        "duration": 25,
        "start_time": "2022-12-21T01:34:16.100Z"
      },
      {
        "duration": 5,
        "start_time": "2022-12-21T01:34:22.331Z"
      },
      {
        "duration": 23,
        "start_time": "2022-12-21T01:49:46.862Z"
      },
      {
        "duration": 5,
        "start_time": "2022-12-21T01:50:02.540Z"
      },
      {
        "duration": 5,
        "start_time": "2022-12-21T01:55:49.882Z"
      },
      {
        "duration": 15,
        "start_time": "2022-12-21T01:55:59.498Z"
      },
      {
        "duration": 49,
        "start_time": "2022-12-21T01:59:01.726Z"
      },
      {
        "duration": 67,
        "start_time": "2022-12-21T02:04:24.934Z"
      },
      {
        "duration": 7,
        "start_time": "2022-12-21T02:04:41.005Z"
      },
      {
        "duration": 18,
        "start_time": "2022-12-21T02:04:46.458Z"
      },
      {
        "duration": 17,
        "start_time": "2022-12-21T02:04:47.916Z"
      },
      {
        "duration": 17,
        "start_time": "2022-12-21T02:05:42.485Z"
      },
      {
        "duration": 17,
        "start_time": "2022-12-21T02:06:10.410Z"
      },
      {
        "duration": 15,
        "start_time": "2022-12-21T02:06:13.661Z"
      },
      {
        "duration": 25,
        "start_time": "2022-12-21T02:06:29.616Z"
      },
      {
        "duration": 5,
        "start_time": "2022-12-21T02:20:39.880Z"
      },
      {
        "duration": 27,
        "start_time": "2022-12-21T02:20:47.233Z"
      },
      {
        "duration": 5,
        "start_time": "2022-12-21T02:21:31.971Z"
      },
      {
        "duration": 26,
        "start_time": "2022-12-21T02:21:32.868Z"
      },
      {
        "duration": 27,
        "start_time": "2022-12-21T02:22:07.353Z"
      },
      {
        "duration": 28,
        "start_time": "2022-12-21T02:22:22.480Z"
      },
      {
        "duration": 28,
        "start_time": "2022-12-21T02:23:09.334Z"
      },
      {
        "duration": 26,
        "start_time": "2022-12-21T02:24:36.268Z"
      },
      {
        "duration": 29,
        "start_time": "2022-12-21T02:24:43.043Z"
      },
      {
        "duration": 11,
        "start_time": "2022-12-21T02:30:21.292Z"
      },
      {
        "duration": 155,
        "start_time": "2022-12-21T02:30:44.487Z"
      },
      {
        "duration": 24,
        "start_time": "2022-12-21T02:34:25.948Z"
      },
      {
        "duration": 28,
        "start_time": "2022-12-21T02:34:43.537Z"
      },
      {
        "duration": 8,
        "start_time": "2022-12-21T02:56:39.370Z"
      },
      {
        "duration": 3,
        "start_time": "2022-12-21T02:56:40.735Z"
      },
      {
        "duration": 8,
        "start_time": "2022-12-21T02:56:41.644Z"
      },
      {
        "duration": 17,
        "start_time": "2022-12-21T02:59:13.421Z"
      },
      {
        "duration": 8,
        "start_time": "2022-12-21T02:59:23.847Z"
      },
      {
        "duration": 14,
        "start_time": "2022-12-21T02:59:24.762Z"
      },
      {
        "duration": 14,
        "start_time": "2022-12-21T03:09:34.513Z"
      },
      {
        "duration": 18,
        "start_time": "2022-12-21T03:10:55.985Z"
      },
      {
        "duration": 611,
        "start_time": "2022-12-21T03:11:02.120Z"
      },
      {
        "duration": 134,
        "start_time": "2022-12-21T03:11:02.732Z"
      },
      {
        "duration": 18,
        "start_time": "2022-12-21T03:11:02.867Z"
      },
      {
        "duration": 9,
        "start_time": "2022-12-21T03:11:02.887Z"
      },
      {
        "duration": 20,
        "start_time": "2022-12-21T03:11:02.897Z"
      },
      {
        "duration": 9,
        "start_time": "2022-12-21T03:11:02.919Z"
      },
      {
        "duration": 18,
        "start_time": "2022-12-21T03:11:02.929Z"
      },
      {
        "duration": 2,
        "start_time": "2022-12-21T03:11:02.949Z"
      },
      {
        "duration": 20,
        "start_time": "2022-12-21T03:11:02.952Z"
      },
      {
        "duration": 14,
        "start_time": "2022-12-21T03:11:02.975Z"
      },
      {
        "duration": 17,
        "start_time": "2022-12-21T03:11:02.990Z"
      },
      {
        "duration": 16,
        "start_time": "2022-12-21T03:11:03.009Z"
      },
      {
        "duration": 9,
        "start_time": "2022-12-21T03:11:03.026Z"
      },
      {
        "duration": 36,
        "start_time": "2022-12-21T03:11:03.036Z"
      },
      {
        "duration": 5,
        "start_time": "2022-12-21T03:11:03.074Z"
      },
      {
        "duration": 12,
        "start_time": "2022-12-21T03:11:03.081Z"
      },
      {
        "duration": 7,
        "start_time": "2022-12-21T03:11:03.094Z"
      },
      {
        "duration": 67,
        "start_time": "2022-12-21T03:11:03.103Z"
      },
      {
        "duration": 6,
        "start_time": "2022-12-21T03:11:03.171Z"
      },
      {
        "duration": 21,
        "start_time": "2022-12-21T03:11:03.179Z"
      },
      {
        "duration": 15,
        "start_time": "2022-12-21T03:11:03.201Z"
      },
      {
        "duration": 29,
        "start_time": "2022-12-21T03:11:03.221Z"
      },
      {
        "duration": 9,
        "start_time": "2022-12-21T03:11:03.251Z"
      },
      {
        "duration": 18,
        "start_time": "2022-12-21T03:11:03.261Z"
      },
      {
        "duration": 46,
        "start_time": "2022-12-21T03:11:03.280Z"
      },
      {
        "duration": 11,
        "start_time": "2022-12-21T03:11:03.328Z"
      },
      {
        "duration": 26,
        "start_time": "2022-12-21T03:11:03.341Z"
      },
      {
        "duration": 42,
        "start_time": "2022-12-21T03:11:03.370Z"
      },
      {
        "duration": 7,
        "start_time": "2022-12-21T03:11:03.413Z"
      },
      {
        "duration": 38,
        "start_time": "2022-12-21T03:11:03.421Z"
      },
      {
        "duration": 8,
        "start_time": "2022-12-21T03:11:03.461Z"
      },
      {
        "duration": 20,
        "start_time": "2022-12-21T03:11:03.470Z"
      },
      {
        "duration": 29,
        "start_time": "2022-12-21T03:11:03.492Z"
      },
      {
        "duration": 4,
        "start_time": "2022-12-21T03:11:03.522Z"
      },
      {
        "duration": 18,
        "start_time": "2022-12-21T03:11:03.527Z"
      },
      {
        "duration": 20,
        "start_time": "2022-12-21T03:11:03.546Z"
      },
      {
        "duration": 88,
        "start_time": "2022-12-21T03:11:03.568Z"
      },
      {
        "duration": 0,
        "start_time": "2022-12-21T03:11:03.657Z"
      },
      {
        "duration": 204,
        "start_time": "2022-12-21T03:12:27.210Z"
      },
      {
        "duration": 196,
        "start_time": "2022-12-21T03:12:58.683Z"
      },
      {
        "duration": 211,
        "start_time": "2022-12-21T03:13:23.362Z"
      },
      {
        "duration": 549,
        "start_time": "2022-12-21T03:13:41.373Z"
      },
      {
        "duration": 114,
        "start_time": "2022-12-21T03:13:41.924Z"
      },
      {
        "duration": 16,
        "start_time": "2022-12-21T03:13:42.039Z"
      },
      {
        "duration": 8,
        "start_time": "2022-12-21T03:13:42.057Z"
      },
      {
        "duration": 22,
        "start_time": "2022-12-21T03:13:42.066Z"
      },
      {
        "duration": 9,
        "start_time": "2022-12-21T03:13:42.089Z"
      },
      {
        "duration": 16,
        "start_time": "2022-12-21T03:13:42.099Z"
      },
      {
        "duration": 4,
        "start_time": "2022-12-21T03:13:42.117Z"
      },
      {
        "duration": 8,
        "start_time": "2022-12-21T03:13:42.122Z"
      },
      {
        "duration": 13,
        "start_time": "2022-12-21T03:13:42.134Z"
      },
      {
        "duration": 11,
        "start_time": "2022-12-21T03:13:42.148Z"
      },
      {
        "duration": 13,
        "start_time": "2022-12-21T03:13:42.160Z"
      },
      {
        "duration": 9,
        "start_time": "2022-12-21T03:13:42.174Z"
      },
      {
        "duration": 48,
        "start_time": "2022-12-21T03:13:42.184Z"
      },
      {
        "duration": 6,
        "start_time": "2022-12-21T03:13:42.234Z"
      },
      {
        "duration": 12,
        "start_time": "2022-12-21T03:13:42.241Z"
      },
      {
        "duration": 10,
        "start_time": "2022-12-21T03:13:42.254Z"
      },
      {
        "duration": 61,
        "start_time": "2022-12-21T03:13:42.265Z"
      },
      {
        "duration": 6,
        "start_time": "2022-12-21T03:13:42.327Z"
      },
      {
        "duration": 14,
        "start_time": "2022-12-21T03:13:42.334Z"
      },
      {
        "duration": 11,
        "start_time": "2022-12-21T03:13:42.349Z"
      },
      {
        "duration": 21,
        "start_time": "2022-12-21T03:13:42.361Z"
      },
      {
        "duration": 7,
        "start_time": "2022-12-21T03:13:42.384Z"
      },
      {
        "duration": 32,
        "start_time": "2022-12-21T03:13:42.392Z"
      },
      {
        "duration": 12,
        "start_time": "2022-12-21T03:13:42.426Z"
      },
      {
        "duration": 7,
        "start_time": "2022-12-21T03:13:42.439Z"
      },
      {
        "duration": 8,
        "start_time": "2022-12-21T03:13:42.448Z"
      },
      {
        "duration": 25,
        "start_time": "2022-12-21T03:13:42.459Z"
      },
      {
        "duration": 6,
        "start_time": "2022-12-21T03:13:42.485Z"
      },
      {
        "duration": 46,
        "start_time": "2022-12-21T03:13:42.492Z"
      },
      {
        "duration": 8,
        "start_time": "2022-12-21T03:13:42.539Z"
      },
      {
        "duration": 31,
        "start_time": "2022-12-21T03:13:42.548Z"
      },
      {
        "duration": 12,
        "start_time": "2022-12-21T03:13:42.580Z"
      },
      {
        "duration": 45,
        "start_time": "2022-12-21T03:13:42.593Z"
      },
      {
        "duration": 4,
        "start_time": "2022-12-21T03:13:42.639Z"
      },
      {
        "duration": 10,
        "start_time": "2022-12-21T03:13:42.644Z"
      },
      {
        "duration": 12,
        "start_time": "2022-12-21T03:13:42.655Z"
      },
      {
        "duration": 303,
        "start_time": "2022-12-21T03:13:42.668Z"
      },
      {
        "duration": 0,
        "start_time": "2022-12-21T03:13:42.973Z"
      },
      {
        "duration": 0,
        "start_time": "2022-12-21T03:13:42.973Z"
      },
      {
        "duration": 13,
        "start_time": "2022-12-21T03:14:23.816Z"
      },
      {
        "duration": 589,
        "start_time": "2022-12-21T03:14:28.107Z"
      },
      {
        "duration": 113,
        "start_time": "2022-12-21T03:14:28.698Z"
      },
      {
        "duration": 15,
        "start_time": "2022-12-21T03:14:28.813Z"
      },
      {
        "duration": 6,
        "start_time": "2022-12-21T03:14:28.830Z"
      },
      {
        "duration": 23,
        "start_time": "2022-12-21T03:14:28.837Z"
      },
      {
        "duration": 9,
        "start_time": "2022-12-21T03:14:28.862Z"
      },
      {
        "duration": 16,
        "start_time": "2022-12-21T03:14:28.872Z"
      },
      {
        "duration": 5,
        "start_time": "2022-12-21T03:14:28.890Z"
      },
      {
        "duration": 20,
        "start_time": "2022-12-21T03:14:28.896Z"
      },
      {
        "duration": 18,
        "start_time": "2022-12-21T03:14:28.920Z"
      },
      {
        "duration": 11,
        "start_time": "2022-12-21T03:14:28.940Z"
      },
      {
        "duration": 12,
        "start_time": "2022-12-21T03:14:28.952Z"
      },
      {
        "duration": 10,
        "start_time": "2022-12-21T03:14:28.966Z"
      },
      {
        "duration": 45,
        "start_time": "2022-12-21T03:14:28.977Z"
      },
      {
        "duration": 6,
        "start_time": "2022-12-21T03:14:29.023Z"
      },
      {
        "duration": 9,
        "start_time": "2022-12-21T03:14:29.030Z"
      },
      {
        "duration": 11,
        "start_time": "2022-12-21T03:14:29.040Z"
      },
      {
        "duration": 53,
        "start_time": "2022-12-21T03:14:29.052Z"
      },
      {
        "duration": 20,
        "start_time": "2022-12-21T03:14:29.106Z"
      },
      {
        "duration": 16,
        "start_time": "2022-12-21T03:14:29.127Z"
      },
      {
        "duration": 12,
        "start_time": "2022-12-21T03:14:29.144Z"
      },
      {
        "duration": 20,
        "start_time": "2022-12-21T03:14:29.157Z"
      },
      {
        "duration": 6,
        "start_time": "2022-12-21T03:14:29.178Z"
      },
      {
        "duration": 6,
        "start_time": "2022-12-21T03:14:29.185Z"
      },
      {
        "duration": 32,
        "start_time": "2022-12-21T03:14:29.192Z"
      },
      {
        "duration": 8,
        "start_time": "2022-12-21T03:14:29.226Z"
      },
      {
        "duration": 13,
        "start_time": "2022-12-21T03:14:29.235Z"
      },
      {
        "duration": 26,
        "start_time": "2022-12-21T03:14:29.251Z"
      },
      {
        "duration": 6,
        "start_time": "2022-12-21T03:14:29.279Z"
      },
      {
        "duration": 15,
        "start_time": "2022-12-21T03:14:29.286Z"
      },
      {
        "duration": 41,
        "start_time": "2022-12-21T03:14:29.302Z"
      },
      {
        "duration": 15,
        "start_time": "2022-12-21T03:14:29.344Z"
      },
      {
        "duration": 32,
        "start_time": "2022-12-21T03:14:29.360Z"
      },
      {
        "duration": 12,
        "start_time": "2022-12-21T03:14:29.393Z"
      },
      {
        "duration": 36,
        "start_time": "2022-12-21T03:14:29.407Z"
      },
      {
        "duration": 3,
        "start_time": "2022-12-21T03:14:29.444Z"
      },
      {
        "duration": 18,
        "start_time": "2022-12-21T03:14:29.448Z"
      },
      {
        "duration": 24,
        "start_time": "2022-12-21T03:14:29.467Z"
      },
      {
        "duration": 247,
        "start_time": "2022-12-21T03:14:29.492Z"
      },
      {
        "duration": 0,
        "start_time": "2022-12-21T03:14:29.740Z"
      },
      {
        "duration": 0,
        "start_time": "2022-12-21T03:14:29.742Z"
      },
      {
        "duration": 27,
        "start_time": "2022-12-21T03:15:19.164Z"
      },
      {
        "duration": 30,
        "start_time": "2022-12-21T03:15:23.119Z"
      },
      {
        "duration": 13,
        "start_time": "2022-12-21T03:15:30.300Z"
      },
      {
        "duration": 551,
        "start_time": "2022-12-21T03:16:18.083Z"
      },
      {
        "duration": 113,
        "start_time": "2022-12-21T03:16:18.636Z"
      },
      {
        "duration": 16,
        "start_time": "2022-12-21T03:16:18.751Z"
      },
      {
        "duration": 7,
        "start_time": "2022-12-21T03:16:18.768Z"
      },
      {
        "duration": 20,
        "start_time": "2022-12-21T03:16:18.776Z"
      },
      {
        "duration": 8,
        "start_time": "2022-12-21T03:16:18.798Z"
      },
      {
        "duration": 19,
        "start_time": "2022-12-21T03:16:18.808Z"
      },
      {
        "duration": 2,
        "start_time": "2022-12-21T03:16:18.828Z"
      },
      {
        "duration": 8,
        "start_time": "2022-12-21T03:16:18.832Z"
      },
      {
        "duration": 15,
        "start_time": "2022-12-21T03:16:18.842Z"
      },
      {
        "duration": 10,
        "start_time": "2022-12-21T03:16:18.858Z"
      },
      {
        "duration": 10,
        "start_time": "2022-12-21T03:16:18.870Z"
      },
      {
        "duration": 8,
        "start_time": "2022-12-21T03:16:18.882Z"
      },
      {
        "duration": 47,
        "start_time": "2022-12-21T03:16:18.893Z"
      },
      {
        "duration": 7,
        "start_time": "2022-12-21T03:16:18.942Z"
      },
      {
        "duration": 10,
        "start_time": "2022-12-21T03:16:18.950Z"
      },
      {
        "duration": 13,
        "start_time": "2022-12-21T03:16:18.961Z"
      },
      {
        "duration": 73,
        "start_time": "2022-12-21T03:16:18.975Z"
      },
      {
        "duration": 6,
        "start_time": "2022-12-21T03:16:19.049Z"
      },
      {
        "duration": 13,
        "start_time": "2022-12-21T03:16:19.057Z"
      },
      {
        "duration": 11,
        "start_time": "2022-12-21T03:16:19.072Z"
      },
      {
        "duration": 40,
        "start_time": "2022-12-21T03:16:19.085Z"
      },
      {
        "duration": 7,
        "start_time": "2022-12-21T03:16:19.127Z"
      },
      {
        "duration": 11,
        "start_time": "2022-12-21T03:16:19.135Z"
      },
      {
        "duration": 8,
        "start_time": "2022-12-21T03:16:19.148Z"
      },
      {
        "duration": 10,
        "start_time": "2022-12-21T03:16:19.157Z"
      },
      {
        "duration": 10,
        "start_time": "2022-12-21T03:16:19.168Z"
      },
      {
        "duration": 43,
        "start_time": "2022-12-21T03:16:19.179Z"
      },
      {
        "duration": 6,
        "start_time": "2022-12-21T03:16:19.223Z"
      },
      {
        "duration": 18,
        "start_time": "2022-12-21T03:16:19.230Z"
      },
      {
        "duration": 26,
        "start_time": "2022-12-21T03:16:19.249Z"
      },
      {
        "duration": 6,
        "start_time": "2022-12-21T03:16:19.276Z"
      },
      {
        "duration": 46,
        "start_time": "2022-12-21T03:16:19.284Z"
      },
      {
        "duration": 18,
        "start_time": "2022-12-21T03:16:19.331Z"
      },
      {
        "duration": 27,
        "start_time": "2022-12-21T03:16:19.350Z"
      },
      {
        "duration": 2,
        "start_time": "2022-12-21T03:16:19.379Z"
      },
      {
        "duration": 9,
        "start_time": "2022-12-21T03:16:19.383Z"
      },
      {
        "duration": 37,
        "start_time": "2022-12-21T03:16:19.393Z"
      },
      {
        "duration": 259,
        "start_time": "2022-12-21T03:16:19.431Z"
      },
      {
        "duration": 0,
        "start_time": "2022-12-21T03:16:19.691Z"
      },
      {
        "duration": 0,
        "start_time": "2022-12-21T03:16:19.692Z"
      },
      {
        "duration": 19,
        "start_time": "2022-12-21T03:25:01.407Z"
      },
      {
        "duration": 32,
        "start_time": "2022-12-21T03:25:03.101Z"
      },
      {
        "duration": 14,
        "start_time": "2022-12-21T03:25:07.484Z"
      },
      {
        "duration": 2,
        "start_time": "2022-12-21T03:25:36.537Z"
      },
      {
        "duration": 553,
        "start_time": "2022-12-21T03:25:40.658Z"
      },
      {
        "duration": 114,
        "start_time": "2022-12-21T03:25:41.213Z"
      },
      {
        "duration": 17,
        "start_time": "2022-12-21T03:25:41.329Z"
      },
      {
        "duration": 7,
        "start_time": "2022-12-21T03:25:41.348Z"
      },
      {
        "duration": 20,
        "start_time": "2022-12-21T03:25:41.356Z"
      },
      {
        "duration": 9,
        "start_time": "2022-12-21T03:25:41.377Z"
      },
      {
        "duration": 18,
        "start_time": "2022-12-21T03:25:41.387Z"
      },
      {
        "duration": 3,
        "start_time": "2022-12-21T03:25:41.421Z"
      },
      {
        "duration": 10,
        "start_time": "2022-12-21T03:25:41.426Z"
      },
      {
        "duration": 15,
        "start_time": "2022-12-21T03:25:41.438Z"
      },
      {
        "duration": 11,
        "start_time": "2022-12-21T03:25:41.454Z"
      },
      {
        "duration": 13,
        "start_time": "2022-12-21T03:25:41.467Z"
      },
      {
        "duration": 12,
        "start_time": "2022-12-21T03:25:41.482Z"
      },
      {
        "duration": 31,
        "start_time": "2022-12-21T03:25:41.521Z"
      },
      {
        "duration": 5,
        "start_time": "2022-12-21T03:25:41.555Z"
      },
      {
        "duration": 10,
        "start_time": "2022-12-21T03:25:41.562Z"
      },
      {
        "duration": 7,
        "start_time": "2022-12-21T03:25:41.574Z"
      },
      {
        "duration": 73,
        "start_time": "2022-12-21T03:25:41.583Z"
      },
      {
        "duration": 5,
        "start_time": "2022-12-21T03:25:41.658Z"
      },
      {
        "duration": 14,
        "start_time": "2022-12-21T03:25:41.664Z"
      },
      {
        "duration": 15,
        "start_time": "2022-12-21T03:25:41.679Z"
      },
      {
        "duration": 29,
        "start_time": "2022-12-21T03:25:41.696Z"
      },
      {
        "duration": 6,
        "start_time": "2022-12-21T03:25:41.727Z"
      },
      {
        "duration": 20,
        "start_time": "2022-12-21T03:25:41.734Z"
      },
      {
        "duration": 23,
        "start_time": "2022-12-21T03:25:41.755Z"
      },
      {
        "duration": 7,
        "start_time": "2022-12-21T03:25:41.779Z"
      },
      {
        "duration": 9,
        "start_time": "2022-12-21T03:25:41.787Z"
      },
      {
        "duration": 30,
        "start_time": "2022-12-21T03:25:41.800Z"
      },
      {
        "duration": 5,
        "start_time": "2022-12-21T03:25:41.832Z"
      },
      {
        "duration": 14,
        "start_time": "2022-12-21T03:25:41.839Z"
      },
      {
        "duration": 26,
        "start_time": "2022-12-21T03:25:41.855Z"
      },
      {
        "duration": 5,
        "start_time": "2022-12-21T03:25:41.883Z"
      },
      {
        "duration": 46,
        "start_time": "2022-12-21T03:25:41.889Z"
      },
      {
        "duration": 3,
        "start_time": "2022-12-21T03:25:41.937Z"
      },
      {
        "duration": 34,
        "start_time": "2022-12-21T03:25:41.941Z"
      },
      {
        "duration": 4,
        "start_time": "2022-12-21T03:25:41.976Z"
      },
      {
        "duration": 9,
        "start_time": "2022-12-21T03:25:41.981Z"
      },
      {
        "duration": 30,
        "start_time": "2022-12-21T03:25:41.991Z"
      },
      {
        "duration": 29,
        "start_time": "2022-12-21T03:25:42.022Z"
      },
      {
        "duration": 3,
        "start_time": "2022-12-21T03:25:42.052Z"
      },
      {
        "duration": 173,
        "start_time": "2022-12-21T03:25:42.057Z"
      },
      {
        "duration": 4,
        "start_time": "2022-12-21T03:26:17.407Z"
      },
      {
        "duration": 14,
        "start_time": "2022-12-21T03:26:24.340Z"
      },
      {
        "duration": 18,
        "start_time": "2022-12-21T03:26:51.208Z"
      },
      {
        "duration": 18,
        "start_time": "2022-12-21T03:27:02.721Z"
      },
      {
        "duration": 19,
        "start_time": "2022-12-21T03:28:32.315Z"
      },
      {
        "duration": 21,
        "start_time": "2022-12-21T03:29:03.524Z"
      },
      {
        "duration": 16,
        "start_time": "2022-12-21T03:29:37.331Z"
      },
      {
        "duration": 13,
        "start_time": "2022-12-21T03:29:38.044Z"
      },
      {
        "duration": 20,
        "start_time": "2022-12-21T03:29:40.443Z"
      },
      {
        "duration": 23,
        "start_time": "2022-12-21T03:30:17.134Z"
      },
      {
        "duration": 12,
        "start_time": "2022-12-21T03:30:18.214Z"
      },
      {
        "duration": 21,
        "start_time": "2022-12-21T03:30:18.663Z"
      },
      {
        "duration": 15,
        "start_time": "2022-12-21T03:35:52.892Z"
      },
      {
        "duration": 12,
        "start_time": "2022-12-21T03:35:53.434Z"
      },
      {
        "duration": 20,
        "start_time": "2022-12-21T03:35:54.080Z"
      },
      {
        "duration": 16,
        "start_time": "2022-12-21T03:36:25.169Z"
      },
      {
        "duration": 69,
        "start_time": "2022-12-21T03:40:41.993Z"
      },
      {
        "duration": 6,
        "start_time": "2022-12-21T03:40:46.540Z"
      },
      {
        "duration": 6,
        "start_time": "2022-12-21T03:41:03.483Z"
      },
      {
        "duration": 7,
        "start_time": "2022-12-21T03:41:19.833Z"
      },
      {
        "duration": 6,
        "start_time": "2022-12-21T03:41:43.033Z"
      },
      {
        "duration": 6,
        "start_time": "2022-12-21T03:41:45.108Z"
      },
      {
        "duration": 6,
        "start_time": "2022-12-21T03:41:47.433Z"
      },
      {
        "duration": 6,
        "start_time": "2022-12-21T03:41:56.359Z"
      },
      {
        "duration": 7,
        "start_time": "2022-12-21T03:42:07.818Z"
      },
      {
        "duration": 6,
        "start_time": "2022-12-21T03:42:23.656Z"
      },
      {
        "duration": 23,
        "start_time": "2022-12-21T03:43:29.402Z"
      },
      {
        "duration": 12,
        "start_time": "2022-12-21T03:43:30.212Z"
      },
      {
        "duration": 20,
        "start_time": "2022-12-21T03:43:31.663Z"
      },
      {
        "duration": 68,
        "start_time": "2022-12-21T03:43:50.646Z"
      },
      {
        "duration": 12,
        "start_time": "2022-12-21T03:43:51.717Z"
      },
      {
        "duration": 23,
        "start_time": "2022-12-21T03:43:52.316Z"
      },
      {
        "duration": 23,
        "start_time": "2022-12-21T03:44:11.320Z"
      },
      {
        "duration": 13,
        "start_time": "2022-12-21T03:44:11.793Z"
      },
      {
        "duration": 20,
        "start_time": "2022-12-21T03:44:12.250Z"
      },
      {
        "duration": 587,
        "start_time": "2022-12-21T03:45:25.725Z"
      },
      {
        "duration": 114,
        "start_time": "2022-12-21T03:45:26.314Z"
      },
      {
        "duration": 16,
        "start_time": "2022-12-21T03:45:26.430Z"
      },
      {
        "duration": 13,
        "start_time": "2022-12-21T03:45:26.448Z"
      },
      {
        "duration": 19,
        "start_time": "2022-12-21T03:45:26.463Z"
      },
      {
        "duration": 8,
        "start_time": "2022-12-21T03:45:26.483Z"
      },
      {
        "duration": 16,
        "start_time": "2022-12-21T03:45:26.493Z"
      },
      {
        "duration": 11,
        "start_time": "2022-12-21T03:45:26.511Z"
      },
      {
        "duration": 10,
        "start_time": "2022-12-21T03:45:26.523Z"
      },
      {
        "duration": 18,
        "start_time": "2022-12-21T03:45:26.535Z"
      },
      {
        "duration": 11,
        "start_time": "2022-12-21T03:45:26.554Z"
      },
      {
        "duration": 14,
        "start_time": "2022-12-21T03:45:26.567Z"
      },
      {
        "duration": 9,
        "start_time": "2022-12-21T03:45:26.582Z"
      },
      {
        "duration": 44,
        "start_time": "2022-12-21T03:45:26.592Z"
      },
      {
        "duration": 6,
        "start_time": "2022-12-21T03:45:26.637Z"
      },
      {
        "duration": 48,
        "start_time": "2022-12-21T03:45:26.644Z"
      },
      {
        "duration": 18,
        "start_time": "2022-12-21T03:45:26.693Z"
      },
      {
        "duration": 55,
        "start_time": "2022-12-21T03:45:26.713Z"
      },
      {
        "duration": 6,
        "start_time": "2022-12-21T03:45:26.770Z"
      },
      {
        "duration": 33,
        "start_time": "2022-12-21T03:45:26.777Z"
      },
      {
        "duration": 10,
        "start_time": "2022-12-21T03:45:26.812Z"
      },
      {
        "duration": 16,
        "start_time": "2022-12-21T03:45:26.823Z"
      },
      {
        "duration": 6,
        "start_time": "2022-12-21T03:45:26.840Z"
      },
      {
        "duration": 7,
        "start_time": "2022-12-21T03:45:26.847Z"
      },
      {
        "duration": 5,
        "start_time": "2022-12-21T03:45:26.855Z"
      },
      {
        "duration": 14,
        "start_time": "2022-12-21T03:45:26.861Z"
      },
      {
        "duration": 9,
        "start_time": "2022-12-21T03:45:26.876Z"
      },
      {
        "duration": 47,
        "start_time": "2022-12-21T03:45:26.888Z"
      },
      {
        "duration": 6,
        "start_time": "2022-12-21T03:45:26.936Z"
      },
      {
        "duration": 17,
        "start_time": "2022-12-21T03:45:26.944Z"
      },
      {
        "duration": 24,
        "start_time": "2022-12-21T03:45:26.963Z"
      },
      {
        "duration": 6,
        "start_time": "2022-12-21T03:45:26.988Z"
      },
      {
        "duration": 35,
        "start_time": "2022-12-21T03:45:26.995Z"
      },
      {
        "duration": 22,
        "start_time": "2022-12-21T03:45:27.032Z"
      },
      {
        "duration": 12,
        "start_time": "2022-12-21T03:45:27.055Z"
      },
      {
        "duration": 21,
        "start_time": "2022-12-21T03:45:27.069Z"
      },
      {
        "duration": 39,
        "start_time": "2022-12-21T03:45:27.091Z"
      },
      {
        "duration": 3,
        "start_time": "2022-12-21T03:45:27.132Z"
      },
      {
        "duration": 10,
        "start_time": "2022-12-21T03:45:27.136Z"
      },
      {
        "duration": 5,
        "start_time": "2022-12-21T03:45:27.148Z"
      },
      {
        "duration": 14,
        "start_time": "2022-12-21T03:45:27.155Z"
      },
      {
        "duration": 277,
        "start_time": "2022-12-21T03:45:27.171Z"
      },
      {
        "duration": 0,
        "start_time": "2022-12-21T03:45:27.450Z"
      },
      {
        "duration": 0,
        "start_time": "2022-12-21T03:45:27.451Z"
      },
      {
        "duration": 12,
        "start_time": "2022-12-21T03:46:59.741Z"
      },
      {
        "duration": 8,
        "start_time": "2022-12-21T04:08:03.518Z"
      },
      {
        "duration": 3,
        "start_time": "2022-12-21T04:08:24.901Z"
      },
      {
        "duration": 561,
        "start_time": "2022-12-21T04:08:29.038Z"
      },
      {
        "duration": 114,
        "start_time": "2022-12-21T04:08:29.600Z"
      },
      {
        "duration": 19,
        "start_time": "2022-12-21T04:08:29.715Z"
      },
      {
        "duration": 12,
        "start_time": "2022-12-21T04:08:29.737Z"
      },
      {
        "duration": 18,
        "start_time": "2022-12-21T04:08:29.750Z"
      },
      {
        "duration": 13,
        "start_time": "2022-12-21T04:08:29.770Z"
      },
      {
        "duration": 15,
        "start_time": "2022-12-21T04:08:29.784Z"
      },
      {
        "duration": 2,
        "start_time": "2022-12-21T04:08:29.801Z"
      },
      {
        "duration": 22,
        "start_time": "2022-12-21T04:08:29.805Z"
      },
      {
        "duration": 14,
        "start_time": "2022-12-21T04:08:29.829Z"
      },
      {
        "duration": 10,
        "start_time": "2022-12-21T04:08:29.844Z"
      },
      {
        "duration": 11,
        "start_time": "2022-12-21T04:08:29.855Z"
      },
      {
        "duration": 8,
        "start_time": "2022-12-21T04:08:29.867Z"
      },
      {
        "duration": 50,
        "start_time": "2022-12-21T04:08:29.877Z"
      },
      {
        "duration": 5,
        "start_time": "2022-12-21T04:08:29.929Z"
      },
      {
        "duration": 13,
        "start_time": "2022-12-21T04:08:29.935Z"
      },
      {
        "duration": 7,
        "start_time": "2022-12-21T04:08:29.950Z"
      },
      {
        "duration": 71,
        "start_time": "2022-12-21T04:08:29.958Z"
      },
      {
        "duration": 6,
        "start_time": "2022-12-21T04:08:30.031Z"
      },
      {
        "duration": 19,
        "start_time": "2022-12-21T04:08:30.038Z"
      },
      {
        "duration": 16,
        "start_time": "2022-12-21T04:08:30.059Z"
      },
      {
        "duration": 17,
        "start_time": "2022-12-21T04:08:30.077Z"
      },
      {
        "duration": 28,
        "start_time": "2022-12-21T04:08:30.095Z"
      },
      {
        "duration": 7,
        "start_time": "2022-12-21T04:08:30.125Z"
      },
      {
        "duration": 9,
        "start_time": "2022-12-21T04:08:30.133Z"
      },
      {
        "duration": 15,
        "start_time": "2022-12-21T04:08:30.143Z"
      },
      {
        "duration": 10,
        "start_time": "2022-12-21T04:08:30.159Z"
      },
      {
        "duration": 27,
        "start_time": "2022-12-21T04:08:30.172Z"
      },
      {
        "duration": 6,
        "start_time": "2022-12-21T04:08:30.200Z"
      },
      {
        "duration": 12,
        "start_time": "2022-12-21T04:08:30.221Z"
      },
      {
        "duration": 28,
        "start_time": "2022-12-21T04:08:30.235Z"
      },
      {
        "duration": 4,
        "start_time": "2022-12-21T04:08:30.265Z"
      },
      {
        "duration": 21,
        "start_time": "2022-12-21T04:08:30.271Z"
      },
      {
        "duration": 37,
        "start_time": "2022-12-21T04:08:30.293Z"
      },
      {
        "duration": 10,
        "start_time": "2022-12-21T04:08:30.331Z"
      },
      {
        "duration": 29,
        "start_time": "2022-12-21T04:08:30.343Z"
      },
      {
        "duration": 29,
        "start_time": "2022-12-21T04:08:30.373Z"
      },
      {
        "duration": 42,
        "start_time": "2022-12-21T04:08:30.404Z"
      },
      {
        "duration": 15,
        "start_time": "2022-12-21T04:08:30.448Z"
      },
      {
        "duration": 29,
        "start_time": "2022-12-21T04:08:30.465Z"
      },
      {
        "duration": 8,
        "start_time": "2022-12-21T04:08:30.496Z"
      },
      {
        "duration": 24,
        "start_time": "2022-12-21T04:08:30.505Z"
      },
      {
        "duration": 38,
        "start_time": "2022-12-21T04:08:30.531Z"
      },
      {
        "duration": 4,
        "start_time": "2022-12-21T04:08:30.570Z"
      },
      {
        "duration": 194,
        "start_time": "2022-12-21T04:08:30.575Z"
      },
      {
        "duration": 8,
        "start_time": "2022-12-21T04:10:51.302Z"
      },
      {
        "duration": 9,
        "start_time": "2022-12-21T04:10:55.190Z"
      },
      {
        "duration": 13,
        "start_time": "2022-12-21T04:10:55.608Z"
      },
      {
        "duration": 7,
        "start_time": "2022-12-21T04:10:58.241Z"
      },
      {
        "duration": 54,
        "start_time": "2022-12-21T04:11:50.252Z"
      },
      {
        "duration": 8,
        "start_time": "2022-12-21T04:12:11.438Z"
      },
      {
        "duration": 74,
        "start_time": "2022-12-21T04:13:11.977Z"
      },
      {
        "duration": 14,
        "start_time": "2022-12-21T04:13:42.544Z"
      },
      {
        "duration": 10,
        "start_time": "2022-12-21T04:15:04.636Z"
      },
      {
        "duration": 9,
        "start_time": "2022-12-21T04:15:27.330Z"
      },
      {
        "duration": 59,
        "start_time": "2022-12-21T04:17:24.199Z"
      },
      {
        "duration": 8,
        "start_time": "2022-12-21T04:17:55.661Z"
      },
      {
        "duration": 8,
        "start_time": "2022-12-21T04:18:12.691Z"
      },
      {
        "duration": 4,
        "start_time": "2022-12-21T04:19:33.455Z"
      },
      {
        "duration": 4,
        "start_time": "2022-12-21T04:19:34.424Z"
      },
      {
        "duration": 12,
        "start_time": "2022-12-21T04:19:36.452Z"
      },
      {
        "duration": 19,
        "start_time": "2022-12-21T04:19:38.333Z"
      },
      {
        "duration": 554,
        "start_time": "2022-12-21T04:22:06.980Z"
      },
      {
        "duration": 113,
        "start_time": "2022-12-21T04:22:07.536Z"
      },
      {
        "duration": 16,
        "start_time": "2022-12-21T04:22:07.651Z"
      },
      {
        "duration": 6,
        "start_time": "2022-12-21T04:22:07.669Z"
      },
      {
        "duration": 15,
        "start_time": "2022-12-21T04:22:07.676Z"
      },
      {
        "duration": 8,
        "start_time": "2022-12-21T04:22:07.692Z"
      },
      {
        "duration": 17,
        "start_time": "2022-12-21T04:22:07.702Z"
      },
      {
        "duration": 4,
        "start_time": "2022-12-21T04:22:07.720Z"
      },
      {
        "duration": 10,
        "start_time": "2022-12-21T04:22:07.725Z"
      },
      {
        "duration": 20,
        "start_time": "2022-12-21T04:22:07.738Z"
      },
      {
        "duration": 9,
        "start_time": "2022-12-21T04:22:07.759Z"
      },
      {
        "duration": 11,
        "start_time": "2022-12-21T04:22:07.770Z"
      },
      {
        "duration": 9,
        "start_time": "2022-12-21T04:22:07.782Z"
      },
      {
        "duration": 42,
        "start_time": "2022-12-21T04:22:07.792Z"
      },
      {
        "duration": 6,
        "start_time": "2022-12-21T04:22:07.835Z"
      },
      {
        "duration": 12,
        "start_time": "2022-12-21T04:22:07.842Z"
      },
      {
        "duration": 8,
        "start_time": "2022-12-21T04:22:07.856Z"
      },
      {
        "duration": 68,
        "start_time": "2022-12-21T04:22:07.865Z"
      },
      {
        "duration": 5,
        "start_time": "2022-12-21T04:22:07.934Z"
      },
      {
        "duration": 13,
        "start_time": "2022-12-21T04:22:07.941Z"
      },
      {
        "duration": 11,
        "start_time": "2022-12-21T04:22:07.956Z"
      },
      {
        "duration": 16,
        "start_time": "2022-12-21T04:22:07.969Z"
      },
      {
        "duration": 5,
        "start_time": "2022-12-21T04:22:07.986Z"
      },
      {
        "duration": 7,
        "start_time": "2022-12-21T04:22:08.021Z"
      },
      {
        "duration": 6,
        "start_time": "2022-12-21T04:22:08.030Z"
      },
      {
        "duration": 16,
        "start_time": "2022-12-21T04:22:08.038Z"
      },
      {
        "duration": 24,
        "start_time": "2022-12-21T04:22:08.055Z"
      },
      {
        "duration": 42,
        "start_time": "2022-12-21T04:22:08.082Z"
      },
      {
        "duration": 6,
        "start_time": "2022-12-21T04:22:08.126Z"
      },
      {
        "duration": 36,
        "start_time": "2022-12-21T04:22:08.133Z"
      },
      {
        "duration": 31,
        "start_time": "2022-12-21T04:22:08.170Z"
      },
      {
        "duration": 18,
        "start_time": "2022-12-21T04:22:08.203Z"
      },
      {
        "duration": 18,
        "start_time": "2022-12-21T04:22:08.222Z"
      },
      {
        "duration": 20,
        "start_time": "2022-12-21T04:22:08.242Z"
      },
      {
        "duration": 18,
        "start_time": "2022-12-21T04:22:08.264Z"
      },
      {
        "duration": 24,
        "start_time": "2022-12-21T04:22:08.284Z"
      },
      {
        "duration": 29,
        "start_time": "2022-12-21T04:22:08.310Z"
      },
      {
        "duration": 3,
        "start_time": "2022-12-21T04:22:08.341Z"
      },
      {
        "duration": 26,
        "start_time": "2022-12-21T04:22:08.346Z"
      },
      {
        "duration": 11,
        "start_time": "2022-12-21T04:22:08.374Z"
      },
      {
        "duration": 14,
        "start_time": "2022-12-21T04:22:08.387Z"
      },
      {
        "duration": 39,
        "start_time": "2022-12-21T04:22:08.402Z"
      },
      {
        "duration": 5,
        "start_time": "2022-12-21T04:22:08.442Z"
      },
      {
        "duration": 172,
        "start_time": "2022-12-21T04:22:08.449Z"
      },
      {
        "duration": 5,
        "start_time": "2022-12-21T04:24:06.639Z"
      },
      {
        "duration": 30,
        "start_time": "2022-12-21T04:25:07.133Z"
      },
      {
        "duration": 4,
        "start_time": "2022-12-21T04:25:26.891Z"
      },
      {
        "duration": 29,
        "start_time": "2022-12-21T04:25:29.140Z"
      },
      {
        "duration": 5,
        "start_time": "2022-12-21T04:25:59.260Z"
      },
      {
        "duration": 30,
        "start_time": "2022-12-21T04:26:01.063Z"
      },
      {
        "duration": 150,
        "start_time": "2022-12-22T01:08:16.921Z"
      },
      {
        "duration": 144,
        "start_time": "2022-12-22T01:08:41.621Z"
      },
      {
        "duration": 187,
        "start_time": "2022-12-22T01:08:58.896Z"
      },
      {
        "duration": 10,
        "start_time": "2022-12-22T01:11:33.857Z"
      },
      {
        "duration": 238,
        "start_time": "2022-12-22T01:12:12.789Z"
      },
      {
        "duration": 153,
        "start_time": "2022-12-22T01:12:23.297Z"
      },
      {
        "duration": 3,
        "start_time": "2022-12-22T01:30:39.210Z"
      },
      {
        "duration": 593,
        "start_time": "2022-12-22T01:30:43.900Z"
      },
      {
        "duration": 199,
        "start_time": "2022-12-22T01:30:44.495Z"
      },
      {
        "duration": 17,
        "start_time": "2022-12-22T01:30:44.695Z"
      },
      {
        "duration": 6,
        "start_time": "2022-12-22T01:30:44.713Z"
      },
      {
        "duration": 15,
        "start_time": "2022-12-22T01:30:44.721Z"
      },
      {
        "duration": 10,
        "start_time": "2022-12-22T01:30:44.737Z"
      },
      {
        "duration": 32,
        "start_time": "2022-12-22T01:30:44.748Z"
      },
      {
        "duration": 11,
        "start_time": "2022-12-22T01:30:44.782Z"
      },
      {
        "duration": 14,
        "start_time": "2022-12-22T01:30:44.795Z"
      },
      {
        "duration": 18,
        "start_time": "2022-12-22T01:30:44.812Z"
      },
      {
        "duration": 10,
        "start_time": "2022-12-22T01:30:44.832Z"
      },
      {
        "duration": 11,
        "start_time": "2022-12-22T01:30:44.844Z"
      },
      {
        "duration": 9,
        "start_time": "2022-12-22T01:30:44.856Z"
      },
      {
        "duration": 31,
        "start_time": "2022-12-22T01:30:44.866Z"
      },
      {
        "duration": 5,
        "start_time": "2022-12-22T01:30:44.898Z"
      },
      {
        "duration": 9,
        "start_time": "2022-12-22T01:30:44.921Z"
      },
      {
        "duration": 9,
        "start_time": "2022-12-22T01:30:44.931Z"
      },
      {
        "duration": 80,
        "start_time": "2022-12-22T01:30:44.942Z"
      },
      {
        "duration": 6,
        "start_time": "2022-12-22T01:30:45.024Z"
      },
      {
        "duration": 22,
        "start_time": "2022-12-22T01:30:45.031Z"
      },
      {
        "duration": 19,
        "start_time": "2022-12-22T01:30:45.054Z"
      },
      {
        "duration": 15,
        "start_time": "2022-12-22T01:30:45.075Z"
      },
      {
        "duration": 10,
        "start_time": "2022-12-22T01:30:45.091Z"
      },
      {
        "duration": 12,
        "start_time": "2022-12-22T01:30:45.102Z"
      },
      {
        "duration": 4,
        "start_time": "2022-12-22T01:30:45.120Z"
      },
      {
        "duration": 8,
        "start_time": "2022-12-22T01:30:45.125Z"
      },
      {
        "duration": 10,
        "start_time": "2022-12-22T01:30:45.134Z"
      },
      {
        "duration": 28,
        "start_time": "2022-12-22T01:30:45.147Z"
      },
      {
        "duration": 6,
        "start_time": "2022-12-22T01:30:45.177Z"
      },
      {
        "duration": 38,
        "start_time": "2022-12-22T01:30:45.185Z"
      },
      {
        "duration": 31,
        "start_time": "2022-12-22T01:30:45.226Z"
      },
      {
        "duration": 7,
        "start_time": "2022-12-22T01:30:45.259Z"
      },
      {
        "duration": 27,
        "start_time": "2022-12-22T01:30:45.268Z"
      },
      {
        "duration": 15,
        "start_time": "2022-12-22T01:30:45.296Z"
      },
      {
        "duration": 16,
        "start_time": "2022-12-22T01:30:45.312Z"
      },
      {
        "duration": 9,
        "start_time": "2022-12-22T01:30:45.329Z"
      },
      {
        "duration": 11,
        "start_time": "2022-12-22T01:30:45.339Z"
      },
      {
        "duration": 5,
        "start_time": "2022-12-22T01:30:45.351Z"
      },
      {
        "duration": 144,
        "start_time": "2022-12-22T01:30:45.357Z"
      },
      {
        "duration": 135,
        "start_time": "2022-12-22T01:30:45.503Z"
      },
      {
        "duration": 10,
        "start_time": "2022-12-22T01:30:45.640Z"
      },
      {
        "duration": 153,
        "start_time": "2022-12-22T01:30:45.651Z"
      },
      {
        "duration": 207,
        "start_time": "2022-12-22T01:49:15.880Z"
      },
      {
        "duration": 101,
        "start_time": "2022-12-22T01:49:21.268Z"
      },
      {
        "duration": 240,
        "start_time": "2022-12-22T02:01:03.250Z"
      },
      {
        "duration": 227,
        "start_time": "2022-12-22T02:01:09.516Z"
      },
      {
        "duration": 146,
        "start_time": "2022-12-22T02:01:19.079Z"
      },
      {
        "duration": 135,
        "start_time": "2022-12-22T02:01:26.932Z"
      },
      {
        "duration": 142,
        "start_time": "2022-12-22T02:01:31.543Z"
      },
      {
        "duration": 141,
        "start_time": "2022-12-22T02:01:35.011Z"
      },
      {
        "duration": 103,
        "start_time": "2022-12-22T02:01:51.880Z"
      },
      {
        "duration": 103,
        "start_time": "2022-12-22T02:02:08.223Z"
      },
      {
        "duration": 143,
        "start_time": "2022-12-22T02:02:14.573Z"
      },
      {
        "duration": 211,
        "start_time": "2022-12-22T02:02:18.304Z"
      },
      {
        "duration": 136,
        "start_time": "2022-12-22T02:02:26.286Z"
      },
      {
        "duration": 141,
        "start_time": "2022-12-22T02:02:31.575Z"
      },
      {
        "duration": 142,
        "start_time": "2022-12-22T02:02:40.540Z"
      },
      {
        "duration": 141,
        "start_time": "2022-12-22T02:02:47.420Z"
      },
      {
        "duration": 121,
        "start_time": "2022-12-22T02:03:31.948Z"
      },
      {
        "duration": 18,
        "start_time": "2022-12-22T02:05:21.487Z"
      },
      {
        "duration": 4,
        "start_time": "2022-12-22T02:07:39.259Z"
      },
      {
        "duration": 21,
        "start_time": "2022-12-22T02:10:24.269Z"
      },
      {
        "duration": 13,
        "start_time": "2022-12-22T02:10:45.378Z"
      },
      {
        "duration": 126,
        "start_time": "2022-12-22T02:15:25.440Z"
      },
      {
        "duration": 126,
        "start_time": "2022-12-22T02:16:03.589Z"
      },
      {
        "duration": 620,
        "start_time": "2022-12-22T02:18:59.695Z"
      },
      {
        "duration": 117,
        "start_time": "2022-12-22T02:19:00.316Z"
      },
      {
        "duration": 17,
        "start_time": "2022-12-22T02:19:00.434Z"
      },
      {
        "duration": 19,
        "start_time": "2022-12-22T02:19:00.453Z"
      },
      {
        "duration": 25,
        "start_time": "2022-12-22T02:19:00.473Z"
      },
      {
        "duration": 31,
        "start_time": "2022-12-22T02:19:00.499Z"
      },
      {
        "duration": 29,
        "start_time": "2022-12-22T02:19:00.532Z"
      },
      {
        "duration": 15,
        "start_time": "2022-12-22T02:19:00.563Z"
      },
      {
        "duration": 34,
        "start_time": "2022-12-22T02:19:00.579Z"
      },
      {
        "duration": 38,
        "start_time": "2022-12-22T02:19:00.616Z"
      },
      {
        "duration": 37,
        "start_time": "2022-12-22T02:19:00.656Z"
      },
      {
        "duration": 26,
        "start_time": "2022-12-22T02:19:00.695Z"
      },
      {
        "duration": 26,
        "start_time": "2022-12-22T02:19:00.723Z"
      },
      {
        "duration": 60,
        "start_time": "2022-12-22T02:19:00.751Z"
      },
      {
        "duration": 19,
        "start_time": "2022-12-22T02:19:00.813Z"
      },
      {
        "duration": 21,
        "start_time": "2022-12-22T02:19:00.833Z"
      },
      {
        "duration": 18,
        "start_time": "2022-12-22T02:19:00.856Z"
      },
      {
        "duration": 72,
        "start_time": "2022-12-22T02:19:00.875Z"
      },
      {
        "duration": 5,
        "start_time": "2022-12-22T02:19:00.948Z"
      },
      {
        "duration": 23,
        "start_time": "2022-12-22T02:19:00.955Z"
      },
      {
        "duration": 14,
        "start_time": "2022-12-22T02:19:00.979Z"
      },
      {
        "duration": 35,
        "start_time": "2022-12-22T02:19:00.995Z"
      },
      {
        "duration": 22,
        "start_time": "2022-12-22T02:19:01.032Z"
      },
      {
        "duration": 31,
        "start_time": "2022-12-22T02:19:01.056Z"
      },
      {
        "duration": 38,
        "start_time": "2022-12-22T02:19:01.089Z"
      },
      {
        "duration": 31,
        "start_time": "2022-12-22T02:19:01.129Z"
      },
      {
        "duration": 22,
        "start_time": "2022-12-22T02:19:01.161Z"
      },
      {
        "duration": 42,
        "start_time": "2022-12-22T02:19:01.185Z"
      },
      {
        "duration": 9,
        "start_time": "2022-12-22T02:19:01.229Z"
      },
      {
        "duration": 29,
        "start_time": "2022-12-22T02:19:01.239Z"
      },
      {
        "duration": 62,
        "start_time": "2022-12-22T02:19:01.270Z"
      },
      {
        "duration": 28,
        "start_time": "2022-12-22T02:19:01.333Z"
      },
      {
        "duration": 50,
        "start_time": "2022-12-22T02:19:01.363Z"
      },
      {
        "duration": 19,
        "start_time": "2022-12-22T02:19:01.415Z"
      },
      {
        "duration": 39,
        "start_time": "2022-12-22T02:19:01.436Z"
      },
      {
        "duration": 37,
        "start_time": "2022-12-22T02:19:01.477Z"
      },
      {
        "duration": 38,
        "start_time": "2022-12-22T02:19:01.516Z"
      },
      {
        "duration": 23,
        "start_time": "2022-12-22T02:19:01.556Z"
      },
      {
        "duration": 164,
        "start_time": "2022-12-22T02:19:01.581Z"
      },
      {
        "duration": 131,
        "start_time": "2022-12-22T02:19:01.746Z"
      },
      {
        "duration": 17,
        "start_time": "2022-12-22T02:19:01.879Z"
      },
      {
        "duration": 208,
        "start_time": "2022-12-22T02:19:01.897Z"
      },
      {
        "duration": 0,
        "start_time": "2022-12-22T02:19:02.107Z"
      },
      {
        "duration": 0,
        "start_time": "2022-12-22T02:19:02.108Z"
      },
      {
        "duration": 4,
        "start_time": "2022-12-22T02:19:48.796Z"
      },
      {
        "duration": 174,
        "start_time": "2022-12-22T02:19:58.500Z"
      },
      {
        "duration": 4,
        "start_time": "2022-12-22T02:23:44.302Z"
      },
      {
        "duration": 121,
        "start_time": "2022-12-22T02:24:04.154Z"
      },
      {
        "duration": 19,
        "start_time": "2022-12-22T02:24:09.816Z"
      },
      {
        "duration": 5,
        "start_time": "2022-12-22T02:26:23.681Z"
      },
      {
        "duration": 18,
        "start_time": "2022-12-22T02:31:45.903Z"
      },
      {
        "duration": 12,
        "start_time": "2022-12-22T02:31:54.756Z"
      },
      {
        "duration": 14,
        "start_time": "2022-12-22T02:32:13.853Z"
      },
      {
        "duration": 127,
        "start_time": "2022-12-22T02:32:23.543Z"
      },
      {
        "duration": 154,
        "start_time": "2022-12-22T02:34:56.258Z"
      },
      {
        "duration": 172,
        "start_time": "2022-12-22T02:36:31.823Z"
      },
      {
        "duration": 511,
        "start_time": "2022-12-22T02:37:11.068Z"
      },
      {
        "duration": 250,
        "start_time": "2022-12-22T02:37:15.186Z"
      },
      {
        "duration": 132,
        "start_time": "2022-12-22T02:38:24.316Z"
      },
      {
        "duration": 131,
        "start_time": "2022-12-22T02:41:02.365Z"
      },
      {
        "duration": 119,
        "start_time": "2022-12-22T02:42:19.436Z"
      },
      {
        "duration": 130,
        "start_time": "2022-12-22T02:43:00.233Z"
      },
      {
        "duration": 124,
        "start_time": "2022-12-22T02:44:47.829Z"
      },
      {
        "duration": 128,
        "start_time": "2022-12-22T02:45:03.365Z"
      },
      {
        "duration": 126,
        "start_time": "2022-12-22T02:45:18.858Z"
      },
      {
        "duration": 130,
        "start_time": "2022-12-22T02:45:26.216Z"
      },
      {
        "duration": 1043,
        "start_time": "2022-12-22T02:46:21.756Z"
      },
      {
        "duration": 118,
        "start_time": "2022-12-22T02:46:22.802Z"
      },
      {
        "duration": 17,
        "start_time": "2022-12-22T02:46:22.921Z"
      },
      {
        "duration": 6,
        "start_time": "2022-12-22T02:46:22.940Z"
      },
      {
        "duration": 14,
        "start_time": "2022-12-22T02:46:22.949Z"
      },
      {
        "duration": 10,
        "start_time": "2022-12-22T02:46:22.964Z"
      },
      {
        "duration": 47,
        "start_time": "2022-12-22T02:46:22.975Z"
      },
      {
        "duration": 3,
        "start_time": "2022-12-22T02:46:23.023Z"
      },
      {
        "duration": 16,
        "start_time": "2022-12-22T02:46:23.027Z"
      },
      {
        "duration": 13,
        "start_time": "2022-12-22T02:46:23.044Z"
      },
      {
        "duration": 10,
        "start_time": "2022-12-22T02:46:23.058Z"
      },
      {
        "duration": 12,
        "start_time": "2022-12-22T02:46:23.069Z"
      },
      {
        "duration": 10,
        "start_time": "2022-12-22T02:46:23.083Z"
      },
      {
        "duration": 45,
        "start_time": "2022-12-22T02:46:23.095Z"
      },
      {
        "duration": 6,
        "start_time": "2022-12-22T02:46:23.141Z"
      },
      {
        "duration": 8,
        "start_time": "2022-12-22T02:46:23.149Z"
      },
      {
        "duration": 7,
        "start_time": "2022-12-22T02:46:23.158Z"
      },
      {
        "duration": 74,
        "start_time": "2022-12-22T02:46:23.167Z"
      },
      {
        "duration": 5,
        "start_time": "2022-12-22T02:46:23.243Z"
      },
      {
        "duration": 13,
        "start_time": "2022-12-22T02:46:23.249Z"
      },
      {
        "duration": 11,
        "start_time": "2022-12-22T02:46:23.264Z"
      },
      {
        "duration": 19,
        "start_time": "2022-12-22T02:46:23.276Z"
      },
      {
        "duration": 28,
        "start_time": "2022-12-22T02:46:23.297Z"
      },
      {
        "duration": 10,
        "start_time": "2022-12-22T02:46:23.327Z"
      },
      {
        "duration": 6,
        "start_time": "2022-12-22T02:46:23.338Z"
      },
      {
        "duration": 7,
        "start_time": "2022-12-22T02:46:23.346Z"
      },
      {
        "duration": 10,
        "start_time": "2022-12-22T02:46:23.354Z"
      },
      {
        "duration": 29,
        "start_time": "2022-12-22T02:46:23.366Z"
      },
      {
        "duration": 5,
        "start_time": "2022-12-22T02:46:23.396Z"
      },
      {
        "duration": 28,
        "start_time": "2022-12-22T02:46:23.402Z"
      },
      {
        "duration": 23,
        "start_time": "2022-12-22T02:46:23.431Z"
      },
      {
        "duration": 5,
        "start_time": "2022-12-22T02:46:23.456Z"
      },
      {
        "duration": 19,
        "start_time": "2022-12-22T02:46:23.462Z"
      },
      {
        "duration": 5,
        "start_time": "2022-12-22T02:46:23.483Z"
      },
      {
        "duration": 31,
        "start_time": "2022-12-22T02:46:23.490Z"
      },
      {
        "duration": 4,
        "start_time": "2022-12-22T02:46:23.522Z"
      },
      {
        "duration": 9,
        "start_time": "2022-12-22T02:46:23.528Z"
      },
      {
        "duration": 6,
        "start_time": "2022-12-22T02:46:23.538Z"
      },
      {
        "duration": 153,
        "start_time": "2022-12-22T02:46:23.545Z"
      },
      {
        "duration": 26,
        "start_time": "2022-12-22T02:46:23.700Z"
      },
      {
        "duration": 123,
        "start_time": "2022-12-22T02:46:23.729Z"
      },
      {
        "duration": 134,
        "start_time": "2022-12-22T02:46:23.853Z"
      },
      {
        "duration": 122,
        "start_time": "2022-12-22T02:46:33.928Z"
      },
      {
        "duration": 49,
        "start_time": "2022-12-22T02:47:07.460Z"
      },
      {
        "duration": 71,
        "start_time": "2022-12-22T02:47:30.616Z"
      },
      {
        "duration": 125,
        "start_time": "2022-12-22T02:47:37.341Z"
      },
      {
        "duration": 93,
        "start_time": "2022-12-22T02:48:43.895Z"
      },
      {
        "duration": 141,
        "start_time": "2022-12-22T02:48:52.081Z"
      },
      {
        "duration": 126,
        "start_time": "2022-12-22T02:51:26.263Z"
      },
      {
        "duration": 10,
        "start_time": "2022-12-22T02:51:49.796Z"
      },
      {
        "duration": 197,
        "start_time": "2022-12-22T02:53:16.673Z"
      },
      {
        "duration": 12,
        "start_time": "2022-12-22T02:55:25.673Z"
      },
      {
        "duration": 12,
        "start_time": "2022-12-22T02:55:33.459Z"
      },
      {
        "duration": 21,
        "start_time": "2022-12-22T02:56:11.493Z"
      },
      {
        "duration": 10,
        "start_time": "2022-12-22T02:56:24.496Z"
      },
      {
        "duration": 16,
        "start_time": "2022-12-22T02:56:28.040Z"
      },
      {
        "duration": 133,
        "start_time": "2022-12-22T02:56:48.650Z"
      },
      {
        "duration": 136,
        "start_time": "2022-12-22T02:56:59.944Z"
      },
      {
        "duration": 132,
        "start_time": "2022-12-22T02:57:21.121Z"
      },
      {
        "duration": 8,
        "start_time": "2022-12-22T02:57:54.061Z"
      },
      {
        "duration": 143,
        "start_time": "2022-12-22T02:58:03.916Z"
      },
      {
        "duration": 16,
        "start_time": "2022-12-22T02:59:26.348Z"
      },
      {
        "duration": 17,
        "start_time": "2022-12-22T02:59:36.326Z"
      },
      {
        "duration": 11,
        "start_time": "2022-12-22T03:01:30.228Z"
      },
      {
        "duration": 31,
        "start_time": "2022-12-22T03:01:35.787Z"
      },
      {
        "duration": 131,
        "start_time": "2022-12-22T03:05:38.322Z"
      },
      {
        "duration": 5,
        "start_time": "2022-12-22T03:07:15.148Z"
      },
      {
        "duration": 28,
        "start_time": "2022-12-22T03:11:05.881Z"
      },
      {
        "duration": 48,
        "start_time": "2022-12-22T03:11:38.460Z"
      },
      {
        "duration": 29,
        "start_time": "2022-12-22T03:11:53.037Z"
      },
      {
        "duration": 11,
        "start_time": "2022-12-22T03:12:06.386Z"
      },
      {
        "duration": 26,
        "start_time": "2022-12-22T03:12:34.039Z"
      },
      {
        "duration": 7,
        "start_time": "2022-12-22T03:13:06.414Z"
      },
      {
        "duration": 12,
        "start_time": "2022-12-22T03:13:15.332Z"
      },
      {
        "duration": 53,
        "start_time": "2022-12-22T03:15:07.105Z"
      },
      {
        "duration": 5,
        "start_time": "2022-12-22T03:15:50.508Z"
      },
      {
        "duration": 4,
        "start_time": "2022-12-22T03:16:01.834Z"
      },
      {
        "duration": 4,
        "start_time": "2022-12-22T03:16:05.076Z"
      },
      {
        "duration": 7,
        "start_time": "2022-12-22T03:17:10.750Z"
      },
      {
        "duration": 12,
        "start_time": "2022-12-22T03:23:49.941Z"
      },
      {
        "duration": 1095,
        "start_time": "2022-12-22T03:23:55.111Z"
      },
      {
        "duration": 116,
        "start_time": "2022-12-22T03:23:56.208Z"
      },
      {
        "duration": 17,
        "start_time": "2022-12-22T03:23:56.325Z"
      },
      {
        "duration": 8,
        "start_time": "2022-12-22T03:23:56.344Z"
      },
      {
        "duration": 21,
        "start_time": "2022-12-22T03:23:56.354Z"
      },
      {
        "duration": 10,
        "start_time": "2022-12-22T03:23:56.377Z"
      },
      {
        "duration": 34,
        "start_time": "2022-12-22T03:23:56.389Z"
      },
      {
        "duration": 6,
        "start_time": "2022-12-22T03:23:56.425Z"
      },
      {
        "duration": 10,
        "start_time": "2022-12-22T03:23:56.432Z"
      },
      {
        "duration": 14,
        "start_time": "2022-12-22T03:23:56.444Z"
      },
      {
        "duration": 12,
        "start_time": "2022-12-22T03:23:56.460Z"
      },
      {
        "duration": 13,
        "start_time": "2022-12-22T03:23:56.473Z"
      },
      {
        "duration": 35,
        "start_time": "2022-12-22T03:23:56.488Z"
      },
      {
        "duration": 32,
        "start_time": "2022-12-22T03:23:56.524Z"
      },
      {
        "duration": 7,
        "start_time": "2022-12-22T03:23:56.558Z"
      },
      {
        "duration": 13,
        "start_time": "2022-12-22T03:23:56.567Z"
      },
      {
        "duration": 11,
        "start_time": "2022-12-22T03:23:56.582Z"
      },
      {
        "duration": 77,
        "start_time": "2022-12-22T03:23:56.594Z"
      },
      {
        "duration": 5,
        "start_time": "2022-12-22T03:23:56.672Z"
      },
      {
        "duration": 20,
        "start_time": "2022-12-22T03:23:56.679Z"
      },
      {
        "duration": 27,
        "start_time": "2022-12-22T03:23:56.700Z"
      },
      {
        "duration": 23,
        "start_time": "2022-12-22T03:23:56.729Z"
      },
      {
        "duration": 6,
        "start_time": "2022-12-22T03:23:56.753Z"
      },
      {
        "duration": 9,
        "start_time": "2022-12-22T03:23:56.760Z"
      },
      {
        "duration": 7,
        "start_time": "2022-12-22T03:23:56.771Z"
      },
      {
        "duration": 13,
        "start_time": "2022-12-22T03:23:56.780Z"
      },
      {
        "duration": 30,
        "start_time": "2022-12-22T03:23:56.794Z"
      },
      {
        "duration": 26,
        "start_time": "2022-12-22T03:23:56.827Z"
      },
      {
        "duration": 5,
        "start_time": "2022-12-22T03:23:56.855Z"
      },
      {
        "duration": 14,
        "start_time": "2022-12-22T03:23:56.862Z"
      },
      {
        "duration": 47,
        "start_time": "2022-12-22T03:23:56.878Z"
      },
      {
        "duration": 6,
        "start_time": "2022-12-22T03:23:56.927Z"
      },
      {
        "duration": 27,
        "start_time": "2022-12-22T03:23:56.934Z"
      },
      {
        "duration": 5,
        "start_time": "2022-12-22T03:23:56.962Z"
      },
      {
        "duration": 6,
        "start_time": "2022-12-22T03:23:56.968Z"
      },
      {
        "duration": 5,
        "start_time": "2022-12-22T03:23:56.975Z"
      },
      {
        "duration": 13,
        "start_time": "2022-12-22T03:23:56.981Z"
      },
      {
        "duration": 4,
        "start_time": "2022-12-22T03:23:57.022Z"
      },
      {
        "duration": 22,
        "start_time": "2022-12-22T03:23:57.028Z"
      },
      {
        "duration": 149,
        "start_time": "2022-12-22T03:23:57.052Z"
      },
      {
        "duration": 7,
        "start_time": "2022-12-22T03:23:57.202Z"
      },
      {
        "duration": 142,
        "start_time": "2022-12-22T03:23:57.210Z"
      },
      {
        "duration": 149,
        "start_time": "2022-12-22T03:23:57.354Z"
      },
      {
        "duration": 7,
        "start_time": "2022-12-22T03:23:57.504Z"
      },
      {
        "duration": 21,
        "start_time": "2022-12-22T03:23:57.512Z"
      },
      {
        "duration": 147,
        "start_time": "2022-12-22T03:23:57.534Z"
      },
      {
        "duration": 48,
        "start_time": "2022-12-22T03:24:52.220Z"
      },
      {
        "duration": 136,
        "start_time": "2022-12-22T03:24:55.837Z"
      },
      {
        "duration": 136,
        "start_time": "2022-12-22T03:25:06.198Z"
      },
      {
        "duration": 9,
        "start_time": "2022-12-22T03:27:54.971Z"
      },
      {
        "duration": 12,
        "start_time": "2022-12-22T03:28:17.519Z"
      },
      {
        "duration": 13,
        "start_time": "2022-12-22T03:28:21.183Z"
      },
      {
        "duration": 1083,
        "start_time": "2022-12-22T03:32:17.525Z"
      },
      {
        "duration": 118,
        "start_time": "2022-12-22T03:32:18.610Z"
      },
      {
        "duration": 17,
        "start_time": "2022-12-22T03:32:18.729Z"
      },
      {
        "duration": 6,
        "start_time": "2022-12-22T03:32:18.748Z"
      },
      {
        "duration": 16,
        "start_time": "2022-12-22T03:32:18.756Z"
      },
      {
        "duration": 8,
        "start_time": "2022-12-22T03:32:18.774Z"
      },
      {
        "duration": 13,
        "start_time": "2022-12-22T03:32:18.784Z"
      },
      {
        "duration": 23,
        "start_time": "2022-12-22T03:32:18.799Z"
      },
      {
        "duration": 11,
        "start_time": "2022-12-22T03:32:18.823Z"
      },
      {
        "duration": 12,
        "start_time": "2022-12-22T03:32:18.837Z"
      },
      {
        "duration": 12,
        "start_time": "2022-12-22T03:32:18.851Z"
      },
      {
        "duration": 13,
        "start_time": "2022-12-22T03:32:18.864Z"
      },
      {
        "duration": 12,
        "start_time": "2022-12-22T03:32:18.879Z"
      },
      {
        "duration": 58,
        "start_time": "2022-12-22T03:32:18.893Z"
      },
      {
        "duration": 8,
        "start_time": "2022-12-22T03:32:18.953Z"
      },
      {
        "duration": 13,
        "start_time": "2022-12-22T03:32:18.963Z"
      },
      {
        "duration": 8,
        "start_time": "2022-12-22T03:32:18.977Z"
      },
      {
        "duration": 83,
        "start_time": "2022-12-22T03:32:18.986Z"
      },
      {
        "duration": 6,
        "start_time": "2022-12-22T03:32:19.070Z"
      },
      {
        "duration": 20,
        "start_time": "2022-12-22T03:32:19.077Z"
      },
      {
        "duration": 27,
        "start_time": "2022-12-22T03:32:19.098Z"
      },
      {
        "duration": 31,
        "start_time": "2022-12-22T03:32:19.127Z"
      },
      {
        "duration": 6,
        "start_time": "2022-12-22T03:32:19.160Z"
      },
      {
        "duration": 11,
        "start_time": "2022-12-22T03:32:19.167Z"
      },
      {
        "duration": 6,
        "start_time": "2022-12-22T03:32:19.180Z"
      },
      {
        "duration": 6,
        "start_time": "2022-12-22T03:32:19.188Z"
      },
      {
        "duration": 27,
        "start_time": "2022-12-22T03:32:19.195Z"
      },
      {
        "duration": 11,
        "start_time": "2022-12-22T03:32:19.225Z"
      },
      {
        "duration": 31,
        "start_time": "2022-12-22T03:32:19.237Z"
      },
      {
        "duration": 6,
        "start_time": "2022-12-22T03:32:19.269Z"
      },
      {
        "duration": 20,
        "start_time": "2022-12-22T03:32:19.276Z"
      },
      {
        "duration": 39,
        "start_time": "2022-12-22T03:32:19.297Z"
      },
      {
        "duration": 5,
        "start_time": "2022-12-22T03:32:19.338Z"
      },
      {
        "duration": 27,
        "start_time": "2022-12-22T03:32:19.344Z"
      },
      {
        "duration": 4,
        "start_time": "2022-12-22T03:32:19.373Z"
      },
      {
        "duration": 7,
        "start_time": "2022-12-22T03:32:19.378Z"
      },
      {
        "duration": 4,
        "start_time": "2022-12-22T03:32:19.386Z"
      },
      {
        "duration": 29,
        "start_time": "2022-12-22T03:32:19.392Z"
      },
      {
        "duration": 4,
        "start_time": "2022-12-22T03:32:19.423Z"
      },
      {
        "duration": 20,
        "start_time": "2022-12-22T03:32:19.428Z"
      },
      {
        "duration": 163,
        "start_time": "2022-12-22T03:32:19.450Z"
      },
      {
        "duration": 140,
        "start_time": "2022-12-22T03:32:19.615Z"
      },
      {
        "duration": 151,
        "start_time": "2022-12-22T03:32:19.756Z"
      },
      {
        "duration": 14,
        "start_time": "2022-12-22T03:32:19.908Z"
      },
      {
        "duration": 18,
        "start_time": "2022-12-22T03:32:19.923Z"
      },
      {
        "duration": 148,
        "start_time": "2022-12-22T03:32:19.942Z"
      },
      {
        "duration": 72,
        "start_time": "2022-12-22T14:10:48.921Z"
      },
      {
        "duration": 9,
        "start_time": "2022-12-22T14:10:59.793Z"
      },
      {
        "duration": 8,
        "start_time": "2022-12-22T14:11:06.734Z"
      },
      {
        "duration": 8,
        "start_time": "2022-12-22T14:11:21.856Z"
      },
      {
        "duration": 8,
        "start_time": "2022-12-22T14:13:46.764Z"
      },
      {
        "duration": 6,
        "start_time": "2022-12-22T14:13:52.650Z"
      },
      {
        "duration": 7,
        "start_time": "2022-12-22T14:13:53.764Z"
      },
      {
        "duration": 896,
        "start_time": "2022-12-22T14:14:05.205Z"
      },
      {
        "duration": 303,
        "start_time": "2022-12-22T14:14:06.103Z"
      },
      {
        "duration": 26,
        "start_time": "2022-12-22T14:14:06.407Z"
      },
      {
        "duration": 16,
        "start_time": "2022-12-22T14:14:06.436Z"
      },
      {
        "duration": 28,
        "start_time": "2022-12-22T14:14:06.456Z"
      },
      {
        "duration": 13,
        "start_time": "2022-12-22T14:14:06.486Z"
      },
      {
        "duration": 67,
        "start_time": "2022-12-22T14:14:06.501Z"
      },
      {
        "duration": 9,
        "start_time": "2022-12-22T14:14:06.571Z"
      },
      {
        "duration": 20,
        "start_time": "2022-12-22T14:14:06.583Z"
      },
      {
        "duration": 54,
        "start_time": "2022-12-22T14:14:06.607Z"
      },
      {
        "duration": 17,
        "start_time": "2022-12-22T14:14:06.664Z"
      },
      {
        "duration": 40,
        "start_time": "2022-12-22T14:14:06.683Z"
      },
      {
        "duration": 28,
        "start_time": "2022-12-22T14:14:06.725Z"
      },
      {
        "duration": 38,
        "start_time": "2022-12-22T14:14:06.755Z"
      },
      {
        "duration": 20,
        "start_time": "2022-12-22T14:14:06.796Z"
      },
      {
        "duration": 19,
        "start_time": "2022-12-22T14:14:06.818Z"
      },
      {
        "duration": 13,
        "start_time": "2022-12-22T14:14:06.838Z"
      },
      {
        "duration": 104,
        "start_time": "2022-12-22T14:14:06.853Z"
      },
      {
        "duration": 8,
        "start_time": "2022-12-22T14:14:06.958Z"
      },
      {
        "duration": 23,
        "start_time": "2022-12-22T14:14:06.968Z"
      },
      {
        "duration": 46,
        "start_time": "2022-12-22T14:14:06.992Z"
      },
      {
        "duration": 27,
        "start_time": "2022-12-22T14:14:07.041Z"
      },
      {
        "duration": 6,
        "start_time": "2022-12-22T14:14:07.070Z"
      },
      {
        "duration": 12,
        "start_time": "2022-12-22T14:14:07.078Z"
      },
      {
        "duration": 9,
        "start_time": "2022-12-22T14:14:07.092Z"
      },
      {
        "duration": 15,
        "start_time": "2022-12-22T14:14:07.103Z"
      },
      {
        "duration": 34,
        "start_time": "2022-12-22T14:14:07.119Z"
      },
      {
        "duration": 38,
        "start_time": "2022-12-22T14:14:07.158Z"
      },
      {
        "duration": 7,
        "start_time": "2022-12-22T14:14:07.198Z"
      },
      {
        "duration": 28,
        "start_time": "2022-12-22T14:14:07.206Z"
      },
      {
        "duration": 27,
        "start_time": "2022-12-22T14:14:07.236Z"
      },
      {
        "duration": 7,
        "start_time": "2022-12-22T14:14:07.264Z"
      },
      {
        "duration": 43,
        "start_time": "2022-12-22T14:14:07.273Z"
      },
      {
        "duration": 7,
        "start_time": "2022-12-22T14:14:07.317Z"
      },
      {
        "duration": 11,
        "start_time": "2022-12-22T14:14:07.326Z"
      },
      {
        "duration": 6,
        "start_time": "2022-12-22T14:14:07.339Z"
      },
      {
        "duration": 22,
        "start_time": "2022-12-22T14:14:07.347Z"
      },
      {
        "duration": 5,
        "start_time": "2022-12-22T14:14:07.371Z"
      },
      {
        "duration": 51,
        "start_time": "2022-12-22T14:14:07.378Z"
      },
      {
        "duration": 205,
        "start_time": "2022-12-22T14:14:07.432Z"
      },
      {
        "duration": 168,
        "start_time": "2022-12-22T14:14:07.640Z"
      },
      {
        "duration": 219,
        "start_time": "2022-12-22T14:14:07.815Z"
      },
      {
        "duration": 12,
        "start_time": "2022-12-22T14:14:08.036Z"
      },
      {
        "duration": 39,
        "start_time": "2022-12-22T14:14:08.051Z"
      },
      {
        "duration": 263,
        "start_time": "2022-12-22T14:14:08.092Z"
      },
      {
        "duration": 175,
        "start_time": "2022-12-22T14:15:15.957Z"
      },
      {
        "duration": 75,
        "start_time": "2022-12-22T14:16:55.087Z"
      },
      {
        "duration": 199,
        "start_time": "2022-12-22T14:17:06.241Z"
      },
      {
        "duration": 155,
        "start_time": "2022-12-22T14:17:47.487Z"
      },
      {
        "duration": 192,
        "start_time": "2022-12-22T14:18:21.647Z"
      },
      {
        "duration": 178,
        "start_time": "2022-12-22T14:19:33.760Z"
      },
      {
        "duration": 174,
        "start_time": "2022-12-22T14:19:41.921Z"
      },
      {
        "duration": 191,
        "start_time": "2022-12-22T14:25:59.496Z"
      },
      {
        "duration": 164,
        "start_time": "2022-12-22T14:26:17.572Z"
      },
      {
        "duration": 153,
        "start_time": "2022-12-22T14:26:23.019Z"
      },
      {
        "duration": 8,
        "start_time": "2022-12-22T17:51:27.461Z"
      },
      {
        "duration": 14,
        "start_time": "2022-12-22T17:51:34.282Z"
      },
      {
        "duration": 9,
        "start_time": "2022-12-22T17:51:42.623Z"
      },
      {
        "duration": 29,
        "start_time": "2022-12-22T17:52:57.692Z"
      },
      {
        "duration": 12,
        "start_time": "2022-12-22T18:17:56.790Z"
      },
      {
        "duration": 20,
        "start_time": "2022-12-22T18:17:58.618Z"
      },
      {
        "duration": 636,
        "start_time": "2022-12-22T18:18:10.110Z"
      },
      {
        "duration": 128,
        "start_time": "2022-12-22T18:18:10.748Z"
      },
      {
        "duration": 18,
        "start_time": "2022-12-22T18:18:10.878Z"
      },
      {
        "duration": 7,
        "start_time": "2022-12-22T18:18:10.898Z"
      },
      {
        "duration": 14,
        "start_time": "2022-12-22T18:18:10.907Z"
      },
      {
        "duration": 11,
        "start_time": "2022-12-22T18:18:10.923Z"
      },
      {
        "duration": 17,
        "start_time": "2022-12-22T18:18:10.936Z"
      },
      {
        "duration": 5,
        "start_time": "2022-12-22T18:18:10.955Z"
      },
      {
        "duration": 14,
        "start_time": "2022-12-22T18:18:10.962Z"
      },
      {
        "duration": 37,
        "start_time": "2022-12-22T18:18:10.981Z"
      },
      {
        "duration": 14,
        "start_time": "2022-12-22T18:18:11.020Z"
      },
      {
        "duration": 16,
        "start_time": "2022-12-22T18:18:11.036Z"
      },
      {
        "duration": 13,
        "start_time": "2022-12-22T18:18:11.054Z"
      },
      {
        "duration": 78,
        "start_time": "2022-12-22T18:18:11.069Z"
      },
      {
        "duration": 10,
        "start_time": "2022-12-22T18:18:11.149Z"
      },
      {
        "duration": 17,
        "start_time": "2022-12-22T18:18:11.160Z"
      },
      {
        "duration": 12,
        "start_time": "2022-12-22T18:18:11.179Z"
      },
      {
        "duration": 66,
        "start_time": "2022-12-22T18:18:11.217Z"
      },
      {
        "duration": 6,
        "start_time": "2022-12-22T18:18:11.284Z"
      },
      {
        "duration": 39,
        "start_time": "2022-12-22T18:18:11.292Z"
      },
      {
        "duration": 12,
        "start_time": "2022-12-22T18:18:11.333Z"
      },
      {
        "duration": 25,
        "start_time": "2022-12-22T18:18:11.347Z"
      },
      {
        "duration": 7,
        "start_time": "2022-12-22T18:18:11.373Z"
      },
      {
        "duration": 17,
        "start_time": "2022-12-22T18:18:11.416Z"
      },
      {
        "duration": 8,
        "start_time": "2022-12-22T18:18:11.435Z"
      },
      {
        "duration": 7,
        "start_time": "2022-12-22T18:18:11.444Z"
      },
      {
        "duration": 8,
        "start_time": "2022-12-22T18:18:11.452Z"
      },
      {
        "duration": 54,
        "start_time": "2022-12-22T18:18:11.463Z"
      },
      {
        "duration": 28,
        "start_time": "2022-12-22T18:18:11.518Z"
      },
      {
        "duration": 7,
        "start_time": "2022-12-22T18:18:11.548Z"
      },
      {
        "duration": 16,
        "start_time": "2022-12-22T18:18:11.556Z"
      },
      {
        "duration": 66,
        "start_time": "2022-12-22T18:18:11.573Z"
      },
      {
        "duration": 5,
        "start_time": "2022-12-22T18:18:11.641Z"
      },
      {
        "duration": 22,
        "start_time": "2022-12-22T18:18:11.648Z"
      },
      {
        "duration": 6,
        "start_time": "2022-12-22T18:18:11.672Z"
      },
      {
        "duration": 37,
        "start_time": "2022-12-22T18:18:11.680Z"
      },
      {
        "duration": 8,
        "start_time": "2022-12-22T18:18:11.719Z"
      },
      {
        "duration": 22,
        "start_time": "2022-12-22T18:18:11.729Z"
      },
      {
        "duration": 6,
        "start_time": "2022-12-22T18:18:11.754Z"
      },
      {
        "duration": 55,
        "start_time": "2022-12-22T18:18:11.762Z"
      },
      {
        "duration": 208,
        "start_time": "2022-12-22T18:18:11.820Z"
      },
      {
        "duration": 212,
        "start_time": "2022-12-22T18:18:12.030Z"
      },
      {
        "duration": 13,
        "start_time": "2022-12-22T18:18:12.246Z"
      },
      {
        "duration": 16,
        "start_time": "2022-12-22T18:18:12.261Z"
      },
      {
        "duration": 170,
        "start_time": "2022-12-22T18:18:12.279Z"
      },
      {
        "duration": 82,
        "start_time": "2022-12-22T18:22:08.955Z"
      },
      {
        "duration": 31,
        "start_time": "2022-12-22T18:22:16.131Z"
      },
      {
        "duration": 56,
        "start_time": "2022-12-22T18:22:50.398Z"
      },
      {
        "duration": 39,
        "start_time": "2022-12-22T18:23:16.984Z"
      },
      {
        "duration": 13,
        "start_time": "2022-12-22T18:23:25.925Z"
      },
      {
        "duration": 7,
        "start_time": "2022-12-22T18:23:41.586Z"
      },
      {
        "duration": 5,
        "start_time": "2022-12-22T18:32:44.838Z"
      },
      {
        "duration": 5,
        "start_time": "2022-12-22T18:32:52.367Z"
      },
      {
        "duration": 7,
        "start_time": "2022-12-22T18:40:25.859Z"
      },
      {
        "duration": 7,
        "start_time": "2022-12-22T18:40:33.900Z"
      },
      {
        "duration": 8,
        "start_time": "2022-12-22T18:40:40.460Z"
      },
      {
        "duration": 7,
        "start_time": "2022-12-22T18:40:52.224Z"
      },
      {
        "duration": 703,
        "start_time": "2022-12-22T18:47:30.398Z"
      },
      {
        "duration": 125,
        "start_time": "2022-12-22T18:47:31.103Z"
      },
      {
        "duration": 23,
        "start_time": "2022-12-22T18:47:31.229Z"
      },
      {
        "duration": 7,
        "start_time": "2022-12-22T18:47:31.255Z"
      },
      {
        "duration": 18,
        "start_time": "2022-12-22T18:47:31.264Z"
      },
      {
        "duration": 17,
        "start_time": "2022-12-22T18:47:31.284Z"
      },
      {
        "duration": 30,
        "start_time": "2022-12-22T18:47:31.303Z"
      },
      {
        "duration": 14,
        "start_time": "2022-12-22T18:47:31.335Z"
      },
      {
        "duration": 23,
        "start_time": "2022-12-22T18:47:31.350Z"
      },
      {
        "duration": 26,
        "start_time": "2022-12-22T18:47:31.376Z"
      },
      {
        "duration": 21,
        "start_time": "2022-12-22T18:47:31.404Z"
      },
      {
        "duration": 21,
        "start_time": "2022-12-22T18:47:31.427Z"
      },
      {
        "duration": 19,
        "start_time": "2022-12-22T18:47:31.450Z"
      },
      {
        "duration": 69,
        "start_time": "2022-12-22T18:47:31.471Z"
      },
      {
        "duration": 10,
        "start_time": "2022-12-22T18:47:31.542Z"
      },
      {
        "duration": 15,
        "start_time": "2022-12-22T18:47:31.554Z"
      },
      {
        "duration": 9,
        "start_time": "2022-12-22T18:47:31.571Z"
      },
      {
        "duration": 97,
        "start_time": "2022-12-22T18:47:31.582Z"
      },
      {
        "duration": 7,
        "start_time": "2022-12-22T18:47:31.680Z"
      },
      {
        "duration": 35,
        "start_time": "2022-12-22T18:47:31.689Z"
      },
      {
        "duration": 14,
        "start_time": "2022-12-22T18:47:31.725Z"
      },
      {
        "duration": 26,
        "start_time": "2022-12-22T18:47:31.741Z"
      },
      {
        "duration": 8,
        "start_time": "2022-12-22T18:47:31.768Z"
      },
      {
        "duration": 55,
        "start_time": "2022-12-22T18:47:31.777Z"
      },
      {
        "duration": 12,
        "start_time": "2022-12-22T18:47:31.833Z"
      },
      {
        "duration": 8,
        "start_time": "2022-12-22T18:47:31.847Z"
      },
      {
        "duration": 7,
        "start_time": "2022-12-22T18:47:31.857Z"
      },
      {
        "duration": 11,
        "start_time": "2022-12-22T18:47:31.867Z"
      },
      {
        "duration": 31,
        "start_time": "2022-12-22T18:47:31.916Z"
      },
      {
        "duration": 19,
        "start_time": "2022-12-22T18:47:31.950Z"
      },
      {
        "duration": 25,
        "start_time": "2022-12-22T18:47:31.970Z"
      },
      {
        "duration": 34,
        "start_time": "2022-12-22T18:47:31.997Z"
      },
      {
        "duration": 7,
        "start_time": "2022-12-22T18:47:32.033Z"
      },
      {
        "duration": 29,
        "start_time": "2022-12-22T18:47:32.042Z"
      },
      {
        "duration": 6,
        "start_time": "2022-12-22T18:47:32.074Z"
      },
      {
        "duration": 12,
        "start_time": "2022-12-22T18:47:32.082Z"
      },
      {
        "duration": 23,
        "start_time": "2022-12-22T18:47:32.096Z"
      },
      {
        "duration": 15,
        "start_time": "2022-12-22T18:47:32.121Z"
      },
      {
        "duration": 7,
        "start_time": "2022-12-22T18:47:32.137Z"
      },
      {
        "duration": 18,
        "start_time": "2022-12-22T18:47:32.145Z"
      },
      {
        "duration": 20,
        "start_time": "2022-12-22T18:47:32.165Z"
      },
      {
        "duration": 191,
        "start_time": "2022-12-22T18:47:32.186Z"
      },
      {
        "duration": 8,
        "start_time": "2022-12-22T18:47:32.378Z"
      },
      {
        "duration": 180,
        "start_time": "2022-12-22T18:47:32.388Z"
      },
      {
        "duration": 154,
        "start_time": "2022-12-22T18:47:32.569Z"
      },
      {
        "duration": 7,
        "start_time": "2022-12-22T18:47:32.725Z"
      },
      {
        "duration": 17,
        "start_time": "2022-12-22T18:47:32.734Z"
      },
      {
        "duration": 8,
        "start_time": "2022-12-22T18:51:53.858Z"
      },
      {
        "duration": 10,
        "start_time": "2022-12-22T18:52:29.316Z"
      },
      {
        "duration": 10,
        "start_time": "2022-12-22T18:52:46.158Z"
      },
      {
        "duration": 12,
        "start_time": "2022-12-22T18:53:34.992Z"
      },
      {
        "duration": 15,
        "start_time": "2022-12-22T18:54:27.760Z"
      },
      {
        "duration": 15,
        "start_time": "2022-12-22T18:55:23.551Z"
      },
      {
        "duration": 14,
        "start_time": "2022-12-22T18:55:59.547Z"
      },
      {
        "duration": 14,
        "start_time": "2022-12-22T18:56:00.280Z"
      },
      {
        "duration": 28,
        "start_time": "2022-12-22T18:59:45.021Z"
      },
      {
        "duration": 21,
        "start_time": "2022-12-22T19:09:29.827Z"
      },
      {
        "duration": 9,
        "start_time": "2022-12-22T19:10:49.949Z"
      },
      {
        "duration": 16,
        "start_time": "2022-12-22T19:11:08.150Z"
      },
      {
        "duration": 271,
        "start_time": "2022-12-22T19:12:42.812Z"
      },
      {
        "duration": 21,
        "start_time": "2022-12-22T19:14:27.506Z"
      },
      {
        "duration": 13,
        "start_time": "2022-12-22T19:14:29.881Z"
      },
      {
        "duration": 94,
        "start_time": "2022-12-22T19:14:37.961Z"
      },
      {
        "duration": 22,
        "start_time": "2022-12-22T19:14:42.919Z"
      },
      {
        "duration": 166,
        "start_time": "2022-12-22T19:15:10.616Z"
      },
      {
        "duration": 199,
        "start_time": "2022-12-22T19:20:07.130Z"
      },
      {
        "duration": 20,
        "start_time": "2022-12-22T19:28:57.352Z"
      },
      {
        "duration": 27,
        "start_time": "2022-12-22T19:29:30.821Z"
      },
      {
        "duration": 29,
        "start_time": "2022-12-22T19:30:09.709Z"
      },
      {
        "duration": 24,
        "start_time": "2022-12-22T19:30:23.584Z"
      },
      {
        "duration": 35,
        "start_time": "2022-12-22T19:30:26.223Z"
      },
      {
        "duration": 40,
        "start_time": "2022-12-22T19:30:56.568Z"
      },
      {
        "duration": 37,
        "start_time": "2022-12-22T19:31:20.072Z"
      },
      {
        "duration": 36,
        "start_time": "2022-12-22T19:31:59.704Z"
      },
      {
        "duration": 38,
        "start_time": "2022-12-22T19:32:12.238Z"
      },
      {
        "duration": 40,
        "start_time": "2022-12-22T19:32:15.347Z"
      },
      {
        "duration": 31,
        "start_time": "2022-12-22T19:33:27.435Z"
      },
      {
        "duration": 37,
        "start_time": "2022-12-22T19:33:35.834Z"
      },
      {
        "duration": 52,
        "start_time": "2022-12-22T19:36:59.320Z"
      },
      {
        "duration": 44,
        "start_time": "2022-12-22T19:37:11.557Z"
      },
      {
        "duration": 607,
        "start_time": "2022-12-22T19:41:55.952Z"
      },
      {
        "duration": 394,
        "start_time": "2022-12-22T19:42:25.318Z"
      },
      {
        "duration": 738,
        "start_time": "2022-12-22T19:42:46.671Z"
      },
      {
        "duration": 42,
        "start_time": "2022-12-22T19:53:08.158Z"
      },
      {
        "duration": 45,
        "start_time": "2022-12-22T19:53:17.965Z"
      },
      {
        "duration": 59,
        "start_time": "2022-12-22T19:54:01.884Z"
      },
      {
        "duration": 45,
        "start_time": "2022-12-22T20:05:33.457Z"
      },
      {
        "duration": 53,
        "start_time": "2022-12-22T21:20:20.475Z"
      },
      {
        "duration": 4,
        "start_time": "2022-12-22T21:53:07.035Z"
      },
      {
        "duration": 139,
        "start_time": "2022-12-22T21:54:39.447Z"
      },
      {
        "duration": 29,
        "start_time": "2022-12-22T21:56:31.791Z"
      },
      {
        "duration": 37,
        "start_time": "2022-12-22T21:56:39.476Z"
      },
      {
        "duration": 45,
        "start_time": "2022-12-22T22:01:20.643Z"
      },
      {
        "duration": 43,
        "start_time": "2022-12-22T22:03:04.095Z"
      },
      {
        "duration": 26,
        "start_time": "2022-12-22T22:04:52.809Z"
      },
      {
        "duration": 8,
        "start_time": "2022-12-22T22:11:57.463Z"
      },
      {
        "duration": 6,
        "start_time": "2022-12-22T22:12:02.368Z"
      },
      {
        "duration": 49,
        "start_time": "2022-12-22T22:12:02.875Z"
      },
      {
        "duration": 42,
        "start_time": "2022-12-22T22:12:21.120Z"
      },
      {
        "duration": 23,
        "start_time": "2022-12-22T22:12:27.439Z"
      },
      {
        "duration": 40,
        "start_time": "2022-12-22T22:15:27.414Z"
      },
      {
        "duration": 52,
        "start_time": "2022-12-22T22:15:46.634Z"
      },
      {
        "duration": 25,
        "start_time": "2022-12-22T22:17:08.214Z"
      },
      {
        "duration": 14,
        "start_time": "2022-12-22T22:18:28.472Z"
      },
      {
        "duration": 26,
        "start_time": "2022-12-22T22:19:11.107Z"
      },
      {
        "duration": 752,
        "start_time": "2022-12-22T22:22:32.848Z"
      },
      {
        "duration": 23,
        "start_time": "2022-12-22T22:24:37.107Z"
      },
      {
        "duration": 741,
        "start_time": "2022-12-22T22:24:46.867Z"
      },
      {
        "duration": 30,
        "start_time": "2022-12-22T22:25:05.374Z"
      },
      {
        "duration": 751,
        "start_time": "2022-12-22T22:25:08.899Z"
      },
      {
        "duration": 22,
        "start_time": "2022-12-22T22:25:27.693Z"
      },
      {
        "duration": 33,
        "start_time": "2022-12-22T22:25:47.337Z"
      },
      {
        "duration": 684,
        "start_time": "2022-12-22T22:25:49.195Z"
      },
      {
        "duration": 148,
        "start_time": "2022-12-22T22:26:02.003Z"
      },
      {
        "duration": 121,
        "start_time": "2022-12-22T22:27:01.389Z"
      },
      {
        "duration": 18,
        "start_time": "2022-12-22T22:29:06.348Z"
      },
      {
        "duration": 19,
        "start_time": "2022-12-22T22:29:15.150Z"
      },
      {
        "duration": 18,
        "start_time": "2022-12-22T22:29:24.754Z"
      },
      {
        "duration": 20,
        "start_time": "2022-12-22T22:29:57.168Z"
      },
      {
        "duration": 20,
        "start_time": "2022-12-22T22:30:10.819Z"
      },
      {
        "duration": 706,
        "start_time": "2022-12-22T22:30:36.552Z"
      },
      {
        "duration": 91,
        "start_time": "2022-12-22T22:31:07.427Z"
      },
      {
        "duration": 717,
        "start_time": "2022-12-22T22:31:09.276Z"
      },
      {
        "duration": 728,
        "start_time": "2022-12-22T23:52:33.338Z"
      },
      {
        "duration": 19,
        "start_time": "2022-12-22T23:53:02.827Z"
      },
      {
        "duration": 130,
        "start_time": "2022-12-22T23:53:04.784Z"
      },
      {
        "duration": 115,
        "start_time": "2022-12-22T23:53:07.036Z"
      },
      {
        "duration": 21,
        "start_time": "2022-12-22T23:53:32.044Z"
      },
      {
        "duration": 155,
        "start_time": "2022-12-22T23:53:32.419Z"
      },
      {
        "duration": 116,
        "start_time": "2022-12-22T23:53:32.900Z"
      },
      {
        "duration": 119,
        "start_time": "2022-12-23T00:59:21.339Z"
      },
      {
        "duration": 5,
        "start_time": "2022-12-23T01:06:35.100Z"
      },
      {
        "duration": 640,
        "start_time": "2022-12-23T01:06:54.907Z"
      },
      {
        "duration": 128,
        "start_time": "2022-12-23T01:06:55.549Z"
      },
      {
        "duration": 19,
        "start_time": "2022-12-23T01:06:55.678Z"
      },
      {
        "duration": 14,
        "start_time": "2022-12-23T01:06:55.699Z"
      },
      {
        "duration": 34,
        "start_time": "2022-12-23T01:06:55.714Z"
      },
      {
        "duration": 9,
        "start_time": "2022-12-23T01:06:55.750Z"
      },
      {
        "duration": 25,
        "start_time": "2022-12-23T01:06:55.761Z"
      },
      {
        "duration": 4,
        "start_time": "2022-12-23T01:06:55.788Z"
      },
      {
        "duration": 14,
        "start_time": "2022-12-23T01:06:55.794Z"
      },
      {
        "duration": 21,
        "start_time": "2022-12-23T01:06:55.817Z"
      },
      {
        "duration": 13,
        "start_time": "2022-12-23T01:06:55.839Z"
      },
      {
        "duration": 17,
        "start_time": "2022-12-23T01:06:55.854Z"
      },
      {
        "duration": 19,
        "start_time": "2022-12-23T01:06:55.873Z"
      },
      {
        "duration": 66,
        "start_time": "2022-12-23T01:06:55.894Z"
      },
      {
        "duration": 13,
        "start_time": "2022-12-23T01:06:55.962Z"
      },
      {
        "duration": 16,
        "start_time": "2022-12-23T01:06:55.977Z"
      },
      {
        "duration": 31,
        "start_time": "2022-12-23T01:06:55.995Z"
      },
      {
        "duration": 71,
        "start_time": "2022-12-23T01:06:56.032Z"
      },
      {
        "duration": 19,
        "start_time": "2022-12-23T01:06:56.105Z"
      },
      {
        "duration": 29,
        "start_time": "2022-12-23T01:06:56.125Z"
      },
      {
        "duration": 15,
        "start_time": "2022-12-23T01:06:56.156Z"
      },
      {
        "duration": 29,
        "start_time": "2022-12-23T01:06:56.172Z"
      },
      {
        "duration": 13,
        "start_time": "2022-12-23T01:06:56.203Z"
      },
      {
        "duration": 30,
        "start_time": "2022-12-23T01:06:56.218Z"
      },
      {
        "duration": 20,
        "start_time": "2022-12-23T01:06:56.250Z"
      },
      {
        "duration": 17,
        "start_time": "2022-12-23T01:06:56.272Z"
      },
      {
        "duration": 14,
        "start_time": "2022-12-23T01:06:56.291Z"
      },
      {
        "duration": 44,
        "start_time": "2022-12-23T01:06:56.320Z"
      },
      {
        "duration": 74,
        "start_time": "2022-12-23T01:06:56.366Z"
      },
      {
        "duration": 8,
        "start_time": "2022-12-23T01:06:56.442Z"
      },
      {
        "duration": 25,
        "start_time": "2022-12-23T01:06:56.452Z"
      },
      {
        "duration": 43,
        "start_time": "2022-12-23T01:06:56.479Z"
      },
      {
        "duration": 17,
        "start_time": "2022-12-23T01:06:56.526Z"
      },
      {
        "duration": 23,
        "start_time": "2022-12-23T01:06:56.545Z"
      },
      {
        "duration": 6,
        "start_time": "2022-12-23T01:06:56.569Z"
      },
      {
        "duration": 8,
        "start_time": "2022-12-23T01:06:56.577Z"
      },
      {
        "duration": 4,
        "start_time": "2022-12-23T01:06:56.586Z"
      },
      {
        "duration": 15,
        "start_time": "2022-12-23T01:06:56.592Z"
      },
      {
        "duration": 20,
        "start_time": "2022-12-23T01:06:56.609Z"
      },
      {
        "duration": 15,
        "start_time": "2022-12-23T01:06:56.630Z"
      },
      {
        "duration": 18,
        "start_time": "2022-12-23T01:06:56.646Z"
      },
      {
        "duration": 176,
        "start_time": "2022-12-23T01:06:56.665Z"
      },
      {
        "duration": 8,
        "start_time": "2022-12-23T01:06:56.843Z"
      },
      {
        "duration": 175,
        "start_time": "2022-12-23T01:06:56.853Z"
      },
      {
        "duration": 27,
        "start_time": "2022-12-23T01:06:57.030Z"
      },
      {
        "duration": 163,
        "start_time": "2022-12-23T01:06:57.059Z"
      },
      {
        "duration": 21,
        "start_time": "2022-12-23T01:06:57.224Z"
      },
      {
        "duration": 15,
        "start_time": "2022-12-23T01:06:57.247Z"
      },
      {
        "duration": 14,
        "start_time": "2022-12-23T01:06:57.263Z"
      },
      {
        "duration": 53,
        "start_time": "2022-12-23T01:06:57.278Z"
      },
      {
        "duration": 102,
        "start_time": "2022-12-23T01:06:57.332Z"
      },
      {
        "duration": 53,
        "start_time": "2022-12-23T01:06:57.436Z"
      },
      {
        "duration": 4,
        "start_time": "2022-12-23T01:06:57.491Z"
      },
      {
        "duration": 33,
        "start_time": "2022-12-23T01:06:57.497Z"
      },
      {
        "duration": 21,
        "start_time": "2022-12-23T01:06:57.531Z"
      },
      {
        "duration": 147,
        "start_time": "2022-12-23T01:06:57.554Z"
      },
      {
        "duration": 143,
        "start_time": "2022-12-23T01:06:57.703Z"
      },
      {
        "duration": 30,
        "start_time": "2022-12-23T01:06:57.847Z"
      },
      {
        "duration": 4,
        "start_time": "2022-12-23T01:06:57.879Z"
      },
      {
        "duration": 104,
        "start_time": "2022-12-23T01:06:57.884Z"
      },
      {
        "duration": 5,
        "start_time": "2022-12-23T01:08:04.085Z"
      },
      {
        "duration": 16,
        "start_time": "2022-12-23T01:09:13.046Z"
      },
      {
        "duration": 15,
        "start_time": "2022-12-23T01:09:26.950Z"
      },
      {
        "duration": 17,
        "start_time": "2022-12-23T01:13:51.036Z"
      },
      {
        "duration": 15,
        "start_time": "2022-12-23T01:14:07.298Z"
      },
      {
        "duration": 15,
        "start_time": "2022-12-23T01:14:39.532Z"
      },
      {
        "duration": 17,
        "start_time": "2022-12-23T01:15:14.130Z"
      },
      {
        "duration": 140,
        "start_time": "2022-12-23T01:20:01.524Z"
      },
      {
        "duration": 14,
        "start_time": "2022-12-23T01:22:30.283Z"
      },
      {
        "duration": 33,
        "start_time": "2022-12-23T01:23:02.324Z"
      },
      {
        "duration": 28,
        "start_time": "2022-12-23T01:23:08.473Z"
      },
      {
        "duration": 865,
        "start_time": "2022-12-23T18:35:49.410Z"
      },
      {
        "duration": 383,
        "start_time": "2022-12-23T18:35:50.277Z"
      },
      {
        "duration": 24,
        "start_time": "2022-12-23T18:35:50.662Z"
      },
      {
        "duration": 10,
        "start_time": "2022-12-23T18:35:50.687Z"
      },
      {
        "duration": 22,
        "start_time": "2022-12-23T18:35:50.699Z"
      },
      {
        "duration": 12,
        "start_time": "2022-12-23T18:35:50.722Z"
      },
      {
        "duration": 30,
        "start_time": "2022-12-23T18:35:50.736Z"
      },
      {
        "duration": 8,
        "start_time": "2022-12-23T18:35:50.767Z"
      },
      {
        "duration": 13,
        "start_time": "2022-12-23T18:35:50.777Z"
      },
      {
        "duration": 15,
        "start_time": "2022-12-23T18:35:50.792Z"
      },
      {
        "duration": 15,
        "start_time": "2022-12-23T18:35:50.808Z"
      },
      {
        "duration": 37,
        "start_time": "2022-12-23T18:35:50.824Z"
      },
      {
        "duration": 15,
        "start_time": "2022-12-23T18:35:50.863Z"
      },
      {
        "duration": 37,
        "start_time": "2022-12-23T18:35:50.882Z"
      },
      {
        "duration": 34,
        "start_time": "2022-12-23T18:35:50.921Z"
      },
      {
        "duration": 13,
        "start_time": "2022-12-23T18:35:50.957Z"
      },
      {
        "duration": 12,
        "start_time": "2022-12-23T18:35:50.972Z"
      },
      {
        "duration": 98,
        "start_time": "2022-12-23T18:35:50.986Z"
      },
      {
        "duration": 7,
        "start_time": "2022-12-23T18:35:51.085Z"
      },
      {
        "duration": 20,
        "start_time": "2022-12-23T18:35:51.094Z"
      },
      {
        "duration": 42,
        "start_time": "2022-12-23T18:35:51.115Z"
      },
      {
        "duration": 32,
        "start_time": "2022-12-23T18:35:51.158Z"
      },
      {
        "duration": 8,
        "start_time": "2022-12-23T18:35:51.191Z"
      },
      {
        "duration": 20,
        "start_time": "2022-12-23T18:35:51.200Z"
      },
      {
        "duration": 36,
        "start_time": "2022-12-23T18:35:51.222Z"
      },
      {
        "duration": 8,
        "start_time": "2022-12-23T18:35:51.260Z"
      },
      {
        "duration": 9,
        "start_time": "2022-12-23T18:35:51.269Z"
      },
      {
        "duration": 13,
        "start_time": "2022-12-23T18:35:51.280Z"
      },
      {
        "duration": 41,
        "start_time": "2022-12-23T18:35:51.295Z"
      },
      {
        "duration": 19,
        "start_time": "2022-12-23T18:35:51.338Z"
      },
      {
        "duration": 16,
        "start_time": "2022-12-23T18:35:51.359Z"
      },
      {
        "duration": 27,
        "start_time": "2022-12-23T18:35:51.377Z"
      },
      {
        "duration": 5,
        "start_time": "2022-12-23T18:35:51.407Z"
      },
      {
        "duration": 50,
        "start_time": "2022-12-23T18:35:51.414Z"
      },
      {
        "duration": 4,
        "start_time": "2022-12-23T18:35:51.466Z"
      },
      {
        "duration": 8,
        "start_time": "2022-12-23T18:35:51.472Z"
      },
      {
        "duration": 5,
        "start_time": "2022-12-23T18:35:51.482Z"
      },
      {
        "duration": 13,
        "start_time": "2022-12-23T18:35:51.488Z"
      },
      {
        "duration": 5,
        "start_time": "2022-12-23T18:35:51.503Z"
      },
      {
        "duration": 14,
        "start_time": "2022-12-23T18:35:51.510Z"
      },
      {
        "duration": 22,
        "start_time": "2022-12-23T18:35:51.551Z"
      },
      {
        "duration": 184,
        "start_time": "2022-12-23T18:35:51.574Z"
      },
      {
        "duration": 8,
        "start_time": "2022-12-23T18:35:51.760Z"
      },
      {
        "duration": 170,
        "start_time": "2022-12-23T18:35:51.769Z"
      },
      {
        "duration": 32,
        "start_time": "2022-12-23T18:35:51.941Z"
      },
      {
        "duration": 170,
        "start_time": "2022-12-23T18:35:51.975Z"
      },
      {
        "duration": 19,
        "start_time": "2022-12-23T18:35:52.146Z"
      },
      {
        "duration": 18,
        "start_time": "2022-12-23T18:35:52.167Z"
      },
      {
        "duration": 24,
        "start_time": "2022-12-23T18:35:52.188Z"
      },
      {
        "duration": 50,
        "start_time": "2022-12-23T18:35:52.214Z"
      },
      {
        "duration": 108,
        "start_time": "2022-12-23T18:35:52.266Z"
      },
      {
        "duration": 57,
        "start_time": "2022-12-23T18:35:52.376Z"
      },
      {
        "duration": 5,
        "start_time": "2022-12-23T18:35:52.450Z"
      },
      {
        "duration": 34,
        "start_time": "2022-12-23T18:35:52.456Z"
      },
      {
        "duration": 48,
        "start_time": "2022-12-23T18:35:52.492Z"
      },
      {
        "duration": 157,
        "start_time": "2022-12-23T18:35:52.542Z"
      },
      {
        "duration": 144,
        "start_time": "2022-12-23T18:35:52.702Z"
      },
      {
        "duration": 29,
        "start_time": "2022-12-23T18:35:52.851Z"
      },
      {
        "duration": 15,
        "start_time": "2022-12-23T18:35:52.882Z"
      },
      {
        "duration": 54,
        "start_time": "2022-12-23T18:35:52.899Z"
      },
      {
        "duration": 53,
        "start_time": "2022-12-23T19:53:42.420Z"
      },
      {
        "duration": 791,
        "start_time": "2022-12-23T19:53:47.546Z"
      },
      {
        "duration": 332,
        "start_time": "2022-12-23T19:53:48.339Z"
      },
      {
        "duration": 19,
        "start_time": "2022-12-23T19:53:48.672Z"
      },
      {
        "duration": 7,
        "start_time": "2022-12-23T19:53:48.693Z"
      },
      {
        "duration": 14,
        "start_time": "2022-12-23T19:53:48.703Z"
      },
      {
        "duration": 8,
        "start_time": "2022-12-23T19:53:48.719Z"
      },
      {
        "duration": 28,
        "start_time": "2022-12-23T19:53:48.729Z"
      },
      {
        "duration": 8,
        "start_time": "2022-12-23T19:53:48.758Z"
      },
      {
        "duration": 12,
        "start_time": "2022-12-23T19:53:48.767Z"
      },
      {
        "duration": 14,
        "start_time": "2022-12-23T19:53:48.781Z"
      },
      {
        "duration": 13,
        "start_time": "2022-12-23T19:53:48.796Z"
      },
      {
        "duration": 13,
        "start_time": "2022-12-23T19:53:48.810Z"
      },
      {
        "duration": 31,
        "start_time": "2022-12-23T19:53:48.825Z"
      },
      {
        "duration": 12,
        "start_time": "2022-12-23T19:53:48.859Z"
      },
      {
        "duration": 34,
        "start_time": "2022-12-23T19:53:48.872Z"
      },
      {
        "duration": 7,
        "start_time": "2022-12-23T19:53:48.908Z"
      },
      {
        "duration": 39,
        "start_time": "2022-12-23T19:53:48.917Z"
      },
      {
        "duration": 10,
        "start_time": "2022-12-23T19:53:48.958Z"
      },
      {
        "duration": 65,
        "start_time": "2022-12-23T19:53:48.970Z"
      },
      {
        "duration": 20,
        "start_time": "2022-12-23T19:53:49.037Z"
      },
      {
        "duration": 29,
        "start_time": "2022-12-23T19:53:49.060Z"
      },
      {
        "duration": 19,
        "start_time": "2022-12-23T19:53:49.091Z"
      },
      {
        "duration": 52,
        "start_time": "2022-12-23T19:53:49.111Z"
      },
      {
        "duration": 6,
        "start_time": "2022-12-23T19:53:49.165Z"
      },
      {
        "duration": 18,
        "start_time": "2022-12-23T19:53:49.173Z"
      },
      {
        "duration": 9,
        "start_time": "2022-12-23T19:53:49.193Z"
      },
      {
        "duration": 7,
        "start_time": "2022-12-23T19:53:49.204Z"
      },
      {
        "duration": 40,
        "start_time": "2022-12-23T19:53:49.213Z"
      },
      {
        "duration": 11,
        "start_time": "2022-12-23T19:53:49.255Z"
      },
      {
        "duration": 33,
        "start_time": "2022-12-23T19:53:49.268Z"
      },
      {
        "duration": 6,
        "start_time": "2022-12-23T19:53:49.302Z"
      },
      {
        "duration": 14,
        "start_time": "2022-12-23T19:53:49.310Z"
      },
      {
        "duration": 49,
        "start_time": "2022-12-23T19:53:49.325Z"
      },
      {
        "duration": 5,
        "start_time": "2022-12-23T19:53:49.375Z"
      },
      {
        "duration": 18,
        "start_time": "2022-12-23T19:53:49.382Z"
      },
      {
        "duration": 4,
        "start_time": "2022-12-23T19:53:49.402Z"
      },
      {
        "duration": 7,
        "start_time": "2022-12-23T19:53:49.407Z"
      },
      {
        "duration": 3,
        "start_time": "2022-12-23T19:53:49.415Z"
      },
      {
        "duration": 35,
        "start_time": "2022-12-23T19:53:49.420Z"
      },
      {
        "duration": 5,
        "start_time": "2022-12-23T19:53:49.456Z"
      },
      {
        "duration": 11,
        "start_time": "2022-12-23T19:53:49.465Z"
      },
      {
        "duration": 20,
        "start_time": "2022-12-23T19:53:49.478Z"
      },
      {
        "duration": 172,
        "start_time": "2022-12-23T19:53:49.500Z"
      },
      {
        "duration": 8,
        "start_time": "2022-12-23T19:53:49.673Z"
      },
      {
        "duration": 154,
        "start_time": "2022-12-23T19:53:49.682Z"
      },
      {
        "duration": 33,
        "start_time": "2022-12-23T19:53:49.837Z"
      },
      {
        "duration": 144,
        "start_time": "2022-12-23T19:53:49.871Z"
      },
      {
        "duration": 18,
        "start_time": "2022-12-23T19:53:50.018Z"
      },
      {
        "duration": 25,
        "start_time": "2022-12-23T19:53:50.038Z"
      },
      {
        "duration": 15,
        "start_time": "2022-12-23T19:53:50.065Z"
      },
      {
        "duration": 18,
        "start_time": "2022-12-23T19:53:50.082Z"
      },
      {
        "duration": 117,
        "start_time": "2022-12-23T19:53:50.101Z"
      },
      {
        "duration": 55,
        "start_time": "2022-12-23T19:53:50.220Z"
      },
      {
        "duration": 3,
        "start_time": "2022-12-23T19:53:50.277Z"
      },
      {
        "duration": 10,
        "start_time": "2022-12-23T19:53:50.281Z"
      },
      {
        "duration": 26,
        "start_time": "2022-12-23T19:53:50.293Z"
      },
      {
        "duration": 132,
        "start_time": "2022-12-23T19:53:50.320Z"
      },
      {
        "duration": 128,
        "start_time": "2022-12-23T19:53:50.454Z"
      },
      {
        "duration": 26,
        "start_time": "2022-12-23T19:53:50.584Z"
      },
      {
        "duration": 14,
        "start_time": "2022-12-23T19:53:50.612Z"
      },
      {
        "duration": 45,
        "start_time": "2022-12-23T19:53:50.628Z"
      },
      {
        "duration": 10,
        "start_time": "2022-12-23T20:12:48.363Z"
      },
      {
        "duration": 10,
        "start_time": "2022-12-23T20:13:33.470Z"
      },
      {
        "duration": 8,
        "start_time": "2022-12-23T20:19:16.519Z"
      },
      {
        "duration": 8,
        "start_time": "2022-12-23T20:19:33.052Z"
      },
      {
        "duration": 8,
        "start_time": "2022-12-23T20:19:52.020Z"
      },
      {
        "duration": 6,
        "start_time": "2022-12-23T20:23:21.551Z"
      },
      {
        "duration": 7,
        "start_time": "2022-12-23T20:26:03.084Z"
      },
      {
        "duration": 7,
        "start_time": "2022-12-23T20:32:12.363Z"
      },
      {
        "duration": 7,
        "start_time": "2022-12-23T20:33:12.662Z"
      },
      {
        "duration": 78,
        "start_time": "2022-12-23T21:06:39.253Z"
      },
      {
        "duration": 3,
        "start_time": "2022-12-23T21:06:50.856Z"
      },
      {
        "duration": 27,
        "start_time": "2022-12-23T21:06:54.818Z"
      },
      {
        "duration": 97,
        "start_time": "2022-12-23T21:10:31.184Z"
      },
      {
        "duration": 3,
        "start_time": "2022-12-23T21:11:14.467Z"
      },
      {
        "duration": 27,
        "start_time": "2022-12-23T21:11:15.062Z"
      },
      {
        "duration": 35,
        "start_time": "2022-12-23T21:11:19.736Z"
      },
      {
        "duration": 99,
        "start_time": "2022-12-23T21:12:21.518Z"
      },
      {
        "duration": 26,
        "start_time": "2022-12-23T21:12:30.810Z"
      }
    ],
    "colab": {
      "provenance": [],
      "toc_visible": true
    },
    "kernelspec": {
      "display_name": "Python 3 (ipykernel)",
      "language": "python",
      "name": "python3"
    },
    "language_info": {
      "codemirror_mode": {
        "name": "ipython",
        "version": 3
      },
      "file_extension": ".py",
      "mimetype": "text/x-python",
      "name": "python",
      "nbconvert_exporter": "python",
      "pygments_lexer": "ipython3",
      "version": "3.9.5"
    },
    "toc": {
      "base_numbering": 1,
      "nav_menu": {},
      "number_sections": true,
      "sideBar": true,
      "skip_h1_title": true,
      "title_cell": "Table of Contents",
      "title_sidebar": "Contents",
      "toc_cell": false,
      "toc_position": {
        "height": "calc(100% - 180px)",
        "left": "10px",
        "top": "150px",
        "width": "375.391px"
      },
      "toc_section_display": true,
      "toc_window_display": true
    }
  },
  "nbformat": 4,
  "nbformat_minor": 0
}
