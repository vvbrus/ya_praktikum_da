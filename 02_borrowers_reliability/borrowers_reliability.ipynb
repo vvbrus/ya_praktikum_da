{
  "cells": [
    {
      "cell_type": "markdown",
      "id": "4f56b7c5",
      "metadata": {
        "deletable": false,
        "editable": false,
        "id": "4f56b7c5"
      },
      "source": [
        "# Исследование надежности заемщиков\n"
      ]
    },
    {
      "cell_type": "markdown",
      "id": "0aad5dec",
      "metadata": {
        "deletable": false,
        "editable": false,
        "id": "0aad5dec"
      },
      "source": [
        "## Открытие данных"
      ]
    },
    {
      "cell_type": "markdown",
      "id": "64d07baa",
      "metadata": {
        "deletable": false,
        "editable": false,
        "id": "64d07baa"
      },
      "source": [
        "Импортируем библиотеку `pandas`. Считайте данные из csv-файла в датафрейм и сохраните в переменную `data`:"
      ]
    },
    {
      "cell_type": "code",
      "execution_count": null,
      "metadata": {
        "id": "7bcf75c9"
      },
      "outputs": [],
      "source": [
        "import pandas as pd # импортируйт библиотеки pandas\n",
        "import numpy as np\n",
        "\n",
        "pd.options.mode.chained_assignment = None #предотвращение появление сообщения SettingWithCopyWarning"
      ],
      "id": "7bcf75c9"
    },
    {
      "cell_type": "markdown",
      "source": [
        "Прочитаем файлы из папки `/datasets`."
      ],
      "metadata": {
        "id": "uzuyh-IxZBvV"
      },
      "id": "uzuyh-IxZBvV"
    },
    {
      "cell_type": "code",
      "source": [
        " # чтение csv-файла\n",
        "path = '/datasets/'\n",
        "web_path = 'https://****'\n",
        "data = 'data.csv'\n",
        "\n",
        "try:\n",
        "    data_raw = pd.read_csv(path + data)\n",
        "except:\n",
        "    data_raw = pd.read_csv(web_path + data)"
      ],
      "metadata": {
        "id": "aGeV-KPK0BiW"
      },
      "execution_count": null,
      "outputs": [],
      "id": "aGeV-KPK0BiW"
    },
    {
      "cell_type": "markdown",
      "id": "fcef4d1c",
      "metadata": {
        "deletable": false,
        "editable": false,
        "id": "fcef4d1c"
      },
      "source": [
        "Выведим первые 20 строчек датафрейма `data` на экран."
      ]
    },
    {
      "cell_type": "code",
      "execution_count": null,
      "id": "2eab92e1",
      "metadata": {
        "deletable": false,
        "id": "2eab92e1",
        "outputId": "92527146-2fa1-495d-c055-dbeefce5fdb7",
        "colab": {
          "base_uri": "https://localhost:8080/",
          "height": 677
        }
      },
      "outputs": [
        {
          "output_type": "execute_result",
          "data": {
            "text/plain": [
              "    children  days_employed  dob_years            education  education_id  \\\n",
              "0          1   -8437.673028         42               высшее             0   \n",
              "1          1   -4024.803754         36              среднее             1   \n",
              "2          0   -5623.422610         33              Среднее             1   \n",
              "3          3   -4124.747207         32              среднее             1   \n",
              "4          0  340266.072047         53              среднее             1   \n",
              "5          0    -926.185831         27               высшее             0   \n",
              "6          0   -2879.202052         43               высшее             0   \n",
              "7          0    -152.779569         50              СРЕДНЕЕ             1   \n",
              "8          2   -6929.865299         35               ВЫСШЕЕ             0   \n",
              "9          0   -2188.756445         41              среднее             1   \n",
              "10         2   -4171.483647         36               высшее             0   \n",
              "11         0    -792.701887         40              среднее             1   \n",
              "12         0            NaN         65              среднее             1   \n",
              "13         0   -1846.641941         54  неоконченное высшее             2   \n",
              "14         0   -1844.956182         56               высшее             0   \n",
              "15         1    -972.364419         26              среднее             1   \n",
              "16         0   -1719.934226         35              среднее             1   \n",
              "17         0   -2369.999720         33               высшее             0   \n",
              "18         0  400281.136913         53              среднее             1   \n",
              "19         0  -10038.818549         48              СРЕДНЕЕ             1   \n",
              "\n",
              "       family_status  family_status_id gender income_type  debt  \\\n",
              "0    женат / замужем                 0      F   сотрудник     0   \n",
              "1    женат / замужем                 0      F   сотрудник     0   \n",
              "2    женат / замужем                 0      M   сотрудник     0   \n",
              "3    женат / замужем                 0      M   сотрудник     0   \n",
              "4   гражданский брак                 1      F   пенсионер     0   \n",
              "5   гражданский брак                 1      M   компаньон     0   \n",
              "6    женат / замужем                 0      F   компаньон     0   \n",
              "7    женат / замужем                 0      M   сотрудник     0   \n",
              "8   гражданский брак                 1      F   сотрудник     0   \n",
              "9    женат / замужем                 0      M   сотрудник     0   \n",
              "10   женат / замужем                 0      M   компаньон     0   \n",
              "11   женат / замужем                 0      F   сотрудник     0   \n",
              "12  гражданский брак                 1      M   пенсионер     0   \n",
              "13   женат / замужем                 0      F   сотрудник     0   \n",
              "14  гражданский брак                 1      F   компаньон     1   \n",
              "15   женат / замужем                 0      F   сотрудник     0   \n",
              "16   женат / замужем                 0      F   сотрудник     0   \n",
              "17  гражданский брак                 1      M   сотрудник     0   \n",
              "18    вдовец / вдова                 2      F   пенсионер     0   \n",
              "19         в разводе                 3      F   сотрудник     0   \n",
              "\n",
              "     total_income                                 purpose  \n",
              "0   253875.639453                           покупка жилья  \n",
              "1   112080.014102                 приобретение автомобиля  \n",
              "2   145885.952297                           покупка жилья  \n",
              "3   267628.550329              дополнительное образование  \n",
              "4   158616.077870                         сыграть свадьбу  \n",
              "5   255763.565419                           покупка жилья  \n",
              "6   240525.971920                       операции с жильем  \n",
              "7   135823.934197                             образование  \n",
              "8    95856.832424                   на проведение свадьбы  \n",
              "9   144425.938277                 покупка жилья для семьи  \n",
              "10  113943.491460                    покупка недвижимости  \n",
              "11   77069.234271       покупка коммерческой недвижимости  \n",
              "12            NaN                         сыграть свадьбу  \n",
              "13  130458.228857                 приобретение автомобиля  \n",
              "14  165127.911772              покупка жилой недвижимости  \n",
              "15  116820.904450  строительство собственной недвижимости  \n",
              "16  289202.704229                            недвижимость  \n",
              "17   90410.586745              строительство недвижимости  \n",
              "18   56823.777243      на покупку подержанного автомобиля  \n",
              "19  242831.107982            на покупку своего автомобиля  "
            ],
            "text/html": [
              "\n",
              "  <div id=\"df-423b8ca2-70a4-48e1-8aff-9f9e7a3fe799\" class=\"colab-df-container\">\n",
              "    <div>\n",
              "<style scoped>\n",
              "    .dataframe tbody tr th:only-of-type {\n",
              "        vertical-align: middle;\n",
              "    }\n",
              "\n",
              "    .dataframe tbody tr th {\n",
              "        vertical-align: top;\n",
              "    }\n",
              "\n",
              "    .dataframe thead th {\n",
              "        text-align: right;\n",
              "    }\n",
              "</style>\n",
              "<table border=\"1\" class=\"dataframe\">\n",
              "  <thead>\n",
              "    <tr style=\"text-align: right;\">\n",
              "      <th></th>\n",
              "      <th>children</th>\n",
              "      <th>days_employed</th>\n",
              "      <th>dob_years</th>\n",
              "      <th>education</th>\n",
              "      <th>education_id</th>\n",
              "      <th>family_status</th>\n",
              "      <th>family_status_id</th>\n",
              "      <th>gender</th>\n",
              "      <th>income_type</th>\n",
              "      <th>debt</th>\n",
              "      <th>total_income</th>\n",
              "      <th>purpose</th>\n",
              "    </tr>\n",
              "  </thead>\n",
              "  <tbody>\n",
              "    <tr>\n",
              "      <th>0</th>\n",
              "      <td>1</td>\n",
              "      <td>-8437.673028</td>\n",
              "      <td>42</td>\n",
              "      <td>высшее</td>\n",
              "      <td>0</td>\n",
              "      <td>женат / замужем</td>\n",
              "      <td>0</td>\n",
              "      <td>F</td>\n",
              "      <td>сотрудник</td>\n",
              "      <td>0</td>\n",
              "      <td>253875.639453</td>\n",
              "      <td>покупка жилья</td>\n",
              "    </tr>\n",
              "    <tr>\n",
              "      <th>1</th>\n",
              "      <td>1</td>\n",
              "      <td>-4024.803754</td>\n",
              "      <td>36</td>\n",
              "      <td>среднее</td>\n",
              "      <td>1</td>\n",
              "      <td>женат / замужем</td>\n",
              "      <td>0</td>\n",
              "      <td>F</td>\n",
              "      <td>сотрудник</td>\n",
              "      <td>0</td>\n",
              "      <td>112080.014102</td>\n",
              "      <td>приобретение автомобиля</td>\n",
              "    </tr>\n",
              "    <tr>\n",
              "      <th>2</th>\n",
              "      <td>0</td>\n",
              "      <td>-5623.422610</td>\n",
              "      <td>33</td>\n",
              "      <td>Среднее</td>\n",
              "      <td>1</td>\n",
              "      <td>женат / замужем</td>\n",
              "      <td>0</td>\n",
              "      <td>M</td>\n",
              "      <td>сотрудник</td>\n",
              "      <td>0</td>\n",
              "      <td>145885.952297</td>\n",
              "      <td>покупка жилья</td>\n",
              "    </tr>\n",
              "    <tr>\n",
              "      <th>3</th>\n",
              "      <td>3</td>\n",
              "      <td>-4124.747207</td>\n",
              "      <td>32</td>\n",
              "      <td>среднее</td>\n",
              "      <td>1</td>\n",
              "      <td>женат / замужем</td>\n",
              "      <td>0</td>\n",
              "      <td>M</td>\n",
              "      <td>сотрудник</td>\n",
              "      <td>0</td>\n",
              "      <td>267628.550329</td>\n",
              "      <td>дополнительное образование</td>\n",
              "    </tr>\n",
              "    <tr>\n",
              "      <th>4</th>\n",
              "      <td>0</td>\n",
              "      <td>340266.072047</td>\n",
              "      <td>53</td>\n",
              "      <td>среднее</td>\n",
              "      <td>1</td>\n",
              "      <td>гражданский брак</td>\n",
              "      <td>1</td>\n",
              "      <td>F</td>\n",
              "      <td>пенсионер</td>\n",
              "      <td>0</td>\n",
              "      <td>158616.077870</td>\n",
              "      <td>сыграть свадьбу</td>\n",
              "    </tr>\n",
              "    <tr>\n",
              "      <th>5</th>\n",
              "      <td>0</td>\n",
              "      <td>-926.185831</td>\n",
              "      <td>27</td>\n",
              "      <td>высшее</td>\n",
              "      <td>0</td>\n",
              "      <td>гражданский брак</td>\n",
              "      <td>1</td>\n",
              "      <td>M</td>\n",
              "      <td>компаньон</td>\n",
              "      <td>0</td>\n",
              "      <td>255763.565419</td>\n",
              "      <td>покупка жилья</td>\n",
              "    </tr>\n",
              "    <tr>\n",
              "      <th>6</th>\n",
              "      <td>0</td>\n",
              "      <td>-2879.202052</td>\n",
              "      <td>43</td>\n",
              "      <td>высшее</td>\n",
              "      <td>0</td>\n",
              "      <td>женат / замужем</td>\n",
              "      <td>0</td>\n",
              "      <td>F</td>\n",
              "      <td>компаньон</td>\n",
              "      <td>0</td>\n",
              "      <td>240525.971920</td>\n",
              "      <td>операции с жильем</td>\n",
              "    </tr>\n",
              "    <tr>\n",
              "      <th>7</th>\n",
              "      <td>0</td>\n",
              "      <td>-152.779569</td>\n",
              "      <td>50</td>\n",
              "      <td>СРЕДНЕЕ</td>\n",
              "      <td>1</td>\n",
              "      <td>женат / замужем</td>\n",
              "      <td>0</td>\n",
              "      <td>M</td>\n",
              "      <td>сотрудник</td>\n",
              "      <td>0</td>\n",
              "      <td>135823.934197</td>\n",
              "      <td>образование</td>\n",
              "    </tr>\n",
              "    <tr>\n",
              "      <th>8</th>\n",
              "      <td>2</td>\n",
              "      <td>-6929.865299</td>\n",
              "      <td>35</td>\n",
              "      <td>ВЫСШЕЕ</td>\n",
              "      <td>0</td>\n",
              "      <td>гражданский брак</td>\n",
              "      <td>1</td>\n",
              "      <td>F</td>\n",
              "      <td>сотрудник</td>\n",
              "      <td>0</td>\n",
              "      <td>95856.832424</td>\n",
              "      <td>на проведение свадьбы</td>\n",
              "    </tr>\n",
              "    <tr>\n",
              "      <th>9</th>\n",
              "      <td>0</td>\n",
              "      <td>-2188.756445</td>\n",
              "      <td>41</td>\n",
              "      <td>среднее</td>\n",
              "      <td>1</td>\n",
              "      <td>женат / замужем</td>\n",
              "      <td>0</td>\n",
              "      <td>M</td>\n",
              "      <td>сотрудник</td>\n",
              "      <td>0</td>\n",
              "      <td>144425.938277</td>\n",
              "      <td>покупка жилья для семьи</td>\n",
              "    </tr>\n",
              "    <tr>\n",
              "      <th>10</th>\n",
              "      <td>2</td>\n",
              "      <td>-4171.483647</td>\n",
              "      <td>36</td>\n",
              "      <td>высшее</td>\n",
              "      <td>0</td>\n",
              "      <td>женат / замужем</td>\n",
              "      <td>0</td>\n",
              "      <td>M</td>\n",
              "      <td>компаньон</td>\n",
              "      <td>0</td>\n",
              "      <td>113943.491460</td>\n",
              "      <td>покупка недвижимости</td>\n",
              "    </tr>\n",
              "    <tr>\n",
              "      <th>11</th>\n",
              "      <td>0</td>\n",
              "      <td>-792.701887</td>\n",
              "      <td>40</td>\n",
              "      <td>среднее</td>\n",
              "      <td>1</td>\n",
              "      <td>женат / замужем</td>\n",
              "      <td>0</td>\n",
              "      <td>F</td>\n",
              "      <td>сотрудник</td>\n",
              "      <td>0</td>\n",
              "      <td>77069.234271</td>\n",
              "      <td>покупка коммерческой недвижимости</td>\n",
              "    </tr>\n",
              "    <tr>\n",
              "      <th>12</th>\n",
              "      <td>0</td>\n",
              "      <td>NaN</td>\n",
              "      <td>65</td>\n",
              "      <td>среднее</td>\n",
              "      <td>1</td>\n",
              "      <td>гражданский брак</td>\n",
              "      <td>1</td>\n",
              "      <td>M</td>\n",
              "      <td>пенсионер</td>\n",
              "      <td>0</td>\n",
              "      <td>NaN</td>\n",
              "      <td>сыграть свадьбу</td>\n",
              "    </tr>\n",
              "    <tr>\n",
              "      <th>13</th>\n",
              "      <td>0</td>\n",
              "      <td>-1846.641941</td>\n",
              "      <td>54</td>\n",
              "      <td>неоконченное высшее</td>\n",
              "      <td>2</td>\n",
              "      <td>женат / замужем</td>\n",
              "      <td>0</td>\n",
              "      <td>F</td>\n",
              "      <td>сотрудник</td>\n",
              "      <td>0</td>\n",
              "      <td>130458.228857</td>\n",
              "      <td>приобретение автомобиля</td>\n",
              "    </tr>\n",
              "    <tr>\n",
              "      <th>14</th>\n",
              "      <td>0</td>\n",
              "      <td>-1844.956182</td>\n",
              "      <td>56</td>\n",
              "      <td>высшее</td>\n",
              "      <td>0</td>\n",
              "      <td>гражданский брак</td>\n",
              "      <td>1</td>\n",
              "      <td>F</td>\n",
              "      <td>компаньон</td>\n",
              "      <td>1</td>\n",
              "      <td>165127.911772</td>\n",
              "      <td>покупка жилой недвижимости</td>\n",
              "    </tr>\n",
              "    <tr>\n",
              "      <th>15</th>\n",
              "      <td>1</td>\n",
              "      <td>-972.364419</td>\n",
              "      <td>26</td>\n",
              "      <td>среднее</td>\n",
              "      <td>1</td>\n",
              "      <td>женат / замужем</td>\n",
              "      <td>0</td>\n",
              "      <td>F</td>\n",
              "      <td>сотрудник</td>\n",
              "      <td>0</td>\n",
              "      <td>116820.904450</td>\n",
              "      <td>строительство собственной недвижимости</td>\n",
              "    </tr>\n",
              "    <tr>\n",
              "      <th>16</th>\n",
              "      <td>0</td>\n",
              "      <td>-1719.934226</td>\n",
              "      <td>35</td>\n",
              "      <td>среднее</td>\n",
              "      <td>1</td>\n",
              "      <td>женат / замужем</td>\n",
              "      <td>0</td>\n",
              "      <td>F</td>\n",
              "      <td>сотрудник</td>\n",
              "      <td>0</td>\n",
              "      <td>289202.704229</td>\n",
              "      <td>недвижимость</td>\n",
              "    </tr>\n",
              "    <tr>\n",
              "      <th>17</th>\n",
              "      <td>0</td>\n",
              "      <td>-2369.999720</td>\n",
              "      <td>33</td>\n",
              "      <td>высшее</td>\n",
              "      <td>0</td>\n",
              "      <td>гражданский брак</td>\n",
              "      <td>1</td>\n",
              "      <td>M</td>\n",
              "      <td>сотрудник</td>\n",
              "      <td>0</td>\n",
              "      <td>90410.586745</td>\n",
              "      <td>строительство недвижимости</td>\n",
              "    </tr>\n",
              "    <tr>\n",
              "      <th>18</th>\n",
              "      <td>0</td>\n",
              "      <td>400281.136913</td>\n",
              "      <td>53</td>\n",
              "      <td>среднее</td>\n",
              "      <td>1</td>\n",
              "      <td>вдовец / вдова</td>\n",
              "      <td>2</td>\n",
              "      <td>F</td>\n",
              "      <td>пенсионер</td>\n",
              "      <td>0</td>\n",
              "      <td>56823.777243</td>\n",
              "      <td>на покупку подержанного автомобиля</td>\n",
              "    </tr>\n",
              "    <tr>\n",
              "      <th>19</th>\n",
              "      <td>0</td>\n",
              "      <td>-10038.818549</td>\n",
              "      <td>48</td>\n",
              "      <td>СРЕДНЕЕ</td>\n",
              "      <td>1</td>\n",
              "      <td>в разводе</td>\n",
              "      <td>3</td>\n",
              "      <td>F</td>\n",
              "      <td>сотрудник</td>\n",
              "      <td>0</td>\n",
              "      <td>242831.107982</td>\n",
              "      <td>на покупку своего автомобиля</td>\n",
              "    </tr>\n",
              "  </tbody>\n",
              "</table>\n",
              "</div>\n",
              "    <div class=\"colab-df-buttons\">\n",
              "\n",
              "  <div class=\"colab-df-container\">\n",
              "    <button class=\"colab-df-convert\" onclick=\"convertToInteractive('df-423b8ca2-70a4-48e1-8aff-9f9e7a3fe799')\"\n",
              "            title=\"Convert this dataframe to an interactive table.\"\n",
              "            style=\"display:none;\">\n",
              "\n",
              "  <svg xmlns=\"http://www.w3.org/2000/svg\" height=\"24px\" viewBox=\"0 -960 960 960\">\n",
              "    <path d=\"M120-120v-720h720v720H120Zm60-500h600v-160H180v160Zm220 220h160v-160H400v160Zm0 220h160v-160H400v160ZM180-400h160v-160H180v160Zm440 0h160v-160H620v160ZM180-180h160v-160H180v160Zm440 0h160v-160H620v160Z\"/>\n",
              "  </svg>\n",
              "    </button>\n",
              "\n",
              "  <style>\n",
              "    .colab-df-container {\n",
              "      display:flex;\n",
              "      gap: 12px;\n",
              "    }\n",
              "\n",
              "    .colab-df-convert {\n",
              "      background-color: #E8F0FE;\n",
              "      border: none;\n",
              "      border-radius: 50%;\n",
              "      cursor: pointer;\n",
              "      display: none;\n",
              "      fill: #1967D2;\n",
              "      height: 32px;\n",
              "      padding: 0 0 0 0;\n",
              "      width: 32px;\n",
              "    }\n",
              "\n",
              "    .colab-df-convert:hover {\n",
              "      background-color: #E2EBFA;\n",
              "      box-shadow: 0px 1px 2px rgba(60, 64, 67, 0.3), 0px 1px 3px 1px rgba(60, 64, 67, 0.15);\n",
              "      fill: #174EA6;\n",
              "    }\n",
              "\n",
              "    .colab-df-buttons div {\n",
              "      margin-bottom: 4px;\n",
              "    }\n",
              "\n",
              "    [theme=dark] .colab-df-convert {\n",
              "      background-color: #3B4455;\n",
              "      fill: #D2E3FC;\n",
              "    }\n",
              "\n",
              "    [theme=dark] .colab-df-convert:hover {\n",
              "      background-color: #434B5C;\n",
              "      box-shadow: 0px 1px 3px 1px rgba(0, 0, 0, 0.15);\n",
              "      filter: drop-shadow(0px 1px 2px rgba(0, 0, 0, 0.3));\n",
              "      fill: #FFFFFF;\n",
              "    }\n",
              "  </style>\n",
              "\n",
              "    <script>\n",
              "      const buttonEl =\n",
              "        document.querySelector('#df-423b8ca2-70a4-48e1-8aff-9f9e7a3fe799 button.colab-df-convert');\n",
              "      buttonEl.style.display =\n",
              "        google.colab.kernel.accessAllowed ? 'block' : 'none';\n",
              "\n",
              "      async function convertToInteractive(key) {\n",
              "        const element = document.querySelector('#df-423b8ca2-70a4-48e1-8aff-9f9e7a3fe799');\n",
              "        const dataTable =\n",
              "          await google.colab.kernel.invokeFunction('convertToInteractive',\n",
              "                                                    [key], {});\n",
              "        if (!dataTable) return;\n",
              "\n",
              "        const docLinkHtml = 'Like what you see? Visit the ' +\n",
              "          '<a target=\"_blank\" href=https://colab.research.google.com/notebooks/data_table.ipynb>data table notebook</a>'\n",
              "          + ' to learn more about interactive tables.';\n",
              "        element.innerHTML = '';\n",
              "        dataTable['output_type'] = 'display_data';\n",
              "        await google.colab.output.renderOutput(dataTable, element);\n",
              "        const docLink = document.createElement('div');\n",
              "        docLink.innerHTML = docLinkHtml;\n",
              "        element.appendChild(docLink);\n",
              "      }\n",
              "    </script>\n",
              "  </div>\n",
              "\n",
              "\n",
              "<div id=\"df-8f1e60bd-351d-4098-8c2f-1e9c6895522f\">\n",
              "  <button class=\"colab-df-quickchart\" onclick=\"quickchart('df-8f1e60bd-351d-4098-8c2f-1e9c6895522f')\"\n",
              "            title=\"Suggest charts\"\n",
              "            style=\"display:none;\">\n",
              "\n",
              "<svg xmlns=\"http://www.w3.org/2000/svg\" height=\"24px\"viewBox=\"0 0 24 24\"\n",
              "     width=\"24px\">\n",
              "    <g>\n",
              "        <path d=\"M19 3H5c-1.1 0-2 .9-2 2v14c0 1.1.9 2 2 2h14c1.1 0 2-.9 2-2V5c0-1.1-.9-2-2-2zM9 17H7v-7h2v7zm4 0h-2V7h2v10zm4 0h-2v-4h2v4z\"/>\n",
              "    </g>\n",
              "</svg>\n",
              "  </button>\n",
              "\n",
              "<style>\n",
              "  .colab-df-quickchart {\n",
              "      --bg-color: #E8F0FE;\n",
              "      --fill-color: #1967D2;\n",
              "      --hover-bg-color: #E2EBFA;\n",
              "      --hover-fill-color: #174EA6;\n",
              "      --disabled-fill-color: #AAA;\n",
              "      --disabled-bg-color: #DDD;\n",
              "  }\n",
              "\n",
              "  [theme=dark] .colab-df-quickchart {\n",
              "      --bg-color: #3B4455;\n",
              "      --fill-color: #D2E3FC;\n",
              "      --hover-bg-color: #434B5C;\n",
              "      --hover-fill-color: #FFFFFF;\n",
              "      --disabled-bg-color: #3B4455;\n",
              "      --disabled-fill-color: #666;\n",
              "  }\n",
              "\n",
              "  .colab-df-quickchart {\n",
              "    background-color: var(--bg-color);\n",
              "    border: none;\n",
              "    border-radius: 50%;\n",
              "    cursor: pointer;\n",
              "    display: none;\n",
              "    fill: var(--fill-color);\n",
              "    height: 32px;\n",
              "    padding: 0;\n",
              "    width: 32px;\n",
              "  }\n",
              "\n",
              "  .colab-df-quickchart:hover {\n",
              "    background-color: var(--hover-bg-color);\n",
              "    box-shadow: 0 1px 2px rgba(60, 64, 67, 0.3), 0 1px 3px 1px rgba(60, 64, 67, 0.15);\n",
              "    fill: var(--button-hover-fill-color);\n",
              "  }\n",
              "\n",
              "  .colab-df-quickchart-complete:disabled,\n",
              "  .colab-df-quickchart-complete:disabled:hover {\n",
              "    background-color: var(--disabled-bg-color);\n",
              "    fill: var(--disabled-fill-color);\n",
              "    box-shadow: none;\n",
              "  }\n",
              "\n",
              "  .colab-df-spinner {\n",
              "    border: 2px solid var(--fill-color);\n",
              "    border-color: transparent;\n",
              "    border-bottom-color: var(--fill-color);\n",
              "    animation:\n",
              "      spin 1s steps(1) infinite;\n",
              "  }\n",
              "\n",
              "  @keyframes spin {\n",
              "    0% {\n",
              "      border-color: transparent;\n",
              "      border-bottom-color: var(--fill-color);\n",
              "      border-left-color: var(--fill-color);\n",
              "    }\n",
              "    20% {\n",
              "      border-color: transparent;\n",
              "      border-left-color: var(--fill-color);\n",
              "      border-top-color: var(--fill-color);\n",
              "    }\n",
              "    30% {\n",
              "      border-color: transparent;\n",
              "      border-left-color: var(--fill-color);\n",
              "      border-top-color: var(--fill-color);\n",
              "      border-right-color: var(--fill-color);\n",
              "    }\n",
              "    40% {\n",
              "      border-color: transparent;\n",
              "      border-right-color: var(--fill-color);\n",
              "      border-top-color: var(--fill-color);\n",
              "    }\n",
              "    60% {\n",
              "      border-color: transparent;\n",
              "      border-right-color: var(--fill-color);\n",
              "    }\n",
              "    80% {\n",
              "      border-color: transparent;\n",
              "      border-right-color: var(--fill-color);\n",
              "      border-bottom-color: var(--fill-color);\n",
              "    }\n",
              "    90% {\n",
              "      border-color: transparent;\n",
              "      border-bottom-color: var(--fill-color);\n",
              "    }\n",
              "  }\n",
              "</style>\n",
              "\n",
              "  <script>\n",
              "    async function quickchart(key) {\n",
              "      const quickchartButtonEl =\n",
              "        document.querySelector('#' + key + ' button');\n",
              "      quickchartButtonEl.disabled = true;  // To prevent multiple clicks.\n",
              "      quickchartButtonEl.classList.add('colab-df-spinner');\n",
              "      try {\n",
              "        const charts = await google.colab.kernel.invokeFunction(\n",
              "            'suggestCharts', [key], {});\n",
              "      } catch (error) {\n",
              "        console.error('Error during call to suggestCharts:', error);\n",
              "      }\n",
              "      quickchartButtonEl.classList.remove('colab-df-spinner');\n",
              "      quickchartButtonEl.classList.add('colab-df-quickchart-complete');\n",
              "    }\n",
              "    (() => {\n",
              "      let quickchartButtonEl =\n",
              "        document.querySelector('#df-8f1e60bd-351d-4098-8c2f-1e9c6895522f button');\n",
              "      quickchartButtonEl.style.display =\n",
              "        google.colab.kernel.accessAllowed ? 'block' : 'none';\n",
              "    })();\n",
              "  </script>\n",
              "</div>\n",
              "    </div>\n",
              "  </div>\n"
            ],
            "application/vnd.google.colaboratory.intrinsic+json": {
              "type": "dataframe",
              "variable_name": "data_raw",
              "summary": "{\n  \"name\": \"data_raw\",\n  \"rows\": 21525,\n  \"fields\": [\n    {\n      \"column\": \"children\",\n      \"properties\": {\n        \"dtype\": \"number\",\n        \"std\": 1,\n        \"min\": -1,\n        \"max\": 20,\n        \"num_unique_values\": 8,\n        \"samples\": [\n          0,\n          4,\n          1\n        ],\n        \"semantic_type\": \"\",\n        \"description\": \"\"\n      }\n    },\n    {\n      \"column\": \"days_employed\",\n      \"properties\": {\n        \"dtype\": \"number\",\n        \"std\": 140827.3119743168,\n        \"min\": -18388.949900568383,\n        \"max\": 401755.40047533,\n        \"num_unique_values\": 19351,\n        \"samples\": [\n          -4144.711271868319,\n          -1963.4835351775944,\n          -106.69195506879056\n        ],\n        \"semantic_type\": \"\",\n        \"description\": \"\"\n      }\n    },\n    {\n      \"column\": \"dob_years\",\n      \"properties\": {\n        \"dtype\": \"number\",\n        \"std\": 12,\n        \"min\": 0,\n        \"max\": 75,\n        \"num_unique_values\": 58,\n        \"samples\": [\n          42,\n          27,\n          64\n        ],\n        \"semantic_type\": \"\",\n        \"description\": \"\"\n      }\n    },\n    {\n      \"column\": \"education\",\n      \"properties\": {\n        \"dtype\": \"category\",\n        \"num_unique_values\": 15,\n        \"samples\": [\n          \"\\u041d\\u0435\\u043e\\u043a\\u043e\\u043d\\u0447\\u0435\\u043d\\u043d\\u043e\\u0435 \\u0432\\u044b\\u0441\\u0448\\u0435\\u0435\",\n          \"\\u041d\\u0430\\u0447\\u0430\\u043b\\u044c\\u043d\\u043e\\u0435\",\n          \"\\u0432\\u044b\\u0441\\u0448\\u0435\\u0435\"\n        ],\n        \"semantic_type\": \"\",\n        \"description\": \"\"\n      }\n    },\n    {\n      \"column\": \"education_id\",\n      \"properties\": {\n        \"dtype\": \"number\",\n        \"std\": 0,\n        \"min\": 0,\n        \"max\": 4,\n        \"num_unique_values\": 5,\n        \"samples\": [\n          1,\n          4,\n          2\n        ],\n        \"semantic_type\": \"\",\n        \"description\": \"\"\n      }\n    },\n    {\n      \"column\": \"family_status\",\n      \"properties\": {\n        \"dtype\": \"category\",\n        \"num_unique_values\": 5,\n        \"samples\": [\n          \"\\u0433\\u0440\\u0430\\u0436\\u0434\\u0430\\u043d\\u0441\\u043a\\u0438\\u0439 \\u0431\\u0440\\u0430\\u043a\",\n          \"\\u041d\\u0435 \\u0436\\u0435\\u043d\\u0430\\u0442 / \\u043d\\u0435 \\u0437\\u0430\\u043c\\u0443\\u0436\\u0435\\u043c\",\n          \"\\u0432\\u0434\\u043e\\u0432\\u0435\\u0446 / \\u0432\\u0434\\u043e\\u0432\\u0430\"\n        ],\n        \"semantic_type\": \"\",\n        \"description\": \"\"\n      }\n    },\n    {\n      \"column\": \"family_status_id\",\n      \"properties\": {\n        \"dtype\": \"number\",\n        \"std\": 1,\n        \"min\": 0,\n        \"max\": 4,\n        \"num_unique_values\": 5,\n        \"samples\": [\n          1,\n          4,\n          2\n        ],\n        \"semantic_type\": \"\",\n        \"description\": \"\"\n      }\n    },\n    {\n      \"column\": \"gender\",\n      \"properties\": {\n        \"dtype\": \"category\",\n        \"num_unique_values\": 3,\n        \"samples\": [\n          \"F\",\n          \"M\",\n          \"XNA\"\n        ],\n        \"semantic_type\": \"\",\n        \"description\": \"\"\n      }\n    },\n    {\n      \"column\": \"income_type\",\n      \"properties\": {\n        \"dtype\": \"category\",\n        \"num_unique_values\": 8,\n        \"samples\": [\n          \"\\u043f\\u0435\\u043d\\u0441\\u0438\\u043e\\u043d\\u0435\\u0440\",\n          \"\\u043f\\u0440\\u0435\\u0434\\u043f\\u0440\\u0438\\u043d\\u0438\\u043c\\u0430\\u0442\\u0435\\u043b\\u044c\",\n          \"\\u0441\\u043e\\u0442\\u0440\\u0443\\u0434\\u043d\\u0438\\u043a\"\n        ],\n        \"semantic_type\": \"\",\n        \"description\": \"\"\n      }\n    },\n    {\n      \"column\": \"debt\",\n      \"properties\": {\n        \"dtype\": \"number\",\n        \"std\": 0,\n        \"min\": 0,\n        \"max\": 1,\n        \"num_unique_values\": 2,\n        \"samples\": [\n          1,\n          0\n        ],\n        \"semantic_type\": \"\",\n        \"description\": \"\"\n      }\n    },\n    {\n      \"column\": \"total_income\",\n      \"properties\": {\n        \"dtype\": \"number\",\n        \"std\": 102971.56644797762,\n        \"min\": 20667.26379327158,\n        \"max\": 2265604.028722744,\n        \"num_unique_values\": 19351,\n        \"samples\": [\n          264985.90849759005,\n          145521.97728763806\n        ],\n        \"semantic_type\": \"\",\n        \"description\": \"\"\n      }\n    },\n    {\n      \"column\": \"purpose\",\n      \"properties\": {\n        \"dtype\": \"category\",\n        \"num_unique_values\": 38,\n        \"samples\": [\n          \"\\u0432\\u044b\\u0441\\u0448\\u0435\\u0435 \\u043e\\u0431\\u0440\\u0430\\u0437\\u043e\\u0432\\u0430\\u043d\\u0438\\u0435\",\n          \"\\u0440\\u0435\\u043c\\u043e\\u043d\\u0442 \\u0436\\u0438\\u043b\\u044c\\u044e\"\n        ],\n        \"semantic_type\": \"\",\n        \"description\": \"\"\n      }\n    }\n  ]\n}"
            }
          },
          "metadata": {},
          "execution_count": 3
        }
      ],
      "source": [
        "data_raw.head(20)"
      ]
    },
    {
      "cell_type": "markdown",
      "id": "620889f4",
      "metadata": {
        "deletable": false,
        "editable": false,
        "id": "620889f4"
      },
      "source": [
        "Выведем основную информацию о датафрейме с помощью метода `info()`."
      ]
    },
    {
      "cell_type": "code",
      "execution_count": null,
      "id": "34cb9026",
      "metadata": {
        "deletable": false,
        "id": "34cb9026",
        "outputId": "8dc78aef-855c-4412-9649-8f5824ed185f",
        "colab": {
          "base_uri": "https://localhost:8080/"
        }
      },
      "outputs": [
        {
          "output_type": "stream",
          "name": "stdout",
          "text": [
            "<class 'pandas.core.frame.DataFrame'>\n",
            "RangeIndex: 21525 entries, 0 to 21524\n",
            "Data columns (total 12 columns):\n",
            " #   Column            Non-Null Count  Dtype  \n",
            "---  ------            --------------  -----  \n",
            " 0   children          21525 non-null  int64  \n",
            " 1   days_employed     19351 non-null  float64\n",
            " 2   dob_years         21525 non-null  int64  \n",
            " 3   education         21525 non-null  object \n",
            " 4   education_id      21525 non-null  int64  \n",
            " 5   family_status     21525 non-null  object \n",
            " 6   family_status_id  21525 non-null  int64  \n",
            " 7   gender            21525 non-null  object \n",
            " 8   income_type       21525 non-null  object \n",
            " 9   debt              21525 non-null  int64  \n",
            " 10  total_income      19351 non-null  float64\n",
            " 11  purpose           21525 non-null  object \n",
            "dtypes: float64(2), int64(5), object(5)\n",
            "memory usage: 2.0+ MB\n"
          ]
        }
      ],
      "source": [
        "data_raw.info()"
      ]
    },
    {
      "cell_type": "markdown",
      "source": [
        "Предварительно можно утверждать, что данных достаточно для проверки гипотез. Но встречаются пропуски в данных, а в столбце `education` имееются значения записанные в разной литерации — расхождения с хорошим стилем."
      ],
      "metadata": {
        "id": "CKoSqk5xWHU_"
      },
      "id": "CKoSqk5xWHU_"
    },
    {
      "cell_type": "markdown",
      "id": "4a9b584c",
      "metadata": {
        "deletable": false,
        "editable": false,
        "id": "4a9b584c"
      },
      "source": [
        "## Предобработка данных"
      ]
    },
    {
      "cell_type": "markdown",
      "source": [
        "Проведем стандартную предобработку, включающаю проверку явных дубликатов, нулевых и пропущенных значений, а также изменим тип данных и преобразуем категориальные переменные."
      ],
      "metadata": {
        "id": "vWimIJB5SLof"
      },
      "id": "vWimIJB5SLof"
    },
    {
      "cell_type": "code",
      "source": [
        "data = data_raw.copy()"
      ],
      "metadata": {
        "id": "EgLqkfuv-92f"
      },
      "id": "EgLqkfuv-92f",
      "execution_count": null,
      "outputs": []
    },
    {
      "cell_type": "markdown",
      "id": "7771ef8f",
      "metadata": {
        "deletable": false,
        "editable": false,
        "id": "7771ef8f"
      },
      "source": [
        "### Удаление пропусков"
      ]
    },
    {
      "cell_type": "markdown",
      "id": "7285daa2",
      "metadata": {
        "deletable": false,
        "editable": false,
        "id": "7285daa2"
      },
      "source": [
        "Выведем количество пропущенных значений для каждого столбца. Используем комбинацию двух методов."
      ]
    },
    {
      "cell_type": "code",
      "execution_count": null,
      "id": "9e121181",
      "metadata": {
        "deletable": false,
        "id": "9e121181",
        "outputId": "642fce93-5296-4020-db62-2b873d963c68",
        "colab": {
          "base_uri": "https://localhost:8080/",
          "height": 426
        }
      },
      "outputs": [
        {
          "output_type": "execute_result",
          "data": {
            "text/plain": [
              "<pandas.io.formats.style.Styler at 0x7c0b8bc90bb0>"
            ],
            "text/html": [
              "<style type=\"text/css\">\n",
              "#T_3beb1_row0_col0, #T_3beb1_row0_col1, #T_3beb1_row2_col0, #T_3beb1_row2_col1, #T_3beb1_row3_col0, #T_3beb1_row3_col1, #T_3beb1_row4_col0, #T_3beb1_row4_col1, #T_3beb1_row5_col0, #T_3beb1_row5_col1, #T_3beb1_row6_col0, #T_3beb1_row6_col1, #T_3beb1_row7_col0, #T_3beb1_row7_col1, #T_3beb1_row8_col0, #T_3beb1_row8_col1, #T_3beb1_row9_col0, #T_3beb1_row9_col1, #T_3beb1_row11_col0, #T_3beb1_row11_col1 {\n",
              "  background-color: #3b4cc0;\n",
              "  color: #f1f1f1;\n",
              "}\n",
              "#T_3beb1_row1_col0, #T_3beb1_row1_col1, #T_3beb1_row10_col0, #T_3beb1_row10_col1 {\n",
              "  background-color: #b40426;\n",
              "  color: #f1f1f1;\n",
              "}\n",
              "</style>\n",
              "<table id=\"T_3beb1\" class=\"dataframe\">\n",
              "  <thead>\n",
              "    <tr>\n",
              "      <th class=\"blank level0\" >&nbsp;</th>\n",
              "      <th id=\"T_3beb1_level0_col0\" class=\"col_heading level0 col0\" >sum</th>\n",
              "      <th id=\"T_3beb1_level0_col1\" class=\"col_heading level0 col1\" >conversation</th>\n",
              "    </tr>\n",
              "  </thead>\n",
              "  <tbody>\n",
              "    <tr>\n",
              "      <th id=\"T_3beb1_level0_row0\" class=\"row_heading level0 row0\" >children</th>\n",
              "      <td id=\"T_3beb1_row0_col0\" class=\"data row0 col0\" >0</td>\n",
              "      <td id=\"T_3beb1_row0_col1\" class=\"data row0 col1\" >0.00%</td>\n",
              "    </tr>\n",
              "    <tr>\n",
              "      <th id=\"T_3beb1_level0_row1\" class=\"row_heading level0 row1\" >days_employed</th>\n",
              "      <td id=\"T_3beb1_row1_col0\" class=\"data row1 col0\" >2174</td>\n",
              "      <td id=\"T_3beb1_row1_col1\" class=\"data row1 col1\" >10.10%</td>\n",
              "    </tr>\n",
              "    <tr>\n",
              "      <th id=\"T_3beb1_level0_row2\" class=\"row_heading level0 row2\" >dob_years</th>\n",
              "      <td id=\"T_3beb1_row2_col0\" class=\"data row2 col0\" >0</td>\n",
              "      <td id=\"T_3beb1_row2_col1\" class=\"data row2 col1\" >0.00%</td>\n",
              "    </tr>\n",
              "    <tr>\n",
              "      <th id=\"T_3beb1_level0_row3\" class=\"row_heading level0 row3\" >education</th>\n",
              "      <td id=\"T_3beb1_row3_col0\" class=\"data row3 col0\" >0</td>\n",
              "      <td id=\"T_3beb1_row3_col1\" class=\"data row3 col1\" >0.00%</td>\n",
              "    </tr>\n",
              "    <tr>\n",
              "      <th id=\"T_3beb1_level0_row4\" class=\"row_heading level0 row4\" >education_id</th>\n",
              "      <td id=\"T_3beb1_row4_col0\" class=\"data row4 col0\" >0</td>\n",
              "      <td id=\"T_3beb1_row4_col1\" class=\"data row4 col1\" >0.00%</td>\n",
              "    </tr>\n",
              "    <tr>\n",
              "      <th id=\"T_3beb1_level0_row5\" class=\"row_heading level0 row5\" >family_status</th>\n",
              "      <td id=\"T_3beb1_row5_col0\" class=\"data row5 col0\" >0</td>\n",
              "      <td id=\"T_3beb1_row5_col1\" class=\"data row5 col1\" >0.00%</td>\n",
              "    </tr>\n",
              "    <tr>\n",
              "      <th id=\"T_3beb1_level0_row6\" class=\"row_heading level0 row6\" >family_status_id</th>\n",
              "      <td id=\"T_3beb1_row6_col0\" class=\"data row6 col0\" >0</td>\n",
              "      <td id=\"T_3beb1_row6_col1\" class=\"data row6 col1\" >0.00%</td>\n",
              "    </tr>\n",
              "    <tr>\n",
              "      <th id=\"T_3beb1_level0_row7\" class=\"row_heading level0 row7\" >gender</th>\n",
              "      <td id=\"T_3beb1_row7_col0\" class=\"data row7 col0\" >0</td>\n",
              "      <td id=\"T_3beb1_row7_col1\" class=\"data row7 col1\" >0.00%</td>\n",
              "    </tr>\n",
              "    <tr>\n",
              "      <th id=\"T_3beb1_level0_row8\" class=\"row_heading level0 row8\" >income_type</th>\n",
              "      <td id=\"T_3beb1_row8_col0\" class=\"data row8 col0\" >0</td>\n",
              "      <td id=\"T_3beb1_row8_col1\" class=\"data row8 col1\" >0.00%</td>\n",
              "    </tr>\n",
              "    <tr>\n",
              "      <th id=\"T_3beb1_level0_row9\" class=\"row_heading level0 row9\" >debt</th>\n",
              "      <td id=\"T_3beb1_row9_col0\" class=\"data row9 col0\" >0</td>\n",
              "      <td id=\"T_3beb1_row9_col1\" class=\"data row9 col1\" >0.00%</td>\n",
              "    </tr>\n",
              "    <tr>\n",
              "      <th id=\"T_3beb1_level0_row10\" class=\"row_heading level0 row10\" >total_income</th>\n",
              "      <td id=\"T_3beb1_row10_col0\" class=\"data row10 col0\" >2174</td>\n",
              "      <td id=\"T_3beb1_row10_col1\" class=\"data row10 col1\" >10.10%</td>\n",
              "    </tr>\n",
              "    <tr>\n",
              "      <th id=\"T_3beb1_level0_row11\" class=\"row_heading level0 row11\" >purpose</th>\n",
              "      <td id=\"T_3beb1_row11_col0\" class=\"data row11 col0\" >0</td>\n",
              "      <td id=\"T_3beb1_row11_col1\" class=\"data row11 col1\" >0.00%</td>\n",
              "    </tr>\n",
              "  </tbody>\n",
              "</table>\n"
            ]
          },
          "metadata": {},
          "execution_count": 6
        }
      ],
      "source": [
        "pd.concat([data.isna().sum(), data.isna().mean()],\n",
        "          axis=1, keys=['sum', 'conversation']).style.format({'conversation': '{:.2%}'}).background_gradient('coolwarm') # подсчёт пропусков"
      ]
    },
    {
      "cell_type": "markdown",
      "id": "4849a6ce",
      "metadata": {
        "deletable": false,
        "editable": false,
        "id": "4849a6ce"
      },
      "source": [
        "В двух столбцах есть пропущенные значения. Один из них — `days_employed`. Пропуски в этом столбце мы обработаем на следующем этапе. Другой столбец с пропущенными значениями — `total_income` — хранит данные о доходах. На сумму дохода сильнее всего влияет тип занятости, поэтому заполнить пропуски в этом столбце нужно медианным значением по каждому типу из столбца `income_type`. Например, у человека с типом занятости `сотрудник` пропуск в столбце `total_income` должен быть заполнен медианным доходом среди всех записей с тем же типом."
      ]
    },
    {
      "cell_type": "code",
      "execution_count": null,
      "id": "7537e8e9",
      "metadata": {
        "deletable": false,
        "id": "7537e8e9"
      },
      "outputs": [],
      "source": [
        "for i in data['income_type'].unique():\n",
        "    # на каждом шаге цикла с помощью атрибута loc выбираем строки,\n",
        "    # в которых в income_type текущий тип занятости (i) и есть пропуски в total_income\n",
        "    data.loc[(data['income_type'] == i) & (data['total_income'].isna()), 'total_income'] = \\\n",
        "    data.loc[(data['income_type'] == i), 'total_income'].median()"
      ]
    },
    {
      "cell_type": "markdown",
      "metadata": {
        "deletable": false,
        "editable": false,
        "id": "e69a9025"
      },
      "source": [
        "Заполним пропуски в столбце `days_employed` медианными значениями по каждого типа занятости `income_type`."
      ],
      "id": "e69a9025"
    },
    {
      "cell_type": "code",
      "execution_count": null,
      "metadata": {
        "deletable": false,
        "id": "4b5c5a5b"
      },
      "outputs": [],
      "source": [
        "for t in data['income_type'].unique():\n",
        "    data.loc[(data['income_type'] == t) & (data['days_employed'].isna()), 'days_employed'] = \\\n",
        "    data.loc[(data['income_type'] == t), 'days_employed'].median()"
      ],
      "id": "4b5c5a5b"
    },
    {
      "cell_type": "markdown",
      "metadata": {
        "deletable": false,
        "editable": false,
        "id": "f0ffbca7"
      },
      "source": [
        "Убедимся, что все пропуски заполнены. Проверим ещё раз и выведите количество пропущенных значений для каждого столбца с помощью двух методов."
      ],
      "id": "f0ffbca7"
    },
    {
      "cell_type": "code",
      "execution_count": null,
      "metadata": {
        "deletable": false,
        "id": "a165c59f",
        "outputId": "d0b716f7-37a3-4038-94ff-2c8329780e67",
        "colab": {
          "base_uri": "https://localhost:8080/",
          "height": 426
        }
      },
      "outputs": [
        {
          "output_type": "execute_result",
          "data": {
            "text/plain": [
              "<pandas.io.formats.style.Styler at 0x7c0b8bc917e0>"
            ],
            "text/html": [
              "<style type=\"text/css\">\n",
              "#T_6d021_row0_col0, #T_6d021_row0_col1, #T_6d021_row1_col0, #T_6d021_row1_col1, #T_6d021_row2_col0, #T_6d021_row2_col1, #T_6d021_row3_col0, #T_6d021_row3_col1, #T_6d021_row4_col0, #T_6d021_row4_col1, #T_6d021_row5_col0, #T_6d021_row5_col1, #T_6d021_row6_col0, #T_6d021_row6_col1, #T_6d021_row7_col0, #T_6d021_row7_col1, #T_6d021_row8_col0, #T_6d021_row8_col1, #T_6d021_row9_col0, #T_6d021_row9_col1, #T_6d021_row10_col0, #T_6d021_row10_col1, #T_6d021_row11_col0, #T_6d021_row11_col1 {\n",
              "  background-color: #3b4cc0;\n",
              "  color: #f1f1f1;\n",
              "}\n",
              "</style>\n",
              "<table id=\"T_6d021\" class=\"dataframe\">\n",
              "  <thead>\n",
              "    <tr>\n",
              "      <th class=\"blank level0\" >&nbsp;</th>\n",
              "      <th id=\"T_6d021_level0_col0\" class=\"col_heading level0 col0\" >sum</th>\n",
              "      <th id=\"T_6d021_level0_col1\" class=\"col_heading level0 col1\" >conversation</th>\n",
              "    </tr>\n",
              "  </thead>\n",
              "  <tbody>\n",
              "    <tr>\n",
              "      <th id=\"T_6d021_level0_row0\" class=\"row_heading level0 row0\" >children</th>\n",
              "      <td id=\"T_6d021_row0_col0\" class=\"data row0 col0\" >0</td>\n",
              "      <td id=\"T_6d021_row0_col1\" class=\"data row0 col1\" >0.00%</td>\n",
              "    </tr>\n",
              "    <tr>\n",
              "      <th id=\"T_6d021_level0_row1\" class=\"row_heading level0 row1\" >days_employed</th>\n",
              "      <td id=\"T_6d021_row1_col0\" class=\"data row1 col0\" >0</td>\n",
              "      <td id=\"T_6d021_row1_col1\" class=\"data row1 col1\" >0.00%</td>\n",
              "    </tr>\n",
              "    <tr>\n",
              "      <th id=\"T_6d021_level0_row2\" class=\"row_heading level0 row2\" >dob_years</th>\n",
              "      <td id=\"T_6d021_row2_col0\" class=\"data row2 col0\" >0</td>\n",
              "      <td id=\"T_6d021_row2_col1\" class=\"data row2 col1\" >0.00%</td>\n",
              "    </tr>\n",
              "    <tr>\n",
              "      <th id=\"T_6d021_level0_row3\" class=\"row_heading level0 row3\" >education</th>\n",
              "      <td id=\"T_6d021_row3_col0\" class=\"data row3 col0\" >0</td>\n",
              "      <td id=\"T_6d021_row3_col1\" class=\"data row3 col1\" >0.00%</td>\n",
              "    </tr>\n",
              "    <tr>\n",
              "      <th id=\"T_6d021_level0_row4\" class=\"row_heading level0 row4\" >education_id</th>\n",
              "      <td id=\"T_6d021_row4_col0\" class=\"data row4 col0\" >0</td>\n",
              "      <td id=\"T_6d021_row4_col1\" class=\"data row4 col1\" >0.00%</td>\n",
              "    </tr>\n",
              "    <tr>\n",
              "      <th id=\"T_6d021_level0_row5\" class=\"row_heading level0 row5\" >family_status</th>\n",
              "      <td id=\"T_6d021_row5_col0\" class=\"data row5 col0\" >0</td>\n",
              "      <td id=\"T_6d021_row5_col1\" class=\"data row5 col1\" >0.00%</td>\n",
              "    </tr>\n",
              "    <tr>\n",
              "      <th id=\"T_6d021_level0_row6\" class=\"row_heading level0 row6\" >family_status_id</th>\n",
              "      <td id=\"T_6d021_row6_col0\" class=\"data row6 col0\" >0</td>\n",
              "      <td id=\"T_6d021_row6_col1\" class=\"data row6 col1\" >0.00%</td>\n",
              "    </tr>\n",
              "    <tr>\n",
              "      <th id=\"T_6d021_level0_row7\" class=\"row_heading level0 row7\" >gender</th>\n",
              "      <td id=\"T_6d021_row7_col0\" class=\"data row7 col0\" >0</td>\n",
              "      <td id=\"T_6d021_row7_col1\" class=\"data row7 col1\" >0.00%</td>\n",
              "    </tr>\n",
              "    <tr>\n",
              "      <th id=\"T_6d021_level0_row8\" class=\"row_heading level0 row8\" >income_type</th>\n",
              "      <td id=\"T_6d021_row8_col0\" class=\"data row8 col0\" >0</td>\n",
              "      <td id=\"T_6d021_row8_col1\" class=\"data row8 col1\" >0.00%</td>\n",
              "    </tr>\n",
              "    <tr>\n",
              "      <th id=\"T_6d021_level0_row9\" class=\"row_heading level0 row9\" >debt</th>\n",
              "      <td id=\"T_6d021_row9_col0\" class=\"data row9 col0\" >0</td>\n",
              "      <td id=\"T_6d021_row9_col1\" class=\"data row9 col1\" >0.00%</td>\n",
              "    </tr>\n",
              "    <tr>\n",
              "      <th id=\"T_6d021_level0_row10\" class=\"row_heading level0 row10\" >total_income</th>\n",
              "      <td id=\"T_6d021_row10_col0\" class=\"data row10 col0\" >0</td>\n",
              "      <td id=\"T_6d021_row10_col1\" class=\"data row10 col1\" >0.00%</td>\n",
              "    </tr>\n",
              "    <tr>\n",
              "      <th id=\"T_6d021_level0_row11\" class=\"row_heading level0 row11\" >purpose</th>\n",
              "      <td id=\"T_6d021_row11_col0\" class=\"data row11 col0\" >0</td>\n",
              "      <td id=\"T_6d021_row11_col1\" class=\"data row11 col1\" >0.00%</td>\n",
              "    </tr>\n",
              "  </tbody>\n",
              "</table>\n"
            ]
          },
          "metadata": {},
          "execution_count": 9
        }
      ],
      "source": [
        "pd.concat([data.isna().sum(), data.isna().mean()],\n",
        "          axis=1, keys=['sum', 'conversation']).style.format({'conversation': '{:.2%}'}).background_gradient('coolwarm') # подсчёт пропусков"
      ],
      "id": "a165c59f"
    },
    {
      "cell_type": "markdown",
      "metadata": {
        "deletable": false,
        "editable": false,
        "id": "d78d4406"
      },
      "source": [
        "Возможные причины появления пропусков в исходных данных могли послужить: человеческий фактор, ошибки системы или процесса выгрузки.\n",
        "\n",
        "Заполнить пропуски медианным значением — лучшее решение для количественных переменных, т.к. реднее значение некорректно характеризует данные, когда некоторые значения сильно выделяются среди большинства."
      ],
      "id": "d78d4406"
    },
    {
      "cell_type": "markdown",
      "id": "f82219b5",
      "metadata": {
        "deletable": false,
        "editable": false,
        "id": "f82219b5"
      },
      "source": [
        "### Обработка аномальных значений"
      ]
    },
    {
      "cell_type": "markdown",
      "source": [
        "Исследуем данные, используя функцию `describe`."
      ],
      "metadata": {
        "id": "e3_atoAsYbsR"
      },
      "id": "e3_atoAsYbsR"
    },
    {
      "cell_type": "code",
      "source": [
        "data.describe(include=[np.number]).transpose()"
      ],
      "metadata": {
        "colab": {
          "base_uri": "https://localhost:8080/",
          "height": 269
        },
        "id": "swAwcPxxYZk3",
        "outputId": "0ce38270-363a-4ede-d9c2-0cc891203968"
      },
      "id": "swAwcPxxYZk3",
      "execution_count": null,
      "outputs": [
        {
          "output_type": "execute_result",
          "data": {
            "text/plain": [
              "                    count           mean            std           min  \\\n",
              "children          21525.0       0.538908       1.381587     -1.000000   \n",
              "days_employed     21525.0   63550.497071  141150.420058 -18388.949901   \n",
              "dob_years         21525.0      43.293380      12.574584      0.000000   \n",
              "education_id      21525.0       0.817236       0.548138      0.000000   \n",
              "family_status_id  21525.0       0.972544       1.420324      0.000000   \n",
              "debt              21525.0       0.080883       0.272661      0.000000   \n",
              "total_income      21525.0  165225.324514   98043.665491  20667.263793   \n",
              "\n",
              "                            25%            50%            75%           max  \n",
              "children               0.000000       0.000000       1.000000  2.000000e+01  \n",
              "days_employed      -2570.047544   -1355.683356    -316.240646  4.017554e+05  \n",
              "dob_years             33.000000      42.000000      53.000000  7.500000e+01  \n",
              "education_id           1.000000       1.000000       1.000000  4.000000e+00  \n",
              "family_status_id       0.000000       0.000000       1.000000  4.000000e+00  \n",
              "debt                   0.000000       0.000000       0.000000  1.000000e+00  \n",
              "total_income      107798.172619  142594.396847  195549.940861  2.265604e+06  "
            ],
            "text/html": [
              "\n",
              "  <div id=\"df-907f3cf2-f117-4b4f-a25f-260c55087e58\" class=\"colab-df-container\">\n",
              "    <div>\n",
              "<style scoped>\n",
              "    .dataframe tbody tr th:only-of-type {\n",
              "        vertical-align: middle;\n",
              "    }\n",
              "\n",
              "    .dataframe tbody tr th {\n",
              "        vertical-align: top;\n",
              "    }\n",
              "\n",
              "    .dataframe thead th {\n",
              "        text-align: right;\n",
              "    }\n",
              "</style>\n",
              "<table border=\"1\" class=\"dataframe\">\n",
              "  <thead>\n",
              "    <tr style=\"text-align: right;\">\n",
              "      <th></th>\n",
              "      <th>count</th>\n",
              "      <th>mean</th>\n",
              "      <th>std</th>\n",
              "      <th>min</th>\n",
              "      <th>25%</th>\n",
              "      <th>50%</th>\n",
              "      <th>75%</th>\n",
              "      <th>max</th>\n",
              "    </tr>\n",
              "  </thead>\n",
              "  <tbody>\n",
              "    <tr>\n",
              "      <th>children</th>\n",
              "      <td>21525.0</td>\n",
              "      <td>0.538908</td>\n",
              "      <td>1.381587</td>\n",
              "      <td>-1.000000</td>\n",
              "      <td>0.000000</td>\n",
              "      <td>0.000000</td>\n",
              "      <td>1.000000</td>\n",
              "      <td>2.000000e+01</td>\n",
              "    </tr>\n",
              "    <tr>\n",
              "      <th>days_employed</th>\n",
              "      <td>21525.0</td>\n",
              "      <td>63550.497071</td>\n",
              "      <td>141150.420058</td>\n",
              "      <td>-18388.949901</td>\n",
              "      <td>-2570.047544</td>\n",
              "      <td>-1355.683356</td>\n",
              "      <td>-316.240646</td>\n",
              "      <td>4.017554e+05</td>\n",
              "    </tr>\n",
              "    <tr>\n",
              "      <th>dob_years</th>\n",
              "      <td>21525.0</td>\n",
              "      <td>43.293380</td>\n",
              "      <td>12.574584</td>\n",
              "      <td>0.000000</td>\n",
              "      <td>33.000000</td>\n",
              "      <td>42.000000</td>\n",
              "      <td>53.000000</td>\n",
              "      <td>7.500000e+01</td>\n",
              "    </tr>\n",
              "    <tr>\n",
              "      <th>education_id</th>\n",
              "      <td>21525.0</td>\n",
              "      <td>0.817236</td>\n",
              "      <td>0.548138</td>\n",
              "      <td>0.000000</td>\n",
              "      <td>1.000000</td>\n",
              "      <td>1.000000</td>\n",
              "      <td>1.000000</td>\n",
              "      <td>4.000000e+00</td>\n",
              "    </tr>\n",
              "    <tr>\n",
              "      <th>family_status_id</th>\n",
              "      <td>21525.0</td>\n",
              "      <td>0.972544</td>\n",
              "      <td>1.420324</td>\n",
              "      <td>0.000000</td>\n",
              "      <td>0.000000</td>\n",
              "      <td>0.000000</td>\n",
              "      <td>1.000000</td>\n",
              "      <td>4.000000e+00</td>\n",
              "    </tr>\n",
              "    <tr>\n",
              "      <th>debt</th>\n",
              "      <td>21525.0</td>\n",
              "      <td>0.080883</td>\n",
              "      <td>0.272661</td>\n",
              "      <td>0.000000</td>\n",
              "      <td>0.000000</td>\n",
              "      <td>0.000000</td>\n",
              "      <td>0.000000</td>\n",
              "      <td>1.000000e+00</td>\n",
              "    </tr>\n",
              "    <tr>\n",
              "      <th>total_income</th>\n",
              "      <td>21525.0</td>\n",
              "      <td>165225.324514</td>\n",
              "      <td>98043.665491</td>\n",
              "      <td>20667.263793</td>\n",
              "      <td>107798.172619</td>\n",
              "      <td>142594.396847</td>\n",
              "      <td>195549.940861</td>\n",
              "      <td>2.265604e+06</td>\n",
              "    </tr>\n",
              "  </tbody>\n",
              "</table>\n",
              "</div>\n",
              "    <div class=\"colab-df-buttons\">\n",
              "\n",
              "  <div class=\"colab-df-container\">\n",
              "    <button class=\"colab-df-convert\" onclick=\"convertToInteractive('df-907f3cf2-f117-4b4f-a25f-260c55087e58')\"\n",
              "            title=\"Convert this dataframe to an interactive table.\"\n",
              "            style=\"display:none;\">\n",
              "\n",
              "  <svg xmlns=\"http://www.w3.org/2000/svg\" height=\"24px\" viewBox=\"0 -960 960 960\">\n",
              "    <path d=\"M120-120v-720h720v720H120Zm60-500h600v-160H180v160Zm220 220h160v-160H400v160Zm0 220h160v-160H400v160ZM180-400h160v-160H180v160Zm440 0h160v-160H620v160ZM180-180h160v-160H180v160Zm440 0h160v-160H620v160Z\"/>\n",
              "  </svg>\n",
              "    </button>\n",
              "\n",
              "  <style>\n",
              "    .colab-df-container {\n",
              "      display:flex;\n",
              "      gap: 12px;\n",
              "    }\n",
              "\n",
              "    .colab-df-convert {\n",
              "      background-color: #E8F0FE;\n",
              "      border: none;\n",
              "      border-radius: 50%;\n",
              "      cursor: pointer;\n",
              "      display: none;\n",
              "      fill: #1967D2;\n",
              "      height: 32px;\n",
              "      padding: 0 0 0 0;\n",
              "      width: 32px;\n",
              "    }\n",
              "\n",
              "    .colab-df-convert:hover {\n",
              "      background-color: #E2EBFA;\n",
              "      box-shadow: 0px 1px 2px rgba(60, 64, 67, 0.3), 0px 1px 3px 1px rgba(60, 64, 67, 0.15);\n",
              "      fill: #174EA6;\n",
              "    }\n",
              "\n",
              "    .colab-df-buttons div {\n",
              "      margin-bottom: 4px;\n",
              "    }\n",
              "\n",
              "    [theme=dark] .colab-df-convert {\n",
              "      background-color: #3B4455;\n",
              "      fill: #D2E3FC;\n",
              "    }\n",
              "\n",
              "    [theme=dark] .colab-df-convert:hover {\n",
              "      background-color: #434B5C;\n",
              "      box-shadow: 0px 1px 3px 1px rgba(0, 0, 0, 0.15);\n",
              "      filter: drop-shadow(0px 1px 2px rgba(0, 0, 0, 0.3));\n",
              "      fill: #FFFFFF;\n",
              "    }\n",
              "  </style>\n",
              "\n",
              "    <script>\n",
              "      const buttonEl =\n",
              "        document.querySelector('#df-907f3cf2-f117-4b4f-a25f-260c55087e58 button.colab-df-convert');\n",
              "      buttonEl.style.display =\n",
              "        google.colab.kernel.accessAllowed ? 'block' : 'none';\n",
              "\n",
              "      async function convertToInteractive(key) {\n",
              "        const element = document.querySelector('#df-907f3cf2-f117-4b4f-a25f-260c55087e58');\n",
              "        const dataTable =\n",
              "          await google.colab.kernel.invokeFunction('convertToInteractive',\n",
              "                                                    [key], {});\n",
              "        if (!dataTable) return;\n",
              "\n",
              "        const docLinkHtml = 'Like what you see? Visit the ' +\n",
              "          '<a target=\"_blank\" href=https://colab.research.google.com/notebooks/data_table.ipynb>data table notebook</a>'\n",
              "          + ' to learn more about interactive tables.';\n",
              "        element.innerHTML = '';\n",
              "        dataTable['output_type'] = 'display_data';\n",
              "        await google.colab.output.renderOutput(dataTable, element);\n",
              "        const docLink = document.createElement('div');\n",
              "        docLink.innerHTML = docLinkHtml;\n",
              "        element.appendChild(docLink);\n",
              "      }\n",
              "    </script>\n",
              "  </div>\n",
              "\n",
              "\n",
              "<div id=\"df-2fb4e85c-165b-4435-be7d-9cf0154c417a\">\n",
              "  <button class=\"colab-df-quickchart\" onclick=\"quickchart('df-2fb4e85c-165b-4435-be7d-9cf0154c417a')\"\n",
              "            title=\"Suggest charts\"\n",
              "            style=\"display:none;\">\n",
              "\n",
              "<svg xmlns=\"http://www.w3.org/2000/svg\" height=\"24px\"viewBox=\"0 0 24 24\"\n",
              "     width=\"24px\">\n",
              "    <g>\n",
              "        <path d=\"M19 3H5c-1.1 0-2 .9-2 2v14c0 1.1.9 2 2 2h14c1.1 0 2-.9 2-2V5c0-1.1-.9-2-2-2zM9 17H7v-7h2v7zm4 0h-2V7h2v10zm4 0h-2v-4h2v4z\"/>\n",
              "    </g>\n",
              "</svg>\n",
              "  </button>\n",
              "\n",
              "<style>\n",
              "  .colab-df-quickchart {\n",
              "      --bg-color: #E8F0FE;\n",
              "      --fill-color: #1967D2;\n",
              "      --hover-bg-color: #E2EBFA;\n",
              "      --hover-fill-color: #174EA6;\n",
              "      --disabled-fill-color: #AAA;\n",
              "      --disabled-bg-color: #DDD;\n",
              "  }\n",
              "\n",
              "  [theme=dark] .colab-df-quickchart {\n",
              "      --bg-color: #3B4455;\n",
              "      --fill-color: #D2E3FC;\n",
              "      --hover-bg-color: #434B5C;\n",
              "      --hover-fill-color: #FFFFFF;\n",
              "      --disabled-bg-color: #3B4455;\n",
              "      --disabled-fill-color: #666;\n",
              "  }\n",
              "\n",
              "  .colab-df-quickchart {\n",
              "    background-color: var(--bg-color);\n",
              "    border: none;\n",
              "    border-radius: 50%;\n",
              "    cursor: pointer;\n",
              "    display: none;\n",
              "    fill: var(--fill-color);\n",
              "    height: 32px;\n",
              "    padding: 0;\n",
              "    width: 32px;\n",
              "  }\n",
              "\n",
              "  .colab-df-quickchart:hover {\n",
              "    background-color: var(--hover-bg-color);\n",
              "    box-shadow: 0 1px 2px rgba(60, 64, 67, 0.3), 0 1px 3px 1px rgba(60, 64, 67, 0.15);\n",
              "    fill: var(--button-hover-fill-color);\n",
              "  }\n",
              "\n",
              "  .colab-df-quickchart-complete:disabled,\n",
              "  .colab-df-quickchart-complete:disabled:hover {\n",
              "    background-color: var(--disabled-bg-color);\n",
              "    fill: var(--disabled-fill-color);\n",
              "    box-shadow: none;\n",
              "  }\n",
              "\n",
              "  .colab-df-spinner {\n",
              "    border: 2px solid var(--fill-color);\n",
              "    border-color: transparent;\n",
              "    border-bottom-color: var(--fill-color);\n",
              "    animation:\n",
              "      spin 1s steps(1) infinite;\n",
              "  }\n",
              "\n",
              "  @keyframes spin {\n",
              "    0% {\n",
              "      border-color: transparent;\n",
              "      border-bottom-color: var(--fill-color);\n",
              "      border-left-color: var(--fill-color);\n",
              "    }\n",
              "    20% {\n",
              "      border-color: transparent;\n",
              "      border-left-color: var(--fill-color);\n",
              "      border-top-color: var(--fill-color);\n",
              "    }\n",
              "    30% {\n",
              "      border-color: transparent;\n",
              "      border-left-color: var(--fill-color);\n",
              "      border-top-color: var(--fill-color);\n",
              "      border-right-color: var(--fill-color);\n",
              "    }\n",
              "    40% {\n",
              "      border-color: transparent;\n",
              "      border-right-color: var(--fill-color);\n",
              "      border-top-color: var(--fill-color);\n",
              "    }\n",
              "    60% {\n",
              "      border-color: transparent;\n",
              "      border-right-color: var(--fill-color);\n",
              "    }\n",
              "    80% {\n",
              "      border-color: transparent;\n",
              "      border-right-color: var(--fill-color);\n",
              "      border-bottom-color: var(--fill-color);\n",
              "    }\n",
              "    90% {\n",
              "      border-color: transparent;\n",
              "      border-bottom-color: var(--fill-color);\n",
              "    }\n",
              "  }\n",
              "</style>\n",
              "\n",
              "  <script>\n",
              "    async function quickchart(key) {\n",
              "      const quickchartButtonEl =\n",
              "        document.querySelector('#' + key + ' button');\n",
              "      quickchartButtonEl.disabled = true;  // To prevent multiple clicks.\n",
              "      quickchartButtonEl.classList.add('colab-df-spinner');\n",
              "      try {\n",
              "        const charts = await google.colab.kernel.invokeFunction(\n",
              "            'suggestCharts', [key], {});\n",
              "      } catch (error) {\n",
              "        console.error('Error during call to suggestCharts:', error);\n",
              "      }\n",
              "      quickchartButtonEl.classList.remove('colab-df-spinner');\n",
              "      quickchartButtonEl.classList.add('colab-df-quickchart-complete');\n",
              "    }\n",
              "    (() => {\n",
              "      let quickchartButtonEl =\n",
              "        document.querySelector('#df-2fb4e85c-165b-4435-be7d-9cf0154c417a button');\n",
              "      quickchartButtonEl.style.display =\n",
              "        google.colab.kernel.accessAllowed ? 'block' : 'none';\n",
              "    })();\n",
              "  </script>\n",
              "</div>\n",
              "    </div>\n",
              "  </div>\n"
            ],
            "application/vnd.google.colaboratory.intrinsic+json": {
              "type": "dataframe",
              "summary": "{\n  \"name\": \"data\",\n  \"rows\": 7,\n  \"fields\": [\n    {\n      \"column\": \"count\",\n      \"properties\": {\n        \"dtype\": \"number\",\n        \"std\": 0.0,\n        \"min\": 21525.0,\n        \"max\": 21525.0,\n        \"num_unique_values\": 1,\n        \"samples\": [\n          21525.0\n        ],\n        \"semantic_type\": \"\",\n        \"description\": \"\"\n      }\n    },\n    {\n      \"column\": \"mean\",\n      \"properties\": {\n        \"dtype\": \"number\",\n        \"std\": 63058.407885736204,\n        \"min\": 0.08088269454123112,\n        \"max\": 165225.32451367722,\n        \"num_unique_values\": 7,\n        \"samples\": [\n          0.5389082462253194\n        ],\n        \"semantic_type\": \"\",\n        \"description\": \"\"\n      }\n    },\n    {\n      \"column\": \"std\",\n      \"properties\": {\n        \"dtype\": \"number\",\n        \"std\": 59667.8208913512,\n        \"min\": 0.27266121490920664,\n        \"max\": 141150.4200577728,\n        \"num_unique_values\": 7,\n        \"samples\": [\n          1.3815874511378319\n        ],\n        \"semantic_type\": \"\",\n        \"description\": \"\"\n      }\n    },\n    {\n      \"column\": \"min\",\n      \"properties\": {\n        \"dtype\": \"number\",\n        \"std\": 11288.256378135937,\n        \"min\": -18388.949900568383,\n        \"max\": 20667.26379327158,\n        \"num_unique_values\": 4,\n        \"samples\": [\n          -18388.949900568383\n        ],\n        \"semantic_type\": \"\",\n        \"description\": \"\"\n      }\n    },\n    {\n      \"column\": \"25%\",\n      \"properties\": {\n        \"dtype\": \"number\",\n        \"std\": 40914.909031753334,\n        \"min\": -2570.0475438385497,\n        \"max\": 107798.17261895772,\n        \"num_unique_values\": 5,\n        \"samples\": [\n          -2570.0475438385497\n        ],\n        \"semantic_type\": \"\",\n        \"description\": \"\"\n      }\n    },\n    {\n      \"column\": \"50%\",\n      \"properties\": {\n        \"dtype\": \"number\",\n        \"std\": 53980.70400734133,\n        \"min\": -1355.6833560040743,\n        \"max\": 142594.39684740017,\n        \"num_unique_values\": 5,\n        \"samples\": [\n          -1355.6833560040743\n        ],\n        \"semantic_type\": \"\",\n        \"description\": \"\"\n      }\n    },\n    {\n      \"column\": \"75%\",\n      \"properties\": {\n        \"dtype\": \"number\",\n        \"std\": 73927.42714290142,\n        \"min\": -316.24064578435247,\n        \"max\": 195549.94086127277,\n        \"num_unique_values\": 5,\n        \"samples\": [\n          -316.24064578435247\n        ],\n        \"semantic_type\": \"\",\n        \"description\": \"\"\n      }\n    },\n    {\n      \"column\": \"max\",\n      \"properties\": {\n        \"dtype\": \"number\",\n        \"std\": 844382.3047158933,\n        \"min\": 1.0,\n        \"max\": 2265604.028722744,\n        \"num_unique_values\": 6,\n        \"samples\": [\n          20.0\n        ],\n        \"semantic_type\": \"\",\n        \"description\": \"\"\n      }\n    }\n  ]\n}"
            }
          },
          "metadata": {},
          "execution_count": 10
        }
      ]
    },
    {
      "cell_type": "markdown",
      "id": "f6639cf6",
      "metadata": {
        "deletable": false,
        "editable": false,
        "id": "f6639cf6"
      },
      "source": [
        "В данных могут встречаться артефакты (аномалии) — значения, которые не отражают действительность и появились по какой-то ошибке. Таким артефактом будет отрицательное количество дней трудового стажа в столбце `days_employed`. Для реальных данных это нормально. Обработаем значения в этом столбце: заменим все отрицательные значения положительными с помощью метода `abs()`."
      ]
    },
    {
      "cell_type": "code",
      "execution_count": null,
      "id": "0b125117",
      "metadata": {
        "deletable": false,
        "id": "0b125117"
      },
      "outputs": [],
      "source": [
        "data['days_employed'] = data['days_employed'].abs()"
      ]
    },
    {
      "cell_type": "markdown",
      "id": "b010dd37",
      "metadata": {
        "deletable": false,
        "editable": false,
        "id": "b010dd37"
      },
      "source": [
        "Для каждого типа занятости выведем медианное значение трудового стажа `days_employed` в днях."
      ]
    },
    {
      "cell_type": "code",
      "execution_count": null,
      "id": "f5696866",
      "metadata": {
        "deletable": false,
        "id": "f5696866",
        "outputId": "3bdc0fe6-58d1-4448-8024-5b308febde58",
        "colab": {
          "base_uri": "https://localhost:8080/"
        }
      },
      "outputs": [
        {
          "output_type": "execute_result",
          "data": {
            "text/plain": [
              "income_type\n",
              "безработный        366413.652744\n",
              "в декрете            3296.759962\n",
              "госслужащий          2689.368353\n",
              "компаньон            1547.382223\n",
              "пенсионер          365213.306266\n",
              "предприниматель       520.848083\n",
              "сотрудник            1574.202821\n",
              "студент               578.751554\n",
              "Name: days_employed, dtype: float64"
            ]
          },
          "metadata": {},
          "execution_count": 12
        }
      ],
      "source": [
        "data.groupby('income_type')['days_employed'].median()"
      ]
    },
    {
      "cell_type": "markdown",
      "id": "5628b58a",
      "metadata": {
        "deletable": false,
        "editable": false,
        "id": "5628b58a"
      },
      "source": [
        "У двух типов (безработные и пенсионеры) получатся аномально большие значения. Исправить такие значения сложно, поэтому оставим их как есть. Тем более этот столбец не понадобится нам для исследования."
      ]
    },
    {
      "cell_type": "markdown",
      "id": "2f2648e0",
      "metadata": {
        "deletable": false,
        "editable": false,
        "id": "2f2648e0"
      },
      "source": [
        "Выведем перечень уникальных значений столбца `children`."
      ]
    },
    {
      "cell_type": "code",
      "execution_count": null,
      "id": "99641e9c",
      "metadata": {
        "deletable": false,
        "id": "99641e9c",
        "outputId": "62c0646b-f09e-4ed7-a7d0-73b89061fc45",
        "colab": {
          "base_uri": "https://localhost:8080/"
        }
      },
      "outputs": [
        {
          "output_type": "execute_result",
          "data": {
            "text/plain": [
              "array([ 1,  0,  3,  2, -1,  4, 20,  5])"
            ]
          },
          "metadata": {},
          "execution_count": 13
        }
      ],
      "source": [
        "data['children'].unique()"
      ]
    },
    {
      "cell_type": "markdown",
      "id": "67e2a937",
      "metadata": {
        "deletable": false,
        "editable": false,
        "id": "67e2a937"
      },
      "source": [
        "В столбце `children` есть два аномальных значения. Удалим строки, в которых встречаются такие аномальные значения из датафрейма `data`."
      ]
    },
    {
      "cell_type": "code",
      "execution_count": null,
      "id": "4e0be23c",
      "metadata": {
        "deletable": false,
        "id": "4e0be23c"
      },
      "outputs": [],
      "source": [
        "data = data[(data['children'] != -1) & (data['children'] != 20)]"
      ]
    },
    {
      "cell_type": "markdown",
      "id": "d2007f03",
      "metadata": {
        "deletable": false,
        "editable": false,
        "id": "d2007f03"
      },
      "source": [
        "Ещё раз выведем перечень уникальных значений столбца `children`, чтобы убедиться, что артефакты удалены."
      ]
    },
    {
      "cell_type": "code",
      "execution_count": null,
      "id": "6f1aac0c",
      "metadata": {
        "deletable": false,
        "id": "6f1aac0c",
        "outputId": "536ded0a-e5e7-4180-8b0c-e66da7c7b08a",
        "colab": {
          "base_uri": "https://localhost:8080/"
        }
      },
      "outputs": [
        {
          "output_type": "execute_result",
          "data": {
            "text/plain": [
              "array([1, 0, 3, 2, 4, 5])"
            ]
          },
          "metadata": {},
          "execution_count": 15
        }
      ],
      "source": [
        "data['children'].unique()"
      ]
    },
    {
      "cell_type": "markdown",
      "id": "13eb8652",
      "metadata": {
        "deletable": false,
        "editable": false,
        "id": "13eb8652"
      },
      "source": [
        "### Изменение типов данных"
      ]
    },
    {
      "cell_type": "markdown",
      "id": "781be4ad",
      "metadata": {
        "deletable": false,
        "editable": false,
        "id": "781be4ad"
      },
      "source": [
        "Заменим вещественный тип данных в столбце `total_income` на целочисленный с помощью метода `astype()`."
      ]
    },
    {
      "cell_type": "code",
      "execution_count": null,
      "id": "2794b051",
      "metadata": {
        "deletable": false,
        "id": "2794b051"
      },
      "outputs": [],
      "source": [
        "data['total_income'] = data['total_income'].astype(int)"
      ]
    },
    {
      "cell_type": "markdown",
      "id": "49adfb24",
      "metadata": {
        "deletable": false,
        "editable": false,
        "id": "49adfb24"
      },
      "source": [
        "### Обработка дубликатов"
      ]
    },
    {
      "cell_type": "markdown",
      "id": "bfe0cd10",
      "metadata": {
        "deletable": false,
        "editable": false,
        "id": "bfe0cd10"
      },
      "source": [
        "Обработаем неявные дубликаты в столбце `education`. В этом столбце есть одни и те же значения, но записанные по-разному: с использованием заглавных и строчных букв. Приведем их к нижнему регистру."
      ]
    },
    {
      "cell_type": "code",
      "execution_count": null,
      "id": "4027eb59",
      "metadata": {
        "deletable": false,
        "id": "4027eb59"
      },
      "outputs": [],
      "source": [
        "data['education'] = data['education'].str.lower()"
      ]
    },
    {
      "cell_type": "markdown",
      "id": "d87c2025",
      "metadata": {
        "deletable": false,
        "editable": false,
        "id": "d87c2025"
      },
      "source": [
        "Проверим остальные столбцы, для этого выведем на экран количество строк-дубликатов в данных. Если такие строки присутствуют, то удалим их."
      ]
    },
    {
      "cell_type": "code",
      "execution_count": null,
      "id": "d004335b",
      "metadata": {
        "deletable": false,
        "id": "d004335b",
        "outputId": "430513c5-19b3-4037-d93d-5046c1815155",
        "colab": {
          "base_uri": "https://localhost:8080/"
        }
      },
      "outputs": [
        {
          "output_type": "execute_result",
          "data": {
            "text/plain": [
              "71"
            ]
          },
          "metadata": {},
          "execution_count": 18
        }
      ],
      "source": [
        "data.duplicated().sum()"
      ]
    },
    {
      "cell_type": "code",
      "execution_count": null,
      "id": "5df1d684",
      "metadata": {
        "deletable": false,
        "id": "5df1d684"
      },
      "outputs": [],
      "source": [
        "data = data.drop_duplicates()"
      ]
    },
    {
      "cell_type": "markdown",
      "id": "e9e1ad41",
      "metadata": {
        "deletable": false,
        "editable": false,
        "id": "e9e1ad41"
      },
      "source": [
        "### Категоризация данных"
      ]
    },
    {
      "cell_type": "markdown",
      "id": "927c9df3",
      "metadata": {
        "deletable": false,
        "editable": false,
        "id": "927c9df3"
      },
      "source": [
        "На основании диапазонов, указанных ниже, создадим в датафрейме `data` столбец `total_income_category` с категориями:\n",
        "\n",
        "- 0–30000 — `'E'`;\n",
        "- 30001–50000 — `'D'`;\n",
        "- 50001–200000 — `'C'`;\n",
        "- 200001–1000000 — `'B'`;\n",
        "- 1000001 и выше — `'A'`.\n",
        "\n",
        "\n",
        "Используем собственную функцию с именем `categorize_income()` и метод `apply()`."
      ]
    },
    {
      "cell_type": "code",
      "execution_count": null,
      "id": "9e89d9ab",
      "metadata": {
        "deletable": false,
        "id": "9e89d9ab"
      },
      "outputs": [],
      "source": [
        "def categorize_income(income):\n",
        "    try:\n",
        "        if 0 <= income <= 30000:\n",
        "            return 'E'\n",
        "        elif 30001 <= income <= 50000:\n",
        "            return 'D'\n",
        "        elif 50001 <= income <= 200000:\n",
        "            return 'C'\n",
        "        elif 200001 <= income <= 1000000:\n",
        "            return 'B'\n",
        "        elif income >= 1000001:\n",
        "            return 'A'\n",
        "    except:\n",
        "        pass"
      ]
    },
    {
      "cell_type": "code",
      "execution_count": null,
      "id": "0d05a073",
      "metadata": {
        "deletable": false,
        "id": "0d05a073"
      },
      "outputs": [],
      "source": [
        "data['total_income_category'] = data['total_income'].apply(categorize_income)"
      ]
    },
    {
      "cell_type": "markdown",
      "id": "dc2b7da0",
      "metadata": {
        "deletable": false,
        "editable": false,
        "id": "dc2b7da0"
      },
      "source": [
        "Выведем на экран перечень уникальных целей взятия кредита из столбца `purpose`."
      ]
    },
    {
      "cell_type": "code",
      "execution_count": null,
      "id": "c21cf220",
      "metadata": {
        "deletable": false,
        "id": "c21cf220",
        "outputId": "0c1a8c5d-bf33-4501-9a3b-80ca32957bde",
        "colab": {
          "base_uri": "https://localhost:8080/"
        }
      },
      "outputs": [
        {
          "output_type": "execute_result",
          "data": {
            "text/plain": [
              "array(['покупка жилья', 'приобретение автомобиля',\n",
              "       'дополнительное образование', 'сыграть свадьбу',\n",
              "       'операции с жильем', 'образование', 'на проведение свадьбы',\n",
              "       'покупка жилья для семьи', 'покупка недвижимости',\n",
              "       'покупка коммерческой недвижимости', 'покупка жилой недвижимости',\n",
              "       'строительство собственной недвижимости', 'недвижимость',\n",
              "       'строительство недвижимости', 'на покупку подержанного автомобиля',\n",
              "       'на покупку своего автомобиля',\n",
              "       'операции с коммерческой недвижимостью',\n",
              "       'строительство жилой недвижимости', 'жилье',\n",
              "       'операции со своей недвижимостью', 'автомобили',\n",
              "       'заняться образованием', 'сделка с подержанным автомобилем',\n",
              "       'получение образования', 'автомобиль', 'свадьба',\n",
              "       'получение дополнительного образования', 'покупка своего жилья',\n",
              "       'операции с недвижимостью', 'получение высшего образования',\n",
              "       'свой автомобиль', 'сделка с автомобилем',\n",
              "       'профильное образование', 'высшее образование',\n",
              "       'покупка жилья для сдачи', 'на покупку автомобиля', 'ремонт жилью',\n",
              "       'заняться высшим образованием'], dtype=object)"
            ]
          },
          "metadata": {},
          "execution_count": 22
        }
      ],
      "source": [
        "data['purpose'].unique()"
      ]
    },
    {
      "cell_type": "markdown",
      "id": "3e71976d",
      "metadata": {
        "deletable": false,
        "editable": false,
        "id": "3e71976d"
      },
      "source": [
        "Создадим функцию, которая на основании данных из столбца `purpose` сформирует новый столбец `purpose_category`, в который войдут следующие категории:**\n",
        "\n",
        "- `'операции с автомобилем'`,\n",
        "- `'операции с недвижимостью'`,\n",
        "- `'проведение свадьбы'`,\n",
        "- `'получение образования'`.\n",
        "\n",
        "Например, если в столбце `purpose` находится подстрока `'на покупку автомобиля'`, то в столбце `purpose_category` должна появиться строка `'операции с автомобилем'`.\n",
        "\n",
        "Используем собственную функцию с именем `categorize_purpose()` и метод `apply()`. Изучите данные в столбце `purpose` и определите, какие подстроки помогут вам правильно определить категорию."
      ]
    },
    {
      "cell_type": "code",
      "execution_count": null,
      "id": "5a99cbef",
      "metadata": {
        "deletable": false,
        "id": "5a99cbef"
      },
      "outputs": [],
      "source": [
        "def categorize_purpose(row):\n",
        "    try:\n",
        "        if 'автом' in row:\n",
        "            return 'операции с автомобилем'\n",
        "        elif 'жил' in row or 'недвиж' in row:\n",
        "            return 'операции с недвижимостью'\n",
        "        elif 'свад' in row:\n",
        "            return 'проведение свадьбы'\n",
        "        elif 'образов' in row:\n",
        "            return 'получение образования'\n",
        "    except:\n",
        "        return 'нет категории'"
      ]
    },
    {
      "cell_type": "code",
      "execution_count": null,
      "id": "55a267ff",
      "metadata": {
        "deletable": false,
        "id": "55a267ff"
      },
      "outputs": [],
      "source": [
        "data['purpose_category'] = data['purpose'].apply(categorize_purpose)"
      ]
    },
    {
      "cell_type": "markdown",
      "source": [
        "## Проверка гипотез"
      ],
      "metadata": {
        "id": "g_yRXj3cZLIk"
      },
      "id": "g_yRXj3cZLIk"
    },
    {
      "cell_type": "markdown",
      "id": "a9815a48",
      "metadata": {
        "deletable": false,
        "editable": false,
        "id": "a9815a48"
      },
      "source": [
        "Исследуем данные и ответим на вопросы."
      ]
    },
    {
      "cell_type": "markdown",
      "id": "fec12c90",
      "metadata": {
        "deletable": false,
        "editable": false,
        "id": "fec12c90"
      },
      "source": [
        "#### Зависимость между количеством детей"
      ]
    },
    {
      "cell_type": "markdown",
      "source": [
        "**Гипотеза:**\n",
        "\n",
        "Есть ли зависимость между количеством детей и возвратом кредита в срок?"
      ],
      "metadata": {
        "id": "j9uOE828gAD3"
      },
      "id": "j9uOE828gAD3"
    },
    {
      "cell_type": "code",
      "execution_count": null,
      "id": "eddc71f6",
      "metadata": {
        "deletable": false,
        "id": "eddc71f6",
        "scrolled": true,
        "outputId": "3823018a-f84c-483f-d35f-8939459befdc",
        "colab": {
          "base_uri": "https://localhost:8080/",
          "height": 300
        }
      },
      "outputs": [
        {
          "output_type": "execute_result",
          "data": {
            "text/plain": [
              "          count   sum conversion_debt\n",
              "           debt  debt                \n",
              "children                             \n",
              "0         14091  1063        7.543822\n",
              "1          4808   444        9.234609\n",
              "2          2052   194        9.454191\n",
              "3           330    27        8.181818\n",
              "4            41     4        9.756098\n",
              "5             9     0        0.000000"
            ],
            "text/html": [
              "\n",
              "  <div id=\"df-ae28685b-6146-4105-97ca-cf8b3dedee8f\" class=\"colab-df-container\">\n",
              "    <div>\n",
              "<style scoped>\n",
              "    .dataframe tbody tr th:only-of-type {\n",
              "        vertical-align: middle;\n",
              "    }\n",
              "\n",
              "    .dataframe tbody tr th {\n",
              "        vertical-align: top;\n",
              "    }\n",
              "\n",
              "    .dataframe thead tr th {\n",
              "        text-align: left;\n",
              "    }\n",
              "\n",
              "    .dataframe thead tr:last-of-type th {\n",
              "        text-align: right;\n",
              "    }\n",
              "</style>\n",
              "<table border=\"1\" class=\"dataframe\">\n",
              "  <thead>\n",
              "    <tr>\n",
              "      <th></th>\n",
              "      <th>count</th>\n",
              "      <th>sum</th>\n",
              "      <th>conversion_debt</th>\n",
              "    </tr>\n",
              "    <tr>\n",
              "      <th></th>\n",
              "      <th>debt</th>\n",
              "      <th>debt</th>\n",
              "      <th></th>\n",
              "    </tr>\n",
              "    <tr>\n",
              "      <th>children</th>\n",
              "      <th></th>\n",
              "      <th></th>\n",
              "      <th></th>\n",
              "    </tr>\n",
              "  </thead>\n",
              "  <tbody>\n",
              "    <tr>\n",
              "      <th>0</th>\n",
              "      <td>14091</td>\n",
              "      <td>1063</td>\n",
              "      <td>7.543822</td>\n",
              "    </tr>\n",
              "    <tr>\n",
              "      <th>1</th>\n",
              "      <td>4808</td>\n",
              "      <td>444</td>\n",
              "      <td>9.234609</td>\n",
              "    </tr>\n",
              "    <tr>\n",
              "      <th>2</th>\n",
              "      <td>2052</td>\n",
              "      <td>194</td>\n",
              "      <td>9.454191</td>\n",
              "    </tr>\n",
              "    <tr>\n",
              "      <th>3</th>\n",
              "      <td>330</td>\n",
              "      <td>27</td>\n",
              "      <td>8.181818</td>\n",
              "    </tr>\n",
              "    <tr>\n",
              "      <th>4</th>\n",
              "      <td>41</td>\n",
              "      <td>4</td>\n",
              "      <td>9.756098</td>\n",
              "    </tr>\n",
              "    <tr>\n",
              "      <th>5</th>\n",
              "      <td>9</td>\n",
              "      <td>0</td>\n",
              "      <td>0.000000</td>\n",
              "    </tr>\n",
              "  </tbody>\n",
              "</table>\n",
              "</div>\n",
              "    <div class=\"colab-df-buttons\">\n",
              "\n",
              "  <div class=\"colab-df-container\">\n",
              "    <button class=\"colab-df-convert\" onclick=\"convertToInteractive('df-ae28685b-6146-4105-97ca-cf8b3dedee8f')\"\n",
              "            title=\"Convert this dataframe to an interactive table.\"\n",
              "            style=\"display:none;\">\n",
              "\n",
              "  <svg xmlns=\"http://www.w3.org/2000/svg\" height=\"24px\" viewBox=\"0 -960 960 960\">\n",
              "    <path d=\"M120-120v-720h720v720H120Zm60-500h600v-160H180v160Zm220 220h160v-160H400v160Zm0 220h160v-160H400v160ZM180-400h160v-160H180v160Zm440 0h160v-160H620v160ZM180-180h160v-160H180v160Zm440 0h160v-160H620v160Z\"/>\n",
              "  </svg>\n",
              "    </button>\n",
              "\n",
              "  <style>\n",
              "    .colab-df-container {\n",
              "      display:flex;\n",
              "      gap: 12px;\n",
              "    }\n",
              "\n",
              "    .colab-df-convert {\n",
              "      background-color: #E8F0FE;\n",
              "      border: none;\n",
              "      border-radius: 50%;\n",
              "      cursor: pointer;\n",
              "      display: none;\n",
              "      fill: #1967D2;\n",
              "      height: 32px;\n",
              "      padding: 0 0 0 0;\n",
              "      width: 32px;\n",
              "    }\n",
              "\n",
              "    .colab-df-convert:hover {\n",
              "      background-color: #E2EBFA;\n",
              "      box-shadow: 0px 1px 2px rgba(60, 64, 67, 0.3), 0px 1px 3px 1px rgba(60, 64, 67, 0.15);\n",
              "      fill: #174EA6;\n",
              "    }\n",
              "\n",
              "    .colab-df-buttons div {\n",
              "      margin-bottom: 4px;\n",
              "    }\n",
              "\n",
              "    [theme=dark] .colab-df-convert {\n",
              "      background-color: #3B4455;\n",
              "      fill: #D2E3FC;\n",
              "    }\n",
              "\n",
              "    [theme=dark] .colab-df-convert:hover {\n",
              "      background-color: #434B5C;\n",
              "      box-shadow: 0px 1px 3px 1px rgba(0, 0, 0, 0.15);\n",
              "      filter: drop-shadow(0px 1px 2px rgba(0, 0, 0, 0.3));\n",
              "      fill: #FFFFFF;\n",
              "    }\n",
              "  </style>\n",
              "\n",
              "    <script>\n",
              "      const buttonEl =\n",
              "        document.querySelector('#df-ae28685b-6146-4105-97ca-cf8b3dedee8f button.colab-df-convert');\n",
              "      buttonEl.style.display =\n",
              "        google.colab.kernel.accessAllowed ? 'block' : 'none';\n",
              "\n",
              "      async function convertToInteractive(key) {\n",
              "        const element = document.querySelector('#df-ae28685b-6146-4105-97ca-cf8b3dedee8f');\n",
              "        const dataTable =\n",
              "          await google.colab.kernel.invokeFunction('convertToInteractive',\n",
              "                                                    [key], {});\n",
              "        if (!dataTable) return;\n",
              "\n",
              "        const docLinkHtml = 'Like what you see? Visit the ' +\n",
              "          '<a target=\"_blank\" href=https://colab.research.google.com/notebooks/data_table.ipynb>data table notebook</a>'\n",
              "          + ' to learn more about interactive tables.';\n",
              "        element.innerHTML = '';\n",
              "        dataTable['output_type'] = 'display_data';\n",
              "        await google.colab.output.renderOutput(dataTable, element);\n",
              "        const docLink = document.createElement('div');\n",
              "        docLink.innerHTML = docLinkHtml;\n",
              "        element.appendChild(docLink);\n",
              "      }\n",
              "    </script>\n",
              "  </div>\n",
              "\n",
              "\n",
              "<div id=\"df-3b5d336d-8ae8-42f8-bb30-717de1f8d325\">\n",
              "  <button class=\"colab-df-quickchart\" onclick=\"quickchart('df-3b5d336d-8ae8-42f8-bb30-717de1f8d325')\"\n",
              "            title=\"Suggest charts\"\n",
              "            style=\"display:none;\">\n",
              "\n",
              "<svg xmlns=\"http://www.w3.org/2000/svg\" height=\"24px\"viewBox=\"0 0 24 24\"\n",
              "     width=\"24px\">\n",
              "    <g>\n",
              "        <path d=\"M19 3H5c-1.1 0-2 .9-2 2v14c0 1.1.9 2 2 2h14c1.1 0 2-.9 2-2V5c0-1.1-.9-2-2-2zM9 17H7v-7h2v7zm4 0h-2V7h2v10zm4 0h-2v-4h2v4z\"/>\n",
              "    </g>\n",
              "</svg>\n",
              "  </button>\n",
              "\n",
              "<style>\n",
              "  .colab-df-quickchart {\n",
              "      --bg-color: #E8F0FE;\n",
              "      --fill-color: #1967D2;\n",
              "      --hover-bg-color: #E2EBFA;\n",
              "      --hover-fill-color: #174EA6;\n",
              "      --disabled-fill-color: #AAA;\n",
              "      --disabled-bg-color: #DDD;\n",
              "  }\n",
              "\n",
              "  [theme=dark] .colab-df-quickchart {\n",
              "      --bg-color: #3B4455;\n",
              "      --fill-color: #D2E3FC;\n",
              "      --hover-bg-color: #434B5C;\n",
              "      --hover-fill-color: #FFFFFF;\n",
              "      --disabled-bg-color: #3B4455;\n",
              "      --disabled-fill-color: #666;\n",
              "  }\n",
              "\n",
              "  .colab-df-quickchart {\n",
              "    background-color: var(--bg-color);\n",
              "    border: none;\n",
              "    border-radius: 50%;\n",
              "    cursor: pointer;\n",
              "    display: none;\n",
              "    fill: var(--fill-color);\n",
              "    height: 32px;\n",
              "    padding: 0;\n",
              "    width: 32px;\n",
              "  }\n",
              "\n",
              "  .colab-df-quickchart:hover {\n",
              "    background-color: var(--hover-bg-color);\n",
              "    box-shadow: 0 1px 2px rgba(60, 64, 67, 0.3), 0 1px 3px 1px rgba(60, 64, 67, 0.15);\n",
              "    fill: var(--button-hover-fill-color);\n",
              "  }\n",
              "\n",
              "  .colab-df-quickchart-complete:disabled,\n",
              "  .colab-df-quickchart-complete:disabled:hover {\n",
              "    background-color: var(--disabled-bg-color);\n",
              "    fill: var(--disabled-fill-color);\n",
              "    box-shadow: none;\n",
              "  }\n",
              "\n",
              "  .colab-df-spinner {\n",
              "    border: 2px solid var(--fill-color);\n",
              "    border-color: transparent;\n",
              "    border-bottom-color: var(--fill-color);\n",
              "    animation:\n",
              "      spin 1s steps(1) infinite;\n",
              "  }\n",
              "\n",
              "  @keyframes spin {\n",
              "    0% {\n",
              "      border-color: transparent;\n",
              "      border-bottom-color: var(--fill-color);\n",
              "      border-left-color: var(--fill-color);\n",
              "    }\n",
              "    20% {\n",
              "      border-color: transparent;\n",
              "      border-left-color: var(--fill-color);\n",
              "      border-top-color: var(--fill-color);\n",
              "    }\n",
              "    30% {\n",
              "      border-color: transparent;\n",
              "      border-left-color: var(--fill-color);\n",
              "      border-top-color: var(--fill-color);\n",
              "      border-right-color: var(--fill-color);\n",
              "    }\n",
              "    40% {\n",
              "      border-color: transparent;\n",
              "      border-right-color: var(--fill-color);\n",
              "      border-top-color: var(--fill-color);\n",
              "    }\n",
              "    60% {\n",
              "      border-color: transparent;\n",
              "      border-right-color: var(--fill-color);\n",
              "    }\n",
              "    80% {\n",
              "      border-color: transparent;\n",
              "      border-right-color: var(--fill-color);\n",
              "      border-bottom-color: var(--fill-color);\n",
              "    }\n",
              "    90% {\n",
              "      border-color: transparent;\n",
              "      border-bottom-color: var(--fill-color);\n",
              "    }\n",
              "  }\n",
              "</style>\n",
              "\n",
              "  <script>\n",
              "    async function quickchart(key) {\n",
              "      const quickchartButtonEl =\n",
              "        document.querySelector('#' + key + ' button');\n",
              "      quickchartButtonEl.disabled = true;  // To prevent multiple clicks.\n",
              "      quickchartButtonEl.classList.add('colab-df-spinner');\n",
              "      try {\n",
              "        const charts = await google.colab.kernel.invokeFunction(\n",
              "            'suggestCharts', [key], {});\n",
              "      } catch (error) {\n",
              "        console.error('Error during call to suggestCharts:', error);\n",
              "      }\n",
              "      quickchartButtonEl.classList.remove('colab-df-spinner');\n",
              "      quickchartButtonEl.classList.add('colab-df-quickchart-complete');\n",
              "    }\n",
              "    (() => {\n",
              "      let quickchartButtonEl =\n",
              "        document.querySelector('#df-3b5d336d-8ae8-42f8-bb30-717de1f8d325 button');\n",
              "      quickchartButtonEl.style.display =\n",
              "        google.colab.kernel.accessAllowed ? 'block' : 'none';\n",
              "    })();\n",
              "  </script>\n",
              "</div>\n",
              "    </div>\n",
              "  </div>\n"
            ],
            "application/vnd.google.colaboratory.intrinsic+json": {
              "type": "dataframe",
              "variable_name": "children_debt",
              "summary": "{\n  \"name\": \"children_debt\",\n  \"rows\": 6,\n  \"fields\": [\n    {\n      \"column\": [\n        \"children\",\n        \"\"\n      ],\n      \"properties\": {\n        \"dtype\": \"number\",\n        \"std\": 1,\n        \"min\": 0,\n        \"max\": 5,\n        \"num_unique_values\": 6,\n        \"samples\": [\n          0,\n          1,\n          5\n        ],\n        \"semantic_type\": \"\",\n        \"description\": \"\"\n      }\n    },\n    {\n      \"column\": [\n        \"count\",\n        \"debt\"\n      ],\n      \"properties\": {\n        \"dtype\": \"number\",\n        \"std\": 5480,\n        \"min\": 9,\n        \"max\": 14091,\n        \"num_unique_values\": 6,\n        \"samples\": [\n          14091,\n          4808,\n          9\n        ],\n        \"semantic_type\": \"\",\n        \"description\": \"\"\n      }\n    },\n    {\n      \"column\": [\n        \"sum\",\n        \"debt\"\n      ],\n      \"properties\": {\n        \"dtype\": \"number\",\n        \"std\": 416,\n        \"min\": 0,\n        \"max\": 1063,\n        \"num_unique_values\": 6,\n        \"samples\": [\n          1063,\n          444,\n          0\n        ],\n        \"semantic_type\": \"\",\n        \"description\": \"\"\n      }\n    },\n    {\n      \"column\": [\n        \"conversion_debt\",\n        \"\"\n      ],\n      \"properties\": {\n        \"dtype\": \"number\",\n        \"std\": 3.7018869703020147,\n        \"min\": 0.0,\n        \"max\": 9.75609756097561,\n        \"num_unique_values\": 6,\n        \"samples\": [\n          7.543822297920659,\n          9.234608985024959,\n          0.0\n        ],\n        \"semantic_type\": \"\",\n        \"description\": \"\"\n      }\n    }\n  ]\n}"
            }
          },
          "metadata": {},
          "execution_count": 25
        }
      ],
      "source": [
        "#выведем сводную таблицу по столбцу children\n",
        "children_debt = data.pivot_table(index='children', values='debt', aggfunc=['count','sum'])\n",
        "children_debt['conversion_debt'] = (children_debt[('sum', 'debt')]/children_debt[('count', 'debt')])*100\n",
        "children_debt"
      ]
    },
    {
      "cell_type": "markdown",
      "id": "a2b4f69b",
      "metadata": {
        "deletable": false,
        "id": "a2b4f69b"
      },
      "source": [
        "**Вывод:** Прямой зависимости как таковой нет, однако, исходя из таблицы видно, что реже всех не возвращают кредиты в срок клиенты без детей - 7,54%, доля просроченных кредитов у клиентов имеющих от 1 до 4 детей варьируется от 8,18 % до 9,76 %. Выборка с клиентами, имеющими 5 детей, является непоказательной из-за малого количества клиентов, т.к. поэтому ее можно не учитывать."
      ]
    },
    {
      "cell_type": "markdown",
      "id": "a2027674",
      "metadata": {
        "deletable": false,
        "editable": false,
        "id": "a2027674"
      },
      "source": [
        "#### Зависимость между семейным положением"
      ]
    },
    {
      "cell_type": "markdown",
      "source": [
        "**Гипотеза:**\n",
        "\n",
        "Есть ли зависимость между семейным положением и возвратом кредита в срок?"
      ],
      "metadata": {
        "id": "zaUbTVTJgHBP"
      },
      "id": "zaUbTVTJgHBP"
    },
    {
      "cell_type": "code",
      "execution_count": null,
      "id": "ea557c36",
      "metadata": {
        "deletable": false,
        "id": "ea557c36",
        "outputId": "af4c4dea-faab-4c09-8c4a-4dff13456582",
        "colab": {
          "base_uri": "https://localhost:8080/",
          "height": 269
        }
      },
      "outputs": [
        {
          "output_type": "execute_result",
          "data": {
            "text/plain": [
              "                       count  sum conversion_debt\n",
              "                        debt debt                \n",
              "family_status                                    \n",
              "Не женат / не замужем   2796  273        9.763948\n",
              "в разводе               1189   84        7.064760\n",
              "вдовец / вдова           951   63        6.624606\n",
              "гражданский брак        4134  385        9.313014\n",
              "женат / замужем        12261  927        7.560558"
            ],
            "text/html": [
              "\n",
              "  <div id=\"df-d125f87c-378b-48b1-ab8e-20a19109f30c\" class=\"colab-df-container\">\n",
              "    <div>\n",
              "<style scoped>\n",
              "    .dataframe tbody tr th:only-of-type {\n",
              "        vertical-align: middle;\n",
              "    }\n",
              "\n",
              "    .dataframe tbody tr th {\n",
              "        vertical-align: top;\n",
              "    }\n",
              "\n",
              "    .dataframe thead tr th {\n",
              "        text-align: left;\n",
              "    }\n",
              "\n",
              "    .dataframe thead tr:last-of-type th {\n",
              "        text-align: right;\n",
              "    }\n",
              "</style>\n",
              "<table border=\"1\" class=\"dataframe\">\n",
              "  <thead>\n",
              "    <tr>\n",
              "      <th></th>\n",
              "      <th>count</th>\n",
              "      <th>sum</th>\n",
              "      <th>conversion_debt</th>\n",
              "    </tr>\n",
              "    <tr>\n",
              "      <th></th>\n",
              "      <th>debt</th>\n",
              "      <th>debt</th>\n",
              "      <th></th>\n",
              "    </tr>\n",
              "    <tr>\n",
              "      <th>family_status</th>\n",
              "      <th></th>\n",
              "      <th></th>\n",
              "      <th></th>\n",
              "    </tr>\n",
              "  </thead>\n",
              "  <tbody>\n",
              "    <tr>\n",
              "      <th>Не женат / не замужем</th>\n",
              "      <td>2796</td>\n",
              "      <td>273</td>\n",
              "      <td>9.763948</td>\n",
              "    </tr>\n",
              "    <tr>\n",
              "      <th>в разводе</th>\n",
              "      <td>1189</td>\n",
              "      <td>84</td>\n",
              "      <td>7.064760</td>\n",
              "    </tr>\n",
              "    <tr>\n",
              "      <th>вдовец / вдова</th>\n",
              "      <td>951</td>\n",
              "      <td>63</td>\n",
              "      <td>6.624606</td>\n",
              "    </tr>\n",
              "    <tr>\n",
              "      <th>гражданский брак</th>\n",
              "      <td>4134</td>\n",
              "      <td>385</td>\n",
              "      <td>9.313014</td>\n",
              "    </tr>\n",
              "    <tr>\n",
              "      <th>женат / замужем</th>\n",
              "      <td>12261</td>\n",
              "      <td>927</td>\n",
              "      <td>7.560558</td>\n",
              "    </tr>\n",
              "  </tbody>\n",
              "</table>\n",
              "</div>\n",
              "    <div class=\"colab-df-buttons\">\n",
              "\n",
              "  <div class=\"colab-df-container\">\n",
              "    <button class=\"colab-df-convert\" onclick=\"convertToInteractive('df-d125f87c-378b-48b1-ab8e-20a19109f30c')\"\n",
              "            title=\"Convert this dataframe to an interactive table.\"\n",
              "            style=\"display:none;\">\n",
              "\n",
              "  <svg xmlns=\"http://www.w3.org/2000/svg\" height=\"24px\" viewBox=\"0 -960 960 960\">\n",
              "    <path d=\"M120-120v-720h720v720H120Zm60-500h600v-160H180v160Zm220 220h160v-160H400v160Zm0 220h160v-160H400v160ZM180-400h160v-160H180v160Zm440 0h160v-160H620v160ZM180-180h160v-160H180v160Zm440 0h160v-160H620v160Z\"/>\n",
              "  </svg>\n",
              "    </button>\n",
              "\n",
              "  <style>\n",
              "    .colab-df-container {\n",
              "      display:flex;\n",
              "      gap: 12px;\n",
              "    }\n",
              "\n",
              "    .colab-df-convert {\n",
              "      background-color: #E8F0FE;\n",
              "      border: none;\n",
              "      border-radius: 50%;\n",
              "      cursor: pointer;\n",
              "      display: none;\n",
              "      fill: #1967D2;\n",
              "      height: 32px;\n",
              "      padding: 0 0 0 0;\n",
              "      width: 32px;\n",
              "    }\n",
              "\n",
              "    .colab-df-convert:hover {\n",
              "      background-color: #E2EBFA;\n",
              "      box-shadow: 0px 1px 2px rgba(60, 64, 67, 0.3), 0px 1px 3px 1px rgba(60, 64, 67, 0.15);\n",
              "      fill: #174EA6;\n",
              "    }\n",
              "\n",
              "    .colab-df-buttons div {\n",
              "      margin-bottom: 4px;\n",
              "    }\n",
              "\n",
              "    [theme=dark] .colab-df-convert {\n",
              "      background-color: #3B4455;\n",
              "      fill: #D2E3FC;\n",
              "    }\n",
              "\n",
              "    [theme=dark] .colab-df-convert:hover {\n",
              "      background-color: #434B5C;\n",
              "      box-shadow: 0px 1px 3px 1px rgba(0, 0, 0, 0.15);\n",
              "      filter: drop-shadow(0px 1px 2px rgba(0, 0, 0, 0.3));\n",
              "      fill: #FFFFFF;\n",
              "    }\n",
              "  </style>\n",
              "\n",
              "    <script>\n",
              "      const buttonEl =\n",
              "        document.querySelector('#df-d125f87c-378b-48b1-ab8e-20a19109f30c button.colab-df-convert');\n",
              "      buttonEl.style.display =\n",
              "        google.colab.kernel.accessAllowed ? 'block' : 'none';\n",
              "\n",
              "      async function convertToInteractive(key) {\n",
              "        const element = document.querySelector('#df-d125f87c-378b-48b1-ab8e-20a19109f30c');\n",
              "        const dataTable =\n",
              "          await google.colab.kernel.invokeFunction('convertToInteractive',\n",
              "                                                    [key], {});\n",
              "        if (!dataTable) return;\n",
              "\n",
              "        const docLinkHtml = 'Like what you see? Visit the ' +\n",
              "          '<a target=\"_blank\" href=https://colab.research.google.com/notebooks/data_table.ipynb>data table notebook</a>'\n",
              "          + ' to learn more about interactive tables.';\n",
              "        element.innerHTML = '';\n",
              "        dataTable['output_type'] = 'display_data';\n",
              "        await google.colab.output.renderOutput(dataTable, element);\n",
              "        const docLink = document.createElement('div');\n",
              "        docLink.innerHTML = docLinkHtml;\n",
              "        element.appendChild(docLink);\n",
              "      }\n",
              "    </script>\n",
              "  </div>\n",
              "\n",
              "\n",
              "<div id=\"df-47d72ec6-ec58-46f5-8f2c-28f2c0f16e7a\">\n",
              "  <button class=\"colab-df-quickchart\" onclick=\"quickchart('df-47d72ec6-ec58-46f5-8f2c-28f2c0f16e7a')\"\n",
              "            title=\"Suggest charts\"\n",
              "            style=\"display:none;\">\n",
              "\n",
              "<svg xmlns=\"http://www.w3.org/2000/svg\" height=\"24px\"viewBox=\"0 0 24 24\"\n",
              "     width=\"24px\">\n",
              "    <g>\n",
              "        <path d=\"M19 3H5c-1.1 0-2 .9-2 2v14c0 1.1.9 2 2 2h14c1.1 0 2-.9 2-2V5c0-1.1-.9-2-2-2zM9 17H7v-7h2v7zm4 0h-2V7h2v10zm4 0h-2v-4h2v4z\"/>\n",
              "    </g>\n",
              "</svg>\n",
              "  </button>\n",
              "\n",
              "<style>\n",
              "  .colab-df-quickchart {\n",
              "      --bg-color: #E8F0FE;\n",
              "      --fill-color: #1967D2;\n",
              "      --hover-bg-color: #E2EBFA;\n",
              "      --hover-fill-color: #174EA6;\n",
              "      --disabled-fill-color: #AAA;\n",
              "      --disabled-bg-color: #DDD;\n",
              "  }\n",
              "\n",
              "  [theme=dark] .colab-df-quickchart {\n",
              "      --bg-color: #3B4455;\n",
              "      --fill-color: #D2E3FC;\n",
              "      --hover-bg-color: #434B5C;\n",
              "      --hover-fill-color: #FFFFFF;\n",
              "      --disabled-bg-color: #3B4455;\n",
              "      --disabled-fill-color: #666;\n",
              "  }\n",
              "\n",
              "  .colab-df-quickchart {\n",
              "    background-color: var(--bg-color);\n",
              "    border: none;\n",
              "    border-radius: 50%;\n",
              "    cursor: pointer;\n",
              "    display: none;\n",
              "    fill: var(--fill-color);\n",
              "    height: 32px;\n",
              "    padding: 0;\n",
              "    width: 32px;\n",
              "  }\n",
              "\n",
              "  .colab-df-quickchart:hover {\n",
              "    background-color: var(--hover-bg-color);\n",
              "    box-shadow: 0 1px 2px rgba(60, 64, 67, 0.3), 0 1px 3px 1px rgba(60, 64, 67, 0.15);\n",
              "    fill: var(--button-hover-fill-color);\n",
              "  }\n",
              "\n",
              "  .colab-df-quickchart-complete:disabled,\n",
              "  .colab-df-quickchart-complete:disabled:hover {\n",
              "    background-color: var(--disabled-bg-color);\n",
              "    fill: var(--disabled-fill-color);\n",
              "    box-shadow: none;\n",
              "  }\n",
              "\n",
              "  .colab-df-spinner {\n",
              "    border: 2px solid var(--fill-color);\n",
              "    border-color: transparent;\n",
              "    border-bottom-color: var(--fill-color);\n",
              "    animation:\n",
              "      spin 1s steps(1) infinite;\n",
              "  }\n",
              "\n",
              "  @keyframes spin {\n",
              "    0% {\n",
              "      border-color: transparent;\n",
              "      border-bottom-color: var(--fill-color);\n",
              "      border-left-color: var(--fill-color);\n",
              "    }\n",
              "    20% {\n",
              "      border-color: transparent;\n",
              "      border-left-color: var(--fill-color);\n",
              "      border-top-color: var(--fill-color);\n",
              "    }\n",
              "    30% {\n",
              "      border-color: transparent;\n",
              "      border-left-color: var(--fill-color);\n",
              "      border-top-color: var(--fill-color);\n",
              "      border-right-color: var(--fill-color);\n",
              "    }\n",
              "    40% {\n",
              "      border-color: transparent;\n",
              "      border-right-color: var(--fill-color);\n",
              "      border-top-color: var(--fill-color);\n",
              "    }\n",
              "    60% {\n",
              "      border-color: transparent;\n",
              "      border-right-color: var(--fill-color);\n",
              "    }\n",
              "    80% {\n",
              "      border-color: transparent;\n",
              "      border-right-color: var(--fill-color);\n",
              "      border-bottom-color: var(--fill-color);\n",
              "    }\n",
              "    90% {\n",
              "      border-color: transparent;\n",
              "      border-bottom-color: var(--fill-color);\n",
              "    }\n",
              "  }\n",
              "</style>\n",
              "\n",
              "  <script>\n",
              "    async function quickchart(key) {\n",
              "      const quickchartButtonEl =\n",
              "        document.querySelector('#' + key + ' button');\n",
              "      quickchartButtonEl.disabled = true;  // To prevent multiple clicks.\n",
              "      quickchartButtonEl.classList.add('colab-df-spinner');\n",
              "      try {\n",
              "        const charts = await google.colab.kernel.invokeFunction(\n",
              "            'suggestCharts', [key], {});\n",
              "      } catch (error) {\n",
              "        console.error('Error during call to suggestCharts:', error);\n",
              "      }\n",
              "      quickchartButtonEl.classList.remove('colab-df-spinner');\n",
              "      quickchartButtonEl.classList.add('colab-df-quickchart-complete');\n",
              "    }\n",
              "    (() => {\n",
              "      let quickchartButtonEl =\n",
              "        document.querySelector('#df-47d72ec6-ec58-46f5-8f2c-28f2c0f16e7a button');\n",
              "      quickchartButtonEl.style.display =\n",
              "        google.colab.kernel.accessAllowed ? 'block' : 'none';\n",
              "    })();\n",
              "  </script>\n",
              "</div>\n",
              "    </div>\n",
              "  </div>\n"
            ],
            "application/vnd.google.colaboratory.intrinsic+json": {
              "type": "dataframe",
              "variable_name": "family_debt",
              "summary": "{\n  \"name\": \"family_debt\",\n  \"rows\": 5,\n  \"fields\": [\n    {\n      \"column\": [\n        \"family_status\",\n        \"\"\n      ],\n      \"properties\": {\n        \"dtype\": \"string\",\n        \"num_unique_values\": 5,\n        \"samples\": [\n          \"\\u0432 \\u0440\\u0430\\u0437\\u0432\\u043e\\u0434\\u0435\",\n          \"\\u0436\\u0435\\u043d\\u0430\\u0442 / \\u0437\\u0430\\u043c\\u0443\\u0436\\u0435\\u043c\",\n          \"\\u0432\\u0434\\u043e\\u0432\\u0435\\u0446 / \\u0432\\u0434\\u043e\\u0432\\u0430\"\n        ],\n        \"semantic_type\": \"\",\n        \"description\": \"\"\n      }\n    },\n    {\n      \"column\": [\n        \"count\",\n        \"debt\"\n      ],\n      \"properties\": {\n        \"dtype\": \"number\",\n        \"std\": 4651,\n        \"min\": 951,\n        \"max\": 12261,\n        \"num_unique_values\": 5,\n        \"samples\": [\n          1189,\n          12261,\n          951\n        ],\n        \"semantic_type\": \"\",\n        \"description\": \"\"\n      }\n    },\n    {\n      \"column\": [\n        \"sum\",\n        \"debt\"\n      ],\n      \"properties\": {\n        \"dtype\": \"number\",\n        \"std\": 351,\n        \"min\": 63,\n        \"max\": 927,\n        \"num_unique_values\": 5,\n        \"samples\": [\n          84,\n          927,\n          63\n        ],\n        \"semantic_type\": \"\",\n        \"description\": \"\"\n      }\n    },\n    {\n      \"column\": [\n        \"conversion_debt\",\n        \"\"\n      ],\n      \"properties\": {\n        \"dtype\": \"number\",\n        \"std\": 1.3940625367939457,\n        \"min\": 6.624605678233439,\n        \"max\": 9.763948497854077,\n        \"num_unique_values\": 5,\n        \"samples\": [\n          7.064760302775442,\n          7.560557866405676,\n          6.624605678233439\n        ],\n        \"semantic_type\": \"\",\n        \"description\": \"\"\n      }\n    }\n  ]\n}"
            }
          },
          "metadata": {},
          "execution_count": 26
        }
      ],
      "source": [
        "#создадим сводную таблицу по столбцу family_status\n",
        "family_debt = data.pivot_table(index='family_status', values='debt', aggfunc=['count','sum'])\n",
        "family_debt['conversion_debt'] = (family_debt[('sum', 'debt')]/family_debt[('count', 'debt')])*100\n",
        "family_debt"
      ]
    },
    {
      "cell_type": "markdown",
      "id": "6a688fa0",
      "metadata": {
        "deletable": false,
        "id": "6a688fa0"
      },
      "source": [
        "**Вывод:** В большей степени просрочку допускают холостые заемщики - 9,76 % от общего количества всех не женатых / не замужних, на общем фоне также выделяются лица, живущие в гражданском браке - 9,31 % от общего числа состоящих в гражданском браке."
      ]
    },
    {
      "cell_type": "markdown",
      "id": "87248267",
      "metadata": {
        "deletable": false,
        "editable": false,
        "id": "87248267"
      },
      "source": [
        "#### Зависимость между уровнем дохода"
      ]
    },
    {
      "cell_type": "markdown",
      "source": [
        "**Гипотеза:**\n",
        "\n",
        "Есть ли зависимость между уровнем дохода и возвратом кредита в срок?"
      ],
      "metadata": {
        "id": "7YBzNLZwjvxP"
      },
      "id": "7YBzNLZwjvxP"
    },
    {
      "cell_type": "code",
      "execution_count": null,
      "id": "df67552d",
      "metadata": {
        "deletable": false,
        "id": "df67552d",
        "outputId": "eabb741a-9e35-48fd-f58b-057ce268a31a",
        "colab": {
          "base_uri": "https://localhost:8080/",
          "height": 269
        }
      },
      "outputs": [
        {
          "output_type": "execute_result",
          "data": {
            "text/plain": [
              "                       count   sum conversion_debt\n",
              "                        debt  debt                \n",
              "total_income_category                             \n",
              "A                         25     2        8.000000\n",
              "B                       5014   354        7.060231\n",
              "C                      15921  1353        8.498210\n",
              "D                        349    21        6.017192\n",
              "E                         22     2        9.090909"
            ],
            "text/html": [
              "\n",
              "  <div id=\"df-2fef6c90-63bd-4798-84d2-c4a409d83d10\" class=\"colab-df-container\">\n",
              "    <div>\n",
              "<style scoped>\n",
              "    .dataframe tbody tr th:only-of-type {\n",
              "        vertical-align: middle;\n",
              "    }\n",
              "\n",
              "    .dataframe tbody tr th {\n",
              "        vertical-align: top;\n",
              "    }\n",
              "\n",
              "    .dataframe thead tr th {\n",
              "        text-align: left;\n",
              "    }\n",
              "\n",
              "    .dataframe thead tr:last-of-type th {\n",
              "        text-align: right;\n",
              "    }\n",
              "</style>\n",
              "<table border=\"1\" class=\"dataframe\">\n",
              "  <thead>\n",
              "    <tr>\n",
              "      <th></th>\n",
              "      <th>count</th>\n",
              "      <th>sum</th>\n",
              "      <th>conversion_debt</th>\n",
              "    </tr>\n",
              "    <tr>\n",
              "      <th></th>\n",
              "      <th>debt</th>\n",
              "      <th>debt</th>\n",
              "      <th></th>\n",
              "    </tr>\n",
              "    <tr>\n",
              "      <th>total_income_category</th>\n",
              "      <th></th>\n",
              "      <th></th>\n",
              "      <th></th>\n",
              "    </tr>\n",
              "  </thead>\n",
              "  <tbody>\n",
              "    <tr>\n",
              "      <th>A</th>\n",
              "      <td>25</td>\n",
              "      <td>2</td>\n",
              "      <td>8.000000</td>\n",
              "    </tr>\n",
              "    <tr>\n",
              "      <th>B</th>\n",
              "      <td>5014</td>\n",
              "      <td>354</td>\n",
              "      <td>7.060231</td>\n",
              "    </tr>\n",
              "    <tr>\n",
              "      <th>C</th>\n",
              "      <td>15921</td>\n",
              "      <td>1353</td>\n",
              "      <td>8.498210</td>\n",
              "    </tr>\n",
              "    <tr>\n",
              "      <th>D</th>\n",
              "      <td>349</td>\n",
              "      <td>21</td>\n",
              "      <td>6.017192</td>\n",
              "    </tr>\n",
              "    <tr>\n",
              "      <th>E</th>\n",
              "      <td>22</td>\n",
              "      <td>2</td>\n",
              "      <td>9.090909</td>\n",
              "    </tr>\n",
              "  </tbody>\n",
              "</table>\n",
              "</div>\n",
              "    <div class=\"colab-df-buttons\">\n",
              "\n",
              "  <div class=\"colab-df-container\">\n",
              "    <button class=\"colab-df-convert\" onclick=\"convertToInteractive('df-2fef6c90-63bd-4798-84d2-c4a409d83d10')\"\n",
              "            title=\"Convert this dataframe to an interactive table.\"\n",
              "            style=\"display:none;\">\n",
              "\n",
              "  <svg xmlns=\"http://www.w3.org/2000/svg\" height=\"24px\" viewBox=\"0 -960 960 960\">\n",
              "    <path d=\"M120-120v-720h720v720H120Zm60-500h600v-160H180v160Zm220 220h160v-160H400v160Zm0 220h160v-160H400v160ZM180-400h160v-160H180v160Zm440 0h160v-160H620v160ZM180-180h160v-160H180v160Zm440 0h160v-160H620v160Z\"/>\n",
              "  </svg>\n",
              "    </button>\n",
              "\n",
              "  <style>\n",
              "    .colab-df-container {\n",
              "      display:flex;\n",
              "      gap: 12px;\n",
              "    }\n",
              "\n",
              "    .colab-df-convert {\n",
              "      background-color: #E8F0FE;\n",
              "      border: none;\n",
              "      border-radius: 50%;\n",
              "      cursor: pointer;\n",
              "      display: none;\n",
              "      fill: #1967D2;\n",
              "      height: 32px;\n",
              "      padding: 0 0 0 0;\n",
              "      width: 32px;\n",
              "    }\n",
              "\n",
              "    .colab-df-convert:hover {\n",
              "      background-color: #E2EBFA;\n",
              "      box-shadow: 0px 1px 2px rgba(60, 64, 67, 0.3), 0px 1px 3px 1px rgba(60, 64, 67, 0.15);\n",
              "      fill: #174EA6;\n",
              "    }\n",
              "\n",
              "    .colab-df-buttons div {\n",
              "      margin-bottom: 4px;\n",
              "    }\n",
              "\n",
              "    [theme=dark] .colab-df-convert {\n",
              "      background-color: #3B4455;\n",
              "      fill: #D2E3FC;\n",
              "    }\n",
              "\n",
              "    [theme=dark] .colab-df-convert:hover {\n",
              "      background-color: #434B5C;\n",
              "      box-shadow: 0px 1px 3px 1px rgba(0, 0, 0, 0.15);\n",
              "      filter: drop-shadow(0px 1px 2px rgba(0, 0, 0, 0.3));\n",
              "      fill: #FFFFFF;\n",
              "    }\n",
              "  </style>\n",
              "\n",
              "    <script>\n",
              "      const buttonEl =\n",
              "        document.querySelector('#df-2fef6c90-63bd-4798-84d2-c4a409d83d10 button.colab-df-convert');\n",
              "      buttonEl.style.display =\n",
              "        google.colab.kernel.accessAllowed ? 'block' : 'none';\n",
              "\n",
              "      async function convertToInteractive(key) {\n",
              "        const element = document.querySelector('#df-2fef6c90-63bd-4798-84d2-c4a409d83d10');\n",
              "        const dataTable =\n",
              "          await google.colab.kernel.invokeFunction('convertToInteractive',\n",
              "                                                    [key], {});\n",
              "        if (!dataTable) return;\n",
              "\n",
              "        const docLinkHtml = 'Like what you see? Visit the ' +\n",
              "          '<a target=\"_blank\" href=https://colab.research.google.com/notebooks/data_table.ipynb>data table notebook</a>'\n",
              "          + ' to learn more about interactive tables.';\n",
              "        element.innerHTML = '';\n",
              "        dataTable['output_type'] = 'display_data';\n",
              "        await google.colab.output.renderOutput(dataTable, element);\n",
              "        const docLink = document.createElement('div');\n",
              "        docLink.innerHTML = docLinkHtml;\n",
              "        element.appendChild(docLink);\n",
              "      }\n",
              "    </script>\n",
              "  </div>\n",
              "\n",
              "\n",
              "<div id=\"df-eafbf4f5-1df4-49dc-b360-c7fa4132cbea\">\n",
              "  <button class=\"colab-df-quickchart\" onclick=\"quickchart('df-eafbf4f5-1df4-49dc-b360-c7fa4132cbea')\"\n",
              "            title=\"Suggest charts\"\n",
              "            style=\"display:none;\">\n",
              "\n",
              "<svg xmlns=\"http://www.w3.org/2000/svg\" height=\"24px\"viewBox=\"0 0 24 24\"\n",
              "     width=\"24px\">\n",
              "    <g>\n",
              "        <path d=\"M19 3H5c-1.1 0-2 .9-2 2v14c0 1.1.9 2 2 2h14c1.1 0 2-.9 2-2V5c0-1.1-.9-2-2-2zM9 17H7v-7h2v7zm4 0h-2V7h2v10zm4 0h-2v-4h2v4z\"/>\n",
              "    </g>\n",
              "</svg>\n",
              "  </button>\n",
              "\n",
              "<style>\n",
              "  .colab-df-quickchart {\n",
              "      --bg-color: #E8F0FE;\n",
              "      --fill-color: #1967D2;\n",
              "      --hover-bg-color: #E2EBFA;\n",
              "      --hover-fill-color: #174EA6;\n",
              "      --disabled-fill-color: #AAA;\n",
              "      --disabled-bg-color: #DDD;\n",
              "  }\n",
              "\n",
              "  [theme=dark] .colab-df-quickchart {\n",
              "      --bg-color: #3B4455;\n",
              "      --fill-color: #D2E3FC;\n",
              "      --hover-bg-color: #434B5C;\n",
              "      --hover-fill-color: #FFFFFF;\n",
              "      --disabled-bg-color: #3B4455;\n",
              "      --disabled-fill-color: #666;\n",
              "  }\n",
              "\n",
              "  .colab-df-quickchart {\n",
              "    background-color: var(--bg-color);\n",
              "    border: none;\n",
              "    border-radius: 50%;\n",
              "    cursor: pointer;\n",
              "    display: none;\n",
              "    fill: var(--fill-color);\n",
              "    height: 32px;\n",
              "    padding: 0;\n",
              "    width: 32px;\n",
              "  }\n",
              "\n",
              "  .colab-df-quickchart:hover {\n",
              "    background-color: var(--hover-bg-color);\n",
              "    box-shadow: 0 1px 2px rgba(60, 64, 67, 0.3), 0 1px 3px 1px rgba(60, 64, 67, 0.15);\n",
              "    fill: var(--button-hover-fill-color);\n",
              "  }\n",
              "\n",
              "  .colab-df-quickchart-complete:disabled,\n",
              "  .colab-df-quickchart-complete:disabled:hover {\n",
              "    background-color: var(--disabled-bg-color);\n",
              "    fill: var(--disabled-fill-color);\n",
              "    box-shadow: none;\n",
              "  }\n",
              "\n",
              "  .colab-df-spinner {\n",
              "    border: 2px solid var(--fill-color);\n",
              "    border-color: transparent;\n",
              "    border-bottom-color: var(--fill-color);\n",
              "    animation:\n",
              "      spin 1s steps(1) infinite;\n",
              "  }\n",
              "\n",
              "  @keyframes spin {\n",
              "    0% {\n",
              "      border-color: transparent;\n",
              "      border-bottom-color: var(--fill-color);\n",
              "      border-left-color: var(--fill-color);\n",
              "    }\n",
              "    20% {\n",
              "      border-color: transparent;\n",
              "      border-left-color: var(--fill-color);\n",
              "      border-top-color: var(--fill-color);\n",
              "    }\n",
              "    30% {\n",
              "      border-color: transparent;\n",
              "      border-left-color: var(--fill-color);\n",
              "      border-top-color: var(--fill-color);\n",
              "      border-right-color: var(--fill-color);\n",
              "    }\n",
              "    40% {\n",
              "      border-color: transparent;\n",
              "      border-right-color: var(--fill-color);\n",
              "      border-top-color: var(--fill-color);\n",
              "    }\n",
              "    60% {\n",
              "      border-color: transparent;\n",
              "      border-right-color: var(--fill-color);\n",
              "    }\n",
              "    80% {\n",
              "      border-color: transparent;\n",
              "      border-right-color: var(--fill-color);\n",
              "      border-bottom-color: var(--fill-color);\n",
              "    }\n",
              "    90% {\n",
              "      border-color: transparent;\n",
              "      border-bottom-color: var(--fill-color);\n",
              "    }\n",
              "  }\n",
              "</style>\n",
              "\n",
              "  <script>\n",
              "    async function quickchart(key) {\n",
              "      const quickchartButtonEl =\n",
              "        document.querySelector('#' + key + ' button');\n",
              "      quickchartButtonEl.disabled = true;  // To prevent multiple clicks.\n",
              "      quickchartButtonEl.classList.add('colab-df-spinner');\n",
              "      try {\n",
              "        const charts = await google.colab.kernel.invokeFunction(\n",
              "            'suggestCharts', [key], {});\n",
              "      } catch (error) {\n",
              "        console.error('Error during call to suggestCharts:', error);\n",
              "      }\n",
              "      quickchartButtonEl.classList.remove('colab-df-spinner');\n",
              "      quickchartButtonEl.classList.add('colab-df-quickchart-complete');\n",
              "    }\n",
              "    (() => {\n",
              "      let quickchartButtonEl =\n",
              "        document.querySelector('#df-eafbf4f5-1df4-49dc-b360-c7fa4132cbea button');\n",
              "      quickchartButtonEl.style.display =\n",
              "        google.colab.kernel.accessAllowed ? 'block' : 'none';\n",
              "    })();\n",
              "  </script>\n",
              "</div>\n",
              "    </div>\n",
              "  </div>\n"
            ],
            "application/vnd.google.colaboratory.intrinsic+json": {
              "type": "dataframe",
              "variable_name": "total_income_debt",
              "summary": "{\n  \"name\": \"total_income_debt\",\n  \"rows\": 5,\n  \"fields\": [\n    {\n      \"column\": [\n        \"total_income_category\",\n        \"\"\n      ],\n      \"properties\": {\n        \"dtype\": \"string\",\n        \"num_unique_values\": 5,\n        \"samples\": [\n          \"B\",\n          \"E\",\n          \"C\"\n        ],\n        \"semantic_type\": \"\",\n        \"description\": \"\"\n      }\n    },\n    {\n      \"column\": [\n        \"count\",\n        \"debt\"\n      ],\n      \"properties\": {\n        \"dtype\": \"number\",\n        \"std\": 6850,\n        \"min\": 22,\n        \"max\": 15921,\n        \"num_unique_values\": 5,\n        \"samples\": [\n          5014,\n          22,\n          15921\n        ],\n        \"semantic_type\": \"\",\n        \"description\": \"\"\n      }\n    },\n    {\n      \"column\": [\n        \"sum\",\n        \"debt\"\n      ],\n      \"properties\": {\n        \"dtype\": \"number\",\n        \"std\": 582,\n        \"min\": 2,\n        \"max\": 1353,\n        \"num_unique_values\": 4,\n        \"samples\": [\n          354,\n          21,\n          2\n        ],\n        \"semantic_type\": \"\",\n        \"description\": \"\"\n      }\n    },\n    {\n      \"column\": [\n        \"conversion_debt\",\n        \"\"\n      ],\n      \"properties\": {\n        \"dtype\": \"number\",\n        \"std\": 1.2142247173555298,\n        \"min\": 6.017191977077363,\n        \"max\": 9.090909090909092,\n        \"num_unique_values\": 5,\n        \"samples\": [\n          7.060231352213801,\n          9.090909090909092,\n          8.498209911437723\n        ],\n        \"semantic_type\": \"\",\n        \"description\": \"\"\n      }\n    }\n  ]\n}"
            }
          },
          "metadata": {},
          "execution_count": 27
        }
      ],
      "source": [
        "#создадим сводную таблицу по столбцу total_income_category\n",
        "total_income_debt = data.pivot_table(index='total_income_category', values='debt', aggfunc=['count','sum'])\n",
        "total_income_debt['conversion_debt'] = (total_income_debt[('sum', 'debt')]/total_income_debt[('count', 'debt')])*100\n",
        "total_income_debt"
      ]
    },
    {
      "cell_type": "markdown",
      "id": "11159146",
      "metadata": {
        "id": "11159146"
      },
      "source": [
        "**Вывод:** Прямая зависимость между уровнем дохода и неуплатой кредита в срок наблюдается только между категориями B (200001–1000000 руб.) - 7,06% и категорией дохода C (50001–200000 руб.) - 8,49%. Другие категории доходов мы не можем учитывать, т.к. выборки по категориям A, D и E недостаточно. Следовательно, чаще возращают кредит клиенты с более высоким уровнем дохода."
      ]
    },
    {
      "cell_type": "markdown",
      "id": "24950278",
      "metadata": {
        "deletable": false,
        "editable": false,
        "id": "24950278"
      },
      "source": [
        "#### Зависимость от цели кредита"
      ]
    },
    {
      "cell_type": "markdown",
      "source": [
        "**Гипотеза:**\n",
        "\n",
        "Оказывают ли влияние разные цели кредита на его возврат в срок?"
      ],
      "metadata": {
        "id": "Ju35KjAZndXE"
      },
      "id": "Ju35KjAZndXE"
    },
    {
      "cell_type": "code",
      "execution_count": null,
      "id": "1704f47a",
      "metadata": {
        "deletable": false,
        "id": "1704f47a",
        "outputId": "e3a2596b-a356-4901-842d-cd362da7e9d7",
        "colab": {
          "base_uri": "https://localhost:8080/",
          "height": 238
        }
      },
      "outputs": [
        {
          "output_type": "execute_result",
          "data": {
            "text/plain": [
              "                          count  sum conversion_debt\n",
              "                           debt debt                \n",
              "purpose_category                                    \n",
              "операции с автомобилем     4279  400        9.347978\n",
              "операции с недвижимостью  10751  780        7.255139\n",
              "получение образования      3988  369        9.252758\n",
              "проведение свадьбы         2313  183        7.911803"
            ],
            "text/html": [
              "\n",
              "  <div id=\"df-8deca1cb-d8ba-4893-8fd5-8f71106d0b0f\" class=\"colab-df-container\">\n",
              "    <div>\n",
              "<style scoped>\n",
              "    .dataframe tbody tr th:only-of-type {\n",
              "        vertical-align: middle;\n",
              "    }\n",
              "\n",
              "    .dataframe tbody tr th {\n",
              "        vertical-align: top;\n",
              "    }\n",
              "\n",
              "    .dataframe thead tr th {\n",
              "        text-align: left;\n",
              "    }\n",
              "\n",
              "    .dataframe thead tr:last-of-type th {\n",
              "        text-align: right;\n",
              "    }\n",
              "</style>\n",
              "<table border=\"1\" class=\"dataframe\">\n",
              "  <thead>\n",
              "    <tr>\n",
              "      <th></th>\n",
              "      <th>count</th>\n",
              "      <th>sum</th>\n",
              "      <th>conversion_debt</th>\n",
              "    </tr>\n",
              "    <tr>\n",
              "      <th></th>\n",
              "      <th>debt</th>\n",
              "      <th>debt</th>\n",
              "      <th></th>\n",
              "    </tr>\n",
              "    <tr>\n",
              "      <th>purpose_category</th>\n",
              "      <th></th>\n",
              "      <th></th>\n",
              "      <th></th>\n",
              "    </tr>\n",
              "  </thead>\n",
              "  <tbody>\n",
              "    <tr>\n",
              "      <th>операции с автомобилем</th>\n",
              "      <td>4279</td>\n",
              "      <td>400</td>\n",
              "      <td>9.347978</td>\n",
              "    </tr>\n",
              "    <tr>\n",
              "      <th>операции с недвижимостью</th>\n",
              "      <td>10751</td>\n",
              "      <td>780</td>\n",
              "      <td>7.255139</td>\n",
              "    </tr>\n",
              "    <tr>\n",
              "      <th>получение образования</th>\n",
              "      <td>3988</td>\n",
              "      <td>369</td>\n",
              "      <td>9.252758</td>\n",
              "    </tr>\n",
              "    <tr>\n",
              "      <th>проведение свадьбы</th>\n",
              "      <td>2313</td>\n",
              "      <td>183</td>\n",
              "      <td>7.911803</td>\n",
              "    </tr>\n",
              "  </tbody>\n",
              "</table>\n",
              "</div>\n",
              "    <div class=\"colab-df-buttons\">\n",
              "\n",
              "  <div class=\"colab-df-container\">\n",
              "    <button class=\"colab-df-convert\" onclick=\"convertToInteractive('df-8deca1cb-d8ba-4893-8fd5-8f71106d0b0f')\"\n",
              "            title=\"Convert this dataframe to an interactive table.\"\n",
              "            style=\"display:none;\">\n",
              "\n",
              "  <svg xmlns=\"http://www.w3.org/2000/svg\" height=\"24px\" viewBox=\"0 -960 960 960\">\n",
              "    <path d=\"M120-120v-720h720v720H120Zm60-500h600v-160H180v160Zm220 220h160v-160H400v160Zm0 220h160v-160H400v160ZM180-400h160v-160H180v160Zm440 0h160v-160H620v160ZM180-180h160v-160H180v160Zm440 0h160v-160H620v160Z\"/>\n",
              "  </svg>\n",
              "    </button>\n",
              "\n",
              "  <style>\n",
              "    .colab-df-container {\n",
              "      display:flex;\n",
              "      gap: 12px;\n",
              "    }\n",
              "\n",
              "    .colab-df-convert {\n",
              "      background-color: #E8F0FE;\n",
              "      border: none;\n",
              "      border-radius: 50%;\n",
              "      cursor: pointer;\n",
              "      display: none;\n",
              "      fill: #1967D2;\n",
              "      height: 32px;\n",
              "      padding: 0 0 0 0;\n",
              "      width: 32px;\n",
              "    }\n",
              "\n",
              "    .colab-df-convert:hover {\n",
              "      background-color: #E2EBFA;\n",
              "      box-shadow: 0px 1px 2px rgba(60, 64, 67, 0.3), 0px 1px 3px 1px rgba(60, 64, 67, 0.15);\n",
              "      fill: #174EA6;\n",
              "    }\n",
              "\n",
              "    .colab-df-buttons div {\n",
              "      margin-bottom: 4px;\n",
              "    }\n",
              "\n",
              "    [theme=dark] .colab-df-convert {\n",
              "      background-color: #3B4455;\n",
              "      fill: #D2E3FC;\n",
              "    }\n",
              "\n",
              "    [theme=dark] .colab-df-convert:hover {\n",
              "      background-color: #434B5C;\n",
              "      box-shadow: 0px 1px 3px 1px rgba(0, 0, 0, 0.15);\n",
              "      filter: drop-shadow(0px 1px 2px rgba(0, 0, 0, 0.3));\n",
              "      fill: #FFFFFF;\n",
              "    }\n",
              "  </style>\n",
              "\n",
              "    <script>\n",
              "      const buttonEl =\n",
              "        document.querySelector('#df-8deca1cb-d8ba-4893-8fd5-8f71106d0b0f button.colab-df-convert');\n",
              "      buttonEl.style.display =\n",
              "        google.colab.kernel.accessAllowed ? 'block' : 'none';\n",
              "\n",
              "      async function convertToInteractive(key) {\n",
              "        const element = document.querySelector('#df-8deca1cb-d8ba-4893-8fd5-8f71106d0b0f');\n",
              "        const dataTable =\n",
              "          await google.colab.kernel.invokeFunction('convertToInteractive',\n",
              "                                                    [key], {});\n",
              "        if (!dataTable) return;\n",
              "\n",
              "        const docLinkHtml = 'Like what you see? Visit the ' +\n",
              "          '<a target=\"_blank\" href=https://colab.research.google.com/notebooks/data_table.ipynb>data table notebook</a>'\n",
              "          + ' to learn more about interactive tables.';\n",
              "        element.innerHTML = '';\n",
              "        dataTable['output_type'] = 'display_data';\n",
              "        await google.colab.output.renderOutput(dataTable, element);\n",
              "        const docLink = document.createElement('div');\n",
              "        docLink.innerHTML = docLinkHtml;\n",
              "        element.appendChild(docLink);\n",
              "      }\n",
              "    </script>\n",
              "  </div>\n",
              "\n",
              "\n",
              "<div id=\"df-71c508b0-f394-46e4-87c8-b269d10a2e5f\">\n",
              "  <button class=\"colab-df-quickchart\" onclick=\"quickchart('df-71c508b0-f394-46e4-87c8-b269d10a2e5f')\"\n",
              "            title=\"Suggest charts\"\n",
              "            style=\"display:none;\">\n",
              "\n",
              "<svg xmlns=\"http://www.w3.org/2000/svg\" height=\"24px\"viewBox=\"0 0 24 24\"\n",
              "     width=\"24px\">\n",
              "    <g>\n",
              "        <path d=\"M19 3H5c-1.1 0-2 .9-2 2v14c0 1.1.9 2 2 2h14c1.1 0 2-.9 2-2V5c0-1.1-.9-2-2-2zM9 17H7v-7h2v7zm4 0h-2V7h2v10zm4 0h-2v-4h2v4z\"/>\n",
              "    </g>\n",
              "</svg>\n",
              "  </button>\n",
              "\n",
              "<style>\n",
              "  .colab-df-quickchart {\n",
              "      --bg-color: #E8F0FE;\n",
              "      --fill-color: #1967D2;\n",
              "      --hover-bg-color: #E2EBFA;\n",
              "      --hover-fill-color: #174EA6;\n",
              "      --disabled-fill-color: #AAA;\n",
              "      --disabled-bg-color: #DDD;\n",
              "  }\n",
              "\n",
              "  [theme=dark] .colab-df-quickchart {\n",
              "      --bg-color: #3B4455;\n",
              "      --fill-color: #D2E3FC;\n",
              "      --hover-bg-color: #434B5C;\n",
              "      --hover-fill-color: #FFFFFF;\n",
              "      --disabled-bg-color: #3B4455;\n",
              "      --disabled-fill-color: #666;\n",
              "  }\n",
              "\n",
              "  .colab-df-quickchart {\n",
              "    background-color: var(--bg-color);\n",
              "    border: none;\n",
              "    border-radius: 50%;\n",
              "    cursor: pointer;\n",
              "    display: none;\n",
              "    fill: var(--fill-color);\n",
              "    height: 32px;\n",
              "    padding: 0;\n",
              "    width: 32px;\n",
              "  }\n",
              "\n",
              "  .colab-df-quickchart:hover {\n",
              "    background-color: var(--hover-bg-color);\n",
              "    box-shadow: 0 1px 2px rgba(60, 64, 67, 0.3), 0 1px 3px 1px rgba(60, 64, 67, 0.15);\n",
              "    fill: var(--button-hover-fill-color);\n",
              "  }\n",
              "\n",
              "  .colab-df-quickchart-complete:disabled,\n",
              "  .colab-df-quickchart-complete:disabled:hover {\n",
              "    background-color: var(--disabled-bg-color);\n",
              "    fill: var(--disabled-fill-color);\n",
              "    box-shadow: none;\n",
              "  }\n",
              "\n",
              "  .colab-df-spinner {\n",
              "    border: 2px solid var(--fill-color);\n",
              "    border-color: transparent;\n",
              "    border-bottom-color: var(--fill-color);\n",
              "    animation:\n",
              "      spin 1s steps(1) infinite;\n",
              "  }\n",
              "\n",
              "  @keyframes spin {\n",
              "    0% {\n",
              "      border-color: transparent;\n",
              "      border-bottom-color: var(--fill-color);\n",
              "      border-left-color: var(--fill-color);\n",
              "    }\n",
              "    20% {\n",
              "      border-color: transparent;\n",
              "      border-left-color: var(--fill-color);\n",
              "      border-top-color: var(--fill-color);\n",
              "    }\n",
              "    30% {\n",
              "      border-color: transparent;\n",
              "      border-left-color: var(--fill-color);\n",
              "      border-top-color: var(--fill-color);\n",
              "      border-right-color: var(--fill-color);\n",
              "    }\n",
              "    40% {\n",
              "      border-color: transparent;\n",
              "      border-right-color: var(--fill-color);\n",
              "      border-top-color: var(--fill-color);\n",
              "    }\n",
              "    60% {\n",
              "      border-color: transparent;\n",
              "      border-right-color: var(--fill-color);\n",
              "    }\n",
              "    80% {\n",
              "      border-color: transparent;\n",
              "      border-right-color: var(--fill-color);\n",
              "      border-bottom-color: var(--fill-color);\n",
              "    }\n",
              "    90% {\n",
              "      border-color: transparent;\n",
              "      border-bottom-color: var(--fill-color);\n",
              "    }\n",
              "  }\n",
              "</style>\n",
              "\n",
              "  <script>\n",
              "    async function quickchart(key) {\n",
              "      const quickchartButtonEl =\n",
              "        document.querySelector('#' + key + ' button');\n",
              "      quickchartButtonEl.disabled = true;  // To prevent multiple clicks.\n",
              "      quickchartButtonEl.classList.add('colab-df-spinner');\n",
              "      try {\n",
              "        const charts = await google.colab.kernel.invokeFunction(\n",
              "            'suggestCharts', [key], {});\n",
              "      } catch (error) {\n",
              "        console.error('Error during call to suggestCharts:', error);\n",
              "      }\n",
              "      quickchartButtonEl.classList.remove('colab-df-spinner');\n",
              "      quickchartButtonEl.classList.add('colab-df-quickchart-complete');\n",
              "    }\n",
              "    (() => {\n",
              "      let quickchartButtonEl =\n",
              "        document.querySelector('#df-71c508b0-f394-46e4-87c8-b269d10a2e5f button');\n",
              "      quickchartButtonEl.style.display =\n",
              "        google.colab.kernel.accessAllowed ? 'block' : 'none';\n",
              "    })();\n",
              "  </script>\n",
              "</div>\n",
              "    </div>\n",
              "  </div>\n"
            ],
            "application/vnd.google.colaboratory.intrinsic+json": {
              "type": "dataframe",
              "variable_name": "purpose_debt",
              "summary": "{\n  \"name\": \"purpose_debt\",\n  \"rows\": 4,\n  \"fields\": [\n    {\n      \"column\": [\n        \"purpose_category\",\n        \"\"\n      ],\n      \"properties\": {\n        \"dtype\": \"string\",\n        \"num_unique_values\": 4,\n        \"samples\": [\n          \"\\u043e\\u043f\\u0435\\u0440\\u0430\\u0446\\u0438\\u0438 \\u0441 \\u043d\\u0435\\u0434\\u0432\\u0438\\u0436\\u0438\\u043c\\u043e\\u0441\\u0442\\u044c\\u044e\",\n          \"\\u043f\\u0440\\u043e\\u0432\\u0435\\u0434\\u0435\\u043d\\u0438\\u0435 \\u0441\\u0432\\u0430\\u0434\\u044c\\u0431\\u044b\",\n          \"\\u043e\\u043f\\u0435\\u0440\\u0430\\u0446\\u0438\\u0438 \\u0441 \\u0430\\u0432\\u0442\\u043e\\u043c\\u043e\\u0431\\u0438\\u043b\\u0435\\u043c\"\n        ],\n        \"semantic_type\": \"\",\n        \"description\": \"\"\n      }\n    },\n    {\n      \"column\": [\n        \"count\",\n        \"debt\"\n      ],\n      \"properties\": {\n        \"dtype\": \"number\",\n        \"std\": 3714,\n        \"min\": 2313,\n        \"max\": 10751,\n        \"num_unique_values\": 4,\n        \"samples\": [\n          10751,\n          2313,\n          4279\n        ],\n        \"semantic_type\": \"\",\n        \"description\": \"\"\n      }\n    },\n    {\n      \"column\": [\n        \"sum\",\n        \"debt\"\n      ],\n      \"properties\": {\n        \"dtype\": \"number\",\n        \"std\": 250,\n        \"min\": 183,\n        \"max\": 780,\n        \"num_unique_values\": 4,\n        \"samples\": [\n          780,\n          183,\n          400\n        ],\n        \"semantic_type\": \"\",\n        \"description\": \"\"\n      }\n    },\n    {\n      \"column\": [\n        \"conversion_debt\",\n        \"\"\n      ],\n      \"properties\": {\n        \"dtype\": \"number\",\n        \"std\": 1.0275981557096816,\n        \"min\": 7.255139056831923,\n        \"max\": 9.34797849964945,\n        \"num_unique_values\": 4,\n        \"samples\": [\n          7.255139056831923,\n          7.911802853437094,\n          9.34797849964945\n        ],\n        \"semantic_type\": \"\",\n        \"description\": \"\"\n      }\n    }\n  ]\n}"
            }
          },
          "metadata": {},
          "execution_count": 28
        }
      ],
      "source": [
        "#создадим сводную таблицу по столбцу purpose_category\n",
        "purpose_debt = data.pivot_table(index='purpose_category', values='debt', aggfunc=['count','sum'])\n",
        "purpose_debt['conversion_debt'] = (purpose_debt[('sum', 'debt')]/purpose_debt[('count', 'debt')])*100\n",
        "purpose_debt"
      ]
    },
    {
      "cell_type": "markdown",
      "id": "399d9538",
      "metadata": {
        "deletable": false,
        "id": "399d9538"
      },
      "source": [
        "**Вывод:** Операции с автомобилем имеют самую большую долю невозвратов в срок - 9,35%, наименьшую же имеют операции с недвижимостью - 7,25%."
      ]
    },
    {
      "cell_type": "markdown",
      "id": "432eefa6",
      "metadata": {
        "deletable": false,
        "editable": false,
        "id": "432eefa6"
      },
      "source": [
        "## Общий вывод"
      ]
    },
    {
      "cell_type": "markdown",
      "id": "c7da720d",
      "metadata": {
        "id": "c7da720d"
      },
      "source": [
        "В ходе исследования подтвердилось лишь две зависимости:\n",
        "1. Клиенты, которые официально состоят в браке или состояли чаще всего погашают кредит в срок, особенно чаще в срок платят овдовевшие или разведенные клиенты.\n",
        "2. Клиенты с более высоким доходом реже допускают просрочку по кредиту.\n",
        "\n",
        "Помимо этого частично подтвердилась зависимость с количеством детей, но она лишь показывает, что бездетные клиенты лучше всего справляются с обязанностями по кредиту. Также лучше всего выдавать кредиты на покупки, связанные с операциями с недвижимостью или для проведения свадеб, т.к. по ним невозврат в срок гораздо меньше.\n",
        "\n",
        "Подведем итоги и составим образ потенциальных клиентов, способных погасить кредит в срок в рамках модели кредитного скоринга:\n",
        "1. Бездетные.\n",
        "2. Состоят или состояли в браке, но не  в гражданском.\n",
        "3. Имеют доход категории B или выше.\n",
        "4. Целью кредита являются операции с недвижимостью или проведение свадьбы.\n",
        "\n",
        "В отношении следующих клиентов стоит пересмотреть скоринговую политику:\n",
        "1. Клиентов с детьми.\n",
        "2. Не женатых или холостых, а также клиентов, состоящих в гражданском браке.\n",
        "3. Клиентов, имеющих доход ниже категории B.\n",
        "4. Кредитов, целями которых выступают операции с автомобилем или получением образования."
      ]
    }
  ],
  "metadata": {
    "ExecuteTimeLog": [
      {
        "duration": 542,
        "start_time": "2022-11-08T14:30:49.223Z"
      },
      {
        "duration": 33,
        "start_time": "2022-11-08T14:30:49.768Z"
      },
      {
        "duration": 25,
        "start_time": "2022-11-08T14:30:49.804Z"
      },
      {
        "duration": 15,
        "start_time": "2022-11-08T14:30:49.832Z"
      },
      {
        "duration": 58,
        "start_time": "2022-11-08T14:30:49.871Z"
      },
      {
        "duration": 7,
        "start_time": "2022-11-08T14:30:49.932Z"
      },
      {
        "duration": 16,
        "start_time": "2022-11-08T14:30:49.941Z"
      },
      {
        "duration": 23,
        "start_time": "2022-11-08T14:30:49.959Z"
      },
      {
        "duration": 14,
        "start_time": "2022-11-08T14:30:49.985Z"
      },
      {
        "duration": 24,
        "start_time": "2022-11-08T14:30:50.002Z"
      },
      {
        "duration": 47,
        "start_time": "2022-11-08T14:30:50.028Z"
      },
      {
        "duration": 11,
        "start_time": "2022-11-08T14:30:50.077Z"
      },
      {
        "duration": 10,
        "start_time": "2022-11-08T14:30:50.090Z"
      },
      {
        "duration": 26,
        "start_time": "2022-11-08T14:30:50.102Z"
      },
      {
        "duration": 26,
        "start_time": "2022-11-08T14:30:50.130Z"
      },
      {
        "duration": 31,
        "start_time": "2022-11-08T14:30:50.158Z"
      },
      {
        "duration": 5,
        "start_time": "2022-11-08T14:30:50.191Z"
      },
      {
        "duration": 15,
        "start_time": "2022-11-08T14:30:50.198Z"
      },
      {
        "duration": 14,
        "start_time": "2022-11-08T14:30:50.215Z"
      },
      {
        "duration": 12,
        "start_time": "2022-11-08T14:30:50.231Z"
      },
      {
        "duration": 29,
        "start_time": "2022-11-08T14:30:50.245Z"
      },
      {
        "duration": 6,
        "start_time": "2022-11-08T14:30:50.276Z"
      },
      {
        "duration": 10,
        "start_time": "2022-11-08T14:30:50.284Z"
      },
      {
        "duration": 6,
        "start_time": "2022-11-08T14:30:50.297Z"
      },
      {
        "duration": 13,
        "start_time": "2022-11-08T14:30:50.305Z"
      },
      {
        "duration": 502,
        "start_time": "2022-11-09T14:23:44.869Z"
      },
      {
        "duration": 24,
        "start_time": "2022-11-09T14:23:45.373Z"
      },
      {
        "duration": 16,
        "start_time": "2022-11-09T14:23:45.399Z"
      },
      {
        "duration": 11,
        "start_time": "2022-11-09T14:23:45.417Z"
      },
      {
        "duration": 43,
        "start_time": "2022-11-09T14:23:45.430Z"
      },
      {
        "duration": 4,
        "start_time": "2022-11-09T14:23:45.474Z"
      },
      {
        "duration": 13,
        "start_time": "2022-11-09T14:23:45.480Z"
      },
      {
        "duration": 20,
        "start_time": "2022-11-09T14:23:45.494Z"
      },
      {
        "duration": 10,
        "start_time": "2022-11-09T14:23:45.516Z"
      },
      {
        "duration": 4,
        "start_time": "2022-11-09T14:23:45.529Z"
      },
      {
        "duration": 41,
        "start_time": "2022-11-09T14:23:45.535Z"
      },
      {
        "duration": 10,
        "start_time": "2022-11-09T14:23:45.578Z"
      },
      {
        "duration": 4,
        "start_time": "2022-11-09T14:23:45.614Z"
      },
      {
        "duration": 18,
        "start_time": "2022-11-09T14:23:45.619Z"
      },
      {
        "duration": 23,
        "start_time": "2022-11-09T14:23:45.639Z"
      },
      {
        "duration": 19,
        "start_time": "2022-11-09T14:23:45.664Z"
      },
      {
        "duration": 4,
        "start_time": "2022-11-09T14:23:45.684Z"
      },
      {
        "duration": 32,
        "start_time": "2022-11-09T14:23:45.689Z"
      },
      {
        "duration": 6,
        "start_time": "2022-11-09T14:23:45.723Z"
      },
      {
        "duration": 6,
        "start_time": "2022-11-09T14:23:45.731Z"
      },
      {
        "duration": 13,
        "start_time": "2022-11-09T14:23:45.739Z"
      },
      {
        "duration": 4,
        "start_time": "2022-11-09T14:23:45.754Z"
      },
      {
        "duration": 5,
        "start_time": "2022-11-09T14:23:45.760Z"
      },
      {
        "duration": 5,
        "start_time": "2022-11-09T14:23:45.766Z"
      },
      {
        "duration": 9,
        "start_time": "2022-11-09T14:23:45.772Z"
      },
      {
        "duration": 14,
        "start_time": "2022-11-09T15:10:33.350Z"
      },
      {
        "duration": 13,
        "start_time": "2022-11-09T15:10:39.661Z"
      },
      {
        "duration": 11,
        "start_time": "2022-11-09T15:11:05.321Z"
      },
      {
        "duration": 11,
        "start_time": "2022-11-09T15:11:57.035Z"
      },
      {
        "duration": 4,
        "start_time": "2022-11-09T15:20:56.520Z"
      },
      {
        "duration": 5,
        "start_time": "2022-11-09T15:23:39.670Z"
      },
      {
        "duration": 468,
        "start_time": "2022-11-09T15:23:47.648Z"
      },
      {
        "duration": 26,
        "start_time": "2022-11-09T15:23:48.118Z"
      },
      {
        "duration": 19,
        "start_time": "2022-11-09T15:23:48.146Z"
      },
      {
        "duration": 12,
        "start_time": "2022-11-09T15:23:48.168Z"
      },
      {
        "duration": 69,
        "start_time": "2022-11-09T15:23:48.182Z"
      },
      {
        "duration": 3,
        "start_time": "2022-11-09T15:23:48.253Z"
      },
      {
        "duration": 14,
        "start_time": "2022-11-09T15:23:48.258Z"
      },
      {
        "duration": 4,
        "start_time": "2022-11-09T15:23:48.274Z"
      },
      {
        "duration": 33,
        "start_time": "2022-11-09T15:23:48.280Z"
      },
      {
        "duration": 5,
        "start_time": "2022-11-09T15:23:48.317Z"
      },
      {
        "duration": 38,
        "start_time": "2022-11-09T15:23:48.323Z"
      },
      {
        "duration": 11,
        "start_time": "2022-11-09T15:23:48.363Z"
      },
      {
        "duration": 6,
        "start_time": "2022-11-09T15:23:48.376Z"
      },
      {
        "duration": 42,
        "start_time": "2022-11-09T15:23:48.383Z"
      },
      {
        "duration": 24,
        "start_time": "2022-11-09T15:23:48.427Z"
      },
      {
        "duration": 19,
        "start_time": "2022-11-09T15:23:48.452Z"
      },
      {
        "duration": 4,
        "start_time": "2022-11-09T15:23:48.472Z"
      },
      {
        "duration": 14,
        "start_time": "2022-11-09T15:23:48.477Z"
      },
      {
        "duration": 28,
        "start_time": "2022-11-09T15:23:48.492Z"
      },
      {
        "duration": 5,
        "start_time": "2022-11-09T15:23:48.521Z"
      },
      {
        "duration": 11,
        "start_time": "2022-11-09T15:23:48.528Z"
      },
      {
        "duration": 7,
        "start_time": "2022-11-09T15:23:48.541Z"
      },
      {
        "duration": 4,
        "start_time": "2022-11-09T15:23:48.550Z"
      },
      {
        "duration": 5,
        "start_time": "2022-11-09T15:23:48.555Z"
      },
      {
        "duration": 5,
        "start_time": "2022-11-09T15:23:48.561Z"
      },
      {
        "duration": 6,
        "start_time": "2022-11-09T15:24:14.203Z"
      },
      {
        "duration": 11,
        "start_time": "2022-11-09T15:27:31.380Z"
      },
      {
        "duration": 10,
        "start_time": "2022-11-09T15:27:32.924Z"
      },
      {
        "duration": 8,
        "start_time": "2022-11-09T15:27:34.137Z"
      },
      {
        "duration": 25,
        "start_time": "2022-11-09T15:28:54.055Z"
      },
      {
        "duration": 17,
        "start_time": "2022-11-09T15:28:59.688Z"
      },
      {
        "duration": 75,
        "start_time": "2022-11-09T15:37:56.908Z"
      },
      {
        "duration": 11,
        "start_time": "2022-11-09T15:38:04.290Z"
      },
      {
        "duration": 10,
        "start_time": "2022-11-09T15:38:14.517Z"
      },
      {
        "duration": 10,
        "start_time": "2022-11-09T15:38:30.744Z"
      },
      {
        "duration": 10,
        "start_time": "2022-11-09T15:38:43.741Z"
      },
      {
        "duration": 10,
        "start_time": "2022-11-09T15:38:51.126Z"
      },
      {
        "duration": 10,
        "start_time": "2022-11-09T15:41:37.497Z"
      },
      {
        "duration": 14,
        "start_time": "2022-11-09T15:41:58.108Z"
      },
      {
        "duration": 29,
        "start_time": "2022-11-10T00:53:47.564Z"
      },
      {
        "duration": 5,
        "start_time": "2022-11-10T00:59:57.044Z"
      },
      {
        "duration": 18,
        "start_time": "2022-11-10T01:00:01.721Z"
      },
      {
        "duration": 16,
        "start_time": "2022-11-10T01:00:21.294Z"
      },
      {
        "duration": 16,
        "start_time": "2022-11-10T01:00:43.659Z"
      },
      {
        "duration": 13,
        "start_time": "2022-11-10T01:01:52.857Z"
      },
      {
        "duration": 17,
        "start_time": "2022-11-10T01:03:18.296Z"
      },
      {
        "duration": 22,
        "start_time": "2022-11-10T01:04:35.127Z"
      },
      {
        "duration": 17,
        "start_time": "2022-11-10T01:05:19.148Z"
      },
      {
        "duration": 18,
        "start_time": "2022-11-10T01:06:17.271Z"
      },
      {
        "duration": 14,
        "start_time": "2022-11-10T02:13:05.591Z"
      },
      {
        "duration": 16,
        "start_time": "2022-11-10T02:24:52.536Z"
      },
      {
        "duration": 16,
        "start_time": "2022-11-10T02:25:21.408Z"
      },
      {
        "duration": 530,
        "start_time": "2022-11-10T02:25:27.508Z"
      },
      {
        "duration": 23,
        "start_time": "2022-11-10T02:25:28.041Z"
      },
      {
        "duration": 15,
        "start_time": "2022-11-10T02:25:28.066Z"
      },
      {
        "duration": 10,
        "start_time": "2022-11-10T02:25:28.084Z"
      },
      {
        "duration": 65,
        "start_time": "2022-11-10T02:25:28.096Z"
      },
      {
        "duration": 3,
        "start_time": "2022-11-10T02:25:28.163Z"
      },
      {
        "duration": 10,
        "start_time": "2022-11-10T02:25:28.168Z"
      },
      {
        "duration": 5,
        "start_time": "2022-11-10T02:25:28.179Z"
      },
      {
        "duration": 10,
        "start_time": "2022-11-10T02:25:28.186Z"
      },
      {
        "duration": 5,
        "start_time": "2022-11-10T02:25:28.198Z"
      },
      {
        "duration": 65,
        "start_time": "2022-11-10T02:25:28.204Z"
      },
      {
        "duration": 10,
        "start_time": "2022-11-10T02:25:28.271Z"
      },
      {
        "duration": 5,
        "start_time": "2022-11-10T02:25:28.283Z"
      },
      {
        "duration": 13,
        "start_time": "2022-11-10T02:25:28.289Z"
      },
      {
        "duration": 45,
        "start_time": "2022-11-10T02:25:28.304Z"
      },
      {
        "duration": 18,
        "start_time": "2022-11-10T02:25:28.351Z"
      },
      {
        "duration": 3,
        "start_time": "2022-11-10T02:25:28.371Z"
      },
      {
        "duration": 13,
        "start_time": "2022-11-10T02:25:28.376Z"
      },
      {
        "duration": 6,
        "start_time": "2022-11-10T02:25:28.391Z"
      },
      {
        "duration": 4,
        "start_time": "2022-11-10T02:25:28.398Z"
      },
      {
        "duration": 38,
        "start_time": "2022-11-10T02:25:28.403Z"
      },
      {
        "duration": 20,
        "start_time": "2022-11-10T02:25:28.443Z"
      },
      {
        "duration": 15,
        "start_time": "2022-11-10T02:25:28.465Z"
      },
      {
        "duration": 15,
        "start_time": "2022-11-10T02:25:28.482Z"
      },
      {
        "duration": 45,
        "start_time": "2022-11-10T02:25:28.498Z"
      },
      {
        "duration": 20,
        "start_time": "2022-11-10T02:26:57.762Z"
      },
      {
        "duration": 24,
        "start_time": "2022-11-10T02:27:16.538Z"
      },
      {
        "duration": 22,
        "start_time": "2022-11-10T02:27:27.008Z"
      },
      {
        "duration": 23,
        "start_time": "2022-11-10T02:27:31.575Z"
      },
      {
        "duration": 66,
        "start_time": "2022-11-10T02:40:56.258Z"
      },
      {
        "duration": 22,
        "start_time": "2022-11-10T02:41:21.593Z"
      },
      {
        "duration": 19,
        "start_time": "2022-11-10T02:41:36.903Z"
      },
      {
        "duration": 22,
        "start_time": "2022-11-10T02:42:05.090Z"
      },
      {
        "duration": 20,
        "start_time": "2022-11-10T02:42:07.004Z"
      },
      {
        "duration": 23,
        "start_time": "2022-11-10T02:53:13.405Z"
      },
      {
        "duration": 23,
        "start_time": "2022-11-10T02:53:22.140Z"
      },
      {
        "duration": 4,
        "start_time": "2022-11-10T02:53:31.794Z"
      },
      {
        "duration": 23,
        "start_time": "2022-11-10T02:53:37.126Z"
      },
      {
        "duration": 25,
        "start_time": "2022-11-10T02:54:00.314Z"
      },
      {
        "duration": 100,
        "start_time": "2022-11-10T02:54:52.796Z"
      },
      {
        "duration": 24,
        "start_time": "2022-11-10T02:54:57.428Z"
      },
      {
        "duration": 25,
        "start_time": "2022-11-10T02:55:10.524Z"
      },
      {
        "duration": 23,
        "start_time": "2022-11-10T02:55:22.047Z"
      },
      {
        "duration": 26,
        "start_time": "2022-11-10T02:55:58.826Z"
      },
      {
        "duration": 23,
        "start_time": "2022-11-10T02:56:35.379Z"
      },
      {
        "duration": 30,
        "start_time": "2022-11-10T02:56:38.822Z"
      },
      {
        "duration": 25,
        "start_time": "2022-11-10T02:56:49.575Z"
      },
      {
        "duration": 25,
        "start_time": "2022-11-10T02:56:59.644Z"
      },
      {
        "duration": 26,
        "start_time": "2022-11-10T02:57:04.011Z"
      },
      {
        "duration": 27,
        "start_time": "2022-11-10T02:57:15.184Z"
      },
      {
        "duration": 29,
        "start_time": "2022-11-10T02:57:21.087Z"
      },
      {
        "duration": 27,
        "start_time": "2022-11-10T02:57:24.271Z"
      },
      {
        "duration": 26,
        "start_time": "2022-11-10T02:58:35.421Z"
      },
      {
        "duration": 26,
        "start_time": "2022-11-10T02:58:43.962Z"
      },
      {
        "duration": 28,
        "start_time": "2022-11-10T03:09:04.628Z"
      },
      {
        "duration": 23,
        "start_time": "2022-11-10T03:09:47.261Z"
      },
      {
        "duration": 28,
        "start_time": "2022-11-10T03:10:11.284Z"
      },
      {
        "duration": 22,
        "start_time": "2022-11-10T03:13:02.264Z"
      },
      {
        "duration": 79,
        "start_time": "2022-11-10T03:13:08.079Z"
      },
      {
        "duration": 24,
        "start_time": "2022-11-10T03:17:50.035Z"
      },
      {
        "duration": 14,
        "start_time": "2022-11-10T03:18:02.632Z"
      },
      {
        "duration": 115,
        "start_time": "2022-11-10T19:54:51.002Z"
      },
      {
        "duration": 69,
        "start_time": "2022-11-10T19:57:26.297Z"
      },
      {
        "duration": 67,
        "start_time": "2022-11-10T19:57:51.101Z"
      },
      {
        "duration": 475,
        "start_time": "2022-11-10T19:58:32.747Z"
      },
      {
        "duration": 24,
        "start_time": "2022-11-10T19:58:33.224Z"
      },
      {
        "duration": 15,
        "start_time": "2022-11-10T19:58:33.250Z"
      },
      {
        "duration": 9,
        "start_time": "2022-11-10T19:58:33.266Z"
      },
      {
        "duration": 51,
        "start_time": "2022-11-10T19:58:33.277Z"
      },
      {
        "duration": 3,
        "start_time": "2022-11-10T19:58:33.330Z"
      },
      {
        "duration": 10,
        "start_time": "2022-11-10T19:58:33.335Z"
      },
      {
        "duration": 4,
        "start_time": "2022-11-10T19:58:33.347Z"
      },
      {
        "duration": 9,
        "start_time": "2022-11-10T19:58:33.352Z"
      },
      {
        "duration": 4,
        "start_time": "2022-11-10T19:58:33.363Z"
      },
      {
        "duration": 58,
        "start_time": "2022-11-10T19:58:33.369Z"
      },
      {
        "duration": 11,
        "start_time": "2022-11-10T19:58:33.429Z"
      },
      {
        "duration": 5,
        "start_time": "2022-11-10T19:58:33.441Z"
      },
      {
        "duration": 11,
        "start_time": "2022-11-10T19:58:33.448Z"
      },
      {
        "duration": 20,
        "start_time": "2022-11-10T19:58:33.460Z"
      },
      {
        "duration": 43,
        "start_time": "2022-11-10T19:58:33.482Z"
      },
      {
        "duration": 4,
        "start_time": "2022-11-10T19:58:33.527Z"
      },
      {
        "duration": 14,
        "start_time": "2022-11-10T19:58:33.533Z"
      },
      {
        "duration": 6,
        "start_time": "2022-11-10T19:58:33.548Z"
      },
      {
        "duration": 4,
        "start_time": "2022-11-10T19:58:33.555Z"
      },
      {
        "duration": 10,
        "start_time": "2022-11-10T19:58:33.560Z"
      },
      {
        "duration": 54,
        "start_time": "2022-11-10T19:58:33.572Z"
      },
      {
        "duration": 24,
        "start_time": "2022-11-10T19:58:33.628Z"
      },
      {
        "duration": 22,
        "start_time": "2022-11-10T19:58:33.653Z"
      },
      {
        "duration": 46,
        "start_time": "2022-11-10T19:58:33.676Z"
      },
      {
        "duration": 63,
        "start_time": "2022-11-10T20:09:06.550Z"
      }
    ],
    "colab": {
      "provenance": [],
      "toc_visible": true
    },
    "kernelspec": {
      "display_name": "Python 3 (ipykernel)",
      "language": "python",
      "name": "python3"
    },
    "language_info": {
      "codemirror_mode": {
        "name": "ipython",
        "version": 3
      },
      "file_extension": ".py",
      "mimetype": "text/x-python",
      "name": "python",
      "nbconvert_exporter": "python",
      "pygments_lexer": "ipython3",
      "version": "3.9.5"
    },
    "toc": {
      "base_numbering": 1,
      "nav_menu": {},
      "number_sections": true,
      "sideBar": true,
      "skip_h1_title": true,
      "title_cell": "Table of Contents",
      "title_sidebar": "Contents",
      "toc_cell": false,
      "toc_position": {},
      "toc_section_display": true,
      "toc_window_display": false
    }
  },
  "nbformat": 4,
  "nbformat_minor": 5
}
